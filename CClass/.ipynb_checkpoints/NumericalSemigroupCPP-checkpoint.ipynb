{
 "cells": [
  {
   "cell_type": "code",
   "execution_count": 1,
   "metadata": {
    "ExecuteTime": {
     "end_time": "2019-05-21T10:03:01.819207Z",
     "start_time": "2019-05-21T10:03:01.802834Z"
    }
   },
   "outputs": [],
   "source": [
    "import monoidsCpp\n",
    "from monoidsCpp import *"
   ]
  },
  {
   "cell_type": "code",
   "execution_count": 2,
   "metadata": {
    "ExecuteTime": {
     "end_time": "2019-05-21T10:08:02.878607Z",
     "start_time": "2019-05-21T10:08:02.833552Z"
    }
   },
   "outputs": [],
   "source": [
    "class NumericalSemigroup:\n",
    "    '''\n",
    "    This class contains all methods and properties needs\n",
    "    for working with a Numerical Semigroup.\n",
    "    \n",
    "    In order to use it you have to introduce the generators. For example S = NumericalSemigroup([3,4,5]).\n",
    "    \n",
    "    Functions:\n",
    "        * FrobeniusNumber() returns the frobenius number of S.\n",
    "        * Factorizations(x) returns the factorizations of x in S.\n",
    "        * Belongs(x) returns True or False if x is or is not in S.\n",
    "        * ComputeNS() returns a bound for the periodicity of Delta(S)\n",
    "    '''\n",
    "    \n",
    "    def __init__(self,generators):\n",
    "        self.generators = smgS(generators)\n",
    "        self.multiplicity = self.generators[0]\n",
    "        self.eDimension = len(self.generators)\n",
    "        \n",
    "    # Frobenius Number\n",
    "    fNumber = 0\n",
    "    # Minimum value of Delta(S)\n",
    "    d = 0\n",
    "    # Bound for Delta(S) periodic\n",
    "    NS = 0\n",
    "    # Bound for Delta_nu periodic\n",
    "    N0 = 0\n",
    "    \n",
    "    # This function gives us the Frobenius Number of a semigroup\n",
    "    def FrobeniusNumber(self):\n",
    "        if self.fNumber != 0:\n",
    "            return self.fNumber\n",
    "        self.fNumber = FrobeniusNumber(self.generators)\n",
    "        return self.fNumber\n",
    "    \n",
    "    # This function returns the factorizations of an element\n",
    "    def Factorizations(self,x):\n",
    "        return FSolve(self.generators,x)\n",
    "    \n",
    "    # This function check if a number is in the semigroup\n",
    "    def Belongs(self,x):\n",
    "        if self.fNumber == 0:\n",
    "            FrobeniusNumber(self.generators)\n",
    "        return Belong(self.generators,x,self.fNumber)\n",
    "    \n",
    "    # This function compute the minimum of Delta(S)\n",
    "    def ComputeMinimumDeltaS(self):\n",
    "        if self.d != 0:\n",
    "            return self.d\n",
    "        self.d = ComputeD(self.generators)\n",
    "        return self.d\n",
    "        \n",
    "    def ComputeNS(self):\n",
    "        if self.NS != 0:\n",
    "            return self.NS\n",
    "        if self.d == 0:\n",
    "            self.d = ComputeD(self.generators)\n",
    "        print(self.generators)\n",
    "        self.NS = ComputeNs(self.generators)\n",
    "        return self.NS\n",
    "    \n",
    "    def ComputeN0(self):\n",
    "        if self.N0 != 0:\n",
    "            return self.N0\n",
    "        if self.NS == 0:\n",
    "            self.NS = ComputeNs(self.generators)\n",
    "        self.N0 = ComputeN0(self.generators,self.NS)\n",
    "        return self.N0\n",
    "    \n",
    "    def DeltaNu(self,n):\n",
    "        if self.NS == 0:\n",
    "            self.NS = ComputeNs(self.generators)\n",
    "        if self.N0 == 0:\n",
    "            self.N0 = ComputeN0(self.generators,self.NS)\n",
    "        if self.N0 > n:\n",
    "            return Delta(Nu(self.generators,n))\n",
    "        return ComputeDeltaNu(self.generators,n)\n",
    "        \n",
    "    def W(self,n):\n",
    "        return W(self.generators,n)\n",
    "    \n",
    "    def L(self,x):\n",
    "        return L(self.generators,x)\n",
    "    \n",
    "    def Nu(self,n):\n",
    "        return Nu(self.generators,n)\n",
    "    \n",
    "    ###################################################################################\n",
    "    \n",
    "    def RemoveGenerator(self,i):\n",
    "        return SminusIthMinimalGenerator(self.generators, i)\n",
    "        \n",
    "    def Descendants(self):\n",
    "        if self.fNumber == 0:\n",
    "            self.fNumber = FrobeniusNumber(self.generators)\n",
    "        return Children(self.generators,self.fNumber)\n",
    "    \n",
    "    '''\n",
    "    def SminusIthMinimalGenerator(self,i):\n",
    "        #Return the numerical semigroup S minus its ith minimal generator.\n",
    "        saux=list(self.generators)\n",
    "        x=saux[i]\n",
    "        if saux==[1] and x==1:\n",
    "            return NumericalSemigroup([2,3])\n",
    "        saux.remove(x)\n",
    "        #print(saux)\n",
    "        saux= saux + [ x+y for y in saux ]\n",
    "        saux=saux + [2*x,3*x]\n",
    "        #print(saux)\n",
    "        return NumericalSemigroup(saux)\n",
    "    def Children(self):\n",
    "        #This function returns the children of a numerial semigroup.\n",
    "        #If S is a numerical semigroup, its children are the numerical semigroups S' verifying that S\\S' \n",
    "        #has cardinality 1 and the element in this set is a minimal generator of S greater than the Frobenius \n",
    "        #number of S.\n",
    "        #ns=NumericalSemigroup([2,3])\n",
    "        #ns.Children()\n",
    "        #ns.Children()\n",
    "        sg,nf=self.generators,self.FrobeniusNumber()\n",
    "        familia=[]\n",
    "        n=len(sg)\n",
    "        for i in range(n):\n",
    "            if nf < sg[i]:\n",
    "                SNaux=self.SminusIthMinimalGenerator(i)\n",
    "                familia=familia+[SNaux]\n",
    "        return familia\n",
    "    '''"
   ]
  },
  {
   "cell_type": "code",
   "execution_count": 48,
   "metadata": {
    "ExecuteTime": {
     "end_time": "2019-05-21T10:08:03.466086Z",
     "start_time": "2019-05-21T10:08:03.459450Z"
    }
   },
   "outputs": [],
   "source": [
    "ns = NumericalSemigroup([4,5,6,7])"
   ]
  },
  {
   "cell_type": "code",
   "execution_count": 49,
   "metadata": {
    "ExecuteTime": {
     "end_time": "2019-05-21T10:08:16.969918Z",
     "start_time": "2019-05-21T10:08:16.959272Z"
    }
   },
   "outputs": [
    {
     "data": {
      "text/plain": [
       "(4, 5, 6, 7)"
      ]
     },
     "execution_count": 49,
     "metadata": {},
     "output_type": "execute_result"
    }
   ],
   "source": [
    "ns.generators"
   ]
  },
  {
   "cell_type": "code",
   "execution_count": 50,
   "metadata": {
    "ExecuteTime": {
     "end_time": "2019-05-21T10:08:17.445765Z",
     "start_time": "2019-05-21T10:08:17.435362Z"
    }
   },
   "outputs": [
    {
     "data": {
      "text/plain": [
       "((5, 6, 7, 8, 9), (4, 6, 7, 9), (4, 5, 7), (4, 5, 6))"
      ]
     },
     "execution_count": 50,
     "metadata": {},
     "output_type": "execute_result"
    }
   ],
   "source": [
    "ns.Descendants()"
   ]
  },
  {
   "cell_type": "code",
   "execution_count": 51,
   "metadata": {
    "ExecuteTime": {
     "end_time": "2019-05-21T10:08:18.058619Z",
     "start_time": "2019-05-21T10:08:18.052678Z"
    }
   },
   "outputs": [
    {
     "data": {
      "text/plain": [
       "3"
      ]
     },
     "execution_count": 51,
     "metadata": {},
     "output_type": "execute_result"
    }
   ],
   "source": [
    "ns.fNumber"
   ]
  },
  {
   "cell_type": "code",
   "execution_count": 52,
   "metadata": {
    "ExecuteTime": {
     "end_time": "2019-05-21T10:08:18.739775Z",
     "start_time": "2019-05-21T10:08:18.731296Z"
    }
   },
   "outputs": [
    {
     "data": {
      "text/plain": [
       "(5, 6, 7, 8, 9)"
      ]
     },
     "execution_count": 52,
     "metadata": {},
     "output_type": "execute_result"
    }
   ],
   "source": [
    "ns.RemoveGenerator(0)"
   ]
  }
 ],
 "metadata": {
  "kernelspec": {
   "display_name": "Python 3",
   "language": "python",
   "name": "python3"
  },
  "language_info": {
   "codemirror_mode": {
    "name": "ipython",
    "version": 3
   },
   "file_extension": ".py",
   "mimetype": "text/x-python",
   "name": "python",
   "nbconvert_exporter": "python",
   "pygments_lexer": "ipython3",
   "version": "3.8.5"
  }
 },
 "nbformat": 4,
 "nbformat_minor": 2
}

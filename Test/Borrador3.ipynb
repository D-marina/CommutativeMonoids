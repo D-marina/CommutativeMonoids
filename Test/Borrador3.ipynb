{
 "cells": [
  {
   "cell_type": "code",
   "execution_count": 2,
   "metadata": {
    "ExecuteTime": {
     "end_time": "2019-05-14T10:51:07.188795Z",
     "start_time": "2019-05-14T10:51:07.183194Z"
    }
   },
   "outputs": [],
   "source": [
    "import sys\n",
    "sys.path.insert(0, '../Class/')"
   ]
  },
  {
   "cell_type": "code",
   "execution_count": 3,
   "metadata": {
    "ExecuteTime": {
     "end_time": "2019-05-14T10:51:08.825552Z",
     "start_time": "2019-05-14T10:51:07.837281Z"
    }
   },
   "outputs": [],
   "source": [
    "import NumericalSemigroup\n",
    "from NumericalSemigroup import *\n",
    "import auxiliars\n",
    "from auxiliars import *"
   ]
  },
  {
   "cell_type": "code",
   "execution_count": 8,
   "metadata": {
    "ExecuteTime": {
     "end_time": "2019-05-14T11:51:11.497044Z",
     "start_time": "2019-05-14T11:51:11.471533Z"
    }
   },
   "outputs": [
    {
     "data": {
      "text/plain": [
       "[21, 22, 23, 24, 25, 26, 27, 28, 29, 30, 31, 32, 33, 34, 35]"
      ]
     },
     "execution_count": 8,
     "metadata": {},
     "output_type": "execute_result"
    }
   ],
   "source": [
    "W([3,4,5],7)"
   ]
  },
  {
   "cell_type": "code",
   "execution_count": 3,
   "metadata": {
    "ExecuteTime": {
     "end_time": "2019-03-29T10:29:23.150715Z",
     "start_time": "2019-03-29T10:29:23.142859Z"
    }
   },
   "outputs": [],
   "source": [
    "ns = NumericalSemigroup([10,33,34,35])"
   ]
  },
  {
   "cell_type": "code",
   "execution_count": 4,
   "metadata": {
    "ExecuteTime": {
     "end_time": "2019-03-29T10:30:36.662571Z",
     "start_time": "2019-03-29T10:30:36.648525Z"
    }
   },
   "outputs": [
    {
     "data": {
      "text/latex": [
       "$$1$$"
      ],
      "text/plain": [
       "1"
      ]
     },
     "execution_count": 4,
     "metadata": {},
     "output_type": "execute_result"
    }
   ],
   "source": [
    "# Calculamos d\n",
    "ns.ComputeMinimumDeltaS()"
   ]
  },
  {
   "cell_type": "code",
   "execution_count": 5,
   "metadata": {
    "ExecuteTime": {
     "end_time": "2019-03-29T10:31:19.168468Z",
     "start_time": "2019-03-29T10:31:19.158437Z"
    }
   },
   "outputs": [
    {
     "data": {
      "text/latex": [
       "$$4590$$"
      ],
      "text/plain": [
       "4590"
      ]
     },
     "execution_count": 5,
     "metadata": {},
     "output_type": "execute_result"
    }
   ],
   "source": [
    "# Calculamos Ns\n",
    "ns.ComputeNS()"
   ]
  },
  {
   "cell_type": "code",
   "execution_count": 7,
   "metadata": {
    "ExecuteTime": {
     "end_time": "2019-03-29T10:31:35.592233Z",
     "start_time": "2019-03-29T10:31:35.579635Z"
    }
   },
   "outputs": [
    {
     "data": {
      "text/latex": [
       "$$3237.662337662338$$"
      ],
      "text/plain": [
       "3237.662337662338"
      ]
     },
     "execution_count": 7,
     "metadata": {},
     "output_type": "execute_result"
    }
   ],
   "source": [
    "# Calculamos lambda1\n",
    "Lambda1([10,33,34,35])"
   ]
  },
  {
   "cell_type": "code",
   "execution_count": 8,
   "metadata": {
    "ExecuteTime": {
     "end_time": "2019-03-29T10:31:55.298529Z",
     "start_time": "2019-03-29T10:31:55.290292Z"
    }
   },
   "outputs": [
    {
     "data": {
      "text/latex": [
       "$$11331.818181818182$$"
      ],
      "text/plain": [
       "11331.818181818182"
      ]
     },
     "execution_count": 8,
     "metadata": {},
     "output_type": "execute_result"
    }
   ],
   "source": [
    "# Calculamos lambda2\n",
    "Lambda2([10,33,34,35])"
   ]
  },
  {
   "cell_type": "code",
   "execution_count": 9,
   "metadata": {
    "ExecuteTime": {
     "end_time": "2019-03-29T10:32:12.357059Z",
     "start_time": "2019-03-29T10:32:12.348136Z"
    }
   },
   "outputs": [
    {
     "data": {
      "text/latex": [
       "$$459$$"
      ],
      "text/plain": [
       "459"
      ]
     },
     "execution_count": 9,
     "metadata": {},
     "output_type": "execute_result"
    }
   ],
   "source": [
    "# Calculamos N0\n",
    "ns.ComputeN0()"
   ]
  },
  {
   "cell_type": "code",
   "execution_count": 73,
   "metadata": {
    "ExecuteTime": {
     "end_time": "2019-03-29T10:37:47.862640Z",
     "start_time": "2019-03-29T10:37:47.856166Z"
    }
   },
   "outputs": [],
   "source": [
    "# Elegimos n = 53\n",
    "n = 589"
   ]
  },
  {
   "cell_type": "code",
   "execution_count": 12,
   "metadata": {
    "ExecuteTime": {
     "end_time": "2019-05-07T11:26:52.405350Z",
     "start_time": "2019-05-07T11:26:52.395580Z"
    }
   },
   "outputs": [
    {
     "data": {
      "text/plain": [
       "803"
      ]
     },
     "execution_count": 12,
     "metadata": {},
     "output_type": "execute_result"
    }
   ],
   "source": [
    "# Calculamos x1\n",
    "x1 = 4*150+203\n",
    "x1"
   ]
  },
  {
   "cell_type": "code",
   "execution_count": 13,
   "metadata": {
    "ExecuteTime": {
     "end_time": "2019-05-07T11:26:57.768017Z",
     "start_time": "2019-05-07T11:26:57.755779Z"
    }
   },
   "outputs": [
    {
     "data": {
      "text/plain": [
       "1491"
      ]
     },
     "execution_count": 13,
     "metadata": {},
     "output_type": "execute_result"
    }
   ],
   "source": [
    "# Calculamos x2\n",
    "x2 = 15*150-759\n",
    "x2"
   ]
  },
  {
   "cell_type": "code",
   "execution_count": 14,
   "metadata": {
    "ExecuteTime": {
     "end_time": "2019-05-07T11:27:02.742405Z",
     "start_time": "2019-05-07T11:27:02.728053Z"
    }
   },
   "outputs": [
    {
     "data": {
      "text/plain": [
       "688"
      ]
     },
     "execution_count": 14,
     "metadata": {},
     "output_type": "execute_result"
    }
   ],
   "source": [
    "x2-x1"
   ]
  },
  {
   "cell_type": "code",
   "execution_count": null,
   "metadata": {
    "ExecuteTime": {
     "start_time": "2019-03-29T10:39:54.365Z"
    }
   },
   "outputs": [],
   "source": [
    "# Calculo W(n)\n",
    "W = ns.W(n)"
   ]
  }
 ],
 "metadata": {
  "kernelspec": {
   "display_name": "Python 3",
   "language": "python",
   "name": "python3"
  },
  "language_info": {
   "codemirror_mode": {
    "name": "ipython",
    "version": 3
   },
   "file_extension": ".py",
   "mimetype": "text/x-python",
   "name": "python",
   "nbconvert_exporter": "python",
   "pygments_lexer": "ipython3",
   "version": "3.6.7"
  }
 },
 "nbformat": 4,
 "nbformat_minor": 2
}

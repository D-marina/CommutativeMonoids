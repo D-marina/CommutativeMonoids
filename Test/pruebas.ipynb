{
 "cells": [
  {
   "cell_type": "code",
   "execution_count": 6,
   "metadata": {},
   "outputs": [
    {
     "name": "stdout",
     "output_type": "stream",
     "text": [
      "32\n"
     ]
    }
   ],
   "source": [
    "import ipyparallel as ipp\n",
    "import time\n",
    "#from numba import jit\n",
    "c = ipp.Client()\n",
    "print( len(c))\n",
    "rc = ipp.Client()\n",
    "dview=rc[:]\n",
    "#rc[0][\"aa\"]=1\n",
    "for i,j in enumerate(range(len(rc))):\n",
    "    rc[j][\"ctrl\"]=i\n",
    "    rc[j][\"total\"]=len(c)"
   ]
  },
  {
   "cell_type": "code",
   "execution_count": 7,
   "metadata": {},
   "outputs": [
    {
     "name": "stdout",
     "output_type": "stream",
     "text": [
      "/home/mat/u32047387/github/CommutativeMonoids/Test\r\n"
     ]
    }
   ],
   "source": [
    "!pwd"
   ]
  },
  {
   "cell_type": "code",
   "execution_count": 1,
   "metadata": {},
   "outputs": [],
   "source": [
    "import sys,math,time,itertools,os\n",
    "import importlib\n",
    "from itertools import chain\n",
    "#sys.path.insert(0, '../CClass/')\n",
    "sys.path.insert(0, '/home/mat/u32047387/github/CommutativeMonoids/CClass')\n",
    "import monoidsCpp\n",
    "from monoidsCpp import *\n",
    "\n",
    "from NumericalSemigroupCPP import *\n",
    "\n",
    "def hijosDeListaDeSemigrupos(lgeneradores):\n",
    "    lgeneradores=list ( chain.from_iterable( \n",
    "        [NumericalSemigroup(sgen).Children() for sgen in lgeneradores] ) )\n",
    "    lgeneradores=[x.generators for x in lgeneradores]\n",
    "    return lgeneradores\n",
    "\n",
    "def esSeqArithm(l):\n",
    "    d=l[1]-l[0]\n",
    "    for i in range(1,len(l)-1):\n",
    "        if l[i]+d!=l[i+1]:\n",
    "            return False\n",
    "    return True\n",
    "\n",
    "def periodNSforDeltaNu(ns):\n",
    "        return ns.generators[0]*ns.generators[-1]/math.gcd(ns.generators[0],ns.generators[-1])\n",
    "\n",
    "def escribeDeltaNuEnFichero(ns,nn,dir1):\n",
    "    t1=time.time()\n",
    "    valor=ns.DeltaNu(nn)\n",
    "    t2=time.time()\n",
    "    tiempo=t2-t1   \n",
    "    print(nn,valor,tiempo)\n",
    "    with open(dir1+str(ns.generators)+\"_DeltaNu.txt\",\"a\") as f:\n",
    "        cad=str(nn)+\",\"+str(valor)+\",\"+str(tiempo)\n",
    "        f.write(cad+\"\\n\")\n",
    "\n",
    "def topeDeltaNu(ns):\n",
    "    return int( periodNSforDeltaNu(ns)+ns.ComputeN0() )"
   ]
  },
  {
   "cell_type": "code",
   "execution_count": 2,
   "metadata": {},
   "outputs": [
    {
     "name": "stdout",
     "output_type": "stream",
     "text": [
      "77\n"
     ]
    }
   ],
   "source": [
    "ns=NumericalSemigroup([4,7,13])\n",
    "tope=int( periodNSforDeltaNu(ns)+ns.ComputeN0() )\n",
    "print(tope)\n",
    "\n",
    "#for n in range(2,tope+1):\n",
    "#    print(n)\n",
    "#    aux=ns.DeltaNu(n)\n",
    "#    print(aux) "
   ]
  },
  {
   "cell_type": "code",
   "execution_count": 3,
   "metadata": {},
   "outputs": [
    {
     "data": {
      "text/plain": [
       "(3,)"
      ]
     },
     "execution_count": 3,
     "metadata": {},
     "output_type": "execute_result"
    }
   ],
   "source": [
    "ns.DeltaNu(26)"
   ]
  },
  {
   "cell_type": "code",
   "execution_count": null,
   "metadata": {},
   "outputs": [
    {
     "name": "stdout",
     "output_type": "stream",
     "text": [
      "77\n",
      "(4, 7, 13) 77\n",
      "2 (3,) 0.00012040138244628906\n",
      "3 (3,) 0.00015807151794433594\n",
      "4 (3,) 0.0002532005310058594\n",
      "5 (3,) 0.0004909038543701172\n",
      "6 (3,) 0.0005669593811035156\n",
      "7 (3,) 0.0008411407470703125\n",
      "8 (3,) 0.001451730728149414\n",
      "9 (3,) 0.001657247543334961\n",
      "10 (3,) 0.001972198486328125\n",
      "11 (3,) 0.002548694610595703\n",
      "12 (3,) 0.003112316131591797\n",
      "13 (3,) 0.003945350646972656\n",
      "14 (3,) 0.004899501800537109\n",
      "15 (3,) 0.0052793025970458984\n",
      "16 (3,) 0.0065953731536865234\n",
      "17 (3,) 0.0074961185455322266\n",
      "18 (3,) 0.00831460952758789\n",
      "19 (3,) 0.009455442428588867\n",
      "20 (3,) 0.010046958923339844\n",
      "21 (3,) 0.011452913284301758\n",
      "22 (3,) 0.012774467468261719\n",
      "23 (3,) 0.013620138168334961\n",
      "24 (3,) 0.014945507049560547\n",
      "25 (3,) 0.04454302787780762\n"
     ]
    }
   ],
   "source": [
    "lgeneradores=[[4,7,13]]\n",
    "numSN=len(lgeneradores)\n",
    "ctrl=0\n",
    "total=0\n",
    "\n",
    "dirbase=\"/home/mat/u32047387/github/CommutativeMonoids/Test/datos2/\"\n",
    "\n",
    "ns=NumericalSemigroup(lgeneradores[ 0 ])\n",
    "tope=int( periodNSforDeltaNu(ns)+ns.ComputeN0() )\n",
    "print(tope)\n",
    "print( ns.generators, tope )\n",
    "\n",
    "nombreFichero=str(ns.generators)+\"_DeltaNu.txt\"\n",
    "with open(dirbase+nombreFichero,\"w\") as f:\n",
    "    f.write(str(ns.generators)+','+str(tope)+\", ipengine(\"+str(ctrl)+\")\\n\")\n",
    "\n",
    "for n in range(2,tope+1):\n",
    "    escribeDeltaNuEnFichero(ns,n,dirbase) \n",
    "os.rename(dirbase+nombreFichero,dirbase+\"F\"+nombreFichero)"
   ]
  },
  {
   "cell_type": "code",
   "execution_count": 12,
   "metadata": {},
   "outputs": [],
   "source": [
    "%%px \n",
    "import sys,math,time,itertools,os\n",
    "import importlib\n",
    "from itertools import chain\n",
    "#sys.path.insert(0, '../CClass/')\n",
    "sys.path.insert(0, '/home/mat/u32047387/github/CommutativeMonoids/CClass')\n",
    "import monoidsCpp\n",
    "from monoidsCpp import *\n",
    "\n",
    "from NumericalSemigroupCPP import *\n",
    "\n",
    "\n",
    "def periodNSforDeltaNu(ns):\n",
    "        return ns.generators[0]*ns.generators[-1]/math.gcd(ns.generators[0],ns.generators[-1])\n",
    "\n",
    "def escribeDeltaNuEnFichero(ns,nn,dir1):\n",
    "    t1=time.time()\n",
    "    valor=ns.DeltaNu(nn)\n",
    "    t2=time.time()\n",
    "    tiempo=t2-t1   \n",
    "    #print(nn,valor,tiempo)\n",
    "    with open(dir1+str(ns.generators)+\"_DeltaNu.txt\",\"a\") as f:\n",
    "        cad=str(nn)+\",\"+str(valor)+\",\"+str(tiempo)\n",
    "        f.write(cad+\"\\n\")\n",
    "\n",
    "def topeDeltaNu(ns):\n",
    "    return int( periodNSforDeltaNu(ns)+ns.ComputeN0() )"
   ]
  },
  {
   "cell_type": "code",
   "execution_count": null,
   "metadata": {},
   "outputs": [],
   "source": []
  },
  {
   "cell_type": "code",
   "execution_count": 10,
   "metadata": {},
   "outputs": [
    {
     "data": {
      "text/plain": [
       "<AsyncResult: execute>"
      ]
     },
     "execution_count": 10,
     "metadata": {},
     "output_type": "execute_result"
    }
   ],
   "source": [
    "%%px --noblock\n",
    "lgeneradores=[[4,7,13]]\n",
    "numSN=len(lgeneradores)\n",
    "vueltas=numSN//total\n",
    "\n",
    "if ctrl+vueltas*total < numSN:\n",
    "    vueltas=vueltas+1\n",
    "\n",
    "dirbase=\"/home/mat/u32047387/github/CommutativeMonoids/Test/datos2/\"\n",
    "\n",
    "for i in range(vueltas):\n",
    "    ns=NumericalSemigroup(lgeneradores[ ctrl+i*total ])\n",
    "    tope=int( periodNSforDeltaNu(ns)+ns.ComputeN0() )\n",
    "    print(tope)\n",
    "    print( ns.generators, tope )\n",
    "\n",
    "    nombreFichero=str(ns.generators)+\"_DeltaNu.txt\"\n",
    "    with open(dirbase+nombreFichero,\"w\") as f:\n",
    "        f.write(str(ns.generators)+','+str(tope)+\", ipengine(\"+str(ctrl)+\")\\n\")\n",
    "\n",
    "    for n in range(2,tope+1):\n",
    "        escribeDeltaNuEnFichero(ns,n,dirbase) \n",
    "    os.rename(dirbase+nombreFichero,dirbase+\"F\"+nombreFichero)"
   ]
  },
  {
   "cell_type": "code",
   "execution_count": 13,
   "metadata": {},
   "outputs": [
    {
     "data": {
      "text/plain": [
       "<AsyncResult: execute>"
      ]
     },
     "execution_count": 13,
     "metadata": {},
     "output_type": "execute_result"
    }
   ],
   "source": [
    "%%px --noblock\n",
    "lgeneradores=[[4, 6, 7, 9], [4, 5, 7], [3, 7, 8]]\n",
    "numSN=len(lgeneradores)\n",
    "vueltas=numSN//total\n",
    "\n",
    "if ctrl+vueltas*total < numSN:\n",
    "    vueltas=vueltas+1\n",
    "\n",
    "dirbase=\"/home/mat/u32047387/github/CommutativeMonoids/Test/datos2/\"\n",
    "\n",
    "for i in range(vueltas):\n",
    "    ns=NumericalSemigroup(lgeneradores[ ctrl+i*total ])\n",
    "    tope=int( periodNSforDeltaNu(ns)+ns.ComputeN0() )\n",
    "    print(tope)\n",
    "    print( ns.generators, tope )\n",
    "\n",
    "    nombreFichero=str(ns.generators)+\"_DeltaNu.txt\"\n",
    "    with open(dirbase+nombreFichero,\"w\") as f:\n",
    "        f.write(str(ns.generators)+','+str(tope)+\", ipengine(\"+str(ctrl)+\")\\n\")\n",
    "\n",
    "    for n in range(2,tope+1):\n",
    "        escribeDeltaNuEnFichero(ns,n,dirbase) \n",
    "    os.rename(dirbase+nombreFichero,dirbase+\"F\"+nombreFichero)"
   ]
  },
  {
   "cell_type": "code",
   "execution_count": 14,
   "metadata": {},
   "outputs": [
    {
     "data": {
      "text/plain": [
       "<AsyncResult: execute>"
      ]
     },
     "execution_count": 14,
     "metadata": {},
     "output_type": "execute_result"
    }
   ],
   "source": [
    "%%px --noblock\n",
    "lgeneradores=[[5, 7, 8, 9, 11],\n",
    "  [5, 6, 8, 9],\n",
    "  [5, 6, 7, 9],\n",
    "  [4, 7, 9, 10],\n",
    "  [4, 6, 9, 11],\n",
    "  [4, 6, 7],\n",
    "  [4, 5, 11],\n",
    "  [3, 8, 10]]\n",
    "numSN=len(lgeneradores)\n",
    "vueltas=numSN//total\n",
    "\n",
    "if ctrl+vueltas*total < numSN:\n",
    "    vueltas=vueltas+1\n",
    "\n",
    "dirbase=\"/home/mat/u32047387/github/CommutativeMonoids/Test/datos2/\"\n",
    "\n",
    "for i in range(vueltas):\n",
    "    ns=NumericalSemigroup(lgeneradores[ ctrl+i*total ])\n",
    "    tope=int( periodNSforDeltaNu(ns)+ns.ComputeN0() )\n",
    "    print(tope)\n",
    "    print( ns.generators, tope )\n",
    "\n",
    "    nombreFichero=str(ns.generators)+\"_DeltaNu.txt\"\n",
    "    with open(dirbase+nombreFichero,\"w\") as f:\n",
    "        f.write(str(ns.generators)+','+str(tope)+\", ipengine(\"+str(ctrl)+\")\\n\")\n",
    "\n",
    "    for n in range(2,tope+1):\n",
    "        escribeDeltaNuEnFichero(ns,n,dirbase) \n",
    "    os.rename(dirbase+nombreFichero,dirbase+\"F\"+nombreFichero)"
   ]
  },
  {
   "cell_type": "code",
   "execution_count": 15,
   "metadata": {},
   "outputs": [
    {
     "data": {
      "text/plain": [
       "<AsyncResult: execute>"
      ]
     },
     "execution_count": 15,
     "metadata": {},
     "output_type": "execute_result"
    }
   ],
   "source": [
    "%%px --noblock\n",
    "lgeneradores=[[6, 8, 9, 10, 11, 13],\n",
    " [6, 7, 9, 10, 11],\n",
    " [6, 7, 8, 10, 11],\n",
    " [6, 7, 8, 9, 11],\n",
    " [5, 8, 9, 11, 12],\n",
    " [5, 7, 8, 11],\n",
    " [5, 7, 8, 9],\n",
    " [5, 6, 9, 13],\n",
    " [5, 6, 8],\n",
    " [4, 9, 10, 11],\n",
    " [4, 7, 9],\n",
    " [4, 6, 11, 13],\n",
    " [4, 6, 9],\n",
    " [3, 10, 11]]\n",
    "numSN=len(lgeneradores)\n",
    "vueltas=numSN//total\n",
    "\n",
    "if ctrl+vueltas*total < numSN:\n",
    "    vueltas=vueltas+1\n",
    "\n",
    "dirbase=\"/home/mat/u32047387/github/CommutativeMonoids/Test/datos2/\"\n",
    "\n",
    "for i in range(vueltas):\n",
    "    ns=NumericalSemigroup(lgeneradores[ ctrl+i*total ])\n",
    "    tope=int( periodNSforDeltaNu(ns)+ns.ComputeN0() )\n",
    "    print(tope)\n",
    "    print( ns.generators, tope )\n",
    "\n",
    "    nombreFichero=str(ns.generators)+\"_DeltaNu.txt\"\n",
    "    with open(dirbase+nombreFichero,\"w\") as f:\n",
    "        f.write(str(ns.generators)+','+str(tope)+\", ipengine(\"+str(ctrl)+\")\\n\")\n",
    "\n",
    "    for n in range(2,tope+1):\n",
    "        escribeDeltaNuEnFichero(ns,n,dirbase) \n",
    "    os.rename(dirbase+nombreFichero,dirbase+\"F\"+nombreFichero)"
   ]
  },
  {
   "cell_type": "code",
   "execution_count": 16,
   "metadata": {},
   "outputs": [
    {
     "data": {
      "text/plain": [
       "<AsyncResult: execute>"
      ]
     },
     "execution_count": 16,
     "metadata": {},
     "output_type": "execute_result"
    }
   ],
   "source": [
    "%%px --noblock\n",
    "lgeneradores=[[7, 9, 10, 11, 12, 13, 15],\n",
    " [7, 8, 10, 11, 12, 13],\n",
    " [7, 8, 9, 11, 12, 13],\n",
    " [7, 8, 9, 10, 12, 13],\n",
    " [7, 8, 9, 10, 11, 13],\n",
    " [6, 9, 10, 11, 13, 14],\n",
    " [6, 8, 10, 11, 13, 15],\n",
    " [6, 8, 9, 11, 13],\n",
    " [6, 8, 9, 10, 13],\n",
    " [6, 8, 9, 10, 11],\n",
    " [6, 7, 10, 11, 15],\n",
    " [6, 7, 9, 11],\n",
    " [6, 7, 9, 10],\n",
    " [6, 7, 8, 11],\n",
    " [6, 7, 8, 10],\n",
    " [5, 9, 11, 12, 13],\n",
    " [5, 8, 11, 12, 14],\n",
    " [5, 8, 9, 12],\n",
    " [5, 8, 9, 11],\n",
    " [5, 7, 11, 13],\n",
    " [5, 7, 9, 13],\n",
    " [5, 7, 8],\n",
    " [5, 6, 13, 14],\n",
    " [5, 6, 9],\n",
    " [4, 10, 11, 13],\n",
    " [4, 9, 11, 14],\n",
    " [4, 9, 10, 15],\n",
    " [4, 7, 13],\n",
    " [4, 6, 13, 15],\n",
    " [4, 6, 11],\n",
    " [3, 11, 13],\n",
    " [3, 10, 14]]\n",
    "numSN=len(lgeneradores)\n",
    "vueltas=numSN//total\n",
    "\n",
    "if ctrl+vueltas*total < numSN:\n",
    "    vueltas=vueltas+1\n",
    "\n",
    "dirbase=\"/home/mat/u32047387/github/CommutativeMonoids/Test/datos2/\"\n",
    "\n",
    "for i in range(vueltas):\n",
    "    ns=NumericalSemigroup(lgeneradores[ ctrl+i*total ])\n",
    "    tope=int( periodNSforDeltaNu(ns)+ns.ComputeN0() )\n",
    "    print(tope)\n",
    "    print( ns.generators, tope )\n",
    "\n",
    "    nombreFichero=str(ns.generators)+\"_DeltaNu.txt\"\n",
    "    with open(dirbase+nombreFichero,\"w\") as f:\n",
    "        f.write(str(ns.generators)+','+str(tope)+\", ipengine(\"+str(ctrl)+\")\\n\")\n",
    "\n",
    "    for n in range(2,tope+1):\n",
    "        escribeDeltaNuEnFichero(ns,n,dirbase) \n",
    "    os.rename(dirbase+nombreFichero,dirbase+\"F\"+nombreFichero)"
   ]
  },
  {
   "cell_type": "code",
   "execution_count": 17,
   "metadata": {},
   "outputs": [
    {
     "data": {
      "text/plain": [
       "<AsyncResult: execute>"
      ]
     },
     "execution_count": 17,
     "metadata": {},
     "output_type": "execute_result"
    }
   ],
   "source": [
    "%%px --noblock\n",
    "lgeneradores=[[8, 10, 11, 12, 13, 14, 15, 17],\n",
    " [8, 9, 11, 12, 13, 14, 15],\n",
    " [8, 9, 10, 12, 13, 14, 15],\n",
    " [8, 9, 10, 11, 13, 14, 15],\n",
    " [8, 9, 10, 11, 12, 14, 15],\n",
    " [8, 9, 10, 11, 12, 13, 15],\n",
    " [7, 10, 11, 12, 13, 15, 16],\n",
    " [7, 9, 11, 12, 13, 15, 17],\n",
    " [7, 9, 10, 12, 13, 15],\n",
    " [7, 9, 10, 11, 13, 15],\n",
    " [7, 9, 10, 11, 12, 15],\n",
    " [7, 9, 10, 11, 12, 13],\n",
    " [7, 8, 11, 12, 13, 17],\n",
    " [7, 8, 10, 12, 13],\n",
    " [7, 8, 10, 11, 13],\n",
    " [7, 8, 10, 11, 12],\n",
    " [7, 8, 9, 12, 13],\n",
    " [7, 8, 9, 11, 13],\n",
    " [7, 8, 9, 11, 12],\n",
    " [7, 8, 9, 10, 13],\n",
    " [7, 8, 9, 10, 12],\n",
    " [6, 10, 11, 13, 14, 15],\n",
    " [6, 9, 11, 13, 14, 16],\n",
    " [6, 9, 10, 13, 14, 17],\n",
    " [6, 9, 10, 11, 14],\n",
    " [6, 9, 10, 11, 13],\n",
    " [6, 8, 11, 13, 15],\n",
    " [6, 8, 10, 13, 15, 17],\n",
    " [6, 8, 10, 11, 15],\n",
    " [6, 8, 10, 11, 13],\n",
    " [6, 8, 9, 13],\n",
    " [6, 8, 9, 11],\n",
    " [6, 8, 9, 10],\n",
    " [6, 7, 11, 15, 16],\n",
    " [6, 7, 10, 15],\n",
    " [6, 7, 10, 11],\n",
    " [6, 7, 9, 17],\n",
    " [6, 7, 8, 17],\n",
    " [5, 11, 12, 13, 14],\n",
    " [5, 9, 12, 13, 16],\n",
    " [5, 9, 11, 13, 17],\n",
    " [5, 9, 11, 12],\n",
    " [5, 8, 12, 14],\n",
    " [5, 8, 11, 12],\n",
    " [5, 8, 9],\n",
    " [5, 7, 13, 16],\n",
    " [5, 7, 11],\n",
    " [5, 6, 14],\n",
    " [5, 6, 13],\n",
    " [4, 11, 13, 14],\n",
    " [4, 10, 13, 15],\n",
    " [4, 10, 11, 17],\n",
    " [4, 9, 14, 15],\n",
    " [4, 9, 11],\n",
    " [4, 9, 10],\n",
    " [4, 7, 17],\n",
    " [4, 6, 15, 17],\n",
    " [4, 6, 13],\n",
    " [3, 13, 14],\n",
    " [3, 11, 16]]\n",
    "numSN=len(lgeneradores)\n",
    "vueltas=numSN//total\n",
    "\n",
    "if ctrl+vueltas*total < numSN:\n",
    "    vueltas=vueltas+1\n",
    "\n",
    "dirbase=\"/home/mat/u32047387/github/CommutativeMonoids/Test/datos2/\"\n",
    "\n",
    "for i in range(vueltas):\n",
    "    ns=NumericalSemigroup(lgeneradores[ ctrl+i*total ])\n",
    "    tope=int( periodNSforDeltaNu(ns)+ns.ComputeN0() )\n",
    "    print(tope)\n",
    "    print( ns.generators, tope )\n",
    "\n",
    "    nombreFichero=str(ns.generators)+\"_DeltaNu.txt\"\n",
    "    with open(dirbase+nombreFichero,\"w\") as f:\n",
    "        f.write(str(ns.generators)+','+str(tope)+\", ipengine(\"+str(ctrl)+\")\\n\")\n",
    "\n",
    "    for n in range(2,tope+1):\n",
    "        escribeDeltaNuEnFichero(ns,n,dirbase) \n",
    "    os.rename(dirbase+nombreFichero,dirbase+\"F\"+nombreFichero)"
   ]
  },
  {
   "cell_type": "code",
   "execution_count": 18,
   "metadata": {},
   "outputs": [
    {
     "data": {
      "text/plain": [
       "<AsyncResult: execute>"
      ]
     },
     "execution_count": 18,
     "metadata": {},
     "output_type": "execute_result"
    }
   ],
   "source": [
    "%%px --noblock\n",
    "lgeneradores=[[9, 11, 12, 13, 14, 15, 16, 17, 19],\n",
    " [9, 10, 12, 13, 14, 15, 16, 17],\n",
    " [9, 10, 11, 13, 14, 15, 16, 17],\n",
    " [9, 10, 11, 12, 14, 15, 16, 17],\n",
    " [9, 10, 11, 12, 13, 15, 16, 17],\n",
    " [9, 10, 11, 12, 13, 14, 16, 17],\n",
    " [9, 10, 11, 12, 13, 14, 15, 17],\n",
    " [8, 11, 12, 13, 14, 15, 17, 18],\n",
    " [8, 10, 12, 13, 14, 15, 17, 19],\n",
    " [8, 10, 11, 13, 14, 15, 17],\n",
    " [8, 10, 11, 12, 14, 15, 17],\n",
    " [8, 10, 11, 12, 13, 15, 17],\n",
    " [8, 10, 11, 12, 13, 14, 17],\n",
    " [8, 10, 11, 12, 13, 14, 15],\n",
    " [8, 9, 12, 13, 14, 15, 19],\n",
    " [8, 9, 11, 13, 14, 15],\n",
    " [8, 9, 11, 12, 14, 15],\n",
    " [8, 9, 11, 12, 13, 15],\n",
    " [8, 9, 11, 12, 13, 14],\n",
    " [8, 9, 10, 13, 14, 15],\n",
    " [8, 9, 10, 12, 14, 15],\n",
    " [8, 9, 10, 12, 13, 15],\n",
    " [8, 9, 10, 12, 13, 14],\n",
    " [8, 9, 10, 11, 14, 15],\n",
    " [8, 9, 10, 11, 13, 15],\n",
    " [8, 9, 10, 11, 13, 14],\n",
    " [8, 9, 10, 11, 12, 15],\n",
    " [8, 9, 10, 11, 12, 14],\n",
    " [7, 11, 12, 13, 15, 16, 17],\n",
    " [7, 10, 12, 13, 15, 16, 18],\n",
    " [7, 10, 11, 13, 15, 16, 19],\n",
    " [7, 10, 11, 12, 15, 16],\n",
    " [7, 10, 11, 12, 13, 16],\n",
    " [7, 10, 11, 12, 13, 15],\n",
    " [7, 9, 12, 13, 15, 17],\n",
    " [7, 9, 11, 12, 15, 17],\n",
    " [7, 9, 11, 12, 13, 17],\n",
    " [7, 9, 11, 12, 13, 15],\n",
    " [7, 9, 10, 13, 15],\n",
    " [7, 9, 10, 12, 15],\n",
    " [7, 9, 10, 12, 13],\n",
    " [7, 9, 10, 11, 15],\n",
    " [7, 9, 10, 11, 13],\n",
    " [7, 9, 10, 11, 12],\n",
    " [7, 8, 12, 13, 17, 18],\n",
    " [7, 8, 11, 13, 17],\n",
    " [7, 8, 11, 12, 17],\n",
    " [7, 8, 11, 12, 13],\n",
    " [7, 8, 10, 13, 19],\n",
    " [7, 8, 10, 12],\n",
    " [7, 8, 10, 11],\n",
    " [7, 8, 9, 13, 19],\n",
    " [7, 8, 9, 12],\n",
    " [7, 8, 9, 11],\n",
    " [6, 11, 13, 14, 15, 16],\n",
    " [6, 10, 13, 14, 15, 17],\n",
    " [6, 10, 11, 14, 15, 19],\n",
    " [6, 10, 11, 13, 15],\n",
    " [6, 10, 11, 13, 14],\n",
    " [6, 9, 13, 14, 16, 17],\n",
    " [6, 9, 11, 14, 16, 19],\n",
    " [6, 9, 11, 13, 16],\n",
    " [6, 9, 11, 13, 14],\n",
    " [6, 9, 10, 14, 17],\n",
    " [6, 9, 10, 13, 17],\n",
    " [6, 9, 10, 13, 14],\n",
    " [6, 9, 10, 11],\n",
    " [6, 8, 13, 15, 17],\n",
    " [6, 8, 11, 15],\n",
    " [6, 8, 11, 13],\n",
    " [6, 8, 10, 15, 17, 19],\n",
    " [6, 8, 10, 13, 17],\n",
    " [6, 8, 10, 13, 15],\n",
    " [6, 8, 10, 11],\n",
    " [6, 8, 9, 19],\n",
    " [6, 7, 15, 16, 17],\n",
    " [6, 7, 11, 16],\n",
    " [6, 7, 11, 15],\n",
    " [6, 7, 10],\n",
    " [6, 7, 9],\n",
    " [5, 12, 13, 14, 16],\n",
    " [5, 11, 13, 14, 17],\n",
    " [5, 11, 12, 14, 18],\n",
    " [5, 11, 12, 13, 19],\n",
    " [5, 9, 13, 16, 17],\n",
    " [5, 9, 12, 16],\n",
    " [5, 9, 12, 13],\n",
    " [5, 9, 11, 17],\n",
    " [5, 9, 11, 13],\n",
    " [5, 8, 14, 17],\n",
    " [5, 8, 12, 19],\n",
    " [5, 8, 11, 17],\n",
    " [5, 7, 16, 18],\n",
    " [5, 7, 13],\n",
    " [5, 6, 19],\n",
    " [4, 13, 14, 15],\n",
    " [4, 11, 14, 17],\n",
    " [4, 11, 13, 18],\n",
    " [4, 10, 15, 17],\n",
    " [4, 10, 13, 19],\n",
    " [4, 10, 11],\n",
    " [4, 9, 15],\n",
    " [4, 6, 17, 19],\n",
    " [4, 6, 15],\n",
    " [3, 14, 16],\n",
    " [3, 13, 17]]\n",
    "numSN=len(lgeneradores)\n",
    "vueltas=numSN//total\n",
    "\n",
    "if ctrl+vueltas*total < numSN:\n",
    "    vueltas=vueltas+1\n",
    "\n",
    "dirbase=\"/home/mat/u32047387/github/CommutativeMonoids/Test/datos2/\"\n",
    "\n",
    "for i in range(vueltas):\n",
    "    ns=NumericalSemigroup(lgeneradores[ ctrl+i*total ])\n",
    "    tope=int( periodNSforDeltaNu(ns)+ns.ComputeN0() )\n",
    "    print(tope)\n",
    "    print( ns.generators, tope )\n",
    "\n",
    "    nombreFichero=str(ns.generators)+\"_DeltaNu.txt\"\n",
    "    with open(dirbase+nombreFichero,\"w\") as f:\n",
    "        f.write(str(ns.generators)+','+str(tope)+\", ipengine(\"+str(ctrl)+\")\\n\")\n",
    "\n",
    "    for n in range(2,tope+1):\n",
    "        escribeDeltaNuEnFichero(ns,n,dirbase) \n",
    "    os.rename(dirbase+nombreFichero,dirbase+\"F\"+nombreFichero)"
   ]
  },
  {
   "cell_type": "code",
   "execution_count": null,
   "metadata": {},
   "outputs": [],
   "source": []
  }
 ],
 "metadata": {
  "kernelspec": {
   "display_name": "Python 3",
   "language": "python",
   "name": "python3"
  },
  "language_info": {
   "codemirror_mode": {
    "name": "ipython",
    "version": 3
   },
   "file_extension": ".py",
   "mimetype": "text/x-python",
   "name": "python",
   "nbconvert_exporter": "python",
   "pygments_lexer": "ipython3",
   "version": "3.6.8"
  }
 },
 "nbformat": 4,
 "nbformat_minor": 2
}

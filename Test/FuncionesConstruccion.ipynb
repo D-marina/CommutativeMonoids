{
 "cells": [
  {
   "cell_type": "code",
   "execution_count": 5,
   "metadata": {
    "ExecuteTime": {
     "end_time": "2019-07-23T08:25:38.693959Z",
     "start_time": "2019-07-23T08:25:38.688235Z"
    }
   },
   "outputs": [],
   "source": [
    "import sys\n",
    "sys.path.insert(0, '../Class/')"
   ]
  },
  {
   "cell_type": "code",
   "execution_count": 6,
   "metadata": {
    "ExecuteTime": {
     "end_time": "2019-07-23T08:25:44.747022Z",
     "start_time": "2019-07-23T08:25:40.118601Z"
    }
   },
   "outputs": [],
   "source": [
    "import NumericalSemigroup\n",
    "from NumericalSemigroup import *\n",
    "import auxiliars\n",
    "from auxiliars import *"
   ]
  },
  {
   "cell_type": "code",
   "execution_count": 7,
   "metadata": {
    "ExecuteTime": {
     "end_time": "2019-07-23T08:25:44.774724Z",
     "start_time": "2019-07-23T08:25:44.751319Z"
    }
   },
   "outputs": [],
   "source": [
    "ns = NumericalSemigroup([4,11,15])"
   ]
  },
  {
   "cell_type": "code",
   "execution_count": 27,
   "metadata": {
    "ExecuteTime": {
     "end_time": "2019-07-23T08:31:01.896758Z",
     "start_time": "2019-07-23T08:31:01.888201Z"
    }
   },
   "outputs": [],
   "source": [
    "def GapSet(gen):\n",
    "    ns = NumericalSemigroup(gen)\n",
    "    m = min(ns.generators)\n",
    "    control = 0\n",
    "    i = 1\n",
    "    gaps = []\n",
    "    while control < m:\n",
    "        if ns.Belongs(i):\n",
    "            control = control +1\n",
    "        else:\n",
    "            gaps.append(i)\n",
    "            control = 0\n",
    "        i = i+1\n",
    "    return gaps"
   ]
  },
  {
   "cell_type": "code",
   "execution_count": 9,
   "metadata": {
    "ExecuteTime": {
     "end_time": "2019-07-23T08:25:45.039164Z",
     "start_time": "2019-07-23T08:25:44.902685Z"
    }
   },
   "outputs": [],
   "source": [
    "def g2(gs):\n",
    "    aux = []\n",
    "    for x1 in gs:\n",
    "        for x2 in gs:\n",
    "            aux.append(x1+x2)\n",
    "    return DeleteDuplicates(aux)"
   ]
  },
  {
   "cell_type": "code",
   "execution_count": 10,
   "metadata": {
    "ExecuteTime": {
     "end_time": "2019-07-23T08:25:45.171983Z",
     "start_time": "2019-07-23T08:25:45.044835Z"
    }
   },
   "outputs": [],
   "source": [
    "def Gap2Generators(gaps):\n",
    "    f = max(gaps)\n",
    "    generadores = []\n",
    "    for i in range(1,f):\n",
    "        if i not in gaps:\n",
    "            generadores.append(i)\n",
    "    M = generadores[-1]\n",
    "    for i in range(generadores[1]):\n",
    "            generadores.append(f+i+1)\n",
    "    return NumericalSemigroup(generadores).generators"
   ]
  },
  {
   "cell_type": "code",
   "execution_count": 11,
   "metadata": {
    "ExecuteTime": {
     "end_time": "2019-07-23T08:25:45.260592Z",
     "start_time": "2019-07-23T08:25:45.176347Z"
    }
   },
   "outputs": [],
   "source": [
    "def ComputePseudoFrobenius(gen):\n",
    "    gap = GapSet(gen)\n",
    "    pf = []\n",
    "    for x in gap:\n",
    "        isPF = True\n",
    "        for y in gen:\n",
    "            if not Belong(gen,x+y):\n",
    "                isPF = False\n",
    "                break\n",
    "        if isPF:\n",
    "            pf.append(x)\n",
    "    return pf   "
   ]
  },
  {
   "cell_type": "code",
   "execution_count": 49,
   "metadata": {
    "ExecuteTime": {
     "end_time": "2019-07-23T09:27:06.171889Z",
     "start_time": "2019-07-23T09:27:06.141974Z"
    }
   },
   "outputs": [
    {
     "data": {
      "text/latex": [
       "$$\\left [ 12, \\quad 24\\right ]$$"
      ],
      "text/plain": [
       "[12, 24]"
      ]
     },
     "execution_count": 49,
     "metadata": {},
     "output_type": "execute_result"
    }
   ],
   "source": [
    "ComputePseudoFrobenius([5, 13, 16, 17])"
   ]
  },
  {
   "cell_type": "code",
   "execution_count": 33,
   "metadata": {
    "ExecuteTime": {
     "end_time": "2019-07-23T09:11:10.578410Z",
     "start_time": "2019-07-23T09:11:10.555330Z"
    }
   },
   "outputs": [
    {
     "data": {
      "text/latex": [
       "$$\\left [ 1, \\quad 2, \\quad 3, \\quad 4, \\quad 5, \\quad 6, \\quad 8, \\quad 10, \\quad 11, \\quad 12, \\quad 13, \\quad 17, \\quad 19, \\quad 20, \\quad 26\\right ]$$"
      ],
      "text/plain": [
       "[1, 2, 3, 4, 5, 6, 8, 10, 11, 12, 13, 17, 19, 20, 26]"
      ]
     },
     "execution_count": 33,
     "metadata": {},
     "output_type": "execute_result"
    }
   ],
   "source": [
    "GapSet([7,9,15])"
   ]
  },
  {
   "cell_type": "code",
   "execution_count": 12,
   "metadata": {
    "ExecuteTime": {
     "end_time": "2019-07-23T08:25:45.387394Z",
     "start_time": "2019-07-23T08:25:45.264230Z"
    }
   },
   "outputs": [
    {
     "data": {
      "text/latex": [
       "$$\\left [ 19, \\quad 21, \\quad 24, \\quad 25\\right ]$$"
      ],
      "text/plain": [
       "[19, 21, 24, 25]"
      ]
     },
     "execution_count": 12,
     "metadata": {},
     "output_type": "execute_result"
    }
   ],
   "source": [
    "ComputePseudoFrobenius([13, 14, 15, 16, 17, 18, 20, 22, 23])"
   ]
  },
  {
   "cell_type": "code",
   "execution_count": 34,
   "metadata": {
    "ExecuteTime": {
     "end_time": "2019-07-23T09:13:34.772553Z",
     "start_time": "2019-07-23T09:13:34.757652Z"
    }
   },
   "outputs": [
    {
     "data": {
      "text/plain": [
       "[5, 13, 16, 17, 19]"
      ]
     },
     "execution_count": 34,
     "metadata": {},
     "output_type": "execute_result"
    }
   ],
   "source": [
    "Gap2Generators([1,2,3,4,6,7,8,9,11,12,14])"
   ]
  },
  {
   "cell_type": "code",
   "execution_count": 41,
   "metadata": {
    "ExecuteTime": {
     "end_time": "2019-07-23T09:14:04.281134Z",
     "start_time": "2019-07-23T09:14:02.963047Z"
    }
   },
   "outputs": [
    {
     "name": "stdout",
     "output_type": "stream",
     "text": [
      "[5, 8, 11, 12]\n",
      "[5, 8, 9, 11]\n",
      "[5, 6, 7, 8]\n",
      "[4, 5, 6]\n",
      "[3, 5, 7]\n",
      "[2, 5]\n",
      "[3, 4, 5]\n",
      "[4, 5, 7]\n",
      "[5, 7, 8, 9]\n",
      "[5, 6, 7, 9]\n"
     ]
    },
    {
     "data": {
      "text/plain": [
       "[[5, 8, 11, 12], [5, 8, 9, 11], [5, 7, 8, 9], [5, 6, 7, 9]]"
      ]
     },
     "execution_count": 41,
     "metadata": {},
     "output_type": "execute_result"
    }
   ],
   "source": [
    "DecomposeIrreducible([5, 13, 16, 17, 19])"
   ]
  },
  {
   "cell_type": "code",
   "execution_count": 47,
   "metadata": {
    "ExecuteTime": {
     "end_time": "2019-07-23T09:16:19.494810Z",
     "start_time": "2019-07-23T09:16:19.479690Z"
    }
   },
   "outputs": [
    {
     "data": {
      "text/latex": [
       "$$\\left [ 1, \\quad 2, \\quad 3, \\quad 4, \\quad 8\\right ]$$"
      ],
      "text/plain": [
       "[1, 2, 3, 4, 8]"
      ]
     },
     "execution_count": 47,
     "metadata": {},
     "output_type": "execute_result"
    }
   ],
   "source": [
    "GapSet([5, 6, 7, 9])"
   ]
  },
  {
   "cell_type": "code",
   "execution_count": 43,
   "metadata": {
    "ExecuteTime": {
     "end_time": "2019-07-23T09:15:04.452432Z",
     "start_time": "2019-07-23T09:15:04.417893Z"
    }
   },
   "outputs": [
    {
     "data": {
      "text/latex": [
       "$$\\left\\{1, 2, 3, 4, 6, 7, 8, 9, 11, 12, 14\\right\\}$$"
      ],
      "text/plain": [
       "{1, 2, 3, 4, 6, 7, 8, 9, 11, 12, 14}"
      ]
     },
     "execution_count": 43,
     "metadata": {},
     "output_type": "execute_result"
    }
   ],
   "source": [
    "set(GapSet([5, 8, 11, 12])+GapSet([5, 8, 9, 11])+GapSet([5, 7, 8, 9])+GapSet([5, 6, 7, 9]))"
   ]
  },
  {
   "cell_type": "code",
   "execution_count": 35,
   "metadata": {
    "ExecuteTime": {
     "end_time": "2019-07-23T09:13:41.114398Z",
     "start_time": "2019-07-23T09:13:41.107928Z"
    }
   },
   "outputs": [],
   "source": [
    "def ComputeBP(pf):\n",
    "    aux = []\n",
    "    for x in pf:\n",
    "        if x > max(pf)/2:\n",
    "            aux.append(x)\n",
    "    return aux"
   ]
  },
  {
   "cell_type": "code",
   "execution_count": 12,
   "metadata": {
    "ExecuteTime": {
     "end_time": "2019-07-19T13:53:14.348903Z",
     "start_time": "2019-07-19T13:53:14.249734Z"
    }
   },
   "outputs": [
    {
     "data": {
      "text/latex": [
       "$$\\left [ 28, \\quad 29\\right ]$$"
      ],
      "text/plain": [
       "[28, 29]"
      ]
     },
     "execution_count": 12,
     "metadata": {},
     "output_type": "execute_result"
    }
   ],
   "source": [
    "ComputeBP([14,28,29])"
   ]
  },
  {
   "cell_type": "code",
   "execution_count": 36,
   "metadata": {
    "ExecuteTime": {
     "end_time": "2019-07-23T09:13:42.154699Z",
     "start_time": "2019-07-23T09:13:42.147330Z"
    }
   },
   "outputs": [],
   "source": [
    "def IsIrreducible(gen):\n",
    "    gaps = GapSet(gen)\n",
    "    pf = ComputePseudoFrobenius(gen)\n",
    "    bp = ComputeBP(pf)\n",
    "    if len(bp) == 1:\n",
    "        return True\n",
    "    return False"
   ]
  },
  {
   "cell_type": "code",
   "execution_count": 37,
   "metadata": {
    "ExecuteTime": {
     "end_time": "2019-07-23T09:13:44.005537Z",
     "start_time": "2019-07-23T09:13:43.944689Z"
    }
   },
   "outputs": [
    {
     "data": {
      "text/plain": [
       "False"
      ]
     },
     "execution_count": 37,
     "metadata": {},
     "output_type": "execute_result"
    }
   ],
   "source": [
    "IsIrreducible([13, 14, 15, 16, 17, 18, 19, 20, 22, 23])"
   ]
  },
  {
   "cell_type": "code",
   "execution_count": 38,
   "metadata": {
    "ExecuteTime": {
     "end_time": "2019-07-23T09:13:44.651549Z",
     "start_time": "2019-07-23T09:13:44.642390Z"
    }
   },
   "outputs": [],
   "source": [
    "def Decomposition(gen):\n",
    "    if IsIrreducible(gen):\n",
    "        return [gen]\n",
    "    gaps = GapSet(gen)\n",
    "    pf = ComputePseudoFrobenius(gen)\n",
    "    bp = ComputeBP(pf)\n",
    "    return [NumericalSemigroup(gen+[x]).generators for x in bp]"
   ]
  },
  {
   "cell_type": "code",
   "execution_count": 39,
   "metadata": {
    "ExecuteTime": {
     "end_time": "2019-07-23T09:13:45.832966Z",
     "start_time": "2019-07-23T09:13:45.825739Z"
    }
   },
   "outputs": [],
   "source": [
    "def Decomposition2(gen):\n",
    "    if IsIrreducible(gen):\n",
    "        return [gen]\n",
    "    gaps = GapSet(gen)\n",
    "    pf = ComputePseudoFrobenius(gen)\n",
    "    return [NumericalSemigroup(gen+[x]).generators for x in pf]"
   ]
  },
  {
   "cell_type": "code",
   "execution_count": 27,
   "metadata": {
    "ExecuteTime": {
     "end_time": "2019-07-19T14:05:21.649152Z",
     "start_time": "2019-07-19T14:05:21.502687Z"
    }
   },
   "outputs": [
    {
     "data": {
      "text/plain": [
       "[[13, 14, 15, 16, 17, 18, 20, 22, 23],\n",
       " [14, 15, 16, 17, 18, 19, 20, 22, 23, 26, 27],\n",
       " [14, 15, 16, 17, 18, 20, 21, 22, 23, 26, 27],\n",
       " [14, 15, 16, 17, 18, 20, 22, 23, 24, 26, 27],\n",
       " [14, 15, 16, 17, 18, 20, 22, 23, 25, 26, 27]]"
      ]
     },
     "execution_count": 27,
     "metadata": {},
     "output_type": "execute_result"
    }
   ],
   "source": [
    "Decomposition([14, 15, 16, 17, 18, 20, 22, 23, 26, 27])"
   ]
  },
  {
   "cell_type": "code",
   "execution_count": 28,
   "metadata": {
    "ExecuteTime": {
     "end_time": "2019-07-19T14:05:24.005451Z",
     "start_time": "2019-07-19T14:05:23.870198Z"
    }
   },
   "outputs": [
    {
     "data": {
      "text/plain": [
       "[[12, 14, 15, 16, 17, 18, 20, 22, 23],\n",
       " [13, 14, 15, 16, 17, 18, 20, 22, 23],\n",
       " [14, 15, 16, 17, 18, 19, 20, 22, 23, 26, 27],\n",
       " [14, 15, 16, 17, 18, 20, 21, 22, 23, 26, 27],\n",
       " [14, 15, 16, 17, 18, 20, 22, 23, 24, 26, 27],\n",
       " [14, 15, 16, 17, 18, 20, 22, 23, 25, 26, 27]]"
      ]
     },
     "execution_count": 28,
     "metadata": {},
     "output_type": "execute_result"
    }
   ],
   "source": [
    "Decomposition2([14, 15, 16, 17, 18, 20, 22, 23, 26, 27])"
   ]
  },
  {
   "cell_type": "code",
   "execution_count": 33,
   "metadata": {
    "ExecuteTime": {
     "end_time": "2019-07-19T14:08:04.742294Z",
     "start_time": "2019-07-19T14:08:04.679054Z"
    }
   },
   "outputs": [
    {
     "data": {
      "text/plain": [
       "False"
      ]
     },
     "execution_count": 33,
     "metadata": {},
     "output_type": "execute_result"
    }
   ],
   "source": [
    "IsIrreducible([12, 14, 15, 16, 17, 18, 20, 22, 23])"
   ]
  },
  {
   "cell_type": "code",
   "execution_count": 34,
   "metadata": {
    "ExecuteTime": {
     "end_time": "2019-07-19T14:09:20.962977Z",
     "start_time": "2019-07-19T14:09:20.920822Z"
    }
   },
   "outputs": [
    {
     "data": {
      "text/latex": [
       "$$\\left [ 19, \\quad 21, \\quad 25\\right ]$$"
      ],
      "text/plain": [
       "[19, 21, 25]"
      ]
     },
     "execution_count": 34,
     "metadata": {},
     "output_type": "execute_result"
    }
   ],
   "source": [
    "ComputePseudoFrobenius([12, 14, 15, 16, 17, 18, 20, 22, 23])"
   ]
  },
  {
   "cell_type": "code",
   "execution_count": 35,
   "metadata": {
    "ExecuteTime": {
     "end_time": "2019-07-19T14:09:40.966951Z",
     "start_time": "2019-07-19T14:09:40.856853Z"
    }
   },
   "outputs": [
    {
     "data": {
      "text/plain": [
       "[[12, 14, 15, 16, 17, 18, 19, 20, 22, 23],\n",
       " [12, 14, 15, 16, 17, 18, 20, 21, 22, 23],\n",
       " [12, 14, 15, 16, 17, 18, 20, 22, 23, 25]]"
      ]
     },
     "execution_count": 35,
     "metadata": {},
     "output_type": "execute_result"
    }
   ],
   "source": [
    "Decomposition2([12, 14, 15, 16, 17, 18, 20, 22, 23])"
   ]
  },
  {
   "cell_type": "code",
   "execution_count": 39,
   "metadata": {
    "ExecuteTime": {
     "end_time": "2019-07-19T14:12:49.226853Z",
     "start_time": "2019-07-19T14:12:49.093333Z"
    }
   },
   "outputs": [
    {
     "data": {
      "text/plain": [
       "[[12, 14, 15, 16, 17, 18, 19, 20, 21, 22, 23],\n",
       " [12, 14, 15, 16, 17, 18, 19, 20, 22, 23, 25]]"
      ]
     },
     "execution_count": 39,
     "metadata": {},
     "output_type": "execute_result"
    }
   ],
   "source": [
    "Decomposition2([12, 14, 15, 16, 17, 18, 19, 20, 22, 23])"
   ]
  },
  {
   "cell_type": "code",
   "execution_count": 43,
   "metadata": {
    "ExecuteTime": {
     "end_time": "2019-07-19T15:06:44.268301Z",
     "start_time": "2019-07-19T15:06:44.252589Z"
    }
   },
   "outputs": [
    {
     "data": {
      "text/plain": [
       "False"
      ]
     },
     "execution_count": 43,
     "metadata": {},
     "output_type": "execute_result"
    }
   ],
   "source": [
    "IsIrreducible([4,10,13,15])"
   ]
  },
  {
   "cell_type": "code",
   "execution_count": 48,
   "metadata": {
    "ExecuteTime": {
     "end_time": "2019-07-19T15:09:06.081446Z",
     "start_time": "2019-07-19T15:09:06.057746Z"
    }
   },
   "outputs": [
    {
     "data": {
      "text/latex": [
       "$$\\left [ 6, \\quad 9, \\quad 11\\right ]$$"
      ],
      "text/plain": [
       "[6, 9, 11]"
      ]
     },
     "execution_count": 48,
     "metadata": {},
     "output_type": "execute_result"
    }
   ],
   "source": [
    "ComputePseudoFrobenius([4,10,13,15])"
   ]
  },
  {
   "cell_type": "code",
   "execution_count": 44,
   "metadata": {
    "ExecuteTime": {
     "end_time": "2019-07-19T15:07:11.985968Z",
     "start_time": "2019-07-19T15:07:11.628044Z"
    }
   },
   "outputs": [
    {
     "name": "stdout",
     "output_type": "stream",
     "text": [
      "[4, 6, 9]\n",
      "[4, 6, 7]\n",
      "[4, 5, 6]\n",
      "[3, 4]\n",
      "[2, 5]\n",
      "[3, 4, 5]\n",
      "[4, 5, 7]\n"
     ]
    },
    {
     "data": {
      "text/plain": [
       "[[4, 6, 9], [4, 6, 7], [4, 5, 7]]"
      ]
     },
     "execution_count": 44,
     "metadata": {},
     "output_type": "execute_result"
    }
   ],
   "source": [
    "DecomposeIrreducible([4,10,13,15])"
   ]
  },
  {
   "cell_type": "code",
   "execution_count": 49,
   "metadata": {
    "ExecuteTime": {
     "end_time": "2019-07-19T15:10:52.601406Z",
     "start_time": "2019-07-19T15:10:52.430985Z"
    }
   },
   "outputs": [
    {
     "name": "stdout",
     "output_type": "stream",
     "text": [
      "[4, 5, 7]\n",
      "[3, 4]\n",
      "[2, 5]\n",
      "[3, 4, 5]\n",
      "[3, 5, 7]\n"
     ]
    },
    {
     "data": {
      "text/plain": [
       "[[4, 5, 7], [3, 4], [3, 5, 7]]"
      ]
     },
     "execution_count": 49,
     "metadata": {},
     "output_type": "execute_result"
    }
   ],
   "source": [
    "DecomposeIrreducible([7,8,9,10,11,12,13])"
   ]
  },
  {
   "cell_type": "code",
   "execution_count": 47,
   "metadata": {
    "ExecuteTime": {
     "end_time": "2019-07-19T15:08:29.523297Z",
     "start_time": "2019-07-19T15:08:29.510634Z"
    }
   },
   "outputs": [
    {
     "data": {
      "text/latex": [
       "$$\\left [ 1, \\quad 2, \\quad 3, \\quad 6\\right ]$$"
      ],
      "text/plain": [
       "[1, 2, 3, 6]"
      ]
     },
     "execution_count": 47,
     "metadata": {},
     "output_type": "execute_result"
    }
   ],
   "source": [
    "GapSet([4, 5, 7])"
   ]
  },
  {
   "cell_type": "code",
   "execution_count": 41,
   "metadata": {
    "ExecuteTime": {
     "end_time": "2019-07-19T14:42:59.492467Z",
     "start_time": "2019-07-19T14:42:59.474309Z"
    }
   },
   "outputs": [
    {
     "data": {
      "text/latex": [
       "$$\\left [ 9\\right ]$$"
      ],
      "text/plain": [
       "[9]"
      ]
     },
     "execution_count": 41,
     "metadata": {},
     "output_type": "execute_result"
    }
   ],
   "source": [
    "ComputePseudoFrobenius([4,6,7])"
   ]
  },
  {
   "cell_type": "code",
   "execution_count": null,
   "metadata": {},
   "outputs": [],
   "source": [
    "Decomposition2([12, 14, 15, 16, 17, 18, 20, 21, 22, 23]\n",
    "              º)"
   ]
  },
  {
   "cell_type": "code",
   "execution_count": 40,
   "metadata": {
    "ExecuteTime": {
     "end_time": "2019-07-23T09:13:50.958970Z",
     "start_time": "2019-07-23T09:13:50.943177Z"
    }
   },
   "outputs": [],
   "source": [
    "def DecomposeIrreducible(gen):\n",
    "    candidatos = [gen]\n",
    "    end = False\n",
    "    while end == False:\n",
    "        candidatos2 = []\n",
    "        for x in candidatos:\n",
    "            candidatos2 = candidatos2 + Decomposition(x)\n",
    "        candidatos = DeleteDuplicates(candidatos2)\n",
    "        end = all([IsIrreducible(x) for x in candidatos])\n",
    "    # Ahora calculamos los minimales\n",
    "    pf = ComputePseudoFrobenius(gen)\n",
    "    bp = ComputeBP(pf)\n",
    "    minimales = []\n",
    "    for x in candidatos:\n",
    "        print(x)\n",
    "    for x in candidatos:\n",
    "        if max(ComputePseudoFrobenius(x)) in bp:\n",
    "            minimales.append(x)\n",
    "    return minimales"
   ]
  },
  {
   "cell_type": "code",
   "execution_count": 13,
   "metadata": {
    "ExecuteTime": {
     "end_time": "2019-07-22T14:27:27.406809Z",
     "start_time": "2019-07-22T14:27:27.399128Z"
    }
   },
   "outputs": [],
   "source": [
    "def DecomposeIrreducible2(gen):\n",
    "    candidatos = [gen]\n",
    "    end = False\n",
    "    while end == False:\n",
    "        candidatos2 = []\n",
    "        for x in candidatos:\n",
    "            candidatos2 = candidatos2 + Decomposition2(x)\n",
    "        candidatos = DeleteDuplicates(candidatos2)\n",
    "        end = all([IsIrreducible(x) for x in candidatos])\n",
    "    # Ahora calculamos los minimales\n",
    "    pf = ComputePseudoFrobenius(gen)\n",
    "    bp = ComputeBP(pf)\n",
    "    minimales = []\n",
    "    for x in candidatos:\n",
    "        print(x)\n",
    "    for x in candidatos:\n",
    "        if max(ComputePseudoFrobenius(x)) in bp:\n",
    "            minimales.append(x)\n",
    "    return minimales"
   ]
  },
  {
   "cell_type": "code",
   "execution_count": 50,
   "metadata": {
    "ExecuteTime": {
     "end_time": "2019-07-23T10:13:08.053642Z",
     "start_time": "2019-07-23T10:12:48.431226Z"
    }
   },
   "outputs": [
    {
     "name": "stdout",
     "output_type": "stream",
     "text": [
      "[13, 14, 15, 16, 17, 18, 19, 20, 21, 22, 23, 24]\n",
      "[13, 14, 15, 16, 17, 18, 19, 20, 21, 22, 23, 25]\n",
      "[11, 12, 13, 14, 15, 16, 17, 18, 19, 20]\n",
      "[7, 8, 9, 10, 11, 13]\n",
      "[6, 7, 8, 9, 11]\n",
      "[4, 5, 7]\n",
      "[3, 4]\n",
      "[2, 5]\n",
      "[3, 4, 5]\n",
      "[3, 5, 7]\n",
      "[5, 6, 7, 8]\n",
      "[5, 6, 7, 9]\n",
      "[4, 5, 6]\n",
      "[6, 7, 8, 9, 10]\n",
      "[10, 11, 12, 13, 14, 15, 16, 17, 18]\n",
      "[7, 8, 9, 10, 11, 12]\n"
     ]
    },
    {
     "data": {
      "text/plain": [
       "[[13, 14, 15, 16, 17, 18, 19, 20, 21, 22, 23, 24],\n",
       " [13, 14, 15, 16, 17, 18, 19, 20, 21, 22, 23, 25],\n",
       " [11, 12, 13, 14, 15, 16, 17, 18, 19, 20],\n",
       " [10, 11, 12, 13, 14, 15, 16, 17, 18],\n",
       " [7, 8, 9, 10, 11, 12]]"
      ]
     },
     "execution_count": 50,
     "metadata": {},
     "output_type": "execute_result"
    }
   ],
   "source": [
    "DecomposeIrreducible([14, 15, 16, 17, 18, 20, 22, 23, 26, 27])"
   ]
  },
  {
   "cell_type": "code",
   "execution_count": 32,
   "metadata": {
    "ExecuteTime": {
     "end_time": "2019-07-19T14:07:22.606310Z",
     "start_time": "2019-07-19T14:07:02.482905Z"
    }
   },
   "outputs": [
    {
     "name": "stdout",
     "output_type": "stream",
     "text": [
      "[13, 14, 15, 16, 17, 18, 19, 20, 21, 22, 23, 24]\n",
      "[13, 14, 15, 16, 17, 18, 19, 20, 21, 22, 23, 25]\n",
      "[11, 12, 13, 14, 15, 16, 17, 18, 19, 20]\n",
      "[7, 8, 9, 10, 11, 13]\n",
      "[6, 7, 8, 9, 11]\n",
      "[4, 5, 7]\n",
      "[3, 4]\n",
      "[2, 5]\n",
      "[3, 4, 5]\n",
      "[3, 5, 7]\n",
      "[5, 6, 7, 8]\n",
      "[5, 6, 7, 9]\n",
      "[4, 5, 6]\n",
      "[6, 7, 8, 9, 10]\n",
      "[10, 11, 12, 13, 14, 15, 16, 17, 18]\n",
      "[7, 8, 9, 10, 11, 12]\n"
     ]
    }
   ],
   "source": [
    "di = DecomposeIrreducible([14, 15, 16, 17, 18, 20, 22, 23, 26, 27])"
   ]
  },
  {
   "cell_type": "code",
   "execution_count": 104,
   "metadata": {
    "ExecuteTime": {
     "end_time": "2019-07-19T10:56:41.413157Z",
     "start_time": "2019-07-19T10:56:41.395541Z"
    }
   },
   "outputs": [
    {
     "data": {
      "text/plain": [
       "[13, 14, 15, 16, 17, 18, 20, 22, 23]"
      ]
     },
     "execution_count": 104,
     "metadata": {},
     "output_type": "execute_result"
    }
   ],
   "source": [
    "Gap2Generators([1,2,3,4,5,6,7,8,9,10,11,12,19,21,24,25])"
   ]
  },
  {
   "cell_type": "code",
   "execution_count": 14,
   "metadata": {
    "ExecuteTime": {
     "end_time": "2019-07-19T09:56:56.122031Z",
     "start_time": "2019-07-19T09:56:56.084419Z"
    }
   },
   "outputs": [
    {
     "name": "stdout",
     "output_type": "stream",
     "text": [
      "Los huecos son:  [1, 2, 3, 4, 5, 6, 7, 8, 9, 14, 15, 16, 17, 18, 19, 28, 29]\n",
      "El genero es:  17\n"
     ]
    },
    {
     "data": {
      "text/latex": [
       "$$\\left ( \\left [ 2, \\quad 3, \\quad 4, \\quad 5, \\quad 6, \\quad 7, \\quad 8, \\quad 9, \\quad 10, \\quad 15, \\quad 16, \\quad 17, \\quad 18, \\quad 19, \\quad 20, \\quad 29, \\quad 30, \\quad 11, \\quad 21, \\quad 31, \\quad 12, \\quad 22, \\quad 32, \\quad 13, \\quad 23, \\quad 33, \\quad 14, \\quad 24, \\quad 34, \\quad 25, \\quad 35, \\quad 26, \\quad 36, \\quad 27, \\quad 37, \\quad 28, \\quad 38, \\quad 42, \\quad 43, \\quad 44, \\quad 45, \\quad 46, \\quad 47, \\quad 48, \\quad 56, \\quad 57, \\quad 58\\right ], \\quad 47\\right )$$"
      ],
      "text/plain": [
       "([2, 3, 4, 5, 6, 7, 8, 9, 10, 15, 16, 17, 18, 19, 20, 29, 30, 11, 21, 31, 12, \n",
       "22, 32, 13, 23, 33, 14, 24, 34, 25, 35, 26, 36, 27, 37, 28, 38, 42, 43, 44, 45\n",
       ", 46, 47, 48, 56, 57, 58], 47)"
      ]
     },
     "execution_count": 14,
     "metadata": {},
     "output_type": "execute_result"
    }
   ],
   "source": [
    "gs = GapSet([10,11,12,13,27])\n",
    "print(\"Los huecos son: \",gs)\n",
    "print(\"El genero es: \",len(gs))\n",
    "g2(gs),len(g2(gs))"
   ]
  },
  {
   "cell_type": "code",
   "execution_count": 13,
   "metadata": {
    "ExecuteTime": {
     "end_time": "2019-07-22T08:05:31.642752Z",
     "start_time": "2019-07-22T08:05:31.611186Z"
    }
   },
   "outputs": [
    {
     "data": {
      "text/plain": [
       "[14, 15, 16, 17, 18, 20, 22, 23, 26, 27]"
      ]
     },
     "execution_count": 13,
     "metadata": {},
     "output_type": "execute_result"
    }
   ],
   "source": [
    "Gap2Generators([1,2,3,4,5,6,7,8,9,10,11,12,13,19,21,24,25])"
   ]
  },
  {
   "cell_type": "code",
   "execution_count": 138,
   "metadata": {
    "ExecuteTime": {
     "end_time": "2019-07-19T11:19:59.025735Z",
     "start_time": "2019-07-19T11:19:58.965102Z"
    }
   },
   "outputs": [
    {
     "data": {
      "text/latex": [
       "$$\\left [ 12, \\quad 13, \\quad 19, \\quad 21, \\quad 24, \\quad 25\\right ]$$"
      ],
      "text/plain": [
       "[12, 13, 19, 21, 24, 25]"
      ]
     },
     "execution_count": 138,
     "metadata": {},
     "output_type": "execute_result"
    }
   ],
   "source": [
    "ComputePseudoFrobenius([14, 15, 16, 17, 18, 20, 22, 23, 26, 27])"
   ]
  },
  {
   "cell_type": "code",
   "execution_count": 15,
   "metadata": {
    "ExecuteTime": {
     "end_time": "2019-07-22T08:06:28.066982Z",
     "start_time": "2019-07-22T08:06:28.055454Z"
    }
   },
   "outputs": [
    {
     "data": {
      "text/latex": [
       "$$26$$"
      ],
      "text/plain": [
       "26"
      ]
     },
     "execution_count": 15,
     "metadata": {},
     "output_type": "execute_result"
    }
   ],
   "source": [
    "len(g2([14, 15, 16, 17, 18, 20, 22, 23, 26, 27]))"
   ]
  },
  {
   "cell_type": "code",
   "execution_count": 17,
   "metadata": {
    "ExecuteTime": {
     "end_time": "2019-07-22T08:07:25.509061Z",
     "start_time": "2019-07-22T08:07:25.472961Z"
    }
   },
   "outputs": [
    {
     "data": {
      "text/latex": [
       "$$17$$"
      ],
      "text/plain": [
       "17"
      ]
     },
     "execution_count": 17,
     "metadata": {},
     "output_type": "execute_result"
    }
   ],
   "source": [
    "len(GapSet([14, 15, 16, 17, 18, 20, 22, 23, 26, 27]))"
   ]
  },
  {
   "cell_type": "code",
   "execution_count": 139,
   "metadata": {
    "ExecuteTime": {
     "end_time": "2019-07-19T11:20:29.358414Z",
     "start_time": "2019-07-19T11:20:29.348737Z"
    }
   },
   "outputs": [
    {
     "data": {
      "text/latex": [
       "$$\\left [ 13, \\quad 19, \\quad 21, \\quad 24, \\quad 25\\right ]$$"
      ],
      "text/plain": [
       "[13, 19, 21, 24, 25]"
      ]
     },
     "execution_count": 139,
     "metadata": {},
     "output_type": "execute_result"
    }
   ],
   "source": [
    "ComputeBP([12,13,19,21,24,25])"
   ]
  },
  {
   "cell_type": "code",
   "execution_count": 80,
   "metadata": {
    "ExecuteTime": {
     "end_time": "2019-07-22T15:44:04.479363Z",
     "start_time": "2019-07-22T15:44:04.126441Z"
    }
   },
   "outputs": [
    {
     "data": {
      "text/plain": [
       "[97,\n",
       " 98,\n",
       " 99,\n",
       " 100,\n",
       " 101,\n",
       " 102,\n",
       " 103,\n",
       " 104,\n",
       " 105,\n",
       " 106,\n",
       " 107,\n",
       " 108,\n",
       " 109,\n",
       " 110,\n",
       " 111,\n",
       " 112,\n",
       " 113,\n",
       " 114,\n",
       " 115,\n",
       " 116,\n",
       " 117,\n",
       " 118,\n",
       " 119,\n",
       " 120,\n",
       " 121,\n",
       " 122,\n",
       " 123,\n",
       " 124,\n",
       " 125,\n",
       " 126,\n",
       " 127,\n",
       " 128,\n",
       " 129,\n",
       " 130,\n",
       " 131,\n",
       " 132,\n",
       " 133,\n",
       " 134,\n",
       " 135,\n",
       " 136,\n",
       " 137,\n",
       " 138,\n",
       " 139,\n",
       " 140,\n",
       " 141,\n",
       " 142,\n",
       " 143,\n",
       " 144,\n",
       " 145,\n",
       " 146,\n",
       " 147,\n",
       " 148,\n",
       " 149,\n",
       " 150,\n",
       " 151,\n",
       " 152,\n",
       " 153,\n",
       " 154,\n",
       " 155,\n",
       " 156,\n",
       " 157,\n",
       " 158,\n",
       " 159,\n",
       " 160,\n",
       " 161,\n",
       " 162,\n",
       " 163,\n",
       " 164,\n",
       " 165,\n",
       " 166,\n",
       " 167,\n",
       " 168,\n",
       " 170,\n",
       " 171,\n",
       " 172,\n",
       " 173,\n",
       " 174,\n",
       " 175,\n",
       " 176,\n",
       " 177,\n",
       " 178,\n",
       " 179,\n",
       " 180,\n",
       " 181,\n",
       " 182,\n",
       " 183,\n",
       " 184,\n",
       " 185,\n",
       " 186,\n",
       " 187,\n",
       " 188,\n",
       " 190,\n",
       " 191,\n",
       " 192]"
      ]
     },
     "execution_count": 80,
     "metadata": {},
     "output_type": "execute_result"
    }
   ],
   "source": [
    "NumericalSemigroup(Gap2Generators([x for x in range(1,97)]+[2*99-29,2*99-9,2*99-5])).generators"
   ]
  },
  {
   "cell_type": "code",
   "execution_count": null,
   "metadata": {
    "ExecuteTime": {
     "start_time": "2019-07-22T15:44:24.727Z"
    }
   },
   "outputs": [],
   "source": [
    "DecomposeIrreducible([97,\n",
    " 98,\n",
    " 99,\n",
    " 100,\n",
    " 101,\n",
    " 102,\n",
    " 103,\n",
    " 104,\n",
    " 105,\n",
    " 106,\n",
    " 107,\n",
    " 108,\n",
    " 109,\n",
    " 110,\n",
    " 111,\n",
    " 112,\n",
    " 113,\n",
    " 114,\n",
    " 115,\n",
    " 116,\n",
    " 117,\n",
    " 118,\n",
    " 119,\n",
    " 120,\n",
    " 121,\n",
    " 122,\n",
    " 123,\n",
    " 124,\n",
    " 125,\n",
    " 126,\n",
    " 127,\n",
    " 128,\n",
    " 129,\n",
    " 130,\n",
    " 131,\n",
    " 132,\n",
    " 133,\n",
    " 134,\n",
    " 135,\n",
    " 136,\n",
    " 137,\n",
    " 138,\n",
    " 139,\n",
    " 140,\n",
    " 141,\n",
    " 142,\n",
    " 143,\n",
    " 144,\n",
    " 145,\n",
    " 146,\n",
    " 147,\n",
    " 148,\n",
    " 149,\n",
    " 150,\n",
    " 151,\n",
    " 152,\n",
    " 153,\n",
    " 154,\n",
    " 155,\n",
    " 156,\n",
    " 157,\n",
    " 158,\n",
    " 159,\n",
    " 160,\n",
    " 161,\n",
    " 162,\n",
    " 163,\n",
    " 164,\n",
    " 165,\n",
    " 166,\n",
    " 167,\n",
    " 168,\n",
    " 170,\n",
    " 171,\n",
    " 172,\n",
    " 173,\n",
    " 174,\n",
    " 175,\n",
    " 176,\n",
    " 177,\n",
    " 178,\n",
    " 179,\n",
    " 180,\n",
    " 181,\n",
    " 182,\n",
    " 183,\n",
    " 184,\n",
    " 185,\n",
    " 186,\n",
    " 187,\n",
    " 188,\n",
    " 190,\n",
    " 191,\n",
    " 192])"
   ]
  },
  {
   "cell_type": "code",
   "execution_count": 22,
   "metadata": {
    "ExecuteTime": {
     "end_time": "2019-07-19T13:56:11.324413Z",
     "start_time": "2019-07-19T13:55:51.480907Z"
    }
   },
   "outputs": [
    {
     "name": "stdout",
     "output_type": "stream",
     "text": [
      "[13, 14, 15, 16, 17, 18, 19, 20, 21, 22, 23, 24]\n",
      "[13, 14, 15, 16, 17, 18, 19, 20, 21, 22, 23, 25]\n",
      "[11, 12, 13, 14, 15, 16, 17, 18, 19, 20]\n",
      "[7, 8, 9, 10, 11, 13]\n",
      "[6, 7, 8, 9, 11]\n",
      "[4, 5, 7]\n",
      "[3, 4]\n",
      "[2, 5]\n",
      "[3, 4, 5]\n",
      "[3, 5, 7]\n",
      "[5, 6, 7, 8]\n",
      "[5, 6, 7, 9]\n",
      "[4, 5, 6]\n",
      "[6, 7, 8, 9, 10]\n",
      "[10, 11, 12, 13, 14, 15, 16, 17, 18]\n",
      "[7, 8, 9, 10, 11, 12]\n"
     ]
    }
   ],
   "source": [
    "di2 = DecomposeIrreducible([14, 15, 16, 17, 18, 20, 22, 23, 26, 27])"
   ]
  },
  {
   "cell_type": "code",
   "execution_count": 23,
   "metadata": {
    "ExecuteTime": {
     "end_time": "2019-07-19T13:56:17.549267Z",
     "start_time": "2019-07-19T13:56:17.536134Z"
    }
   },
   "outputs": [
    {
     "data": {
      "text/plain": [
       "[[13, 14, 15, 16, 17, 18, 19, 20, 21, 22, 23, 24],\n",
       " [13, 14, 15, 16, 17, 18, 19, 20, 21, 22, 23, 25],\n",
       " [11, 12, 13, 14, 15, 16, 17, 18, 19, 20],\n",
       " [10, 11, 12, 13, 14, 15, 16, 17, 18],\n",
       " [7, 8, 9, 10, 11, 12]]"
      ]
     },
     "execution_count": 23,
     "metadata": {},
     "output_type": "execute_result"
    }
   ],
   "source": [
    "di2"
   ]
  },
  {
   "cell_type": "code",
   "execution_count": 19,
   "metadata": {
    "ExecuteTime": {
     "end_time": "2019-07-19T13:54:28.216071Z",
     "start_time": "2019-07-19T13:54:28.168896Z"
    }
   },
   "outputs": [
    {
     "data": {
      "text/latex": [
       "$$\\left [ 25\\right ]$$"
      ],
      "text/plain": [
       "[25]"
      ]
     },
     "execution_count": 19,
     "metadata": {},
     "output_type": "execute_result"
    }
   ],
   "source": [
    "ComputePseudoFrobenius([13, 14, 15, 16, 17, 18, 19, 20, 21, 22, 23, 24])"
   ]
  },
  {
   "cell_type": "code",
   "execution_count": 160,
   "metadata": {
    "ExecuteTime": {
     "end_time": "2019-07-19T11:37:13.237811Z",
     "start_time": "2019-07-19T11:37:13.158296Z"
    }
   },
   "outputs": [
    {
     "name": "stdout",
     "output_type": "stream",
     "text": [
      "[1, 2, 3, 4, 5, 6, 7, 8, 9, 10, 11, 12, 13, 19, 21, 24, 25]\n"
     ]
    },
    {
     "data": {
      "text/plain": [
       "True"
      ]
     },
     "execution_count": 160,
     "metadata": {},
     "output_type": "execute_result"
    }
   ],
   "source": [
    "gaps = []\n",
    "for x in di2:\n",
    "    gaps = gaps+GapSet(x)\n",
    "print(list(sort(DeleteDuplicates(gaps))))\n",
    "list(sort(DeleteDuplicates(gaps))) == [1,2,3,4,5,6,7,8,9,10,11,12,13,19,21,24,25]"
   ]
  },
  {
   "cell_type": "code",
   "execution_count": 1,
   "metadata": {
    "ExecuteTime": {
     "end_time": "2019-07-19T13:52:41.701514Z",
     "start_time": "2019-07-19T13:52:41.520707Z"
    }
   },
   "outputs": [
    {
     "ename": "NameError",
     "evalue": "name 'di2' is not defined",
     "output_type": "error",
     "traceback": [
      "\u001b[0;31m---------------------------------------------------------------------------\u001b[0m",
      "\u001b[0;31mNameError\u001b[0m                                 Traceback (most recent call last)",
      "\u001b[0;32m<ipython-input-1-bb6d86c0fa41>\u001b[0m in \u001b[0;36m<module>\u001b[0;34m\u001b[0m\n\u001b[1;32m      1\u001b[0m \u001b[0mgaps\u001b[0m \u001b[0;34m=\u001b[0m \u001b[0;34m[\u001b[0m\u001b[0;34m]\u001b[0m\u001b[0;34m\u001b[0m\u001b[0;34m\u001b[0m\u001b[0m\n\u001b[0;32m----> 2\u001b[0;31m \u001b[0;32mfor\u001b[0m \u001b[0mx\u001b[0m \u001b[0;32min\u001b[0m \u001b[0mdi2\u001b[0m\u001b[0;34m:\u001b[0m\u001b[0;34m\u001b[0m\u001b[0;34m\u001b[0m\u001b[0m\n\u001b[0m\u001b[1;32m      3\u001b[0m     \u001b[0mgaps\u001b[0m \u001b[0;34m=\u001b[0m \u001b[0mgaps\u001b[0m\u001b[0;34m+\u001b[0m\u001b[0mGapSet\u001b[0m\u001b[0;34m(\u001b[0m\u001b[0mx\u001b[0m\u001b[0;34m)\u001b[0m\u001b[0;34m\u001b[0m\u001b[0;34m\u001b[0m\u001b[0m\n\u001b[1;32m      4\u001b[0m \u001b[0mprint\u001b[0m\u001b[0;34m(\u001b[0m\u001b[0mlist\u001b[0m\u001b[0;34m(\u001b[0m\u001b[0msort\u001b[0m\u001b[0;34m(\u001b[0m\u001b[0mDeleteDuplicates\u001b[0m\u001b[0;34m(\u001b[0m\u001b[0mgaps\u001b[0m\u001b[0;34m)\u001b[0m\u001b[0;34m)\u001b[0m\u001b[0;34m)\u001b[0m\u001b[0;34m)\u001b[0m\u001b[0;34m\u001b[0m\u001b[0;34m\u001b[0m\u001b[0m\n\u001b[1;32m      5\u001b[0m \u001b[0mlist\u001b[0m\u001b[0;34m(\u001b[0m\u001b[0msort\u001b[0m\u001b[0;34m(\u001b[0m\u001b[0mDeleteDuplicates\u001b[0m\u001b[0;34m(\u001b[0m\u001b[0mgaps\u001b[0m\u001b[0;34m)\u001b[0m\u001b[0;34m)\u001b[0m\u001b[0;34m)\u001b[0m \u001b[0;34m==\u001b[0m \u001b[0;34m[\u001b[0m\u001b[0;36m1\u001b[0m\u001b[0;34m,\u001b[0m\u001b[0;36m2\u001b[0m\u001b[0;34m,\u001b[0m\u001b[0;36m3\u001b[0m\u001b[0;34m,\u001b[0m\u001b[0;36m4\u001b[0m\u001b[0;34m,\u001b[0m\u001b[0;36m5\u001b[0m\u001b[0;34m,\u001b[0m\u001b[0;36m6\u001b[0m\u001b[0;34m,\u001b[0m\u001b[0;36m7\u001b[0m\u001b[0;34m,\u001b[0m\u001b[0;36m8\u001b[0m\u001b[0;34m,\u001b[0m\u001b[0;36m9\u001b[0m\u001b[0;34m,\u001b[0m\u001b[0;36m10\u001b[0m\u001b[0;34m,\u001b[0m\u001b[0;36m11\u001b[0m\u001b[0;34m,\u001b[0m\u001b[0;36m12\u001b[0m\u001b[0;34m,\u001b[0m\u001b[0;36m13\u001b[0m\u001b[0;34m,\u001b[0m\u001b[0;36m19\u001b[0m\u001b[0;34m,\u001b[0m\u001b[0;36m21\u001b[0m\u001b[0;34m,\u001b[0m\u001b[0;36m24\u001b[0m\u001b[0;34m,\u001b[0m\u001b[0;36m25\u001b[0m\u001b[0;34m]\u001b[0m\u001b[0;34m\u001b[0m\u001b[0;34m\u001b[0m\u001b[0m\n",
      "\u001b[0;31mNameError\u001b[0m: name 'di2' is not defined"
     ]
    }
   ],
   "source": [
    "gaps = []\n",
    "for x in di2:\n",
    "    gaps = gaps+GapSet(x)\n",
    "print(list(sort(DeleteDuplicates(gaps))))\n",
    "list(sort(DeleteDuplicates(gaps))) == [1,2,3,4,5,6,7,8,9,10,11,12,13,19,21,24,25]"
   ]
  },
  {
   "cell_type": "code",
   "execution_count": 25,
   "metadata": {
    "ExecuteTime": {
     "end_time": "2019-07-19T13:57:28.714651Z",
     "start_time": "2019-07-19T13:57:28.679891Z"
    }
   },
   "outputs": [
    {
     "data": {
      "text/latex": [
       "$$\\left [ 1, \\quad 2, \\quad 3, \\quad 4, \\quad 5, \\quad 6, \\quad 7, \\quad 8, \\quad 9, \\quad 10, \\quad 11, \\quad 12, \\quad 25\\right ]$$"
      ],
      "text/plain": [
       "[1, 2, 3, 4, 5, 6, 7, 8, 9, 10, 11, 12, 25]"
      ]
     },
     "execution_count": 25,
     "metadata": {},
     "output_type": "execute_result"
    }
   ],
   "source": [
    "GapSet([13, 14, 15, 16, 17, 18, 19, 20, 21, 22, 23, 24])"
   ]
  },
  {
   "cell_type": "code",
   "execution_count": 145,
   "metadata": {
    "ExecuteTime": {
     "end_time": "2019-07-19T11:23:26.961472Z",
     "start_time": "2019-07-19T11:23:26.918456Z"
    }
   },
   "outputs": [
    {
     "data": {
      "text/latex": [
       "$$13$$"
      ],
      "text/plain": [
       "13"
      ]
     },
     "execution_count": 145,
     "metadata": {},
     "output_type": "execute_result"
    }
   ],
   "source": [
    "len(GapSet([13, 14, 15, 16, 17, 18, 19, 20, 21, 22, 23, 25]))"
   ]
  },
  {
   "cell_type": "code",
   "execution_count": 151,
   "metadata": {
    "ExecuteTime": {
     "end_time": "2019-07-19T11:26:55.487345Z",
     "start_time": "2019-07-19T11:26:55.459484Z"
    }
   },
   "outputs": [
    {
     "data": {
      "text/latex": [
       "$$11$$"
      ],
      "text/plain": [
       "11"
      ]
     },
     "execution_count": 151,
     "metadata": {},
     "output_type": "execute_result"
    }
   ],
   "source": [
    "len(GapSet([11, 12, 13, 14, 15, 16, 17, 18, 19, 20]))"
   ]
  },
  {
   "cell_type": "code",
   "execution_count": 150,
   "metadata": {
    "ExecuteTime": {
     "end_time": "2019-07-19T11:26:53.146627Z",
     "start_time": "2019-07-19T11:26:53.118452Z"
    }
   },
   "outputs": [
    {
     "data": {
      "text/latex": [
       "$$10$$"
      ],
      "text/plain": [
       "10"
      ]
     },
     "execution_count": 150,
     "metadata": {},
     "output_type": "execute_result"
    }
   ],
   "source": [
    "len(GapSet([10, 11, 12, 13, 14, 15, 16, 17, 18]))"
   ]
  },
  {
   "cell_type": "code",
   "execution_count": 50,
   "metadata": {
    "ExecuteTime": {
     "end_time": "2019-07-19T15:16:30.659422Z",
     "start_time": "2019-07-19T15:16:30.615576Z"
    }
   },
   "outputs": [
    {
     "data": {
      "text/plain": [
       "True"
      ]
     },
     "execution_count": 50,
     "metadata": {},
     "output_type": "execute_result"
    }
   ],
   "source": [
    "IsIrreducible([10,11,12,13,14,15,16,17,18])"
   ]
  },
  {
   "cell_type": "code",
   "execution_count": 72,
   "metadata": {
    "ExecuteTime": {
     "end_time": "2019-07-22T09:08:56.589636Z",
     "start_time": "2019-07-22T09:08:56.581595Z"
    }
   },
   "outputs": [],
   "source": [
    "ns = NumericalSemigroup([1])\n",
    "nivel = [ns.Children()]"
   ]
  },
  {
   "cell_type": "code",
   "execution_count": 80,
   "metadata": {
    "ExecuteTime": {
     "end_time": "2019-07-22T09:09:21.953966Z",
     "start_time": "2019-07-22T09:09:21.937059Z"
    }
   },
   "outputs": [],
   "source": [
    "nivel2 = []\n",
    "for x in nivel:\n",
    "    for y in x:\n",
    "        nivel2.append(y.Children())\n",
    "nivel = list(nivel2)"
   ]
  },
  {
   "cell_type": "code",
   "execution_count": 81,
   "metadata": {
    "ExecuteTime": {
     "end_time": "2019-07-22T09:09:22.233519Z",
     "start_time": "2019-07-22T09:09:22.226546Z"
    }
   },
   "outputs": [
    {
     "data": {
      "text/plain": [
       "[[<NumericalSemigroup.NumericalSemigroup at 0x7f0c7d31aba8>,\n",
       "  <NumericalSemigroup.NumericalSemigroup at 0x7f0c7d31a208>,\n",
       "  <NumericalSemigroup.NumericalSemigroup at 0x7f0c7d31ab38>,\n",
       "  <NumericalSemigroup.NumericalSemigroup at 0x7f0c7d31add8>],\n",
       " [<NumericalSemigroup.NumericalSemigroup at 0x7f0c7d31a9e8>,\n",
       "  <NumericalSemigroup.NumericalSemigroup at 0x7f0c7d31af98>],\n",
       " [],\n",
       " [<NumericalSemigroup.NumericalSemigroup at 0x7f0c7d31ad68>]]"
      ]
     },
     "execution_count": 81,
     "metadata": {},
     "output_type": "execute_result"
    }
   ],
   "source": [
    "nivel"
   ]
  },
  {
   "cell_type": "code",
   "execution_count": 82,
   "metadata": {
    "ExecuteTime": {
     "end_time": "2019-07-22T09:09:22.568171Z",
     "start_time": "2019-07-22T09:09:22.558674Z"
    }
   },
   "outputs": [
    {
     "name": "stdout",
     "output_type": "stream",
     "text": [
      "[5, 6, 7, 8, 9]\n",
      "[4, 6, 7, 9]\n",
      "[4, 5, 7]\n",
      "[4, 5, 6]\n",
      "[3, 7, 8]\n",
      "[3, 5]\n",
      "[2, 9]\n"
     ]
    }
   ],
   "source": [
    "for x in nivel:\n",
    "    for y in x:\n",
    "        print(y.generators)"
   ]
  },
  {
   "cell_type": "code",
   "execution_count": 91,
   "metadata": {
    "ExecuteTime": {
     "end_time": "2019-07-22T11:38:48.487929Z",
     "start_time": "2019-07-22T09:27:00.665077Z"
    },
    "scrolled": true
   },
   "outputs": [
    {
     "name": "stdout",
     "output_type": "stream",
     "text": [
      "GÉNERO  2\n",
      "GÉNERO  3\n",
      "GÉNERO  4\n",
      "GÉNERO  5\n",
      "GÉNERO  6\n",
      "GÉNERO  7\n",
      "GÉNERO  8\n",
      "GÉNERO  9\n",
      "GÉNERO  10\n",
      "GÉNERO  11\n",
      "GÉNERO  12\n",
      "GÉNERO  13\n",
      "GÉNERO  14\n",
      "GÉNERO  15\n",
      "GÉNERO  16\n",
      "El semigrupo es:  [13, 14, 15, 16, 17, 18, 21, 22, 24]\n",
      "El semigrupo es:  [13, 14, 15, 16, 17, 18, 20, 22, 23]\n",
      "GÉNERO  17\n",
      "El semigrupo es:  [14, 15, 16, 17, 18, 19, 20, 23, 24, 26]\n",
      "El semigrupo es:  [14, 15, 16, 17, 18, 19, 20, 22, 24, 25]\n",
      "El semigrupo es:  [13, 15, 16, 17, 18, 19, 21, 24, 25]\n",
      "El semigrupo es:  [13, 15, 16, 17, 18, 19, 21, 22, 23]\n",
      "El semigrupo es:  [13, 15, 16, 17, 18, 19, 20, 23, 24]\n",
      "El semigrupo es:  [13, 14, 15, 16, 17, 18, 21, 23]\n",
      "GÉNERO  18\n",
      "El semigrupo es:  [15, 16, 17, 18, 19, 20, 21, 24, 26, 27, 28]\n",
      "El semigrupo es:  [15, 16, 17, 18, 19, 20, 21, 24, 25, 26, 28]\n",
      "El semigrupo es:  [15, 16, 17, 18, 19, 20, 21, 23, 26, 27, 28]\n",
      "El semigrupo es:  [15, 16, 17, 18, 19, 20, 21, 23, 25, 26, 27]\n",
      "El semigrupo es:  [15, 16, 17, 18, 19, 20, 21, 23, 24, 25, 28]\n",
      "El semigrupo es:  [15, 16, 17, 18, 19, 20, 21, 23, 24, 25, 27]\n",
      "El semigrupo es:  [15, 16, 17, 18, 19, 20, 21, 22, 25, 26, 28]\n",
      "El semigrupo es:  [15, 16, 17, 18, 19, 20, 21, 22, 24, 26, 27]\n",
      "El semigrupo es:  [14, 16, 17, 18, 19, 20, 21, 22, 25, 26]\n",
      "El semigrupo es:  [14, 15, 16, 17, 19, 20, 21, 22, 25]\n",
      "El semigrupo es:  [14, 15, 16, 17, 18, 19, 20, 23, 25]\n",
      "El semigrupo es:  [13, 16, 17, 18, 19, 20, 21, 23, 25]\n",
      "El semigrupo es:  [13, 15, 17, 18, 19, 20, 21, 23, 27]\n",
      "El semigrupo es:  [13, 15, 17, 18, 19, 20, 21, 22, 25]\n",
      "El semigrupo es:  [13, 15, 16, 17, 19, 20, 21, 23]\n",
      "GÉNERO  19\n",
      "El semigrupo es:  [16, 17, 18, 19, 20, 21, 22, 23, 26, 28, 29, 30]\n",
      "El semigrupo es:  [16, 17, 18, 19, 20, 21, 22, 23, 26, 27, 28, 30]\n",
      "El semigrupo es:  [16, 17, 18, 19, 20, 21, 22, 23, 25, 28, 29, 30]\n",
      "El semigrupo es:  [16, 17, 18, 19, 20, 21, 22, 23, 25, 27, 28, 29]\n",
      "El semigrupo es:  [16, 17, 18, 19, 20, 21, 22, 23, 25, 26, 27, 30]\n",
      "El semigrupo es:  [16, 17, 18, 19, 20, 21, 22, 23, 25, 26, 27, 29]\n",
      "El semigrupo es:  [16, 17, 18, 19, 20, 21, 22, 23, 24, 27, 28, 30]\n",
      "El semigrupo es:  [16, 17, 18, 19, 20, 21, 22, 23, 24, 26, 28, 29]\n",
      "El semigrupo es:  [15, 17, 18, 19, 20, 21, 22, 24, 27, 28, 29]\n",
      "El semigrupo es:  [15, 17, 18, 19, 20, 21, 22, 24, 25, 26, 27]\n",
      "El semigrupo es:  [15, 17, 18, 19, 20, 21, 22, 23, 26, 28, 29]\n",
      "El semigrupo es:  [15, 17, 18, 19, 20, 21, 22, 23, 26, 27, 28]\n",
      "El semigrupo es:  [15, 17, 18, 19, 20, 21, 22, 23, 25, 28, 29]\n",
      "El semigrupo es:  [15, 17, 18, 19, 20, 21, 22, 23, 25, 26, 27]\n",
      "El semigrupo es:  [15, 17, 18, 19, 20, 21, 22, 23, 24, 27, 28]\n",
      "El semigrupo es:  [15, 16, 17, 18, 20, 21, 22, 23, 24, 27]\n",
      "El semigrupo es:  [15, 16, 17, 18, 19, 21, 22, 23, 25, 28]\n",
      "El semigrupo es:  [15, 16, 17, 18, 19, 21, 22, 23, 24, 27]\n",
      "El semigrupo es:  [15, 16, 17, 18, 19, 20, 22, 25, 26, 27]\n",
      "El semigrupo es:  [15, 16, 17, 18, 19, 20, 21, 25, 26, 28]\n",
      "El semigrupo es:  [15, 16, 17, 18, 19, 20, 21, 24, 26, 27]\n",
      "El semigrupo es:  [15, 16, 17, 18, 19, 20, 21, 24, 25, 28]\n",
      "El semigrupo es:  [15, 16, 17, 18, 19, 20, 21, 24, 25, 27]\n",
      "El semigrupo es:  [15, 16, 17, 18, 19, 20, 21, 23, 26, 27]\n",
      "El semigrupo es:  [15, 16, 17, 18, 19, 20, 21, 23, 25, 26]\n",
      "El semigrupo es:  [15, 16, 17, 18, 19, 20, 21, 22, 25, 27]\n",
      "El semigrupo es:  [14, 17, 18, 19, 20, 21, 22, 23, 25, 27]\n",
      "El semigrupo es:  [14, 16, 18, 19, 20, 21, 22, 23, 24, 27]\n",
      "El semigrupo es:  [13, 16, 18, 19, 20, 21, 22, 24, 25]\n",
      "El semigrupo es:  [13, 16, 18, 19, 20, 21, 22, 23, 27]\n",
      "El semigrupo es:  [13, 16, 17, 18, 19, 20, 21, 24]\n",
      "GÉNERO  20\n",
      "El semigrupo es:  [17, 18, 19, 20, 21, 22, 23, 24, 27, 29, 30, 31, 32]\n",
      "El semigrupo es:  [17, 18, 19, 20, 21, 22, 23, 24, 27, 28, 29, 31, 32]\n",
      "El semigrupo es:  [17, 18, 19, 20, 21, 22, 23, 24, 27, 28, 29, 30, 32]\n",
      "El semigrupo es:  [17, 18, 19, 20, 21, 22, 23, 24, 26, 29, 30, 31, 32]\n",
      "El semigrupo es:  [17, 18, 19, 20, 21, 22, 23, 24, 26, 28, 29, 30, 31]\n",
      "El semigrupo es:  [17, 18, 19, 20, 21, 22, 23, 24, 26, 27, 29, 30, 31]\n",
      "El semigrupo es:  [17, 18, 19, 20, 21, 22, 23, 24, 26, 27, 28, 29, 32]\n",
      "El semigrupo es:  [17, 18, 19, 20, 21, 22, 23, 24, 26, 27, 28, 29, 31]\n",
      "El semigrupo es:  [17, 18, 19, 20, 21, 22, 23, 24, 25, 28, 30, 31, 32]\n",
      "El semigrupo es:  [17, 18, 19, 20, 21, 22, 23, 24, 25, 28, 29, 30, 32]\n",
      "El semigrupo es:  [17, 18, 19, 20, 21, 22, 23, 24, 25, 27, 30, 31, 32]\n",
      "El semigrupo es:  [17, 18, 19, 20, 21, 22, 23, 24, 25, 27, 29, 30, 31]\n",
      "El semigrupo es:  [17, 18, 19, 20, 21, 22, 23, 24, 25, 27, 28, 29, 32]\n",
      "El semigrupo es:  [17, 18, 19, 20, 21, 22, 23, 24, 25, 27, 28, 29, 31]\n",
      "El semigrupo es:  [17, 18, 19, 20, 21, 22, 23, 24, 25, 26, 29, 30, 32]\n",
      "El semigrupo es:  [17, 18, 19, 20, 21, 22, 23, 24, 25, 26, 28, 30, 31]\n",
      "El semigrupo es:  [16, 18, 19, 20, 21, 22, 23, 24, 25, 28, 30, 31]\n",
      "El semigrupo es:  [16, 18, 19, 20, 21, 22, 23, 24, 25, 28, 29, 30]\n",
      "El semigrupo es:  [16, 18, 19, 20, 21, 22, 23, 24, 25, 27, 30, 31]\n",
      "El semigrupo es:  [16, 18, 19, 20, 21, 22, 23, 24, 25, 27, 28, 29]\n",
      "El semigrupo es:  [16, 18, 19, 20, 21, 22, 23, 24, 25, 26, 29, 30]\n",
      "El semigrupo es:  [16, 17, 18, 20, 21, 22, 23, 25, 26, 27, 29]\n",
      "El semigrupo es:  [16, 17, 18, 19, 21, 22, 23, 24, 25, 26, 29]\n",
      "El semigrupo es:  [16, 17, 18, 19, 20, 22, 23, 24, 25, 26, 29]\n",
      "El semigrupo es:  [16, 17, 18, 19, 20, 21, 23, 24, 27, 28, 30]\n",
      "El semigrupo es:  [16, 17, 18, 19, 20, 21, 23, 24, 26, 28, 29]\n",
      "El semigrupo es:  [16, 17, 18, 19, 20, 21, 23, 24, 26, 27, 28]\n",
      "El semigrupo es:  [16, 17, 18, 19, 20, 21, 23, 24, 25, 27, 30]\n",
      "El semigrupo es:  [16, 17, 18, 19, 20, 21, 23, 24, 25, 26, 29]\n",
      "El semigrupo es:  [16, 17, 18, 19, 20, 21, 22, 25, 27, 28, 29]\n",
      "El semigrupo es:  [16, 17, 18, 19, 20, 21, 22, 25, 26, 27, 30]\n",
      "El semigrupo es:  [16, 17, 18, 19, 20, 21, 22, 25, 26, 27, 29]\n",
      "El semigrupo es:  [16, 17, 18, 19, 20, 21, 22, 24, 27, 28, 29]\n",
      "El semigrupo es:  [16, 17, 18, 19, 20, 21, 22, 23, 27, 28, 30]\n",
      "El semigrupo es:  [16, 17, 18, 19, 20, 21, 22, 23, 26, 28, 29]\n",
      "El semigrupo es:  [16, 17, 18, 19, 20, 21, 22, 23, 26, 27, 30]\n",
      "El semigrupo es:  [16, 17, 18, 19, 20, 21, 22, 23, 26, 27, 29]\n",
      "El semigrupo es:  [16, 17, 18, 19, 20, 21, 22, 23, 25, 28, 29]\n",
      "El semigrupo es:  [16, 17, 18, 19, 20, 21, 22, 23, 25, 27, 28]\n",
      "El semigrupo es:  [16, 17, 18, 19, 20, 21, 22, 23, 24, 27, 29]\n",
      "El semigrupo es:  [15, 18, 19, 20, 21, 22, 23, 24, 26, 28, 29]\n",
      "El semigrupo es:  [15, 18, 19, 20, 21, 22, 23, 24, 26, 27, 28]\n",
      "El semigrupo es:  [15, 18, 19, 20, 21, 22, 23, 24, 25, 27, 29]\n",
      "El semigrupo es:  [15, 17, 19, 20, 21, 22, 23, 25, 27, 28, 31]\n",
      "El semigrupo es:  [15, 17, 19, 20, 21, 22, 23, 25, 26, 27, 29]\n",
      "El semigrupo es:  [15, 17, 19, 20, 21, 22, 23, 24, 26, 29, 31]\n",
      "El semigrupo es:  [15, 17, 19, 20, 21, 22, 23, 24, 25, 28, 31]\n",
      "El semigrupo es:  [15, 17, 19, 20, 21, 22, 23, 24, 25, 28, 29]\n",
      "El semigrupo es:  [15, 17, 19, 20, 21, 22, 23, 24, 25, 27, 31]\n",
      "El semigrupo es:  [15, 17, 19, 20, 21, 22, 23, 24, 25, 26, 29]\n",
      "El semigrupo es:  [15, 17, 18, 19, 21, 22, 23, 24, 25, 27]\n",
      "El semigrupo es:  [15, 17, 18, 19, 20, 21, 23, 25, 26, 29]\n",
      "El semigrupo es:  [15, 17, 18, 19, 20, 21, 23, 25, 26, 27]\n",
      "El semigrupo es:  [15, 17, 18, 19, 20, 21, 23, 24, 25, 27]\n",
      "El semigrupo es:  [15, 17, 18, 19, 20, 21, 22, 25, 26, 27]\n",
      "El semigrupo es:  [15, 17, 18, 19, 20, 21, 22, 24, 27, 28]\n",
      "El semigrupo es:  [15, 17, 18, 19, 20, 21, 22, 24, 26, 27]\n",
      "El semigrupo es:  [15, 17, 18, 19, 20, 21, 22, 24, 25, 29]\n",
      "El semigrupo es:  [15, 17, 18, 19, 20, 21, 22, 23, 27, 28]\n",
      "El semigrupo es:  [15, 17, 18, 19, 20, 21, 22, 23, 26, 27]\n",
      "El semigrupo es:  [15, 16, 19, 20, 21, 22, 23, 24, 25, 28]\n",
      "El semigrupo es:  [15, 16, 19, 20, 21, 22, 23, 24, 25, 27]\n",
      "El semigrupo es:  [14, 17, 19, 20, 21, 22, 23, 24, 25, 29]\n",
      "El semigrupo es:  [14, 17, 18, 19, 20, 22, 23, 24, 25]\n",
      "El semigrupo es:  [14, 17, 18, 19, 20, 21, 22, 23, 26]\n",
      "El semigrupo es:  [13, 16, 19, 20, 21, 22, 23, 24, 28]\n",
      "El semigrupo es:  [13, 16, 18, 19, 20, 22, 23, 24]\n",
      "GÉNERO  21\n",
      "El semigrupo es:  [18, 19, 20, 21, 22, 23, 24, 25, 26, 29, 31, 32, 33, 34]\n",
      "El semigrupo es:  [18, 19, 20, 21, 22, 23, 24, 25, 26, 29, 30, 31, 33, 34]\n",
      "El semigrupo es:  [18, 19, 20, 21, 22, 23, 24, 25, 26, 29, 30, 31, 32, 34]\n",
      "El semigrupo es:  [18, 19, 20, 21, 22, 23, 24, 25, 26, 28, 31, 32, 33, 34]\n",
      "El semigrupo es:  [18, 19, 20, 21, 22, 23, 24, 25, 26, 28, 30, 31, 32, 33]\n",
      "El semigrupo es:  [18, 19, 20, 21, 22, 23, 24, 25, 26, 28, 29, 31, 32, 33]\n",
      "El semigrupo es:  [18, 19, 20, 21, 22, 23, 24, 25, 26, 28, 29, 30, 31, 34]\n",
      "El semigrupo es:  [18, 19, 20, 21, 22, 23, 24, 25, 26, 28, 29, 30, 31, 33]\n"
     ]
    },
    {
     "name": "stdout",
     "output_type": "stream",
     "text": [
      "El semigrupo es:  [18, 19, 20, 21, 22, 23, 24, 25, 26, 27, 30, 32, 33, 34]\n",
      "El semigrupo es:  [18, 19, 20, 21, 22, 23, 24, 25, 26, 27, 30, 31, 32, 34]\n",
      "El semigrupo es:  [18, 19, 20, 21, 22, 23, 24, 25, 26, 27, 29, 32, 33, 34]\n",
      "El semigrupo es:  [18, 19, 20, 21, 22, 23, 24, 25, 26, 27, 29, 31, 32, 33]\n",
      "El semigrupo es:  [18, 19, 20, 21, 22, 23, 24, 25, 26, 27, 29, 30, 31, 34]\n",
      "El semigrupo es:  [18, 19, 20, 21, 22, 23, 24, 25, 26, 27, 29, 30, 31, 33]\n",
      "El semigrupo es:  [18, 19, 20, 21, 22, 23, 24, 25, 26, 27, 28, 31, 32, 34]\n",
      "El semigrupo es:  [18, 19, 20, 21, 22, 23, 24, 25, 26, 27, 28, 30, 32, 33]\n",
      "El semigrupo es:  [17, 19, 20, 21, 22, 23, 24, 25, 27, 30, 31, 32, 33]\n",
      "El semigrupo es:  [17, 19, 20, 21, 22, 23, 24, 25, 27, 29, 30, 32, 33]\n",
      "El semigrupo es:  [17, 19, 20, 21, 22, 23, 24, 25, 27, 29, 30, 31, 33]\n",
      "El semigrupo es:  [17, 19, 20, 21, 22, 23, 24, 25, 27, 28, 31, 32, 33]\n",
      "El semigrupo es:  [17, 19, 20, 21, 22, 23, 24, 25, 27, 28, 30, 32, 33]\n",
      "El semigrupo es:  [17, 19, 20, 21, 22, 23, 24, 25, 27, 28, 30, 31, 32]\n",
      "El semigrupo es:  [17, 19, 20, 21, 22, 23, 24, 25, 27, 28, 29, 31, 33]\n",
      "El semigrupo es:  [17, 19, 20, 21, 22, 23, 24, 25, 27, 28, 29, 31, 32]\n",
      "El semigrupo es:  [17, 19, 20, 21, 22, 23, 24, 25, 27, 28, 29, 30, 33]\n",
      "El semigrupo es:  [17, 19, 20, 21, 22, 23, 24, 25, 27, 28, 29, 30, 31]\n",
      "El semigrupo es:  [17, 19, 20, 21, 22, 23, 24, 25, 26, 29, 31, 32, 33]\n",
      "El semigrupo es:  [17, 19, 20, 21, 22, 23, 24, 25, 26, 29, 30, 31, 33]\n",
      "El semigrupo es:  [17, 19, 20, 21, 22, 23, 24, 25, 26, 29, 30, 31, 32]\n",
      "El semigrupo es:  [17, 19, 20, 21, 22, 23, 24, 25, 26, 28, 31, 32, 33]\n",
      "El semigrupo es:  [17, 19, 20, 21, 22, 23, 24, 25, 26, 28, 29, 30, 31]\n",
      "El semigrupo es:  [17, 19, 20, 21, 22, 23, 24, 25, 26, 27, 30, 32, 33]\n",
      "El semigrupo es:  [17, 19, 20, 21, 22, 23, 24, 25, 26, 27, 30, 31, 32]\n",
      "El semigrupo es:  [17, 19, 20, 21, 22, 23, 24, 25, 26, 27, 29, 32, 33]\n",
      "El semigrupo es:  [17, 19, 20, 21, 22, 23, 24, 25, 26, 27, 29, 30, 31]\n",
      "El semigrupo es:  [17, 19, 20, 21, 22, 23, 24, 25, 26, 27, 28, 31, 32]\n",
      "El semigrupo es:  [17, 18, 19, 21, 22, 23, 24, 25, 27, 28, 29, 32]\n",
      "El semigrupo es:  [17, 18, 19, 20, 22, 23, 24, 26, 27, 28, 29, 32]\n",
      "El semigrupo es:  [17, 18, 19, 20, 22, 23, 24, 26, 27, 28, 29, 31]\n",
      "El semigrupo es:  [17, 18, 19, 20, 22, 23, 24, 25, 27, 28, 29, 31]\n",
      "El semigrupo es:  [17, 18, 19, 20, 22, 23, 24, 25, 26, 27, 28, 31]\n",
      "El semigrupo es:  [17, 18, 19, 20, 21, 23, 24, 25, 26, 27, 31, 32]\n",
      "El semigrupo es:  [17, 18, 19, 20, 21, 23, 24, 25, 26, 27, 30, 32]\n",
      "El semigrupo es:  [17, 18, 19, 20, 21, 23, 24, 25, 26, 27, 30, 31]\n",
      "El semigrupo es:  [17, 18, 19, 20, 21, 23, 24, 25, 26, 27, 29, 32]\n",
      "El semigrupo es:  [17, 18, 19, 20, 21, 23, 24, 25, 26, 27, 29, 31]\n",
      "El semigrupo es:  [17, 18, 19, 20, 21, 23, 24, 25, 26, 27, 29, 30]\n",
      "El semigrupo es:  [17, 18, 19, 20, 21, 23, 24, 25, 26, 27, 28, 31]\n",
      "El semigrupo es:  [17, 18, 19, 20, 21, 22, 24, 25, 26, 28, 30, 31]\n",
      "El semigrupo es:  [17, 18, 19, 20, 21, 22, 24, 25, 26, 28, 29, 31]\n",
      "El semigrupo es:  [17, 18, 19, 20, 21, 22, 24, 25, 26, 27, 28, 31]\n",
      "El semigrupo es:  [17, 18, 19, 20, 21, 22, 23, 25, 28, 30, 31, 32]\n",
      "El semigrupo es:  [17, 18, 19, 20, 21, 22, 23, 25, 28, 29, 30, 32]\n",
      "El semigrupo es:  [17, 18, 19, 20, 21, 22, 23, 25, 28, 29, 30, 31]\n",
      "El semigrupo es:  [17, 18, 19, 20, 21, 22, 23, 25, 27, 28, 31, 32]\n",
      "El semigrupo es:  [17, 18, 19, 20, 21, 22, 23, 25, 27, 28, 30, 31]\n",
      "El semigrupo es:  [17, 18, 19, 20, 21, 22, 23, 25, 27, 28, 29, 32]\n",
      "El semigrupo es:  [17, 18, 19, 20, 21, 22, 23, 25, 27, 28, 29, 31]\n",
      "El semigrupo es:  [17, 18, 19, 20, 21, 22, 23, 25, 26, 29, 30, 32]\n",
      "El semigrupo es:  [17, 18, 19, 20, 21, 22, 23, 25, 26, 28, 30, 31]\n",
      "El semigrupo es:  [17, 18, 19, 20, 21, 22, 23, 25, 26, 28, 29, 30]\n",
      "El semigrupo es:  [17, 18, 19, 20, 21, 22, 23, 25, 26, 27, 29, 32]\n",
      "El semigrupo es:  [17, 18, 19, 20, 21, 22, 23, 25, 26, 27, 28, 31]\n",
      "El semigrupo es:  [17, 18, 19, 20, 21, 22, 23, 24, 28, 29, 31, 32]\n",
      "El semigrupo es:  [17, 18, 19, 20, 21, 22, 23, 24, 28, 29, 30, 32]\n",
      "El semigrupo es:  [17, 18, 19, 20, 21, 22, 23, 24, 27, 30, 31, 32]\n",
      "El semigrupo es:  [17, 18, 19, 20, 21, 22, 23, 24, 27, 29, 31, 32]\n",
      "El semigrupo es:  [17, 18, 19, 20, 21, 22, 23, 24, 27, 29, 30, 32]\n",
      "El semigrupo es:  [17, 18, 19, 20, 21, 22, 23, 24, 27, 29, 30, 31]\n",
      "El semigrupo es:  [17, 18, 19, 20, 21, 22, 23, 24, 27, 28, 30, 32]\n",
      "El semigrupo es:  [17, 18, 19, 20, 21, 22, 23, 24, 27, 28, 30, 31]\n",
      "El semigrupo es:  [17, 18, 19, 20, 21, 22, 23, 24, 27, 28, 29, 32]\n",
      "El semigrupo es:  [17, 18, 19, 20, 21, 22, 23, 24, 27, 28, 29, 31]\n",
      "El semigrupo es:  [17, 18, 19, 20, 21, 22, 23, 24, 26, 29, 30, 32]\n",
      "El semigrupo es:  [17, 18, 19, 20, 21, 22, 23, 24, 26, 29, 30, 31]\n",
      "El semigrupo es:  [17, 18, 19, 20, 21, 22, 23, 24, 26, 28, 30, 31]\n",
      "El semigrupo es:  [17, 18, 19, 20, 21, 22, 23, 24, 26, 28, 29, 32]\n",
      "El semigrupo es:  [17, 18, 19, 20, 21, 22, 23, 24, 26, 28, 29, 31]\n",
      "El semigrupo es:  [17, 18, 19, 20, 21, 22, 23, 24, 26, 28, 29, 30]\n",
      "El semigrupo es:  [17, 18, 19, 20, 21, 22, 23, 24, 26, 27, 31, 32]\n",
      "El semigrupo es:  [17, 18, 19, 20, 21, 22, 23, 24, 26, 27, 29, 31]\n",
      "El semigrupo es:  [17, 18, 19, 20, 21, 22, 23, 24, 26, 27, 29, 30]\n",
      "El semigrupo es:  [17, 18, 19, 20, 21, 22, 23, 24, 26, 27, 28, 31]\n",
      "El semigrupo es:  [17, 18, 19, 20, 21, 22, 23, 24, 25, 29, 30, 32]\n",
      "El semigrupo es:  [17, 18, 19, 20, 21, 22, 23, 24, 25, 28, 30, 31]\n",
      "El semigrupo es:  [17, 18, 19, 20, 21, 22, 23, 24, 25, 28, 29, 32]\n",
      "El semigrupo es:  [17, 18, 19, 20, 21, 22, 23, 24, 25, 28, 29, 31]\n",
      "El semigrupo es:  [17, 18, 19, 20, 21, 22, 23, 24, 25, 27, 30, 31]\n",
      "El semigrupo es:  [17, 18, 19, 20, 21, 22, 23, 24, 25, 27, 29, 30]\n",
      "El semigrupo es:  [17, 18, 19, 20, 21, 22, 23, 24, 25, 26, 29, 31]\n",
      "El semigrupo es:  [16, 19, 20, 21, 22, 23, 24, 25, 26, 28, 30, 31]\n",
      "El semigrupo es:  [16, 19, 20, 21, 22, 23, 24, 25, 26, 28, 29, 30]\n",
      "El semigrupo es:  [16, 19, 20, 21, 22, 23, 24, 25, 26, 27, 29, 31]\n",
      "El semigrupo es:  [16, 18, 20, 21, 22, 23, 24, 25, 26, 27, 30, 33]\n",
      "El semigrupo es:  [16, 18, 20, 21, 22, 23, 24, 25, 26, 27, 30, 31]\n",
      "El semigrupo es:  [16, 18, 20, 21, 22, 23, 24, 25, 26, 27, 29, 33]\n",
      "El semigrupo es:  [16, 18, 20, 21, 22, 23, 24, 25, 26, 27, 28, 31]\n",
      "El semigrupo es:  [16, 18, 19, 20, 22, 23, 24, 25, 26, 27, 29]\n",
      "El semigrupo es:  [16, 18, 19, 20, 21, 23, 24, 25, 26, 28, 31]\n",
      "El semigrupo es:  [16, 18, 19, 20, 21, 23, 24, 25, 26, 28, 29]\n",
      "El semigrupo es:  [16, 18, 19, 20, 21, 22, 24, 25, 27, 28, 29]\n",
      "El semigrupo es:  [16, 18, 19, 20, 21, 22, 23, 25, 26, 29, 30]\n",
      "El semigrupo es:  [16, 18, 19, 20, 21, 22, 23, 25, 26, 27, 29]\n",
      "El semigrupo es:  [16, 18, 19, 20, 21, 22, 23, 24, 27, 28, 29]\n",
      "El semigrupo es:  [16, 18, 19, 20, 21, 22, 23, 24, 25, 29, 30]\n",
      "El semigrupo es:  [16, 18, 19, 20, 21, 22, 23, 24, 25, 28, 29]\n",
      "El semigrupo es:  [16, 17, 20, 21, 22, 23, 24, 25, 27, 28, 31]\n",
      "El semigrupo es:  [16, 17, 20, 21, 22, 23, 24, 25, 27, 28, 30]\n",
      "El semigrupo es:  [16, 17, 20, 21, 22, 23, 24, 25, 26, 27, 30]\n",
      "El semigrupo es:  [16, 17, 20, 21, 22, 23, 24, 25, 26, 27, 29]\n",
      "El semigrupo es:  [16, 17, 18, 19, 21, 23, 24, 25, 26, 29]\n",
      "El semigrupo es:  [16, 17, 18, 19, 20, 21, 22, 25, 27, 29]\n",
      "El semigrupo es:  [15, 18, 20, 21, 22, 23, 24, 25, 27, 28, 29]\n",
      "El semigrupo es:  [15, 18, 20, 21, 22, 23, 24, 25, 26, 29, 31]\n",
      "El semigrupo es:  [15, 18, 20, 21, 22, 23, 24, 25, 26, 28, 29]\n",
      "El semigrupo es:  [15, 18, 20, 21, 22, 23, 24, 25, 26, 27, 31]\n",
      "El semigrupo es:  [15, 18, 19, 21, 22, 23, 24, 26, 27, 31, 32]\n",
      "El semigrupo es:  [15, 18, 19, 21, 22, 23, 24, 26, 27, 28, 29]\n",
      "El semigrupo es:  [15, 18, 19, 21, 22, 23, 24, 25, 26, 27, 32]\n",
      "El semigrupo es:  [15, 18, 19, 20, 21, 23, 24, 25, 26, 27]\n",
      "El semigrupo es:  [15, 18, 19, 20, 21, 22, 24, 25, 26, 27]\n",
      "El semigrupo es:  [15, 18, 19, 20, 21, 22, 23, 25, 28, 29]\n",
      "El semigrupo es:  [15, 18, 19, 20, 21, 22, 23, 24, 27, 29]\n",
      "El semigrupo es:  [15, 18, 19, 20, 21, 22, 23, 24, 27, 28]\n",
      "El semigrupo es:  [15, 18, 19, 20, 21, 22, 23, 24, 26, 29]\n",
      "El semigrupo es:  [15, 18, 19, 20, 21, 22, 23, 24, 25, 28]\n",
      "El semigrupo es:  [15, 17, 19, 21, 22, 23, 24, 25, 27, 29, 33]\n",
      "El semigrupo es:  [15, 17, 19, 21, 22, 23, 24, 25, 26, 27, 33]\n",
      "El semigrupo es:  [15, 17, 19, 21, 22, 23, 24, 25, 26, 27, 31]\n",
      "El semigrupo es:  [15, 17, 19, 20, 21, 23, 24, 25, 27, 29]\n",
      "El semigrupo es:  [15, 17, 19, 20, 21, 22, 23, 26, 27, 29]\n"
     ]
    },
    {
     "name": "stdout",
     "output_type": "stream",
     "text": [
      "El semigrupo es:  [15, 17, 19, 20, 21, 22, 23, 25, 28, 31]\n",
      "El semigrupo es:  [15, 17, 19, 20, 21, 22, 23, 25, 28, 29]\n",
      "El semigrupo es:  [15, 17, 19, 20, 21, 22, 23, 25, 27, 31]\n",
      "El semigrupo es:  [15, 17, 19, 20, 21, 22, 23, 25, 26, 29]\n",
      "El semigrupo es:  [15, 17, 19, 20, 21, 22, 23, 25, 26, 27]\n",
      "El semigrupo es:  [15, 17, 19, 20, 21, 22, 23, 24, 26, 29]\n",
      "El semigrupo es:  [15, 17, 19, 20, 21, 22, 23, 24, 25, 29]\n",
      "El semigrupo es:  [15, 16, 20, 21, 22, 23, 24, 25, 26, 28]\n",
      "El semigrupo es:  [15, 16, 19, 21, 22, 23, 24, 25, 27]\n",
      "El semigrupo es:  [14, 17, 20, 21, 22, 23, 24, 25, 26, 30]\n",
      "El semigrupo es:  [13, 18, 19, 20, 22, 23, 24, 25, 28]\n",
      "El semigrupo es:  [13, 17, 18, 21, 22, 23, 24, 25, 28]\n",
      "El semigrupo es:  [13, 17, 18, 19, 21, 22, 24, 25]\n",
      "El semigrupo es:  [13, 16, 19, 21, 22, 23, 24, 25, 30]\n"
     ]
    }
   ],
   "source": [
    "ns = NumericalSemigroup([1])\n",
    "nivel = [ns.Children()]\n",
    "for j in range(20):\n",
    "    print(\"GÉNERO \",j+2)\n",
    "    nivel2 = []\n",
    "    for x in nivel:\n",
    "        for y in x:\n",
    "            nivel2.append(y.Children())\n",
    "    nivel = list(nivel2)\n",
    "    for x in nivel:\n",
    "        for y in x:\n",
    "            if len(g2(GapSet(y.generators)))>3*(len(GapSet(y.generators))-1):\n",
    "                print(\"El semigrupo es: \",y.generators)"
   ]
  },
  {
   "cell_type": "code",
   "execution_count": 79,
   "metadata": {
    "ExecuteTime": {
     "end_time": "2019-07-22T09:09:18.025234Z",
     "start_time": "2019-07-22T09:09:18.007325Z"
    }
   },
   "outputs": [
    {
     "name": "stdout",
     "output_type": "stream",
     "text": [
      "genero =  5\n"
     ]
    },
    {
     "data": {
      "text/plain": [
       "False"
      ]
     },
     "execution_count": 79,
     "metadata": {},
     "output_type": "execute_result"
    }
   ],
   "source": [
    "print(\"genero = \",len(GapSet([4, 7, 9, 10])))\n",
    "len(g2(GapSet([4, 7, 9, 10])))>3*(len(GapSet([4, 7, 9, 10]))-1)"
   ]
  },
  {
   "cell_type": "code",
   "execution_count": 33,
   "metadata": {
    "ExecuteTime": {
     "end_time": "2019-07-22T08:41:41.754372Z",
     "start_time": "2019-07-22T08:41:41.744276Z"
    }
   },
   "outputs": [
    {
     "data": {
      "text/latex": [
       "$$2$$"
      ],
      "text/plain": [
       "2"
      ]
     },
     "execution_count": 33,
     "metadata": {},
     "output_type": "execute_result"
    }
   ],
   "source": [
    "len(GapSet([2, 5]))"
   ]
  },
  {
   "cell_type": "code",
   "execution_count": null,
   "metadata": {},
   "outputs": [],
   "source": []
  },
  {
   "cell_type": "code",
   "execution_count": 72,
   "metadata": {
    "ExecuteTime": {
     "end_time": "2019-07-22T14:54:19.786865Z",
     "start_time": "2019-07-22T14:54:00.366048Z"
    }
   },
   "outputs": [
    {
     "name": "stdout",
     "output_type": "stream",
     "text": [
      "Ya he cogido los semigrupos\n",
      "Ya he formateado los elementos\n",
      "[13, 15, 16, 17, 18, 19, 21, 24, 25]\n",
      "[13, 15, 16, 17, 18, 19, 21, 22, 23]\n",
      "[13, 15, 16, 17, 18, 19, 20, 23, 24]\n",
      "[14, 16, 17, 18, 19, 20, 21, 22, 25, 26]\n",
      "[13, 16, 17, 18, 19, 20, 21, 23, 25]\n",
      "[13, 15, 17, 18, 19, 20, 21, 23, 27]\n",
      "[13, 15, 17, 18, 19, 20, 21, 22, 25]\n",
      "[13, 15, 16, 17, 19, 20, 21, 23]\n",
      "[15, 17, 18, 19, 20, 21, 22, 24, 27, 28, 29]\n",
      "[15, 17, 18, 19, 20, 21, 22, 24, 25, 26, 27]\n",
      "[15, 17, 18, 19, 20, 21, 22, 23, 26, 28, 29]\n",
      "[15, 17, 18, 19, 20, 21, 22, 23, 26, 27, 28]\n",
      "[15, 17, 18, 19, 20, 21, 22, 23, 25, 28, 29]\n",
      "[15, 17, 18, 19, 20, 21, 22, 23, 25, 26, 27]\n",
      "[15, 17, 18, 19, 20, 21, 22, 23, 24, 27, 28]\n",
      "[14, 17, 18, 19, 20, 21, 22, 23, 25, 27]\n",
      "[14, 16, 18, 19, 20, 21, 22, 23, 24, 27]\n",
      "[13, 16, 18, 19, 20, 21, 22, 24, 25]\n",
      "[13, 16, 18, 19, 20, 21, 22, 23, 27]\n",
      "[13, 16, 17, 18, 19, 20, 21, 24]\n",
      "[16, 18, 19, 20, 21, 22, 23, 24, 25, 28, 30, 31]\n",
      "[16, 18, 19, 20, 21, 22, 23, 24, 25, 28, 29, 30]\n",
      "[16, 18, 19, 20, 21, 22, 23, 24, 25, 27, 30, 31]\n",
      "[16, 18, 19, 20, 21, 22, 23, 24, 25, 27, 28, 29]\n",
      "[16, 18, 19, 20, 21, 22, 23, 24, 25, 26, 29, 30]\n",
      "[15, 18, 19, 20, 21, 22, 23, 24, 26, 28, 29]\n",
      "[15, 18, 19, 20, 21, 22, 23, 24, 26, 27, 28]\n",
      "[15, 18, 19, 20, 21, 22, 23, 24, 25, 27, 29]\n",
      "[15, 17, 19, 20, 21, 22, 23, 25, 27, 28, 31]\n",
      "[15, 17, 19, 20, 21, 22, 23, 25, 26, 27, 29]\n",
      "[15, 17, 19, 20, 21, 22, 23, 24, 26, 29, 31]\n",
      "[15, 17, 19, 20, 21, 22, 23, 24, 25, 28, 31]\n",
      "[15, 17, 19, 20, 21, 22, 23, 24, 25, 28, 29]\n",
      "[15, 17, 19, 20, 21, 22, 23, 24, 25, 27, 31]\n",
      "[15, 17, 19, 20, 21, 22, 23, 24, 25, 26, 29]\n",
      "[15, 17, 18, 19, 21, 22, 23, 24, 25, 27]\n",
      "[15, 17, 18, 19, 20, 21, 23, 25, 26, 29]\n",
      "[15, 17, 18, 19, 20, 21, 23, 25, 26, 27]\n",
      "[15, 17, 18, 19, 20, 21, 23, 24, 25, 27]\n",
      "[15, 17, 18, 19, 20, 21, 22, 25, 26, 27]\n",
      "[15, 17, 18, 19, 20, 21, 22, 24, 27, 28]\n",
      "[15, 17, 18, 19, 20, 21, 22, 24, 26, 27]\n",
      "[15, 17, 18, 19, 20, 21, 22, 24, 25, 29]\n",
      "[15, 17, 18, 19, 20, 21, 22, 23, 27, 28]\n",
      "[15, 17, 18, 19, 20, 21, 22, 23, 26, 27]\n",
      "[15, 16, 19, 20, 21, 22, 23, 24, 25, 28]\n",
      "[15, 16, 19, 20, 21, 22, 23, 24, 25, 27]\n",
      "[14, 17, 19, 20, 21, 22, 23, 24, 25, 29]\n",
      "[14, 17, 18, 19, 20, 22, 23, 24, 25]\n",
      "[14, 17, 18, 19, 20, 21, 22, 23, 26]\n",
      "[13, 16, 19, 20, 21, 22, 23, 24, 28]\n",
      "[13, 16, 18, 19, 20, 22, 23, 24]\n",
      "[17, 19, 20, 21, 22, 23, 24, 25, 27, 30, 31, 32, 33]\n",
      "[17, 19, 20, 21, 22, 23, 24, 25, 27, 29, 30, 32, 33]\n",
      "[17, 19, 20, 21, 22, 23, 24, 25, 27, 29, 30, 31, 33]\n",
      "[17, 19, 20, 21, 22, 23, 24, 25, 27, 28, 31, 32, 33]\n",
      "[17, 19, 20, 21, 22, 23, 24, 25, 27, 28, 30, 32, 33]\n",
      "[17, 19, 20, 21, 22, 23, 24, 25, 27, 28, 30, 31, 32]\n",
      "[17, 19, 20, 21, 22, 23, 24, 25, 27, 28, 29, 31, 33]\n",
      "[17, 19, 20, 21, 22, 23, 24, 25, 27, 28, 29, 31, 32]\n",
      "[17, 19, 20, 21, 22, 23, 24, 25, 27, 28, 29, 30, 33]\n",
      "[17, 19, 20, 21, 22, 23, 24, 25, 27, 28, 29, 30, 31]\n",
      "[17, 19, 20, 21, 22, 23, 24, 25, 26, 29, 31, 32, 33]\n",
      "[17, 19, 20, 21, 22, 23, 24, 25, 26, 29, 30, 31, 33]\n",
      "[17, 19, 20, 21, 22, 23, 24, 25, 26, 29, 30, 31, 32]\n",
      "[17, 19, 20, 21, 22, 23, 24, 25, 26, 28, 31, 32, 33]\n",
      "[17, 19, 20, 21, 22, 23, 24, 25, 26, 28, 29, 30, 31]\n",
      "[17, 19, 20, 21, 22, 23, 24, 25, 26, 27, 30, 32, 33]\n",
      "[17, 19, 20, 21, 22, 23, 24, 25, 26, 27, 30, 31, 32]\n",
      "[17, 19, 20, 21, 22, 23, 24, 25, 26, 27, 29, 32, 33]\n",
      "[17, 19, 20, 21, 22, 23, 24, 25, 26, 27, 29, 30, 31]\n",
      "[17, 19, 20, 21, 22, 23, 24, 25, 26, 27, 28, 31, 32]\n",
      "[16, 19, 20, 21, 22, 23, 24, 25, 26, 28, 30, 31]\n",
      "[16, 19, 20, 21, 22, 23, 24, 25, 26, 28, 29, 30]\n",
      "[16, 19, 20, 21, 22, 23, 24, 25, 26, 27, 29, 31]\n",
      "[16, 18, 20, 21, 22, 23, 24, 25, 26, 27, 30, 33]\n",
      "[16, 18, 20, 21, 22, 23, 24, 25, 26, 27, 30, 31]\n",
      "[16, 18, 20, 21, 22, 23, 24, 25, 26, 27, 29, 33]\n",
      "[16, 18, 20, 21, 22, 23, 24, 25, 26, 27, 28, 31]\n",
      "[16, 18, 19, 20, 22, 23, 24, 25, 26, 27, 29]\n",
      "[16, 18, 19, 20, 21, 23, 24, 25, 26, 28, 31]\n",
      "[16, 18, 19, 20, 21, 23, 24, 25, 26, 28, 29]\n",
      "[16, 18, 19, 20, 21, 22, 24, 25, 27, 28, 29]\n",
      "[16, 18, 19, 20, 21, 22, 23, 25, 26, 29, 30]\n",
      "[16, 18, 19, 20, 21, 22, 23, 25, 26, 27, 29]\n",
      "[16, 18, 19, 20, 21, 22, 23, 24, 27, 28, 29]\n",
      "[16, 18, 19, 20, 21, 22, 23, 24, 25, 29, 30]\n",
      "[16, 18, 19, 20, 21, 22, 23, 24, 25, 28, 29]\n",
      "[16, 17, 20, 21, 22, 23, 24, 25, 27, 28, 31]\n",
      "[16, 17, 20, 21, 22, 23, 24, 25, 27, 28, 30]\n",
      "[16, 17, 20, 21, 22, 23, 24, 25, 26, 27, 30]\n",
      "[16, 17, 20, 21, 22, 23, 24, 25, 26, 27, 29]\n",
      "[15, 18, 20, 21, 22, 23, 24, 25, 27, 28, 29]\n",
      "[15, 18, 20, 21, 22, 23, 24, 25, 26, 29, 31]\n",
      "[15, 18, 20, 21, 22, 23, 24, 25, 26, 28, 29]\n",
      "[15, 18, 20, 21, 22, 23, 24, 25, 26, 27, 31]\n",
      "[15, 18, 19, 21, 22, 23, 24, 26, 27, 31, 32]\n",
      "[15, 18, 19, 21, 22, 23, 24, 26, 27, 28, 29]\n",
      "[15, 18, 19, 21, 22, 23, 24, 25, 26, 27, 32]\n",
      "[15, 18, 19, 20, 21, 23, 24, 25, 26, 27]\n",
      "[15, 18, 19, 20, 21, 22, 24, 25, 26, 27]\n",
      "[15, 18, 19, 20, 21, 22, 23, 25, 28, 29]\n",
      "[15, 18, 19, 20, 21, 22, 23, 24, 27, 29]\n",
      "[15, 18, 19, 20, 21, 22, 23, 24, 27, 28]\n",
      "[15, 18, 19, 20, 21, 22, 23, 24, 26, 29]\n",
      "[15, 18, 19, 20, 21, 22, 23, 24, 25, 28]\n",
      "[15, 17, 19, 21, 22, 23, 24, 25, 27, 29, 33]\n",
      "[15, 17, 19, 21, 22, 23, 24, 25, 26, 27, 33]\n",
      "[15, 17, 19, 21, 22, 23, 24, 25, 26, 27, 31]\n",
      "[15, 17, 19, 20, 21, 23, 24, 25, 27, 29]\n",
      "[15, 17, 19, 20, 21, 22, 23, 26, 27, 29]\n",
      "[15, 17, 19, 20, 21, 22, 23, 25, 28, 31]\n",
      "[15, 17, 19, 20, 21, 22, 23, 25, 28, 29]\n",
      "[15, 17, 19, 20, 21, 22, 23, 25, 27, 31]\n",
      "[15, 17, 19, 20, 21, 22, 23, 25, 26, 29]\n",
      "[15, 17, 19, 20, 21, 22, 23, 25, 26, 27]\n",
      "[15, 17, 19, 20, 21, 22, 23, 24, 26, 29]\n",
      "[15, 17, 19, 20, 21, 22, 23, 24, 25, 29]\n",
      "[15, 16, 20, 21, 22, 23, 24, 25, 26, 28]\n",
      "[15, 16, 19, 21, 22, 23, 24, 25, 27]\n",
      "[14, 17, 20, 21, 22, 23, 24, 25, 26, 30]\n",
      "[13, 18, 19, 20, 22, 23, 24, 25, 28]\n",
      "[13, 17, 18, 21, 22, 23, 24, 25, 28]\n",
      "[13, 17, 18, 19, 21, 22, 24, 25]\n",
      "[13, 16, 19, 21, 22, 23, 24, 25, 30]\n"
     ]
    }
   ],
   "source": [
    "aux = []\n",
    "f = open(\"ws\")\n",
    "linea = f.readline()\n",
    "while linea:\n",
    "    linea = f.readline()\n",
    "    if linea[:2] == \"El\":\n",
    "        aux.append(linea[19:-2])\n",
    "print(\"Ya he cogido los semigrupos\")\n",
    "aux2 = []\n",
    "for x in aux:\n",
    "    aux2.append([int(y.replace(',','')) for y in x.split(\" \")])\n",
    "print(\"Ya he formateado los elementos\")\n",
    "for x in aux2:\n",
    "    m = min(x)\n",
    "    gs = GapSet(x)\n",
    "    pf = ComputePseudoFrobenius(x)\n",
    "    huecosGrandes = [y for y in gs if y>m]\n",
    "    if list(sort(huecosGrandes)) != list(sort(pf)):\n",
    "        print(x)"
   ]
  },
  {
   "cell_type": "code",
   "execution_count": 52,
   "metadata": {
    "ExecuteTime": {
     "end_time": "2019-07-22T14:39:40.075197Z",
     "start_time": "2019-07-22T14:39:40.062844Z"
    }
   },
   "outputs": [
    {
     "data": {
      "text/latex": [
       "$$13$$"
      ],
      "text/plain": [
       "13"
      ]
     },
     "execution_count": 52,
     "metadata": {},
     "output_type": "execute_result"
    }
   ],
   "source": [
    "int('13')"
   ]
  },
  {
   "cell_type": "code",
   "execution_count": 65,
   "metadata": {
    "ExecuteTime": {
     "end_time": "2019-07-22T14:51:31.246112Z",
     "start_time": "2019-07-22T14:51:31.238397Z"
    }
   },
   "outputs": [
    {
     "data": {
      "text/plain": [
       "False"
      ]
     },
     "execution_count": 65,
     "metadata": {},
     "output_type": "execute_result"
    }
   ],
   "source": [
    "[3,4,5] != [3,4,5]"
   ]
  },
  {
   "cell_type": "code",
   "execution_count": 32,
   "metadata": {
    "ExecuteTime": {
     "end_time": "2019-07-23T09:09:02.070636Z",
     "start_time": "2019-07-23T08:36:05.282146Z"
    }
   },
   "outputs": [
    {
     "name": "stdout",
     "output_type": "stream",
     "text": [
      "GÉNERO  2\n",
      "[2, 5] --> [1, 3]\n",
      "GÉNERO  3\n",
      "[3, 4] --> [1, 2, 5]\n",
      "GÉNERO  4\n",
      "[4, 5, 6] --> [1, 2, 3, 7]\n",
      "[3, 7, 8] --> [1, 2, 4, 5]\n",
      "GÉNERO  5\n",
      "[5, 6, 7, 8] --> [1, 2, 3, 4, 9]\n",
      "[4, 5, 11] --> [1, 2, 3, 6, 7]\n",
      "GÉNERO  6\n",
      "[6, 7, 8, 9, 10] --> [1, 2, 3, 4, 5, 11]\n",
      "[5, 6, 8] --> [1, 2, 3, 4, 7, 9]\n",
      "[5, 6, 7] --> [1, 2, 3, 4, 8, 9]\n",
      "[4, 9, 10, 11] --> [1, 2, 3, 5, 6, 7]\n",
      "GÉNERO  7\n",
      "[7, 8, 9, 10, 11, 12] --> [1, 2, 3, 4, 5, 6, 13]\n",
      "[6, 7, 8, 10] --> [1, 2, 3, 4, 5, 9, 11]\n",
      "[6, 7, 8, 9] --> [1, 2, 3, 4, 5, 10, 11]\n",
      "[5, 7, 11, 13] --> [1, 2, 3, 4, 6, 8, 9]\n",
      "[5, 6, 13, 14] --> [1, 2, 3, 4, 7, 8, 9]\n",
      "GÉNERO  8\n",
      "[8, 9, 10, 11, 12, 13, 14] --> [1, 2, 3, 4, 5, 6, 7, 15]\n",
      "[7, 8, 9, 11, 12] --> [1, 2, 3, 4, 5, 6, 10, 13]\n",
      "[7, 8, 9, 10, 12] --> [1, 2, 3, 4, 5, 6, 11, 13]\n",
      "[7, 8, 9, 10, 11] --> [1, 2, 3, 4, 5, 6, 12, 13]\n",
      "[6, 8, 9, 13] --> [1, 2, 3, 4, 5, 7, 10, 11]\n",
      "[6, 7, 10, 15] --> [1, 2, 3, 4, 5, 8, 9, 11]\n",
      "[6, 7, 9, 17] --> [1, 2, 3, 4, 5, 8, 10, 11]\n",
      "[6, 7, 8, 17] --> [1, 2, 3, 4, 5, 9, 10, 11]\n",
      "[5, 11, 12, 13, 14] --> [1, 2, 3, 4, 6, 7, 8, 9]\n",
      "GÉNERO  9\n",
      "[9, 10, 11, 12, 13, 14, 15, 16] --> [1, 2, 3, 4, 5, 6, 7, 8, 17]\n",
      "[8, 9, 10, 11, 13, 14] --> [1, 2, 3, 4, 5, 6, 7, 12, 15]\n",
      "[8, 9, 10, 11, 12, 14] --> [1, 2, 3, 4, 5, 6, 7, 13, 15]\n",
      "[8, 9, 10, 11, 12, 13] --> [1, 2, 3, 4, 5, 6, 7, 14, 15]\n",
      "[7, 9, 10, 11, 15] --> [1, 2, 3, 4, 5, 6, 8, 12, 13]\n",
      "[7, 8, 10, 12] --> [1, 2, 3, 4, 5, 6, 9, 11, 13]\n",
      "[7, 8, 10, 11] --> [1, 2, 3, 4, 5, 6, 9, 12, 13]\n",
      "[7, 8, 9, 12] --> [1, 2, 3, 4, 5, 6, 10, 11, 13]\n",
      "[7, 8, 9, 11] --> [1, 2, 3, 4, 5, 6, 10, 12, 13]\n",
      "[7, 8, 9, 10] --> [1, 2, 3, 4, 5, 6, 11, 12, 13]\n",
      "[6, 8, 13, 15, 17] --> [1, 2, 3, 4, 5, 7, 9, 10, 11]\n",
      "[6, 7, 15, 16, 17] --> [1, 2, 3, 4, 5, 8, 9, 10, 11]\n",
      "GÉNERO  10\n",
      "[10, 11, 12, 13, 14, 15, 16, 17, 18] --> [1, 2, 3, 4, 5, 6, 7, 8, 9, 19]\n",
      "[9, 10, 11, 12, 14, 15, 16] --> [1, 2, 3, 4, 5, 6, 7, 8, 13, 17]\n",
      "[9, 10, 11, 12, 13, 15, 16] --> [1, 2, 3, 4, 5, 6, 7, 8, 14, 17]\n",
      "[9, 10, 11, 12, 13, 14, 16] --> [1, 2, 3, 4, 5, 6, 7, 8, 15, 17]\n",
      "[9, 10, 11, 12, 13, 14, 15] --> [1, 2, 3, 4, 5, 6, 7, 8, 16, 17]\n",
      "[8, 10, 11, 12, 13, 17] --> [1, 2, 3, 4, 5, 6, 7, 9, 14, 15]\n",
      "[8, 9, 11, 12, 14] --> [1, 2, 3, 4, 5, 6, 7, 10, 13, 15]\n",
      "[8, 9, 11, 12, 13] --> [1, 2, 3, 4, 5, 6, 7, 10, 14, 15]\n",
      "[8, 9, 10, 13, 14] --> [1, 2, 3, 4, 5, 6, 7, 11, 12, 15]\n",
      "[8, 9, 10, 12, 14] --> [1, 2, 3, 4, 5, 6, 7, 11, 13, 15]\n",
      "[8, 9, 10, 12, 13] --> [1, 2, 3, 4, 5, 6, 7, 11, 14, 15]\n",
      "[8, 9, 10, 11, 14] --> [1, 2, 3, 4, 5, 6, 7, 12, 13, 15]\n",
      "[8, 9, 10, 11, 13] --> [1, 2, 3, 4, 5, 6, 7, 12, 14, 15]\n",
      "[8, 9, 10, 11, 12] --> [1, 2, 3, 4, 5, 6, 7, 13, 14, 15]\n",
      "[7, 9, 11, 15, 17, 19] --> [1, 2, 3, 4, 5, 6, 8, 10, 12, 13]\n",
      "[7, 9, 10, 15] --> [1, 2, 3, 4, 5, 6, 8, 11, 12, 13]\n",
      "[7, 8, 12, 17, 18] --> [1, 2, 3, 4, 5, 6, 9, 10, 11, 13]\n",
      "[7, 8, 11, 17, 20] --> [1, 2, 3, 4, 5, 6, 9, 10, 12, 13]\n",
      "[7, 8, 10, 19] --> [1, 2, 3, 4, 5, 6, 9, 11, 12, 13]\n",
      "[7, 8, 9, 19, 20] --> [1, 2, 3, 4, 5, 6, 10, 11, 12, 13]\n",
      "[6, 13, 14, 15, 16, 17] --> [1, 2, 3, 4, 5, 7, 8, 9, 10, 11]\n",
      "GÉNERO  11\n",
      "[11, 12, 13, 14, 15, 16, 17, 18, 19, 20] --> [1, 2, 3, 4, 5, 6, 7, 8, 9, 10, 21]\n",
      "[10, 11, 12, 13, 14, 16, 17, 18] --> [1, 2, 3, 4, 5, 6, 7, 8, 9, 15, 19]\n",
      "[10, 11, 12, 13, 14, 15, 17, 18] --> [1, 2, 3, 4, 5, 6, 7, 8, 9, 16, 19]\n",
      "[10, 11, 12, 13, 14, 15, 16, 18] --> [1, 2, 3, 4, 5, 6, 7, 8, 9, 17, 19]\n",
      "[10, 11, 12, 13, 14, 15, 16, 17] --> [1, 2, 3, 4, 5, 6, 7, 8, 9, 18, 19]\n",
      "[9, 11, 12, 13, 14, 15, 19] --> [1, 2, 3, 4, 5, 6, 7, 8, 10, 16, 17]\n",
      "[9, 10, 12, 13, 14, 16] --> [1, 2, 3, 4, 5, 6, 7, 8, 11, 15, 17]\n",
      "[9, 10, 12, 13, 14, 15] --> [1, 2, 3, 4, 5, 6, 7, 8, 11, 16, 17]\n",
      "[9, 10, 11, 13, 15, 16] --> [1, 2, 3, 4, 5, 6, 7, 8, 12, 14, 17]\n",
      "[9, 10, 11, 13, 14, 16] --> [1, 2, 3, 4, 5, 6, 7, 8, 12, 15, 17]\n",
      "[9, 10, 11, 13, 14, 15] --> [1, 2, 3, 4, 5, 6, 7, 8, 12, 16, 17]\n",
      "[9, 10, 11, 12, 15, 16] --> [1, 2, 3, 4, 5, 6, 7, 8, 13, 14, 17]\n",
      "[9, 10, 11, 12, 14, 16] --> [1, 2, 3, 4, 5, 6, 7, 8, 13, 15, 17]\n",
      "[9, 10, 11, 12, 14, 15] --> [1, 2, 3, 4, 5, 6, 7, 8, 13, 16, 17]\n",
      "[9, 10, 11, 12, 13, 16] --> [1, 2, 3, 4, 5, 6, 7, 8, 14, 15, 17]\n",
      "[9, 10, 11, 12, 13, 15] --> [1, 2, 3, 4, 5, 6, 7, 8, 14, 16, 17]\n",
      "[9, 10, 11, 12, 13, 14] --> [1, 2, 3, 4, 5, 6, 7, 8, 15, 16, 17]\n",
      "[8, 10, 12, 13, 17, 19] --> [1, 2, 3, 4, 5, 6, 7, 9, 11, 14, 15]\n",
      "[8, 10, 11, 13, 17] --> [1, 2, 3, 4, 5, 6, 7, 9, 12, 14, 15]\n",
      "[8, 10, 11, 12, 17] --> [1, 2, 3, 4, 5, 6, 7, 9, 13, 14, 15]\n",
      "[8, 9, 12, 14, 19] --> [1, 2, 3, 4, 5, 6, 7, 10, 11, 13, 15]\n",
      "[8, 9, 11, 14, 21] --> [1, 2, 3, 4, 5, 6, 7, 10, 12, 13, 15]\n",
      "[8, 9, 11, 13, 23] --> [1, 2, 3, 4, 5, 6, 7, 10, 12, 14, 15]\n",
      "[8, 9, 11, 12] --> [1, 2, 3, 4, 5, 6, 7, 10, 13, 14, 15]\n",
      "[8, 9, 10, 14, 21] --> [1, 2, 3, 4, 5, 6, 7, 11, 12, 13, 15]\n",
      "[8, 9, 10, 13] --> [1, 2, 3, 4, 5, 6, 7, 11, 12, 14, 15]\n",
      "[8, 9, 10, 12, 23] --> [1, 2, 3, 4, 5, 6, 7, 11, 13, 14, 15]\n",
      "[8, 9, 10, 11, 23] --> [1, 2, 3, 4, 5, 6, 7, 12, 13, 14, 15]\n",
      "[7, 10, 15, 16, 18, 19] --> [1, 2, 3, 4, 5, 6, 8, 9, 11, 12, 13]\n",
      "[7, 9, 15, 17, 19, 20] --> [1, 2, 3, 4, 5, 6, 8, 10, 11, 12, 13]\n",
      "[7, 8, 17, 18, 19, 20] --> [1, 2, 3, 4, 5, 6, 9, 10, 11, 12, 13]\n",
      "GÉNERO  12\n",
      "[12, 13, 14, 15, 16, 17, 18, 19, 20, 21, 22] --> [1, 2, 3, 4, 5, 6, 7, 8, 9, 10, 11, 23]\n",
      "[11, 12, 13, 14, 15, 17, 18, 19, 20] --> [1, 2, 3, 4, 5, 6, 7, 8, 9, 10, 16, 21]\n",
      "[11, 12, 13, 14, 15, 16, 18, 19, 20] --> [1, 2, 3, 4, 5, 6, 7, 8, 9, 10, 17, 21]\n",
      "[11, 12, 13, 14, 15, 16, 17, 19, 20] --> [1, 2, 3, 4, 5, 6, 7, 8, 9, 10, 18, 21]\n",
      "[11, 12, 13, 14, 15, 16, 17, 18, 20] --> [1, 2, 3, 4, 5, 6, 7, 8, 9, 10, 19, 21]\n",
      "[11, 12, 13, 14, 15, 16, 17, 18, 19] --> [1, 2, 3, 4, 5, 6, 7, 8, 9, 10, 20, 21]\n",
      "[10, 12, 13, 14, 15, 16, 17, 21] --> [1, 2, 3, 4, 5, 6, 7, 8, 9, 11, 18, 19]\n",
      "[10, 11, 13, 14, 15, 16, 18] --> [1, 2, 3, 4, 5, 6, 7, 8, 9, 12, 17, 19]\n",
      "[10, 11, 13, 14, 15, 16, 17] --> [1, 2, 3, 4, 5, 6, 7, 8, 9, 12, 18, 19]\n",
      "[10, 11, 12, 14, 15, 17, 18] --> [1, 2, 3, 4, 5, 6, 7, 8, 9, 13, 16, 19]\n",
      "[10, 11, 12, 14, 15, 16, 18] --> [1, 2, 3, 4, 5, 6, 7, 8, 9, 13, 17, 19]\n",
      "[10, 11, 12, 14, 15, 16, 17] --> [1, 2, 3, 4, 5, 6, 7, 8, 9, 13, 18, 19]\n",
      "[10, 11, 12, 13, 16, 17, 18] --> [1, 2, 3, 4, 5, 6, 7, 8, 9, 14, 15, 19]\n",
      "[10, 11, 12, 13, 15, 17, 18] --> [1, 2, 3, 4, 5, 6, 7, 8, 9, 14, 16, 19]\n",
      "[10, 11, 12, 13, 15, 16, 18] --> [1, 2, 3, 4, 5, 6, 7, 8, 9, 14, 17, 19]\n",
      "[10, 11, 12, 13, 15, 16, 17] --> [1, 2, 3, 4, 5, 6, 7, 8, 9, 14, 18, 19]\n",
      "[10, 11, 12, 13, 14, 17, 18] --> [1, 2, 3, 4, 5, 6, 7, 8, 9, 15, 16, 19]\n",
      "[10, 11, 12, 13, 14, 16, 18] --> [1, 2, 3, 4, 5, 6, 7, 8, 9, 15, 17, 19]\n",
      "[10, 11, 12, 13, 14, 16, 17] --> [1, 2, 3, 4, 5, 6, 7, 8, 9, 15, 18, 19]\n",
      "[10, 11, 12, 13, 14, 15, 18] --> [1, 2, 3, 4, 5, 6, 7, 8, 9, 16, 17, 19]\n",
      "[10, 11, 12, 13, 14, 15, 17] --> [1, 2, 3, 4, 5, 6, 7, 8, 9, 16, 18, 19]\n",
      "[10, 11, 12, 13, 14, 15, 16] --> [1, 2, 3, 4, 5, 6, 7, 8, 9, 17, 18, 19]\n",
      "[9, 11, 13, 14, 15, 19, 21] --> [1, 2, 3, 4, 5, 6, 7, 8, 10, 12, 16, 17]\n",
      "[9, 11, 12, 14, 15, 19] --> [1, 2, 3, 4, 5, 6, 7, 8, 10, 13, 16, 17]\n",
      "[9, 11, 12, 13, 15, 19] --> [1, 2, 3, 4, 5, 6, 7, 8, 10, 14, 16, 17]\n",
      "[9, 11, 12, 13, 14, 19] --> [1, 2, 3, 4, 5, 6, 7, 8, 10, 15, 16, 17]\n",
      "[9, 10, 13, 14, 16, 21] --> [1, 2, 3, 4, 5, 6, 7, 8, 11, 12, 15, 17]\n",
      "[9, 10, 12, 14, 16] --> [1, 2, 3, 4, 5, 6, 7, 8, 11, 13, 15, 17]\n",
      "[9, 10, 12, 14, 15] --> [1, 2, 3, 4, 5, 6, 7, 8, 11, 13, 16, 17]\n",
      "[9, 10, 12, 13, 16] --> [1, 2, 3, 4, 5, 6, 7, 8, 11, 14, 15, 17]\n",
      "[9, 10, 12, 13, 15] --> [1, 2, 3, 4, 5, 6, 7, 8, 11, 14, 16, 17]\n",
      "[9, 10, 12, 13, 14] --> [1, 2, 3, 4, 5, 6, 7, 8, 11, 15, 16, 17]\n",
      "[9, 10, 11, 15, 16, 23] --> [1, 2, 3, 4, 5, 6, 7, 8, 12, 13, 14, 17]\n",
      "[9, 10, 11, 14, 16] --> [1, 2, 3, 4, 5, 6, 7, 8, 12, 13, 15, 17]\n",
      "[9, 10, 11, 14, 15] --> [1, 2, 3, 4, 5, 6, 7, 8, 12, 13, 16, 17]\n",
      "[9, 10, 11, 13, 16] --> [1, 2, 3, 4, 5, 6, 7, 8, 12, 14, 15, 17]\n",
      "[9, 10, 11, 13, 15] --> [1, 2, 3, 4, 5, 6, 7, 8, 12, 14, 16, 17]\n",
      "[9, 10, 11, 13, 14] --> [1, 2, 3, 4, 5, 6, 7, 8, 12, 15, 16, 17]\n",
      "[9, 10, 11, 12, 16] --> [1, 2, 3, 4, 5, 6, 7, 8, 13, 14, 15, 17]\n",
      "[9, 10, 11, 12, 15] --> [1, 2, 3, 4, 5, 6, 7, 8, 13, 14, 16, 17]\n",
      "[9, 10, 11, 12, 14] --> [1, 2, 3, 4, 5, 6, 7, 8, 13, 15, 16, 17]\n",
      "[9, 10, 11, 12, 13] --> [1, 2, 3, 4, 5, 6, 7, 8, 14, 15, 16, 17]\n",
      "[8, 11, 12, 17, 18, 21] --> [1, 2, 3, 4, 5, 6, 7, 9, 10, 13, 14, 15]\n",
      "[8, 10, 13, 17, 19, 22] --> [1, 2, 3, 4, 5, 6, 7, 9, 11, 12, 14, 15]\n",
      "[8, 10, 12, 17, 19, 21, 23] --> [1, 2, 3, 4, 5, 6, 7, 9, 11, 13, 14, 15]\n",
      "[8, 10, 11, 17, 23] --> [1, 2, 3, 4, 5, 6, 7, 9, 12, 13, 14, 15]\n",
      "[8, 9, 14, 19, 20, 21] --> [1, 2, 3, 4, 5, 6, 7, 10, 11, 12, 13, 15]\n",
      "[8, 9, 13, 19, 20, 23] --> [1, 2, 3, 4, 5, 6, 7, 10, 11, 12, 14, 15]\n"
     ]
    },
    {
     "name": "stdout",
     "output_type": "stream",
     "text": [
      "[8, 9, 12, 19, 22, 23] --> [1, 2, 3, 4, 5, 6, 7, 10, 11, 13, 14, 15]\n",
      "[8, 9, 11, 21, 23] --> [1, 2, 3, 4, 5, 6, 7, 10, 12, 13, 14, 15]\n",
      "[8, 9, 10, 21, 22, 23] --> [1, 2, 3, 4, 5, 6, 7, 11, 12, 13, 14, 15]\n",
      "[7, 15, 16, 17, 18, 19, 20] --> [1, 2, 3, 4, 5, 6, 8, 9, 10, 11, 12, 13]\n",
      "GÉNERO  13\n",
      "[13, 14, 15, 16, 17, 18, 19, 20, 21, 22, 23, 24] --> [1, 2, 3, 4, 5, 6, 7, 8, 9, 10, 11, 12, 25]\n",
      "[12, 13, 14, 15, 16, 17, 19, 20, 21, 22] --> [1, 2, 3, 4, 5, 6, 7, 8, 9, 10, 11, 18, 23]\n",
      "[12, 13, 14, 15, 16, 17, 18, 20, 21, 22] --> [1, 2, 3, 4, 5, 6, 7, 8, 9, 10, 11, 19, 23]\n",
      "[12, 13, 14, 15, 16, 17, 18, 19, 21, 22] --> [1, 2, 3, 4, 5, 6, 7, 8, 9, 10, 11, 20, 23]\n",
      "[12, 13, 14, 15, 16, 17, 18, 19, 20, 22] --> [1, 2, 3, 4, 5, 6, 7, 8, 9, 10, 11, 21, 23]\n",
      "[12, 13, 14, 15, 16, 17, 18, 19, 20, 21] --> [1, 2, 3, 4, 5, 6, 7, 8, 9, 10, 11, 22, 23]\n",
      "[11, 13, 14, 15, 16, 17, 18, 19, 23] --> [1, 2, 3, 4, 5, 6, 7, 8, 9, 10, 12, 20, 21]\n",
      "[11, 12, 14, 15, 16, 17, 18, 20] --> [1, 2, 3, 4, 5, 6, 7, 8, 9, 10, 13, 19, 21]\n",
      "[11, 12, 14, 15, 16, 17, 18, 19] --> [1, 2, 3, 4, 5, 6, 7, 8, 9, 10, 13, 20, 21]\n",
      "[11, 12, 13, 15, 16, 17, 19, 20] --> [1, 2, 3, 4, 5, 6, 7, 8, 9, 10, 14, 18, 21]\n",
      "[11, 12, 13, 15, 16, 17, 18, 20] --> [1, 2, 3, 4, 5, 6, 7, 8, 9, 10, 14, 19, 21]\n",
      "[11, 12, 13, 15, 16, 17, 18, 19] --> [1, 2, 3, 4, 5, 6, 7, 8, 9, 10, 14, 20, 21]\n",
      "[11, 12, 13, 14, 16, 18, 19, 20] --> [1, 2, 3, 4, 5, 6, 7, 8, 9, 10, 15, 17, 21]\n",
      "[11, 12, 13, 14, 16, 17, 19, 20] --> [1, 2, 3, 4, 5, 6, 7, 8, 9, 10, 15, 18, 21]\n",
      "[11, 12, 13, 14, 16, 17, 18, 20] --> [1, 2, 3, 4, 5, 6, 7, 8, 9, 10, 15, 19, 21]\n",
      "[11, 12, 13, 14, 16, 17, 18, 19] --> [1, 2, 3, 4, 5, 6, 7, 8, 9, 10, 15, 20, 21]\n",
      "[11, 12, 13, 14, 15, 18, 19, 20] --> [1, 2, 3, 4, 5, 6, 7, 8, 9, 10, 16, 17, 21]\n",
      "[11, 12, 13, 14, 15, 17, 19, 20] --> [1, 2, 3, 4, 5, 6, 7, 8, 9, 10, 16, 18, 21]\n",
      "[11, 12, 13, 14, 15, 17, 18, 20] --> [1, 2, 3, 4, 5, 6, 7, 8, 9, 10, 16, 19, 21]\n",
      "[11, 12, 13, 14, 15, 17, 18, 19] --> [1, 2, 3, 4, 5, 6, 7, 8, 9, 10, 16, 20, 21]\n",
      "[11, 12, 13, 14, 15, 16, 19, 20] --> [1, 2, 3, 4, 5, 6, 7, 8, 9, 10, 17, 18, 21]\n",
      "[11, 12, 13, 14, 15, 16, 18, 20] --> [1, 2, 3, 4, 5, 6, 7, 8, 9, 10, 17, 19, 21]\n",
      "[11, 12, 13, 14, 15, 16, 18, 19] --> [1, 2, 3, 4, 5, 6, 7, 8, 9, 10, 17, 20, 21]\n",
      "[11, 12, 13, 14, 15, 16, 17, 20] --> [1, 2, 3, 4, 5, 6, 7, 8, 9, 10, 18, 19, 21]\n",
      "[11, 12, 13, 14, 15, 16, 17, 19] --> [1, 2, 3, 4, 5, 6, 7, 8, 9, 10, 18, 20, 21]\n",
      "[11, 12, 13, 14, 15, 16, 17, 18] --> [1, 2, 3, 4, 5, 6, 7, 8, 9, 10, 19, 20, 21]\n",
      "[10, 12, 14, 15, 16, 17, 21, 23] --> [1, 2, 3, 4, 5, 6, 7, 8, 9, 11, 13, 18, 19]\n",
      "[10, 12, 13, 15, 16, 17, 21] --> [1, 2, 3, 4, 5, 6, 7, 8, 9, 11, 14, 18, 19]\n",
      "[10, 12, 13, 14, 16, 17, 21] --> [1, 2, 3, 4, 5, 6, 7, 8, 9, 11, 15, 18, 19]\n",
      "[10, 12, 13, 14, 15, 17, 21] --> [1, 2, 3, 4, 5, 6, 7, 8, 9, 11, 16, 18, 19]\n",
      "[10, 12, 13, 14, 15, 16, 21] --> [1, 2, 3, 4, 5, 6, 7, 8, 9, 11, 17, 18, 19]\n",
      "[10, 11, 14, 15, 16, 18, 23] --> [1, 2, 3, 4, 5, 6, 7, 8, 9, 12, 13, 17, 19]\n",
      "[10, 11, 13, 15, 16, 17] --> [1, 2, 3, 4, 5, 6, 7, 8, 9, 12, 14, 18, 19]\n",
      "[10, 11, 13, 14, 16, 18] --> [1, 2, 3, 4, 5, 6, 7, 8, 9, 12, 15, 17, 19]\n",
      "[10, 11, 13, 14, 16, 17] --> [1, 2, 3, 4, 5, 6, 7, 8, 9, 12, 15, 18, 19]\n",
      "[10, 11, 13, 14, 15, 18] --> [1, 2, 3, 4, 5, 6, 7, 8, 9, 12, 16, 17, 19]\n",
      "[10, 11, 13, 14, 15, 17] --> [1, 2, 3, 4, 5, 6, 7, 8, 9, 12, 16, 18, 19]\n",
      "[10, 11, 13, 14, 15, 16] --> [1, 2, 3, 4, 5, 6, 7, 8, 9, 12, 17, 18, 19]\n",
      "[10, 11, 12, 15, 17, 18] --> [1, 2, 3, 4, 5, 6, 7, 8, 9, 13, 14, 16, 19]\n",
      "[10, 11, 12, 15, 16, 18] --> [1, 2, 3, 4, 5, 6, 7, 8, 9, 13, 14, 17, 19]\n",
      "[10, 11, 12, 14, 17, 18] --> [1, 2, 3, 4, 5, 6, 7, 8, 9, 13, 15, 16, 19]\n",
      "[10, 11, 12, 14, 16, 18] --> [1, 2, 3, 4, 5, 6, 7, 8, 9, 13, 15, 17, 19]\n",
      "[10, 11, 12, 14, 16, 17] --> [1, 2, 3, 4, 5, 6, 7, 8, 9, 13, 15, 18, 19]\n",
      "[10, 11, 12, 14, 15, 18] --> [1, 2, 3, 4, 5, 6, 7, 8, 9, 13, 16, 17, 19]\n",
      "[10, 11, 12, 14, 15, 17] --> [1, 2, 3, 4, 5, 6, 7, 8, 9, 13, 16, 18, 19]\n",
      "[10, 11, 12, 14, 15, 16] --> [1, 2, 3, 4, 5, 6, 7, 8, 9, 13, 17, 18, 19]\n",
      "[10, 11, 12, 13, 17, 18] --> [1, 2, 3, 4, 5, 6, 7, 8, 9, 14, 15, 16, 19]\n",
      "[10, 11, 12, 13, 16, 18] --> [1, 2, 3, 4, 5, 6, 7, 8, 9, 14, 15, 17, 19]\n",
      "[10, 11, 12, 13, 16, 17] --> [1, 2, 3, 4, 5, 6, 7, 8, 9, 14, 15, 18, 19]\n",
      "[10, 11, 12, 13, 15, 18] --> [1, 2, 3, 4, 5, 6, 7, 8, 9, 14, 16, 17, 19]\n",
      "[10, 11, 12, 13, 15, 17] --> [1, 2, 3, 4, 5, 6, 7, 8, 9, 14, 16, 18, 19]\n",
      "[10, 11, 12, 13, 15, 16] --> [1, 2, 3, 4, 5, 6, 7, 8, 9, 14, 17, 18, 19]\n",
      "[10, 11, 12, 13, 14, 18] --> [1, 2, 3, 4, 5, 6, 7, 8, 9, 15, 16, 17, 19]\n",
      "[10, 11, 12, 13, 14, 17] --> [1, 2, 3, 4, 5, 6, 7, 8, 9, 15, 16, 18, 19]\n",
      "[10, 11, 12, 13, 14, 16] --> [1, 2, 3, 4, 5, 6, 7, 8, 9, 15, 17, 18, 19]\n",
      "[10, 11, 12, 13, 14, 15] --> [1, 2, 3, 4, 5, 6, 7, 8, 9, 16, 17, 18, 19]\n",
      "[9, 12, 13, 14, 19, 20] --> [1, 2, 3, 4, 5, 6, 7, 8, 10, 11, 15, 16, 17]\n",
      "[9, 11, 14, 15, 19, 21] --> [1, 2, 3, 4, 5, 6, 7, 8, 10, 12, 13, 16, 17]\n",
      "[9, 11, 13, 15, 19, 21, 23, 25] --> [1, 2, 3, 4, 5, 6, 7, 8, 10, 12, 14, 16, 17]\n",
      "[9, 11, 13, 14, 19, 21] --> [1, 2, 3, 4, 5, 6, 7, 8, 10, 12, 15, 16, 17]\n",
      "[9, 11, 12, 15, 19, 25] --> [1, 2, 3, 4, 5, 6, 7, 8, 10, 13, 14, 16, 17]\n",
      "[9, 11, 12, 14, 19] --> [1, 2, 3, 4, 5, 6, 7, 8, 10, 13, 15, 16, 17]\n",
      "[9, 11, 12, 13, 19] --> [1, 2, 3, 4, 5, 6, 7, 8, 10, 14, 15, 16, 17]\n",
      "[9, 10, 14, 16, 21, 22] --> [1, 2, 3, 4, 5, 6, 7, 8, 11, 12, 13, 15, 17]\n",
      "[9, 10, 13, 16, 21, 24] --> [1, 2, 3, 4, 5, 6, 7, 8, 11, 12, 14, 15, 17]\n",
      "[9, 10, 13, 15, 21] --> [1, 2, 3, 4, 5, 6, 7, 8, 11, 12, 14, 16, 17]\n",
      "[9, 10, 13, 14, 21, 25] --> [1, 2, 3, 4, 5, 6, 7, 8, 11, 12, 15, 16, 17]\n",
      "[9, 10, 12, 16, 23] --> [1, 2, 3, 4, 5, 6, 7, 8, 11, 13, 14, 15, 17]\n",
      "[9, 10, 12, 15, 23, 26] --> [1, 2, 3, 4, 5, 6, 7, 8, 11, 13, 14, 16, 17]\n",
      "[9, 10, 12, 14, 25] --> [1, 2, 3, 4, 5, 6, 7, 8, 11, 13, 15, 16, 17]\n",
      "[9, 10, 12, 13] --> [1, 2, 3, 4, 5, 6, 7, 8, 11, 14, 15, 16, 17]\n",
      "[9, 10, 11, 16, 23, 24] --> [1, 2, 3, 4, 5, 6, 7, 8, 12, 13, 14, 15, 17]\n",
      "[9, 10, 11, 15, 23] --> [1, 2, 3, 4, 5, 6, 7, 8, 12, 13, 14, 16, 17]\n",
      "[9, 10, 11, 14, 26] --> [1, 2, 3, 4, 5, 6, 7, 8, 12, 13, 15, 16, 17]\n",
      "[9, 10, 11, 13, 25] --> [1, 2, 3, 4, 5, 6, 7, 8, 12, 14, 15, 16, 17]\n",
      "[9, 10, 11, 12, 25, 26] --> [1, 2, 3, 4, 5, 6, 7, 8, 13, 14, 15, 16, 17]\n",
      "[8, 11, 17, 18, 20, 21, 23] --> [1, 2, 3, 4, 5, 6, 7, 9, 10, 12, 13, 14, 15]\n",
      "[8, 10, 17, 19, 21, 22, 23] --> [1, 2, 3, 4, 5, 6, 7, 9, 11, 12, 13, 14, 15]\n",
      "[8, 9, 19, 20, 21, 22, 23] --> [1, 2, 3, 4, 5, 6, 7, 10, 11, 12, 13, 14, 15]\n",
      "GÉNERO  14\n",
      "[14, 15, 16, 17, 18, 19, 20, 21, 22, 23, 24, 25, 26] --> [1, 2, 3, 4, 5, 6, 7, 8, 9, 10, 11, 12, 13, 27]\n",
      "[13, 14, 15, 16, 17, 18, 20, 21, 22, 23, 24] --> [1, 2, 3, 4, 5, 6, 7, 8, 9, 10, 11, 12, 19, 25]\n",
      "[13, 14, 15, 16, 17, 18, 19, 21, 22, 23, 24] --> [1, 2, 3, 4, 5, 6, 7, 8, 9, 10, 11, 12, 20, 25]\n",
      "[13, 14, 15, 16, 17, 18, 19, 20, 22, 23, 24] --> [1, 2, 3, 4, 5, 6, 7, 8, 9, 10, 11, 12, 21, 25]\n",
      "[13, 14, 15, 16, 17, 18, 19, 20, 21, 23, 24] --> [1, 2, 3, 4, 5, 6, 7, 8, 9, 10, 11, 12, 22, 25]\n",
      "[13, 14, 15, 16, 17, 18, 19, 20, 21, 22, 24] --> [1, 2, 3, 4, 5, 6, 7, 8, 9, 10, 11, 12, 23, 25]\n",
      "[13, 14, 15, 16, 17, 18, 19, 20, 21, 22, 23] --> [1, 2, 3, 4, 5, 6, 7, 8, 9, 10, 11, 12, 24, 25]\n",
      "[12, 14, 15, 16, 17, 18, 19, 20, 21, 25] --> [1, 2, 3, 4, 5, 6, 7, 8, 9, 10, 11, 13, 22, 23]\n",
      "[12, 13, 15, 16, 17, 18, 19, 20, 22] --> [1, 2, 3, 4, 5, 6, 7, 8, 9, 10, 11, 14, 21, 23]\n",
      "[12, 13, 15, 16, 17, 18, 19, 20, 21] --> [1, 2, 3, 4, 5, 6, 7, 8, 9, 10, 11, 14, 22, 23]\n",
      "[12, 13, 14, 16, 17, 18, 19, 21, 22] --> [1, 2, 3, 4, 5, 6, 7, 8, 9, 10, 11, 15, 20, 23]\n",
      "[12, 13, 14, 16, 17, 18, 19, 20, 22] --> [1, 2, 3, 4, 5, 6, 7, 8, 9, 10, 11, 15, 21, 23]\n",
      "[12, 13, 14, 16, 17, 18, 19, 20, 21] --> [1, 2, 3, 4, 5, 6, 7, 8, 9, 10, 11, 15, 22, 23]\n",
      "[12, 13, 14, 15, 17, 18, 20, 21, 22] --> [1, 2, 3, 4, 5, 6, 7, 8, 9, 10, 11, 16, 19, 23]\n",
      "[12, 13, 14, 15, 17, 18, 19, 21, 22] --> [1, 2, 3, 4, 5, 6, 7, 8, 9, 10, 11, 16, 20, 23]\n",
      "[12, 13, 14, 15, 17, 18, 19, 20, 22] --> [1, 2, 3, 4, 5, 6, 7, 8, 9, 10, 11, 16, 21, 23]\n",
      "[12, 13, 14, 15, 17, 18, 19, 20, 21] --> [1, 2, 3, 4, 5, 6, 7, 8, 9, 10, 11, 16, 22, 23]\n",
      "[12, 13, 14, 15, 16, 19, 20, 21, 22] --> [1, 2, 3, 4, 5, 6, 7, 8, 9, 10, 11, 17, 18, 23]\n",
      "[12, 13, 14, 15, 16, 18, 20, 21, 22] --> [1, 2, 3, 4, 5, 6, 7, 8, 9, 10, 11, 17, 19, 23]\n",
      "[12, 13, 14, 15, 16, 18, 19, 21, 22] --> [1, 2, 3, 4, 5, 6, 7, 8, 9, 10, 11, 17, 20, 23]\n",
      "[12, 13, 14, 15, 16, 18, 19, 20, 22] --> [1, 2, 3, 4, 5, 6, 7, 8, 9, 10, 11, 17, 21, 23]\n",
      "[12, 13, 14, 15, 16, 18, 19, 20, 21] --> [1, 2, 3, 4, 5, 6, 7, 8, 9, 10, 11, 17, 22, 23]\n"
     ]
    },
    {
     "name": "stdout",
     "output_type": "stream",
     "text": [
      "[12, 13, 14, 15, 16, 17, 20, 21, 22] --> [1, 2, 3, 4, 5, 6, 7, 8, 9, 10, 11, 18, 19, 23]\n",
      "[12, 13, 14, 15, 16, 17, 19, 21, 22] --> [1, 2, 3, 4, 5, 6, 7, 8, 9, 10, 11, 18, 20, 23]\n",
      "[12, 13, 14, 15, 16, 17, 19, 20, 22] --> [1, 2, 3, 4, 5, 6, 7, 8, 9, 10, 11, 18, 21, 23]\n",
      "[12, 13, 14, 15, 16, 17, 19, 20, 21] --> [1, 2, 3, 4, 5, 6, 7, 8, 9, 10, 11, 18, 22, 23]\n",
      "[12, 13, 14, 15, 16, 17, 18, 21, 22] --> [1, 2, 3, 4, 5, 6, 7, 8, 9, 10, 11, 19, 20, 23]\n",
      "[12, 13, 14, 15, 16, 17, 18, 20, 22] --> [1, 2, 3, 4, 5, 6, 7, 8, 9, 10, 11, 19, 21, 23]\n",
      "[12, 13, 14, 15, 16, 17, 18, 20, 21] --> [1, 2, 3, 4, 5, 6, 7, 8, 9, 10, 11, 19, 22, 23]\n",
      "[12, 13, 14, 15, 16, 17, 18, 19, 22] --> [1, 2, 3, 4, 5, 6, 7, 8, 9, 10, 11, 20, 21, 23]\n",
      "[12, 13, 14, 15, 16, 17, 18, 19, 21] --> [1, 2, 3, 4, 5, 6, 7, 8, 9, 10, 11, 20, 22, 23]\n",
      "[12, 13, 14, 15, 16, 17, 18, 19, 20] --> [1, 2, 3, 4, 5, 6, 7, 8, 9, 10, 11, 21, 22, 23]\n",
      "[11, 13, 15, 16, 17, 18, 19, 23, 25] --> [1, 2, 3, 4, 5, 6, 7, 8, 9, 10, 12, 14, 20, 21]\n",
      "[11, 13, 14, 16, 17, 18, 19, 23] --> [1, 2, 3, 4, 5, 6, 7, 8, 9, 10, 12, 15, 20, 21]\n",
      "[11, 13, 14, 15, 17, 18, 19, 23] --> [1, 2, 3, 4, 5, 6, 7, 8, 9, 10, 12, 16, 20, 21]\n",
      "[11, 13, 14, 15, 16, 18, 19, 23] --> [1, 2, 3, 4, 5, 6, 7, 8, 9, 10, 12, 17, 20, 21]\n",
      "[11, 13, 14, 15, 16, 17, 19, 23] --> [1, 2, 3, 4, 5, 6, 7, 8, 9, 10, 12, 18, 20, 21]\n",
      "[11, 13, 14, 15, 16, 17, 18, 23] --> [1, 2, 3, 4, 5, 6, 7, 8, 9, 10, 12, 19, 20, 21]\n",
      "[11, 12, 15, 16, 17, 18, 20, 25] --> [1, 2, 3, 4, 5, 6, 7, 8, 9, 10, 13, 14, 19, 21]\n",
      "[11, 12, 14, 16, 17, 18, 19] --> [1, 2, 3, 4, 5, 6, 7, 8, 9, 10, 13, 15, 20, 21]\n",
      "[11, 12, 14, 15, 17, 18, 20] --> [1, 2, 3, 4, 5, 6, 7, 8, 9, 10, 13, 16, 19, 21]\n",
      "[11, 12, 14, 15, 17, 18, 19] --> [1, 2, 3, 4, 5, 6, 7, 8, 9, 10, 13, 16, 20, 21]\n",
      "[11, 12, 14, 15, 16, 18, 20] --> [1, 2, 3, 4, 5, 6, 7, 8, 9, 10, 13, 17, 19, 21]\n",
      "[11, 12, 14, 15, 16, 18, 19] --> [1, 2, 3, 4, 5, 6, 7, 8, 9, 10, 13, 17, 20, 21]\n",
      "[11, 12, 14, 15, 16, 17, 20] --> [1, 2, 3, 4, 5, 6, 7, 8, 9, 10, 13, 18, 19, 21]\n",
      "[11, 12, 14, 15, 16, 17, 19] --> [1, 2, 3, 4, 5, 6, 7, 8, 9, 10, 13, 18, 20, 21]\n",
      "[11, 12, 14, 15, 16, 17, 18] --> [1, 2, 3, 4, 5, 6, 7, 8, 9, 10, 13, 19, 20, 21]\n",
      "[11, 12, 13, 16, 17, 19, 20] --> [1, 2, 3, 4, 5, 6, 7, 8, 9, 10, 14, 15, 18, 21]\n",
      "[11, 12, 13, 16, 17, 18, 20] --> [1, 2, 3, 4, 5, 6, 7, 8, 9, 10, 14, 15, 19, 21]\n",
      "[11, 12, 13, 15, 17, 19, 20] --> [1, 2, 3, 4, 5, 6, 7, 8, 9, 10, 14, 16, 18, 21]\n",
      "[11, 12, 13, 15, 17, 18, 20] --> [1, 2, 3, 4, 5, 6, 7, 8, 9, 10, 14, 16, 19, 21]\n",
      "[11, 12, 13, 15, 17, 18, 19] --> [1, 2, 3, 4, 5, 6, 7, 8, 9, 10, 14, 16, 20, 21]\n",
      "[11, 12, 13, 15, 16, 19, 20] --> [1, 2, 3, 4, 5, 6, 7, 8, 9, 10, 14, 17, 18, 21]\n",
      "[11, 12, 13, 15, 16, 18, 20] --> [1, 2, 3, 4, 5, 6, 7, 8, 9, 10, 14, 17, 19, 21]\n",
      "[11, 12, 13, 15, 16, 18, 19] --> [1, 2, 3, 4, 5, 6, 7, 8, 9, 10, 14, 17, 20, 21]\n",
      "[11, 12, 13, 15, 16, 17, 20] --> [1, 2, 3, 4, 5, 6, 7, 8, 9, 10, 14, 18, 19, 21]\n",
      "[11, 12, 13, 15, 16, 17, 19] --> [1, 2, 3, 4, 5, 6, 7, 8, 9, 10, 14, 18, 20, 21]\n",
      "[11, 12, 13, 15, 16, 17, 18] --> [1, 2, 3, 4, 5, 6, 7, 8, 9, 10, 14, 19, 20, 21]\n",
      "[11, 12, 13, 14, 18, 19, 20] --> [1, 2, 3, 4, 5, 6, 7, 8, 9, 10, 15, 16, 17, 21]\n",
      "[11, 12, 13, 14, 17, 19, 20] --> [1, 2, 3, 4, 5, 6, 7, 8, 9, 10, 15, 16, 18, 21]\n",
      "[11, 12, 13, 14, 17, 18, 20] --> [1, 2, 3, 4, 5, 6, 7, 8, 9, 10, 15, 16, 19, 21]\n",
      "[11, 12, 13, 14, 17, 18, 19] --> [1, 2, 3, 4, 5, 6, 7, 8, 9, 10, 15, 16, 20, 21]\n",
      "[11, 12, 13, 14, 16, 19, 20] --> [1, 2, 3, 4, 5, 6, 7, 8, 9, 10, 15, 17, 18, 21]\n",
      "[11, 12, 13, 14, 16, 18, 20] --> [1, 2, 3, 4, 5, 6, 7, 8, 9, 10, 15, 17, 19, 21]\n",
      "[11, 12, 13, 14, 16, 18, 19] --> [1, 2, 3, 4, 5, 6, 7, 8, 9, 10, 15, 17, 20, 21]\n",
      "[11, 12, 13, 14, 16, 17, 20] --> [1, 2, 3, 4, 5, 6, 7, 8, 9, 10, 15, 18, 19, 21]\n",
      "[11, 12, 13, 14, 16, 17, 19] --> [1, 2, 3, 4, 5, 6, 7, 8, 9, 10, 15, 18, 20, 21]\n",
      "[11, 12, 13, 14, 16, 17, 18] --> [1, 2, 3, 4, 5, 6, 7, 8, 9, 10, 15, 19, 20, 21]\n",
      "[11, 12, 13, 14, 15, 19, 20] --> [1, 2, 3, 4, 5, 6, 7, 8, 9, 10, 16, 17, 18, 21]\n",
      "[11, 12, 13, 14, 15, 18, 20] --> [1, 2, 3, 4, 5, 6, 7, 8, 9, 10, 16, 17, 19, 21]\n",
      "[11, 12, 13, 14, 15, 18, 19] --> [1, 2, 3, 4, 5, 6, 7, 8, 9, 10, 16, 17, 20, 21]\n",
      "[11, 12, 13, 14, 15, 17, 20] --> [1, 2, 3, 4, 5, 6, 7, 8, 9, 10, 16, 18, 19, 21]\n",
      "[11, 12, 13, 14, 15, 17, 19] --> [1, 2, 3, 4, 5, 6, 7, 8, 9, 10, 16, 18, 20, 21]\n",
      "[11, 12, 13, 14, 15, 17, 18] --> [1, 2, 3, 4, 5, 6, 7, 8, 9, 10, 16, 19, 20, 21]\n",
      "[11, 12, 13, 14, 15, 16, 20] --> [1, 2, 3, 4, 5, 6, 7, 8, 9, 10, 17, 18, 19, 21]\n",
      "[11, 12, 13, 14, 15, 16, 19] --> [1, 2, 3, 4, 5, 6, 7, 8, 9, 10, 17, 18, 20, 21]\n",
      "[11, 12, 13, 14, 15, 16, 18] --> [1, 2, 3, 4, 5, 6, 7, 8, 9, 10, 17, 19, 20, 21]\n",
      "[11, 12, 13, 14, 15, 16, 17] --> [1, 2, 3, 4, 5, 6, 7, 8, 9, 10, 18, 19, 20, 21]\n",
      "[10, 13, 14, 15, 16, 21, 22] --> [1, 2, 3, 4, 5, 6, 7, 8, 9, 11, 12, 17, 18, 19]\n",
      "[10, 12, 14, 16, 17, 21, 23, 25] --> [1, 2, 3, 4, 5, 6, 7, 8, 9, 11, 13, 15, 18, 19]\n",
      "[10, 12, 14, 15, 17, 21, 23] --> [1, 2, 3, 4, 5, 6, 7, 8, 9, 11, 13, 16, 18, 19]\n",
      "[10, 12, 14, 15, 16, 21, 23] --> [1, 2, 3, 4, 5, 6, 7, 8, 9, 11, 13, 17, 18, 19]\n",
      "[10, 12, 13, 16, 17, 21] --> [1, 2, 3, 4, 5, 6, 7, 8, 9, 11, 14, 15, 18, 19]\n",
      "[10, 12, 13, 15, 17, 21] --> [1, 2, 3, 4, 5, 6, 7, 8, 9, 11, 14, 16, 18, 19]\n",
      "[10, 12, 13, 15, 16, 21] --> [1, 2, 3, 4, 5, 6, 7, 8, 9, 11, 14, 17, 18, 19]\n",
      "[10, 12, 13, 14, 17, 21] --> [1, 2, 3, 4, 5, 6, 7, 8, 9, 11, 15, 16, 18, 19]\n",
      "[10, 12, 13, 14, 16, 21] --> [1, 2, 3, 4, 5, 6, 7, 8, 9, 11, 15, 17, 18, 19]\n",
      "[10, 12, 13, 14, 15, 21] --> [1, 2, 3, 4, 5, 6, 7, 8, 9, 11, 16, 17, 18, 19]\n",
      "[10, 11, 14, 16, 18, 23] --> [1, 2, 3, 4, 5, 6, 7, 8, 9, 12, 13, 15, 17, 19]\n",
      "[10, 11, 14, 15, 18, 23, 27] --> [1, 2, 3, 4, 5, 6, 7, 8, 9, 12, 13, 16, 17, 19]\n",
      "[10, 11, 14, 15, 17, 23] --> [1, 2, 3, 4, 5, 6, 7, 8, 9, 12, 13, 16, 18, 19]\n",
      "[10, 11, 14, 15, 16, 23] --> [1, 2, 3, 4, 5, 6, 7, 8, 9, 12, 13, 17, 18, 19]\n",
      "[10, 11, 13, 16, 18, 25] --> [1, 2, 3, 4, 5, 6, 7, 8, 9, 12, 14, 15, 17, 19]\n",
      "[10, 11, 13, 16, 17, 25] --> [1, 2, 3, 4, 5, 6, 7, 8, 9, 12, 14, 15, 18, 19]\n",
      "[10, 11, 13, 15, 18, 27] --> [1, 2, 3, 4, 5, 6, 7, 8, 9, 12, 14, 16, 17, 19]\n",
      "[10, 11, 13, 15, 17, 29] --> [1, 2, 3, 4, 5, 6, 7, 8, 9, 12, 14, 16, 18, 19]\n",
      "[10, 11, 13, 15, 16] --> [1, 2, 3, 4, 5, 6, 7, 8, 9, 12, 14, 17, 18, 19]\n",
      "[10, 11, 13, 14, 18] --> [1, 2, 3, 4, 5, 6, 7, 8, 9, 12, 15, 16, 17, 19]\n",
      "[10, 11, 13, 14, 17, 29] --> [1, 2, 3, 4, 5, 6, 7, 8, 9, 12, 15, 16, 18, 19]\n",
      "[10, 11, 13, 14, 16] --> [1, 2, 3, 4, 5, 6, 7, 8, 9, 12, 15, 17, 18, 19]\n",
      "[10, 11, 13, 14, 15] --> [1, 2, 3, 4, 5, 6, 7, 8, 9, 12, 16, 17, 18, 19]\n",
      "[10, 11, 12, 17, 18, 25, 26] --> [1, 2, 3, 4, 5, 6, 7, 8, 9, 13, 14, 15, 16, 19]\n",
      "[10, 11, 12, 16, 18, 25] --> [1, 2, 3, 4, 5, 6, 7, 8, 9, 13, 14, 15, 17, 19]\n",
      "[10, 11, 12, 16, 17, 25] --> [1, 2, 3, 4, 5, 6, 7, 8, 9, 13, 14, 15, 18, 19]\n",
      "[10, 11, 12, 15, 18] --> [1, 2, 3, 4, 5, 6, 7, 8, 9, 13, 14, 16, 17, 19]\n",
      "[10, 11, 12, 15, 17] --> [1, 2, 3, 4, 5, 6, 7, 8, 9, 13, 14, 16, 18, 19]\n",
      "[10, 11, 12, 15, 16, 29] --> [1, 2, 3, 4, 5, 6, 7, 8, 9, 13, 14, 17, 18, 19]\n",
      "[10, 11, 12, 14, 18, 27] --> [1, 2, 3, 4, 5, 6, 7, 8, 9, 13, 15, 16, 17, 19]\n",
      "[10, 11, 12, 14, 17] --> [1, 2, 3, 4, 5, 6, 7, 8, 9, 13, 15, 16, 18, 19]\n",
      "[10, 11, 12, 14, 16, 29] --> [1, 2, 3, 4, 5, 6, 7, 8, 9, 13, 15, 17, 18, 19]\n",
      "[10, 11, 12, 14, 15] --> [1, 2, 3, 4, 5, 6, 7, 8, 9, 13, 16, 17, 18, 19]\n",
      "[10, 11, 12, 13, 18, 27] --> [1, 2, 3, 4, 5, 6, 7, 8, 9, 14, 15, 16, 17, 19]\n",
      "[10, 11, 12, 13, 17] --> [1, 2, 3, 4, 5, 6, 7, 8, 9, 14, 15, 16, 18, 19]\n",
      "[10, 11, 12, 13, 16] --> [1, 2, 3, 4, 5, 6, 7, 8, 9, 14, 15, 17, 18, 19]\n",
      "[10, 11, 12, 13, 15, 29] --> [1, 2, 3, 4, 5, 6, 7, 8, 9, 14, 16, 17, 18, 19]\n",
      "[10, 11, 12, 13, 14, 29] --> [1, 2, 3, 4, 5, 6, 7, 8, 9, 15, 16, 17, 18, 19]\n",
      "[9, 12, 14, 19, 20, 22, 25] --> [1, 2, 3, 4, 5, 6, 7, 8, 10, 11, 13, 15, 16, 17]\n",
      "[9, 12, 13, 19, 20, 23] --> [1, 2, 3, 4, 5, 6, 7, 8, 10, 11, 14, 15, 16, 17]\n",
      "[9, 11, 15, 19, 21, 23, 25] --> [1, 2, 3, 4, 5, 6, 7, 8, 10, 12, 13, 14, 16, 17]\n",
      "[9, 11, 14, 19, 21, 24, 26] --> [1, 2, 3, 4, 5, 6, 7, 8, 10, 12, 13, 15, 16, 17]\n",
      "[9, 11, 13, 19, 21, 23, 25] --> [1, 2, 3, 4, 5, 6, 7, 8, 10, 12, 14, 15, 16, 17]\n",
      "[9, 11, 12, 19, 25, 26] --> [1, 2, 3, 4, 5, 6, 7, 8, 10, 13, 14, 15, 16, 17]\n",
      "[9, 10, 16, 21, 22, 23, 24] --> [1, 2, 3, 4, 5, 6, 7, 8, 11, 12, 13, 14, 15, 17]\n",
      "[9, 10, 15, 21, 22, 23, 26] --> [1, 2, 3, 4, 5, 6, 7, 8, 11, 12, 13, 14, 16, 17]\n"
     ]
    },
    {
     "name": "stdout",
     "output_type": "stream",
     "text": [
      "[9, 10, 14, 21, 22, 25, 26] --> [1, 2, 3, 4, 5, 6, 7, 8, 11, 12, 13, 15, 16, 17]\n",
      "[9, 10, 13, 21, 24, 25] --> [1, 2, 3, 4, 5, 6, 7, 8, 11, 12, 14, 15, 16, 17]\n",
      "[9, 10, 12, 23, 25, 26] --> [1, 2, 3, 4, 5, 6, 7, 8, 11, 13, 14, 15, 16, 17]\n",
      "[9, 10, 11, 23, 24, 25, 26] --> [1, 2, 3, 4, 5, 6, 7, 8, 12, 13, 14, 15, 16, 17]\n",
      "[8, 17, 18, 19, 20, 21, 22, 23] --> [1, 2, 3, 4, 5, 6, 7, 9, 10, 11, 12, 13, 14, 15]\n",
      "GÉNERO  15\n",
      "[15, 16, 17, 18, 19, 20, 21, 22, 23, 24, 25, 26, 27, 28] --> [1, 2, 3, 4, 5, 6, 7, 8, 9, 10, 11, 12, 13, 14, 29]\n",
      "[14, 15, 16, 17, 18, 19, 20, 22, 23, 24, 25, 26] --> [1, 2, 3, 4, 5, 6, 7, 8, 9, 10, 11, 12, 13, 21, 27]\n",
      "[14, 15, 16, 17, 18, 19, 20, 21, 23, 24, 25, 26] --> [1, 2, 3, 4, 5, 6, 7, 8, 9, 10, 11, 12, 13, 22, 27]\n",
      "[14, 15, 16, 17, 18, 19, 20, 21, 22, 24, 25, 26] --> [1, 2, 3, 4, 5, 6, 7, 8, 9, 10, 11, 12, 13, 23, 27]\n",
      "[14, 15, 16, 17, 18, 19, 20, 21, 22, 23, 25, 26] --> [1, 2, 3, 4, 5, 6, 7, 8, 9, 10, 11, 12, 13, 24, 27]\n",
      "[14, 15, 16, 17, 18, 19, 20, 21, 22, 23, 24, 26] --> [1, 2, 3, 4, 5, 6, 7, 8, 9, 10, 11, 12, 13, 25, 27]\n",
      "[14, 15, 16, 17, 18, 19, 20, 21, 22, 23, 24, 25] --> [1, 2, 3, 4, 5, 6, 7, 8, 9, 10, 11, 12, 13, 26, 27]\n",
      "[13, 15, 16, 17, 18, 19, 20, 21, 22, 23, 27] --> [1, 2, 3, 4, 5, 6, 7, 8, 9, 10, 11, 12, 14, 24, 25]\n",
      "[13, 14, 16, 17, 18, 19, 20, 21, 22, 24] --> [1, 2, 3, 4, 5, 6, 7, 8, 9, 10, 11, 12, 15, 23, 25]\n",
      "[13, 14, 16, 17, 18, 19, 20, 21, 22, 23] --> [1, 2, 3, 4, 5, 6, 7, 8, 9, 10, 11, 12, 15, 24, 25]\n",
      "[13, 14, 15, 17, 18, 19, 20, 21, 23, 24] --> [1, 2, 3, 4, 5, 6, 7, 8, 9, 10, 11, 12, 16, 22, 25]\n",
      "[13, 14, 15, 17, 18, 19, 20, 21, 22, 24] --> [1, 2, 3, 4, 5, 6, 7, 8, 9, 10, 11, 12, 16, 23, 25]\n",
      "[13, 14, 15, 17, 18, 19, 20, 21, 22, 23] --> [1, 2, 3, 4, 5, 6, 7, 8, 9, 10, 11, 12, 16, 24, 25]\n",
      "[13, 14, 15, 16, 18, 19, 20, 22, 23, 24] --> [1, 2, 3, 4, 5, 6, 7, 8, 9, 10, 11, 12, 17, 21, 25]\n",
      "[13, 14, 15, 16, 18, 19, 20, 21, 23, 24] --> [1, 2, 3, 4, 5, 6, 7, 8, 9, 10, 11, 12, 17, 22, 25]\n",
      "[13, 14, 15, 16, 18, 19, 20, 21, 22, 24] --> [1, 2, 3, 4, 5, 6, 7, 8, 9, 10, 11, 12, 17, 23, 25]\n",
      "[13, 14, 15, 16, 18, 19, 20, 21, 22, 23] --> [1, 2, 3, 4, 5, 6, 7, 8, 9, 10, 11, 12, 17, 24, 25]\n",
      "[13, 14, 15, 16, 17, 19, 21, 22, 23, 24] --> [1, 2, 3, 4, 5, 6, 7, 8, 9, 10, 11, 12, 18, 20, 25]\n",
      "[13, 14, 15, 16, 17, 19, 20, 22, 23, 24] --> [1, 2, 3, 4, 5, 6, 7, 8, 9, 10, 11, 12, 18, 21, 25]\n",
      "[13, 14, 15, 16, 17, 19, 20, 21, 23, 24] --> [1, 2, 3, 4, 5, 6, 7, 8, 9, 10, 11, 12, 18, 22, 25]\n",
      "[13, 14, 15, 16, 17, 19, 20, 21, 22, 24] --> [1, 2, 3, 4, 5, 6, 7, 8, 9, 10, 11, 12, 18, 23, 25]\n",
      "[13, 14, 15, 16, 17, 19, 20, 21, 22, 23] --> [1, 2, 3, 4, 5, 6, 7, 8, 9, 10, 11, 12, 18, 24, 25]\n",
      "[13, 14, 15, 16, 17, 18, 21, 22, 23, 24] --> [1, 2, 3, 4, 5, 6, 7, 8, 9, 10, 11, 12, 19, 20, 25]\n",
      "[13, 14, 15, 16, 17, 18, 20, 22, 23, 24] --> [1, 2, 3, 4, 5, 6, 7, 8, 9, 10, 11, 12, 19, 21, 25]\n",
      "[13, 14, 15, 16, 17, 18, 20, 21, 23, 24] --> [1, 2, 3, 4, 5, 6, 7, 8, 9, 10, 11, 12, 19, 22, 25]\n",
      "[13, 14, 15, 16, 17, 18, 20, 21, 22, 24] --> [1, 2, 3, 4, 5, 6, 7, 8, 9, 10, 11, 12, 19, 23, 25]\n",
      "[13, 14, 15, 16, 17, 18, 20, 21, 22, 23] --> [1, 2, 3, 4, 5, 6, 7, 8, 9, 10, 11, 12, 19, 24, 25]\n",
      "[13, 14, 15, 16, 17, 18, 19, 22, 23, 24] --> [1, 2, 3, 4, 5, 6, 7, 8, 9, 10, 11, 12, 20, 21, 25]\n",
      "[13, 14, 15, 16, 17, 18, 19, 21, 23, 24] --> [1, 2, 3, 4, 5, 6, 7, 8, 9, 10, 11, 12, 20, 22, 25]\n",
      "[13, 14, 15, 16, 17, 18, 19, 21, 22, 24] --> [1, 2, 3, 4, 5, 6, 7, 8, 9, 10, 11, 12, 20, 23, 25]\n",
      "[13, 14, 15, 16, 17, 18, 19, 21, 22, 23] --> [1, 2, 3, 4, 5, 6, 7, 8, 9, 10, 11, 12, 20, 24, 25]\n",
      "[13, 14, 15, 16, 17, 18, 19, 20, 23, 24] --> [1, 2, 3, 4, 5, 6, 7, 8, 9, 10, 11, 12, 21, 22, 25]\n",
      "[13, 14, 15, 16, 17, 18, 19, 20, 22, 24] --> [1, 2, 3, 4, 5, 6, 7, 8, 9, 10, 11, 12, 21, 23, 25]\n",
      "[13, 14, 15, 16, 17, 18, 19, 20, 22, 23] --> [1, 2, 3, 4, 5, 6, 7, 8, 9, 10, 11, 12, 21, 24, 25]\n",
      "[13, 14, 15, 16, 17, 18, 19, 20, 21, 24] --> [1, 2, 3, 4, 5, 6, 7, 8, 9, 10, 11, 12, 22, 23, 25]\n",
      "[13, 14, 15, 16, 17, 18, 19, 20, 21, 23] --> [1, 2, 3, 4, 5, 6, 7, 8, 9, 10, 11, 12, 22, 24, 25]\n",
      "[13, 14, 15, 16, 17, 18, 19, 20, 21, 22] --> [1, 2, 3, 4, 5, 6, 7, 8, 9, 10, 11, 12, 23, 24, 25]\n",
      "[12, 14, 16, 17, 18, 19, 20, 21, 25, 27] --> [1, 2, 3, 4, 5, 6, 7, 8, 9, 10, 11, 13, 15, 22, 23]\n",
      "[12, 14, 15, 17, 18, 19, 20, 21, 25] --> [1, 2, 3, 4, 5, 6, 7, 8, 9, 10, 11, 13, 16, 22, 23]\n",
      "[12, 14, 15, 16, 18, 19, 20, 21, 25] --> [1, 2, 3, 4, 5, 6, 7, 8, 9, 10, 11, 13, 17, 22, 23]\n",
      "[12, 14, 15, 16, 17, 19, 20, 21, 25] --> [1, 2, 3, 4, 5, 6, 7, 8, 9, 10, 11, 13, 18, 22, 23]\n",
      "[12, 14, 15, 16, 17, 18, 20, 21, 25] --> [1, 2, 3, 4, 5, 6, 7, 8, 9, 10, 11, 13, 19, 22, 23]\n",
      "[12, 14, 15, 16, 17, 18, 19, 21, 25] --> [1, 2, 3, 4, 5, 6, 7, 8, 9, 10, 11, 13, 20, 22, 23]\n",
      "[12, 14, 15, 16, 17, 18, 19, 20, 25] --> [1, 2, 3, 4, 5, 6, 7, 8, 9, 10, 11, 13, 21, 22, 23]\n",
      "[12, 13, 16, 17, 18, 19, 20, 22, 27] --> [1, 2, 3, 4, 5, 6, 7, 8, 9, 10, 11, 14, 15, 21, 23]\n",
      "[12, 13, 15, 17, 18, 19, 20, 21] --> [1, 2, 3, 4, 5, 6, 7, 8, 9, 10, 11, 14, 16, 22, 23]\n",
      "[12, 13, 15, 16, 18, 19, 20, 22] --> [1, 2, 3, 4, 5, 6, 7, 8, 9, 10, 11, 14, 17, 21, 23]\n",
      "[12, 13, 15, 16, 18, 19, 20, 21] --> [1, 2, 3, 4, 5, 6, 7, 8, 9, 10, 11, 14, 17, 22, 23]\n",
      "[12, 13, 15, 16, 17, 19, 20, 22] --> [1, 2, 3, 4, 5, 6, 7, 8, 9, 10, 11, 14, 18, 21, 23]\n",
      "[12, 13, 15, 16, 17, 19, 20, 21] --> [1, 2, 3, 4, 5, 6, 7, 8, 9, 10, 11, 14, 18, 22, 23]\n",
      "[12, 13, 15, 16, 17, 18, 20, 22] --> [1, 2, 3, 4, 5, 6, 7, 8, 9, 10, 11, 14, 19, 21, 23]\n",
      "[12, 13, 15, 16, 17, 18, 20, 21] --> [1, 2, 3, 4, 5, 6, 7, 8, 9, 10, 11, 14, 19, 22, 23]\n",
      "[12, 13, 15, 16, 17, 18, 19, 22] --> [1, 2, 3, 4, 5, 6, 7, 8, 9, 10, 11, 14, 20, 21, 23]\n",
      "[12, 13, 15, 16, 17, 18, 19, 21] --> [1, 2, 3, 4, 5, 6, 7, 8, 9, 10, 11, 14, 20, 22, 23]\n",
      "[12, 13, 15, 16, 17, 18, 19, 20] --> [1, 2, 3, 4, 5, 6, 7, 8, 9, 10, 11, 14, 21, 22, 23]\n",
      "[12, 13, 14, 17, 18, 19, 21, 22] --> [1, 2, 3, 4, 5, 6, 7, 8, 9, 10, 11, 15, 16, 20, 23]\n",
      "[12, 13, 14, 17, 18, 19, 20, 22] --> [1, 2, 3, 4, 5, 6, 7, 8, 9, 10, 11, 15, 16, 21, 23]\n",
      "[12, 13, 14, 16, 18, 19, 21, 22] --> [1, 2, 3, 4, 5, 6, 7, 8, 9, 10, 11, 15, 17, 20, 23]\n",
      "[12, 13, 14, 16, 18, 19, 20, 21] --> [1, 2, 3, 4, 5, 6, 7, 8, 9, 10, 11, 15, 17, 22, 23]\n",
      "[12, 13, 14, 16, 17, 19, 21, 22] --> [1, 2, 3, 4, 5, 6, 7, 8, 9, 10, 11, 15, 18, 20, 23]\n",
      "[12, 13, 14, 16, 17, 19, 20, 22] --> [1, 2, 3, 4, 5, 6, 7, 8, 9, 10, 11, 15, 18, 21, 23]\n",
      "[12, 13, 14, 16, 17, 19, 20, 21] --> [1, 2, 3, 4, 5, 6, 7, 8, 9, 10, 11, 15, 18, 22, 23]\n",
      "[12, 13, 14, 16, 17, 18, 21, 22] --> [1, 2, 3, 4, 5, 6, 7, 8, 9, 10, 11, 15, 19, 20, 23]\n",
      "[12, 13, 14, 16, 17, 18, 20, 22] --> [1, 2, 3, 4, 5, 6, 7, 8, 9, 10, 11, 15, 19, 21, 23]\n",
      "[12, 13, 14, 16, 17, 18, 20, 21] --> [1, 2, 3, 4, 5, 6, 7, 8, 9, 10, 11, 15, 19, 22, 23]\n",
      "[12, 13, 14, 16, 17, 18, 19, 22] --> [1, 2, 3, 4, 5, 6, 7, 8, 9, 10, 11, 15, 20, 21, 23]\n",
      "[12, 13, 14, 16, 17, 18, 19, 21] --> [1, 2, 3, 4, 5, 6, 7, 8, 9, 10, 11, 15, 20, 22, 23]\n",
      "[12, 13, 14, 16, 17, 18, 19, 20] --> [1, 2, 3, 4, 5, 6, 7, 8, 9, 10, 11, 15, 21, 22, 23]\n",
      "[12, 13, 14, 15, 18, 20, 21, 22] --> [1, 2, 3, 4, 5, 6, 7, 8, 9, 10, 11, 16, 17, 19, 23]\n",
      "[12, 13, 14, 15, 18, 19, 21, 22] --> [1, 2, 3, 4, 5, 6, 7, 8, 9, 10, 11, 16, 17, 20, 23]\n",
      "[12, 13, 14, 15, 18, 19, 20, 22] --> [1, 2, 3, 4, 5, 6, 7, 8, 9, 10, 11, 16, 17, 21, 23]\n",
      "[12, 13, 14, 15, 17, 20, 21, 22] --> [1, 2, 3, 4, 5, 6, 7, 8, 9, 10, 11, 16, 18, 19, 23]\n",
      "[12, 13, 14, 15, 17, 19, 21, 22] --> [1, 2, 3, 4, 5, 6, 7, 8, 9, 10, 11, 16, 18, 20, 23]\n",
      "[12, 13, 14, 15, 17, 19, 20, 22] --> [1, 2, 3, 4, 5, 6, 7, 8, 9, 10, 11, 16, 18, 21, 23]\n",
      "[12, 13, 14, 15, 17, 19, 20, 21] --> [1, 2, 3, 4, 5, 6, 7, 8, 9, 10, 11, 16, 18, 22, 23]\n",
      "[12, 13, 14, 15, 17, 18, 21, 22] --> [1, 2, 3, 4, 5, 6, 7, 8, 9, 10, 11, 16, 19, 20, 23]\n",
      "[12, 13, 14, 15, 17, 18, 20, 22] --> [1, 2, 3, 4, 5, 6, 7, 8, 9, 10, 11, 16, 19, 21, 23]\n",
      "[12, 13, 14, 15, 17, 18, 20, 21] --> [1, 2, 3, 4, 5, 6, 7, 8, 9, 10, 11, 16, 19, 22, 23]\n",
      "[12, 13, 14, 15, 17, 18, 19, 22] --> [1, 2, 3, 4, 5, 6, 7, 8, 9, 10, 11, 16, 20, 21, 23]\n",
      "[12, 13, 14, 15, 17, 18, 19, 21] --> [1, 2, 3, 4, 5, 6, 7, 8, 9, 10, 11, 16, 20, 22, 23]\n",
      "[12, 13, 14, 15, 17, 18, 19, 20] --> [1, 2, 3, 4, 5, 6, 7, 8, 9, 10, 11, 16, 21, 22, 23]\n",
      "[12, 13, 14, 15, 16, 20, 21, 22] --> [1, 2, 3, 4, 5, 6, 7, 8, 9, 10, 11, 17, 18, 19, 23]\n",
      "[12, 13, 14, 15, 16, 19, 21, 22] --> [1, 2, 3, 4, 5, 6, 7, 8, 9, 10, 11, 17, 18, 20, 23]\n",
      "[12, 13, 14, 15, 16, 19, 20, 22] --> [1, 2, 3, 4, 5, 6, 7, 8, 9, 10, 11, 17, 18, 21, 23]\n",
      "[12, 13, 14, 15, 16, 19, 20, 21] --> [1, 2, 3, 4, 5, 6, 7, 8, 9, 10, 11, 17, 18, 22, 23]\n"
     ]
    },
    {
     "name": "stdout",
     "output_type": "stream",
     "text": [
      "[12, 13, 14, 15, 16, 18, 21, 22] --> [1, 2, 3, 4, 5, 6, 7, 8, 9, 10, 11, 17, 19, 20, 23]\n",
      "[12, 13, 14, 15, 16, 18, 20, 22] --> [1, 2, 3, 4, 5, 6, 7, 8, 9, 10, 11, 17, 19, 21, 23]\n",
      "[12, 13, 14, 15, 16, 18, 20, 21] --> [1, 2, 3, 4, 5, 6, 7, 8, 9, 10, 11, 17, 19, 22, 23]\n",
      "[12, 13, 14, 15, 16, 18, 19, 22] --> [1, 2, 3, 4, 5, 6, 7, 8, 9, 10, 11, 17, 20, 21, 23]\n",
      "[12, 13, 14, 15, 16, 18, 19, 21] --> [1, 2, 3, 4, 5, 6, 7, 8, 9, 10, 11, 17, 20, 22, 23]\n",
      "[12, 13, 14, 15, 16, 18, 19, 20] --> [1, 2, 3, 4, 5, 6, 7, 8, 9, 10, 11, 17, 21, 22, 23]\n",
      "[12, 13, 14, 15, 16, 17, 21, 22] --> [1, 2, 3, 4, 5, 6, 7, 8, 9, 10, 11, 18, 19, 20, 23]\n",
      "[12, 13, 14, 15, 16, 17, 20, 22] --> [1, 2, 3, 4, 5, 6, 7, 8, 9, 10, 11, 18, 19, 21, 23]\n",
      "[12, 13, 14, 15, 16, 17, 20, 21] --> [1, 2, 3, 4, 5, 6, 7, 8, 9, 10, 11, 18, 19, 22, 23]\n",
      "[12, 13, 14, 15, 16, 17, 19, 22] --> [1, 2, 3, 4, 5, 6, 7, 8, 9, 10, 11, 18, 20, 21, 23]\n",
      "[12, 13, 14, 15, 16, 17, 19, 21] --> [1, 2, 3, 4, 5, 6, 7, 8, 9, 10, 11, 18, 20, 22, 23]\n",
      "[12, 13, 14, 15, 16, 17, 19, 20] --> [1, 2, 3, 4, 5, 6, 7, 8, 9, 10, 11, 18, 21, 22, 23]\n",
      "[12, 13, 14, 15, 16, 17, 18, 22] --> [1, 2, 3, 4, 5, 6, 7, 8, 9, 10, 11, 19, 20, 21, 23]\n",
      "[12, 13, 14, 15, 16, 17, 18, 21] --> [1, 2, 3, 4, 5, 6, 7, 8, 9, 10, 11, 19, 20, 22, 23]\n",
      "[12, 13, 14, 15, 16, 17, 18, 20] --> [1, 2, 3, 4, 5, 6, 7, 8, 9, 10, 11, 19, 21, 22, 23]\n",
      "[12, 13, 14, 15, 16, 17, 18, 19] --> [1, 2, 3, 4, 5, 6, 7, 8, 9, 10, 11, 20, 21, 22, 23]\n",
      "[11, 14, 15, 16, 17, 18, 23, 24] --> [1, 2, 3, 4, 5, 6, 7, 8, 9, 10, 12, 13, 19, 20, 21]\n",
      "[11, 13, 15, 17, 18, 19, 23, 25, 27] --> [1, 2, 3, 4, 5, 6, 7, 8, 9, 10, 12, 14, 16, 20, 21]\n",
      "[11, 13, 15, 16, 18, 19, 23, 25] --> [1, 2, 3, 4, 5, 6, 7, 8, 9, 10, 12, 14, 17, 20, 21]\n",
      "[11, 13, 15, 16, 17, 19, 23, 25] --> [1, 2, 3, 4, 5, 6, 7, 8, 9, 10, 12, 14, 18, 20, 21]\n",
      "[11, 13, 15, 16, 17, 18, 23, 25] --> [1, 2, 3, 4, 5, 6, 7, 8, 9, 10, 12, 14, 19, 20, 21]\n",
      "[11, 13, 14, 17, 18, 19, 23] --> [1, 2, 3, 4, 5, 6, 7, 8, 9, 10, 12, 15, 16, 20, 21]\n",
      "[11, 13, 14, 16, 18, 19, 23] --> [1, 2, 3, 4, 5, 6, 7, 8, 9, 10, 12, 15, 17, 20, 21]\n",
      "[11, 13, 14, 16, 17, 19, 23] --> [1, 2, 3, 4, 5, 6, 7, 8, 9, 10, 12, 15, 18, 20, 21]\n",
      "[11, 13, 14, 16, 17, 18, 23] --> [1, 2, 3, 4, 5, 6, 7, 8, 9, 10, 12, 15, 19, 20, 21]\n",
      "[11, 13, 14, 15, 18, 19, 23] --> [1, 2, 3, 4, 5, 6, 7, 8, 9, 10, 12, 16, 17, 20, 21]\n",
      "[11, 13, 14, 15, 17, 19, 23] --> [1, 2, 3, 4, 5, 6, 7, 8, 9, 10, 12, 16, 18, 20, 21]\n",
      "[11, 13, 14, 15, 17, 18, 23] --> [1, 2, 3, 4, 5, 6, 7, 8, 9, 10, 12, 16, 19, 20, 21]\n",
      "[11, 13, 14, 15, 16, 19, 23] --> [1, 2, 3, 4, 5, 6, 7, 8, 9, 10, 12, 17, 18, 20, 21]\n",
      "[11, 13, 14, 15, 16, 18, 23] --> [1, 2, 3, 4, 5, 6, 7, 8, 9, 10, 12, 17, 19, 20, 21]\n",
      "[11, 13, 14, 15, 16, 17, 23] --> [1, 2, 3, 4, 5, 6, 7, 8, 9, 10, 12, 18, 19, 20, 21]\n",
      "[11, 12, 15, 17, 18, 20, 25] --> [1, 2, 3, 4, 5, 6, 7, 8, 9, 10, 13, 14, 16, 19, 21]\n",
      "[11, 12, 15, 16, 18, 20, 25] --> [1, 2, 3, 4, 5, 6, 7, 8, 9, 10, 13, 14, 17, 19, 21]\n",
      "[11, 12, 15, 16, 17, 20, 25] --> [1, 2, 3, 4, 5, 6, 7, 8, 9, 10, 13, 14, 18, 19, 21]\n",
      "[11, 12, 15, 16, 17, 19, 25] --> [1, 2, 3, 4, 5, 6, 7, 8, 9, 10, 13, 14, 18, 20, 21]\n",
      "[11, 12, 15, 16, 17, 18, 25] --> [1, 2, 3, 4, 5, 6, 7, 8, 9, 10, 13, 14, 19, 20, 21]\n",
      "[11, 12, 14, 17, 18, 19, 27] --> [1, 2, 3, 4, 5, 6, 7, 8, 9, 10, 13, 15, 16, 20, 21]\n",
      "[11, 12, 14, 16, 18, 20] --> [1, 2, 3, 4, 5, 6, 7, 8, 9, 10, 13, 15, 17, 19, 21]\n",
      "[11, 12, 14, 16, 18, 19] --> [1, 2, 3, 4, 5, 6, 7, 8, 9, 10, 13, 15, 17, 20, 21]\n",
      "[11, 12, 14, 16, 17, 20] --> [1, 2, 3, 4, 5, 6, 7, 8, 9, 10, 13, 15, 18, 19, 21]\n",
      "[11, 12, 14, 16, 17, 19] --> [1, 2, 3, 4, 5, 6, 7, 8, 9, 10, 13, 15, 18, 20, 21]\n",
      "[11, 12, 14, 16, 17, 18] --> [1, 2, 3, 4, 5, 6, 7, 8, 9, 10, 13, 15, 19, 20, 21]\n",
      "[11, 12, 14, 15, 18, 20] --> [1, 2, 3, 4, 5, 6, 7, 8, 9, 10, 13, 16, 17, 19, 21]\n",
      "[11, 12, 14, 15, 18, 19] --> [1, 2, 3, 4, 5, 6, 7, 8, 9, 10, 13, 16, 17, 20, 21]\n",
      "[11, 12, 14, 15, 17, 20] --> [1, 2, 3, 4, 5, 6, 7, 8, 9, 10, 13, 16, 18, 19, 21]\n",
      "[11, 12, 14, 15, 17, 19] --> [1, 2, 3, 4, 5, 6, 7, 8, 9, 10, 13, 16, 18, 20, 21]\n",
      "[11, 12, 14, 15, 17, 18] --> [1, 2, 3, 4, 5, 6, 7, 8, 9, 10, 13, 16, 19, 20, 21]\n",
      "[11, 12, 14, 15, 16, 20] --> [1, 2, 3, 4, 5, 6, 7, 8, 9, 10, 13, 17, 18, 19, 21]\n",
      "[11, 12, 14, 15, 16, 19] --> [1, 2, 3, 4, 5, 6, 7, 8, 9, 10, 13, 17, 18, 20, 21]\n",
      "[11, 12, 14, 15, 16, 18] --> [1, 2, 3, 4, 5, 6, 7, 8, 9, 10, 13, 17, 19, 20, 21]\n",
      "[11, 12, 14, 15, 16, 17] --> [1, 2, 3, 4, 5, 6, 7, 8, 9, 10, 13, 18, 19, 20, 21]\n",
      "[11, 12, 13, 17, 19, 20, 27] --> [1, 2, 3, 4, 5, 6, 7, 8, 9, 10, 14, 15, 16, 18, 21]\n",
      "[11, 12, 13, 17, 18, 20, 27] --> [1, 2, 3, 4, 5, 6, 7, 8, 9, 10, 14, 15, 16, 19, 21]\n",
      "[11, 12, 13, 16, 19, 20] --> [1, 2, 3, 4, 5, 6, 7, 8, 9, 10, 14, 15, 17, 18, 21]\n",
      "[11, 12, 13, 16, 18, 20] --> [1, 2, 3, 4, 5, 6, 7, 8, 9, 10, 14, 15, 17, 19, 21]\n",
      "[11, 12, 13, 16, 18, 19] --> [1, 2, 3, 4, 5, 6, 7, 8, 9, 10, 14, 15, 17, 20, 21]\n",
      "[11, 12, 13, 16, 17, 20] --> [1, 2, 3, 4, 5, 6, 7, 8, 9, 10, 14, 15, 18, 19, 21]\n",
      "[11, 12, 13, 16, 17, 19] --> [1, 2, 3, 4, 5, 6, 7, 8, 9, 10, 14, 15, 18, 20, 21]\n",
      "[11, 12, 13, 16, 17, 18] --> [1, 2, 3, 4, 5, 6, 7, 8, 9, 10, 14, 15, 19, 20, 21]\n",
      "[11, 12, 13, 15, 19, 20, 29] --> [1, 2, 3, 4, 5, 6, 7, 8, 9, 10, 14, 16, 17, 18, 21]\n",
      "[11, 12, 13, 15, 18, 20] --> [1, 2, 3, 4, 5, 6, 7, 8, 9, 10, 14, 16, 17, 19, 21]\n",
      "[11, 12, 13, 15, 18, 19] --> [1, 2, 3, 4, 5, 6, 7, 8, 9, 10, 14, 16, 17, 20, 21]\n",
      "[11, 12, 13, 15, 17, 20] --> [1, 2, 3, 4, 5, 6, 7, 8, 9, 10, 14, 16, 18, 19, 21]\n",
      "[11, 12, 13, 15, 17, 19] --> [1, 2, 3, 4, 5, 6, 7, 8, 9, 10, 14, 16, 18, 20, 21]\n",
      "[11, 12, 13, 15, 17, 18] --> [1, 2, 3, 4, 5, 6, 7, 8, 9, 10, 14, 16, 19, 20, 21]\n",
      "[11, 12, 13, 15, 16, 20] --> [1, 2, 3, 4, 5, 6, 7, 8, 9, 10, 14, 17, 18, 19, 21]\n",
      "[11, 12, 13, 15, 16, 19] --> [1, 2, 3, 4, 5, 6, 7, 8, 9, 10, 14, 17, 18, 20, 21]\n",
      "[11, 12, 13, 15, 16, 18] --> [1, 2, 3, 4, 5, 6, 7, 8, 9, 10, 14, 17, 19, 20, 21]\n",
      "[11, 12, 13, 15, 16, 17] --> [1, 2, 3, 4, 5, 6, 7, 8, 9, 10, 14, 18, 19, 20, 21]\n",
      "[11, 12, 13, 14, 19, 20, 29] --> [1, 2, 3, 4, 5, 6, 7, 8, 9, 10, 15, 16, 17, 18, 21]\n",
      "[11, 12, 13, 14, 18, 20] --> [1, 2, 3, 4, 5, 6, 7, 8, 9, 10, 15, 16, 17, 19, 21]\n",
      "[11, 12, 13, 14, 18, 19] --> [1, 2, 3, 4, 5, 6, 7, 8, 9, 10, 15, 16, 17, 20, 21]\n",
      "[11, 12, 13, 14, 17, 20] --> [1, 2, 3, 4, 5, 6, 7, 8, 9, 10, 15, 16, 18, 19, 21]\n",
      "[11, 12, 13, 14, 17, 19] --> [1, 2, 3, 4, 5, 6, 7, 8, 9, 10, 15, 16, 18, 20, 21]\n",
      "[11, 12, 13, 14, 17, 18] --> [1, 2, 3, 4, 5, 6, 7, 8, 9, 10, 15, 16, 19, 20, 21]\n",
      "[11, 12, 13, 14, 16, 20] --> [1, 2, 3, 4, 5, 6, 7, 8, 9, 10, 15, 17, 18, 19, 21]\n",
      "[11, 12, 13, 14, 16, 19] --> [1, 2, 3, 4, 5, 6, 7, 8, 9, 10, 15, 17, 18, 20, 21]\n",
      "[11, 12, 13, 14, 16, 18] --> [1, 2, 3, 4, 5, 6, 7, 8, 9, 10, 15, 17, 19, 20, 21]\n",
      "[11, 12, 13, 14, 16, 17] --> [1, 2, 3, 4, 5, 6, 7, 8, 9, 10, 15, 18, 19, 20, 21]\n",
      "[11, 12, 13, 14, 15, 20] --> [1, 2, 3, 4, 5, 6, 7, 8, 9, 10, 16, 17, 18, 19, 21]\n",
      "[11, 12, 13, 14, 15, 19] --> [1, 2, 3, 4, 5, 6, 7, 8, 9, 10, 16, 17, 18, 20, 21]\n",
      "[11, 12, 13, 14, 15, 18] --> [1, 2, 3, 4, 5, 6, 7, 8, 9, 10, 16, 17, 19, 20, 21]\n",
      "[11, 12, 13, 14, 15, 17] --> [1, 2, 3, 4, 5, 6, 7, 8, 9, 10, 16, 18, 19, 20, 21]\n",
      "[11, 12, 13, 14, 15, 16] --> [1, 2, 3, 4, 5, 6, 7, 8, 9, 10, 17, 18, 19, 20, 21]\n",
      "[10, 13, 15, 16, 21, 22, 24, 27] --> [1, 2, 3, 4, 5, 6, 7, 8, 9, 11, 12, 14, 17, 18, 19]\n",
      "[10, 13, 14, 16, 21, 22, 25] --> [1, 2, 3, 4, 5, 6, 7, 8, 9, 11, 12, 15, 17, 18, 19]\n",
      "[10, 13, 14, 15, 21, 22] --> [1, 2, 3, 4, 5, 6, 7, 8, 9, 11, 12, 16, 17, 18, 19]\n",
      "[10, 12, 16, 17, 21, 23, 25] --> [1, 2, 3, 4, 5, 6, 7, 8, 9, 11, 13, 14, 15, 18, 19]\n",
      "[10, 12, 15, 16, 21, 23, 29] --> [1, 2, 3, 4, 5, 6, 7, 8, 9, 11, 13, 14, 17, 18, 19]\n",
      "[10, 12, 14, 17, 21, 23, 25] --> [1, 2, 3, 4, 5, 6, 7, 8, 9, 11, 13, 15, 16, 18, 19]\n",
      "[10, 12, 14, 16, 21, 23, 25, 27, 29] --> [1, 2, 3, 4, 5, 6, 7, 8, 9, 11, 13, 15, 17, 18, 19]\n",
      "[10, 12, 14, 15, 21, 23] --> [1, 2, 3, 4, 5, 6, 7, 8, 9, 11, 13, 16, 17, 18, 19]\n",
      "[10, 12, 13, 17, 21, 28] --> [1, 2, 3, 4, 5, 6, 7, 8, 9, 11, 14, 15, 16, 18, 19]\n",
      "[10, 12, 13, 16, 21, 27] --> [1, 2, 3, 4, 5, 6, 7, 8, 9, 11, 14, 15, 17, 18, 19]\n",
      "[10, 12, 13, 15, 21, 29] --> [1, 2, 3, 4, 5, 6, 7, 8, 9, 11, 14, 16, 17, 18, 19]\n",
      "[10, 12, 13, 14, 21, 29] --> [1, 2, 3, 4, 5, 6, 7, 8, 9, 11, 15, 16, 17, 18, 19]\n",
      "[10, 11, 16, 18, 23, 24, 25] --> [1, 2, 3, 4, 5, 6, 7, 8, 9, 12, 13, 14, 15, 17, 19]\n",
      "[10, 11, 15, 18, 23, 24, 27] --> [1, 2, 3, 4, 5, 6, 7, 8, 9, 12, 13, 14, 16, 17, 19]\n",
      "[10, 11, 15, 17, 23, 24, 29] --> [1, 2, 3, 4, 5, 6, 7, 8, 9, 12, 13, 14, 16, 18, 19]\n"
     ]
    },
    {
     "name": "stdout",
     "output_type": "stream",
     "text": [
      "[10, 11, 14, 18, 23, 26, 27] --> [1, 2, 3, 4, 5, 6, 7, 8, 9, 12, 13, 15, 16, 17, 19]\n",
      "[10, 11, 14, 17, 23, 26, 29] --> [1, 2, 3, 4, 5, 6, 7, 8, 9, 12, 13, 15, 16, 18, 19]\n",
      "[10, 11, 14, 16, 23, 29] --> [1, 2, 3, 4, 5, 6, 7, 8, 9, 12, 13, 15, 17, 18, 19]\n",
      "[10, 11, 14, 15, 23, 27] --> [1, 2, 3, 4, 5, 6, 7, 8, 9, 12, 13, 16, 17, 18, 19]\n",
      "[10, 11, 13, 18, 25, 27] --> [1, 2, 3, 4, 5, 6, 7, 8, 9, 12, 14, 15, 16, 17, 19]\n",
      "[10, 11, 13, 17, 25, 29] --> [1, 2, 3, 4, 5, 6, 7, 8, 9, 12, 14, 15, 16, 18, 19]\n",
      "[10, 11, 13, 16, 25, 28] --> [1, 2, 3, 4, 5, 6, 7, 8, 9, 12, 14, 15, 17, 18, 19]\n",
      "[10, 11, 13, 15, 27, 29] --> [1, 2, 3, 4, 5, 6, 7, 8, 9, 12, 14, 16, 17, 18, 19]\n",
      "[10, 11, 13, 14, 29] --> [1, 2, 3, 4, 5, 6, 7, 8, 9, 12, 15, 16, 17, 18, 19]\n",
      "[10, 11, 12, 18, 25, 26, 27] --> [1, 2, 3, 4, 5, 6, 7, 8, 9, 13, 14, 15, 16, 17, 19]\n",
      "[10, 11, 12, 17, 25, 26] --> [1, 2, 3, 4, 5, 6, 7, 8, 9, 13, 14, 15, 16, 18, 19]\n",
      "[10, 11, 12, 16, 25, 29] --> [1, 2, 3, 4, 5, 6, 7, 8, 9, 13, 14, 15, 17, 18, 19]\n",
      "[10, 11, 12, 15, 28, 29] --> [1, 2, 3, 4, 5, 6, 7, 8, 9, 13, 14, 16, 17, 18, 19]\n",
      "[10, 11, 12, 14, 27, 29] --> [1, 2, 3, 4, 5, 6, 7, 8, 9, 13, 15, 16, 17, 18, 19]\n",
      "[10, 11, 12, 13, 27, 28, 29] --> [1, 2, 3, 4, 5, 6, 7, 8, 9, 14, 15, 16, 17, 18, 19]\n",
      "[9, 13, 19, 20, 21, 23, 24, 25] --> [1, 2, 3, 4, 5, 6, 7, 8, 10, 11, 12, 14, 15, 16, 17]\n",
      "[9, 12, 19, 20, 22, 23, 25, 26] --> [1, 2, 3, 4, 5, 6, 7, 8, 10, 11, 13, 14, 15, 16, 17]\n",
      "[9, 11, 19, 21, 23, 24, 25, 26] --> [1, 2, 3, 4, 5, 6, 7, 8, 10, 12, 13, 14, 15, 16, 17]\n",
      "[9, 10, 21, 22, 23, 24, 25, 26] --> [1, 2, 3, 4, 5, 6, 7, 8, 11, 12, 13, 14, 15, 16, 17]\n",
      "GÉNERO  16\n",
      "[16, 17, 18, 19, 20, 21, 22, 23, 24, 25, 26, 27, 28, 29, 30] --> [1, 2, 3, 4, 5, 6, 7, 8, 9, 10, 11, 12, 13, 14, 15, 31]\n",
      "[15, 16, 17, 18, 19, 20, 21, 23, 24, 25, 26, 27, 28] --> [1, 2, 3, 4, 5, 6, 7, 8, 9, 10, 11, 12, 13, 14, 22, 29]\n",
      "[15, 16, 17, 18, 19, 20, 21, 22, 24, 25, 26, 27, 28] --> [1, 2, 3, 4, 5, 6, 7, 8, 9, 10, 11, 12, 13, 14, 23, 29]\n",
      "[15, 16, 17, 18, 19, 20, 21, 22, 23, 25, 26, 27, 28] --> [1, 2, 3, 4, 5, 6, 7, 8, 9, 10, 11, 12, 13, 14, 24, 29]\n",
      "[15, 16, 17, 18, 19, 20, 21, 22, 23, 24, 26, 27, 28] --> [1, 2, 3, 4, 5, 6, 7, 8, 9, 10, 11, 12, 13, 14, 25, 29]\n",
      "[15, 16, 17, 18, 19, 20, 21, 22, 23, 24, 25, 27, 28] --> [1, 2, 3, 4, 5, 6, 7, 8, 9, 10, 11, 12, 13, 14, 26, 29]\n",
      "[15, 16, 17, 18, 19, 20, 21, 22, 23, 24, 25, 26, 28] --> [1, 2, 3, 4, 5, 6, 7, 8, 9, 10, 11, 12, 13, 14, 27, 29]\n",
      "[15, 16, 17, 18, 19, 20, 21, 22, 23, 24, 25, 26, 27] --> [1, 2, 3, 4, 5, 6, 7, 8, 9, 10, 11, 12, 13, 14, 28, 29]\n",
      "[14, 16, 17, 18, 19, 20, 21, 22, 23, 24, 25, 29] --> [1, 2, 3, 4, 5, 6, 7, 8, 9, 10, 11, 12, 13, 15, 26, 27]\n",
      "[14, 15, 17, 18, 19, 20, 21, 22, 23, 24, 26] --> [1, 2, 3, 4, 5, 6, 7, 8, 9, 10, 11, 12, 13, 16, 25, 27]\n",
      "[14, 15, 17, 18, 19, 20, 21, 22, 23, 24, 25] --> [1, 2, 3, 4, 5, 6, 7, 8, 9, 10, 11, 12, 13, 16, 26, 27]\n",
      "[14, 15, 16, 18, 19, 20, 21, 22, 23, 25, 26] --> [1, 2, 3, 4, 5, 6, 7, 8, 9, 10, 11, 12, 13, 17, 24, 27]\n",
      "[14, 15, 16, 18, 19, 20, 21, 22, 23, 24, 26] --> [1, 2, 3, 4, 5, 6, 7, 8, 9, 10, 11, 12, 13, 17, 25, 27]\n",
      "[14, 15, 16, 18, 19, 20, 21, 22, 23, 24, 25] --> [1, 2, 3, 4, 5, 6, 7, 8, 9, 10, 11, 12, 13, 17, 26, 27]\n",
      "[14, 15, 16, 17, 19, 20, 21, 22, 24, 25, 26] --> [1, 2, 3, 4, 5, 6, 7, 8, 9, 10, 11, 12, 13, 18, 23, 27]\n",
      "[14, 15, 16, 17, 19, 20, 21, 22, 23, 25, 26] --> [1, 2, 3, 4, 5, 6, 7, 8, 9, 10, 11, 12, 13, 18, 24, 27]\n",
      "[14, 15, 16, 17, 19, 20, 21, 22, 23, 24, 26] --> [1, 2, 3, 4, 5, 6, 7, 8, 9, 10, 11, 12, 13, 18, 25, 27]\n",
      "[14, 15, 16, 17, 19, 20, 21, 22, 23, 24, 25] --> [1, 2, 3, 4, 5, 6, 7, 8, 9, 10, 11, 12, 13, 18, 26, 27]\n",
      "[14, 15, 16, 17, 18, 20, 21, 23, 24, 25, 26] --> [1, 2, 3, 4, 5, 6, 7, 8, 9, 10, 11, 12, 13, 19, 22, 27]\n",
      "[14, 15, 16, 17, 18, 20, 21, 22, 24, 25, 26] --> [1, 2, 3, 4, 5, 6, 7, 8, 9, 10, 11, 12, 13, 19, 23, 27]\n",
      "[14, 15, 16, 17, 18, 20, 21, 22, 23, 25, 26] --> [1, 2, 3, 4, 5, 6, 7, 8, 9, 10, 11, 12, 13, 19, 24, 27]\n",
      "[14, 15, 16, 17, 18, 20, 21, 22, 23, 24, 26] --> [1, 2, 3, 4, 5, 6, 7, 8, 9, 10, 11, 12, 13, 19, 25, 27]\n",
      "[14, 15, 16, 17, 18, 20, 21, 22, 23, 24, 25] --> [1, 2, 3, 4, 5, 6, 7, 8, 9, 10, 11, 12, 13, 19, 26, 27]\n",
      "[14, 15, 16, 17, 18, 19, 22, 23, 24, 25, 26] --> [1, 2, 3, 4, 5, 6, 7, 8, 9, 10, 11, 12, 13, 20, 21, 27]\n",
      "[14, 15, 16, 17, 18, 19, 21, 23, 24, 25, 26] --> [1, 2, 3, 4, 5, 6, 7, 8, 9, 10, 11, 12, 13, 20, 22, 27]\n",
      "[14, 15, 16, 17, 18, 19, 21, 22, 24, 25, 26] --> [1, 2, 3, 4, 5, 6, 7, 8, 9, 10, 11, 12, 13, 20, 23, 27]\n",
      "[14, 15, 16, 17, 18, 19, 21, 22, 23, 25, 26] --> [1, 2, 3, 4, 5, 6, 7, 8, 9, 10, 11, 12, 13, 20, 24, 27]\n",
      "[14, 15, 16, 17, 18, 19, 21, 22, 23, 24, 26] --> [1, 2, 3, 4, 5, 6, 7, 8, 9, 10, 11, 12, 13, 20, 25, 27]\n",
      "[14, 15, 16, 17, 18, 19, 21, 22, 23, 24, 25] --> [1, 2, 3, 4, 5, 6, 7, 8, 9, 10, 11, 12, 13, 20, 26, 27]\n",
      "[14, 15, 16, 17, 18, 19, 20, 23, 24, 25, 26] --> [1, 2, 3, 4, 5, 6, 7, 8, 9, 10, 11, 12, 13, 21, 22, 27]\n",
      "[14, 15, 16, 17, 18, 19, 20, 22, 24, 25, 26] --> [1, 2, 3, 4, 5, 6, 7, 8, 9, 10, 11, 12, 13, 21, 23, 27]\n",
      "[14, 15, 16, 17, 18, 19, 20, 22, 23, 25, 26] --> [1, 2, 3, 4, 5, 6, 7, 8, 9, 10, 11, 12, 13, 21, 24, 27]\n",
      "[14, 15, 16, 17, 18, 19, 20, 22, 23, 24, 26] --> [1, 2, 3, 4, 5, 6, 7, 8, 9, 10, 11, 12, 13, 21, 25, 27]\n",
      "[14, 15, 16, 17, 18, 19, 20, 22, 23, 24, 25] --> [1, 2, 3, 4, 5, 6, 7, 8, 9, 10, 11, 12, 13, 21, 26, 27]\n",
      "[14, 15, 16, 17, 18, 19, 20, 21, 24, 25, 26] --> [1, 2, 3, 4, 5, 6, 7, 8, 9, 10, 11, 12, 13, 22, 23, 27]\n",
      "[14, 15, 16, 17, 18, 19, 20, 21, 23, 25, 26] --> [1, 2, 3, 4, 5, 6, 7, 8, 9, 10, 11, 12, 13, 22, 24, 27]\n",
      "[14, 15, 16, 17, 18, 19, 20, 21, 23, 24, 26] --> [1, 2, 3, 4, 5, 6, 7, 8, 9, 10, 11, 12, 13, 22, 25, 27]\n",
      "[14, 15, 16, 17, 18, 19, 20, 21, 23, 24, 25] --> [1, 2, 3, 4, 5, 6, 7, 8, 9, 10, 11, 12, 13, 22, 26, 27]\n",
      "[14, 15, 16, 17, 18, 19, 20, 21, 22, 25, 26] --> [1, 2, 3, 4, 5, 6, 7, 8, 9, 10, 11, 12, 13, 23, 24, 27]\n",
      "[14, 15, 16, 17, 18, 19, 20, 21, 22, 24, 26] --> [1, 2, 3, 4, 5, 6, 7, 8, 9, 10, 11, 12, 13, 23, 25, 27]\n",
      "[14, 15, 16, 17, 18, 19, 20, 21, 22, 24, 25] --> [1, 2, 3, 4, 5, 6, 7, 8, 9, 10, 11, 12, 13, 23, 26, 27]\n",
      "[14, 15, 16, 17, 18, 19, 20, 21, 22, 23, 26] --> [1, 2, 3, 4, 5, 6, 7, 8, 9, 10, 11, 12, 13, 24, 25, 27]\n",
      "[14, 15, 16, 17, 18, 19, 20, 21, 22, 23, 25] --> [1, 2, 3, 4, 5, 6, 7, 8, 9, 10, 11, 12, 13, 24, 26, 27]\n",
      "[14, 15, 16, 17, 18, 19, 20, 21, 22, 23, 24] --> [1, 2, 3, 4, 5, 6, 7, 8, 9, 10, 11, 12, 13, 25, 26, 27]\n",
      "[13, 15, 17, 18, 19, 20, 21, 22, 23, 27, 29] --> [1, 2, 3, 4, 5, 6, 7, 8, 9, 10, 11, 12, 14, 16, 24, 25]\n",
      "[13, 15, 16, 18, 19, 20, 21, 22, 23, 27] --> [1, 2, 3, 4, 5, 6, 7, 8, 9, 10, 11, 12, 14, 17, 24, 25]\n",
      "[13, 15, 16, 17, 19, 20, 21, 22, 23, 27] --> [1, 2, 3, 4, 5, 6, 7, 8, 9, 10, 11, 12, 14, 18, 24, 25]\n",
      "[13, 15, 16, 17, 18, 20, 21, 22, 23, 27] --> [1, 2, 3, 4, 5, 6, 7, 8, 9, 10, 11, 12, 14, 19, 24, 25]\n",
      "[13, 15, 16, 17, 18, 19, 21, 22, 23, 27] --> [1, 2, 3, 4, 5, 6, 7, 8, 9, 10, 11, 12, 14, 20, 24, 25]\n",
      "[13, 15, 16, 17, 18, 19, 20, 22, 23, 27] --> [1, 2, 3, 4, 5, 6, 7, 8, 9, 10, 11, 12, 14, 21, 24, 25]\n",
      "[13, 15, 16, 17, 18, 19, 20, 21, 23, 27] --> [1, 2, 3, 4, 5, 6, 7, 8, 9, 10, 11, 12, 14, 22, 24, 25]\n",
      "[13, 15, 16, 17, 18, 19, 20, 21, 22, 27] --> [1, 2, 3, 4, 5, 6, 7, 8, 9, 10, 11, 12, 14, 23, 24, 25]\n",
      "[13, 14, 17, 18, 19, 20, 21, 22, 24, 29] --> [1, 2, 3, 4, 5, 6, 7, 8, 9, 10, 11, 12, 15, 16, 23, 25]\n",
      "[13, 14, 16, 18, 19, 20, 21, 22, 23] --> [1, 2, 3, 4, 5, 6, 7, 8, 9, 10, 11, 12, 15, 17, 24, 25]\n",
      "[13, 14, 16, 17, 19, 20, 21, 22, 24] --> [1, 2, 3, 4, 5, 6, 7, 8, 9, 10, 11, 12, 15, 18, 23, 25]\n",
      "[13, 14, 16, 17, 19, 20, 21, 22, 23] --> [1, 2, 3, 4, 5, 6, 7, 8, 9, 10, 11, 12, 15, 18, 24, 25]\n",
      "[13, 14, 16, 17, 18, 20, 21, 22, 24] --> [1, 2, 3, 4, 5, 6, 7, 8, 9, 10, 11, 12, 15, 19, 23, 25]\n",
      "[13, 14, 16, 17, 18, 20, 21, 22, 23] --> [1, 2, 3, 4, 5, 6, 7, 8, 9, 10, 11, 12, 15, 19, 24, 25]\n",
      "[13, 14, 16, 17, 18, 19, 21, 22, 24] --> [1, 2, 3, 4, 5, 6, 7, 8, 9, 10, 11, 12, 15, 20, 23, 25]\n",
      "[13, 14, 16, 17, 18, 19, 21, 22, 23] --> [1, 2, 3, 4, 5, 6, 7, 8, 9, 10, 11, 12, 15, 20, 24, 25]\n",
      "[13, 14, 16, 17, 18, 19, 20, 22, 24] --> [1, 2, 3, 4, 5, 6, 7, 8, 9, 10, 11, 12, 15, 21, 23, 25]\n",
      "[13, 14, 16, 17, 18, 19, 20, 22, 23] --> [1, 2, 3, 4, 5, 6, 7, 8, 9, 10, 11, 12, 15, 21, 24, 25]\n",
      "[13, 14, 16, 17, 18, 19, 20, 21, 24] --> [1, 2, 3, 4, 5, 6, 7, 8, 9, 10, 11, 12, 15, 22, 23, 25]\n",
      "[13, 14, 16, 17, 18, 19, 20, 21, 23] --> [1, 2, 3, 4, 5, 6, 7, 8, 9, 10, 11, 12, 15, 22, 24, 25]\n"
     ]
    },
    {
     "name": "stdout",
     "output_type": "stream",
     "text": [
      "[13, 14, 16, 17, 18, 19, 20, 21, 22] --> [1, 2, 3, 4, 5, 6, 7, 8, 9, 10, 11, 12, 15, 23, 24, 25]\n",
      "[13, 14, 15, 18, 19, 20, 21, 23, 24] --> [1, 2, 3, 4, 5, 6, 7, 8, 9, 10, 11, 12, 16, 17, 22, 25]\n",
      "[13, 14, 15, 18, 19, 20, 21, 22, 24] --> [1, 2, 3, 4, 5, 6, 7, 8, 9, 10, 11, 12, 16, 17, 23, 25]\n",
      "[13, 14, 15, 17, 19, 20, 21, 23, 24] --> [1, 2, 3, 4, 5, 6, 7, 8, 9, 10, 11, 12, 16, 18, 22, 25]\n",
      "[13, 14, 15, 17, 19, 20, 21, 22, 23] --> [1, 2, 3, 4, 5, 6, 7, 8, 9, 10, 11, 12, 16, 18, 24, 25]\n",
      "[13, 14, 15, 17, 18, 20, 21, 23, 24] --> [1, 2, 3, 4, 5, 6, 7, 8, 9, 10, 11, 12, 16, 19, 22, 25]\n",
      "[13, 14, 15, 17, 18, 20, 21, 22, 24] --> [1, 2, 3, 4, 5, 6, 7, 8, 9, 10, 11, 12, 16, 19, 23, 25]\n",
      "[13, 14, 15, 17, 18, 20, 21, 22, 23] --> [1, 2, 3, 4, 5, 6, 7, 8, 9, 10, 11, 12, 16, 19, 24, 25]\n",
      "[13, 14, 15, 17, 18, 19, 21, 23, 24] --> [1, 2, 3, 4, 5, 6, 7, 8, 9, 10, 11, 12, 16, 20, 22, 25]\n",
      "[13, 14, 15, 17, 18, 19, 21, 22, 24] --> [1, 2, 3, 4, 5, 6, 7, 8, 9, 10, 11, 12, 16, 20, 23, 25]\n",
      "[13, 14, 15, 17, 18, 19, 21, 22, 23] --> [1, 2, 3, 4, 5, 6, 7, 8, 9, 10, 11, 12, 16, 20, 24, 25]\n",
      "[13, 14, 15, 17, 18, 19, 20, 23, 24] --> [1, 2, 3, 4, 5, 6, 7, 8, 9, 10, 11, 12, 16, 21, 22, 25]\n",
      "[13, 14, 15, 17, 18, 19, 20, 22, 24] --> [1, 2, 3, 4, 5, 6, 7, 8, 9, 10, 11, 12, 16, 21, 23, 25]\n",
      "[13, 14, 15, 17, 18, 19, 20, 22, 23] --> [1, 2, 3, 4, 5, 6, 7, 8, 9, 10, 11, 12, 16, 21, 24, 25]\n",
      "[13, 14, 15, 17, 18, 19, 20, 21, 24] --> [1, 2, 3, 4, 5, 6, 7, 8, 9, 10, 11, 12, 16, 22, 23, 25]\n",
      "[13, 14, 15, 17, 18, 19, 20, 21, 23] --> [1, 2, 3, 4, 5, 6, 7, 8, 9, 10, 11, 12, 16, 22, 24, 25]\n",
      "[13, 14, 15, 17, 18, 19, 20, 21, 22] --> [1, 2, 3, 4, 5, 6, 7, 8, 9, 10, 11, 12, 16, 23, 24, 25]\n",
      "[13, 14, 15, 16, 19, 20, 22, 23, 24] --> [1, 2, 3, 4, 5, 6, 7, 8, 9, 10, 11, 12, 17, 18, 21, 25]\n",
      "[13, 14, 15, 16, 19, 20, 21, 23, 24] --> [1, 2, 3, 4, 5, 6, 7, 8, 9, 10, 11, 12, 17, 18, 22, 25]\n",
      "[13, 14, 15, 16, 19, 20, 21, 22, 24] --> [1, 2, 3, 4, 5, 6, 7, 8, 9, 10, 11, 12, 17, 18, 23, 25]\n",
      "[13, 14, 15, 16, 18, 20, 22, 23, 24] --> [1, 2, 3, 4, 5, 6, 7, 8, 9, 10, 11, 12, 17, 19, 21, 25]\n",
      "[13, 14, 15, 16, 18, 20, 21, 23, 24] --> [1, 2, 3, 4, 5, 6, 7, 8, 9, 10, 11, 12, 17, 19, 22, 25]\n",
      "[13, 14, 15, 16, 18, 20, 21, 22, 24] --> [1, 2, 3, 4, 5, 6, 7, 8, 9, 10, 11, 12, 17, 19, 23, 25]\n",
      "[13, 14, 15, 16, 18, 20, 21, 22, 23] --> [1, 2, 3, 4, 5, 6, 7, 8, 9, 10, 11, 12, 17, 19, 24, 25]\n",
      "[13, 14, 15, 16, 18, 19, 22, 23, 24] --> [1, 2, 3, 4, 5, 6, 7, 8, 9, 10, 11, 12, 17, 20, 21, 25]\n",
      "[13, 14, 15, 16, 18, 19, 21, 23, 24] --> [1, 2, 3, 4, 5, 6, 7, 8, 9, 10, 11, 12, 17, 20, 22, 25]\n",
      "[13, 14, 15, 16, 18, 19, 21, 22, 24] --> [1, 2, 3, 4, 5, 6, 7, 8, 9, 10, 11, 12, 17, 20, 23, 25]\n",
      "[13, 14, 15, 16, 18, 19, 21, 22, 23] --> [1, 2, 3, 4, 5, 6, 7, 8, 9, 10, 11, 12, 17, 20, 24, 25]\n",
      "[13, 14, 15, 16, 18, 19, 20, 23, 24] --> [1, 2, 3, 4, 5, 6, 7, 8, 9, 10, 11, 12, 17, 21, 22, 25]\n",
      "[13, 14, 15, 16, 18, 19, 20, 22, 24] --> [1, 2, 3, 4, 5, 6, 7, 8, 9, 10, 11, 12, 17, 21, 23, 25]\n",
      "[13, 14, 15, 16, 18, 19, 20, 22, 23] --> [1, 2, 3, 4, 5, 6, 7, 8, 9, 10, 11, 12, 17, 21, 24, 25]\n",
      "[13, 14, 15, 16, 18, 19, 20, 21, 24] --> [1, 2, 3, 4, 5, 6, 7, 8, 9, 10, 11, 12, 17, 22, 23, 25]\n",
      "[13, 14, 15, 16, 18, 19, 20, 21, 23] --> [1, 2, 3, 4, 5, 6, 7, 8, 9, 10, 11, 12, 17, 22, 24, 25]\n",
      "[13, 14, 15, 16, 18, 19, 20, 21, 22] --> [1, 2, 3, 4, 5, 6, 7, 8, 9, 10, 11, 12, 17, 23, 24, 25]\n",
      "[13, 14, 15, 16, 17, 21, 22, 23, 24] --> [1, 2, 3, 4, 5, 6, 7, 8, 9, 10, 11, 12, 18, 19, 20, 25]\n",
      "[13, 14, 15, 16, 17, 20, 22, 23, 24] --> [1, 2, 3, 4, 5, 6, 7, 8, 9, 10, 11, 12, 18, 19, 21, 25]\n",
      "[13, 14, 15, 16, 17, 20, 21, 23, 24] --> [1, 2, 3, 4, 5, 6, 7, 8, 9, 10, 11, 12, 18, 19, 22, 25]\n",
      "[13, 14, 15, 16, 17, 20, 21, 22, 24] --> [1, 2, 3, 4, 5, 6, 7, 8, 9, 10, 11, 12, 18, 19, 23, 25]\n",
      "[13, 14, 15, 16, 17, 20, 21, 22, 23] --> [1, 2, 3, 4, 5, 6, 7, 8, 9, 10, 11, 12, 18, 19, 24, 25]\n",
      "[13, 14, 15, 16, 17, 19, 22, 23, 24] --> [1, 2, 3, 4, 5, 6, 7, 8, 9, 10, 11, 12, 18, 20, 21, 25]\n",
      "[13, 14, 15, 16, 17, 19, 21, 23, 24] --> [1, 2, 3, 4, 5, 6, 7, 8, 9, 10, 11, 12, 18, 20, 22, 25]\n",
      "[13, 14, 15, 16, 17, 19, 21, 22, 24] --> [1, 2, 3, 4, 5, 6, 7, 8, 9, 10, 11, 12, 18, 20, 23, 25]\n",
      "[13, 14, 15, 16, 17, 19, 21, 22, 23] --> [1, 2, 3, 4, 5, 6, 7, 8, 9, 10, 11, 12, 18, 20, 24, 25]\n",
      "[13, 14, 15, 16, 17, 19, 20, 23, 24] --> [1, 2, 3, 4, 5, 6, 7, 8, 9, 10, 11, 12, 18, 21, 22, 25]\n",
      "[13, 14, 15, 16, 17, 19, 20, 22, 24] --> [1, 2, 3, 4, 5, 6, 7, 8, 9, 10, 11, 12, 18, 21, 23, 25]\n",
      "[13, 14, 15, 16, 17, 19, 20, 22, 23] --> [1, 2, 3, 4, 5, 6, 7, 8, 9, 10, 11, 12, 18, 21, 24, 25]\n",
      "[13, 14, 15, 16, 17, 19, 20, 21, 24] --> [1, 2, 3, 4, 5, 6, 7, 8, 9, 10, 11, 12, 18, 22, 23, 25]\n",
      "[13, 14, 15, 16, 17, 19, 20, 21, 23] --> [1, 2, 3, 4, 5, 6, 7, 8, 9, 10, 11, 12, 18, 22, 24, 25]\n",
      "[13, 14, 15, 16, 17, 19, 20, 21, 22] --> [1, 2, 3, 4, 5, 6, 7, 8, 9, 10, 11, 12, 18, 23, 24, 25]\n",
      "[13, 14, 15, 16, 17, 18, 22, 23, 24] --> [1, 2, 3, 4, 5, 6, 7, 8, 9, 10, 11, 12, 19, 20, 21, 25]\n",
      "[13, 14, 15, 16, 17, 18, 21, 23, 24] --> [1, 2, 3, 4, 5, 6, 7, 8, 9, 10, 11, 12, 19, 20, 22, 25]\n",
      "[13, 14, 15, 16, 17, 18, 21, 22, 24] --> [1, 2, 3, 4, 5, 6, 7, 8, 9, 10, 11, 12, 19, 20, 23, 25]\n",
      "[13, 14, 15, 16, 17, 18, 21, 22, 23] --> [1, 2, 3, 4, 5, 6, 7, 8, 9, 10, 11, 12, 19, 20, 24, 25]\n",
      "[13, 14, 15, 16, 17, 18, 20, 23, 24] --> [1, 2, 3, 4, 5, 6, 7, 8, 9, 10, 11, 12, 19, 21, 22, 25]\n",
      "[13, 14, 15, 16, 17, 18, 20, 22, 24] --> [1, 2, 3, 4, 5, 6, 7, 8, 9, 10, 11, 12, 19, 21, 23, 25]\n",
      "[13, 14, 15, 16, 17, 18, 20, 22, 23] --> [1, 2, 3, 4, 5, 6, 7, 8, 9, 10, 11, 12, 19, 21, 24, 25]\n",
      "[13, 14, 15, 16, 17, 18, 20, 21, 24] --> [1, 2, 3, 4, 5, 6, 7, 8, 9, 10, 11, 12, 19, 22, 23, 25]\n",
      "[13, 14, 15, 16, 17, 18, 20, 21, 23] --> [1, 2, 3, 4, 5, 6, 7, 8, 9, 10, 11, 12, 19, 22, 24, 25]\n",
      "[13, 14, 15, 16, 17, 18, 20, 21, 22] --> [1, 2, 3, 4, 5, 6, 7, 8, 9, 10, 11, 12, 19, 23, 24, 25]\n",
      "[13, 14, 15, 16, 17, 18, 19, 23, 24] --> [1, 2, 3, 4, 5, 6, 7, 8, 9, 10, 11, 12, 20, 21, 22, 25]\n",
      "[13, 14, 15, 16, 17, 18, 19, 22, 24] --> [1, 2, 3, 4, 5, 6, 7, 8, 9, 10, 11, 12, 20, 21, 23, 25]\n",
      "[13, 14, 15, 16, 17, 18, 19, 22, 23] --> [1, 2, 3, 4, 5, 6, 7, 8, 9, 10, 11, 12, 20, 21, 24, 25]\n",
      "[13, 14, 15, 16, 17, 18, 19, 21, 24] --> [1, 2, 3, 4, 5, 6, 7, 8, 9, 10, 11, 12, 20, 22, 23, 25]\n",
      "[13, 14, 15, 16, 17, 18, 19, 21, 23] --> [1, 2, 3, 4, 5, 6, 7, 8, 9, 10, 11, 12, 20, 22, 24, 25]\n",
      "[13, 14, 15, 16, 17, 18, 19, 21, 22] --> [1, 2, 3, 4, 5, 6, 7, 8, 9, 10, 11, 12, 20, 23, 24, 25]\n",
      "[13, 14, 15, 16, 17, 18, 19, 20, 24] --> [1, 2, 3, 4, 5, 6, 7, 8, 9, 10, 11, 12, 21, 22, 23, 25]\n",
      "[13, 14, 15, 16, 17, 18, 19, 20, 23] --> [1, 2, 3, 4, 5, 6, 7, 8, 9, 10, 11, 12, 21, 22, 24, 25]\n",
      "[13, 14, 15, 16, 17, 18, 19, 20, 22] --> [1, 2, 3, 4, 5, 6, 7, 8, 9, 10, 11, 12, 21, 23, 24, 25]\n",
      "[13, 14, 15, 16, 17, 18, 19, 20, 21] --> [1, 2, 3, 4, 5, 6, 7, 8, 9, 10, 11, 12, 22, 23, 24, 25]\n",
      "[12, 15, 16, 17, 18, 19, 20, 25, 26] --> [1, 2, 3, 4, 5, 6, 7, 8, 9, 10, 11, 13, 14, 21, 22, 23]\n",
      "[12, 14, 16, 18, 19, 20, 21, 25, 27, 29] --> [1, 2, 3, 4, 5, 6, 7, 8, 9, 10, 11, 13, 15, 17, 22, 23]\n",
      "[12, 14, 16, 17, 19, 20, 21, 25, 27] --> [1, 2, 3, 4, 5, 6, 7, 8, 9, 10, 11, 13, 15, 18, 22, 23]\n",
      "[12, 14, 16, 17, 18, 20, 21, 25, 27] --> [1, 2, 3, 4, 5, 6, 7, 8, 9, 10, 11, 13, 15, 19, 22, 23]\n",
      "[12, 14, 16, 17, 18, 19, 21, 25, 27] --> [1, 2, 3, 4, 5, 6, 7, 8, 9, 10, 11, 13, 15, 20, 22, 23]\n",
      "[12, 14, 16, 17, 18, 19, 20, 25, 27] --> [1, 2, 3, 4, 5, 6, 7, 8, 9, 10, 11, 13, 15, 21, 22, 23]\n",
      "[12, 14, 15, 17, 19, 20, 21, 25] --> [1, 2, 3, 4, 5, 6, 7, 8, 9, 10, 11, 13, 16, 18, 22, 23]\n",
      "[12, 14, 15, 17, 18, 20, 21, 25] --> [1, 2, 3, 4, 5, 6, 7, 8, 9, 10, 11, 13, 16, 19, 22, 23]\n",
      "[12, 14, 15, 17, 18, 19, 21, 25] --> [1, 2, 3, 4, 5, 6, 7, 8, 9, 10, 11, 13, 16, 20, 22, 23]\n",
      "[12, 14, 15, 17, 18, 19, 20, 25] --> [1, 2, 3, 4, 5, 6, 7, 8, 9, 10, 11, 13, 16, 21, 22, 23]\n",
      "[12, 14, 15, 16, 19, 20, 21, 25] --> [1, 2, 3, 4, 5, 6, 7, 8, 9, 10, 11, 13, 17, 18, 22, 23]\n",
      "[12, 14, 15, 16, 18, 20, 21, 25] --> [1, 2, 3, 4, 5, 6, 7, 8, 9, 10, 11, 13, 17, 19, 22, 23]\n",
      "[12, 14, 15, 16, 18, 19, 21, 25] --> [1, 2, 3, 4, 5, 6, 7, 8, 9, 10, 11, 13, 17, 20, 22, 23]\n",
      "[12, 14, 15, 16, 18, 19, 20, 25] --> [1, 2, 3, 4, 5, 6, 7, 8, 9, 10, 11, 13, 17, 21, 22, 23]\n",
      "[12, 14, 15, 16, 17, 20, 21, 25] --> [1, 2, 3, 4, 5, 6, 7, 8, 9, 10, 11, 13, 18, 19, 22, 23]\n",
      "[12, 14, 15, 16, 17, 19, 21, 25] --> [1, 2, 3, 4, 5, 6, 7, 8, 9, 10, 11, 13, 18, 20, 22, 23]\n",
      "[12, 14, 15, 16, 17, 19, 20, 25] --> [1, 2, 3, 4, 5, 6, 7, 8, 9, 10, 11, 13, 18, 21, 22, 23]\n"
     ]
    },
    {
     "name": "stdout",
     "output_type": "stream",
     "text": [
      "[12, 14, 15, 16, 17, 18, 21, 25] --> [1, 2, 3, 4, 5, 6, 7, 8, 9, 10, 11, 13, 19, 20, 22, 23]\n",
      "[12, 14, 15, 16, 17, 18, 20, 25] --> [1, 2, 3, 4, 5, 6, 7, 8, 9, 10, 11, 13, 19, 21, 22, 23]\n",
      "[12, 14, 15, 16, 17, 18, 19, 25] --> [1, 2, 3, 4, 5, 6, 7, 8, 9, 10, 11, 13, 20, 21, 22, 23]\n",
      "[12, 13, 16, 17, 19, 20, 22, 27] --> [1, 2, 3, 4, 5, 6, 7, 8, 9, 10, 11, 14, 15, 18, 21, 23]\n",
      "[12, 13, 16, 17, 18, 20, 22, 27] --> [1, 2, 3, 4, 5, 6, 7, 8, 9, 10, 11, 14, 15, 19, 21, 23]\n",
      "[12, 13, 16, 17, 18, 19, 22, 27] --> [1, 2, 3, 4, 5, 6, 7, 8, 9, 10, 11, 14, 15, 20, 21, 23]\n",
      "[12, 13, 16, 17, 18, 19, 21, 27] --> [1, 2, 3, 4, 5, 6, 7, 8, 9, 10, 11, 14, 15, 20, 22, 23]\n",
      "[12, 13, 16, 17, 18, 19, 20, 27] --> [1, 2, 3, 4, 5, 6, 7, 8, 9, 10, 11, 14, 15, 21, 22, 23]\n",
      "[12, 13, 15, 17, 19, 20, 21] --> [1, 2, 3, 4, 5, 6, 7, 8, 9, 10, 11, 14, 16, 18, 22, 23]\n",
      "[12, 13, 15, 17, 18, 20, 22] --> [1, 2, 3, 4, 5, 6, 7, 8, 9, 10, 11, 14, 16, 19, 21, 23]\n",
      "[12, 13, 15, 17, 18, 20, 21] --> [1, 2, 3, 4, 5, 6, 7, 8, 9, 10, 11, 14, 16, 19, 22, 23]\n",
      "[12, 13, 15, 17, 18, 19, 22] --> [1, 2, 3, 4, 5, 6, 7, 8, 9, 10, 11, 14, 16, 20, 21, 23]\n",
      "[12, 13, 15, 17, 18, 19, 21] --> [1, 2, 3, 4, 5, 6, 7, 8, 9, 10, 11, 14, 16, 20, 22, 23]\n",
      "[12, 13, 15, 17, 18, 19, 20] --> [1, 2, 3, 4, 5, 6, 7, 8, 9, 10, 11, 14, 16, 21, 22, 23]\n",
      "[12, 13, 15, 16, 19, 20, 22] --> [1, 2, 3, 4, 5, 6, 7, 8, 9, 10, 11, 14, 17, 18, 21, 23]\n",
      "[12, 13, 15, 16, 19, 20, 21] --> [1, 2, 3, 4, 5, 6, 7, 8, 9, 10, 11, 14, 17, 18, 22, 23]\n",
      "[12, 13, 15, 16, 18, 20, 22] --> [1, 2, 3, 4, 5, 6, 7, 8, 9, 10, 11, 14, 17, 19, 21, 23]\n",
      "[12, 13, 15, 16, 18, 20, 21] --> [1, 2, 3, 4, 5, 6, 7, 8, 9, 10, 11, 14, 17, 19, 22, 23]\n",
      "[12, 13, 15, 16, 18, 19, 22] --> [1, 2, 3, 4, 5, 6, 7, 8, 9, 10, 11, 14, 17, 20, 21, 23]\n",
      "[12, 13, 15, 16, 18, 19, 21] --> [1, 2, 3, 4, 5, 6, 7, 8, 9, 10, 11, 14, 17, 20, 22, 23]\n",
      "[12, 13, 15, 16, 18, 19, 20] --> [1, 2, 3, 4, 5, 6, 7, 8, 9, 10, 11, 14, 17, 21, 22, 23]\n",
      "[12, 13, 15, 16, 17, 20, 22] --> [1, 2, 3, 4, 5, 6, 7, 8, 9, 10, 11, 14, 18, 19, 21, 23]\n",
      "[12, 13, 15, 16, 17, 20, 21] --> [1, 2, 3, 4, 5, 6, 7, 8, 9, 10, 11, 14, 18, 19, 22, 23]\n",
      "[12, 13, 15, 16, 17, 19, 22] --> [1, 2, 3, 4, 5, 6, 7, 8, 9, 10, 11, 14, 18, 20, 21, 23]\n",
      "[12, 13, 15, 16, 17, 19, 21] --> [1, 2, 3, 4, 5, 6, 7, 8, 9, 10, 11, 14, 18, 20, 22, 23]\n",
      "[12, 13, 15, 16, 17, 19, 20] --> [1, 2, 3, 4, 5, 6, 7, 8, 9, 10, 11, 14, 18, 21, 22, 23]\n",
      "[12, 13, 15, 16, 17, 18, 22] --> [1, 2, 3, 4, 5, 6, 7, 8, 9, 10, 11, 14, 19, 20, 21, 23]\n",
      "[12, 13, 15, 16, 17, 18, 21] --> [1, 2, 3, 4, 5, 6, 7, 8, 9, 10, 11, 14, 19, 20, 22, 23]\n",
      "[12, 13, 15, 16, 17, 18, 20] --> [1, 2, 3, 4, 5, 6, 7, 8, 9, 10, 11, 14, 19, 21, 22, 23]\n",
      "[12, 13, 15, 16, 17, 18, 19] --> [1, 2, 3, 4, 5, 6, 7, 8, 9, 10, 11, 14, 20, 21, 22, 23]\n",
      "[12, 13, 14, 18, 19, 21, 22, 29] --> [1, 2, 3, 4, 5, 6, 7, 8, 9, 10, 11, 15, 16, 17, 20, 23]\n",
      "[12, 13, 14, 17, 19, 21, 22] --> [1, 2, 3, 4, 5, 6, 7, 8, 9, 10, 11, 15, 16, 18, 20, 23]\n",
      "[12, 13, 14, 17, 19, 20, 22] --> [1, 2, 3, 4, 5, 6, 7, 8, 9, 10, 11, 15, 16, 18, 21, 23]\n",
      "[12, 13, 14, 17, 18, 21, 22] --> [1, 2, 3, 4, 5, 6, 7, 8, 9, 10, 11, 15, 16, 19, 20, 23]\n",
      "[12, 13, 14, 17, 18, 20, 22] --> [1, 2, 3, 4, 5, 6, 7, 8, 9, 10, 11, 15, 16, 19, 21, 23]\n",
      "[12, 13, 14, 17, 18, 20, 21] --> [1, 2, 3, 4, 5, 6, 7, 8, 9, 10, 11, 15, 16, 19, 22, 23]\n",
      "[12, 13, 14, 17, 18, 19, 22] --> [1, 2, 3, 4, 5, 6, 7, 8, 9, 10, 11, 15, 16, 20, 21, 23]\n",
      "[12, 13, 14, 17, 18, 19, 21] --> [1, 2, 3, 4, 5, 6, 7, 8, 9, 10, 11, 15, 16, 20, 22, 23]\n",
      "[12, 13, 14, 17, 18, 19, 20] --> [1, 2, 3, 4, 5, 6, 7, 8, 9, 10, 11, 15, 16, 21, 22, 23]\n",
      "[12, 13, 14, 16, 19, 21, 22] --> [1, 2, 3, 4, 5, 6, 7, 8, 9, 10, 11, 15, 17, 18, 20, 23]\n",
      "[12, 13, 14, 16, 19, 20, 22] --> [1, 2, 3, 4, 5, 6, 7, 8, 9, 10, 11, 15, 17, 18, 21, 23]\n",
      "[12, 13, 14, 16, 19, 20, 21] --> [1, 2, 3, 4, 5, 6, 7, 8, 9, 10, 11, 15, 17, 18, 22, 23]\n",
      "[12, 13, 14, 16, 18, 21, 22] --> [1, 2, 3, 4, 5, 6, 7, 8, 9, 10, 11, 15, 17, 19, 20, 23]\n",
      "[12, 13, 14, 16, 18, 20, 22] --> [1, 2, 3, 4, 5, 6, 7, 8, 9, 10, 11, 15, 17, 19, 21, 23]\n",
      "[12, 13, 14, 16, 18, 20, 21] --> [1, 2, 3, 4, 5, 6, 7, 8, 9, 10, 11, 15, 17, 19, 22, 23]\n",
      "[12, 13, 14, 16, 18, 19, 22] --> [1, 2, 3, 4, 5, 6, 7, 8, 9, 10, 11, 15, 17, 20, 21, 23]\n",
      "[12, 13, 14, 16, 18, 19, 21] --> [1, 2, 3, 4, 5, 6, 7, 8, 9, 10, 11, 15, 17, 20, 22, 23]\n",
      "[12, 13, 14, 16, 18, 19, 20] --> [1, 2, 3, 4, 5, 6, 7, 8, 9, 10, 11, 15, 17, 21, 22, 23]\n",
      "[12, 13, 14, 16, 17, 21, 22] --> [1, 2, 3, 4, 5, 6, 7, 8, 9, 10, 11, 15, 18, 19, 20, 23]\n",
      "[12, 13, 14, 16, 17, 20, 22] --> [1, 2, 3, 4, 5, 6, 7, 8, 9, 10, 11, 15, 18, 19, 21, 23]\n",
      "[12, 13, 14, 16, 17, 20, 21] --> [1, 2, 3, 4, 5, 6, 7, 8, 9, 10, 11, 15, 18, 19, 22, 23]\n",
      "[12, 13, 14, 16, 17, 19, 22] --> [1, 2, 3, 4, 5, 6, 7, 8, 9, 10, 11, 15, 18, 20, 21, 23]\n",
      "[12, 13, 14, 16, 17, 19, 21] --> [1, 2, 3, 4, 5, 6, 7, 8, 9, 10, 11, 15, 18, 20, 22, 23]\n",
      "[12, 13, 14, 16, 17, 19, 20] --> [1, 2, 3, 4, 5, 6, 7, 8, 9, 10, 11, 15, 18, 21, 22, 23]\n",
      "[12, 13, 14, 16, 17, 18, 22] --> [1, 2, 3, 4, 5, 6, 7, 8, 9, 10, 11, 15, 19, 20, 21, 23]\n",
      "[12, 13, 14, 16, 17, 18, 21] --> [1, 2, 3, 4, 5, 6, 7, 8, 9, 10, 11, 15, 19, 20, 22, 23]\n",
      "[12, 13, 14, 16, 17, 18, 20] --> [1, 2, 3, 4, 5, 6, 7, 8, 9, 10, 11, 15, 19, 21, 22, 23]\n",
      "[12, 13, 14, 16, 17, 18, 19] --> [1, 2, 3, 4, 5, 6, 7, 8, 9, 10, 11, 15, 20, 21, 22, 23]\n",
      "[12, 13, 14, 15, 20, 21, 22, 31] --> [1, 2, 3, 4, 5, 6, 7, 8, 9, 10, 11, 16, 17, 18, 19, 23]\n",
      "[12, 13, 14, 15, 19, 21, 22] --> [1, 2, 3, 4, 5, 6, 7, 8, 9, 10, 11, 16, 17, 18, 20, 23]\n",
      "[12, 13, 14, 15, 19, 20, 22] --> [1, 2, 3, 4, 5, 6, 7, 8, 9, 10, 11, 16, 17, 18, 21, 23]\n",
      "[12, 13, 14, 15, 19, 20, 21] --> [1, 2, 3, 4, 5, 6, 7, 8, 9, 10, 11, 16, 17, 18, 22, 23]\n",
      "[12, 13, 14, 15, 18, 21, 22] --> [1, 2, 3, 4, 5, 6, 7, 8, 9, 10, 11, 16, 17, 19, 20, 23]\n",
      "[12, 13, 14, 15, 18, 20, 22] --> [1, 2, 3, 4, 5, 6, 7, 8, 9, 10, 11, 16, 17, 19, 21, 23]\n",
      "[12, 13, 14, 15, 18, 20, 21] --> [1, 2, 3, 4, 5, 6, 7, 8, 9, 10, 11, 16, 17, 19, 22, 23]\n",
      "[12, 13, 14, 15, 18, 19, 22] --> [1, 2, 3, 4, 5, 6, 7, 8, 9, 10, 11, 16, 17, 20, 21, 23]\n",
      "[12, 13, 14, 15, 18, 19, 21] --> [1, 2, 3, 4, 5, 6, 7, 8, 9, 10, 11, 16, 17, 20, 22, 23]\n",
      "[12, 13, 14, 15, 18, 19, 20] --> [1, 2, 3, 4, 5, 6, 7, 8, 9, 10, 11, 16, 17, 21, 22, 23]\n",
      "[12, 13, 14, 15, 17, 21, 22] --> [1, 2, 3, 4, 5, 6, 7, 8, 9, 10, 11, 16, 18, 19, 20, 23]\n",
      "[12, 13, 14, 15, 17, 20, 22] --> [1, 2, 3, 4, 5, 6, 7, 8, 9, 10, 11, 16, 18, 19, 21, 23]\n",
      "[12, 13, 14, 15, 17, 20, 21] --> [1, 2, 3, 4, 5, 6, 7, 8, 9, 10, 11, 16, 18, 19, 22, 23]\n",
      "[12, 13, 14, 15, 17, 19, 22] --> [1, 2, 3, 4, 5, 6, 7, 8, 9, 10, 11, 16, 18, 20, 21, 23]\n",
      "[12, 13, 14, 15, 17, 19, 21] --> [1, 2, 3, 4, 5, 6, 7, 8, 9, 10, 11, 16, 18, 20, 22, 23]\n",
      "[12, 13, 14, 15, 17, 19, 20] --> [1, 2, 3, 4, 5, 6, 7, 8, 9, 10, 11, 16, 18, 21, 22, 23]\n",
      "[12, 13, 14, 15, 17, 18, 22] --> [1, 2, 3, 4, 5, 6, 7, 8, 9, 10, 11, 16, 19, 20, 21, 23]\n",
      "[12, 13, 14, 15, 17, 18, 21] --> [1, 2, 3, 4, 5, 6, 7, 8, 9, 10, 11, 16, 19, 20, 22, 23]\n",
      "[12, 13, 14, 15, 17, 18, 20] --> [1, 2, 3, 4, 5, 6, 7, 8, 9, 10, 11, 16, 19, 21, 22, 23]\n",
      "[12, 13, 14, 15, 17, 18, 19] --> [1, 2, 3, 4, 5, 6, 7, 8, 9, 10, 11, 16, 20, 21, 22, 23]\n",
      "[12, 13, 14, 15, 16, 21, 22] --> [1, 2, 3, 4, 5, 6, 7, 8, 9, 10, 11, 17, 18, 19, 20, 23]\n",
      "[12, 13, 14, 15, 16, 20, 22] --> [1, 2, 3, 4, 5, 6, 7, 8, 9, 10, 11, 17, 18, 19, 21, 23]\n",
      "[12, 13, 14, 15, 16, 20, 21] --> [1, 2, 3, 4, 5, 6, 7, 8, 9, 10, 11, 17, 18, 19, 22, 23]\n",
      "[12, 13, 14, 15, 16, 19, 22] --> [1, 2, 3, 4, 5, 6, 7, 8, 9, 10, 11, 17, 18, 20, 21, 23]\n",
      "[12, 13, 14, 15, 16, 19, 21] --> [1, 2, 3, 4, 5, 6, 7, 8, 9, 10, 11, 17, 18, 20, 22, 23]\n",
      "[12, 13, 14, 15, 16, 19, 20] --> [1, 2, 3, 4, 5, 6, 7, 8, 9, 10, 11, 17, 18, 21, 22, 23]\n",
      "[12, 13, 14, 15, 16, 18, 22] --> [1, 2, 3, 4, 5, 6, 7, 8, 9, 10, 11, 17, 19, 20, 21, 23]\n",
      "[12, 13, 14, 15, 16, 18, 21] --> [1, 2, 3, 4, 5, 6, 7, 8, 9, 10, 11, 17, 19, 20, 22, 23]\n",
      "[12, 13, 14, 15, 16, 18, 20] --> [1, 2, 3, 4, 5, 6, 7, 8, 9, 10, 11, 17, 19, 21, 22, 23]\n",
      "[12, 13, 14, 15, 16, 18, 19] --> [1, 2, 3, 4, 5, 6, 7, 8, 9, 10, 11, 17, 20, 21, 22, 23]\n",
      "[12, 13, 14, 15, 16, 17, 22] --> [1, 2, 3, 4, 5, 6, 7, 8, 9, 10, 11, 18, 19, 20, 21, 23]\n",
      "[12, 13, 14, 15, 16, 17, 21] --> [1, 2, 3, 4, 5, 6, 7, 8, 9, 10, 11, 18, 19, 20, 22, 23]\n",
      "[12, 13, 14, 15, 16, 17, 20] --> [1, 2, 3, 4, 5, 6, 7, 8, 9, 10, 11, 18, 19, 21, 22, 23]\n",
      "[12, 13, 14, 15, 16, 17, 19] --> [1, 2, 3, 4, 5, 6, 7, 8, 9, 10, 11, 18, 20, 21, 22, 23]\n",
      "[12, 13, 14, 15, 16, 17, 18] --> [1, 2, 3, 4, 5, 6, 7, 8, 9, 10, 11, 19, 20, 21, 22, 23]\n"
     ]
    },
    {
     "name": "stdout",
     "output_type": "stream",
     "text": [
      "[11, 14, 16, 17, 18, 23, 24, 26] --> [1, 2, 3, 4, 5, 6, 7, 8, 9, 10, 12, 13, 15, 19, 20, 21]\n",
      "[11, 14, 15, 17, 18, 23, 24, 27] --> [1, 2, 3, 4, 5, 6, 7, 8, 9, 10, 12, 13, 16, 19, 20, 21]\n",
      "[11, 14, 15, 16, 18, 23, 24] --> [1, 2, 3, 4, 5, 6, 7, 8, 9, 10, 12, 13, 17, 19, 20, 21]\n",
      "[11, 14, 15, 16, 17, 23, 24] --> [1, 2, 3, 4, 5, 6, 7, 8, 9, 10, 12, 13, 18, 19, 20, 21]\n",
      "[11, 13, 16, 18, 19, 23, 25, 28] --> [1, 2, 3, 4, 5, 6, 7, 8, 9, 10, 12, 14, 15, 17, 20, 21]\n",
      "[11, 13, 16, 17, 18, 23, 25] --> [1, 2, 3, 4, 5, 6, 7, 8, 9, 10, 12, 14, 15, 19, 20, 21]\n",
      "[11, 13, 15, 18, 19, 23, 25, 27] --> [1, 2, 3, 4, 5, 6, 7, 8, 9, 10, 12, 14, 16, 17, 20, 21]\n",
      "[11, 13, 15, 17, 19, 23, 25, 27, 29, 31] --> [1, 2, 3, 4, 5, 6, 7, 8, 9, 10, 12, 14, 16, 18, 20, 21]\n",
      "[11, 13, 15, 17, 18, 23, 25, 27] --> [1, 2, 3, 4, 5, 6, 7, 8, 9, 10, 12, 14, 16, 19, 20, 21]\n",
      "[11, 13, 15, 16, 19, 23, 25] --> [1, 2, 3, 4, 5, 6, 7, 8, 9, 10, 12, 14, 17, 18, 20, 21]\n",
      "[11, 13, 15, 16, 18, 23, 25] --> [1, 2, 3, 4, 5, 6, 7, 8, 9, 10, 12, 14, 17, 19, 20, 21]\n",
      "[11, 13, 15, 16, 17, 23, 25] --> [1, 2, 3, 4, 5, 6, 7, 8, 9, 10, 12, 14, 18, 19, 20, 21]\n",
      "[11, 13, 14, 18, 19, 23] --> [1, 2, 3, 4, 5, 6, 7, 8, 9, 10, 12, 15, 16, 17, 20, 21]\n",
      "[11, 13, 14, 17, 19, 23, 29] --> [1, 2, 3, 4, 5, 6, 7, 8, 9, 10, 12, 15, 16, 18, 20, 21]\n",
      "[11, 13, 14, 17, 18, 23] --> [1, 2, 3, 4, 5, 6, 7, 8, 9, 10, 12, 15, 16, 19, 20, 21]\n",
      "[11, 13, 14, 16, 19, 23, 31] --> [1, 2, 3, 4, 5, 6, 7, 8, 9, 10, 12, 15, 17, 18, 20, 21]\n",
      "[11, 13, 14, 16, 18, 23] --> [1, 2, 3, 4, 5, 6, 7, 8, 9, 10, 12, 15, 17, 19, 20, 21]\n",
      "[11, 13, 14, 16, 17, 23] --> [1, 2, 3, 4, 5, 6, 7, 8, 9, 10, 12, 15, 18, 19, 20, 21]\n",
      "[11, 13, 14, 15, 19, 23, 31] --> [1, 2, 3, 4, 5, 6, 7, 8, 9, 10, 12, 16, 17, 18, 20, 21]\n",
      "[11, 13, 14, 15, 18, 23] --> [1, 2, 3, 4, 5, 6, 7, 8, 9, 10, 12, 16, 17, 19, 20, 21]\n",
      "[11, 13, 14, 15, 17, 23] --> [1, 2, 3, 4, 5, 6, 7, 8, 9, 10, 12, 16, 18, 19, 20, 21]\n",
      "[11, 13, 14, 15, 16, 23] --> [1, 2, 3, 4, 5, 6, 7, 8, 9, 10, 12, 17, 18, 19, 20, 21]\n",
      "[11, 12, 16, 18, 20, 25, 26] --> [1, 2, 3, 4, 5, 6, 7, 8, 9, 10, 13, 14, 15, 17, 19, 21]\n",
      "[11, 12, 16, 17, 20, 25, 26, 30] --> [1, 2, 3, 4, 5, 6, 7, 8, 9, 10, 13, 14, 15, 18, 19, 21]\n",
      "[11, 12, 16, 17, 19, 25, 26] --> [1, 2, 3, 4, 5, 6, 7, 8, 9, 10, 13, 14, 15, 18, 20, 21]\n",
      "[11, 12, 15, 18, 20, 25, 28] --> [1, 2, 3, 4, 5, 6, 7, 8, 9, 10, 13, 14, 16, 17, 19, 21]\n",
      "[11, 12, 15, 17, 20, 25] --> [1, 2, 3, 4, 5, 6, 7, 8, 9, 10, 13, 14, 16, 18, 19, 21]\n",
      "[11, 12, 15, 17, 19, 25] --> [1, 2, 3, 4, 5, 6, 7, 8, 9, 10, 13, 14, 16, 18, 20, 21]\n",
      "[11, 12, 15, 17, 18, 25, 31] --> [1, 2, 3, 4, 5, 6, 7, 8, 9, 10, 13, 14, 16, 19, 20, 21]\n",
      "[11, 12, 15, 16, 20, 25, 29] --> [1, 2, 3, 4, 5, 6, 7, 8, 9, 10, 13, 14, 17, 18, 19, 21]\n",
      "[11, 12, 15, 16, 19, 25, 29] --> [1, 2, 3, 4, 5, 6, 7, 8, 9, 10, 13, 14, 17, 18, 20, 21]\n",
      "[11, 12, 15, 16, 18, 25] --> [1, 2, 3, 4, 5, 6, 7, 8, 9, 10, 13, 14, 17, 19, 20, 21]\n",
      "[11, 12, 15, 16, 17, 25] --> [1, 2, 3, 4, 5, 6, 7, 8, 9, 10, 13, 14, 18, 19, 20, 21]\n",
      "[11, 12, 14, 18, 20, 27] --> [1, 2, 3, 4, 5, 6, 7, 8, 9, 10, 13, 15, 16, 17, 19, 21]\n",
      "[11, 12, 14, 18, 19, 27] --> [1, 2, 3, 4, 5, 6, 7, 8, 9, 10, 13, 15, 16, 17, 20, 21]\n",
      "[11, 12, 14, 17, 20, 27, 30] --> [1, 2, 3, 4, 5, 6, 7, 8, 9, 10, 13, 15, 16, 18, 19, 21]\n",
      "[11, 12, 14, 17, 19, 27, 32] --> [1, 2, 3, 4, 5, 6, 7, 8, 9, 10, 13, 15, 16, 18, 20, 21]\n",
      "[11, 12, 14, 17, 18, 27] --> [1, 2, 3, 4, 5, 6, 7, 8, 9, 10, 13, 15, 16, 19, 20, 21]\n",
      "[11, 12, 14, 16, 20, 29] --> [1, 2, 3, 4, 5, 6, 7, 8, 9, 10, 13, 15, 17, 18, 19, 21]\n",
      "[11, 12, 14, 16, 19, 29] --> [1, 2, 3, 4, 5, 6, 7, 8, 9, 10, 13, 15, 17, 18, 20, 21]\n",
      "[11, 12, 14, 16, 18, 31] --> [1, 2, 3, 4, 5, 6, 7, 8, 9, 10, 13, 15, 17, 19, 20, 21]\n",
      "[11, 12, 14, 16, 17] --> [1, 2, 3, 4, 5, 6, 7, 8, 9, 10, 13, 15, 18, 19, 20, 21]\n",
      "[11, 12, 14, 15, 20] --> [1, 2, 3, 4, 5, 6, 7, 8, 9, 10, 13, 16, 17, 18, 19, 21]\n",
      "[11, 12, 14, 15, 19, 32] --> [1, 2, 3, 4, 5, 6, 7, 8, 9, 10, 13, 16, 17, 18, 20, 21]\n",
      "[11, 12, 14, 15, 18, 31] --> [1, 2, 3, 4, 5, 6, 7, 8, 9, 10, 13, 16, 17, 19, 20, 21]\n",
      "[11, 12, 14, 15, 17] --> [1, 2, 3, 4, 5, 6, 7, 8, 9, 10, 13, 16, 18, 19, 20, 21]\n",
      "[11, 12, 14, 15, 16] --> [1, 2, 3, 4, 5, 6, 7, 8, 9, 10, 13, 17, 18, 19, 20, 21]\n",
      "[11, 12, 13, 19, 20, 27, 28, 29] --> [1, 2, 3, 4, 5, 6, 7, 8, 9, 10, 14, 15, 16, 17, 18, 21]\n",
      "[11, 12, 13, 18, 20, 27, 28] --> [1, 2, 3, 4, 5, 6, 7, 8, 9, 10, 14, 15, 16, 17, 19, 21]\n",
      "[11, 12, 13, 18, 19, 27, 28] --> [1, 2, 3, 4, 5, 6, 7, 8, 9, 10, 14, 15, 16, 17, 20, 21]\n",
      "[11, 12, 13, 17, 20, 27] --> [1, 2, 3, 4, 5, 6, 7, 8, 9, 10, 14, 15, 16, 18, 19, 21]\n",
      "[11, 12, 13, 17, 19, 27] --> [1, 2, 3, 4, 5, 6, 7, 8, 9, 10, 14, 15, 16, 18, 20, 21]\n",
      "[11, 12, 13, 17, 18, 27, 32] --> [1, 2, 3, 4, 5, 6, 7, 8, 9, 10, 14, 15, 16, 19, 20, 21]\n",
      "[11, 12, 13, 16, 20, 30] --> [1, 2, 3, 4, 5, 6, 7, 8, 9, 10, 14, 15, 17, 18, 19, 21]\n",
      "[11, 12, 13, 16, 19] --> [1, 2, 3, 4, 5, 6, 7, 8, 9, 10, 14, 15, 17, 18, 20, 21]\n",
      "[11, 12, 13, 16, 18] --> [1, 2, 3, 4, 5, 6, 7, 8, 9, 10, 14, 15, 17, 19, 20, 21]\n",
      "[11, 12, 13, 16, 17, 31] --> [1, 2, 3, 4, 5, 6, 7, 8, 9, 10, 14, 15, 18, 19, 20, 21]\n",
      "[11, 12, 13, 15, 20, 29] --> [1, 2, 3, 4, 5, 6, 7, 8, 9, 10, 14, 16, 17, 18, 19, 21]\n",
      "[11, 12, 13, 15, 19, 29] --> [1, 2, 3, 4, 5, 6, 7, 8, 9, 10, 14, 16, 17, 18, 20, 21]\n",
      "[11, 12, 13, 15, 18, 32] --> [1, 2, 3, 4, 5, 6, 7, 8, 9, 10, 14, 16, 17, 19, 20, 21]\n",
      "[11, 12, 13, 15, 17, 31] --> [1, 2, 3, 4, 5, 6, 7, 8, 9, 10, 14, 16, 18, 19, 20, 21]\n",
      "[11, 12, 13, 15, 16] --> [1, 2, 3, 4, 5, 6, 7, 8, 9, 10, 14, 17, 18, 19, 20, 21]\n",
      "[11, 12, 13, 14, 20, 29, 30] --> [1, 2, 3, 4, 5, 6, 7, 8, 9, 10, 15, 16, 17, 18, 19, 21]\n",
      "[11, 12, 13, 14, 19, 29] --> [1, 2, 3, 4, 5, 6, 7, 8, 9, 10, 15, 16, 17, 18, 20, 21]\n",
      "[11, 12, 13, 14, 18] --> [1, 2, 3, 4, 5, 6, 7, 8, 9, 10, 15, 16, 17, 19, 20, 21]\n",
      "[11, 12, 13, 14, 17, 32] --> [1, 2, 3, 4, 5, 6, 7, 8, 9, 10, 15, 16, 18, 19, 20, 21]\n",
      "[11, 12, 13, 14, 16, 31] --> [1, 2, 3, 4, 5, 6, 7, 8, 9, 10, 15, 17, 18, 19, 20, 21]\n",
      "[11, 12, 13, 14, 15, 31, 32] --> [1, 2, 3, 4, 5, 6, 7, 8, 9, 10, 16, 17, 18, 19, 20, 21]\n",
      "[10, 14, 15, 21, 22, 23, 26, 27] --> [1, 2, 3, 4, 5, 6, 7, 8, 9, 11, 12, 13, 16, 17, 18, 19]\n",
      "[10, 13, 16, 21, 22, 24, 25, 27, 28] --> [1, 2, 3, 4, 5, 6, 7, 8, 9, 11, 12, 14, 15, 17, 18, 19]\n",
      "[10, 13, 15, 21, 22, 24, 27, 29] --> [1, 2, 3, 4, 5, 6, 7, 8, 9, 11, 12, 14, 16, 17, 18, 19]\n",
      "[10, 13, 14, 21, 22, 25, 29] --> [1, 2, 3, 4, 5, 6, 7, 8, 9, 11, 12, 15, 16, 17, 18, 19]\n",
      "[10, 12, 17, 21, 23, 25, 26, 28] --> [1, 2, 3, 4, 5, 6, 7, 8, 9, 11, 13, 14, 15, 16, 18, 19]\n",
      "[10, 12, 16, 21, 23, 25, 27, 29] --> [1, 2, 3, 4, 5, 6, 7, 8, 9, 11, 13, 14, 15, 17, 18, 19]\n",
      "[10, 12, 15, 21, 23, 26, 28, 29] --> [1, 2, 3, 4, 5, 6, 7, 8, 9, 11, 13, 14, 16, 17, 18, 19]\n",
      "[10, 12, 14, 21, 23, 25, 27, 29] --> [1, 2, 3, 4, 5, 6, 7, 8, 9, 11, 13, 15, 16, 17, 18, 19]\n",
      "[10, 12, 13, 21, 27, 28, 29] --> [1, 2, 3, 4, 5, 6, 7, 8, 9, 11, 14, 15, 16, 17, 18, 19]\n",
      "[10, 11, 18, 23, 24, 25, 26, 27] --> [1, 2, 3, 4, 5, 6, 7, 8, 9, 12, 13, 14, 15, 16, 17, 19]\n",
      "[10, 11, 17, 23, 24, 25, 26, 29] --> [1, 2, 3, 4, 5, 6, 7, 8, 9, 12, 13, 14, 15, 16, 18, 19]\n",
      "[10, 11, 16, 23, 24, 25, 28, 29] --> [1, 2, 3, 4, 5, 6, 7, 8, 9, 12, 13, 14, 15, 17, 18, 19]\n",
      "[10, 11, 15, 23, 24, 27, 28, 29] --> [1, 2, 3, 4, 5, 6, 7, 8, 9, 12, 13, 14, 16, 17, 18, 19]\n",
      "[10, 11, 14, 23, 26, 27, 29] --> [1, 2, 3, 4, 5, 6, 7, 8, 9, 12, 13, 15, 16, 17, 18, 19]\n",
      "[10, 11, 13, 25, 27, 28, 29] --> [1, 2, 3, 4, 5, 6, 7, 8, 9, 12, 14, 15, 16, 17, 18, 19]\n",
      "[10, 11, 12, 25, 26, 27, 28, 29] --> [1, 2, 3, 4, 5, 6, 7, 8, 9, 13, 14, 15, 16, 17, 18, 19]\n",
      "[9, 19, 20, 21, 22, 23, 24, 25, 26] --> [1, 2, 3, 4, 5, 6, 7, 8, 10, 11, 12, 13, 14, 15, 16, 17]\n",
      "GÉNERO  17\n",
      "[17, 18, 19, 20, 21, 22, 23, 24, 25, 26, 27, 28, 29, 30, 31, 32] --> [1, 2, 3, 4, 5, 6, 7, 8, 9, 10, 11, 12, 13, 14, 15, 16, 33]\n",
      "[16, 17, 18, 19, 20, 21, 22, 23, 25, 26, 27, 28, 29, 30] --> [1, 2, 3, 4, 5, 6, 7, 8, 9, 10, 11, 12, 13, 14, 15, 24, 31]\n",
      "[16, 17, 18, 19, 20, 21, 22, 23, 24, 26, 27, 28, 29, 30] --> [1, 2, 3, 4, 5, 6, 7, 8, 9, 10, 11, 12, 13, 14, 15, 25, 31]\n",
      "[16, 17, 18, 19, 20, 21, 22, 23, 24, 25, 27, 28, 29, 30] --> [1, 2, 3, 4, 5, 6, 7, 8, 9, 10, 11, 12, 13, 14, 15, 26, 31]\n",
      "[16, 17, 18, 19, 20, 21, 22, 23, 24, 25, 26, 28, 29, 30] --> [1, 2, 3, 4, 5, 6, 7, 8, 9, 10, 11, 12, 13, 14, 15, 27, 31]\n",
      "[16, 17, 18, 19, 20, 21, 22, 23, 24, 25, 26, 27, 29, 30] --> [1, 2, 3, 4, 5, 6, 7, 8, 9, 10, 11, 12, 13, 14, 15, 28, 31]\n",
      "[16, 17, 18, 19, 20, 21, 22, 23, 24, 25, 26, 27, 28, 30] --> [1, 2, 3, 4, 5, 6, 7, 8, 9, 10, 11, 12, 13, 14, 15, 29, 31]\n"
     ]
    },
    {
     "name": "stdout",
     "output_type": "stream",
     "text": [
      "[16, 17, 18, 19, 20, 21, 22, 23, 24, 25, 26, 27, 28, 29] --> [1, 2, 3, 4, 5, 6, 7, 8, 9, 10, 11, 12, 13, 14, 15, 30, 31]\n",
      "[15, 17, 18, 19, 20, 21, 22, 23, 24, 25, 26, 27, 31] --> [1, 2, 3, 4, 5, 6, 7, 8, 9, 10, 11, 12, 13, 14, 16, 28, 29]\n",
      "[15, 16, 18, 19, 20, 21, 22, 23, 24, 25, 26, 28] --> [1, 2, 3, 4, 5, 6, 7, 8, 9, 10, 11, 12, 13, 14, 17, 27, 29]\n",
      "[15, 16, 18, 19, 20, 21, 22, 23, 24, 25, 26, 27] --> [1, 2, 3, 4, 5, 6, 7, 8, 9, 10, 11, 12, 13, 14, 17, 28, 29]\n",
      "[15, 16, 17, 19, 20, 21, 22, 23, 24, 25, 27, 28] --> [1, 2, 3, 4, 5, 6, 7, 8, 9, 10, 11, 12, 13, 14, 18, 26, 29]\n",
      "[15, 16, 17, 19, 20, 21, 22, 23, 24, 25, 26, 28] --> [1, 2, 3, 4, 5, 6, 7, 8, 9, 10, 11, 12, 13, 14, 18, 27, 29]\n",
      "[15, 16, 17, 19, 20, 21, 22, 23, 24, 25, 26, 27] --> [1, 2, 3, 4, 5, 6, 7, 8, 9, 10, 11, 12, 13, 14, 18, 28, 29]\n",
      "[15, 16, 17, 18, 20, 21, 22, 23, 24, 26, 27, 28] --> [1, 2, 3, 4, 5, 6, 7, 8, 9, 10, 11, 12, 13, 14, 19, 25, 29]\n",
      "[15, 16, 17, 18, 20, 21, 22, 23, 24, 25, 27, 28] --> [1, 2, 3, 4, 5, 6, 7, 8, 9, 10, 11, 12, 13, 14, 19, 26, 29]\n",
      "[15, 16, 17, 18, 20, 21, 22, 23, 24, 25, 26, 28] --> [1, 2, 3, 4, 5, 6, 7, 8, 9, 10, 11, 12, 13, 14, 19, 27, 29]\n",
      "[15, 16, 17, 18, 20, 21, 22, 23, 24, 25, 26, 27] --> [1, 2, 3, 4, 5, 6, 7, 8, 9, 10, 11, 12, 13, 14, 19, 28, 29]\n",
      "[15, 16, 17, 18, 19, 21, 22, 23, 25, 26, 27, 28] --> [1, 2, 3, 4, 5, 6, 7, 8, 9, 10, 11, 12, 13, 14, 20, 24, 29]\n",
      "[15, 16, 17, 18, 19, 21, 22, 23, 24, 26, 27, 28] --> [1, 2, 3, 4, 5, 6, 7, 8, 9, 10, 11, 12, 13, 14, 20, 25, 29]\n",
      "[15, 16, 17, 18, 19, 21, 22, 23, 24, 25, 27, 28] --> [1, 2, 3, 4, 5, 6, 7, 8, 9, 10, 11, 12, 13, 14, 20, 26, 29]\n",
      "[15, 16, 17, 18, 19, 21, 22, 23, 24, 25, 26, 28] --> [1, 2, 3, 4, 5, 6, 7, 8, 9, 10, 11, 12, 13, 14, 20, 27, 29]\n",
      "[15, 16, 17, 18, 19, 21, 22, 23, 24, 25, 26, 27] --> [1, 2, 3, 4, 5, 6, 7, 8, 9, 10, 11, 12, 13, 14, 20, 28, 29]\n",
      "[15, 16, 17, 18, 19, 20, 22, 24, 25, 26, 27, 28] --> [1, 2, 3, 4, 5, 6, 7, 8, 9, 10, 11, 12, 13, 14, 21, 23, 29]\n",
      "[15, 16, 17, 18, 19, 20, 22, 23, 25, 26, 27, 28] --> [1, 2, 3, 4, 5, 6, 7, 8, 9, 10, 11, 12, 13, 14, 21, 24, 29]\n",
      "[15, 16, 17, 18, 19, 20, 22, 23, 24, 26, 27, 28] --> [1, 2, 3, 4, 5, 6, 7, 8, 9, 10, 11, 12, 13, 14, 21, 25, 29]\n",
      "[15, 16, 17, 18, 19, 20, 22, 23, 24, 25, 27, 28] --> [1, 2, 3, 4, 5, 6, 7, 8, 9, 10, 11, 12, 13, 14, 21, 26, 29]\n",
      "[15, 16, 17, 18, 19, 20, 22, 23, 24, 25, 26, 28] --> [1, 2, 3, 4, 5, 6, 7, 8, 9, 10, 11, 12, 13, 14, 21, 27, 29]\n",
      "[15, 16, 17, 18, 19, 20, 22, 23, 24, 25, 26, 27] --> [1, 2, 3, 4, 5, 6, 7, 8, 9, 10, 11, 12, 13, 14, 21, 28, 29]\n",
      "[15, 16, 17, 18, 19, 20, 21, 24, 25, 26, 27, 28] --> [1, 2, 3, 4, 5, 6, 7, 8, 9, 10, 11, 12, 13, 14, 22, 23, 29]\n",
      "[15, 16, 17, 18, 19, 20, 21, 23, 25, 26, 27, 28] --> [1, 2, 3, 4, 5, 6, 7, 8, 9, 10, 11, 12, 13, 14, 22, 24, 29]\n",
      "[15, 16, 17, 18, 19, 20, 21, 23, 24, 26, 27, 28] --> [1, 2, 3, 4, 5, 6, 7, 8, 9, 10, 11, 12, 13, 14, 22, 25, 29]\n",
      "[15, 16, 17, 18, 19, 20, 21, 23, 24, 25, 27, 28] --> [1, 2, 3, 4, 5, 6, 7, 8, 9, 10, 11, 12, 13, 14, 22, 26, 29]\n",
      "[15, 16, 17, 18, 19, 20, 21, 23, 24, 25, 26, 28] --> [1, 2, 3, 4, 5, 6, 7, 8, 9, 10, 11, 12, 13, 14, 22, 27, 29]\n",
      "[15, 16, 17, 18, 19, 20, 21, 23, 24, 25, 26, 27] --> [1, 2, 3, 4, 5, 6, 7, 8, 9, 10, 11, 12, 13, 14, 22, 28, 29]\n",
      "[15, 16, 17, 18, 19, 20, 21, 22, 25, 26, 27, 28] --> [1, 2, 3, 4, 5, 6, 7, 8, 9, 10, 11, 12, 13, 14, 23, 24, 29]\n",
      "[15, 16, 17, 18, 19, 20, 21, 22, 24, 26, 27, 28] --> [1, 2, 3, 4, 5, 6, 7, 8, 9, 10, 11, 12, 13, 14, 23, 25, 29]\n",
      "[15, 16, 17, 18, 19, 20, 21, 22, 24, 25, 27, 28] --> [1, 2, 3, 4, 5, 6, 7, 8, 9, 10, 11, 12, 13, 14, 23, 26, 29]\n",
      "[15, 16, 17, 18, 19, 20, 21, 22, 24, 25, 26, 28] --> [1, 2, 3, 4, 5, 6, 7, 8, 9, 10, 11, 12, 13, 14, 23, 27, 29]\n",
      "[15, 16, 17, 18, 19, 20, 21, 22, 24, 25, 26, 27] --> [1, 2, 3, 4, 5, 6, 7, 8, 9, 10, 11, 12, 13, 14, 23, 28, 29]\n",
      "[15, 16, 17, 18, 19, 20, 21, 22, 23, 26, 27, 28] --> [1, 2, 3, 4, 5, 6, 7, 8, 9, 10, 11, 12, 13, 14, 24, 25, 29]\n",
      "[15, 16, 17, 18, 19, 20, 21, 22, 23, 25, 27, 28] --> [1, 2, 3, 4, 5, 6, 7, 8, 9, 10, 11, 12, 13, 14, 24, 26, 29]\n",
      "[15, 16, 17, 18, 19, 20, 21, 22, 23, 25, 26, 28] --> [1, 2, 3, 4, 5, 6, 7, 8, 9, 10, 11, 12, 13, 14, 24, 27, 29]\n",
      "[15, 16, 17, 18, 19, 20, 21, 22, 23, 25, 26, 27] --> [1, 2, 3, 4, 5, 6, 7, 8, 9, 10, 11, 12, 13, 14, 24, 28, 29]\n",
      "[15, 16, 17, 18, 19, 20, 21, 22, 23, 24, 27, 28] --> [1, 2, 3, 4, 5, 6, 7, 8, 9, 10, 11, 12, 13, 14, 25, 26, 29]\n",
      "[15, 16, 17, 18, 19, 20, 21, 22, 23, 24, 26, 28] --> [1, 2, 3, 4, 5, 6, 7, 8, 9, 10, 11, 12, 13, 14, 25, 27, 29]\n",
      "[15, 16, 17, 18, 19, 20, 21, 22, 23, 24, 26, 27] --> [1, 2, 3, 4, 5, 6, 7, 8, 9, 10, 11, 12, 13, 14, 25, 28, 29]\n",
      "[15, 16, 17, 18, 19, 20, 21, 22, 23, 24, 25, 28] --> [1, 2, 3, 4, 5, 6, 7, 8, 9, 10, 11, 12, 13, 14, 26, 27, 29]\n",
      "[15, 16, 17, 18, 19, 20, 21, 22, 23, 24, 25, 27] --> [1, 2, 3, 4, 5, 6, 7, 8, 9, 10, 11, 12, 13, 14, 26, 28, 29]\n",
      "[15, 16, 17, 18, 19, 20, 21, 22, 23, 24, 25, 26] --> [1, 2, 3, 4, 5, 6, 7, 8, 9, 10, 11, 12, 13, 14, 27, 28, 29]\n",
      "[14, 16, 18, 19, 20, 21, 22, 23, 24, 25, 29, 31] --> [1, 2, 3, 4, 5, 6, 7, 8, 9, 10, 11, 12, 13, 15, 17, 26, 27]\n",
      "[14, 16, 17, 19, 20, 21, 22, 23, 24, 25, 29] --> [1, 2, 3, 4, 5, 6, 7, 8, 9, 10, 11, 12, 13, 15, 18, 26, 27]\n",
      "[14, 16, 17, 18, 20, 21, 22, 23, 24, 25, 29] --> [1, 2, 3, 4, 5, 6, 7, 8, 9, 10, 11, 12, 13, 15, 19, 26, 27]\n",
      "[14, 16, 17, 18, 19, 21, 22, 23, 24, 25, 29] --> [1, 2, 3, 4, 5, 6, 7, 8, 9, 10, 11, 12, 13, 15, 20, 26, 27]\n",
      "[14, 16, 17, 18, 19, 20, 22, 23, 24, 25, 29] --> [1, 2, 3, 4, 5, 6, 7, 8, 9, 10, 11, 12, 13, 15, 21, 26, 27]\n",
      "[14, 16, 17, 18, 19, 20, 21, 23, 24, 25, 29] --> [1, 2, 3, 4, 5, 6, 7, 8, 9, 10, 11, 12, 13, 15, 22, 26, 27]\n",
      "[14, 16, 17, 18, 19, 20, 21, 22, 24, 25, 29] --> [1, 2, 3, 4, 5, 6, 7, 8, 9, 10, 11, 12, 13, 15, 23, 26, 27]\n",
      "[14, 16, 17, 18, 19, 20, 21, 22, 23, 25, 29] --> [1, 2, 3, 4, 5, 6, 7, 8, 9, 10, 11, 12, 13, 15, 24, 26, 27]\n",
      "[14, 16, 17, 18, 19, 20, 21, 22, 23, 24, 29] --> [1, 2, 3, 4, 5, 6, 7, 8, 9, 10, 11, 12, 13, 15, 25, 26, 27]\n",
      "[14, 15, 18, 19, 20, 21, 22, 23, 24, 26, 31] --> [1, 2, 3, 4, 5, 6, 7, 8, 9, 10, 11, 12, 13, 16, 17, 25, 27]\n",
      "[14, 15, 17, 19, 20, 21, 22, 23, 24, 25] --> [1, 2, 3, 4, 5, 6, 7, 8, 9, 10, 11, 12, 13, 16, 18, 26, 27]\n",
      "[14, 15, 17, 18, 20, 21, 22, 23, 24, 26] --> [1, 2, 3, 4, 5, 6, 7, 8, 9, 10, 11, 12, 13, 16, 19, 25, 27]\n",
      "[14, 15, 17, 18, 20, 21, 22, 23, 24, 25] --> [1, 2, 3, 4, 5, 6, 7, 8, 9, 10, 11, 12, 13, 16, 19, 26, 27]\n",
      "[14, 15, 17, 18, 19, 21, 22, 23, 24, 26] --> [1, 2, 3, 4, 5, 6, 7, 8, 9, 10, 11, 12, 13, 16, 20, 25, 27]\n",
      "[14, 15, 17, 18, 19, 21, 22, 23, 24, 25] --> [1, 2, 3, 4, 5, 6, 7, 8, 9, 10, 11, 12, 13, 16, 20, 26, 27]\n",
      "[14, 15, 17, 18, 19, 20, 22, 23, 24, 26] --> [1, 2, 3, 4, 5, 6, 7, 8, 9, 10, 11, 12, 13, 16, 21, 25, 27]\n",
      "[14, 15, 17, 18, 19, 20, 22, 23, 24, 25] --> [1, 2, 3, 4, 5, 6, 7, 8, 9, 10, 11, 12, 13, 16, 21, 26, 27]\n",
      "[14, 15, 17, 18, 19, 20, 21, 23, 24, 26] --> [1, 2, 3, 4, 5, 6, 7, 8, 9, 10, 11, 12, 13, 16, 22, 25, 27]\n",
      "[14, 15, 17, 18, 19, 20, 21, 23, 24, 25] --> [1, 2, 3, 4, 5, 6, 7, 8, 9, 10, 11, 12, 13, 16, 22, 26, 27]\n",
      "[14, 15, 17, 18, 19, 20, 21, 22, 24, 26] --> [1, 2, 3, 4, 5, 6, 7, 8, 9, 10, 11, 12, 13, 16, 23, 25, 27]\n",
      "[14, 15, 17, 18, 19, 20, 21, 22, 24, 25] --> [1, 2, 3, 4, 5, 6, 7, 8, 9, 10, 11, 12, 13, 16, 23, 26, 27]\n",
      "[14, 15, 17, 18, 19, 20, 21, 22, 23, 26] --> [1, 2, 3, 4, 5, 6, 7, 8, 9, 10, 11, 12, 13, 16, 24, 25, 27]\n",
      "[14, 15, 17, 18, 19, 20, 21, 22, 23, 25] --> [1, 2, 3, 4, 5, 6, 7, 8, 9, 10, 11, 12, 13, 16, 24, 26, 27]\n",
      "[14, 15, 17, 18, 19, 20, 21, 22, 23, 24] --> [1, 2, 3, 4, 5, 6, 7, 8, 9, 10, 11, 12, 13, 16, 25, 26, 27]\n",
      "[14, 15, 16, 19, 20, 21, 22, 23, 25, 26] --> [1, 2, 3, 4, 5, 6, 7, 8, 9, 10, 11, 12, 13, 17, 18, 24, 27]\n",
      "[14, 15, 16, 19, 20, 21, 22, 23, 24, 26] --> [1, 2, 3, 4, 5, 6, 7, 8, 9, 10, 11, 12, 13, 17, 18, 25, 27]\n",
      "[14, 15, 16, 18, 20, 21, 22, 23, 25, 26] --> [1, 2, 3, 4, 5, 6, 7, 8, 9, 10, 11, 12, 13, 17, 19, 24, 27]\n",
      "[14, 15, 16, 18, 20, 21, 22, 23, 24, 25] --> [1, 2, 3, 4, 5, 6, 7, 8, 9, 10, 11, 12, 13, 17, 19, 26, 27]\n",
      "[14, 15, 16, 18, 19, 21, 22, 23, 24, 26] --> [1, 2, 3, 4, 5, 6, 7, 8, 9, 10, 11, 12, 13, 17, 20, 25, 27]\n",
      "[14, 15, 16, 18, 19, 21, 22, 23, 24, 25] --> [1, 2, 3, 4, 5, 6, 7, 8, 9, 10, 11, 12, 13, 17, 20, 26, 27]\n",
      "[14, 15, 16, 18, 19, 20, 22, 23, 25, 26] --> [1, 2, 3, 4, 5, 6, 7, 8, 9, 10, 11, 12, 13, 17, 21, 24, 27]\n",
      "[14, 15, 16, 18, 19, 20, 22, 23, 24, 26] --> [1, 2, 3, 4, 5, 6, 7, 8, 9, 10, 11, 12, 13, 17, 21, 25, 27]\n",
      "[14, 15, 16, 18, 19, 20, 22, 23, 24, 25] --> [1, 2, 3, 4, 5, 6, 7, 8, 9, 10, 11, 12, 13, 17, 21, 26, 27]\n"
     ]
    },
    {
     "name": "stdout",
     "output_type": "stream",
     "text": [
      "[14, 15, 16, 18, 19, 20, 21, 23, 25, 26] --> [1, 2, 3, 4, 5, 6, 7, 8, 9, 10, 11, 12, 13, 17, 22, 24, 27]\n",
      "[14, 15, 16, 18, 19, 20, 21, 23, 24, 26] --> [1, 2, 3, 4, 5, 6, 7, 8, 9, 10, 11, 12, 13, 17, 22, 25, 27]\n",
      "[14, 15, 16, 18, 19, 20, 21, 23, 24, 25] --> [1, 2, 3, 4, 5, 6, 7, 8, 9, 10, 11, 12, 13, 17, 22, 26, 27]\n",
      "[14, 15, 16, 18, 19, 20, 21, 22, 25, 26] --> [1, 2, 3, 4, 5, 6, 7, 8, 9, 10, 11, 12, 13, 17, 23, 24, 27]\n",
      "[14, 15, 16, 18, 19, 20, 21, 22, 24, 26] --> [1, 2, 3, 4, 5, 6, 7, 8, 9, 10, 11, 12, 13, 17, 23, 25, 27]\n",
      "[14, 15, 16, 18, 19, 20, 21, 22, 24, 25] --> [1, 2, 3, 4, 5, 6, 7, 8, 9, 10, 11, 12, 13, 17, 23, 26, 27]\n",
      "[14, 15, 16, 18, 19, 20, 21, 22, 23, 26] --> [1, 2, 3, 4, 5, 6, 7, 8, 9, 10, 11, 12, 13, 17, 24, 25, 27]\n",
      "[14, 15, 16, 18, 19, 20, 21, 22, 23, 25] --> [1, 2, 3, 4, 5, 6, 7, 8, 9, 10, 11, 12, 13, 17, 24, 26, 27]\n",
      "[14, 15, 16, 18, 19, 20, 21, 22, 23, 24] --> [1, 2, 3, 4, 5, 6, 7, 8, 9, 10, 11, 12, 13, 17, 25, 26, 27]\n",
      "[14, 15, 16, 17, 20, 21, 22, 24, 25, 26] --> [1, 2, 3, 4, 5, 6, 7, 8, 9, 10, 11, 12, 13, 18, 19, 23, 27]\n",
      "[14, 15, 16, 17, 20, 21, 22, 23, 25, 26] --> [1, 2, 3, 4, 5, 6, 7, 8, 9, 10, 11, 12, 13, 18, 19, 24, 27]\n",
      "[14, 15, 16, 17, 20, 21, 22, 23, 24, 26] --> [1, 2, 3, 4, 5, 6, 7, 8, 9, 10, 11, 12, 13, 18, 19, 25, 27]\n",
      "[14, 15, 16, 17, 19, 21, 22, 24, 25, 26] --> [1, 2, 3, 4, 5, 6, 7, 8, 9, 10, 11, 12, 13, 18, 20, 23, 27]\n",
      "[14, 15, 16, 17, 19, 21, 22, 23, 25, 26] --> [1, 2, 3, 4, 5, 6, 7, 8, 9, 10, 11, 12, 13, 18, 20, 24, 27]\n",
      "[14, 15, 16, 17, 19, 21, 22, 23, 24, 25] --> [1, 2, 3, 4, 5, 6, 7, 8, 9, 10, 11, 12, 13, 18, 20, 26, 27]\n",
      "[14, 15, 16, 17, 19, 20, 22, 24, 25, 26] --> [1, 2, 3, 4, 5, 6, 7, 8, 9, 10, 11, 12, 13, 18, 21, 23, 27]\n",
      "[14, 15, 16, 17, 19, 20, 22, 23, 25, 26] --> [1, 2, 3, 4, 5, 6, 7, 8, 9, 10, 11, 12, 13, 18, 21, 24, 27]\n",
      "[14, 15, 16, 17, 19, 20, 22, 23, 24, 26] --> [1, 2, 3, 4, 5, 6, 7, 8, 9, 10, 11, 12, 13, 18, 21, 25, 27]\n",
      "[14, 15, 16, 17, 19, 20, 22, 23, 24, 25] --> [1, 2, 3, 4, 5, 6, 7, 8, 9, 10, 11, 12, 13, 18, 21, 26, 27]\n",
      "[14, 15, 16, 17, 19, 20, 21, 24, 25, 26] --> [1, 2, 3, 4, 5, 6, 7, 8, 9, 10, 11, 12, 13, 18, 22, 23, 27]\n",
      "[14, 15, 16, 17, 19, 20, 21, 23, 25, 26] --> [1, 2, 3, 4, 5, 6, 7, 8, 9, 10, 11, 12, 13, 18, 22, 24, 27]\n",
      "[14, 15, 16, 17, 19, 20, 21, 23, 24, 26] --> [1, 2, 3, 4, 5, 6, 7, 8, 9, 10, 11, 12, 13, 18, 22, 25, 27]\n",
      "[14, 15, 16, 17, 19, 20, 21, 23, 24, 25] --> [1, 2, 3, 4, 5, 6, 7, 8, 9, 10, 11, 12, 13, 18, 22, 26, 27]\n",
      "[14, 15, 16, 17, 19, 20, 21, 22, 25, 26] --> [1, 2, 3, 4, 5, 6, 7, 8, 9, 10, 11, 12, 13, 18, 23, 24, 27]\n",
      "[14, 15, 16, 17, 19, 20, 21, 22, 24, 26] --> [1, 2, 3, 4, 5, 6, 7, 8, 9, 10, 11, 12, 13, 18, 23, 25, 27]\n",
      "[14, 15, 16, 17, 19, 20, 21, 22, 24, 25] --> [1, 2, 3, 4, 5, 6, 7, 8, 9, 10, 11, 12, 13, 18, 23, 26, 27]\n",
      "[14, 15, 16, 17, 19, 20, 21, 22, 23, 26] --> [1, 2, 3, 4, 5, 6, 7, 8, 9, 10, 11, 12, 13, 18, 24, 25, 27]\n",
      "[14, 15, 16, 17, 19, 20, 21, 22, 23, 25] --> [1, 2, 3, 4, 5, 6, 7, 8, 9, 10, 11, 12, 13, 18, 24, 26, 27]\n",
      "[14, 15, 16, 17, 19, 20, 21, 22, 23, 24] --> [1, 2, 3, 4, 5, 6, 7, 8, 9, 10, 11, 12, 13, 18, 25, 26, 27]\n",
      "[14, 15, 16, 17, 18, 21, 23, 24, 25, 26] --> [1, 2, 3, 4, 5, 6, 7, 8, 9, 10, 11, 12, 13, 19, 20, 22, 27]\n",
      "[14, 15, 16, 17, 18, 21, 22, 24, 25, 26] --> [1, 2, 3, 4, 5, 6, 7, 8, 9, 10, 11, 12, 13, 19, 20, 23, 27]\n",
      "[14, 15, 16, 17, 18, 21, 22, 23, 25, 26] --> [1, 2, 3, 4, 5, 6, 7, 8, 9, 10, 11, 12, 13, 19, 20, 24, 27]\n",
      "[14, 15, 16, 17, 18, 21, 22, 23, 24, 26] --> [1, 2, 3, 4, 5, 6, 7, 8, 9, 10, 11, 12, 13, 19, 20, 25, 27]\n",
      "[14, 15, 16, 17, 18, 20, 23, 24, 25, 26] --> [1, 2, 3, 4, 5, 6, 7, 8, 9, 10, 11, 12, 13, 19, 21, 22, 27]\n",
      "[14, 15, 16, 17, 18, 20, 22, 24, 25, 26] --> [1, 2, 3, 4, 5, 6, 7, 8, 9, 10, 11, 12, 13, 19, 21, 23, 27]\n",
      "[14, 15, 16, 17, 18, 20, 22, 23, 25, 26] --> [1, 2, 3, 4, 5, 6, 7, 8, 9, 10, 11, 12, 13, 19, 21, 24, 27]\n",
      "[14, 15, 16, 17, 18, 20, 22, 23, 24, 26] --> [1, 2, 3, 4, 5, 6, 7, 8, 9, 10, 11, 12, 13, 19, 21, 25, 27]\n",
      "[14, 15, 16, 17, 18, 20, 22, 23, 24, 25] --> [1, 2, 3, 4, 5, 6, 7, 8, 9, 10, 11, 12, 13, 19, 21, 26, 27]\n",
      "[14, 15, 16, 17, 18, 20, 21, 24, 25, 26] --> [1, 2, 3, 4, 5, 6, 7, 8, 9, 10, 11, 12, 13, 19, 22, 23, 27]\n",
      "[14, 15, 16, 17, 18, 20, 21, 23, 25, 26] --> [1, 2, 3, 4, 5, 6, 7, 8, 9, 10, 11, 12, 13, 19, 22, 24, 27]\n",
      "[14, 15, 16, 17, 18, 20, 21, 23, 24, 26] --> [1, 2, 3, 4, 5, 6, 7, 8, 9, 10, 11, 12, 13, 19, 22, 25, 27]\n",
      "[14, 15, 16, 17, 18, 20, 21, 23, 24, 25] --> [1, 2, 3, 4, 5, 6, 7, 8, 9, 10, 11, 12, 13, 19, 22, 26, 27]\n",
      "[14, 15, 16, 17, 18, 20, 21, 22, 25, 26] --> [1, 2, 3, 4, 5, 6, 7, 8, 9, 10, 11, 12, 13, 19, 23, 24, 27]\n",
      "[14, 15, 16, 17, 18, 20, 21, 22, 24, 26] --> [1, 2, 3, 4, 5, 6, 7, 8, 9, 10, 11, 12, 13, 19, 23, 25, 27]\n",
      "[14, 15, 16, 17, 18, 20, 21, 22, 24, 25] --> [1, 2, 3, 4, 5, 6, 7, 8, 9, 10, 11, 12, 13, 19, 23, 26, 27]\n",
      "[14, 15, 16, 17, 18, 20, 21, 22, 23, 26] --> [1, 2, 3, 4, 5, 6, 7, 8, 9, 10, 11, 12, 13, 19, 24, 25, 27]\n",
      "[14, 15, 16, 17, 18, 20, 21, 22, 23, 25] --> [1, 2, 3, 4, 5, 6, 7, 8, 9, 10, 11, 12, 13, 19, 24, 26, 27]\n",
      "[14, 15, 16, 17, 18, 20, 21, 22, 23, 24] --> [1, 2, 3, 4, 5, 6, 7, 8, 9, 10, 11, 12, 13, 19, 25, 26, 27]\n",
      "[14, 15, 16, 17, 18, 19, 23, 24, 25, 26] --> [1, 2, 3, 4, 5, 6, 7, 8, 9, 10, 11, 12, 13, 20, 21, 22, 27]\n",
      "[14, 15, 16, 17, 18, 19, 22, 24, 25, 26] --> [1, 2, 3, 4, 5, 6, 7, 8, 9, 10, 11, 12, 13, 20, 21, 23, 27]\n",
      "[14, 15, 16, 17, 18, 19, 22, 23, 25, 26] --> [1, 2, 3, 4, 5, 6, 7, 8, 9, 10, 11, 12, 13, 20, 21, 24, 27]\n",
      "[14, 15, 16, 17, 18, 19, 22, 23, 24, 26] --> [1, 2, 3, 4, 5, 6, 7, 8, 9, 10, 11, 12, 13, 20, 21, 25, 27]\n",
      "[14, 15, 16, 17, 18, 19, 22, 23, 24, 25] --> [1, 2, 3, 4, 5, 6, 7, 8, 9, 10, 11, 12, 13, 20, 21, 26, 27]\n",
      "[14, 15, 16, 17, 18, 19, 21, 24, 25, 26] --> [1, 2, 3, 4, 5, 6, 7, 8, 9, 10, 11, 12, 13, 20, 22, 23, 27]\n",
      "[14, 15, 16, 17, 18, 19, 21, 23, 25, 26] --> [1, 2, 3, 4, 5, 6, 7, 8, 9, 10, 11, 12, 13, 20, 22, 24, 27]\n",
      "[14, 15, 16, 17, 18, 19, 21, 23, 24, 26] --> [1, 2, 3, 4, 5, 6, 7, 8, 9, 10, 11, 12, 13, 20, 22, 25, 27]\n",
      "[14, 15, 16, 17, 18, 19, 21, 23, 24, 25] --> [1, 2, 3, 4, 5, 6, 7, 8, 9, 10, 11, 12, 13, 20, 22, 26, 27]\n",
      "[14, 15, 16, 17, 18, 19, 21, 22, 25, 26] --> [1, 2, 3, 4, 5, 6, 7, 8, 9, 10, 11, 12, 13, 20, 23, 24, 27]\n",
      "[14, 15, 16, 17, 18, 19, 21, 22, 24, 26] --> [1, 2, 3, 4, 5, 6, 7, 8, 9, 10, 11, 12, 13, 20, 23, 25, 27]\n",
      "[14, 15, 16, 17, 18, 19, 21, 22, 24, 25] --> [1, 2, 3, 4, 5, 6, 7, 8, 9, 10, 11, 12, 13, 20, 23, 26, 27]\n",
      "[14, 15, 16, 17, 18, 19, 21, 22, 23, 26] --> [1, 2, 3, 4, 5, 6, 7, 8, 9, 10, 11, 12, 13, 20, 24, 25, 27]\n",
      "[14, 15, 16, 17, 18, 19, 21, 22, 23, 25] --> [1, 2, 3, 4, 5, 6, 7, 8, 9, 10, 11, 12, 13, 20, 24, 26, 27]\n",
      "[14, 15, 16, 17, 18, 19, 21, 22, 23, 24] --> [1, 2, 3, 4, 5, 6, 7, 8, 9, 10, 11, 12, 13, 20, 25, 26, 27]\n",
      "[14, 15, 16, 17, 18, 19, 20, 24, 25, 26] --> [1, 2, 3, 4, 5, 6, 7, 8, 9, 10, 11, 12, 13, 21, 22, 23, 27]\n",
      "[14, 15, 16, 17, 18, 19, 20, 23, 25, 26] --> [1, 2, 3, 4, 5, 6, 7, 8, 9, 10, 11, 12, 13, 21, 22, 24, 27]\n",
      "[14, 15, 16, 17, 18, 19, 20, 23, 24, 26] --> [1, 2, 3, 4, 5, 6, 7, 8, 9, 10, 11, 12, 13, 21, 22, 25, 27]\n",
      "[14, 15, 16, 17, 18, 19, 20, 23, 24, 25] --> [1, 2, 3, 4, 5, 6, 7, 8, 9, 10, 11, 12, 13, 21, 22, 26, 27]\n",
      "[14, 15, 16, 17, 18, 19, 20, 22, 25, 26] --> [1, 2, 3, 4, 5, 6, 7, 8, 9, 10, 11, 12, 13, 21, 23, 24, 27]\n",
      "[14, 15, 16, 17, 18, 19, 20, 22, 24, 26] --> [1, 2, 3, 4, 5, 6, 7, 8, 9, 10, 11, 12, 13, 21, 23, 25, 27]\n",
      "[14, 15, 16, 17, 18, 19, 20, 22, 24, 25] --> [1, 2, 3, 4, 5, 6, 7, 8, 9, 10, 11, 12, 13, 21, 23, 26, 27]\n",
      "[14, 15, 16, 17, 18, 19, 20, 22, 23, 26] --> [1, 2, 3, 4, 5, 6, 7, 8, 9, 10, 11, 12, 13, 21, 24, 25, 27]\n",
      "[14, 15, 16, 17, 18, 19, 20, 22, 23, 25] --> [1, 2, 3, 4, 5, 6, 7, 8, 9, 10, 11, 12, 13, 21, 24, 26, 27]\n",
      "[14, 15, 16, 17, 18, 19, 20, 22, 23, 24] --> [1, 2, 3, 4, 5, 6, 7, 8, 9, 10, 11, 12, 13, 21, 25, 26, 27]\n",
      "[14, 15, 16, 17, 18, 19, 20, 21, 25, 26] --> [1, 2, 3, 4, 5, 6, 7, 8, 9, 10, 11, 12, 13, 22, 23, 24, 27]\n",
      "[14, 15, 16, 17, 18, 19, 20, 21, 24, 26] --> [1, 2, 3, 4, 5, 6, 7, 8, 9, 10, 11, 12, 13, 22, 23, 25, 27]\n",
      "[14, 15, 16, 17, 18, 19, 20, 21, 24, 25] --> [1, 2, 3, 4, 5, 6, 7, 8, 9, 10, 11, 12, 13, 22, 23, 26, 27]\n",
      "[14, 15, 16, 17, 18, 19, 20, 21, 23, 26] --> [1, 2, 3, 4, 5, 6, 7, 8, 9, 10, 11, 12, 13, 22, 24, 25, 27]\n",
      "[14, 15, 16, 17, 18, 19, 20, 21, 23, 25] --> [1, 2, 3, 4, 5, 6, 7, 8, 9, 10, 11, 12, 13, 22, 24, 26, 27]\n",
      "[14, 15, 16, 17, 18, 19, 20, 21, 23, 24] --> [1, 2, 3, 4, 5, 6, 7, 8, 9, 10, 11, 12, 13, 22, 25, 26, 27]\n"
     ]
    },
    {
     "name": "stdout",
     "output_type": "stream",
     "text": [
      "[14, 15, 16, 17, 18, 19, 20, 21, 22, 26] --> [1, 2, 3, 4, 5, 6, 7, 8, 9, 10, 11, 12, 13, 23, 24, 25, 27]\n",
      "[14, 15, 16, 17, 18, 19, 20, 21, 22, 25] --> [1, 2, 3, 4, 5, 6, 7, 8, 9, 10, 11, 12, 13, 23, 24, 26, 27]\n",
      "[14, 15, 16, 17, 18, 19, 20, 21, 22, 24] --> [1, 2, 3, 4, 5, 6, 7, 8, 9, 10, 11, 12, 13, 23, 25, 26, 27]\n",
      "[14, 15, 16, 17, 18, 19, 20, 21, 22, 23] --> [1, 2, 3, 4, 5, 6, 7, 8, 9, 10, 11, 12, 13, 24, 25, 26, 27]\n",
      "[13, 16, 17, 18, 19, 20, 21, 22, 27, 28] --> [1, 2, 3, 4, 5, 6, 7, 8, 9, 10, 11, 12, 14, 15, 23, 24, 25]\n",
      "[13, 15, 17, 19, 20, 21, 22, 23, 27, 29, 31] --> [1, 2, 3, 4, 5, 6, 7, 8, 9, 10, 11, 12, 14, 16, 18, 24, 25]\n",
      "[13, 15, 17, 18, 20, 21, 22, 23, 27, 29] --> [1, 2, 3, 4, 5, 6, 7, 8, 9, 10, 11, 12, 14, 16, 19, 24, 25]\n",
      "[13, 15, 17, 18, 19, 21, 22, 23, 27, 29] --> [1, 2, 3, 4, 5, 6, 7, 8, 9, 10, 11, 12, 14, 16, 20, 24, 25]\n",
      "[13, 15, 17, 18, 19, 20, 22, 23, 27, 29] --> [1, 2, 3, 4, 5, 6, 7, 8, 9, 10, 11, 12, 14, 16, 21, 24, 25]\n",
      "[13, 15, 17, 18, 19, 20, 21, 23, 27, 29] --> [1, 2, 3, 4, 5, 6, 7, 8, 9, 10, 11, 12, 14, 16, 22, 24, 25]\n",
      "[13, 15, 17, 18, 19, 20, 21, 22, 27, 29] --> [1, 2, 3, 4, 5, 6, 7, 8, 9, 10, 11, 12, 14, 16, 23, 24, 25]\n",
      "[13, 15, 16, 18, 20, 21, 22, 23, 27] --> [1, 2, 3, 4, 5, 6, 7, 8, 9, 10, 11, 12, 14, 17, 19, 24, 25]\n",
      "[13, 15, 16, 18, 19, 21, 22, 23, 27] --> [1, 2, 3, 4, 5, 6, 7, 8, 9, 10, 11, 12, 14, 17, 20, 24, 25]\n",
      "[13, 15, 16, 18, 19, 20, 22, 23, 27] --> [1, 2, 3, 4, 5, 6, 7, 8, 9, 10, 11, 12, 14, 17, 21, 24, 25]\n",
      "[13, 15, 16, 18, 19, 20, 21, 23, 27] --> [1, 2, 3, 4, 5, 6, 7, 8, 9, 10, 11, 12, 14, 17, 22, 24, 25]\n",
      "[13, 15, 16, 18, 19, 20, 21, 22, 27] --> [1, 2, 3, 4, 5, 6, 7, 8, 9, 10, 11, 12, 14, 17, 23, 24, 25]\n",
      "[13, 15, 16, 17, 20, 21, 22, 23, 27] --> [1, 2, 3, 4, 5, 6, 7, 8, 9, 10, 11, 12, 14, 18, 19, 24, 25]\n",
      "[13, 15, 16, 17, 19, 21, 22, 23, 27] --> [1, 2, 3, 4, 5, 6, 7, 8, 9, 10, 11, 12, 14, 18, 20, 24, 25]\n",
      "[13, 15, 16, 17, 19, 20, 22, 23, 27] --> [1, 2, 3, 4, 5, 6, 7, 8, 9, 10, 11, 12, 14, 18, 21, 24, 25]\n",
      "[13, 15, 16, 17, 19, 20, 21, 23, 27] --> [1, 2, 3, 4, 5, 6, 7, 8, 9, 10, 11, 12, 14, 18, 22, 24, 25]\n",
      "[13, 15, 16, 17, 19, 20, 21, 22, 27] --> [1, 2, 3, 4, 5, 6, 7, 8, 9, 10, 11, 12, 14, 18, 23, 24, 25]\n",
      "[13, 15, 16, 17, 18, 21, 22, 23, 27] --> [1, 2, 3, 4, 5, 6, 7, 8, 9, 10, 11, 12, 14, 19, 20, 24, 25]\n",
      "[13, 15, 16, 17, 18, 20, 22, 23, 27] --> [1, 2, 3, 4, 5, 6, 7, 8, 9, 10, 11, 12, 14, 19, 21, 24, 25]\n",
      "[13, 15, 16, 17, 18, 20, 21, 23, 27] --> [1, 2, 3, 4, 5, 6, 7, 8, 9, 10, 11, 12, 14, 19, 22, 24, 25]\n",
      "[13, 15, 16, 17, 18, 20, 21, 22, 27] --> [1, 2, 3, 4, 5, 6, 7, 8, 9, 10, 11, 12, 14, 19, 23, 24, 25]\n",
      "[13, 15, 16, 17, 18, 19, 22, 23, 27] --> [1, 2, 3, 4, 5, 6, 7, 8, 9, 10, 11, 12, 14, 20, 21, 24, 25]\n",
      "[13, 15, 16, 17, 18, 19, 21, 23, 27] --> [1, 2, 3, 4, 5, 6, 7, 8, 9, 10, 11, 12, 14, 20, 22, 24, 25]\n",
      "[13, 15, 16, 17, 18, 19, 21, 22, 27] --> [1, 2, 3, 4, 5, 6, 7, 8, 9, 10, 11, 12, 14, 20, 23, 24, 25]\n",
      "[13, 15, 16, 17, 18, 19, 20, 23, 27] --> [1, 2, 3, 4, 5, 6, 7, 8, 9, 10, 11, 12, 14, 21, 22, 24, 25]\n",
      "[13, 15, 16, 17, 18, 19, 20, 22, 27] --> [1, 2, 3, 4, 5, 6, 7, 8, 9, 10, 11, 12, 14, 21, 23, 24, 25]\n",
      "[13, 15, 16, 17, 18, 19, 20, 21, 27] --> [1, 2, 3, 4, 5, 6, 7, 8, 9, 10, 11, 12, 14, 22, 23, 24, 25]\n",
      "[13, 14, 17, 18, 20, 21, 22, 24, 29] --> [1, 2, 3, 4, 5, 6, 7, 8, 9, 10, 11, 12, 15, 16, 19, 23, 25]\n",
      "[13, 14, 17, 18, 19, 21, 22, 24, 29] --> [1, 2, 3, 4, 5, 6, 7, 8, 9, 10, 11, 12, 15, 16, 20, 23, 25]\n",
      "[13, 14, 17, 18, 19, 20, 22, 24, 29] --> [1, 2, 3, 4, 5, 6, 7, 8, 9, 10, 11, 12, 15, 16, 21, 23, 25]\n",
      "[13, 14, 17, 18, 19, 20, 21, 24, 29] --> [1, 2, 3, 4, 5, 6, 7, 8, 9, 10, 11, 12, 15, 16, 22, 23, 25]\n",
      "[13, 14, 17, 18, 19, 20, 21, 23, 29] --> [1, 2, 3, 4, 5, 6, 7, 8, 9, 10, 11, 12, 15, 16, 22, 24, 25]\n",
      "[13, 14, 17, 18, 19, 20, 21, 22, 29] --> [1, 2, 3, 4, 5, 6, 7, 8, 9, 10, 11, 12, 15, 16, 23, 24, 25]\n",
      "[13, 14, 16, 18, 20, 21, 22, 23] --> [1, 2, 3, 4, 5, 6, 7, 8, 9, 10, 11, 12, 15, 17, 19, 24, 25]\n",
      "[13, 14, 16, 18, 19, 21, 22, 23] --> [1, 2, 3, 4, 5, 6, 7, 8, 9, 10, 11, 12, 15, 17, 20, 24, 25]\n",
      "[13, 14, 16, 18, 19, 20, 22, 24] --> [1, 2, 3, 4, 5, 6, 7, 8, 9, 10, 11, 12, 15, 17, 21, 23, 25]\n",
      "[13, 14, 16, 18, 19, 20, 22, 23] --> [1, 2, 3, 4, 5, 6, 7, 8, 9, 10, 11, 12, 15, 17, 21, 24, 25]\n",
      "[13, 14, 16, 18, 19, 20, 21, 24] --> [1, 2, 3, 4, 5, 6, 7, 8, 9, 10, 11, 12, 15, 17, 22, 23, 25]\n",
      "[13, 14, 16, 18, 19, 20, 21, 23] --> [1, 2, 3, 4, 5, 6, 7, 8, 9, 10, 11, 12, 15, 17, 22, 24, 25]\n",
      "[13, 14, 16, 18, 19, 20, 21, 22] --> [1, 2, 3, 4, 5, 6, 7, 8, 9, 10, 11, 12, 15, 17, 23, 24, 25]\n",
      "[13, 14, 16, 17, 20, 21, 22, 24] --> [1, 2, 3, 4, 5, 6, 7, 8, 9, 10, 11, 12, 15, 18, 19, 23, 25]\n",
      "[13, 14, 16, 17, 20, 21, 22, 23] --> [1, 2, 3, 4, 5, 6, 7, 8, 9, 10, 11, 12, 15, 18, 19, 24, 25]\n",
      "[13, 14, 16, 17, 19, 21, 22, 24] --> [1, 2, 3, 4, 5, 6, 7, 8, 9, 10, 11, 12, 15, 18, 20, 23, 25]\n",
      "[13, 14, 16, 17, 19, 21, 22, 23] --> [1, 2, 3, 4, 5, 6, 7, 8, 9, 10, 11, 12, 15, 18, 20, 24, 25]\n",
      "[13, 14, 16, 17, 19, 20, 22, 24] --> [1, 2, 3, 4, 5, 6, 7, 8, 9, 10, 11, 12, 15, 18, 21, 23, 25]\n",
      "[13, 14, 16, 17, 19, 20, 22, 23] --> [1, 2, 3, 4, 5, 6, 7, 8, 9, 10, 11, 12, 15, 18, 21, 24, 25]\n",
      "[13, 14, 16, 17, 19, 20, 21, 24] --> [1, 2, 3, 4, 5, 6, 7, 8, 9, 10, 11, 12, 15, 18, 22, 23, 25]\n",
      "[13, 14, 16, 17, 19, 20, 21, 23] --> [1, 2, 3, 4, 5, 6, 7, 8, 9, 10, 11, 12, 15, 18, 22, 24, 25]\n",
      "[13, 14, 16, 17, 19, 20, 21, 22] --> [1, 2, 3, 4, 5, 6, 7, 8, 9, 10, 11, 12, 15, 18, 23, 24, 25]\n",
      "[13, 14, 16, 17, 18, 21, 22, 24] --> [1, 2, 3, 4, 5, 6, 7, 8, 9, 10, 11, 12, 15, 19, 20, 23, 25]\n",
      "[13, 14, 16, 17, 18, 21, 22, 23] --> [1, 2, 3, 4, 5, 6, 7, 8, 9, 10, 11, 12, 15, 19, 20, 24, 25]\n",
      "[13, 14, 16, 17, 18, 20, 22, 24] --> [1, 2, 3, 4, 5, 6, 7, 8, 9, 10, 11, 12, 15, 19, 21, 23, 25]\n",
      "[13, 14, 16, 17, 18, 20, 22, 23] --> [1, 2, 3, 4, 5, 6, 7, 8, 9, 10, 11, 12, 15, 19, 21, 24, 25]\n",
      "[13, 14, 16, 17, 18, 20, 21, 24] --> [1, 2, 3, 4, 5, 6, 7, 8, 9, 10, 11, 12, 15, 19, 22, 23, 25]\n",
      "[13, 14, 16, 17, 18, 20, 21, 23] --> [1, 2, 3, 4, 5, 6, 7, 8, 9, 10, 11, 12, 15, 19, 22, 24, 25]\n",
      "[13, 14, 16, 17, 18, 20, 21, 22] --> [1, 2, 3, 4, 5, 6, 7, 8, 9, 10, 11, 12, 15, 19, 23, 24, 25]\n",
      "[13, 14, 16, 17, 18, 19, 22, 24] --> [1, 2, 3, 4, 5, 6, 7, 8, 9, 10, 11, 12, 15, 20, 21, 23, 25]\n",
      "[13, 14, 16, 17, 18, 19, 22, 23] --> [1, 2, 3, 4, 5, 6, 7, 8, 9, 10, 11, 12, 15, 20, 21, 24, 25]\n",
      "[13, 14, 16, 17, 18, 19, 21, 24] --> [1, 2, 3, 4, 5, 6, 7, 8, 9, 10, 11, 12, 15, 20, 22, 23, 25]\n",
      "[13, 14, 16, 17, 18, 19, 21, 23] --> [1, 2, 3, 4, 5, 6, 7, 8, 9, 10, 11, 12, 15, 20, 22, 24, 25]\n",
      "[13, 14, 16, 17, 18, 19, 21, 22] --> [1, 2, 3, 4, 5, 6, 7, 8, 9, 10, 11, 12, 15, 20, 23, 24, 25]\n",
      "[13, 14, 16, 17, 18, 19, 20, 24] --> [1, 2, 3, 4, 5, 6, 7, 8, 9, 10, 11, 12, 15, 21, 22, 23, 25]\n",
      "[13, 14, 16, 17, 18, 19, 20, 23] --> [1, 2, 3, 4, 5, 6, 7, 8, 9, 10, 11, 12, 15, 21, 22, 24, 25]\n",
      "[13, 14, 16, 17, 18, 19, 20, 22] --> [1, 2, 3, 4, 5, 6, 7, 8, 9, 10, 11, 12, 15, 21, 23, 24, 25]\n",
      "[13, 14, 16, 17, 18, 19, 20, 21] --> [1, 2, 3, 4, 5, 6, 7, 8, 9, 10, 11, 12, 15, 22, 23, 24, 25]\n",
      "[13, 14, 15, 19, 20, 21, 23, 24, 31] --> [1, 2, 3, 4, 5, 6, 7, 8, 9, 10, 11, 12, 16, 17, 18, 22, 25]\n",
      "[13, 14, 15, 18, 20, 21, 23, 24] --> [1, 2, 3, 4, 5, 6, 7, 8, 9, 10, 11, 12, 16, 17, 19, 22, 25]\n",
      "[13, 14, 15, 18, 20, 21, 22, 24] --> [1, 2, 3, 4, 5, 6, 7, 8, 9, 10, 11, 12, 16, 17, 19, 23, 25]\n",
      "[13, 14, 15, 18, 19, 21, 23, 24] --> [1, 2, 3, 4, 5, 6, 7, 8, 9, 10, 11, 12, 16, 17, 20, 22, 25]\n",
      "[13, 14, 15, 18, 19, 21, 22, 24] --> [1, 2, 3, 4, 5, 6, 7, 8, 9, 10, 11, 12, 16, 17, 20, 23, 25]\n",
      "[13, 14, 15, 18, 19, 20, 23, 24] --> [1, 2, 3, 4, 5, 6, 7, 8, 9, 10, 11, 12, 16, 17, 21, 22, 25]\n",
      "[13, 14, 15, 18, 19, 20, 22, 24] --> [1, 2, 3, 4, 5, 6, 7, 8, 9, 10, 11, 12, 16, 17, 21, 23, 25]\n",
      "[13, 14, 15, 18, 19, 20, 22, 23] --> [1, 2, 3, 4, 5, 6, 7, 8, 9, 10, 11, 12, 16, 17, 21, 24, 25]\n",
      "[13, 14, 15, 18, 19, 20, 21, 24] --> [1, 2, 3, 4, 5, 6, 7, 8, 9, 10, 11, 12, 16, 17, 22, 23, 25]\n",
      "[13, 14, 15, 18, 19, 20, 21, 23] --> [1, 2, 3, 4, 5, 6, 7, 8, 9, 10, 11, 12, 16, 17, 22, 24, 25]\n",
      "[13, 14, 15, 18, 19, 20, 21, 22] --> [1, 2, 3, 4, 5, 6, 7, 8, 9, 10, 11, 12, 16, 17, 23, 24, 25]\n",
      "[13, 14, 15, 17, 20, 21, 23, 24] --> [1, 2, 3, 4, 5, 6, 7, 8, 9, 10, 11, 12, 16, 18, 19, 22, 25]\n",
      "[13, 14, 15, 17, 20, 21, 22, 23] --> [1, 2, 3, 4, 5, 6, 7, 8, 9, 10, 11, 12, 16, 18, 19, 24, 25]\n",
      "[13, 14, 15, 17, 19, 21, 23, 24] --> [1, 2, 3, 4, 5, 6, 7, 8, 9, 10, 11, 12, 16, 18, 20, 22, 25]\n",
      "[13, 14, 15, 17, 19, 21, 22, 24] --> [1, 2, 3, 4, 5, 6, 7, 8, 9, 10, 11, 12, 16, 18, 20, 23, 25]\n",
      "[13, 14, 15, 17, 19, 21, 22, 23] --> [1, 2, 3, 4, 5, 6, 7, 8, 9, 10, 11, 12, 16, 18, 20, 24, 25]\n"
     ]
    },
    {
     "name": "stdout",
     "output_type": "stream",
     "text": [
      "[13, 14, 15, 17, 19, 20, 23, 24] --> [1, 2, 3, 4, 5, 6, 7, 8, 9, 10, 11, 12, 16, 18, 21, 22, 25]\n",
      "[13, 14, 15, 17, 19, 20, 22, 24] --> [1, 2, 3, 4, 5, 6, 7, 8, 9, 10, 11, 12, 16, 18, 21, 23, 25]\n",
      "[13, 14, 15, 17, 19, 20, 22, 23] --> [1, 2, 3, 4, 5, 6, 7, 8, 9, 10, 11, 12, 16, 18, 21, 24, 25]\n",
      "[13, 14, 15, 17, 19, 20, 21, 24] --> [1, 2, 3, 4, 5, 6, 7, 8, 9, 10, 11, 12, 16, 18, 22, 23, 25]\n",
      "[13, 14, 15, 17, 19, 20, 21, 23] --> [1, 2, 3, 4, 5, 6, 7, 8, 9, 10, 11, 12, 16, 18, 22, 24, 25]\n",
      "[13, 14, 15, 17, 19, 20, 21, 22] --> [1, 2, 3, 4, 5, 6, 7, 8, 9, 10, 11, 12, 16, 18, 23, 24, 25]\n",
      "[13, 14, 15, 17, 18, 21, 23, 24] --> [1, 2, 3, 4, 5, 6, 7, 8, 9, 10, 11, 12, 16, 19, 20, 22, 25]\n",
      "[13, 14, 15, 17, 18, 21, 22, 24] --> [1, 2, 3, 4, 5, 6, 7, 8, 9, 10, 11, 12, 16, 19, 20, 23, 25]\n",
      "[13, 14, 15, 17, 18, 21, 22, 23] --> [1, 2, 3, 4, 5, 6, 7, 8, 9, 10, 11, 12, 16, 19, 20, 24, 25]\n",
      "[13, 14, 15, 17, 18, 20, 23, 24] --> [1, 2, 3, 4, 5, 6, 7, 8, 9, 10, 11, 12, 16, 19, 21, 22, 25]\n",
      "[13, 14, 15, 17, 18, 20, 22, 24] --> [1, 2, 3, 4, 5, 6, 7, 8, 9, 10, 11, 12, 16, 19, 21, 23, 25]\n",
      "[13, 14, 15, 17, 18, 20, 22, 23] --> [1, 2, 3, 4, 5, 6, 7, 8, 9, 10, 11, 12, 16, 19, 21, 24, 25]\n",
      "[13, 14, 15, 17, 18, 20, 21, 24] --> [1, 2, 3, 4, 5, 6, 7, 8, 9, 10, 11, 12, 16, 19, 22, 23, 25]\n",
      "[13, 14, 15, 17, 18, 20, 21, 23] --> [1, 2, 3, 4, 5, 6, 7, 8, 9, 10, 11, 12, 16, 19, 22, 24, 25]\n",
      "[13, 14, 15, 17, 18, 20, 21, 22] --> [1, 2, 3, 4, 5, 6, 7, 8, 9, 10, 11, 12, 16, 19, 23, 24, 25]\n",
      "[13, 14, 15, 17, 18, 19, 23, 24] --> [1, 2, 3, 4, 5, 6, 7, 8, 9, 10, 11, 12, 16, 20, 21, 22, 25]\n",
      "[13, 14, 15, 17, 18, 19, 22, 24] --> [1, 2, 3, 4, 5, 6, 7, 8, 9, 10, 11, 12, 16, 20, 21, 23, 25]\n",
      "[13, 14, 15, 17, 18, 19, 22, 23] --> [1, 2, 3, 4, 5, 6, 7, 8, 9, 10, 11, 12, 16, 20, 21, 24, 25]\n",
      "[13, 14, 15, 17, 18, 19, 21, 24] --> [1, 2, 3, 4, 5, 6, 7, 8, 9, 10, 11, 12, 16, 20, 22, 23, 25]\n",
      "[13, 14, 15, 17, 18, 19, 21, 23] --> [1, 2, 3, 4, 5, 6, 7, 8, 9, 10, 11, 12, 16, 20, 22, 24, 25]\n",
      "[13, 14, 15, 17, 18, 19, 21, 22] --> [1, 2, 3, 4, 5, 6, 7, 8, 9, 10, 11, 12, 16, 20, 23, 24, 25]\n",
      "[13, 14, 15, 17, 18, 19, 20, 24] --> [1, 2, 3, 4, 5, 6, 7, 8, 9, 10, 11, 12, 16, 21, 22, 23, 25]\n",
      "[13, 14, 15, 17, 18, 19, 20, 23] --> [1, 2, 3, 4, 5, 6, 7, 8, 9, 10, 11, 12, 16, 21, 22, 24, 25]\n",
      "[13, 14, 15, 17, 18, 19, 20, 22] --> [1, 2, 3, 4, 5, 6, 7, 8, 9, 10, 11, 12, 16, 21, 23, 24, 25]\n",
      "[13, 14, 15, 17, 18, 19, 20, 21] --> [1, 2, 3, 4, 5, 6, 7, 8, 9, 10, 11, 12, 16, 22, 23, 24, 25]\n",
      "[13, 14, 15, 16, 20, 22, 23, 24] --> [1, 2, 3, 4, 5, 6, 7, 8, 9, 10, 11, 12, 17, 18, 19, 21, 25]\n",
      "[13, 14, 15, 16, 20, 21, 23, 24] --> [1, 2, 3, 4, 5, 6, 7, 8, 9, 10, 11, 12, 17, 18, 19, 22, 25]\n",
      "[13, 14, 15, 16, 20, 21, 22, 24] --> [1, 2, 3, 4, 5, 6, 7, 8, 9, 10, 11, 12, 17, 18, 19, 23, 25]\n",
      "[13, 14, 15, 16, 19, 22, 23, 24] --> [1, 2, 3, 4, 5, 6, 7, 8, 9, 10, 11, 12, 17, 18, 20, 21, 25]\n",
      "[13, 14, 15, 16, 19, 21, 23, 24] --> [1, 2, 3, 4, 5, 6, 7, 8, 9, 10, 11, 12, 17, 18, 20, 22, 25]\n",
      "[13, 14, 15, 16, 19, 21, 22, 24] --> [1, 2, 3, 4, 5, 6, 7, 8, 9, 10, 11, 12, 17, 18, 20, 23, 25]\n",
      "[13, 14, 15, 16, 19, 21, 22, 23] --> [1, 2, 3, 4, 5, 6, 7, 8, 9, 10, 11, 12, 17, 18, 20, 24, 25]\n",
      "[13, 14, 15, 16, 19, 20, 23, 24] --> [1, 2, 3, 4, 5, 6, 7, 8, 9, 10, 11, 12, 17, 18, 21, 22, 25]\n",
      "[13, 14, 15, 16, 19, 20, 22, 24] --> [1, 2, 3, 4, 5, 6, 7, 8, 9, 10, 11, 12, 17, 18, 21, 23, 25]\n",
      "[13, 14, 15, 16, 19, 20, 22, 23] --> [1, 2, 3, 4, 5, 6, 7, 8, 9, 10, 11, 12, 17, 18, 21, 24, 25]\n",
      "[13, 14, 15, 16, 19, 20, 21, 24] --> [1, 2, 3, 4, 5, 6, 7, 8, 9, 10, 11, 12, 17, 18, 22, 23, 25]\n",
      "[13, 14, 15, 16, 19, 20, 21, 23] --> [1, 2, 3, 4, 5, 6, 7, 8, 9, 10, 11, 12, 17, 18, 22, 24, 25]\n",
      "[13, 14, 15, 16, 19, 20, 21, 22] --> [1, 2, 3, 4, 5, 6, 7, 8, 9, 10, 11, 12, 17, 18, 23, 24, 25]\n",
      "[13, 14, 15, 16, 18, 22, 23, 24] --> [1, 2, 3, 4, 5, 6, 7, 8, 9, 10, 11, 12, 17, 19, 20, 21, 25]\n",
      "[13, 14, 15, 16, 18, 21, 23, 24] --> [1, 2, 3, 4, 5, 6, 7, 8, 9, 10, 11, 12, 17, 19, 20, 22, 25]\n",
      "[13, 14, 15, 16, 18, 21, 22, 24] --> [1, 2, 3, 4, 5, 6, 7, 8, 9, 10, 11, 12, 17, 19, 20, 23, 25]\n",
      "[13, 14, 15, 16, 18, 21, 22, 23] --> [1, 2, 3, 4, 5, 6, 7, 8, 9, 10, 11, 12, 17, 19, 20, 24, 25]\n",
      "[13, 14, 15, 16, 18, 20, 23, 24] --> [1, 2, 3, 4, 5, 6, 7, 8, 9, 10, 11, 12, 17, 19, 21, 22, 25]\n",
      "[13, 14, 15, 16, 18, 20, 22, 24] --> [1, 2, 3, 4, 5, 6, 7, 8, 9, 10, 11, 12, 17, 19, 21, 23, 25]\n",
      "[13, 14, 15, 16, 18, 20, 22, 23] --> [1, 2, 3, 4, 5, 6, 7, 8, 9, 10, 11, 12, 17, 19, 21, 24, 25]\n",
      "[13, 14, 15, 16, 18, 20, 21, 24] --> [1, 2, 3, 4, 5, 6, 7, 8, 9, 10, 11, 12, 17, 19, 22, 23, 25]\n",
      "[13, 14, 15, 16, 18, 20, 21, 23] --> [1, 2, 3, 4, 5, 6, 7, 8, 9, 10, 11, 12, 17, 19, 22, 24, 25]\n",
      "[13, 14, 15, 16, 18, 20, 21, 22] --> [1, 2, 3, 4, 5, 6, 7, 8, 9, 10, 11, 12, 17, 19, 23, 24, 25]\n",
      "[13, 14, 15, 16, 18, 19, 23, 24] --> [1, 2, 3, 4, 5, 6, 7, 8, 9, 10, 11, 12, 17, 20, 21, 22, 25]\n",
      "[13, 14, 15, 16, 18, 19, 22, 24] --> [1, 2, 3, 4, 5, 6, 7, 8, 9, 10, 11, 12, 17, 20, 21, 23, 25]\n",
      "[13, 14, 15, 16, 18, 19, 22, 23] --> [1, 2, 3, 4, 5, 6, 7, 8, 9, 10, 11, 12, 17, 20, 21, 24, 25]\n",
      "[13, 14, 15, 16, 18, 19, 21, 24] --> [1, 2, 3, 4, 5, 6, 7, 8, 9, 10, 11, 12, 17, 20, 22, 23, 25]\n",
      "[13, 14, 15, 16, 18, 19, 21, 23] --> [1, 2, 3, 4, 5, 6, 7, 8, 9, 10, 11, 12, 17, 20, 22, 24, 25]\n",
      "[13, 14, 15, 16, 18, 19, 21, 22] --> [1, 2, 3, 4, 5, 6, 7, 8, 9, 10, 11, 12, 17, 20, 23, 24, 25]\n",
      "[13, 14, 15, 16, 18, 19, 20, 24] --> [1, 2, 3, 4, 5, 6, 7, 8, 9, 10, 11, 12, 17, 21, 22, 23, 25]\n",
      "[13, 14, 15, 16, 18, 19, 20, 23] --> [1, 2, 3, 4, 5, 6, 7, 8, 9, 10, 11, 12, 17, 21, 22, 24, 25]\n",
      "[13, 14, 15, 16, 18, 19, 20, 22] --> [1, 2, 3, 4, 5, 6, 7, 8, 9, 10, 11, 12, 17, 21, 23, 24, 25]\n",
      "[13, 14, 15, 16, 18, 19, 20, 21] --> [1, 2, 3, 4, 5, 6, 7, 8, 9, 10, 11, 12, 17, 22, 23, 24, 25]\n",
      "[13, 14, 15, 16, 17, 22, 23, 24] --> [1, 2, 3, 4, 5, 6, 7, 8, 9, 10, 11, 12, 18, 19, 20, 21, 25]\n",
      "[13, 14, 15, 16, 17, 21, 23, 24] --> [1, 2, 3, 4, 5, 6, 7, 8, 9, 10, 11, 12, 18, 19, 20, 22, 25]\n",
      "[13, 14, 15, 16, 17, 21, 22, 24] --> [1, 2, 3, 4, 5, 6, 7, 8, 9, 10, 11, 12, 18, 19, 20, 23, 25]\n",
      "[13, 14, 15, 16, 17, 21, 22, 23] --> [1, 2, 3, 4, 5, 6, 7, 8, 9, 10, 11, 12, 18, 19, 20, 24, 25]\n",
      "[13, 14, 15, 16, 17, 20, 23, 24] --> [1, 2, 3, 4, 5, 6, 7, 8, 9, 10, 11, 12, 18, 19, 21, 22, 25]\n",
      "[13, 14, 15, 16, 17, 20, 22, 24] --> [1, 2, 3, 4, 5, 6, 7, 8, 9, 10, 11, 12, 18, 19, 21, 23, 25]\n",
      "[13, 14, 15, 16, 17, 20, 22, 23] --> [1, 2, 3, 4, 5, 6, 7, 8, 9, 10, 11, 12, 18, 19, 21, 24, 25]\n",
      "[13, 14, 15, 16, 17, 20, 21, 24] --> [1, 2, 3, 4, 5, 6, 7, 8, 9, 10, 11, 12, 18, 19, 22, 23, 25]\n",
      "[13, 14, 15, 16, 17, 20, 21, 23] --> [1, 2, 3, 4, 5, 6, 7, 8, 9, 10, 11, 12, 18, 19, 22, 24, 25]\n",
      "[13, 14, 15, 16, 17, 20, 21, 22] --> [1, 2, 3, 4, 5, 6, 7, 8, 9, 10, 11, 12, 18, 19, 23, 24, 25]\n",
      "[13, 14, 15, 16, 17, 19, 23, 24] --> [1, 2, 3, 4, 5, 6, 7, 8, 9, 10, 11, 12, 18, 20, 21, 22, 25]\n",
      "[13, 14, 15, 16, 17, 19, 22, 24] --> [1, 2, 3, 4, 5, 6, 7, 8, 9, 10, 11, 12, 18, 20, 21, 23, 25]\n",
      "[13, 14, 15, 16, 17, 19, 22, 23] --> [1, 2, 3, 4, 5, 6, 7, 8, 9, 10, 11, 12, 18, 20, 21, 24, 25]\n",
      "[13, 14, 15, 16, 17, 19, 21, 24] --> [1, 2, 3, 4, 5, 6, 7, 8, 9, 10, 11, 12, 18, 20, 22, 23, 25]\n",
      "[13, 14, 15, 16, 17, 19, 21, 23] --> [1, 2, 3, 4, 5, 6, 7, 8, 9, 10, 11, 12, 18, 20, 22, 24, 25]\n",
      "[13, 14, 15, 16, 17, 19, 21, 22] --> [1, 2, 3, 4, 5, 6, 7, 8, 9, 10, 11, 12, 18, 20, 23, 24, 25]\n",
      "[13, 14, 15, 16, 17, 19, 20, 24] --> [1, 2, 3, 4, 5, 6, 7, 8, 9, 10, 11, 12, 18, 21, 22, 23, 25]\n",
      "[13, 14, 15, 16, 17, 19, 20, 23] --> [1, 2, 3, 4, 5, 6, 7, 8, 9, 10, 11, 12, 18, 21, 22, 24, 25]\n",
      "[13, 14, 15, 16, 17, 19, 20, 22] --> [1, 2, 3, 4, 5, 6, 7, 8, 9, 10, 11, 12, 18, 21, 23, 24, 25]\n",
      "[13, 14, 15, 16, 17, 19, 20, 21] --> [1, 2, 3, 4, 5, 6, 7, 8, 9, 10, 11, 12, 18, 22, 23, 24, 25]\n",
      "[13, 14, 15, 16, 17, 18, 23, 24] --> [1, 2, 3, 4, 5, 6, 7, 8, 9, 10, 11, 12, 19, 20, 21, 22, 25]\n",
      "[13, 14, 15, 16, 17, 18, 22, 24] --> [1, 2, 3, 4, 5, 6, 7, 8, 9, 10, 11, 12, 19, 20, 21, 23, 25]\n",
      "[13, 14, 15, 16, 17, 18, 22, 23] --> [1, 2, 3, 4, 5, 6, 7, 8, 9, 10, 11, 12, 19, 20, 21, 24, 25]\n",
      "[13, 14, 15, 16, 17, 18, 21, 24] --> [1, 2, 3, 4, 5, 6, 7, 8, 9, 10, 11, 12, 19, 20, 22, 23, 25]\n",
      "[13, 14, 15, 16, 17, 18, 21, 23] --> [1, 2, 3, 4, 5, 6, 7, 8, 9, 10, 11, 12, 19, 20, 22, 24, 25]\n",
      "[13, 14, 15, 16, 17, 18, 21, 22] --> [1, 2, 3, 4, 5, 6, 7, 8, 9, 10, 11, 12, 19, 20, 23, 24, 25]\n",
      "[13, 14, 15, 16, 17, 18, 20, 24] --> [1, 2, 3, 4, 5, 6, 7, 8, 9, 10, 11, 12, 19, 21, 22, 23, 25]\n"
     ]
    },
    {
     "name": "stdout",
     "output_type": "stream",
     "text": [
      "[13, 14, 15, 16, 17, 18, 20, 23] --> [1, 2, 3, 4, 5, 6, 7, 8, 9, 10, 11, 12, 19, 21, 22, 24, 25]\n",
      "[13, 14, 15, 16, 17, 18, 20, 22] --> [1, 2, 3, 4, 5, 6, 7, 8, 9, 10, 11, 12, 19, 21, 23, 24, 25]\n",
      "[13, 14, 15, 16, 17, 18, 20, 21] --> [1, 2, 3, 4, 5, 6, 7, 8, 9, 10, 11, 12, 19, 22, 23, 24, 25]\n",
      "[13, 14, 15, 16, 17, 18, 19, 24] --> [1, 2, 3, 4, 5, 6, 7, 8, 9, 10, 11, 12, 20, 21, 22, 23, 25]\n",
      "[13, 14, 15, 16, 17, 18, 19, 23] --> [1, 2, 3, 4, 5, 6, 7, 8, 9, 10, 11, 12, 20, 21, 22, 24, 25]\n",
      "[13, 14, 15, 16, 17, 18, 19, 22] --> [1, 2, 3, 4, 5, 6, 7, 8, 9, 10, 11, 12, 20, 21, 23, 24, 25]\n",
      "[13, 14, 15, 16, 17, 18, 19, 21] --> [1, 2, 3, 4, 5, 6, 7, 8, 9, 10, 11, 12, 20, 22, 23, 24, 25]\n",
      "[13, 14, 15, 16, 17, 18, 19, 20] --> [1, 2, 3, 4, 5, 6, 7, 8, 9, 10, 11, 12, 21, 22, 23, 24, 25]\n",
      "[12, 15, 17, 18, 19, 20, 25, 26, 28] --> [1, 2, 3, 4, 5, 6, 7, 8, 9, 10, 11, 13, 14, 16, 21, 22, 23]\n",
      "[12, 15, 16, 18, 19, 20, 25, 26, 29] --> [1, 2, 3, 4, 5, 6, 7, 8, 9, 10, 11, 13, 14, 17, 21, 22, 23]\n",
      "[12, 15, 16, 17, 19, 20, 25, 26] --> [1, 2, 3, 4, 5, 6, 7, 8, 9, 10, 11, 13, 14, 18, 21, 22, 23]\n",
      "[12, 15, 16, 17, 18, 20, 25, 26] --> [1, 2, 3, 4, 5, 6, 7, 8, 9, 10, 11, 13, 14, 19, 21, 22, 23]\n",
      "[12, 15, 16, 17, 18, 19, 25, 26] --> [1, 2, 3, 4, 5, 6, 7, 8, 9, 10, 11, 13, 14, 20, 21, 22, 23]\n",
      "[12, 14, 17, 18, 20, 21, 25, 27] --> [1, 2, 3, 4, 5, 6, 7, 8, 9, 10, 11, 13, 15, 16, 19, 22, 23]\n",
      "[12, 14, 17, 18, 19, 20, 25, 27] --> [1, 2, 3, 4, 5, 6, 7, 8, 9, 10, 11, 13, 15, 16, 21, 22, 23]\n",
      "[12, 14, 16, 19, 20, 21, 25, 27, 29] --> [1, 2, 3, 4, 5, 6, 7, 8, 9, 10, 11, 13, 15, 17, 18, 22, 23]\n",
      "[12, 14, 16, 18, 20, 21, 25, 27, 29, 31] --> [1, 2, 3, 4, 5, 6, 7, 8, 9, 10, 11, 13, 15, 17, 19, 22, 23]\n",
      "[12, 14, 16, 18, 19, 21, 25, 27, 29] --> [1, 2, 3, 4, 5, 6, 7, 8, 9, 10, 11, 13, 15, 17, 20, 22, 23]\n",
      "[12, 14, 16, 18, 19, 20, 25, 27, 29] --> [1, 2, 3, 4, 5, 6, 7, 8, 9, 10, 11, 13, 15, 17, 21, 22, 23]\n",
      "[12, 14, 16, 17, 20, 21, 25, 27] --> [1, 2, 3, 4, 5, 6, 7, 8, 9, 10, 11, 13, 15, 18, 19, 22, 23]\n",
      "[12, 14, 16, 17, 19, 21, 25, 27] --> [1, 2, 3, 4, 5, 6, 7, 8, 9, 10, 11, 13, 15, 18, 20, 22, 23]\n",
      "[12, 14, 16, 17, 19, 20, 25, 27] --> [1, 2, 3, 4, 5, 6, 7, 8, 9, 10, 11, 13, 15, 18, 21, 22, 23]\n",
      "[12, 14, 16, 17, 18, 21, 25, 27] --> [1, 2, 3, 4, 5, 6, 7, 8, 9, 10, 11, 13, 15, 19, 20, 22, 23]\n",
      "[12, 14, 16, 17, 18, 20, 25, 27] --> [1, 2, 3, 4, 5, 6, 7, 8, 9, 10, 11, 13, 15, 19, 21, 22, 23]\n",
      "[12, 14, 16, 17, 18, 19, 25, 27] --> [1, 2, 3, 4, 5, 6, 7, 8, 9, 10, 11, 13, 15, 20, 21, 22, 23]\n",
      "[12, 14, 15, 19, 20, 21, 25] --> [1, 2, 3, 4, 5, 6, 7, 8, 9, 10, 11, 13, 16, 17, 18, 22, 23]\n",
      "[12, 14, 15, 18, 19, 21, 25] --> [1, 2, 3, 4, 5, 6, 7, 8, 9, 10, 11, 13, 16, 17, 20, 22, 23]\n",
      "[12, 14, 15, 18, 19, 20, 25] --> [1, 2, 3, 4, 5, 6, 7, 8, 9, 10, 11, 13, 16, 17, 21, 22, 23]\n",
      "[12, 14, 15, 17, 20, 21, 25] --> [1, 2, 3, 4, 5, 6, 7, 8, 9, 10, 11, 13, 16, 18, 19, 22, 23]\n",
      "[12, 14, 15, 17, 19, 21, 25] --> [1, 2, 3, 4, 5, 6, 7, 8, 9, 10, 11, 13, 16, 18, 20, 22, 23]\n",
      "[12, 14, 15, 17, 19, 20, 25] --> [1, 2, 3, 4, 5, 6, 7, 8, 9, 10, 11, 13, 16, 18, 21, 22, 23]\n",
      "[12, 14, 15, 17, 18, 21, 25] --> [1, 2, 3, 4, 5, 6, 7, 8, 9, 10, 11, 13, 16, 19, 20, 22, 23]\n",
      "[12, 14, 15, 17, 18, 20, 25] --> [1, 2, 3, 4, 5, 6, 7, 8, 9, 10, 11, 13, 16, 19, 21, 22, 23]\n",
      "[12, 14, 15, 17, 18, 19, 25] --> [1, 2, 3, 4, 5, 6, 7, 8, 9, 10, 11, 13, 16, 20, 21, 22, 23]\n",
      "[12, 14, 15, 16, 20, 21, 25] --> [1, 2, 3, 4, 5, 6, 7, 8, 9, 10, 11, 13, 17, 18, 19, 22, 23]\n",
      "[12, 14, 15, 16, 19, 21, 25] --> [1, 2, 3, 4, 5, 6, 7, 8, 9, 10, 11, 13, 17, 18, 20, 22, 23]\n",
      "[12, 14, 15, 16, 19, 20, 25] --> [1, 2, 3, 4, 5, 6, 7, 8, 9, 10, 11, 13, 17, 18, 21, 22, 23]\n",
      "[12, 14, 15, 16, 18, 21, 25] --> [1, 2, 3, 4, 5, 6, 7, 8, 9, 10, 11, 13, 17, 19, 20, 22, 23]\n",
      "[12, 14, 15, 16, 18, 20, 25] --> [1, 2, 3, 4, 5, 6, 7, 8, 9, 10, 11, 13, 17, 19, 21, 22, 23]\n",
      "[12, 14, 15, 16, 18, 19, 25] --> [1, 2, 3, 4, 5, 6, 7, 8, 9, 10, 11, 13, 17, 20, 21, 22, 23]\n",
      "[12, 14, 15, 16, 17, 21, 25] --> [1, 2, 3, 4, 5, 6, 7, 8, 9, 10, 11, 13, 18, 19, 20, 22, 23]\n",
      "[12, 14, 15, 16, 17, 20, 25] --> [1, 2, 3, 4, 5, 6, 7, 8, 9, 10, 11, 13, 18, 19, 21, 22, 23]\n",
      "[12, 14, 15, 16, 17, 19, 25] --> [1, 2, 3, 4, 5, 6, 7, 8, 9, 10, 11, 13, 18, 20, 21, 22, 23]\n",
      "[12, 14, 15, 16, 17, 18, 25] --> [1, 2, 3, 4, 5, 6, 7, 8, 9, 10, 11, 13, 19, 20, 21, 22, 23]\n",
      "[12, 13, 17, 18, 20, 22, 27, 28] --> [1, 2, 3, 4, 5, 6, 7, 8, 9, 10, 11, 14, 15, 16, 19, 21, 23]\n",
      "[12, 13, 17, 18, 19, 22, 27, 28, 33] --> [1, 2, 3, 4, 5, 6, 7, 8, 9, 10, 11, 14, 15, 16, 20, 21, 23]\n",
      "[12, 13, 17, 18, 19, 21, 27, 28] --> [1, 2, 3, 4, 5, 6, 7, 8, 9, 10, 11, 14, 15, 16, 20, 22, 23]\n",
      "[12, 13, 16, 19, 20, 22, 27, 30] --> [1, 2, 3, 4, 5, 6, 7, 8, 9, 10, 11, 14, 15, 17, 18, 21, 23]\n",
      "[12, 13, 16, 18, 20, 22, 27] --> [1, 2, 3, 4, 5, 6, 7, 8, 9, 10, 11, 14, 15, 17, 19, 21, 23]\n",
      "[12, 13, 16, 18, 19, 21, 27] --> [1, 2, 3, 4, 5, 6, 7, 8, 9, 10, 11, 14, 15, 17, 20, 22, 23]\n",
      "[12, 13, 16, 18, 19, 20, 27] --> [1, 2, 3, 4, 5, 6, 7, 8, 9, 10, 11, 14, 15, 17, 21, 22, 23]\n",
      "[12, 13, 16, 17, 20, 22, 27, 31] --> [1, 2, 3, 4, 5, 6, 7, 8, 9, 10, 11, 14, 15, 18, 19, 21, 23]\n",
      "[12, 13, 16, 17, 19, 22, 27] --> [1, 2, 3, 4, 5, 6, 7, 8, 9, 10, 11, 14, 15, 18, 20, 21, 23]\n",
      "[12, 13, 16, 17, 19, 21, 27] --> [1, 2, 3, 4, 5, 6, 7, 8, 9, 10, 11, 14, 15, 18, 20, 22, 23]\n",
      "[12, 13, 16, 17, 19, 20, 27] --> [1, 2, 3, 4, 5, 6, 7, 8, 9, 10, 11, 14, 15, 18, 21, 22, 23]\n",
      "[12, 13, 16, 17, 18, 22, 27] --> [1, 2, 3, 4, 5, 6, 7, 8, 9, 10, 11, 14, 15, 19, 20, 21, 23]\n",
      "[12, 13, 16, 17, 18, 21, 27] --> [1, 2, 3, 4, 5, 6, 7, 8, 9, 10, 11, 14, 15, 19, 20, 22, 23]\n",
      "[12, 13, 16, 17, 18, 20, 27] --> [1, 2, 3, 4, 5, 6, 7, 8, 9, 10, 11, 14, 15, 19, 21, 22, 23]\n",
      "[12, 13, 16, 17, 18, 19, 27] --> [1, 2, 3, 4, 5, 6, 7, 8, 9, 10, 11, 14, 15, 20, 21, 22, 23]\n",
      "[12, 13, 15, 19, 20, 21, 29] --> [1, 2, 3, 4, 5, 6, 7, 8, 9, 10, 11, 14, 16, 17, 18, 22, 23]\n",
      "[12, 13, 15, 18, 20, 22, 29] --> [1, 2, 3, 4, 5, 6, 7, 8, 9, 10, 11, 14, 16, 17, 19, 21, 23]\n",
      "[12, 13, 15, 18, 20, 21, 29] --> [1, 2, 3, 4, 5, 6, 7, 8, 9, 10, 11, 14, 16, 17, 19, 22, 23]\n",
      "[12, 13, 15, 18, 19, 22, 29] --> [1, 2, 3, 4, 5, 6, 7, 8, 9, 10, 11, 14, 16, 17, 20, 21, 23]\n",
      "[12, 13, 15, 18, 19, 20, 29] --> [1, 2, 3, 4, 5, 6, 7, 8, 9, 10, 11, 14, 16, 17, 21, 22, 23]\n",
      "[12, 13, 15, 17, 20, 22, 31] --> [1, 2, 3, 4, 5, 6, 7, 8, 9, 10, 11, 14, 16, 18, 19, 21, 23]\n",
      "[12, 13, 15, 17, 20, 21, 31] --> [1, 2, 3, 4, 5, 6, 7, 8, 9, 10, 11, 14, 16, 18, 19, 22, 23]\n",
      "[12, 13, 15, 17, 19, 22, 33] --> [1, 2, 3, 4, 5, 6, 7, 8, 9, 10, 11, 14, 16, 18, 20, 21, 23]\n",
      "[12, 13, 15, 17, 19, 21, 35] --> [1, 2, 3, 4, 5, 6, 7, 8, 9, 10, 11, 14, 16, 18, 20, 22, 23]\n",
      "[12, 13, 15, 17, 19, 20] --> [1, 2, 3, 4, 5, 6, 7, 8, 9, 10, 11, 14, 16, 18, 21, 22, 23]\n",
      "[12, 13, 15, 17, 18, 22] --> [1, 2, 3, 4, 5, 6, 7, 8, 9, 10, 11, 14, 16, 19, 20, 21, 23]\n",
      "[12, 13, 15, 17, 18, 21] --> [1, 2, 3, 4, 5, 6, 7, 8, 9, 10, 11, 14, 16, 19, 20, 22, 23]\n",
      "[12, 13, 15, 17, 18, 20] --> [1, 2, 3, 4, 5, 6, 7, 8, 9, 10, 11, 14, 16, 19, 21, 22, 23]\n",
      "[12, 13, 15, 17, 18, 19] --> [1, 2, 3, 4, 5, 6, 7, 8, 9, 10, 11, 14, 16, 20, 21, 22, 23]\n",
      "[12, 13, 15, 16, 20, 22] --> [1, 2, 3, 4, 5, 6, 7, 8, 9, 10, 11, 14, 17, 18, 19, 21, 23]\n",
      "[12, 13, 15, 16, 20, 21] --> [1, 2, 3, 4, 5, 6, 7, 8, 9, 10, 11, 14, 17, 18, 19, 22, 23]\n",
      "[12, 13, 15, 16, 19, 22, 33] --> [1, 2, 3, 4, 5, 6, 7, 8, 9, 10, 11, 14, 17, 18, 20, 21, 23]\n",
      "[12, 13, 15, 16, 19, 21] --> [1, 2, 3, 4, 5, 6, 7, 8, 9, 10, 11, 14, 17, 18, 20, 22, 23]\n",
      "[12, 13, 15, 16, 19, 20] --> [1, 2, 3, 4, 5, 6, 7, 8, 9, 10, 11, 14, 17, 18, 21, 22, 23]\n",
      "[12, 13, 15, 16, 18, 22] --> [1, 2, 3, 4, 5, 6, 7, 8, 9, 10, 11, 14, 17, 19, 20, 21, 23]\n",
      "[12, 13, 15, 16, 18, 21, 35] --> [1, 2, 3, 4, 5, 6, 7, 8, 9, 10, 11, 14, 17, 19, 20, 22, 23]\n",
      "[12, 13, 15, 16, 18, 20] --> [1, 2, 3, 4, 5, 6, 7, 8, 9, 10, 11, 14, 17, 19, 21, 22, 23]\n",
      "[12, 13, 15, 16, 18, 19] --> [1, 2, 3, 4, 5, 6, 7, 8, 9, 10, 11, 14, 17, 20, 21, 22, 23]\n",
      "[12, 13, 15, 16, 17, 22] --> [1, 2, 3, 4, 5, 6, 7, 8, 9, 10, 11, 14, 18, 19, 20, 21, 23]\n",
      "[12, 13, 15, 16, 17, 21, 35] --> [1, 2, 3, 4, 5, 6, 7, 8, 9, 10, 11, 14, 18, 19, 20, 22, 23]\n",
      "[12, 13, 15, 16, 17, 20] --> [1, 2, 3, 4, 5, 6, 7, 8, 9, 10, 11, 14, 18, 19, 21, 22, 23]\n",
      "[12, 13, 15, 16, 17, 19] --> [1, 2, 3, 4, 5, 6, 7, 8, 9, 10, 11, 14, 18, 20, 21, 22, 23]\n",
      "[12, 13, 15, 16, 17, 18] --> [1, 2, 3, 4, 5, 6, 7, 8, 9, 10, 11, 14, 19, 20, 21, 22, 23]\n",
      "[12, 13, 14, 19, 21, 22, 29, 30] --> [1, 2, 3, 4, 5, 6, 7, 8, 9, 10, 11, 15, 16, 17, 18, 20, 23]\n",
      "[12, 13, 14, 19, 20, 22, 29, 30] --> [1, 2, 3, 4, 5, 6, 7, 8, 9, 10, 11, 15, 16, 17, 18, 21, 23]\n"
     ]
    },
    {
     "name": "stdout",
     "output_type": "stream",
     "text": [
      "[12, 13, 14, 18, 21, 22, 29] --> [1, 2, 3, 4, 5, 6, 7, 8, 9, 10, 11, 15, 16, 17, 19, 20, 23]\n",
      "[12, 13, 14, 18, 20, 22, 29] --> [1, 2, 3, 4, 5, 6, 7, 8, 9, 10, 11, 15, 16, 17, 19, 21, 23]\n",
      "[12, 13, 14, 18, 20, 21, 29] --> [1, 2, 3, 4, 5, 6, 7, 8, 9, 10, 11, 15, 16, 17, 19, 22, 23]\n",
      "[12, 13, 14, 18, 19, 22, 29] --> [1, 2, 3, 4, 5, 6, 7, 8, 9, 10, 11, 15, 16, 17, 20, 21, 23]\n",
      "[12, 13, 14, 18, 19, 21, 29] --> [1, 2, 3, 4, 5, 6, 7, 8, 9, 10, 11, 15, 16, 17, 20, 22, 23]\n",
      "[12, 13, 14, 17, 21, 22, 32] --> [1, 2, 3, 4, 5, 6, 7, 8, 9, 10, 11, 15, 16, 18, 19, 20, 23]\n",
      "[12, 13, 14, 17, 20, 22] --> [1, 2, 3, 4, 5, 6, 7, 8, 9, 10, 11, 15, 16, 18, 19, 21, 23]\n",
      "[12, 13, 14, 17, 20, 21] --> [1, 2, 3, 4, 5, 6, 7, 8, 9, 10, 11, 15, 16, 18, 19, 22, 23]\n",
      "[12, 13, 14, 17, 19, 22] --> [1, 2, 3, 4, 5, 6, 7, 8, 9, 10, 11, 15, 16, 18, 20, 21, 23]\n",
      "[12, 13, 14, 17, 19, 21] --> [1, 2, 3, 4, 5, 6, 7, 8, 9, 10, 11, 15, 16, 18, 20, 22, 23]\n",
      "[12, 13, 14, 17, 19, 20, 35] --> [1, 2, 3, 4, 5, 6, 7, 8, 9, 10, 11, 15, 16, 18, 21, 22, 23]\n",
      "[12, 13, 14, 17, 18, 22, 33] --> [1, 2, 3, 4, 5, 6, 7, 8, 9, 10, 11, 15, 16, 19, 20, 21, 23]\n",
      "[12, 13, 14, 17, 18, 21] --> [1, 2, 3, 4, 5, 6, 7, 8, 9, 10, 11, 15, 16, 19, 20, 22, 23]\n",
      "[12, 13, 14, 17, 18, 20] --> [1, 2, 3, 4, 5, 6, 7, 8, 9, 10, 11, 15, 16, 19, 21, 22, 23]\n",
      "[12, 13, 14, 17, 18, 19] --> [1, 2, 3, 4, 5, 6, 7, 8, 9, 10, 11, 15, 16, 20, 21, 22, 23]\n",
      "[12, 13, 14, 16, 21, 22, 31] --> [1, 2, 3, 4, 5, 6, 7, 8, 9, 10, 11, 15, 17, 18, 19, 20, 23]\n",
      "[12, 13, 14, 16, 20, 22, 31] --> [1, 2, 3, 4, 5, 6, 7, 8, 9, 10, 11, 15, 17, 18, 19, 21, 23]\n",
      "[12, 13, 14, 16, 20, 21, 31] --> [1, 2, 3, 4, 5, 6, 7, 8, 9, 10, 11, 15, 17, 18, 19, 22, 23]\n",
      "[12, 13, 14, 16, 19, 22] --> [1, 2, 3, 4, 5, 6, 7, 8, 9, 10, 11, 15, 17, 18, 20, 21, 23]\n",
      "[12, 13, 14, 16, 19, 21] --> [1, 2, 3, 4, 5, 6, 7, 8, 9, 10, 11, 15, 17, 18, 20, 22, 23]\n",
      "[12, 13, 14, 16, 19, 20] --> [1, 2, 3, 4, 5, 6, 7, 8, 9, 10, 11, 15, 17, 18, 21, 22, 23]\n",
      "[12, 13, 14, 16, 18, 22, 33] --> [1, 2, 3, 4, 5, 6, 7, 8, 9, 10, 11, 15, 17, 19, 20, 21, 23]\n",
      "[12, 13, 14, 16, 18, 21] --> [1, 2, 3, 4, 5, 6, 7, 8, 9, 10, 11, 15, 17, 19, 20, 22, 23]\n",
      "[12, 13, 14, 16, 18, 20, 35] --> [1, 2, 3, 4, 5, 6, 7, 8, 9, 10, 11, 15, 17, 19, 21, 22, 23]\n",
      "[12, 13, 14, 16, 18, 19] --> [1, 2, 3, 4, 5, 6, 7, 8, 9, 10, 11, 15, 17, 20, 21, 22, 23]\n",
      "[12, 13, 14, 16, 17, 22] --> [1, 2, 3, 4, 5, 6, 7, 8, 9, 10, 11, 15, 18, 19, 20, 21, 23]\n",
      "[12, 13, 14, 16, 17, 21] --> [1, 2, 3, 4, 5, 6, 7, 8, 9, 10, 11, 15, 18, 19, 20, 22, 23]\n",
      "[12, 13, 14, 16, 17, 20, 35] --> [1, 2, 3, 4, 5, 6, 7, 8, 9, 10, 11, 15, 18, 19, 21, 22, 23]\n",
      "[12, 13, 14, 16, 17, 19] --> [1, 2, 3, 4, 5, 6, 7, 8, 9, 10, 11, 15, 18, 20, 21, 22, 23]\n",
      "[12, 13, 14, 16, 17, 18] --> [1, 2, 3, 4, 5, 6, 7, 8, 9, 10, 11, 15, 19, 20, 21, 22, 23]\n",
      "[12, 13, 14, 15, 21, 22, 31, 32] --> [1, 2, 3, 4, 5, 6, 7, 8, 9, 10, 11, 16, 17, 18, 19, 20, 23]\n",
      "[12, 13, 14, 15, 20, 22, 31] --> [1, 2, 3, 4, 5, 6, 7, 8, 9, 10, 11, 16, 17, 18, 19, 21, 23]\n",
      "[12, 13, 14, 15, 20, 21, 31] --> [1, 2, 3, 4, 5, 6, 7, 8, 9, 10, 11, 16, 17, 18, 19, 22, 23]\n",
      "[12, 13, 14, 15, 19, 22] --> [1, 2, 3, 4, 5, 6, 7, 8, 9, 10, 11, 16, 17, 18, 20, 21, 23]\n",
      "[12, 13, 14, 15, 19, 21] --> [1, 2, 3, 4, 5, 6, 7, 8, 9, 10, 11, 16, 17, 18, 20, 22, 23]\n",
      "[12, 13, 14, 15, 19, 20] --> [1, 2, 3, 4, 5, 6, 7, 8, 9, 10, 11, 16, 17, 18, 21, 22, 23]\n",
      "[12, 13, 14, 15, 18, 22] --> [1, 2, 3, 4, 5, 6, 7, 8, 9, 10, 11, 16, 17, 19, 20, 21, 23]\n",
      "[12, 13, 14, 15, 18, 21] --> [1, 2, 3, 4, 5, 6, 7, 8, 9, 10, 11, 16, 17, 19, 20, 22, 23]\n",
      "[12, 13, 14, 15, 18, 20] --> [1, 2, 3, 4, 5, 6, 7, 8, 9, 10, 11, 16, 17, 19, 21, 22, 23]\n",
      "[12, 13, 14, 15, 18, 19, 35] --> [1, 2, 3, 4, 5, 6, 7, 8, 9, 10, 11, 16, 17, 20, 21, 22, 23]\n",
      "[12, 13, 14, 15, 17, 22, 33] --> [1, 2, 3, 4, 5, 6, 7, 8, 9, 10, 11, 16, 18, 19, 20, 21, 23]\n",
      "[12, 13, 14, 15, 17, 21] --> [1, 2, 3, 4, 5, 6, 7, 8, 9, 10, 11, 16, 18, 19, 20, 22, 23]\n",
      "[12, 13, 14, 15, 17, 20] --> [1, 2, 3, 4, 5, 6, 7, 8, 9, 10, 11, 16, 18, 19, 21, 22, 23]\n",
      "[12, 13, 14, 15, 17, 19, 35] --> [1, 2, 3, 4, 5, 6, 7, 8, 9, 10, 11, 16, 18, 20, 21, 22, 23]\n",
      "[12, 13, 14, 15, 17, 18] --> [1, 2, 3, 4, 5, 6, 7, 8, 9, 10, 11, 16, 19, 20, 21, 22, 23]\n",
      "[12, 13, 14, 15, 16, 22, 33] --> [1, 2, 3, 4, 5, 6, 7, 8, 9, 10, 11, 17, 18, 19, 20, 21, 23]\n",
      "[12, 13, 14, 15, 16, 21] --> [1, 2, 3, 4, 5, 6, 7, 8, 9, 10, 11, 17, 18, 19, 20, 22, 23]\n",
      "[12, 13, 14, 15, 16, 20] --> [1, 2, 3, 4, 5, 6, 7, 8, 9, 10, 11, 17, 18, 19, 21, 22, 23]\n",
      "[12, 13, 14, 15, 16, 19] --> [1, 2, 3, 4, 5, 6, 7, 8, 9, 10, 11, 17, 18, 20, 21, 22, 23]\n",
      "[12, 13, 14, 15, 16, 18, 35] --> [1, 2, 3, 4, 5, 6, 7, 8, 9, 10, 11, 17, 19, 20, 21, 22, 23]\n",
      "[12, 13, 14, 15, 16, 17, 35] --> [1, 2, 3, 4, 5, 6, 7, 8, 9, 10, 11, 18, 19, 20, 21, 22, 23]\n",
      "[11, 15, 16, 17, 23, 24, 25, 29] --> [1, 2, 3, 4, 5, 6, 7, 8, 9, 10, 12, 13, 14, 18, 19, 20, 21]\n",
      "[11, 14, 17, 18, 23, 24, 26, 27, 30] --> [1, 2, 3, 4, 5, 6, 7, 8, 9, 10, 12, 13, 15, 16, 19, 20, 21]\n",
      "[11, 14, 16, 18, 23, 24, 26, 31] --> [1, 2, 3, 4, 5, 6, 7, 8, 9, 10, 12, 13, 15, 17, 19, 20, 21]\n",
      "[11, 14, 16, 17, 23, 24, 26, 29] --> [1, 2, 3, 4, 5, 6, 7, 8, 9, 10, 12, 13, 15, 18, 19, 20, 21]\n",
      "[11, 14, 15, 18, 23, 24, 27, 31] --> [1, 2, 3, 4, 5, 6, 7, 8, 9, 10, 12, 13, 16, 17, 19, 20, 21]\n",
      "[11, 14, 15, 17, 23, 24, 27] --> [1, 2, 3, 4, 5, 6, 7, 8, 9, 10, 12, 13, 16, 18, 19, 20, 21]\n",
      "[11, 14, 15, 16, 23, 24] --> [1, 2, 3, 4, 5, 6, 7, 8, 9, 10, 12, 13, 17, 18, 19, 20, 21]\n",
      "[11, 13, 18, 19, 23, 25, 27, 28] --> [1, 2, 3, 4, 5, 6, 7, 8, 9, 10, 12, 14, 15, 16, 17, 20, 21]\n",
      "[11, 13, 17, 18, 23, 25, 27, 32] --> [1, 2, 3, 4, 5, 6, 7, 8, 9, 10, 12, 14, 15, 16, 19, 20, 21]\n",
      "[11, 13, 16, 19, 23, 25, 28, 31] --> [1, 2, 3, 4, 5, 6, 7, 8, 9, 10, 12, 14, 15, 17, 18, 20, 21]\n",
      "[11, 13, 16, 18, 23, 25, 28, 30] --> [1, 2, 3, 4, 5, 6, 7, 8, 9, 10, 12, 14, 15, 17, 19, 20, 21]\n",
      "[11, 13, 16, 17, 23, 25, 31] --> [1, 2, 3, 4, 5, 6, 7, 8, 9, 10, 12, 14, 15, 18, 19, 20, 21]\n",
      "[11, 13, 15, 19, 23, 25, 27, 29, 31] --> [1, 2, 3, 4, 5, 6, 7, 8, 9, 10, 12, 14, 16, 17, 18, 20, 21]\n",
      "[11, 13, 15, 18, 23, 25, 27, 32] --> [1, 2, 3, 4, 5, 6, 7, 8, 9, 10, 12, 14, 16, 17, 19, 20, 21]\n",
      "[11, 13, 15, 17, 23, 25, 27, 29, 31] --> [1, 2, 3, 4, 5, 6, 7, 8, 9, 10, 12, 14, 16, 18, 19, 20, 21]\n",
      "[11, 13, 15, 16, 23, 25] --> [1, 2, 3, 4, 5, 6, 7, 8, 9, 10, 12, 14, 17, 18, 19, 20, 21]\n",
      "[11, 13, 14, 19, 23, 29, 31] --> [1, 2, 3, 4, 5, 6, 7, 8, 9, 10, 12, 15, 16, 17, 18, 20, 21]\n",
      "[11, 13, 14, 18, 23, 30] --> [1, 2, 3, 4, 5, 6, 7, 8, 9, 10, 12, 15, 16, 17, 19, 20, 21]\n",
      "[11, 13, 14, 17, 23, 29, 32] --> [1, 2, 3, 4, 5, 6, 7, 8, 9, 10, 12, 15, 16, 18, 19, 20, 21]\n",
      "[11, 13, 14, 16, 23, 31] --> [1, 2, 3, 4, 5, 6, 7, 8, 9, 10, 12, 15, 17, 18, 19, 20, 21]\n",
      "[11, 13, 14, 15, 23, 31, 32] --> [1, 2, 3, 4, 5, 6, 7, 8, 9, 10, 12, 16, 17, 18, 19, 20, 21]\n",
      "[11, 12, 18, 20, 25, 26, 27, 28] --> [1, 2, 3, 4, 5, 6, 7, 8, 9, 10, 13, 14, 15, 16, 17, 19, 21]\n",
      "[11, 12, 17, 20, 25, 26, 27, 30] --> [1, 2, 3, 4, 5, 6, 7, 8, 9, 10, 13, 14, 15, 16, 18, 19, 21]\n",
      "[11, 12, 17, 19, 25, 26, 27, 32] --> [1, 2, 3, 4, 5, 6, 7, 8, 9, 10, 13, 14, 15, 16, 18, 20, 21]\n",
      "[11, 12, 16, 20, 25, 26, 29, 30] --> [1, 2, 3, 4, 5, 6, 7, 8, 9, 10, 13, 14, 15, 17, 18, 19, 21]\n",
      "[11, 12, 16, 19, 25, 26, 29] --> [1, 2, 3, 4, 5, 6, 7, 8, 9, 10, 13, 14, 15, 17, 18, 20, 21]\n",
      "[11, 12, 16, 18, 25, 26, 31] --> [1, 2, 3, 4, 5, 6, 7, 8, 9, 10, 13, 14, 15, 17, 19, 20, 21]\n",
      "[11, 12, 16, 17, 25, 26, 30, 31] --> [1, 2, 3, 4, 5, 6, 7, 8, 9, 10, 13, 14, 15, 18, 19, 20, 21]\n",
      "[11, 12, 15, 20, 25, 28, 29] --> [1, 2, 3, 4, 5, 6, 7, 8, 9, 10, 13, 14, 16, 17, 18, 19, 21]\n",
      "[11, 12, 15, 19, 25, 28, 29, 32] --> [1, 2, 3, 4, 5, 6, 7, 8, 9, 10, 13, 14, 16, 17, 18, 20, 21]\n",
      "[11, 12, 15, 18, 25, 28, 31, 32] --> [1, 2, 3, 4, 5, 6, 7, 8, 9, 10, 13, 14, 16, 17, 19, 20, 21]\n",
      "[11, 12, 15, 17, 25, 31] --> [1, 2, 3, 4, 5, 6, 7, 8, 9, 10, 13, 14, 16, 18, 19, 20, 21]\n",
      "[11, 12, 15, 16, 25, 29] --> [1, 2, 3, 4, 5, 6, 7, 8, 9, 10, 13, 14, 17, 18, 19, 20, 21]\n",
      "[11, 12, 14, 20, 27, 29, 30] --> [1, 2, 3, 4, 5, 6, 7, 8, 9, 10, 13, 15, 16, 17, 18, 19, 21]\n",
      "[11, 12, 14, 19, 27, 29, 32] --> [1, 2, 3, 4, 5, 6, 7, 8, 9, 10, 13, 15, 16, 17, 18, 20, 21]\n",
      "[11, 12, 14, 18, 27, 31] --> [1, 2, 3, 4, 5, 6, 7, 8, 9, 10, 13, 15, 16, 17, 19, 20, 21]\n",
      "[11, 12, 14, 17, 27, 30, 32] --> [1, 2, 3, 4, 5, 6, 7, 8, 9, 10, 13, 15, 16, 18, 19, 20, 21]\n",
      "[11, 12, 14, 16, 29, 31] --> [1, 2, 3, 4, 5, 6, 7, 8, 9, 10, 13, 15, 17, 18, 19, 20, 21]\n"
     ]
    },
    {
     "name": "stdout",
     "output_type": "stream",
     "text": [
      "[11, 12, 14, 15, 31, 32] --> [1, 2, 3, 4, 5, 6, 7, 8, 9, 10, 13, 16, 17, 18, 19, 20, 21]\n",
      "[11, 12, 13, 20, 27, 28, 29, 30] --> [1, 2, 3, 4, 5, 6, 7, 8, 9, 10, 14, 15, 16, 17, 18, 19, 21]\n",
      "[11, 12, 13, 19, 27, 28, 29] --> [1, 2, 3, 4, 5, 6, 7, 8, 9, 10, 14, 15, 16, 17, 18, 20, 21]\n",
      "[11, 12, 13, 18, 27, 28, 32] --> [1, 2, 3, 4, 5, 6, 7, 8, 9, 10, 14, 15, 16, 17, 19, 20, 21]\n",
      "[11, 12, 13, 17, 27, 31, 32] --> [1, 2, 3, 4, 5, 6, 7, 8, 9, 10, 14, 15, 16, 18, 19, 20, 21]\n",
      "[11, 12, 13, 16, 30, 31] --> [1, 2, 3, 4, 5, 6, 7, 8, 9, 10, 14, 15, 17, 18, 19, 20, 21]\n",
      "[11, 12, 13, 15, 29, 31, 32] --> [1, 2, 3, 4, 5, 6, 7, 8, 9, 10, 14, 16, 17, 18, 19, 20, 21]\n",
      "[11, 12, 13, 14, 29, 30, 31, 32] --> [1, 2, 3, 4, 5, 6, 7, 8, 9, 10, 15, 16, 17, 18, 19, 20, 21]\n",
      "[10, 14, 21, 22, 23, 25, 26, 27, 29] --> [1, 2, 3, 4, 5, 6, 7, 8, 9, 11, 12, 13, 15, 16, 17, 18, 19]\n",
      "[10, 13, 21, 22, 24, 25, 27, 28, 29] --> [1, 2, 3, 4, 5, 6, 7, 8, 9, 11, 12, 14, 15, 16, 17, 18, 19]\n",
      "[10, 12, 21, 23, 25, 26, 27, 28, 29] --> [1, 2, 3, 4, 5, 6, 7, 8, 9, 11, 13, 14, 15, 16, 17, 18, 19]\n",
      "[10, 11, 23, 24, 25, 26, 27, 28, 29] --> [1, 2, 3, 4, 5, 6, 7, 8, 9, 12, 13, 14, 15, 16, 17, 18, 19]\n",
      "GÉNERO  18\n",
      "[18, 19, 20, 21, 22, 23, 24, 25, 26, 27, 28, 29, 30, 31, 32, 33, 34] --> [1, 2, 3, 4, 5, 6, 7, 8, 9, 10, 11, 12, 13, 14, 15, 16, 17, 35]\n",
      "[17, 18, 19, 20, 21, 22, 23, 24, 26, 27, 28, 29, 30, 31, 32] --> [1, 2, 3, 4, 5, 6, 7, 8, 9, 10, 11, 12, 13, 14, 15, 16, 25, 33]\n",
      "[17, 18, 19, 20, 21, 22, 23, 24, 25, 27, 28, 29, 30, 31, 32] --> [1, 2, 3, 4, 5, 6, 7, 8, 9, 10, 11, 12, 13, 14, 15, 16, 26, 33]\n",
      "[17, 18, 19, 20, 21, 22, 23, 24, 25, 26, 28, 29, 30, 31, 32] --> [1, 2, 3, 4, 5, 6, 7, 8, 9, 10, 11, 12, 13, 14, 15, 16, 27, 33]\n",
      "[17, 18, 19, 20, 21, 22, 23, 24, 25, 26, 27, 29, 30, 31, 32] --> [1, 2, 3, 4, 5, 6, 7, 8, 9, 10, 11, 12, 13, 14, 15, 16, 28, 33]\n",
      "[17, 18, 19, 20, 21, 22, 23, 24, 25, 26, 27, 28, 30, 31, 32] --> [1, 2, 3, 4, 5, 6, 7, 8, 9, 10, 11, 12, 13, 14, 15, 16, 29, 33]\n",
      "[17, 18, 19, 20, 21, 22, 23, 24, 25, 26, 27, 28, 29, 31, 32] --> [1, 2, 3, 4, 5, 6, 7, 8, 9, 10, 11, 12, 13, 14, 15, 16, 30, 33]\n",
      "[17, 18, 19, 20, 21, 22, 23, 24, 25, 26, 27, 28, 29, 30, 32] --> [1, 2, 3, 4, 5, 6, 7, 8, 9, 10, 11, 12, 13, 14, 15, 16, 31, 33]\n",
      "[17, 18, 19, 20, 21, 22, 23, 24, 25, 26, 27, 28, 29, 30, 31] --> [1, 2, 3, 4, 5, 6, 7, 8, 9, 10, 11, 12, 13, 14, 15, 16, 32, 33]\n",
      "[16, 18, 19, 20, 21, 22, 23, 24, 25, 26, 27, 28, 29, 33] --> [1, 2, 3, 4, 5, 6, 7, 8, 9, 10, 11, 12, 13, 14, 15, 17, 30, 31]\n",
      "[16, 17, 19, 20, 21, 22, 23, 24, 25, 26, 27, 28, 30] --> [1, 2, 3, 4, 5, 6, 7, 8, 9, 10, 11, 12, 13, 14, 15, 18, 29, 31]\n",
      "[16, 17, 19, 20, 21, 22, 23, 24, 25, 26, 27, 28, 29] --> [1, 2, 3, 4, 5, 6, 7, 8, 9, 10, 11, 12, 13, 14, 15, 18, 30, 31]\n",
      "[16, 17, 18, 20, 21, 22, 23, 24, 25, 26, 27, 29, 30] --> [1, 2, 3, 4, 5, 6, 7, 8, 9, 10, 11, 12, 13, 14, 15, 19, 28, 31]\n",
      "[16, 17, 18, 20, 21, 22, 23, 24, 25, 26, 27, 28, 30] --> [1, 2, 3, 4, 5, 6, 7, 8, 9, 10, 11, 12, 13, 14, 15, 19, 29, 31]\n",
      "[16, 17, 18, 20, 21, 22, 23, 24, 25, 26, 27, 28, 29] --> [1, 2, 3, 4, 5, 6, 7, 8, 9, 10, 11, 12, 13, 14, 15, 19, 30, 31]\n",
      "[16, 17, 18, 19, 21, 22, 23, 24, 25, 26, 28, 29, 30] --> [1, 2, 3, 4, 5, 6, 7, 8, 9, 10, 11, 12, 13, 14, 15, 20, 27, 31]\n",
      "[16, 17, 18, 19, 21, 22, 23, 24, 25, 26, 27, 29, 30] --> [1, 2, 3, 4, 5, 6, 7, 8, 9, 10, 11, 12, 13, 14, 15, 20, 28, 31]\n",
      "[16, 17, 18, 19, 21, 22, 23, 24, 25, 26, 27, 28, 30] --> [1, 2, 3, 4, 5, 6, 7, 8, 9, 10, 11, 12, 13, 14, 15, 20, 29, 31]\n",
      "[16, 17, 18, 19, 21, 22, 23, 24, 25, 26, 27, 28, 29] --> [1, 2, 3, 4, 5, 6, 7, 8, 9, 10, 11, 12, 13, 14, 15, 20, 30, 31]\n",
      "[16, 17, 18, 19, 20, 22, 23, 24, 25, 27, 28, 29, 30] --> [1, 2, 3, 4, 5, 6, 7, 8, 9, 10, 11, 12, 13, 14, 15, 21, 26, 31]\n",
      "[16, 17, 18, 19, 20, 22, 23, 24, 25, 26, 28, 29, 30] --> [1, 2, 3, 4, 5, 6, 7, 8, 9, 10, 11, 12, 13, 14, 15, 21, 27, 31]\n",
      "[16, 17, 18, 19, 20, 22, 23, 24, 25, 26, 27, 29, 30] --> [1, 2, 3, 4, 5, 6, 7, 8, 9, 10, 11, 12, 13, 14, 15, 21, 28, 31]\n",
      "[16, 17, 18, 19, 20, 22, 23, 24, 25, 26, 27, 28, 30] --> [1, 2, 3, 4, 5, 6, 7, 8, 9, 10, 11, 12, 13, 14, 15, 21, 29, 31]\n",
      "[16, 17, 18, 19, 20, 22, 23, 24, 25, 26, 27, 28, 29] --> [1, 2, 3, 4, 5, 6, 7, 8, 9, 10, 11, 12, 13, 14, 15, 21, 30, 31]\n",
      "[16, 17, 18, 19, 20, 21, 23, 24, 26, 27, 28, 29, 30] --> [1, 2, 3, 4, 5, 6, 7, 8, 9, 10, 11, 12, 13, 14, 15, 22, 25, 31]\n",
      "[16, 17, 18, 19, 20, 21, 23, 24, 25, 27, 28, 29, 30] --> [1, 2, 3, 4, 5, 6, 7, 8, 9, 10, 11, 12, 13, 14, 15, 22, 26, 31]\n",
      "[16, 17, 18, 19, 20, 21, 23, 24, 25, 26, 28, 29, 30] --> [1, 2, 3, 4, 5, 6, 7, 8, 9, 10, 11, 12, 13, 14, 15, 22, 27, 31]\n",
      "[16, 17, 18, 19, 20, 21, 23, 24, 25, 26, 27, 29, 30] --> [1, 2, 3, 4, 5, 6, 7, 8, 9, 10, 11, 12, 13, 14, 15, 22, 28, 31]\n",
      "[16, 17, 18, 19, 20, 21, 23, 24, 25, 26, 27, 28, 30] --> [1, 2, 3, 4, 5, 6, 7, 8, 9, 10, 11, 12, 13, 14, 15, 22, 29, 31]\n",
      "[16, 17, 18, 19, 20, 21, 23, 24, 25, 26, 27, 28, 29] --> [1, 2, 3, 4, 5, 6, 7, 8, 9, 10, 11, 12, 13, 14, 15, 22, 30, 31]\n",
      "[16, 17, 18, 19, 20, 21, 22, 25, 26, 27, 28, 29, 30] --> [1, 2, 3, 4, 5, 6, 7, 8, 9, 10, 11, 12, 13, 14, 15, 23, 24, 31]\n",
      "[16, 17, 18, 19, 20, 21, 22, 24, 26, 27, 28, 29, 30] --> [1, 2, 3, 4, 5, 6, 7, 8, 9, 10, 11, 12, 13, 14, 15, 23, 25, 31]\n",
      "[16, 17, 18, 19, 20, 21, 22, 24, 25, 27, 28, 29, 30] --> [1, 2, 3, 4, 5, 6, 7, 8, 9, 10, 11, 12, 13, 14, 15, 23, 26, 31]\n",
      "[16, 17, 18, 19, 20, 21, 22, 24, 25, 26, 28, 29, 30] --> [1, 2, 3, 4, 5, 6, 7, 8, 9, 10, 11, 12, 13, 14, 15, 23, 27, 31]\n",
      "[16, 17, 18, 19, 20, 21, 22, 24, 25, 26, 27, 29, 30] --> [1, 2, 3, 4, 5, 6, 7, 8, 9, 10, 11, 12, 13, 14, 15, 23, 28, 31]\n",
      "[16, 17, 18, 19, 20, 21, 22, 24, 25, 26, 27, 28, 30] --> [1, 2, 3, 4, 5, 6, 7, 8, 9, 10, 11, 12, 13, 14, 15, 23, 29, 31]\n",
      "[16, 17, 18, 19, 20, 21, 22, 24, 25, 26, 27, 28, 29] --> [1, 2, 3, 4, 5, 6, 7, 8, 9, 10, 11, 12, 13, 14, 15, 23, 30, 31]\n",
      "[16, 17, 18, 19, 20, 21, 22, 23, 26, 27, 28, 29, 30] --> [1, 2, 3, 4, 5, 6, 7, 8, 9, 10, 11, 12, 13, 14, 15, 24, 25, 31]\n",
      "[16, 17, 18, 19, 20, 21, 22, 23, 25, 27, 28, 29, 30] --> [1, 2, 3, 4, 5, 6, 7, 8, 9, 10, 11, 12, 13, 14, 15, 24, 26, 31]\n",
      "[16, 17, 18, 19, 20, 21, 22, 23, 25, 26, 28, 29, 30] --> [1, 2, 3, 4, 5, 6, 7, 8, 9, 10, 11, 12, 13, 14, 15, 24, 27, 31]\n",
      "[16, 17, 18, 19, 20, 21, 22, 23, 25, 26, 27, 29, 30] --> [1, 2, 3, 4, 5, 6, 7, 8, 9, 10, 11, 12, 13, 14, 15, 24, 28, 31]\n",
      "[16, 17, 18, 19, 20, 21, 22, 23, 25, 26, 27, 28, 30] --> [1, 2, 3, 4, 5, 6, 7, 8, 9, 10, 11, 12, 13, 14, 15, 24, 29, 31]\n",
      "[16, 17, 18, 19, 20, 21, 22, 23, 25, 26, 27, 28, 29] --> [1, 2, 3, 4, 5, 6, 7, 8, 9, 10, 11, 12, 13, 14, 15, 24, 30, 31]\n",
      "[16, 17, 18, 19, 20, 21, 22, 23, 24, 27, 28, 29, 30] --> [1, 2, 3, 4, 5, 6, 7, 8, 9, 10, 11, 12, 13, 14, 15, 25, 26, 31]\n",
      "[16, 17, 18, 19, 20, 21, 22, 23, 24, 26, 28, 29, 30] --> [1, 2, 3, 4, 5, 6, 7, 8, 9, 10, 11, 12, 13, 14, 15, 25, 27, 31]\n",
      "[16, 17, 18, 19, 20, 21, 22, 23, 24, 26, 27, 29, 30] --> [1, 2, 3, 4, 5, 6, 7, 8, 9, 10, 11, 12, 13, 14, 15, 25, 28, 31]\n",
      "[16, 17, 18, 19, 20, 21, 22, 23, 24, 26, 27, 28, 30] --> [1, 2, 3, 4, 5, 6, 7, 8, 9, 10, 11, 12, 13, 14, 15, 25, 29, 31]\n",
      "[16, 17, 18, 19, 20, 21, 22, 23, 24, 26, 27, 28, 29] --> [1, 2, 3, 4, 5, 6, 7, 8, 9, 10, 11, 12, 13, 14, 15, 25, 30, 31]\n",
      "[16, 17, 18, 19, 20, 21, 22, 23, 24, 25, 28, 29, 30] --> [1, 2, 3, 4, 5, 6, 7, 8, 9, 10, 11, 12, 13, 14, 15, 26, 27, 31]\n",
      "[16, 17, 18, 19, 20, 21, 22, 23, 24, 25, 27, 29, 30] --> [1, 2, 3, 4, 5, 6, 7, 8, 9, 10, 11, 12, 13, 14, 15, 26, 28, 31]\n",
      "[16, 17, 18, 19, 20, 21, 22, 23, 24, 25, 27, 28, 30] --> [1, 2, 3, 4, 5, 6, 7, 8, 9, 10, 11, 12, 13, 14, 15, 26, 29, 31]\n",
      "[16, 17, 18, 19, 20, 21, 22, 23, 24, 25, 27, 28, 29] --> [1, 2, 3, 4, 5, 6, 7, 8, 9, 10, 11, 12, 13, 14, 15, 26, 30, 31]\n",
      "[16, 17, 18, 19, 20, 21, 22, 23, 24, 25, 26, 29, 30] --> [1, 2, 3, 4, 5, 6, 7, 8, 9, 10, 11, 12, 13, 14, 15, 27, 28, 31]\n",
      "[16, 17, 18, 19, 20, 21, 22, 23, 24, 25, 26, 28, 30] --> [1, 2, 3, 4, 5, 6, 7, 8, 9, 10, 11, 12, 13, 14, 15, 27, 29, 31]\n",
      "[16, 17, 18, 19, 20, 21, 22, 23, 24, 25, 26, 28, 29] --> [1, 2, 3, 4, 5, 6, 7, 8, 9, 10, 11, 12, 13, 14, 15, 27, 30, 31]\n",
      "[16, 17, 18, 19, 20, 21, 22, 23, 24, 25, 26, 27, 30] --> [1, 2, 3, 4, 5, 6, 7, 8, 9, 10, 11, 12, 13, 14, 15, 28, 29, 31]\n",
      "[16, 17, 18, 19, 20, 21, 22, 23, 24, 25, 26, 27, 29] --> [1, 2, 3, 4, 5, 6, 7, 8, 9, 10, 11, 12, 13, 14, 15, 28, 30, 31]\n",
      "[16, 17, 18, 19, 20, 21, 22, 23, 24, 25, 26, 27, 28] --> [1, 2, 3, 4, 5, 6, 7, 8, 9, 10, 11, 12, 13, 14, 15, 29, 30, 31]\n"
     ]
    },
    {
     "name": "stdout",
     "output_type": "stream",
     "text": [
      "[15, 17, 19, 20, 21, 22, 23, 24, 25, 26, 27, 31, 33] --> [1, 2, 3, 4, 5, 6, 7, 8, 9, 10, 11, 12, 13, 14, 16, 18, 28, 29]\n",
      "[15, 17, 18, 20, 21, 22, 23, 24, 25, 26, 27, 31] --> [1, 2, 3, 4, 5, 6, 7, 8, 9, 10, 11, 12, 13, 14, 16, 19, 28, 29]\n",
      "[15, 17, 18, 19, 21, 22, 23, 24, 25, 26, 27, 31] --> [1, 2, 3, 4, 5, 6, 7, 8, 9, 10, 11, 12, 13, 14, 16, 20, 28, 29]\n",
      "[15, 17, 18, 19, 20, 22, 23, 24, 25, 26, 27, 31] --> [1, 2, 3, 4, 5, 6, 7, 8, 9, 10, 11, 12, 13, 14, 16, 21, 28, 29]\n",
      "[15, 17, 18, 19, 20, 21, 23, 24, 25, 26, 27, 31] --> [1, 2, 3, 4, 5, 6, 7, 8, 9, 10, 11, 12, 13, 14, 16, 22, 28, 29]\n",
      "[15, 17, 18, 19, 20, 21, 22, 24, 25, 26, 27, 31] --> [1, 2, 3, 4, 5, 6, 7, 8, 9, 10, 11, 12, 13, 14, 16, 23, 28, 29]\n",
      "[15, 17, 18, 19, 20, 21, 22, 23, 25, 26, 27, 31] --> [1, 2, 3, 4, 5, 6, 7, 8, 9, 10, 11, 12, 13, 14, 16, 24, 28, 29]\n",
      "[15, 17, 18, 19, 20, 21, 22, 23, 24, 26, 27, 31] --> [1, 2, 3, 4, 5, 6, 7, 8, 9, 10, 11, 12, 13, 14, 16, 25, 28, 29]\n",
      "[15, 17, 18, 19, 20, 21, 22, 23, 24, 25, 27, 31] --> [1, 2, 3, 4, 5, 6, 7, 8, 9, 10, 11, 12, 13, 14, 16, 26, 28, 29]\n",
      "[15, 17, 18, 19, 20, 21, 22, 23, 24, 25, 26, 31] --> [1, 2, 3, 4, 5, 6, 7, 8, 9, 10, 11, 12, 13, 14, 16, 27, 28, 29]\n",
      "[15, 16, 19, 20, 21, 22, 23, 24, 25, 26, 28, 33] --> [1, 2, 3, 4, 5, 6, 7, 8, 9, 10, 11, 12, 13, 14, 17, 18, 27, 29]\n",
      "[15, 16, 18, 20, 21, 22, 23, 24, 25, 26, 27] --> [1, 2, 3, 4, 5, 6, 7, 8, 9, 10, 11, 12, 13, 14, 17, 19, 28, 29]\n",
      "[15, 16, 18, 19, 21, 22, 23, 24, 25, 26, 28] --> [1, 2, 3, 4, 5, 6, 7, 8, 9, 10, 11, 12, 13, 14, 17, 20, 27, 29]\n",
      "[15, 16, 18, 19, 21, 22, 23, 24, 25, 26, 27] --> [1, 2, 3, 4, 5, 6, 7, 8, 9, 10, 11, 12, 13, 14, 17, 20, 28, 29]\n",
      "[15, 16, 18, 19, 20, 22, 23, 24, 25, 26, 28] --> [1, 2, 3, 4, 5, 6, 7, 8, 9, 10, 11, 12, 13, 14, 17, 21, 27, 29]\n",
      "[15, 16, 18, 19, 20, 22, 23, 24, 25, 26, 27] --> [1, 2, 3, 4, 5, 6, 7, 8, 9, 10, 11, 12, 13, 14, 17, 21, 28, 29]\n",
      "[15, 16, 18, 19, 20, 21, 23, 24, 25, 26, 28] --> [1, 2, 3, 4, 5, 6, 7, 8, 9, 10, 11, 12, 13, 14, 17, 22, 27, 29]\n",
      "[15, 16, 18, 19, 20, 21, 23, 24, 25, 26, 27] --> [1, 2, 3, 4, 5, 6, 7, 8, 9, 10, 11, 12, 13, 14, 17, 22, 28, 29]\n",
      "[15, 16, 18, 19, 20, 21, 22, 24, 25, 26, 28] --> [1, 2, 3, 4, 5, 6, 7, 8, 9, 10, 11, 12, 13, 14, 17, 23, 27, 29]\n",
      "[15, 16, 18, 19, 20, 21, 22, 24, 25, 26, 27] --> [1, 2, 3, 4, 5, 6, 7, 8, 9, 10, 11, 12, 13, 14, 17, 23, 28, 29]\n",
      "[15, 16, 18, 19, 20, 21, 22, 23, 25, 26, 28] --> [1, 2, 3, 4, 5, 6, 7, 8, 9, 10, 11, 12, 13, 14, 17, 24, 27, 29]\n",
      "[15, 16, 18, 19, 20, 21, 22, 23, 25, 26, 27] --> [1, 2, 3, 4, 5, 6, 7, 8, 9, 10, 11, 12, 13, 14, 17, 24, 28, 29]\n",
      "[15, 16, 18, 19, 20, 21, 22, 23, 24, 26, 28] --> [1, 2, 3, 4, 5, 6, 7, 8, 9, 10, 11, 12, 13, 14, 17, 25, 27, 29]\n",
      "[15, 16, 18, 19, 20, 21, 22, 23, 24, 26, 27] --> [1, 2, 3, 4, 5, 6, 7, 8, 9, 10, 11, 12, 13, 14, 17, 25, 28, 29]\n",
      "[15, 16, 18, 19, 20, 21, 22, 23, 24, 25, 28] --> [1, 2, 3, 4, 5, 6, 7, 8, 9, 10, 11, 12, 13, 14, 17, 26, 27, 29]\n",
      "[15, 16, 18, 19, 20, 21, 22, 23, 24, 25, 27] --> [1, 2, 3, 4, 5, 6, 7, 8, 9, 10, 11, 12, 13, 14, 17, 26, 28, 29]\n",
      "[15, 16, 18, 19, 20, 21, 22, 23, 24, 25, 26] --> [1, 2, 3, 4, 5, 6, 7, 8, 9, 10, 11, 12, 13, 14, 17, 27, 28, 29]\n",
      "[15, 16, 17, 20, 21, 22, 23, 24, 25, 27, 28] --> [1, 2, 3, 4, 5, 6, 7, 8, 9, 10, 11, 12, 13, 14, 18, 19, 26, 29]\n",
      "[15, 16, 17, 20, 21, 22, 23, 24, 25, 26, 28] --> [1, 2, 3, 4, 5, 6, 7, 8, 9, 10, 11, 12, 13, 14, 18, 19, 27, 29]\n",
      "[15, 16, 17, 19, 21, 22, 23, 24, 25, 27, 28] --> [1, 2, 3, 4, 5, 6, 7, 8, 9, 10, 11, 12, 13, 14, 18, 20, 26, 29]\n",
      "[15, 16, 17, 19, 21, 22, 23, 24, 25, 26, 27] --> [1, 2, 3, 4, 5, 6, 7, 8, 9, 10, 11, 12, 13, 14, 18, 20, 28, 29]\n",
      "[15, 16, 17, 19, 20, 22, 23, 24, 25, 26, 28] --> [1, 2, 3, 4, 5, 6, 7, 8, 9, 10, 11, 12, 13, 14, 18, 21, 27, 29]\n",
      "[15, 16, 17, 19, 20, 22, 23, 24, 25, 26, 27] --> [1, 2, 3, 4, 5, 6, 7, 8, 9, 10, 11, 12, 13, 14, 18, 21, 28, 29]\n",
      "[15, 16, 17, 19, 20, 21, 23, 24, 25, 27, 28] --> [1, 2, 3, 4, 5, 6, 7, 8, 9, 10, 11, 12, 13, 14, 18, 22, 26, 29]\n",
      "[15, 16, 17, 19, 20, 21, 23, 24, 25, 26, 28] --> [1, 2, 3, 4, 5, 6, 7, 8, 9, 10, 11, 12, 13, 14, 18, 22, 27, 29]\n",
      "[15, 16, 17, 19, 20, 21, 23, 24, 25, 26, 27] --> [1, 2, 3, 4, 5, 6, 7, 8, 9, 10, 11, 12, 13, 14, 18, 22, 28, 29]\n",
      "[15, 16, 17, 19, 20, 21, 22, 24, 25, 27, 28] --> [1, 2, 3, 4, 5, 6, 7, 8, 9, 10, 11, 12, 13, 14, 18, 23, 26, 29]\n",
      "[15, 16, 17, 19, 20, 21, 22, 24, 25, 26, 28] --> [1, 2, 3, 4, 5, 6, 7, 8, 9, 10, 11, 12, 13, 14, 18, 23, 27, 29]\n",
      "[15, 16, 17, 19, 20, 21, 22, 24, 25, 26, 27] --> [1, 2, 3, 4, 5, 6, 7, 8, 9, 10, 11, 12, 13, 14, 18, 23, 28, 29]\n",
      "[15, 16, 17, 19, 20, 21, 22, 23, 25, 27, 28] --> [1, 2, 3, 4, 5, 6, 7, 8, 9, 10, 11, 12, 13, 14, 18, 24, 26, 29]\n",
      "[15, 16, 17, 19, 20, 21, 22, 23, 25, 26, 28] --> [1, 2, 3, 4, 5, 6, 7, 8, 9, 10, 11, 12, 13, 14, 18, 24, 27, 29]\n",
      "[15, 16, 17, 19, 20, 21, 22, 23, 25, 26, 27] --> [1, 2, 3, 4, 5, 6, 7, 8, 9, 10, 11, 12, 13, 14, 18, 24, 28, 29]\n",
      "[15, 16, 17, 19, 20, 21, 22, 23, 24, 27, 28] --> [1, 2, 3, 4, 5, 6, 7, 8, 9, 10, 11, 12, 13, 14, 18, 25, 26, 29]\n",
      "[15, 16, 17, 19, 20, 21, 22, 23, 24, 26, 28] --> [1, 2, 3, 4, 5, 6, 7, 8, 9, 10, 11, 12, 13, 14, 18, 25, 27, 29]\n",
      "[15, 16, 17, 19, 20, 21, 22, 23, 24, 26, 27] --> [1, 2, 3, 4, 5, 6, 7, 8, 9, 10, 11, 12, 13, 14, 18, 25, 28, 29]\n",
      "[15, 16, 17, 19, 20, 21, 22, 23, 24, 25, 28] --> [1, 2, 3, 4, 5, 6, 7, 8, 9, 10, 11, 12, 13, 14, 18, 26, 27, 29]\n",
      "[15, 16, 17, 19, 20, 21, 22, 23, 24, 25, 27] --> [1, 2, 3, 4, 5, 6, 7, 8, 9, 10, 11, 12, 13, 14, 18, 26, 28, 29]\n",
      "[15, 16, 17, 19, 20, 21, 22, 23, 24, 25, 26] --> [1, 2, 3, 4, 5, 6, 7, 8, 9, 10, 11, 12, 13, 14, 18, 27, 28, 29]\n",
      "[15, 16, 17, 18, 21, 22, 23, 24, 26, 27, 28] --> [1, 2, 3, 4, 5, 6, 7, 8, 9, 10, 11, 12, 13, 14, 19, 20, 25, 29]\n",
      "[15, 16, 17, 18, 21, 22, 23, 24, 25, 27, 28] --> [1, 2, 3, 4, 5, 6, 7, 8, 9, 10, 11, 12, 13, 14, 19, 20, 26, 29]\n",
      "[15, 16, 17, 18, 21, 22, 23, 24, 25, 26, 28] --> [1, 2, 3, 4, 5, 6, 7, 8, 9, 10, 11, 12, 13, 14, 19, 20, 27, 29]\n",
      "[15, 16, 17, 18, 20, 22, 23, 24, 26, 27, 28] --> [1, 2, 3, 4, 5, 6, 7, 8, 9, 10, 11, 12, 13, 14, 19, 21, 25, 29]\n",
      "[15, 16, 17, 18, 20, 22, 23, 24, 25, 27, 28] --> [1, 2, 3, 4, 5, 6, 7, 8, 9, 10, 11, 12, 13, 14, 19, 21, 26, 29]\n",
      "[15, 16, 17, 18, 20, 22, 23, 24, 25, 26, 27] --> [1, 2, 3, 4, 5, 6, 7, 8, 9, 10, 11, 12, 13, 14, 19, 21, 28, 29]\n",
      "[15, 16, 17, 18, 20, 21, 23, 24, 26, 27, 28] --> [1, 2, 3, 4, 5, 6, 7, 8, 9, 10, 11, 12, 13, 14, 19, 22, 25, 29]\n",
      "[15, 16, 17, 18, 20, 21, 23, 24, 25, 27, 28] --> [1, 2, 3, 4, 5, 6, 7, 8, 9, 10, 11, 12, 13, 14, 19, 22, 26, 29]\n",
      "[15, 16, 17, 18, 20, 21, 23, 24, 25, 26, 28] --> [1, 2, 3, 4, 5, 6, 7, 8, 9, 10, 11, 12, 13, 14, 19, 22, 27, 29]\n",
      "[15, 16, 17, 18, 20, 21, 23, 24, 25, 26, 27] --> [1, 2, 3, 4, 5, 6, 7, 8, 9, 10, 11, 12, 13, 14, 19, 22, 28, 29]\n",
      "[15, 16, 17, 18, 20, 21, 22, 24, 26, 27, 28] --> [1, 2, 3, 4, 5, 6, 7, 8, 9, 10, 11, 12, 13, 14, 19, 23, 25, 29]\n",
      "[15, 16, 17, 18, 20, 21, 22, 24, 25, 27, 28] --> [1, 2, 3, 4, 5, 6, 7, 8, 9, 10, 11, 12, 13, 14, 19, 23, 26, 29]\n",
      "[15, 16, 17, 18, 20, 21, 22, 24, 25, 26, 28] --> [1, 2, 3, 4, 5, 6, 7, 8, 9, 10, 11, 12, 13, 14, 19, 23, 27, 29]\n",
      "[15, 16, 17, 18, 20, 21, 22, 24, 25, 26, 27] --> [1, 2, 3, 4, 5, 6, 7, 8, 9, 10, 11, 12, 13, 14, 19, 23, 28, 29]\n",
      "[15, 16, 17, 18, 20, 21, 22, 23, 26, 27, 28] --> [1, 2, 3, 4, 5, 6, 7, 8, 9, 10, 11, 12, 13, 14, 19, 24, 25, 29]\n",
      "[15, 16, 17, 18, 20, 21, 22, 23, 25, 27, 28] --> [1, 2, 3, 4, 5, 6, 7, 8, 9, 10, 11, 12, 13, 14, 19, 24, 26, 29]\n",
      "[15, 16, 17, 18, 20, 21, 22, 23, 25, 26, 28] --> [1, 2, 3, 4, 5, 6, 7, 8, 9, 10, 11, 12, 13, 14, 19, 24, 27, 29]\n",
      "[15, 16, 17, 18, 20, 21, 22, 23, 25, 26, 27] --> [1, 2, 3, 4, 5, 6, 7, 8, 9, 10, 11, 12, 13, 14, 19, 24, 28, 29]\n",
      "[15, 16, 17, 18, 20, 21, 22, 23, 24, 27, 28] --> [1, 2, 3, 4, 5, 6, 7, 8, 9, 10, 11, 12, 13, 14, 19, 25, 26, 29]\n",
      "[15, 16, 17, 18, 20, 21, 22, 23, 24, 26, 28] --> [1, 2, 3, 4, 5, 6, 7, 8, 9, 10, 11, 12, 13, 14, 19, 25, 27, 29]\n",
      "[15, 16, 17, 18, 20, 21, 22, 23, 24, 26, 27] --> [1, 2, 3, 4, 5, 6, 7, 8, 9, 10, 11, 12, 13, 14, 19, 25, 28, 29]\n",
      "[15, 16, 17, 18, 20, 21, 22, 23, 24, 25, 28] --> [1, 2, 3, 4, 5, 6, 7, 8, 9, 10, 11, 12, 13, 14, 19, 26, 27, 29]\n",
      "[15, 16, 17, 18, 20, 21, 22, 23, 24, 25, 27] --> [1, 2, 3, 4, 5, 6, 7, 8, 9, 10, 11, 12, 13, 14, 19, 26, 28, 29]\n",
      "[15, 16, 17, 18, 20, 21, 22, 23, 24, 25, 26] --> [1, 2, 3, 4, 5, 6, 7, 8, 9, 10, 11, 12, 13, 14, 19, 27, 28, 29]\n",
      "[15, 16, 17, 18, 19, 22, 23, 25, 26, 27, 28] --> [1, 2, 3, 4, 5, 6, 7, 8, 9, 10, 11, 12, 13, 14, 20, 21, 24, 29]\n"
     ]
    },
    {
     "name": "stdout",
     "output_type": "stream",
     "text": [
      "[15, 16, 17, 18, 19, 22, 23, 24, 26, 27, 28] --> [1, 2, 3, 4, 5, 6, 7, 8, 9, 10, 11, 12, 13, 14, 20, 21, 25, 29]\n",
      "[15, 16, 17, 18, 19, 22, 23, 24, 25, 27, 28] --> [1, 2, 3, 4, 5, 6, 7, 8, 9, 10, 11, 12, 13, 14, 20, 21, 26, 29]\n",
      "[15, 16, 17, 18, 19, 22, 23, 24, 25, 26, 28] --> [1, 2, 3, 4, 5, 6, 7, 8, 9, 10, 11, 12, 13, 14, 20, 21, 27, 29]\n",
      "[15, 16, 17, 18, 19, 21, 23, 25, 26, 27, 28] --> [1, 2, 3, 4, 5, 6, 7, 8, 9, 10, 11, 12, 13, 14, 20, 22, 24, 29]\n",
      "[15, 16, 17, 18, 19, 21, 23, 24, 26, 27, 28] --> [1, 2, 3, 4, 5, 6, 7, 8, 9, 10, 11, 12, 13, 14, 20, 22, 25, 29]\n",
      "[15, 16, 17, 18, 19, 21, 23, 24, 25, 27, 28] --> [1, 2, 3, 4, 5, 6, 7, 8, 9, 10, 11, 12, 13, 14, 20, 22, 26, 29]\n",
      "[15, 16, 17, 18, 19, 21, 23, 24, 25, 26, 28] --> [1, 2, 3, 4, 5, 6, 7, 8, 9, 10, 11, 12, 13, 14, 20, 22, 27, 29]\n",
      "[15, 16, 17, 18, 19, 21, 23, 24, 25, 26, 27] --> [1, 2, 3, 4, 5, 6, 7, 8, 9, 10, 11, 12, 13, 14, 20, 22, 28, 29]\n",
      "[15, 16, 17, 18, 19, 21, 22, 25, 26, 27, 28] --> [1, 2, 3, 4, 5, 6, 7, 8, 9, 10, 11, 12, 13, 14, 20, 23, 24, 29]\n",
      "[15, 16, 17, 18, 19, 21, 22, 24, 26, 27, 28] --> [1, 2, 3, 4, 5, 6, 7, 8, 9, 10, 11, 12, 13, 14, 20, 23, 25, 29]\n",
      "[15, 16, 17, 18, 19, 21, 22, 24, 25, 27, 28] --> [1, 2, 3, 4, 5, 6, 7, 8, 9, 10, 11, 12, 13, 14, 20, 23, 26, 29]\n",
      "[15, 16, 17, 18, 19, 21, 22, 24, 25, 26, 28] --> [1, 2, 3, 4, 5, 6, 7, 8, 9, 10, 11, 12, 13, 14, 20, 23, 27, 29]\n",
      "[15, 16, 17, 18, 19, 21, 22, 24, 25, 26, 27] --> [1, 2, 3, 4, 5, 6, 7, 8, 9, 10, 11, 12, 13, 14, 20, 23, 28, 29]\n",
      "[15, 16, 17, 18, 19, 21, 22, 23, 26, 27, 28] --> [1, 2, 3, 4, 5, 6, 7, 8, 9, 10, 11, 12, 13, 14, 20, 24, 25, 29]\n",
      "[15, 16, 17, 18, 19, 21, 22, 23, 25, 27, 28] --> [1, 2, 3, 4, 5, 6, 7, 8, 9, 10, 11, 12, 13, 14, 20, 24, 26, 29]\n",
      "[15, 16, 17, 18, 19, 21, 22, 23, 25, 26, 28] --> [1, 2, 3, 4, 5, 6, 7, 8, 9, 10, 11, 12, 13, 14, 20, 24, 27, 29]\n",
      "[15, 16, 17, 18, 19, 21, 22, 23, 25, 26, 27] --> [1, 2, 3, 4, 5, 6, 7, 8, 9, 10, 11, 12, 13, 14, 20, 24, 28, 29]\n",
      "[15, 16, 17, 18, 19, 21, 22, 23, 24, 27, 28] --> [1, 2, 3, 4, 5, 6, 7, 8, 9, 10, 11, 12, 13, 14, 20, 25, 26, 29]\n",
      "[15, 16, 17, 18, 19, 21, 22, 23, 24, 26, 28] --> [1, 2, 3, 4, 5, 6, 7, 8, 9, 10, 11, 12, 13, 14, 20, 25, 27, 29]\n",
      "[15, 16, 17, 18, 19, 21, 22, 23, 24, 26, 27] --> [1, 2, 3, 4, 5, 6, 7, 8, 9, 10, 11, 12, 13, 14, 20, 25, 28, 29]\n",
      "[15, 16, 17, 18, 19, 21, 22, 23, 24, 25, 28] --> [1, 2, 3, 4, 5, 6, 7, 8, 9, 10, 11, 12, 13, 14, 20, 26, 27, 29]\n",
      "[15, 16, 17, 18, 19, 21, 22, 23, 24, 25, 27] --> [1, 2, 3, 4, 5, 6, 7, 8, 9, 10, 11, 12, 13, 14, 20, 26, 28, 29]\n",
      "[15, 16, 17, 18, 19, 21, 22, 23, 24, 25, 26] --> [1, 2, 3, 4, 5, 6, 7, 8, 9, 10, 11, 12, 13, 14, 20, 27, 28, 29]\n",
      "[15, 16, 17, 18, 19, 20, 24, 25, 26, 27, 28] --> [1, 2, 3, 4, 5, 6, 7, 8, 9, 10, 11, 12, 13, 14, 21, 22, 23, 29]\n",
      "[15, 16, 17, 18, 19, 20, 23, 25, 26, 27, 28] --> [1, 2, 3, 4, 5, 6, 7, 8, 9, 10, 11, 12, 13, 14, 21, 22, 24, 29]\n",
      "[15, 16, 17, 18, 19, 20, 23, 24, 26, 27, 28] --> [1, 2, 3, 4, 5, 6, 7, 8, 9, 10, 11, 12, 13, 14, 21, 22, 25, 29]\n",
      "[15, 16, 17, 18, 19, 20, 23, 24, 25, 27, 28] --> [1, 2, 3, 4, 5, 6, 7, 8, 9, 10, 11, 12, 13, 14, 21, 22, 26, 29]\n",
      "[15, 16, 17, 18, 19, 20, 23, 24, 25, 26, 28] --> [1, 2, 3, 4, 5, 6, 7, 8, 9, 10, 11, 12, 13, 14, 21, 22, 27, 29]\n",
      "[15, 16, 17, 18, 19, 20, 23, 24, 25, 26, 27] --> [1, 2, 3, 4, 5, 6, 7, 8, 9, 10, 11, 12, 13, 14, 21, 22, 28, 29]\n",
      "[15, 16, 17, 18, 19, 20, 22, 25, 26, 27, 28] --> [1, 2, 3, 4, 5, 6, 7, 8, 9, 10, 11, 12, 13, 14, 21, 23, 24, 29]\n",
      "[15, 16, 17, 18, 19, 20, 22, 24, 26, 27, 28] --> [1, 2, 3, 4, 5, 6, 7, 8, 9, 10, 11, 12, 13, 14, 21, 23, 25, 29]\n",
      "[15, 16, 17, 18, 19, 20, 22, 24, 25, 27, 28] --> [1, 2, 3, 4, 5, 6, 7, 8, 9, 10, 11, 12, 13, 14, 21, 23, 26, 29]\n",
      "[15, 16, 17, 18, 19, 20, 22, 24, 25, 26, 28] --> [1, 2, 3, 4, 5, 6, 7, 8, 9, 10, 11, 12, 13, 14, 21, 23, 27, 29]\n",
      "[15, 16, 17, 18, 19, 20, 22, 24, 25, 26, 27] --> [1, 2, 3, 4, 5, 6, 7, 8, 9, 10, 11, 12, 13, 14, 21, 23, 28, 29]\n",
      "[15, 16, 17, 18, 19, 20, 22, 23, 26, 27, 28] --> [1, 2, 3, 4, 5, 6, 7, 8, 9, 10, 11, 12, 13, 14, 21, 24, 25, 29]\n",
      "[15, 16, 17, 18, 19, 20, 22, 23, 25, 27, 28] --> [1, 2, 3, 4, 5, 6, 7, 8, 9, 10, 11, 12, 13, 14, 21, 24, 26, 29]\n",
      "[15, 16, 17, 18, 19, 20, 22, 23, 25, 26, 28] --> [1, 2, 3, 4, 5, 6, 7, 8, 9, 10, 11, 12, 13, 14, 21, 24, 27, 29]\n",
      "[15, 16, 17, 18, 19, 20, 22, 23, 25, 26, 27] --> [1, 2, 3, 4, 5, 6, 7, 8, 9, 10, 11, 12, 13, 14, 21, 24, 28, 29]\n",
      "[15, 16, 17, 18, 19, 20, 22, 23, 24, 27, 28] --> [1, 2, 3, 4, 5, 6, 7, 8, 9, 10, 11, 12, 13, 14, 21, 25, 26, 29]\n",
      "[15, 16, 17, 18, 19, 20, 22, 23, 24, 26, 28] --> [1, 2, 3, 4, 5, 6, 7, 8, 9, 10, 11, 12, 13, 14, 21, 25, 27, 29]\n",
      "[15, 16, 17, 18, 19, 20, 22, 23, 24, 26, 27] --> [1, 2, 3, 4, 5, 6, 7, 8, 9, 10, 11, 12, 13, 14, 21, 25, 28, 29]\n",
      "[15, 16, 17, 18, 19, 20, 22, 23, 24, 25, 28] --> [1, 2, 3, 4, 5, 6, 7, 8, 9, 10, 11, 12, 13, 14, 21, 26, 27, 29]\n",
      "[15, 16, 17, 18, 19, 20, 22, 23, 24, 25, 27] --> [1, 2, 3, 4, 5, 6, 7, 8, 9, 10, 11, 12, 13, 14, 21, 26, 28, 29]\n",
      "[15, 16, 17, 18, 19, 20, 22, 23, 24, 25, 26] --> [1, 2, 3, 4, 5, 6, 7, 8, 9, 10, 11, 12, 13, 14, 21, 27, 28, 29]\n",
      "[15, 16, 17, 18, 19, 20, 21, 25, 26, 27, 28] --> [1, 2, 3, 4, 5, 6, 7, 8, 9, 10, 11, 12, 13, 14, 22, 23, 24, 29]\n",
      "[15, 16, 17, 18, 19, 20, 21, 24, 26, 27, 28] --> [1, 2, 3, 4, 5, 6, 7, 8, 9, 10, 11, 12, 13, 14, 22, 23, 25, 29]\n",
      "[15, 16, 17, 18, 19, 20, 21, 24, 25, 27, 28] --> [1, 2, 3, 4, 5, 6, 7, 8, 9, 10, 11, 12, 13, 14, 22, 23, 26, 29]\n",
      "[15, 16, 17, 18, 19, 20, 21, 24, 25, 26, 28] --> [1, 2, 3, 4, 5, 6, 7, 8, 9, 10, 11, 12, 13, 14, 22, 23, 27, 29]\n",
      "[15, 16, 17, 18, 19, 20, 21, 24, 25, 26, 27] --> [1, 2, 3, 4, 5, 6, 7, 8, 9, 10, 11, 12, 13, 14, 22, 23, 28, 29]\n",
      "[15, 16, 17, 18, 19, 20, 21, 23, 26, 27, 28] --> [1, 2, 3, 4, 5, 6, 7, 8, 9, 10, 11, 12, 13, 14, 22, 24, 25, 29]\n",
      "[15, 16, 17, 18, 19, 20, 21, 23, 25, 27, 28] --> [1, 2, 3, 4, 5, 6, 7, 8, 9, 10, 11, 12, 13, 14, 22, 24, 26, 29]\n",
      "[15, 16, 17, 18, 19, 20, 21, 23, 25, 26, 28] --> [1, 2, 3, 4, 5, 6, 7, 8, 9, 10, 11, 12, 13, 14, 22, 24, 27, 29]\n",
      "[15, 16, 17, 18, 19, 20, 21, 23, 25, 26, 27] --> [1, 2, 3, 4, 5, 6, 7, 8, 9, 10, 11, 12, 13, 14, 22, 24, 28, 29]\n",
      "[15, 16, 17, 18, 19, 20, 21, 23, 24, 27, 28] --> [1, 2, 3, 4, 5, 6, 7, 8, 9, 10, 11, 12, 13, 14, 22, 25, 26, 29]\n",
      "[15, 16, 17, 18, 19, 20, 21, 23, 24, 26, 28] --> [1, 2, 3, 4, 5, 6, 7, 8, 9, 10, 11, 12, 13, 14, 22, 25, 27, 29]\n",
      "[15, 16, 17, 18, 19, 20, 21, 23, 24, 26, 27] --> [1, 2, 3, 4, 5, 6, 7, 8, 9, 10, 11, 12, 13, 14, 22, 25, 28, 29]\n",
      "[15, 16, 17, 18, 19, 20, 21, 23, 24, 25, 28] --> [1, 2, 3, 4, 5, 6, 7, 8, 9, 10, 11, 12, 13, 14, 22, 26, 27, 29]\n",
      "[15, 16, 17, 18, 19, 20, 21, 23, 24, 25, 27] --> [1, 2, 3, 4, 5, 6, 7, 8, 9, 10, 11, 12, 13, 14, 22, 26, 28, 29]\n",
      "[15, 16, 17, 18, 19, 20, 21, 23, 24, 25, 26] --> [1, 2, 3, 4, 5, 6, 7, 8, 9, 10, 11, 12, 13, 14, 22, 27, 28, 29]\n",
      "[15, 16, 17, 18, 19, 20, 21, 22, 26, 27, 28] --> [1, 2, 3, 4, 5, 6, 7, 8, 9, 10, 11, 12, 13, 14, 23, 24, 25, 29]\n",
      "[15, 16, 17, 18, 19, 20, 21, 22, 25, 27, 28] --> [1, 2, 3, 4, 5, 6, 7, 8, 9, 10, 11, 12, 13, 14, 23, 24, 26, 29]\n",
      "[15, 16, 17, 18, 19, 20, 21, 22, 25, 26, 28] --> [1, 2, 3, 4, 5, 6, 7, 8, 9, 10, 11, 12, 13, 14, 23, 24, 27, 29]\n",
      "[15, 16, 17, 18, 19, 20, 21, 22, 25, 26, 27] --> [1, 2, 3, 4, 5, 6, 7, 8, 9, 10, 11, 12, 13, 14, 23, 24, 28, 29]\n",
      "[15, 16, 17, 18, 19, 20, 21, 22, 24, 27, 28] --> [1, 2, 3, 4, 5, 6, 7, 8, 9, 10, 11, 12, 13, 14, 23, 25, 26, 29]\n",
      "[15, 16, 17, 18, 19, 20, 21, 22, 24, 26, 28] --> [1, 2, 3, 4, 5, 6, 7, 8, 9, 10, 11, 12, 13, 14, 23, 25, 27, 29]\n",
      "[15, 16, 17, 18, 19, 20, 21, 22, 24, 26, 27] --> [1, 2, 3, 4, 5, 6, 7, 8, 9, 10, 11, 12, 13, 14, 23, 25, 28, 29]\n",
      "[15, 16, 17, 18, 19, 20, 21, 22, 24, 25, 28] --> [1, 2, 3, 4, 5, 6, 7, 8, 9, 10, 11, 12, 13, 14, 23, 26, 27, 29]\n",
      "[15, 16, 17, 18, 19, 20, 21, 22, 24, 25, 27] --> [1, 2, 3, 4, 5, 6, 7, 8, 9, 10, 11, 12, 13, 14, 23, 26, 28, 29]\n",
      "[15, 16, 17, 18, 19, 20, 21, 22, 24, 25, 26] --> [1, 2, 3, 4, 5, 6, 7, 8, 9, 10, 11, 12, 13, 14, 23, 27, 28, 29]\n",
      "[15, 16, 17, 18, 19, 20, 21, 22, 23, 27, 28] --> [1, 2, 3, 4, 5, 6, 7, 8, 9, 10, 11, 12, 13, 14, 24, 25, 26, 29]\n",
      "[15, 16, 17, 18, 19, 20, 21, 22, 23, 26, 28] --> [1, 2, 3, 4, 5, 6, 7, 8, 9, 10, 11, 12, 13, 14, 24, 25, 27, 29]\n",
      "[15, 16, 17, 18, 19, 20, 21, 22, 23, 26, 27] --> [1, 2, 3, 4, 5, 6, 7, 8, 9, 10, 11, 12, 13, 14, 24, 25, 28, 29]\n",
      "[15, 16, 17, 18, 19, 20, 21, 22, 23, 25, 28] --> [1, 2, 3, 4, 5, 6, 7, 8, 9, 10, 11, 12, 13, 14, 24, 26, 27, 29]\n"
     ]
    },
    {
     "name": "stdout",
     "output_type": "stream",
     "text": [
      "[15, 16, 17, 18, 19, 20, 21, 22, 23, 25, 27] --> [1, 2, 3, 4, 5, 6, 7, 8, 9, 10, 11, 12, 13, 14, 24, 26, 28, 29]\n",
      "[15, 16, 17, 18, 19, 20, 21, 22, 23, 25, 26] --> [1, 2, 3, 4, 5, 6, 7, 8, 9, 10, 11, 12, 13, 14, 24, 27, 28, 29]\n",
      "[15, 16, 17, 18, 19, 20, 21, 22, 23, 24, 28] --> [1, 2, 3, 4, 5, 6, 7, 8, 9, 10, 11, 12, 13, 14, 25, 26, 27, 29]\n",
      "[15, 16, 17, 18, 19, 20, 21, 22, 23, 24, 27] --> [1, 2, 3, 4, 5, 6, 7, 8, 9, 10, 11, 12, 13, 14, 25, 26, 28, 29]\n",
      "[15, 16, 17, 18, 19, 20, 21, 22, 23, 24, 26] --> [1, 2, 3, 4, 5, 6, 7, 8, 9, 10, 11, 12, 13, 14, 25, 27, 28, 29]\n",
      "[15, 16, 17, 18, 19, 20, 21, 22, 23, 24, 25] --> [1, 2, 3, 4, 5, 6, 7, 8, 9, 10, 11, 12, 13, 14, 26, 27, 28, 29]\n",
      "[14, 17, 18, 19, 20, 21, 22, 23, 24, 29, 30] --> [1, 2, 3, 4, 5, 6, 7, 8, 9, 10, 11, 12, 13, 15, 16, 25, 26, 27]\n",
      "[14, 16, 18, 20, 21, 22, 23, 24, 25, 29, 31, 33] --> [1, 2, 3, 4, 5, 6, 7, 8, 9, 10, 11, 12, 13, 15, 17, 19, 26, 27]\n",
      "[14, 16, 18, 19, 21, 22, 23, 24, 25, 29, 31] --> [1, 2, 3, 4, 5, 6, 7, 8, 9, 10, 11, 12, 13, 15, 17, 20, 26, 27]\n",
      "[14, 16, 18, 19, 20, 22, 23, 24, 25, 29, 31] --> [1, 2, 3, 4, 5, 6, 7, 8, 9, 10, 11, 12, 13, 15, 17, 21, 26, 27]\n",
      "[14, 16, 18, 19, 20, 21, 23, 24, 25, 29, 31] --> [1, 2, 3, 4, 5, 6, 7, 8, 9, 10, 11, 12, 13, 15, 17, 22, 26, 27]\n",
      "[14, 16, 18, 19, 20, 21, 22, 24, 25, 29, 31] --> [1, 2, 3, 4, 5, 6, 7, 8, 9, 10, 11, 12, 13, 15, 17, 23, 26, 27]\n",
      "[14, 16, 18, 19, 20, 21, 22, 23, 25, 29, 31] --> [1, 2, 3, 4, 5, 6, 7, 8, 9, 10, 11, 12, 13, 15, 17, 24, 26, 27]\n",
      "[14, 16, 18, 19, 20, 21, 22, 23, 24, 29, 31] --> [1, 2, 3, 4, 5, 6, 7, 8, 9, 10, 11, 12, 13, 15, 17, 25, 26, 27]\n",
      "[14, 16, 17, 19, 21, 22, 23, 24, 25, 29] --> [1, 2, 3, 4, 5, 6, 7, 8, 9, 10, 11, 12, 13, 15, 18, 20, 26, 27]\n",
      "[14, 16, 17, 19, 20, 22, 23, 24, 25, 29] --> [1, 2, 3, 4, 5, 6, 7, 8, 9, 10, 11, 12, 13, 15, 18, 21, 26, 27]\n",
      "[14, 16, 17, 19, 20, 21, 23, 24, 25, 29] --> [1, 2, 3, 4, 5, 6, 7, 8, 9, 10, 11, 12, 13, 15, 18, 22, 26, 27]\n",
      "[14, 16, 17, 19, 20, 21, 22, 24, 25, 29] --> [1, 2, 3, 4, 5, 6, 7, 8, 9, 10, 11, 12, 13, 15, 18, 23, 26, 27]\n",
      "[14, 16, 17, 19, 20, 21, 22, 23, 25, 29] --> [1, 2, 3, 4, 5, 6, 7, 8, 9, 10, 11, 12, 13, 15, 18, 24, 26, 27]\n",
      "[14, 16, 17, 19, 20, 21, 22, 23, 24, 29] --> [1, 2, 3, 4, 5, 6, 7, 8, 9, 10, 11, 12, 13, 15, 18, 25, 26, 27]\n",
      "[14, 16, 17, 18, 20, 22, 23, 24, 25, 29] --> [1, 2, 3, 4, 5, 6, 7, 8, 9, 10, 11, 12, 13, 15, 19, 21, 26, 27]\n",
      "[14, 16, 17, 18, 20, 21, 23, 24, 25, 29] --> [1, 2, 3, 4, 5, 6, 7, 8, 9, 10, 11, 12, 13, 15, 19, 22, 26, 27]\n",
      "[14, 16, 17, 18, 20, 21, 22, 24, 25, 29] --> [1, 2, 3, 4, 5, 6, 7, 8, 9, 10, 11, 12, 13, 15, 19, 23, 26, 27]\n",
      "[14, 16, 17, 18, 20, 21, 22, 23, 25, 29] --> [1, 2, 3, 4, 5, 6, 7, 8, 9, 10, 11, 12, 13, 15, 19, 24, 26, 27]\n",
      "[14, 16, 17, 18, 20, 21, 22, 23, 24, 29] --> [1, 2, 3, 4, 5, 6, 7, 8, 9, 10, 11, 12, 13, 15, 19, 25, 26, 27]\n",
      "[14, 16, 17, 18, 19, 22, 23, 24, 25, 29] --> [1, 2, 3, 4, 5, 6, 7, 8, 9, 10, 11, 12, 13, 15, 20, 21, 26, 27]\n",
      "[14, 16, 17, 18, 19, 21, 23, 24, 25, 29] --> [1, 2, 3, 4, 5, 6, 7, 8, 9, 10, 11, 12, 13, 15, 20, 22, 26, 27]\n",
      "[14, 16, 17, 18, 19, 21, 22, 24, 25, 29] --> [1, 2, 3, 4, 5, 6, 7, 8, 9, 10, 11, 12, 13, 15, 20, 23, 26, 27]\n",
      "[14, 16, 17, 18, 19, 21, 22, 23, 25, 29] --> [1, 2, 3, 4, 5, 6, 7, 8, 9, 10, 11, 12, 13, 15, 20, 24, 26, 27]\n",
      "[14, 16, 17, 18, 19, 21, 22, 23, 24, 29] --> [1, 2, 3, 4, 5, 6, 7, 8, 9, 10, 11, 12, 13, 15, 20, 25, 26, 27]\n",
      "[14, 16, 17, 18, 19, 20, 23, 24, 25, 29] --> [1, 2, 3, 4, 5, 6, 7, 8, 9, 10, 11, 12, 13, 15, 21, 22, 26, 27]\n",
      "[14, 16, 17, 18, 19, 20, 22, 24, 25, 29] --> [1, 2, 3, 4, 5, 6, 7, 8, 9, 10, 11, 12, 13, 15, 21, 23, 26, 27]\n",
      "[14, 16, 17, 18, 19, 20, 22, 23, 25, 29] --> [1, 2, 3, 4, 5, 6, 7, 8, 9, 10, 11, 12, 13, 15, 21, 24, 26, 27]\n",
      "[14, 16, 17, 18, 19, 20, 22, 23, 24, 29] --> [1, 2, 3, 4, 5, 6, 7, 8, 9, 10, 11, 12, 13, 15, 21, 25, 26, 27]\n",
      "[14, 16, 17, 18, 19, 20, 21, 24, 25, 29] --> [1, 2, 3, 4, 5, 6, 7, 8, 9, 10, 11, 12, 13, 15, 22, 23, 26, 27]\n",
      "[14, 16, 17, 18, 19, 20, 21, 23, 25, 29] --> [1, 2, 3, 4, 5, 6, 7, 8, 9, 10, 11, 12, 13, 15, 22, 24, 26, 27]\n",
      "[14, 16, 17, 18, 19, 20, 21, 23, 24, 29] --> [1, 2, 3, 4, 5, 6, 7, 8, 9, 10, 11, 12, 13, 15, 22, 25, 26, 27]\n",
      "[14, 16, 17, 18, 19, 20, 21, 22, 25, 29] --> [1, 2, 3, 4, 5, 6, 7, 8, 9, 10, 11, 12, 13, 15, 23, 24, 26, 27]\n",
      "[14, 16, 17, 18, 19, 20, 21, 22, 24, 29] --> [1, 2, 3, 4, 5, 6, 7, 8, 9, 10, 11, 12, 13, 15, 23, 25, 26, 27]\n",
      "[14, 16, 17, 18, 19, 20, 21, 22, 23, 29] --> [1, 2, 3, 4, 5, 6, 7, 8, 9, 10, 11, 12, 13, 15, 24, 25, 26, 27]\n",
      "[14, 15, 18, 19, 21, 22, 23, 24, 26, 31] --> [1, 2, 3, 4, 5, 6, 7, 8, 9, 10, 11, 12, 13, 16, 17, 20, 25, 27]\n",
      "[14, 15, 18, 19, 20, 22, 23, 24, 26, 31] --> [1, 2, 3, 4, 5, 6, 7, 8, 9, 10, 11, 12, 13, 16, 17, 21, 25, 27]\n",
      "[14, 15, 18, 19, 20, 21, 23, 24, 26, 31] --> [1, 2, 3, 4, 5, 6, 7, 8, 9, 10, 11, 12, 13, 16, 17, 22, 25, 27]\n",
      "[14, 15, 18, 19, 20, 21, 22, 24, 26, 31] --> [1, 2, 3, 4, 5, 6, 7, 8, 9, 10, 11, 12, 13, 16, 17, 23, 25, 27]\n",
      "[14, 15, 18, 19, 20, 21, 22, 23, 26, 31] --> [1, 2, 3, 4, 5, 6, 7, 8, 9, 10, 11, 12, 13, 16, 17, 24, 25, 27]\n",
      "[14, 15, 18, 19, 20, 21, 22, 23, 25, 31] --> [1, 2, 3, 4, 5, 6, 7, 8, 9, 10, 11, 12, 13, 16, 17, 24, 26, 27]\n",
      "[14, 15, 18, 19, 20, 21, 22, 23, 24, 31] --> [1, 2, 3, 4, 5, 6, 7, 8, 9, 10, 11, 12, 13, 16, 17, 25, 26, 27]\n",
      "[14, 15, 17, 19, 21, 22, 23, 24, 25] --> [1, 2, 3, 4, 5, 6, 7, 8, 9, 10, 11, 12, 13, 16, 18, 20, 26, 27]\n",
      "[14, 15, 17, 19, 20, 22, 23, 24, 25] --> [1, 2, 3, 4, 5, 6, 7, 8, 9, 10, 11, 12, 13, 16, 18, 21, 26, 27]\n",
      "[14, 15, 17, 19, 20, 21, 23, 24, 25] --> [1, 2, 3, 4, 5, 6, 7, 8, 9, 10, 11, 12, 13, 16, 18, 22, 26, 27]\n",
      "[14, 15, 17, 19, 20, 21, 22, 24, 26] --> [1, 2, 3, 4, 5, 6, 7, 8, 9, 10, 11, 12, 13, 16, 18, 23, 25, 27]\n",
      "[14, 15, 17, 19, 20, 21, 22, 24, 25] --> [1, 2, 3, 4, 5, 6, 7, 8, 9, 10, 11, 12, 13, 16, 18, 23, 26, 27]\n",
      "[14, 15, 17, 19, 20, 21, 22, 23, 26] --> [1, 2, 3, 4, 5, 6, 7, 8, 9, 10, 11, 12, 13, 16, 18, 24, 25, 27]\n",
      "[14, 15, 17, 19, 20, 21, 22, 23, 25] --> [1, 2, 3, 4, 5, 6, 7, 8, 9, 10, 11, 12, 13, 16, 18, 24, 26, 27]\n",
      "[14, 15, 17, 19, 20, 21, 22, 23, 24] --> [1, 2, 3, 4, 5, 6, 7, 8, 9, 10, 11, 12, 13, 16, 18, 25, 26, 27]\n",
      "[14, 15, 17, 18, 21, 22, 23, 24, 26] --> [1, 2, 3, 4, 5, 6, 7, 8, 9, 10, 11, 12, 13, 16, 19, 20, 25, 27]\n",
      "[14, 15, 17, 18, 20, 22, 23, 24, 26] --> [1, 2, 3, 4, 5, 6, 7, 8, 9, 10, 11, 12, 13, 16, 19, 21, 25, 27]\n",
      "[14, 15, 17, 18, 20, 22, 23, 24, 25] --> [1, 2, 3, 4, 5, 6, 7, 8, 9, 10, 11, 12, 13, 16, 19, 21, 26, 27]\n",
      "[14, 15, 17, 18, 20, 21, 23, 24, 26] --> [1, 2, 3, 4, 5, 6, 7, 8, 9, 10, 11, 12, 13, 16, 19, 22, 25, 27]\n",
      "[14, 15, 17, 18, 20, 21, 23, 24, 25] --> [1, 2, 3, 4, 5, 6, 7, 8, 9, 10, 11, 12, 13, 16, 19, 22, 26, 27]\n",
      "[14, 15, 17, 18, 20, 21, 22, 24, 26] --> [1, 2, 3, 4, 5, 6, 7, 8, 9, 10, 11, 12, 13, 16, 19, 23, 25, 27]\n",
      "[14, 15, 17, 18, 20, 21, 22, 24, 25] --> [1, 2, 3, 4, 5, 6, 7, 8, 9, 10, 11, 12, 13, 16, 19, 23, 26, 27]\n",
      "[14, 15, 17, 18, 20, 21, 22, 23, 26] --> [1, 2, 3, 4, 5, 6, 7, 8, 9, 10, 11, 12, 13, 16, 19, 24, 25, 27]\n",
      "[14, 15, 17, 18, 20, 21, 22, 23, 25] --> [1, 2, 3, 4, 5, 6, 7, 8, 9, 10, 11, 12, 13, 16, 19, 24, 26, 27]\n",
      "[14, 15, 17, 18, 20, 21, 22, 23, 24] --> [1, 2, 3, 4, 5, 6, 7, 8, 9, 10, 11, 12, 13, 16, 19, 25, 26, 27]\n",
      "[14, 15, 17, 18, 19, 22, 23, 24, 26] --> [1, 2, 3, 4, 5, 6, 7, 8, 9, 10, 11, 12, 13, 16, 20, 21, 25, 27]\n",
      "[14, 15, 17, 18, 19, 22, 23, 24, 25] --> [1, 2, 3, 4, 5, 6, 7, 8, 9, 10, 11, 12, 13, 16, 20, 21, 26, 27]\n",
      "[14, 15, 17, 18, 19, 21, 23, 24, 26] --> [1, 2, 3, 4, 5, 6, 7, 8, 9, 10, 11, 12, 13, 16, 20, 22, 25, 27]\n",
      "[14, 15, 17, 18, 19, 21, 23, 24, 25] --> [1, 2, 3, 4, 5, 6, 7, 8, 9, 10, 11, 12, 13, 16, 20, 22, 26, 27]\n",
      "[14, 15, 17, 18, 19, 21, 22, 24, 26] --> [1, 2, 3, 4, 5, 6, 7, 8, 9, 10, 11, 12, 13, 16, 20, 23, 25, 27]\n",
      "[14, 15, 17, 18, 19, 21, 22, 24, 25] --> [1, 2, 3, 4, 5, 6, 7, 8, 9, 10, 11, 12, 13, 16, 20, 23, 26, 27]\n",
      "[14, 15, 17, 18, 19, 21, 22, 23, 26] --> [1, 2, 3, 4, 5, 6, 7, 8, 9, 10, 11, 12, 13, 16, 20, 24, 25, 27]\n",
      "[14, 15, 17, 18, 19, 21, 22, 23, 25] --> [1, 2, 3, 4, 5, 6, 7, 8, 9, 10, 11, 12, 13, 16, 20, 24, 26, 27]\n",
      "[14, 15, 17, 18, 19, 21, 22, 23, 24] --> [1, 2, 3, 4, 5, 6, 7, 8, 9, 10, 11, 12, 13, 16, 20, 25, 26, 27]\n",
      "[14, 15, 17, 18, 19, 20, 23, 24, 26] --> [1, 2, 3, 4, 5, 6, 7, 8, 9, 10, 11, 12, 13, 16, 21, 22, 25, 27]\n",
      "[14, 15, 17, 18, 19, 20, 23, 24, 25] --> [1, 2, 3, 4, 5, 6, 7, 8, 9, 10, 11, 12, 13, 16, 21, 22, 26, 27]\n"
     ]
    },
    {
     "name": "stdout",
     "output_type": "stream",
     "text": [
      "[14, 15, 17, 18, 19, 20, 22, 24, 26] --> [1, 2, 3, 4, 5, 6, 7, 8, 9, 10, 11, 12, 13, 16, 21, 23, 25, 27]\n",
      "[14, 15, 17, 18, 19, 20, 22, 24, 25] --> [1, 2, 3, 4, 5, 6, 7, 8, 9, 10, 11, 12, 13, 16, 21, 23, 26, 27]\n",
      "[14, 15, 17, 18, 19, 20, 22, 23, 26] --> [1, 2, 3, 4, 5, 6, 7, 8, 9, 10, 11, 12, 13, 16, 21, 24, 25, 27]\n",
      "[14, 15, 17, 18, 19, 20, 22, 23, 25] --> [1, 2, 3, 4, 5, 6, 7, 8, 9, 10, 11, 12, 13, 16, 21, 24, 26, 27]\n",
      "[14, 15, 17, 18, 19, 20, 22, 23, 24] --> [1, 2, 3, 4, 5, 6, 7, 8, 9, 10, 11, 12, 13, 16, 21, 25, 26, 27]\n",
      "[14, 15, 17, 18, 19, 20, 21, 24, 26] --> [1, 2, 3, 4, 5, 6, 7, 8, 9, 10, 11, 12, 13, 16, 22, 23, 25, 27]\n",
      "[14, 15, 17, 18, 19, 20, 21, 24, 25] --> [1, 2, 3, 4, 5, 6, 7, 8, 9, 10, 11, 12, 13, 16, 22, 23, 26, 27]\n",
      "[14, 15, 17, 18, 19, 20, 21, 23, 26] --> [1, 2, 3, 4, 5, 6, 7, 8, 9, 10, 11, 12, 13, 16, 22, 24, 25, 27]\n",
      "[14, 15, 17, 18, 19, 20, 21, 23, 25] --> [1, 2, 3, 4, 5, 6, 7, 8, 9, 10, 11, 12, 13, 16, 22, 24, 26, 27]\n",
      "[14, 15, 17, 18, 19, 20, 21, 23, 24] --> [1, 2, 3, 4, 5, 6, 7, 8, 9, 10, 11, 12, 13, 16, 22, 25, 26, 27]\n",
      "[14, 15, 17, 18, 19, 20, 21, 22, 26] --> [1, 2, 3, 4, 5, 6, 7, 8, 9, 10, 11, 12, 13, 16, 23, 24, 25, 27]\n",
      "[14, 15, 17, 18, 19, 20, 21, 22, 25] --> [1, 2, 3, 4, 5, 6, 7, 8, 9, 10, 11, 12, 13, 16, 23, 24, 26, 27]\n",
      "[14, 15, 17, 18, 19, 20, 21, 22, 24] --> [1, 2, 3, 4, 5, 6, 7, 8, 9, 10, 11, 12, 13, 16, 23, 25, 26, 27]\n",
      "[14, 15, 17, 18, 19, 20, 21, 22, 23] --> [1, 2, 3, 4, 5, 6, 7, 8, 9, 10, 11, 12, 13, 16, 24, 25, 26, 27]\n",
      "[14, 15, 16, 20, 21, 22, 23, 25, 26, 33] --> [1, 2, 3, 4, 5, 6, 7, 8, 9, 10, 11, 12, 13, 17, 18, 19, 24, 27]\n",
      "[14, 15, 16, 19, 20, 22, 23, 25, 26] --> [1, 2, 3, 4, 5, 6, 7, 8, 9, 10, 11, 12, 13, 17, 18, 21, 24, 27]\n",
      "[14, 15, 16, 19, 20, 22, 23, 24, 26] --> [1, 2, 3, 4, 5, 6, 7, 8, 9, 10, 11, 12, 13, 17, 18, 21, 25, 27]\n",
      "[14, 15, 16, 19, 20, 21, 23, 25, 26] --> [1, 2, 3, 4, 5, 6, 7, 8, 9, 10, 11, 12, 13, 17, 18, 22, 24, 27]\n",
      "[14, 15, 16, 19, 20, 21, 23, 24, 26] --> [1, 2, 3, 4, 5, 6, 7, 8, 9, 10, 11, 12, 13, 17, 18, 22, 25, 27]\n",
      "[14, 15, 16, 19, 20, 21, 22, 25, 26] --> [1, 2, 3, 4, 5, 6, 7, 8, 9, 10, 11, 12, 13, 17, 18, 23, 24, 27]\n",
      "[14, 15, 16, 19, 20, 21, 22, 24, 26] --> [1, 2, 3, 4, 5, 6, 7, 8, 9, 10, 11, 12, 13, 17, 18, 23, 25, 27]\n",
      "[14, 15, 16, 19, 20, 21, 22, 24, 25] --> [1, 2, 3, 4, 5, 6, 7, 8, 9, 10, 11, 12, 13, 17, 18, 23, 26, 27]\n",
      "[14, 15, 16, 19, 20, 21, 22, 23, 26] --> [1, 2, 3, 4, 5, 6, 7, 8, 9, 10, 11, 12, 13, 17, 18, 24, 25, 27]\n",
      "[14, 15, 16, 19, 20, 21, 22, 23, 25] --> [1, 2, 3, 4, 5, 6, 7, 8, 9, 10, 11, 12, 13, 17, 18, 24, 26, 27]\n",
      "[14, 15, 16, 19, 20, 21, 22, 23, 24] --> [1, 2, 3, 4, 5, 6, 7, 8, 9, 10, 11, 12, 13, 17, 18, 25, 26, 27]\n",
      "[14, 15, 16, 18, 20, 22, 23, 25, 26] --> [1, 2, 3, 4, 5, 6, 7, 8, 9, 10, 11, 12, 13, 17, 19, 21, 24, 27]\n",
      "[14, 15, 16, 18, 20, 22, 23, 24, 25] --> [1, 2, 3, 4, 5, 6, 7, 8, 9, 10, 11, 12, 13, 17, 19, 21, 26, 27]\n",
      "[14, 15, 16, 18, 20, 21, 23, 25, 26] --> [1, 2, 3, 4, 5, 6, 7, 8, 9, 10, 11, 12, 13, 17, 19, 22, 24, 27]\n",
      "[14, 15, 16, 18, 20, 21, 23, 24, 26] --> [1, 2, 3, 4, 5, 6, 7, 8, 9, 10, 11, 12, 13, 17, 19, 22, 25, 27]\n",
      "[14, 15, 16, 18, 20, 21, 23, 24, 25] --> [1, 2, 3, 4, 5, 6, 7, 8, 9, 10, 11, 12, 13, 17, 19, 22, 26, 27]\n",
      "[14, 15, 16, 18, 20, 21, 22, 25, 26] --> [1, 2, 3, 4, 5, 6, 7, 8, 9, 10, 11, 12, 13, 17, 19, 23, 24, 27]\n",
      "[14, 15, 16, 18, 20, 21, 22, 24, 26] --> [1, 2, 3, 4, 5, 6, 7, 8, 9, 10, 11, 12, 13, 17, 19, 23, 25, 27]\n",
      "[14, 15, 16, 18, 20, 21, 22, 24, 25] --> [1, 2, 3, 4, 5, 6, 7, 8, 9, 10, 11, 12, 13, 17, 19, 23, 26, 27]\n",
      "[14, 15, 16, 18, 20, 21, 22, 23, 26] --> [1, 2, 3, 4, 5, 6, 7, 8, 9, 10, 11, 12, 13, 17, 19, 24, 25, 27]\n",
      "[14, 15, 16, 18, 20, 21, 22, 23, 25] --> [1, 2, 3, 4, 5, 6, 7, 8, 9, 10, 11, 12, 13, 17, 19, 24, 26, 27]\n",
      "[14, 15, 16, 18, 20, 21, 22, 23, 24] --> [1, 2, 3, 4, 5, 6, 7, 8, 9, 10, 11, 12, 13, 17, 19, 25, 26, 27]\n",
      "[14, 15, 16, 18, 19, 22, 23, 25, 26] --> [1, 2, 3, 4, 5, 6, 7, 8, 9, 10, 11, 12, 13, 17, 20, 21, 24, 27]\n",
      "[14, 15, 16, 18, 19, 22, 23, 24, 26] --> [1, 2, 3, 4, 5, 6, 7, 8, 9, 10, 11, 12, 13, 17, 20, 21, 25, 27]\n",
      "[14, 15, 16, 18, 19, 22, 23, 24, 25] --> [1, 2, 3, 4, 5, 6, 7, 8, 9, 10, 11, 12, 13, 17, 20, 21, 26, 27]\n",
      "[14, 15, 16, 18, 19, 21, 23, 25, 26] --> [1, 2, 3, 4, 5, 6, 7, 8, 9, 10, 11, 12, 13, 17, 20, 22, 24, 27]\n",
      "[14, 15, 16, 18, 19, 21, 23, 24, 26] --> [1, 2, 3, 4, 5, 6, 7, 8, 9, 10, 11, 12, 13, 17, 20, 22, 25, 27]\n",
      "[14, 15, 16, 18, 19, 21, 23, 24, 25] --> [1, 2, 3, 4, 5, 6, 7, 8, 9, 10, 11, 12, 13, 17, 20, 22, 26, 27]\n",
      "[14, 15, 16, 18, 19, 21, 22, 25, 26] --> [1, 2, 3, 4, 5, 6, 7, 8, 9, 10, 11, 12, 13, 17, 20, 23, 24, 27]\n",
      "[14, 15, 16, 18, 19, 21, 22, 24, 26] --> [1, 2, 3, 4, 5, 6, 7, 8, 9, 10, 11, 12, 13, 17, 20, 23, 25, 27]\n",
      "[14, 15, 16, 18, 19, 21, 22, 24, 25] --> [1, 2, 3, 4, 5, 6, 7, 8, 9, 10, 11, 12, 13, 17, 20, 23, 26, 27]\n",
      "[14, 15, 16, 18, 19, 21, 22, 23, 26] --> [1, 2, 3, 4, 5, 6, 7, 8, 9, 10, 11, 12, 13, 17, 20, 24, 25, 27]\n",
      "[14, 15, 16, 18, 19, 21, 22, 23, 25] --> [1, 2, 3, 4, 5, 6, 7, 8, 9, 10, 11, 12, 13, 17, 20, 24, 26, 27]\n",
      "[14, 15, 16, 18, 19, 21, 22, 23, 24] --> [1, 2, 3, 4, 5, 6, 7, 8, 9, 10, 11, 12, 13, 17, 20, 25, 26, 27]\n",
      "[14, 15, 16, 18, 19, 20, 23, 25, 26] --> [1, 2, 3, 4, 5, 6, 7, 8, 9, 10, 11, 12, 13, 17, 21, 22, 24, 27]\n",
      "[14, 15, 16, 18, 19, 20, 23, 24, 26] --> [1, 2, 3, 4, 5, 6, 7, 8, 9, 10, 11, 12, 13, 17, 21, 22, 25, 27]\n",
      "[14, 15, 16, 18, 19, 20, 23, 24, 25] --> [1, 2, 3, 4, 5, 6, 7, 8, 9, 10, 11, 12, 13, 17, 21, 22, 26, 27]\n",
      "[14, 15, 16, 18, 19, 20, 22, 25, 26] --> [1, 2, 3, 4, 5, 6, 7, 8, 9, 10, 11, 12, 13, 17, 21, 23, 24, 27]\n",
      "[14, 15, 16, 18, 19, 20, 22, 24, 26] --> [1, 2, 3, 4, 5, 6, 7, 8, 9, 10, 11, 12, 13, 17, 21, 23, 25, 27]\n",
      "[14, 15, 16, 18, 19, 20, 22, 24, 25] --> [1, 2, 3, 4, 5, 6, 7, 8, 9, 10, 11, 12, 13, 17, 21, 23, 26, 27]\n",
      "[14, 15, 16, 18, 19, 20, 22, 23, 26] --> [1, 2, 3, 4, 5, 6, 7, 8, 9, 10, 11, 12, 13, 17, 21, 24, 25, 27]\n",
      "[14, 15, 16, 18, 19, 20, 22, 23, 25] --> [1, 2, 3, 4, 5, 6, 7, 8, 9, 10, 11, 12, 13, 17, 21, 24, 26, 27]\n",
      "[14, 15, 16, 18, 19, 20, 22, 23, 24] --> [1, 2, 3, 4, 5, 6, 7, 8, 9, 10, 11, 12, 13, 17, 21, 25, 26, 27]\n",
      "[14, 15, 16, 18, 19, 20, 21, 25, 26] --> [1, 2, 3, 4, 5, 6, 7, 8, 9, 10, 11, 12, 13, 17, 22, 23, 24, 27]\n",
      "[14, 15, 16, 18, 19, 20, 21, 24, 26] --> [1, 2, 3, 4, 5, 6, 7, 8, 9, 10, 11, 12, 13, 17, 22, 23, 25, 27]\n",
      "[14, 15, 16, 18, 19, 20, 21, 24, 25] --> [1, 2, 3, 4, 5, 6, 7, 8, 9, 10, 11, 12, 13, 17, 22, 23, 26, 27]\n",
      "[14, 15, 16, 18, 19, 20, 21, 23, 26] --> [1, 2, 3, 4, 5, 6, 7, 8, 9, 10, 11, 12, 13, 17, 22, 24, 25, 27]\n",
      "[14, 15, 16, 18, 19, 20, 21, 23, 25] --> [1, 2, 3, 4, 5, 6, 7, 8, 9, 10, 11, 12, 13, 17, 22, 24, 26, 27]\n",
      "[14, 15, 16, 18, 19, 20, 21, 23, 24] --> [1, 2, 3, 4, 5, 6, 7, 8, 9, 10, 11, 12, 13, 17, 22, 25, 26, 27]\n",
      "[14, 15, 16, 18, 19, 20, 21, 22, 26] --> [1, 2, 3, 4, 5, 6, 7, 8, 9, 10, 11, 12, 13, 17, 23, 24, 25, 27]\n",
      "[14, 15, 16, 18, 19, 20, 21, 22, 25] --> [1, 2, 3, 4, 5, 6, 7, 8, 9, 10, 11, 12, 13, 17, 23, 24, 26, 27]\n",
      "[14, 15, 16, 18, 19, 20, 21, 22, 24] --> [1, 2, 3, 4, 5, 6, 7, 8, 9, 10, 11, 12, 13, 17, 23, 25, 26, 27]\n",
      "[14, 15, 16, 18, 19, 20, 21, 22, 23] --> [1, 2, 3, 4, 5, 6, 7, 8, 9, 10, 11, 12, 13, 17, 24, 25, 26, 27]\n",
      "[14, 15, 16, 17, 21, 22, 24, 25, 26] --> [1, 2, 3, 4, 5, 6, 7, 8, 9, 10, 11, 12, 13, 18, 19, 20, 23, 27]\n",
      "[14, 15, 16, 17, 21, 22, 23, 25, 26] --> [1, 2, 3, 4, 5, 6, 7, 8, 9, 10, 11, 12, 13, 18, 19, 20, 24, 27]\n",
      "[14, 15, 16, 17, 20, 22, 24, 25, 26] --> [1, 2, 3, 4, 5, 6, 7, 8, 9, 10, 11, 12, 13, 18, 19, 21, 23, 27]\n",
      "[14, 15, 16, 17, 20, 22, 23, 25, 26] --> [1, 2, 3, 4, 5, 6, 7, 8, 9, 10, 11, 12, 13, 18, 19, 21, 24, 27]\n",
      "[14, 15, 16, 17, 20, 22, 23, 24, 26] --> [1, 2, 3, 4, 5, 6, 7, 8, 9, 10, 11, 12, 13, 18, 19, 21, 25, 27]\n",
      "[14, 15, 16, 17, 20, 21, 24, 25, 26] --> [1, 2, 3, 4, 5, 6, 7, 8, 9, 10, 11, 12, 13, 18, 19, 22, 23, 27]\n",
      "[14, 15, 16, 17, 20, 21, 23, 25, 26] --> [1, 2, 3, 4, 5, 6, 7, 8, 9, 10, 11, 12, 13, 18, 19, 22, 24, 27]\n",
      "[14, 15, 16, 17, 20, 21, 23, 24, 26] --> [1, 2, 3, 4, 5, 6, 7, 8, 9, 10, 11, 12, 13, 18, 19, 22, 25, 27]\n",
      "[14, 15, 16, 17, 20, 21, 23, 24, 25] --> [1, 2, 3, 4, 5, 6, 7, 8, 9, 10, 11, 12, 13, 18, 19, 22, 26, 27]\n",
      "[14, 15, 16, 17, 20, 21, 22, 25, 26] --> [1, 2, 3, 4, 5, 6, 7, 8, 9, 10, 11, 12, 13, 18, 19, 23, 24, 27]\n",
      "[14, 15, 16, 17, 20, 21, 22, 24, 26] --> [1, 2, 3, 4, 5, 6, 7, 8, 9, 10, 11, 12, 13, 18, 19, 23, 25, 27]\n",
      "[14, 15, 16, 17, 20, 21, 22, 24, 25] --> [1, 2, 3, 4, 5, 6, 7, 8, 9, 10, 11, 12, 13, 18, 19, 23, 26, 27]\n"
     ]
    },
    {
     "name": "stdout",
     "output_type": "stream",
     "text": [
      "[14, 15, 16, 17, 20, 21, 22, 23, 26] --> [1, 2, 3, 4, 5, 6, 7, 8, 9, 10, 11, 12, 13, 18, 19, 24, 25, 27]\n",
      "[14, 15, 16, 17, 20, 21, 22, 23, 25] --> [1, 2, 3, 4, 5, 6, 7, 8, 9, 10, 11, 12, 13, 18, 19, 24, 26, 27]\n",
      "[14, 15, 16, 17, 20, 21, 22, 23, 24] --> [1, 2, 3, 4, 5, 6, 7, 8, 9, 10, 11, 12, 13, 18, 19, 25, 26, 27]\n",
      "[14, 15, 16, 17, 19, 22, 24, 25, 26] --> [1, 2, 3, 4, 5, 6, 7, 8, 9, 10, 11, 12, 13, 18, 20, 21, 23, 27]\n",
      "[14, 15, 16, 17, 19, 22, 23, 25, 26] --> [1, 2, 3, 4, 5, 6, 7, 8, 9, 10, 11, 12, 13, 18, 20, 21, 24, 27]\n",
      "[14, 15, 16, 17, 19, 22, 23, 24, 26] --> [1, 2, 3, 4, 5, 6, 7, 8, 9, 10, 11, 12, 13, 18, 20, 21, 25, 27]\n",
      "[14, 15, 16, 17, 19, 22, 23, 24, 25] --> [1, 2, 3, 4, 5, 6, 7, 8, 9, 10, 11, 12, 13, 18, 20, 21, 26, 27]\n",
      "[14, 15, 16, 17, 19, 21, 24, 25, 26] --> [1, 2, 3, 4, 5, 6, 7, 8, 9, 10, 11, 12, 13, 18, 20, 22, 23, 27]\n",
      "[14, 15, 16, 17, 19, 21, 23, 25, 26] --> [1, 2, 3, 4, 5, 6, 7, 8, 9, 10, 11, 12, 13, 18, 20, 22, 24, 27]\n",
      "[14, 15, 16, 17, 19, 21, 23, 24, 26] --> [1, 2, 3, 4, 5, 6, 7, 8, 9, 10, 11, 12, 13, 18, 20, 22, 25, 27]\n",
      "[14, 15, 16, 17, 19, 21, 23, 24, 25] --> [1, 2, 3, 4, 5, 6, 7, 8, 9, 10, 11, 12, 13, 18, 20, 22, 26, 27]\n",
      "[14, 15, 16, 17, 19, 21, 22, 25, 26] --> [1, 2, 3, 4, 5, 6, 7, 8, 9, 10, 11, 12, 13, 18, 20, 23, 24, 27]\n",
      "[14, 15, 16, 17, 19, 21, 22, 24, 26] --> [1, 2, 3, 4, 5, 6, 7, 8, 9, 10, 11, 12, 13, 18, 20, 23, 25, 27]\n",
      "[14, 15, 16, 17, 19, 21, 22, 24, 25] --> [1, 2, 3, 4, 5, 6, 7, 8, 9, 10, 11, 12, 13, 18, 20, 23, 26, 27]\n",
      "[14, 15, 16, 17, 19, 21, 22, 23, 26] --> [1, 2, 3, 4, 5, 6, 7, 8, 9, 10, 11, 12, 13, 18, 20, 24, 25, 27]\n",
      "[14, 15, 16, 17, 19, 21, 22, 23, 25] --> [1, 2, 3, 4, 5, 6, 7, 8, 9, 10, 11, 12, 13, 18, 20, 24, 26, 27]\n",
      "[14, 15, 16, 17, 19, 21, 22, 23, 24] --> [1, 2, 3, 4, 5, 6, 7, 8, 9, 10, 11, 12, 13, 18, 20, 25, 26, 27]\n",
      "[14, 15, 16, 17, 19, 20, 24, 25, 26] --> [1, 2, 3, 4, 5, 6, 7, 8, 9, 10, 11, 12, 13, 18, 21, 22, 23, 27]\n",
      "[14, 15, 16, 17, 19, 20, 23, 25, 26] --> [1, 2, 3, 4, 5, 6, 7, 8, 9, 10, 11, 12, 13, 18, 21, 22, 24, 27]\n",
      "[14, 15, 16, 17, 19, 20, 23, 24, 26] --> [1, 2, 3, 4, 5, 6, 7, 8, 9, 10, 11, 12, 13, 18, 21, 22, 25, 27]\n",
      "[14, 15, 16, 17, 19, 20, 23, 24, 25] --> [1, 2, 3, 4, 5, 6, 7, 8, 9, 10, 11, 12, 13, 18, 21, 22, 26, 27]\n",
      "[14, 15, 16, 17, 19, 20, 22, 25, 26] --> [1, 2, 3, 4, 5, 6, 7, 8, 9, 10, 11, 12, 13, 18, 21, 23, 24, 27]\n",
      "[14, 15, 16, 17, 19, 20, 22, 24, 26] --> [1, 2, 3, 4, 5, 6, 7, 8, 9, 10, 11, 12, 13, 18, 21, 23, 25, 27]\n",
      "[14, 15, 16, 17, 19, 20, 22, 24, 25] --> [1, 2, 3, 4, 5, 6, 7, 8, 9, 10, 11, 12, 13, 18, 21, 23, 26, 27]\n",
      "[14, 15, 16, 17, 19, 20, 22, 23, 26] --> [1, 2, 3, 4, 5, 6, 7, 8, 9, 10, 11, 12, 13, 18, 21, 24, 25, 27]\n",
      "[14, 15, 16, 17, 19, 20, 22, 23, 25] --> [1, 2, 3, 4, 5, 6, 7, 8, 9, 10, 11, 12, 13, 18, 21, 24, 26, 27]\n",
      "[14, 15, 16, 17, 19, 20, 22, 23, 24] --> [1, 2, 3, 4, 5, 6, 7, 8, 9, 10, 11, 12, 13, 18, 21, 25, 26, 27]\n",
      "[14, 15, 16, 17, 19, 20, 21, 25, 26] --> [1, 2, 3, 4, 5, 6, 7, 8, 9, 10, 11, 12, 13, 18, 22, 23, 24, 27]\n",
      "[14, 15, 16, 17, 19, 20, 21, 24, 26] --> [1, 2, 3, 4, 5, 6, 7, 8, 9, 10, 11, 12, 13, 18, 22, 23, 25, 27]\n",
      "[14, 15, 16, 17, 19, 20, 21, 24, 25] --> [1, 2, 3, 4, 5, 6, 7, 8, 9, 10, 11, 12, 13, 18, 22, 23, 26, 27]\n",
      "[14, 15, 16, 17, 19, 20, 21, 23, 26] --> [1, 2, 3, 4, 5, 6, 7, 8, 9, 10, 11, 12, 13, 18, 22, 24, 25, 27]\n",
      "[14, 15, 16, 17, 19, 20, 21, 23, 25] --> [1, 2, 3, 4, 5, 6, 7, 8, 9, 10, 11, 12, 13, 18, 22, 24, 26, 27]\n",
      "[14, 15, 16, 17, 19, 20, 21, 23, 24] --> [1, 2, 3, 4, 5, 6, 7, 8, 9, 10, 11, 12, 13, 18, 22, 25, 26, 27]\n",
      "[14, 15, 16, 17, 19, 20, 21, 22, 26] --> [1, 2, 3, 4, 5, 6, 7, 8, 9, 10, 11, 12, 13, 18, 23, 24, 25, 27]\n",
      "[14, 15, 16, 17, 19, 20, 21, 22, 25] --> [1, 2, 3, 4, 5, 6, 7, 8, 9, 10, 11, 12, 13, 18, 23, 24, 26, 27]\n",
      "[14, 15, 16, 17, 19, 20, 21, 22, 24] --> [1, 2, 3, 4, 5, 6, 7, 8, 9, 10, 11, 12, 13, 18, 23, 25, 26, 27]\n",
      "[14, 15, 16, 17, 19, 20, 21, 22, 23] --> [1, 2, 3, 4, 5, 6, 7, 8, 9, 10, 11, 12, 13, 18, 24, 25, 26, 27]\n",
      "[14, 15, 16, 17, 18, 23, 24, 25, 26] --> [1, 2, 3, 4, 5, 6, 7, 8, 9, 10, 11, 12, 13, 19, 20, 21, 22, 27]\n",
      "[14, 15, 16, 17, 18, 22, 24, 25, 26] --> [1, 2, 3, 4, 5, 6, 7, 8, 9, 10, 11, 12, 13, 19, 20, 21, 23, 27]\n",
      "[14, 15, 16, 17, 18, 22, 23, 25, 26] --> [1, 2, 3, 4, 5, 6, 7, 8, 9, 10, 11, 12, 13, 19, 20, 21, 24, 27]\n",
      "[14, 15, 16, 17, 18, 22, 23, 24, 26] --> [1, 2, 3, 4, 5, 6, 7, 8, 9, 10, 11, 12, 13, 19, 20, 21, 25, 27]\n",
      "[14, 15, 16, 17, 18, 22, 23, 24, 25] --> [1, 2, 3, 4, 5, 6, 7, 8, 9, 10, 11, 12, 13, 19, 20, 21, 26, 27]\n",
      "[14, 15, 16, 17, 18, 21, 24, 25, 26] --> [1, 2, 3, 4, 5, 6, 7, 8, 9, 10, 11, 12, 13, 19, 20, 22, 23, 27]\n",
      "[14, 15, 16, 17, 18, 21, 23, 25, 26] --> [1, 2, 3, 4, 5, 6, 7, 8, 9, 10, 11, 12, 13, 19, 20, 22, 24, 27]\n",
      "[14, 15, 16, 17, 18, 21, 23, 24, 26] --> [1, 2, 3, 4, 5, 6, 7, 8, 9, 10, 11, 12, 13, 19, 20, 22, 25, 27]\n",
      "[14, 15, 16, 17, 18, 21, 23, 24, 25] --> [1, 2, 3, 4, 5, 6, 7, 8, 9, 10, 11, 12, 13, 19, 20, 22, 26, 27]\n",
      "[14, 15, 16, 17, 18, 21, 22, 25, 26] --> [1, 2, 3, 4, 5, 6, 7, 8, 9, 10, 11, 12, 13, 19, 20, 23, 24, 27]\n",
      "[14, 15, 16, 17, 18, 21, 22, 24, 26] --> [1, 2, 3, 4, 5, 6, 7, 8, 9, 10, 11, 12, 13, 19, 20, 23, 25, 27]\n",
      "[14, 15, 16, 17, 18, 21, 22, 24, 25] --> [1, 2, 3, 4, 5, 6, 7, 8, 9, 10, 11, 12, 13, 19, 20, 23, 26, 27]\n",
      "[14, 15, 16, 17, 18, 21, 22, 23, 26] --> [1, 2, 3, 4, 5, 6, 7, 8, 9, 10, 11, 12, 13, 19, 20, 24, 25, 27]\n",
      "[14, 15, 16, 17, 18, 21, 22, 23, 25] --> [1, 2, 3, 4, 5, 6, 7, 8, 9, 10, 11, 12, 13, 19, 20, 24, 26, 27]\n",
      "[14, 15, 16, 17, 18, 21, 22, 23, 24] --> [1, 2, 3, 4, 5, 6, 7, 8, 9, 10, 11, 12, 13, 19, 20, 25, 26, 27]\n",
      "[14, 15, 16, 17, 18, 20, 24, 25, 26] --> [1, 2, 3, 4, 5, 6, 7, 8, 9, 10, 11, 12, 13, 19, 21, 22, 23, 27]\n",
      "[14, 15, 16, 17, 18, 20, 23, 25, 26] --> [1, 2, 3, 4, 5, 6, 7, 8, 9, 10, 11, 12, 13, 19, 21, 22, 24, 27]\n",
      "[14, 15, 16, 17, 18, 20, 23, 24, 26] --> [1, 2, 3, 4, 5, 6, 7, 8, 9, 10, 11, 12, 13, 19, 21, 22, 25, 27]\n",
      "[14, 15, 16, 17, 18, 20, 23, 24, 25] --> [1, 2, 3, 4, 5, 6, 7, 8, 9, 10, 11, 12, 13, 19, 21, 22, 26, 27]\n",
      "[14, 15, 16, 17, 18, 20, 22, 25, 26] --> [1, 2, 3, 4, 5, 6, 7, 8, 9, 10, 11, 12, 13, 19, 21, 23, 24, 27]\n",
      "[14, 15, 16, 17, 18, 20, 22, 24, 26] --> [1, 2, 3, 4, 5, 6, 7, 8, 9, 10, 11, 12, 13, 19, 21, 23, 25, 27]\n",
      "[14, 15, 16, 17, 18, 20, 22, 24, 25] --> [1, 2, 3, 4, 5, 6, 7, 8, 9, 10, 11, 12, 13, 19, 21, 23, 26, 27]\n",
      "[14, 15, 16, 17, 18, 20, 22, 23, 26] --> [1, 2, 3, 4, 5, 6, 7, 8, 9, 10, 11, 12, 13, 19, 21, 24, 25, 27]\n",
      "[14, 15, 16, 17, 18, 20, 22, 23, 25] --> [1, 2, 3, 4, 5, 6, 7, 8, 9, 10, 11, 12, 13, 19, 21, 24, 26, 27]\n",
      "[14, 15, 16, 17, 18, 20, 22, 23, 24] --> [1, 2, 3, 4, 5, 6, 7, 8, 9, 10, 11, 12, 13, 19, 21, 25, 26, 27]\n",
      "[14, 15, 16, 17, 18, 20, 21, 25, 26] --> [1, 2, 3, 4, 5, 6, 7, 8, 9, 10, 11, 12, 13, 19, 22, 23, 24, 27]\n",
      "[14, 15, 16, 17, 18, 20, 21, 24, 26] --> [1, 2, 3, 4, 5, 6, 7, 8, 9, 10, 11, 12, 13, 19, 22, 23, 25, 27]\n",
      "[14, 15, 16, 17, 18, 20, 21, 24, 25] --> [1, 2, 3, 4, 5, 6, 7, 8, 9, 10, 11, 12, 13, 19, 22, 23, 26, 27]\n",
      "[14, 15, 16, 17, 18, 20, 21, 23, 26] --> [1, 2, 3, 4, 5, 6, 7, 8, 9, 10, 11, 12, 13, 19, 22, 24, 25, 27]\n",
      "[14, 15, 16, 17, 18, 20, 21, 23, 25] --> [1, 2, 3, 4, 5, 6, 7, 8, 9, 10, 11, 12, 13, 19, 22, 24, 26, 27]\n",
      "[14, 15, 16, 17, 18, 20, 21, 23, 24] --> [1, 2, 3, 4, 5, 6, 7, 8, 9, 10, 11, 12, 13, 19, 22, 25, 26, 27]\n",
      "[14, 15, 16, 17, 18, 20, 21, 22, 26] --> [1, 2, 3, 4, 5, 6, 7, 8, 9, 10, 11, 12, 13, 19, 23, 24, 25, 27]\n",
      "[14, 15, 16, 17, 18, 20, 21, 22, 25] --> [1, 2, 3, 4, 5, 6, 7, 8, 9, 10, 11, 12, 13, 19, 23, 24, 26, 27]\n",
      "[14, 15, 16, 17, 18, 20, 21, 22, 24] --> [1, 2, 3, 4, 5, 6, 7, 8, 9, 10, 11, 12, 13, 19, 23, 25, 26, 27]\n",
      "[14, 15, 16, 17, 18, 20, 21, 22, 23] --> [1, 2, 3, 4, 5, 6, 7, 8, 9, 10, 11, 12, 13, 19, 24, 25, 26, 27]\n",
      "[14, 15, 16, 17, 18, 19, 24, 25, 26] --> [1, 2, 3, 4, 5, 6, 7, 8, 9, 10, 11, 12, 13, 20, 21, 22, 23, 27]\n",
      "[14, 15, 16, 17, 18, 19, 23, 25, 26] --> [1, 2, 3, 4, 5, 6, 7, 8, 9, 10, 11, 12, 13, 20, 21, 22, 24, 27]\n",
      "[14, 15, 16, 17, 18, 19, 23, 24, 26] --> [1, 2, 3, 4, 5, 6, 7, 8, 9, 10, 11, 12, 13, 20, 21, 22, 25, 27]\n",
      "[14, 15, 16, 17, 18, 19, 23, 24, 25] --> [1, 2, 3, 4, 5, 6, 7, 8, 9, 10, 11, 12, 13, 20, 21, 22, 26, 27]\n",
      "[14, 15, 16, 17, 18, 19, 22, 25, 26] --> [1, 2, 3, 4, 5, 6, 7, 8, 9, 10, 11, 12, 13, 20, 21, 23, 24, 27]\n",
      "[14, 15, 16, 17, 18, 19, 22, 24, 26] --> [1, 2, 3, 4, 5, 6, 7, 8, 9, 10, 11, 12, 13, 20, 21, 23, 25, 27]\n",
      "[14, 15, 16, 17, 18, 19, 22, 24, 25] --> [1, 2, 3, 4, 5, 6, 7, 8, 9, 10, 11, 12, 13, 20, 21, 23, 26, 27]\n"
     ]
    },
    {
     "name": "stdout",
     "output_type": "stream",
     "text": [
      "[14, 15, 16, 17, 18, 19, 22, 23, 26] --> [1, 2, 3, 4, 5, 6, 7, 8, 9, 10, 11, 12, 13, 20, 21, 24, 25, 27]\n",
      "[14, 15, 16, 17, 18, 19, 22, 23, 25] --> [1, 2, 3, 4, 5, 6, 7, 8, 9, 10, 11, 12, 13, 20, 21, 24, 26, 27]\n",
      "[14, 15, 16, 17, 18, 19, 22, 23, 24] --> [1, 2, 3, 4, 5, 6, 7, 8, 9, 10, 11, 12, 13, 20, 21, 25, 26, 27]\n",
      "[14, 15, 16, 17, 18, 19, 21, 25, 26] --> [1, 2, 3, 4, 5, 6, 7, 8, 9, 10, 11, 12, 13, 20, 22, 23, 24, 27]\n",
      "[14, 15, 16, 17, 18, 19, 21, 24, 26] --> [1, 2, 3, 4, 5, 6, 7, 8, 9, 10, 11, 12, 13, 20, 22, 23, 25, 27]\n",
      "[14, 15, 16, 17, 18, 19, 21, 24, 25] --> [1, 2, 3, 4, 5, 6, 7, 8, 9, 10, 11, 12, 13, 20, 22, 23, 26, 27]\n",
      "[14, 15, 16, 17, 18, 19, 21, 23, 26] --> [1, 2, 3, 4, 5, 6, 7, 8, 9, 10, 11, 12, 13, 20, 22, 24, 25, 27]\n",
      "[14, 15, 16, 17, 18, 19, 21, 23, 25] --> [1, 2, 3, 4, 5, 6, 7, 8, 9, 10, 11, 12, 13, 20, 22, 24, 26, 27]\n",
      "[14, 15, 16, 17, 18, 19, 21, 23, 24] --> [1, 2, 3, 4, 5, 6, 7, 8, 9, 10, 11, 12, 13, 20, 22, 25, 26, 27]\n",
      "[14, 15, 16, 17, 18, 19, 21, 22, 26] --> [1, 2, 3, 4, 5, 6, 7, 8, 9, 10, 11, 12, 13, 20, 23, 24, 25, 27]\n",
      "[14, 15, 16, 17, 18, 19, 21, 22, 25] --> [1, 2, 3, 4, 5, 6, 7, 8, 9, 10, 11, 12, 13, 20, 23, 24, 26, 27]\n",
      "[14, 15, 16, 17, 18, 19, 21, 22, 24] --> [1, 2, 3, 4, 5, 6, 7, 8, 9, 10, 11, 12, 13, 20, 23, 25, 26, 27]\n",
      "[14, 15, 16, 17, 18, 19, 21, 22, 23] --> [1, 2, 3, 4, 5, 6, 7, 8, 9, 10, 11, 12, 13, 20, 24, 25, 26, 27]\n",
      "[14, 15, 16, 17, 18, 19, 20, 25, 26] --> [1, 2, 3, 4, 5, 6, 7, 8, 9, 10, 11, 12, 13, 21, 22, 23, 24, 27]\n",
      "[14, 15, 16, 17, 18, 19, 20, 24, 26] --> [1, 2, 3, 4, 5, 6, 7, 8, 9, 10, 11, 12, 13, 21, 22, 23, 25, 27]\n",
      "[14, 15, 16, 17, 18, 19, 20, 24, 25] --> [1, 2, 3, 4, 5, 6, 7, 8, 9, 10, 11, 12, 13, 21, 22, 23, 26, 27]\n",
      "[14, 15, 16, 17, 18, 19, 20, 23, 26] --> [1, 2, 3, 4, 5, 6, 7, 8, 9, 10, 11, 12, 13, 21, 22, 24, 25, 27]\n",
      "[14, 15, 16, 17, 18, 19, 20, 23, 25] --> [1, 2, 3, 4, 5, 6, 7, 8, 9, 10, 11, 12, 13, 21, 22, 24, 26, 27]\n",
      "[14, 15, 16, 17, 18, 19, 20, 23, 24] --> [1, 2, 3, 4, 5, 6, 7, 8, 9, 10, 11, 12, 13, 21, 22, 25, 26, 27]\n",
      "[14, 15, 16, 17, 18, 19, 20, 22, 26] --> [1, 2, 3, 4, 5, 6, 7, 8, 9, 10, 11, 12, 13, 21, 23, 24, 25, 27]\n",
      "[14, 15, 16, 17, 18, 19, 20, 22, 25] --> [1, 2, 3, 4, 5, 6, 7, 8, 9, 10, 11, 12, 13, 21, 23, 24, 26, 27]\n",
      "[14, 15, 16, 17, 18, 19, 20, 22, 24] --> [1, 2, 3, 4, 5, 6, 7, 8, 9, 10, 11, 12, 13, 21, 23, 25, 26, 27]\n",
      "[14, 15, 16, 17, 18, 19, 20, 22, 23] --> [1, 2, 3, 4, 5, 6, 7, 8, 9, 10, 11, 12, 13, 21, 24, 25, 26, 27]\n",
      "[14, 15, 16, 17, 18, 19, 20, 21, 26] --> [1, 2, 3, 4, 5, 6, 7, 8, 9, 10, 11, 12, 13, 22, 23, 24, 25, 27]\n",
      "[14, 15, 16, 17, 18, 19, 20, 21, 25] --> [1, 2, 3, 4, 5, 6, 7, 8, 9, 10, 11, 12, 13, 22, 23, 24, 26, 27]\n",
      "[14, 15, 16, 17, 18, 19, 20, 21, 24] --> [1, 2, 3, 4, 5, 6, 7, 8, 9, 10, 11, 12, 13, 22, 23, 25, 26, 27]\n",
      "[14, 15, 16, 17, 18, 19, 20, 21, 23] --> [1, 2, 3, 4, 5, 6, 7, 8, 9, 10, 11, 12, 13, 22, 24, 25, 26, 27]\n",
      "[14, 15, 16, 17, 18, 19, 20, 21, 22] --> [1, 2, 3, 4, 5, 6, 7, 8, 9, 10, 11, 12, 13, 23, 24, 25, 26, 27]\n",
      "[13, 16, 18, 19, 20, 21, 22, 27, 28, 30] --> [1, 2, 3, 4, 5, 6, 7, 8, 9, 10, 11, 12, 14, 15, 17, 23, 24, 25]\n",
      "[13, 16, 17, 19, 20, 21, 22, 27, 28, 31] --> [1, 2, 3, 4, 5, 6, 7, 8, 9, 10, 11, 12, 14, 15, 18, 23, 24, 25]\n",
      "[13, 16, 17, 18, 20, 21, 22, 27, 28] --> [1, 2, 3, 4, 5, 6, 7, 8, 9, 10, 11, 12, 14, 15, 19, 23, 24, 25]\n",
      "[13, 16, 17, 18, 19, 21, 22, 27, 28] --> [1, 2, 3, 4, 5, 6, 7, 8, 9, 10, 11, 12, 14, 15, 20, 23, 24, 25]\n",
      "[13, 16, 17, 18, 19, 20, 22, 27, 28] --> [1, 2, 3, 4, 5, 6, 7, 8, 9, 10, 11, 12, 14, 15, 21, 23, 24, 25]\n",
      "[13, 16, 17, 18, 19, 20, 21, 27, 28] --> [1, 2, 3, 4, 5, 6, 7, 8, 9, 10, 11, 12, 14, 15, 22, 23, 24, 25]\n",
      "[13, 15, 18, 19, 20, 22, 23, 27, 29] --> [1, 2, 3, 4, 5, 6, 7, 8, 9, 10, 11, 12, 14, 16, 17, 21, 24, 25]\n",
      "[13, 15, 18, 19, 20, 21, 22, 27, 29] --> [1, 2, 3, 4, 5, 6, 7, 8, 9, 10, 11, 12, 14, 16, 17, 23, 24, 25]\n",
      "[13, 15, 17, 20, 21, 22, 23, 27, 29, 31] --> [1, 2, 3, 4, 5, 6, 7, 8, 9, 10, 11, 12, 14, 16, 18, 19, 24, 25]\n",
      "[13, 15, 17, 19, 21, 22, 23, 27, 29, 31, 33] --> [1, 2, 3, 4, 5, 6, 7, 8, 9, 10, 11, 12, 14, 16, 18, 20, 24, 25]\n",
      "[13, 15, 17, 19, 20, 22, 23, 27, 29, 31] --> [1, 2, 3, 4, 5, 6, 7, 8, 9, 10, 11, 12, 14, 16, 18, 21, 24, 25]\n",
      "[13, 15, 17, 19, 20, 21, 23, 27, 29, 31] --> [1, 2, 3, 4, 5, 6, 7, 8, 9, 10, 11, 12, 14, 16, 18, 22, 24, 25]\n",
      "[13, 15, 17, 19, 20, 21, 22, 27, 29, 31] --> [1, 2, 3, 4, 5, 6, 7, 8, 9, 10, 11, 12, 14, 16, 18, 23, 24, 25]\n",
      "[13, 15, 17, 18, 21, 22, 23, 27, 29] --> [1, 2, 3, 4, 5, 6, 7, 8, 9, 10, 11, 12, 14, 16, 19, 20, 24, 25]\n",
      "[13, 15, 17, 18, 20, 22, 23, 27, 29] --> [1, 2, 3, 4, 5, 6, 7, 8, 9, 10, 11, 12, 14, 16, 19, 21, 24, 25]\n",
      "[13, 15, 17, 18, 20, 21, 23, 27, 29] --> [1, 2, 3, 4, 5, 6, 7, 8, 9, 10, 11, 12, 14, 16, 19, 22, 24, 25]\n",
      "[13, 15, 17, 18, 20, 21, 22, 27, 29] --> [1, 2, 3, 4, 5, 6, 7, 8, 9, 10, 11, 12, 14, 16, 19, 23, 24, 25]\n",
      "[13, 15, 17, 18, 19, 22, 23, 27, 29] --> [1, 2, 3, 4, 5, 6, 7, 8, 9, 10, 11, 12, 14, 16, 20, 21, 24, 25]\n",
      "[13, 15, 17, 18, 19, 21, 23, 27, 29] --> [1, 2, 3, 4, 5, 6, 7, 8, 9, 10, 11, 12, 14, 16, 20, 22, 24, 25]\n",
      "[13, 15, 17, 18, 19, 21, 22, 27, 29] --> [1, 2, 3, 4, 5, 6, 7, 8, 9, 10, 11, 12, 14, 16, 20, 23, 24, 25]\n",
      "[13, 15, 17, 18, 19, 20, 23, 27, 29] --> [1, 2, 3, 4, 5, 6, 7, 8, 9, 10, 11, 12, 14, 16, 21, 22, 24, 25]\n",
      "[13, 15, 17, 18, 19, 20, 22, 27, 29] --> [1, 2, 3, 4, 5, 6, 7, 8, 9, 10, 11, 12, 14, 16, 21, 23, 24, 25]\n",
      "[13, 15, 17, 18, 19, 20, 21, 27, 29] --> [1, 2, 3, 4, 5, 6, 7, 8, 9, 10, 11, 12, 14, 16, 22, 23, 24, 25]\n",
      "[13, 15, 16, 19, 21, 22, 23, 27, 33] --> [1, 2, 3, 4, 5, 6, 7, 8, 9, 10, 11, 12, 14, 17, 18, 20, 24, 25]\n",
      "[13, 15, 16, 19, 20, 21, 23, 27] --> [1, 2, 3, 4, 5, 6, 7, 8, 9, 10, 11, 12, 14, 17, 18, 22, 24, 25]\n",
      "[13, 15, 16, 19, 20, 21, 22, 27] --> [1, 2, 3, 4, 5, 6, 7, 8, 9, 10, 11, 12, 14, 17, 18, 23, 24, 25]\n",
      "[13, 15, 16, 18, 21, 22, 23, 27] --> [1, 2, 3, 4, 5, 6, 7, 8, 9, 10, 11, 12, 14, 17, 19, 20, 24, 25]\n",
      "[13, 15, 16, 18, 20, 22, 23, 27] --> [1, 2, 3, 4, 5, 6, 7, 8, 9, 10, 11, 12, 14, 17, 19, 21, 24, 25]\n",
      "[13, 15, 16, 18, 20, 21, 23, 27] --> [1, 2, 3, 4, 5, 6, 7, 8, 9, 10, 11, 12, 14, 17, 19, 22, 24, 25]\n",
      "[13, 15, 16, 18, 20, 21, 22, 27] --> [1, 2, 3, 4, 5, 6, 7, 8, 9, 10, 11, 12, 14, 17, 19, 23, 24, 25]\n",
      "[13, 15, 16, 18, 19, 22, 23, 27] --> [1, 2, 3, 4, 5, 6, 7, 8, 9, 10, 11, 12, 14, 17, 20, 21, 24, 25]\n",
      "[13, 15, 16, 18, 19, 21, 23, 27] --> [1, 2, 3, 4, 5, 6, 7, 8, 9, 10, 11, 12, 14, 17, 20, 22, 24, 25]\n",
      "[13, 15, 16, 18, 19, 21, 22, 27] --> [1, 2, 3, 4, 5, 6, 7, 8, 9, 10, 11, 12, 14, 17, 20, 23, 24, 25]\n",
      "[13, 15, 16, 18, 19, 20, 23, 27] --> [1, 2, 3, 4, 5, 6, 7, 8, 9, 10, 11, 12, 14, 17, 21, 22, 24, 25]\n",
      "[13, 15, 16, 18, 19, 20, 22, 27] --> [1, 2, 3, 4, 5, 6, 7, 8, 9, 10, 11, 12, 14, 17, 21, 23, 24, 25]\n",
      "[13, 15, 16, 18, 19, 20, 21, 27] --> [1, 2, 3, 4, 5, 6, 7, 8, 9, 10, 11, 12, 14, 17, 22, 23, 24, 25]\n",
      "[13, 15, 16, 17, 21, 22, 23, 27] --> [1, 2, 3, 4, 5, 6, 7, 8, 9, 10, 11, 12, 14, 18, 19, 20, 24, 25]\n",
      "[13, 15, 16, 17, 20, 22, 23, 27] --> [1, 2, 3, 4, 5, 6, 7, 8, 9, 10, 11, 12, 14, 18, 19, 21, 24, 25]\n",
      "[13, 15, 16, 17, 20, 21, 23, 27] --> [1, 2, 3, 4, 5, 6, 7, 8, 9, 10, 11, 12, 14, 18, 19, 22, 24, 25]\n",
      "[13, 15, 16, 17, 20, 21, 22, 27] --> [1, 2, 3, 4, 5, 6, 7, 8, 9, 10, 11, 12, 14, 18, 19, 23, 24, 25]\n",
      "[13, 15, 16, 17, 19, 22, 23, 27] --> [1, 2, 3, 4, 5, 6, 7, 8, 9, 10, 11, 12, 14, 18, 20, 21, 24, 25]\n",
      "[13, 15, 16, 17, 19, 21, 23, 27] --> [1, 2, 3, 4, 5, 6, 7, 8, 9, 10, 11, 12, 14, 18, 20, 22, 24, 25]\n",
      "[13, 15, 16, 17, 19, 21, 22, 27] --> [1, 2, 3, 4, 5, 6, 7, 8, 9, 10, 11, 12, 14, 18, 20, 23, 24, 25]\n",
      "[13, 15, 16, 17, 19, 20, 23, 27] --> [1, 2, 3, 4, 5, 6, 7, 8, 9, 10, 11, 12, 14, 18, 21, 22, 24, 25]\n",
      "[13, 15, 16, 17, 19, 20, 22, 27] --> [1, 2, 3, 4, 5, 6, 7, 8, 9, 10, 11, 12, 14, 18, 21, 23, 24, 25]\n",
      "[13, 15, 16, 17, 19, 20, 21, 27] --> [1, 2, 3, 4, 5, 6, 7, 8, 9, 10, 11, 12, 14, 18, 22, 23, 24, 25]\n",
      "[13, 15, 16, 17, 18, 22, 23, 27] --> [1, 2, 3, 4, 5, 6, 7, 8, 9, 10, 11, 12, 14, 19, 20, 21, 24, 25]\n",
      "[13, 15, 16, 17, 18, 21, 23, 27] --> [1, 2, 3, 4, 5, 6, 7, 8, 9, 10, 11, 12, 14, 19, 20, 22, 24, 25]\n",
      "[13, 15, 16, 17, 18, 21, 22, 27] --> [1, 2, 3, 4, 5, 6, 7, 8, 9, 10, 11, 12, 14, 19, 20, 23, 24, 25]\n",
      "[13, 15, 16, 17, 18, 20, 23, 27] --> [1, 2, 3, 4, 5, 6, 7, 8, 9, 10, 11, 12, 14, 19, 21, 22, 24, 25]\n",
      "[13, 15, 16, 17, 18, 20, 22, 27] --> [1, 2, 3, 4, 5, 6, 7, 8, 9, 10, 11, 12, 14, 19, 21, 23, 24, 25]\n"
     ]
    },
    {
     "name": "stdout",
     "output_type": "stream",
     "text": [
      "[13, 15, 16, 17, 18, 20, 21, 27] --> [1, 2, 3, 4, 5, 6, 7, 8, 9, 10, 11, 12, 14, 19, 22, 23, 24, 25]\n",
      "[13, 15, 16, 17, 18, 19, 23, 27] --> [1, 2, 3, 4, 5, 6, 7, 8, 9, 10, 11, 12, 14, 20, 21, 22, 24, 25]\n",
      "[13, 15, 16, 17, 18, 19, 22, 27] --> [1, 2, 3, 4, 5, 6, 7, 8, 9, 10, 11, 12, 14, 20, 21, 23, 24, 25]\n",
      "[13, 15, 16, 17, 18, 19, 21, 27] --> [1, 2, 3, 4, 5, 6, 7, 8, 9, 10, 11, 12, 14, 20, 22, 23, 24, 25]\n",
      "[13, 15, 16, 17, 18, 19, 20, 27] --> [1, 2, 3, 4, 5, 6, 7, 8, 9, 10, 11, 12, 14, 21, 22, 23, 24, 25]\n",
      "[13, 14, 18, 19, 20, 22, 24, 29, 30] --> [1, 2, 3, 4, 5, 6, 7, 8, 9, 10, 11, 12, 15, 16, 17, 21, 23, 25]\n",
      "[13, 14, 18, 19, 20, 21, 24, 29, 30] --> [1, 2, 3, 4, 5, 6, 7, 8, 9, 10, 11, 12, 15, 16, 17, 22, 23, 25]\n",
      "[13, 14, 18, 19, 20, 21, 23, 29, 30] --> [1, 2, 3, 4, 5, 6, 7, 8, 9, 10, 11, 12, 15, 16, 17, 22, 24, 25]\n",
      "[13, 14, 17, 19, 21, 22, 24, 29] --> [1, 2, 3, 4, 5, 6, 7, 8, 9, 10, 11, 12, 15, 16, 18, 20, 23, 25]\n",
      "[13, 14, 17, 19, 20, 22, 24, 29] --> [1, 2, 3, 4, 5, 6, 7, 8, 9, 10, 11, 12, 15, 16, 18, 21, 23, 25]\n",
      "[13, 14, 17, 19, 20, 21, 23, 29] --> [1, 2, 3, 4, 5, 6, 7, 8, 9, 10, 11, 12, 15, 16, 18, 22, 24, 25]\n",
      "[13, 14, 17, 19, 20, 21, 22, 29] --> [1, 2, 3, 4, 5, 6, 7, 8, 9, 10, 11, 12, 15, 16, 18, 23, 24, 25]\n",
      "[13, 14, 17, 18, 21, 22, 24, 29, 33] --> [1, 2, 3, 4, 5, 6, 7, 8, 9, 10, 11, 12, 15, 16, 19, 20, 23, 25]\n",
      "[13, 14, 17, 18, 20, 22, 24, 29] --> [1, 2, 3, 4, 5, 6, 7, 8, 9, 10, 11, 12, 15, 16, 19, 21, 23, 25]\n",
      "[13, 14, 17, 18, 20, 21, 24, 29] --> [1, 2, 3, 4, 5, 6, 7, 8, 9, 10, 11, 12, 15, 16, 19, 22, 23, 25]\n",
      "[13, 14, 17, 18, 20, 21, 23, 29] --> [1, 2, 3, 4, 5, 6, 7, 8, 9, 10, 11, 12, 15, 16, 19, 22, 24, 25]\n",
      "[13, 14, 17, 18, 20, 21, 22, 29] --> [1, 2, 3, 4, 5, 6, 7, 8, 9, 10, 11, 12, 15, 16, 19, 23, 24, 25]\n",
      "[13, 14, 17, 18, 19, 22, 24, 29] --> [1, 2, 3, 4, 5, 6, 7, 8, 9, 10, 11, 12, 15, 16, 20, 21, 23, 25]\n",
      "[13, 14, 17, 18, 19, 21, 24, 29] --> [1, 2, 3, 4, 5, 6, 7, 8, 9, 10, 11, 12, 15, 16, 20, 22, 23, 25]\n",
      "[13, 14, 17, 18, 19, 21, 23, 29] --> [1, 2, 3, 4, 5, 6, 7, 8, 9, 10, 11, 12, 15, 16, 20, 22, 24, 25]\n",
      "[13, 14, 17, 18, 19, 21, 22, 29] --> [1, 2, 3, 4, 5, 6, 7, 8, 9, 10, 11, 12, 15, 16, 20, 23, 24, 25]\n",
      "[13, 14, 17, 18, 19, 20, 24, 29] --> [1, 2, 3, 4, 5, 6, 7, 8, 9, 10, 11, 12, 15, 16, 21, 22, 23, 25]\n",
      "[13, 14, 17, 18, 19, 20, 23, 29] --> [1, 2, 3, 4, 5, 6, 7, 8, 9, 10, 11, 12, 15, 16, 21, 22, 24, 25]\n",
      "[13, 14, 17, 18, 19, 20, 22, 29] --> [1, 2, 3, 4, 5, 6, 7, 8, 9, 10, 11, 12, 15, 16, 21, 23, 24, 25]\n",
      "[13, 14, 17, 18, 19, 20, 21, 29] --> [1, 2, 3, 4, 5, 6, 7, 8, 9, 10, 11, 12, 15, 16, 22, 23, 24, 25]\n",
      "[13, 14, 16, 19, 21, 22, 23, 31] --> [1, 2, 3, 4, 5, 6, 7, 8, 9, 10, 11, 12, 15, 17, 18, 20, 24, 25]\n",
      "[13, 14, 16, 19, 20, 22, 24, 31] --> [1, 2, 3, 4, 5, 6, 7, 8, 9, 10, 11, 12, 15, 17, 18, 21, 23, 25]\n",
      "[13, 14, 16, 19, 20, 22, 23, 31] --> [1, 2, 3, 4, 5, 6, 7, 8, 9, 10, 11, 12, 15, 17, 18, 21, 24, 25]\n",
      "[13, 14, 16, 19, 20, 21, 24, 31] --> [1, 2, 3, 4, 5, 6, 7, 8, 9, 10, 11, 12, 15, 17, 18, 22, 23, 25]\n",
      "[13, 14, 16, 19, 20, 21, 22, 31] --> [1, 2, 3, 4, 5, 6, 7, 8, 9, 10, 11, 12, 15, 17, 18, 23, 24, 25]\n",
      "[13, 14, 16, 18, 21, 22, 23, 33] --> [1, 2, 3, 4, 5, 6, 7, 8, 9, 10, 11, 12, 15, 17, 19, 20, 24, 25]\n",
      "[13, 14, 16, 18, 20, 22, 24] --> [1, 2, 3, 4, 5, 6, 7, 8, 9, 10, 11, 12, 15, 17, 19, 21, 23, 25]\n",
      "[13, 14, 16, 18, 20, 22, 23] --> [1, 2, 3, 4, 5, 6, 7, 8, 9, 10, 11, 12, 15, 17, 19, 21, 24, 25]\n",
      "[13, 14, 16, 18, 20, 21, 24] --> [1, 2, 3, 4, 5, 6, 7, 8, 9, 10, 11, 12, 15, 17, 19, 22, 23, 25]\n",
      "[13, 14, 16, 18, 20, 21, 23] --> [1, 2, 3, 4, 5, 6, 7, 8, 9, 10, 11, 12, 15, 17, 19, 22, 24, 25]\n",
      "[13, 14, 16, 18, 20, 21, 22] --> [1, 2, 3, 4, 5, 6, 7, 8, 9, 10, 11, 12, 15, 17, 19, 23, 24, 25]\n",
      "[13, 14, 16, 18, 19, 22, 24] --> [1, 2, 3, 4, 5, 6, 7, 8, 9, 10, 11, 12, 15, 17, 20, 21, 23, 25]\n",
      "[13, 14, 16, 18, 19, 22, 23] --> [1, 2, 3, 4, 5, 6, 7, 8, 9, 10, 11, 12, 15, 17, 20, 21, 24, 25]\n",
      "[13, 14, 16, 18, 19, 21, 24] --> [1, 2, 3, 4, 5, 6, 7, 8, 9, 10, 11, 12, 15, 17, 20, 22, 23, 25]\n",
      "[13, 14, 16, 18, 19, 21, 23] --> [1, 2, 3, 4, 5, 6, 7, 8, 9, 10, 11, 12, 15, 17, 20, 22, 24, 25]\n",
      "[13, 14, 16, 18, 19, 21, 22] --> [1, 2, 3, 4, 5, 6, 7, 8, 9, 10, 11, 12, 15, 17, 20, 23, 24, 25]\n",
      "[13, 14, 16, 18, 19, 20, 24] --> [1, 2, 3, 4, 5, 6, 7, 8, 9, 10, 11, 12, 15, 17, 21, 22, 23, 25]\n",
      "[13, 14, 16, 18, 19, 20, 23] --> [1, 2, 3, 4, 5, 6, 7, 8, 9, 10, 11, 12, 15, 17, 21, 22, 24, 25]\n",
      "[13, 14, 16, 18, 19, 20, 22] --> [1, 2, 3, 4, 5, 6, 7, 8, 9, 10, 11, 12, 15, 17, 21, 23, 24, 25]\n",
      "[13, 14, 16, 18, 19, 20, 21] --> [1, 2, 3, 4, 5, 6, 7, 8, 9, 10, 11, 12, 15, 17, 22, 23, 24, 25]\n",
      "[13, 14, 16, 17, 21, 22, 24] --> [1, 2, 3, 4, 5, 6, 7, 8, 9, 10, 11, 12, 15, 18, 19, 20, 23, 25]\n",
      "[13, 14, 16, 17, 21, 22, 23] --> [1, 2, 3, 4, 5, 6, 7, 8, 9, 10, 11, 12, 15, 18, 19, 20, 24, 25]\n",
      "[13, 14, 16, 17, 20, 22, 24] --> [1, 2, 3, 4, 5, 6, 7, 8, 9, 10, 11, 12, 15, 18, 19, 21, 23, 25]\n",
      "[13, 14, 16, 17, 20, 22, 23] --> [1, 2, 3, 4, 5, 6, 7, 8, 9, 10, 11, 12, 15, 18, 19, 21, 24, 25]\n",
      "[13, 14, 16, 17, 20, 21, 24] --> [1, 2, 3, 4, 5, 6, 7, 8, 9, 10, 11, 12, 15, 18, 19, 22, 23, 25]\n",
      "[13, 14, 16, 17, 20, 21, 23] --> [1, 2, 3, 4, 5, 6, 7, 8, 9, 10, 11, 12, 15, 18, 19, 22, 24, 25]\n",
      "[13, 14, 16, 17, 20, 21, 22] --> [1, 2, 3, 4, 5, 6, 7, 8, 9, 10, 11, 12, 15, 18, 19, 23, 24, 25]\n",
      "[13, 14, 16, 17, 19, 22, 24] --> [1, 2, 3, 4, 5, 6, 7, 8, 9, 10, 11, 12, 15, 18, 20, 21, 23, 25]\n",
      "[13, 14, 16, 17, 19, 22, 23] --> [1, 2, 3, 4, 5, 6, 7, 8, 9, 10, 11, 12, 15, 18, 20, 21, 24, 25]\n",
      "[13, 14, 16, 17, 19, 21, 24] --> [1, 2, 3, 4, 5, 6, 7, 8, 9, 10, 11, 12, 15, 18, 20, 22, 23, 25]\n",
      "[13, 14, 16, 17, 19, 21, 23] --> [1, 2, 3, 4, 5, 6, 7, 8, 9, 10, 11, 12, 15, 18, 20, 22, 24, 25]\n",
      "[13, 14, 16, 17, 19, 21, 22] --> [1, 2, 3, 4, 5, 6, 7, 8, 9, 10, 11, 12, 15, 18, 20, 23, 24, 25]\n",
      "[13, 14, 16, 17, 19, 20, 24] --> [1, 2, 3, 4, 5, 6, 7, 8, 9, 10, 11, 12, 15, 18, 21, 22, 23, 25]\n",
      "[13, 14, 16, 17, 19, 20, 23] --> [1, 2, 3, 4, 5, 6, 7, 8, 9, 10, 11, 12, 15, 18, 21, 22, 24, 25]\n",
      "[13, 14, 16, 17, 19, 20, 22] --> [1, 2, 3, 4, 5, 6, 7, 8, 9, 10, 11, 12, 15, 18, 21, 23, 24, 25]\n",
      "[13, 14, 16, 17, 19, 20, 21] --> [1, 2, 3, 4, 5, 6, 7, 8, 9, 10, 11, 12, 15, 18, 22, 23, 24, 25]\n",
      "[13, 14, 16, 17, 18, 22, 24] --> [1, 2, 3, 4, 5, 6, 7, 8, 9, 10, 11, 12, 15, 19, 20, 21, 23, 25]\n",
      "[13, 14, 16, 17, 18, 22, 23] --> [1, 2, 3, 4, 5, 6, 7, 8, 9, 10, 11, 12, 15, 19, 20, 21, 24, 25]\n",
      "[13, 14, 16, 17, 18, 21, 24] --> [1, 2, 3, 4, 5, 6, 7, 8, 9, 10, 11, 12, 15, 19, 20, 22, 23, 25]\n",
      "[13, 14, 16, 17, 18, 21, 23] --> [1, 2, 3, 4, 5, 6, 7, 8, 9, 10, 11, 12, 15, 19, 20, 22, 24, 25]\n",
      "[13, 14, 16, 17, 18, 21, 22] --> [1, 2, 3, 4, 5, 6, 7, 8, 9, 10, 11, 12, 15, 19, 20, 23, 24, 25]\n",
      "[13, 14, 16, 17, 18, 20, 24] --> [1, 2, 3, 4, 5, 6, 7, 8, 9, 10, 11, 12, 15, 19, 21, 22, 23, 25]\n",
      "[13, 14, 16, 17, 18, 20, 23] --> [1, 2, 3, 4, 5, 6, 7, 8, 9, 10, 11, 12, 15, 19, 21, 22, 24, 25]\n",
      "[13, 14, 16, 17, 18, 20, 22] --> [1, 2, 3, 4, 5, 6, 7, 8, 9, 10, 11, 12, 15, 19, 21, 23, 24, 25]\n",
      "[13, 14, 16, 17, 18, 20, 21] --> [1, 2, 3, 4, 5, 6, 7, 8, 9, 10, 11, 12, 15, 19, 22, 23, 24, 25]\n",
      "[13, 14, 16, 17, 18, 19, 24] --> [1, 2, 3, 4, 5, 6, 7, 8, 9, 10, 11, 12, 15, 20, 21, 22, 23, 25]\n",
      "[13, 14, 16, 17, 18, 19, 23] --> [1, 2, 3, 4, 5, 6, 7, 8, 9, 10, 11, 12, 15, 20, 21, 22, 24, 25]\n",
      "[13, 14, 16, 17, 18, 19, 22] --> [1, 2, 3, 4, 5, 6, 7, 8, 9, 10, 11, 12, 15, 20, 21, 23, 24, 25]\n",
      "[13, 14, 16, 17, 18, 19, 21] --> [1, 2, 3, 4, 5, 6, 7, 8, 9, 10, 11, 12, 15, 20, 22, 23, 24, 25]\n",
      "[13, 14, 16, 17, 18, 19, 20] --> [1, 2, 3, 4, 5, 6, 7, 8, 9, 10, 11, 12, 15, 21, 22, 23, 24, 25]\n",
      "[13, 14, 15, 20, 21, 23, 24, 31, 32] --> [1, 2, 3, 4, 5, 6, 7, 8, 9, 10, 11, 12, 16, 17, 18, 19, 22, 25]\n",
      "[13, 14, 15, 19, 21, 23, 24, 31] --> [1, 2, 3, 4, 5, 6, 7, 8, 9, 10, 11, 12, 16, 17, 18, 20, 22, 25]\n",
      "[13, 14, 15, 19, 21, 22, 24, 31] --> [1, 2, 3, 4, 5, 6, 7, 8, 9, 10, 11, 12, 16, 17, 18, 20, 23, 25]\n",
      "[13, 14, 15, 19, 20, 23, 24, 31] --> [1, 2, 3, 4, 5, 6, 7, 8, 9, 10, 11, 12, 16, 17, 18, 21, 22, 25]\n",
      "[13, 14, 15, 19, 20, 22, 24, 31] --> [1, 2, 3, 4, 5, 6, 7, 8, 9, 10, 11, 12, 16, 17, 18, 21, 23, 25]\n",
      "[13, 14, 15, 19, 20, 22, 23, 31] --> [1, 2, 3, 4, 5, 6, 7, 8, 9, 10, 11, 12, 16, 17, 18, 21, 24, 25]\n",
      "[13, 14, 15, 19, 20, 21, 24, 31] --> [1, 2, 3, 4, 5, 6, 7, 8, 9, 10, 11, 12, 16, 17, 18, 22, 23, 25]\n",
      "[13, 14, 15, 19, 20, 21, 23, 31] --> [1, 2, 3, 4, 5, 6, 7, 8, 9, 10, 11, 12, 16, 17, 18, 22, 24, 25]\n"
     ]
    },
    {
     "name": "stdout",
     "output_type": "stream",
     "text": [
      "[13, 14, 15, 18, 21, 23, 24] --> [1, 2, 3, 4, 5, 6, 7, 8, 9, 10, 11, 12, 16, 17, 19, 20, 22, 25]\n",
      "[13, 14, 15, 18, 21, 22, 24] --> [1, 2, 3, 4, 5, 6, 7, 8, 9, 10, 11, 12, 16, 17, 19, 20, 23, 25]\n",
      "[13, 14, 15, 18, 20, 23, 24] --> [1, 2, 3, 4, 5, 6, 7, 8, 9, 10, 11, 12, 16, 17, 19, 21, 22, 25]\n",
      "[13, 14, 15, 18, 20, 22, 24] --> [1, 2, 3, 4, 5, 6, 7, 8, 9, 10, 11, 12, 16, 17, 19, 21, 23, 25]\n",
      "[13, 14, 15, 18, 20, 22, 23] --> [1, 2, 3, 4, 5, 6, 7, 8, 9, 10, 11, 12, 16, 17, 19, 21, 24, 25]\n",
      "[13, 14, 15, 18, 20, 21, 24] --> [1, 2, 3, 4, 5, 6, 7, 8, 9, 10, 11, 12, 16, 17, 19, 22, 23, 25]\n",
      "[13, 14, 15, 18, 20, 21, 23] --> [1, 2, 3, 4, 5, 6, 7, 8, 9, 10, 11, 12, 16, 17, 19, 22, 24, 25]\n",
      "[13, 14, 15, 18, 20, 21, 22] --> [1, 2, 3, 4, 5, 6, 7, 8, 9, 10, 11, 12, 16, 17, 19, 23, 24, 25]\n",
      "[13, 14, 15, 18, 19, 23, 24, 35] --> [1, 2, 3, 4, 5, 6, 7, 8, 9, 10, 11, 12, 16, 17, 20, 21, 22, 25]\n",
      "[13, 14, 15, 18, 19, 22, 24] --> [1, 2, 3, 4, 5, 6, 7, 8, 9, 10, 11, 12, 16, 17, 20, 21, 23, 25]\n",
      "[13, 14, 15, 18, 19, 22, 23] --> [1, 2, 3, 4, 5, 6, 7, 8, 9, 10, 11, 12, 16, 17, 20, 21, 24, 25]\n",
      "[13, 14, 15, 18, 19, 21, 24] --> [1, 2, 3, 4, 5, 6, 7, 8, 9, 10, 11, 12, 16, 17, 20, 22, 23, 25]\n",
      "[13, 14, 15, 18, 19, 21, 23] --> [1, 2, 3, 4, 5, 6, 7, 8, 9, 10, 11, 12, 16, 17, 20, 22, 24, 25]\n",
      "[13, 14, 15, 18, 19, 21, 22] --> [1, 2, 3, 4, 5, 6, 7, 8, 9, 10, 11, 12, 16, 17, 20, 23, 24, 25]\n",
      "[13, 14, 15, 18, 19, 20, 24] --> [1, 2, 3, 4, 5, 6, 7, 8, 9, 10, 11, 12, 16, 17, 21, 22, 23, 25]\n",
      "[13, 14, 15, 18, 19, 20, 23] --> [1, 2, 3, 4, 5, 6, 7, 8, 9, 10, 11, 12, 16, 17, 21, 22, 24, 25]\n",
      "[13, 14, 15, 18, 19, 20, 22] --> [1, 2, 3, 4, 5, 6, 7, 8, 9, 10, 11, 12, 16, 17, 21, 23, 24, 25]\n",
      "[13, 14, 15, 18, 19, 20, 21] --> [1, 2, 3, 4, 5, 6, 7, 8, 9, 10, 11, 12, 16, 17, 22, 23, 24, 25]\n",
      "[13, 14, 15, 17, 21, 23, 24, 33] --> [1, 2, 3, 4, 5, 6, 7, 8, 9, 10, 11, 12, 16, 18, 19, 20, 22, 25]\n",
      "[13, 14, 15, 17, 21, 22, 24, 33] --> [1, 2, 3, 4, 5, 6, 7, 8, 9, 10, 11, 12, 16, 18, 19, 20, 23, 25]\n",
      "[13, 14, 15, 17, 21, 22, 23, 33] --> [1, 2, 3, 4, 5, 6, 7, 8, 9, 10, 11, 12, 16, 18, 19, 20, 24, 25]\n",
      "[13, 14, 15, 17, 20, 23, 24] --> [1, 2, 3, 4, 5, 6, 7, 8, 9, 10, 11, 12, 16, 18, 19, 21, 22, 25]\n",
      "[13, 14, 15, 17, 20, 22, 24] --> [1, 2, 3, 4, 5, 6, 7, 8, 9, 10, 11, 12, 16, 18, 19, 21, 23, 25]\n",
      "[13, 14, 15, 17, 20, 22, 23] --> [1, 2, 3, 4, 5, 6, 7, 8, 9, 10, 11, 12, 16, 18, 19, 21, 24, 25]\n",
      "[13, 14, 15, 17, 20, 21, 24] --> [1, 2, 3, 4, 5, 6, 7, 8, 9, 10, 11, 12, 16, 18, 19, 22, 23, 25]\n",
      "[13, 14, 15, 17, 20, 21, 23] --> [1, 2, 3, 4, 5, 6, 7, 8, 9, 10, 11, 12, 16, 18, 19, 22, 24, 25]\n",
      "[13, 14, 15, 17, 20, 21, 22] --> [1, 2, 3, 4, 5, 6, 7, 8, 9, 10, 11, 12, 16, 18, 19, 23, 24, 25]\n",
      "[13, 14, 15, 17, 19, 23, 24, 35] --> [1, 2, 3, 4, 5, 6, 7, 8, 9, 10, 11, 12, 16, 18, 20, 21, 22, 25]\n",
      "[13, 14, 15, 17, 19, 22, 24] --> [1, 2, 3, 4, 5, 6, 7, 8, 9, 10, 11, 12, 16, 18, 20, 21, 23, 25]\n",
      "[13, 14, 15, 17, 19, 22, 23] --> [1, 2, 3, 4, 5, 6, 7, 8, 9, 10, 11, 12, 16, 18, 20, 21, 24, 25]\n",
      "[13, 14, 15, 17, 19, 21, 24] --> [1, 2, 3, 4, 5, 6, 7, 8, 9, 10, 11, 12, 16, 18, 20, 22, 23, 25]\n",
      "[13, 14, 15, 17, 19, 21, 23] --> [1, 2, 3, 4, 5, 6, 7, 8, 9, 10, 11, 12, 16, 18, 20, 22, 24, 25]\n",
      "[13, 14, 15, 17, 19, 21, 22] --> [1, 2, 3, 4, 5, 6, 7, 8, 9, 10, 11, 12, 16, 18, 20, 23, 24, 25]\n",
      "[13, 14, 15, 17, 19, 20, 24] --> [1, 2, 3, 4, 5, 6, 7, 8, 9, 10, 11, 12, 16, 18, 21, 22, 23, 25]\n",
      "[13, 14, 15, 17, 19, 20, 23] --> [1, 2, 3, 4, 5, 6, 7, 8, 9, 10, 11, 12, 16, 18, 21, 22, 24, 25]\n",
      "[13, 14, 15, 17, 19, 20, 22] --> [1, 2, 3, 4, 5, 6, 7, 8, 9, 10, 11, 12, 16, 18, 21, 23, 24, 25]\n",
      "[13, 14, 15, 17, 19, 20, 21] --> [1, 2, 3, 4, 5, 6, 7, 8, 9, 10, 11, 12, 16, 18, 22, 23, 24, 25]\n",
      "[13, 14, 15, 17, 18, 23, 24] --> [1, 2, 3, 4, 5, 6, 7, 8, 9, 10, 11, 12, 16, 19, 20, 21, 22, 25]\n",
      "[13, 14, 15, 17, 18, 22, 24] --> [1, 2, 3, 4, 5, 6, 7, 8, 9, 10, 11, 12, 16, 19, 20, 21, 23, 25]\n",
      "[13, 14, 15, 17, 18, 22, 23] --> [1, 2, 3, 4, 5, 6, 7, 8, 9, 10, 11, 12, 16, 19, 20, 21, 24, 25]\n",
      "[13, 14, 15, 17, 18, 21, 24] --> [1, 2, 3, 4, 5, 6, 7, 8, 9, 10, 11, 12, 16, 19, 20, 22, 23, 25]\n",
      "[13, 14, 15, 17, 18, 21, 23] --> [1, 2, 3, 4, 5, 6, 7, 8, 9, 10, 11, 12, 16, 19, 20, 22, 24, 25]\n",
      "[13, 14, 15, 17, 18, 21, 22] --> [1, 2, 3, 4, 5, 6, 7, 8, 9, 10, 11, 12, 16, 19, 20, 23, 24, 25]\n",
      "[13, 14, 15, 17, 18, 20, 24] --> [1, 2, 3, 4, 5, 6, 7, 8, 9, 10, 11, 12, 16, 19, 21, 22, 23, 25]\n",
      "[13, 14, 15, 17, 18, 20, 23] --> [1, 2, 3, 4, 5, 6, 7, 8, 9, 10, 11, 12, 16, 19, 21, 22, 24, 25]\n",
      "[13, 14, 15, 17, 18, 20, 22] --> [1, 2, 3, 4, 5, 6, 7, 8, 9, 10, 11, 12, 16, 19, 21, 23, 24, 25]\n",
      "[13, 14, 15, 17, 18, 20, 21] --> [1, 2, 3, 4, 5, 6, 7, 8, 9, 10, 11, 12, 16, 19, 22, 23, 24, 25]\n",
      "[13, 14, 15, 17, 18, 19, 24] --> [1, 2, 3, 4, 5, 6, 7, 8, 9, 10, 11, 12, 16, 20, 21, 22, 23, 25]\n",
      "[13, 14, 15, 17, 18, 19, 23] --> [1, 2, 3, 4, 5, 6, 7, 8, 9, 10, 11, 12, 16, 20, 21, 22, 24, 25]\n",
      "[13, 14, 15, 17, 18, 19, 22] --> [1, 2, 3, 4, 5, 6, 7, 8, 9, 10, 11, 12, 16, 20, 21, 23, 24, 25]\n",
      "[13, 14, 15, 17, 18, 19, 21] --> [1, 2, 3, 4, 5, 6, 7, 8, 9, 10, 11, 12, 16, 20, 22, 23, 24, 25]\n",
      "[13, 14, 15, 17, 18, 19, 20] --> [1, 2, 3, 4, 5, 6, 7, 8, 9, 10, 11, 12, 16, 21, 22, 23, 24, 25]\n",
      "[13, 14, 15, 16, 22, 23, 24, 33, 34] --> [1, 2, 3, 4, 5, 6, 7, 8, 9, 10, 11, 12, 17, 18, 19, 20, 21, 25]\n",
      "[13, 14, 15, 16, 21, 23, 24, 33] --> [1, 2, 3, 4, 5, 6, 7, 8, 9, 10, 11, 12, 17, 18, 19, 20, 22, 25]\n",
      "[13, 14, 15, 16, 21, 22, 24, 33] --> [1, 2, 3, 4, 5, 6, 7, 8, 9, 10, 11, 12, 17, 18, 19, 20, 23, 25]\n",
      "[13, 14, 15, 16, 21, 22, 23, 33] --> [1, 2, 3, 4, 5, 6, 7, 8, 9, 10, 11, 12, 17, 18, 19, 20, 24, 25]\n",
      "[13, 14, 15, 16, 20, 23, 24] --> [1, 2, 3, 4, 5, 6, 7, 8, 9, 10, 11, 12, 17, 18, 19, 21, 22, 25]\n",
      "[13, 14, 15, 16, 20, 22, 24] --> [1, 2, 3, 4, 5, 6, 7, 8, 9, 10, 11, 12, 17, 18, 19, 21, 23, 25]\n",
      "[13, 14, 15, 16, 20, 22, 23] --> [1, 2, 3, 4, 5, 6, 7, 8, 9, 10, 11, 12, 17, 18, 19, 21, 24, 25]\n",
      "[13, 14, 15, 16, 20, 21, 24] --> [1, 2, 3, 4, 5, 6, 7, 8, 9, 10, 11, 12, 17, 18, 19, 22, 23, 25]\n",
      "[13, 14, 15, 16, 20, 21, 23] --> [1, 2, 3, 4, 5, 6, 7, 8, 9, 10, 11, 12, 17, 18, 19, 22, 24, 25]\n",
      "[13, 14, 15, 16, 20, 21, 22] --> [1, 2, 3, 4, 5, 6, 7, 8, 9, 10, 11, 12, 17, 18, 19, 23, 24, 25]\n",
      "[13, 14, 15, 16, 19, 23, 24] --> [1, 2, 3, 4, 5, 6, 7, 8, 9, 10, 11, 12, 17, 18, 20, 21, 22, 25]\n",
      "[13, 14, 15, 16, 19, 22, 24] --> [1, 2, 3, 4, 5, 6, 7, 8, 9, 10, 11, 12, 17, 18, 20, 21, 23, 25]\n",
      "[13, 14, 15, 16, 19, 22, 23] --> [1, 2, 3, 4, 5, 6, 7, 8, 9, 10, 11, 12, 17, 18, 20, 21, 24, 25]\n",
      "[13, 14, 15, 16, 19, 21, 24] --> [1, 2, 3, 4, 5, 6, 7, 8, 9, 10, 11, 12, 17, 18, 20, 22, 23, 25]\n",
      "[13, 14, 15, 16, 19, 21, 23] --> [1, 2, 3, 4, 5, 6, 7, 8, 9, 10, 11, 12, 17, 18, 20, 22, 24, 25]\n",
      "[13, 14, 15, 16, 19, 21, 22] --> [1, 2, 3, 4, 5, 6, 7, 8, 9, 10, 11, 12, 17, 18, 20, 23, 24, 25]\n",
      "[13, 14, 15, 16, 19, 20, 24] --> [1, 2, 3, 4, 5, 6, 7, 8, 9, 10, 11, 12, 17, 18, 21, 22, 23, 25]\n",
      "[13, 14, 15, 16, 19, 20, 23] --> [1, 2, 3, 4, 5, 6, 7, 8, 9, 10, 11, 12, 17, 18, 21, 22, 24, 25]\n",
      "[13, 14, 15, 16, 19, 20, 22] --> [1, 2, 3, 4, 5, 6, 7, 8, 9, 10, 11, 12, 17, 18, 21, 23, 24, 25]\n",
      "[13, 14, 15, 16, 19, 20, 21] --> [1, 2, 3, 4, 5, 6, 7, 8, 9, 10, 11, 12, 17, 18, 22, 23, 24, 25]\n",
      "[13, 14, 15, 16, 18, 23, 24, 35] --> [1, 2, 3, 4, 5, 6, 7, 8, 9, 10, 11, 12, 17, 19, 20, 21, 22, 25]\n",
      "[13, 14, 15, 16, 18, 22, 24] --> [1, 2, 3, 4, 5, 6, 7, 8, 9, 10, 11, 12, 17, 19, 20, 21, 23, 25]\n",
      "[13, 14, 15, 16, 18, 22, 23] --> [1, 2, 3, 4, 5, 6, 7, 8, 9, 10, 11, 12, 17, 19, 20, 21, 24, 25]\n",
      "[13, 14, 15, 16, 18, 21, 24] --> [1, 2, 3, 4, 5, 6, 7, 8, 9, 10, 11, 12, 17, 19, 20, 22, 23, 25]\n",
      "[13, 14, 15, 16, 18, 21, 23] --> [1, 2, 3, 4, 5, 6, 7, 8, 9, 10, 11, 12, 17, 19, 20, 22, 24, 25]\n",
      "[13, 14, 15, 16, 18, 21, 22] --> [1, 2, 3, 4, 5, 6, 7, 8, 9, 10, 11, 12, 17, 19, 20, 23, 24, 25]\n",
      "[13, 14, 15, 16, 18, 20, 24] --> [1, 2, 3, 4, 5, 6, 7, 8, 9, 10, 11, 12, 17, 19, 21, 22, 23, 25]\n",
      "[13, 14, 15, 16, 18, 20, 23] --> [1, 2, 3, 4, 5, 6, 7, 8, 9, 10, 11, 12, 17, 19, 21, 22, 24, 25]\n",
      "[13, 14, 15, 16, 18, 20, 22] --> [1, 2, 3, 4, 5, 6, 7, 8, 9, 10, 11, 12, 17, 19, 21, 23, 24, 25]\n",
      "[13, 14, 15, 16, 18, 20, 21] --> [1, 2, 3, 4, 5, 6, 7, 8, 9, 10, 11, 12, 17, 19, 22, 23, 24, 25]\n",
      "[13, 14, 15, 16, 18, 19, 24] --> [1, 2, 3, 4, 5, 6, 7, 8, 9, 10, 11, 12, 17, 20, 21, 22, 23, 25]\n",
      "[13, 14, 15, 16, 18, 19, 23] --> [1, 2, 3, 4, 5, 6, 7, 8, 9, 10, 11, 12, 17, 20, 21, 22, 24, 25]\n",
      "[13, 14, 15, 16, 18, 19, 22] --> [1, 2, 3, 4, 5, 6, 7, 8, 9, 10, 11, 12, 17, 20, 21, 23, 24, 25]\n",
      "[13, 14, 15, 16, 18, 19, 21] --> [1, 2, 3, 4, 5, 6, 7, 8, 9, 10, 11, 12, 17, 20, 22, 23, 24, 25]\n",
      "[13, 14, 15, 16, 18, 19, 20] --> [1, 2, 3, 4, 5, 6, 7, 8, 9, 10, 11, 12, 17, 21, 22, 23, 24, 25]\n"
     ]
    },
    {
     "name": "stdout",
     "output_type": "stream",
     "text": [
      "[13, 14, 15, 16, 17, 23, 24, 35] --> [1, 2, 3, 4, 5, 6, 7, 8, 9, 10, 11, 12, 18, 19, 20, 21, 22, 25]\n",
      "[13, 14, 15, 16, 17, 22, 24] --> [1, 2, 3, 4, 5, 6, 7, 8, 9, 10, 11, 12, 18, 19, 20, 21, 23, 25]\n",
      "[13, 14, 15, 16, 17, 22, 23] --> [1, 2, 3, 4, 5, 6, 7, 8, 9, 10, 11, 12, 18, 19, 20, 21, 24, 25]\n",
      "[13, 14, 15, 16, 17, 21, 24] --> [1, 2, 3, 4, 5, 6, 7, 8, 9, 10, 11, 12, 18, 19, 20, 22, 23, 25]\n",
      "[13, 14, 15, 16, 17, 21, 23] --> [1, 2, 3, 4, 5, 6, 7, 8, 9, 10, 11, 12, 18, 19, 20, 22, 24, 25]\n",
      "[13, 14, 15, 16, 17, 21, 22] --> [1, 2, 3, 4, 5, 6, 7, 8, 9, 10, 11, 12, 18, 19, 20, 23, 24, 25]\n",
      "[13, 14, 15, 16, 17, 20, 24] --> [1, 2, 3, 4, 5, 6, 7, 8, 9, 10, 11, 12, 18, 19, 21, 22, 23, 25]\n",
      "[13, 14, 15, 16, 17, 20, 23] --> [1, 2, 3, 4, 5, 6, 7, 8, 9, 10, 11, 12, 18, 19, 21, 22, 24, 25]\n",
      "[13, 14, 15, 16, 17, 20, 22] --> [1, 2, 3, 4, 5, 6, 7, 8, 9, 10, 11, 12, 18, 19, 21, 23, 24, 25]\n",
      "[13, 14, 15, 16, 17, 20, 21] --> [1, 2, 3, 4, 5, 6, 7, 8, 9, 10, 11, 12, 18, 19, 22, 23, 24, 25]\n",
      "[13, 14, 15, 16, 17, 19, 24] --> [1, 2, 3, 4, 5, 6, 7, 8, 9, 10, 11, 12, 18, 20, 21, 22, 23, 25]\n",
      "[13, 14, 15, 16, 17, 19, 23] --> [1, 2, 3, 4, 5, 6, 7, 8, 9, 10, 11, 12, 18, 20, 21, 22, 24, 25]\n",
      "[13, 14, 15, 16, 17, 19, 22] --> [1, 2, 3, 4, 5, 6, 7, 8, 9, 10, 11, 12, 18, 20, 21, 23, 24, 25]\n",
      "[13, 14, 15, 16, 17, 19, 21] --> [1, 2, 3, 4, 5, 6, 7, 8, 9, 10, 11, 12, 18, 20, 22, 23, 24, 25]\n",
      "[13, 14, 15, 16, 17, 19, 20] --> [1, 2, 3, 4, 5, 6, 7, 8, 9, 10, 11, 12, 18, 21, 22, 23, 24, 25]\n",
      "[13, 14, 15, 16, 17, 18, 24] --> [1, 2, 3, 4, 5, 6, 7, 8, 9, 10, 11, 12, 19, 20, 21, 22, 23, 25]\n",
      "[13, 14, 15, 16, 17, 18, 23] --> [1, 2, 3, 4, 5, 6, 7, 8, 9, 10, 11, 12, 19, 20, 21, 22, 24, 25]\n",
      "[13, 14, 15, 16, 17, 18, 22] --> [1, 2, 3, 4, 5, 6, 7, 8, 9, 10, 11, 12, 19, 20, 21, 23, 24, 25]\n",
      "[13, 14, 15, 16, 17, 18, 21] --> [1, 2, 3, 4, 5, 6, 7, 8, 9, 10, 11, 12, 19, 20, 22, 23, 24, 25]\n",
      "[13, 14, 15, 16, 17, 18, 20] --> [1, 2, 3, 4, 5, 6, 7, 8, 9, 10, 11, 12, 19, 21, 22, 23, 24, 25]\n",
      "[13, 14, 15, 16, 17, 18, 19] --> [1, 2, 3, 4, 5, 6, 7, 8, 9, 10, 11, 12, 20, 21, 22, 23, 24, 25]\n",
      "[12, 16, 17, 18, 19, 25, 26, 27] --> [1, 2, 3, 4, 5, 6, 7, 8, 9, 10, 11, 13, 14, 15, 20, 21, 22, 23]\n",
      "[12, 15, 18, 19, 20, 25, 26, 28, 29] --> [1, 2, 3, 4, 5, 6, 7, 8, 9, 10, 11, 13, 14, 16, 17, 21, 22, 23]\n",
      "[12, 15, 17, 19, 20, 25, 26, 28, 33] --> [1, 2, 3, 4, 5, 6, 7, 8, 9, 10, 11, 13, 14, 16, 18, 21, 22, 23]\n",
      "[12, 15, 17, 18, 20, 25, 26, 28, 31] --> [1, 2, 3, 4, 5, 6, 7, 8, 9, 10, 11, 13, 14, 16, 19, 21, 22, 23]\n",
      "[12, 15, 17, 18, 19, 25, 26, 28] --> [1, 2, 3, 4, 5, 6, 7, 8, 9, 10, 11, 13, 14, 16, 20, 21, 22, 23]\n",
      "[12, 15, 16, 19, 20, 25, 26, 29, 33] --> [1, 2, 3, 4, 5, 6, 7, 8, 9, 10, 11, 13, 14, 17, 18, 21, 22, 23]\n",
      "[12, 15, 16, 18, 20, 25, 26, 29] --> [1, 2, 3, 4, 5, 6, 7, 8, 9, 10, 11, 13, 14, 17, 19, 21, 22, 23]\n",
      "[12, 15, 16, 18, 19, 25, 26, 29] --> [1, 2, 3, 4, 5, 6, 7, 8, 9, 10, 11, 13, 14, 17, 20, 21, 22, 23]\n",
      "[12, 15, 16, 17, 20, 25, 26] --> [1, 2, 3, 4, 5, 6, 7, 8, 9, 10, 11, 13, 14, 18, 19, 21, 22, 23]\n",
      "[12, 15, 16, 17, 19, 25, 26] --> [1, 2, 3, 4, 5, 6, 7, 8, 9, 10, 11, 13, 14, 18, 20, 21, 22, 23]\n",
      "[12, 15, 16, 17, 18, 25, 26] --> [1, 2, 3, 4, 5, 6, 7, 8, 9, 10, 11, 13, 14, 19, 20, 21, 22, 23]\n",
      "[12, 14, 17, 20, 21, 25, 27, 30] --> [1, 2, 3, 4, 5, 6, 7, 8, 9, 10, 11, 13, 15, 16, 18, 19, 22, 23]\n",
      "[12, 14, 17, 19, 20, 25, 27, 30, 35] --> [1, 2, 3, 4, 5, 6, 7, 8, 9, 10, 11, 13, 15, 16, 18, 21, 22, 23]\n",
      "[12, 14, 17, 18, 21, 25, 27] --> [1, 2, 3, 4, 5, 6, 7, 8, 9, 10, 11, 13, 15, 16, 19, 20, 22, 23]\n",
      "[12, 14, 17, 18, 20, 25, 27, 33] --> [1, 2, 3, 4, 5, 6, 7, 8, 9, 10, 11, 13, 15, 16, 19, 21, 22, 23]\n",
      "[12, 14, 17, 18, 19, 25, 27] --> [1, 2, 3, 4, 5, 6, 7, 8, 9, 10, 11, 13, 15, 16, 20, 21, 22, 23]\n",
      "[12, 14, 16, 20, 21, 25, 27, 29, 31] --> [1, 2, 3, 4, 5, 6, 7, 8, 9, 10, 11, 13, 15, 17, 18, 19, 22, 23]\n",
      "[12, 14, 16, 19, 21, 25, 27, 29, 34] --> [1, 2, 3, 4, 5, 6, 7, 8, 9, 10, 11, 13, 15, 17, 18, 20, 22, 23]\n",
      "[12, 14, 16, 19, 20, 25, 27, 29] --> [1, 2, 3, 4, 5, 6, 7, 8, 9, 10, 11, 13, 15, 17, 18, 21, 22, 23]\n",
      "[12, 14, 16, 18, 21, 25, 27, 29, 31] --> [1, 2, 3, 4, 5, 6, 7, 8, 9, 10, 11, 13, 15, 17, 19, 20, 22, 23]\n",
      "[12, 14, 16, 18, 20, 25, 27, 29, 31, 33, 35] --> [1, 2, 3, 4, 5, 6, 7, 8, 9, 10, 11, 13, 15, 17, 19, 21, 22, 23]\n",
      "[12, 14, 16, 18, 19, 25, 27, 29] --> [1, 2, 3, 4, 5, 6, 7, 8, 9, 10, 11, 13, 15, 17, 20, 21, 22, 23]\n",
      "[12, 14, 16, 17, 21, 25, 27] --> [1, 2, 3, 4, 5, 6, 7, 8, 9, 10, 11, 13, 15, 18, 19, 20, 22, 23]\n",
      "[12, 14, 16, 17, 20, 25, 27, 35] --> [1, 2, 3, 4, 5, 6, 7, 8, 9, 10, 11, 13, 15, 18, 19, 21, 22, 23]\n",
      "[12, 14, 16, 17, 19, 25, 27] --> [1, 2, 3, 4, 5, 6, 7, 8, 9, 10, 11, 13, 15, 18, 20, 21, 22, 23]\n",
      "[12, 14, 16, 17, 18, 25, 27] --> [1, 2, 3, 4, 5, 6, 7, 8, 9, 10, 11, 13, 15, 19, 20, 21, 22, 23]\n",
      "[12, 14, 15, 20, 21, 25, 31] --> [1, 2, 3, 4, 5, 6, 7, 8, 9, 10, 11, 13, 16, 17, 18, 19, 22, 23]\n",
      "[12, 14, 15, 19, 21, 25, 32] --> [1, 2, 3, 4, 5, 6, 7, 8, 9, 10, 11, 13, 16, 17, 18, 20, 22, 23]\n",
      "[12, 14, 15, 19, 20, 25] --> [1, 2, 3, 4, 5, 6, 7, 8, 9, 10, 11, 13, 16, 17, 18, 21, 22, 23]\n",
      "[12, 14, 15, 18, 21, 25, 31, 34] --> [1, 2, 3, 4, 5, 6, 7, 8, 9, 10, 11, 13, 16, 17, 19, 20, 22, 23]\n",
      "[12, 14, 15, 18, 20, 25, 31] --> [1, 2, 3, 4, 5, 6, 7, 8, 9, 10, 11, 13, 16, 17, 19, 21, 22, 23]\n",
      "[12, 14, 15, 18, 19, 25, 35] --> [1, 2, 3, 4, 5, 6, 7, 8, 9, 10, 11, 13, 16, 17, 20, 21, 22, 23]\n",
      "[12, 14, 15, 17, 21, 25] --> [1, 2, 3, 4, 5, 6, 7, 8, 9, 10, 11, 13, 16, 18, 19, 20, 22, 23]\n",
      "[12, 14, 15, 17, 20, 25, 33] --> [1, 2, 3, 4, 5, 6, 7, 8, 9, 10, 11, 13, 16, 18, 19, 21, 22, 23]\n",
      "[12, 14, 15, 17, 19, 25, 35] --> [1, 2, 3, 4, 5, 6, 7, 8, 9, 10, 11, 13, 16, 18, 20, 21, 22, 23]\n",
      "[12, 14, 15, 17, 18, 25] --> [1, 2, 3, 4, 5, 6, 7, 8, 9, 10, 11, 13, 16, 19, 20, 21, 22, 23]\n",
      "[12, 14, 15, 16, 21, 25, 34] --> [1, 2, 3, 4, 5, 6, 7, 8, 9, 10, 11, 13, 17, 18, 19, 20, 22, 23]\n",
      "[12, 14, 15, 16, 20, 25, 33] --> [1, 2, 3, 4, 5, 6, 7, 8, 9, 10, 11, 13, 17, 18, 19, 21, 22, 23]\n",
      "[12, 14, 15, 16, 19, 25] --> [1, 2, 3, 4, 5, 6, 7, 8, 9, 10, 11, 13, 17, 18, 20, 21, 22, 23]\n",
      "[12, 14, 15, 16, 18, 25, 35] --> [1, 2, 3, 4, 5, 6, 7, 8, 9, 10, 11, 13, 17, 19, 20, 21, 22, 23]\n",
      "[12, 14, 15, 16, 17, 25, 35] --> [1, 2, 3, 4, 5, 6, 7, 8, 9, 10, 11, 13, 18, 19, 20, 21, 22, 23]\n",
      "[12, 13, 18, 20, 22, 27, 28, 29] --> [1, 2, 3, 4, 5, 6, 7, 8, 9, 10, 11, 14, 15, 16, 17, 19, 21, 23]\n",
      "[12, 13, 17, 20, 22, 27, 28, 31] --> [1, 2, 3, 4, 5, 6, 7, 8, 9, 10, 11, 14, 15, 16, 18, 19, 21, 23]\n",
      "[12, 13, 17, 19, 22, 27, 28, 33] --> [1, 2, 3, 4, 5, 6, 7, 8, 9, 10, 11, 14, 15, 16, 18, 20, 21, 23]\n",
      "[12, 13, 17, 19, 21, 27, 28, 35] --> [1, 2, 3, 4, 5, 6, 7, 8, 9, 10, 11, 14, 15, 16, 18, 20, 22, 23]\n",
      "[12, 13, 17, 18, 22, 27, 28, 32, 33] --> [1, 2, 3, 4, 5, 6, 7, 8, 9, 10, 11, 14, 15, 16, 19, 20, 21, 23]\n",
      "[12, 13, 17, 18, 21, 27, 28, 32] --> [1, 2, 3, 4, 5, 6, 7, 8, 9, 10, 11, 14, 15, 16, 19, 20, 22, 23]\n",
      "[12, 13, 17, 18, 20, 27, 28] --> [1, 2, 3, 4, 5, 6, 7, 8, 9, 10, 11, 14, 15, 16, 19, 21, 22, 23]\n",
      "[12, 13, 17, 18, 19, 27, 28, 33] --> [1, 2, 3, 4, 5, 6, 7, 8, 9, 10, 11, 14, 15, 16, 20, 21, 22, 23]\n",
      "[12, 13, 16, 20, 22, 27, 30, 31] --> [1, 2, 3, 4, 5, 6, 7, 8, 9, 10, 11, 14, 15, 17, 18, 19, 21, 23]\n",
      "[12, 13, 16, 19, 22, 27, 30, 33] --> [1, 2, 3, 4, 5, 6, 7, 8, 9, 10, 11, 14, 15, 17, 18, 20, 21, 23]\n",
      "[12, 13, 16, 19, 21, 27, 30] --> [1, 2, 3, 4, 5, 6, 7, 8, 9, 10, 11, 14, 15, 17, 18, 20, 22, 23]\n",
      "[12, 13, 16, 19, 20, 27, 30, 34] --> [1, 2, 3, 4, 5, 6, 7, 8, 9, 10, 11, 14, 15, 17, 18, 21, 22, 23]\n",
      "[12, 13, 16, 18, 22, 27, 33] --> [1, 2, 3, 4, 5, 6, 7, 8, 9, 10, 11, 14, 15, 17, 19, 20, 21, 23]\n",
      "[12, 13, 16, 18, 21, 27, 35] --> [1, 2, 3, 4, 5, 6, 7, 8, 9, 10, 11, 14, 15, 17, 19, 20, 22, 23]\n",
      "[12, 13, 16, 18, 20, 27, 35] --> [1, 2, 3, 4, 5, 6, 7, 8, 9, 10, 11, 14, 15, 17, 19, 21, 22, 23]\n",
      "[12, 13, 16, 18, 19, 27, 33] --> [1, 2, 3, 4, 5, 6, 7, 8, 9, 10, 11, 14, 15, 17, 20, 21, 22, 23]\n",
      "[12, 13, 16, 17, 22, 27, 31] --> [1, 2, 3, 4, 5, 6, 7, 8, 9, 10, 11, 14, 15, 18, 19, 20, 21, 23]\n",
      "[12, 13, 16, 17, 21, 27, 31, 35] --> [1, 2, 3, 4, 5, 6, 7, 8, 9, 10, 11, 14, 15, 18, 19, 20, 22, 23]\n",
      "[12, 13, 16, 17, 20, 27, 31, 35] --> [1, 2, 3, 4, 5, 6, 7, 8, 9, 10, 11, 14, 15, 18, 19, 21, 22, 23]\n",
      "[12, 13, 16, 17, 19, 27] --> [1, 2, 3, 4, 5, 6, 7, 8, 9, 10, 11, 14, 15, 18, 20, 21, 22, 23]\n",
      "[12, 13, 16, 17, 18, 27] --> [1, 2, 3, 4, 5, 6, 7, 8, 9, 10, 11, 14, 15, 19, 20, 21, 22, 23]\n"
     ]
    },
    {
     "name": "stdout",
     "output_type": "stream",
     "text": [
      "[12, 13, 15, 20, 22, 29, 31] --> [1, 2, 3, 4, 5, 6, 7, 8, 9, 10, 11, 14, 16, 17, 18, 19, 21, 23]\n",
      "[12, 13, 15, 20, 21, 29, 31] --> [1, 2, 3, 4, 5, 6, 7, 8, 9, 10, 11, 14, 16, 17, 18, 19, 22, 23]\n",
      "[12, 13, 15, 19, 22, 29, 33] --> [1, 2, 3, 4, 5, 6, 7, 8, 9, 10, 11, 14, 16, 17, 18, 20, 21, 23]\n",
      "[12, 13, 15, 19, 21, 29, 35] --> [1, 2, 3, 4, 5, 6, 7, 8, 9, 10, 11, 14, 16, 17, 18, 20, 22, 23]\n",
      "[12, 13, 15, 19, 20, 29] --> [1, 2, 3, 4, 5, 6, 7, 8, 9, 10, 11, 14, 16, 17, 18, 21, 22, 23]\n",
      "[12, 13, 15, 18, 22, 29, 32] --> [1, 2, 3, 4, 5, 6, 7, 8, 9, 10, 11, 14, 16, 17, 19, 20, 21, 23]\n",
      "[12, 13, 15, 18, 21, 29, 32, 35] --> [1, 2, 3, 4, 5, 6, 7, 8, 9, 10, 11, 14, 16, 17, 19, 20, 22, 23]\n",
      "[12, 13, 15, 18, 20, 29, 34] --> [1, 2, 3, 4, 5, 6, 7, 8, 9, 10, 11, 14, 16, 17, 19, 21, 22, 23]\n",
      "[12, 13, 15, 18, 19, 29, 35] --> [1, 2, 3, 4, 5, 6, 7, 8, 9, 10, 11, 14, 16, 17, 20, 21, 22, 23]\n",
      "[12, 13, 15, 17, 22, 31, 33] --> [1, 2, 3, 4, 5, 6, 7, 8, 9, 10, 11, 14, 16, 18, 19, 20, 21, 23]\n",
      "[12, 13, 15, 17, 21, 31, 35] --> [1, 2, 3, 4, 5, 6, 7, 8, 9, 10, 11, 14, 16, 18, 19, 20, 22, 23]\n",
      "[12, 13, 15, 17, 20, 31] --> [1, 2, 3, 4, 5, 6, 7, 8, 9, 10, 11, 14, 16, 18, 19, 21, 22, 23]\n",
      "[12, 13, 15, 17, 19, 33, 35] --> [1, 2, 3, 4, 5, 6, 7, 8, 9, 10, 11, 14, 16, 18, 20, 21, 22, 23]\n",
      "[12, 13, 15, 17, 18] --> [1, 2, 3, 4, 5, 6, 7, 8, 9, 10, 11, 14, 16, 19, 20, 21, 22, 23]\n",
      "[12, 13, 15, 16, 22, 33] --> [1, 2, 3, 4, 5, 6, 7, 8, 9, 10, 11, 14, 17, 18, 19, 20, 21, 23]\n",
      "[12, 13, 15, 16, 21, 35] --> [1, 2, 3, 4, 5, 6, 7, 8, 9, 10, 11, 14, 17, 18, 19, 20, 22, 23]\n",
      "[12, 13, 15, 16, 20, 34] --> [1, 2, 3, 4, 5, 6, 7, 8, 9, 10, 11, 14, 17, 18, 19, 21, 22, 23]\n",
      "[12, 13, 15, 16, 19, 33] --> [1, 2, 3, 4, 5, 6, 7, 8, 9, 10, 11, 14, 17, 18, 20, 21, 22, 23]\n",
      "[12, 13, 15, 16, 18, 35] --> [1, 2, 3, 4, 5, 6, 7, 8, 9, 10, 11, 14, 17, 19, 20, 21, 22, 23]\n",
      "[12, 13, 15, 16, 17, 35] --> [1, 2, 3, 4, 5, 6, 7, 8, 9, 10, 11, 14, 18, 19, 20, 21, 22, 23]\n",
      "[12, 13, 14, 21, 22, 29, 30, 31, 32] --> [1, 2, 3, 4, 5, 6, 7, 8, 9, 10, 11, 15, 16, 17, 18, 19, 20, 23]\n",
      "[12, 13, 14, 20, 22, 29, 30, 31] --> [1, 2, 3, 4, 5, 6, 7, 8, 9, 10, 11, 15, 16, 17, 18, 19, 21, 23]\n",
      "[12, 13, 14, 20, 21, 29, 30, 31] --> [1, 2, 3, 4, 5, 6, 7, 8, 9, 10, 11, 15, 16, 17, 18, 19, 22, 23]\n",
      "[12, 13, 14, 19, 22, 29, 30] --> [1, 2, 3, 4, 5, 6, 7, 8, 9, 10, 11, 15, 16, 17, 18, 20, 21, 23]\n",
      "[12, 13, 14, 19, 21, 29, 30] --> [1, 2, 3, 4, 5, 6, 7, 8, 9, 10, 11, 15, 16, 17, 18, 20, 22, 23]\n",
      "[12, 13, 14, 19, 20, 29, 30, 35] --> [1, 2, 3, 4, 5, 6, 7, 8, 9, 10, 11, 15, 16, 17, 18, 21, 22, 23]\n",
      "[12, 13, 14, 18, 22, 29, 33] --> [1, 2, 3, 4, 5, 6, 7, 8, 9, 10, 11, 15, 16, 17, 19, 20, 21, 23]\n",
      "[12, 13, 14, 18, 21, 29] --> [1, 2, 3, 4, 5, 6, 7, 8, 9, 10, 11, 15, 16, 17, 19, 20, 22, 23]\n",
      "[12, 13, 14, 18, 20, 29, 35] --> [1, 2, 3, 4, 5, 6, 7, 8, 9, 10, 11, 15, 16, 17, 19, 21, 22, 23]\n",
      "[12, 13, 14, 18, 19, 29, 34, 35] --> [1, 2, 3, 4, 5, 6, 7, 8, 9, 10, 11, 15, 16, 17, 20, 21, 22, 23]\n",
      "[12, 13, 14, 17, 22, 32, 33] --> [1, 2, 3, 4, 5, 6, 7, 8, 9, 10, 11, 15, 16, 18, 19, 20, 21, 23]\n",
      "[12, 13, 14, 17, 21, 32] --> [1, 2, 3, 4, 5, 6, 7, 8, 9, 10, 11, 15, 16, 18, 19, 20, 22, 23]\n",
      "[12, 13, 14, 17, 20, 35] --> [1, 2, 3, 4, 5, 6, 7, 8, 9, 10, 11, 15, 16, 18, 19, 21, 22, 23]\n",
      "[12, 13, 14, 17, 19, 35] --> [1, 2, 3, 4, 5, 6, 7, 8, 9, 10, 11, 15, 16, 18, 20, 21, 22, 23]\n",
      "[12, 13, 14, 17, 18, 33] --> [1, 2, 3, 4, 5, 6, 7, 8, 9, 10, 11, 15, 16, 19, 20, 21, 22, 23]\n",
      "[12, 13, 14, 16, 22, 31, 33] --> [1, 2, 3, 4, 5, 6, 7, 8, 9, 10, 11, 15, 17, 18, 19, 20, 21, 23]\n",
      "[12, 13, 14, 16, 21, 31] --> [1, 2, 3, 4, 5, 6, 7, 8, 9, 10, 11, 15, 17, 18, 19, 20, 22, 23]\n",
      "[12, 13, 14, 16, 20, 31, 35] --> [1, 2, 3, 4, 5, 6, 7, 8, 9, 10, 11, 15, 17, 18, 19, 21, 22, 23]\n",
      "[12, 13, 14, 16, 19, 34] --> [1, 2, 3, 4, 5, 6, 7, 8, 9, 10, 11, 15, 17, 18, 20, 21, 22, 23]\n",
      "[12, 13, 14, 16, 18, 33, 35] --> [1, 2, 3, 4, 5, 6, 7, 8, 9, 10, 11, 15, 17, 19, 20, 21, 22, 23]\n",
      "[12, 13, 14, 16, 17, 35] --> [1, 2, 3, 4, 5, 6, 7, 8, 9, 10, 11, 15, 18, 19, 20, 21, 22, 23]\n",
      "[12, 13, 14, 15, 22, 31, 32, 33] --> [1, 2, 3, 4, 5, 6, 7, 8, 9, 10, 11, 16, 17, 18, 19, 20, 21, 23]\n",
      "[12, 13, 14, 15, 21, 31, 32] --> [1, 2, 3, 4, 5, 6, 7, 8, 9, 10, 11, 16, 17, 18, 19, 20, 22, 23]\n",
      "[12, 13, 14, 15, 20, 31] --> [1, 2, 3, 4, 5, 6, 7, 8, 9, 10, 11, 16, 17, 18, 19, 21, 22, 23]\n",
      "[12, 13, 14, 15, 19, 35] --> [1, 2, 3, 4, 5, 6, 7, 8, 9, 10, 11, 16, 17, 18, 20, 21, 22, 23]\n",
      "[12, 13, 14, 15, 18, 34, 35] --> [1, 2, 3, 4, 5, 6, 7, 8, 9, 10, 11, 16, 17, 19, 20, 21, 22, 23]\n",
      "[12, 13, 14, 15, 17, 33, 35] --> [1, 2, 3, 4, 5, 6, 7, 8, 9, 10, 11, 16, 18, 19, 20, 21, 22, 23]\n",
      "[12, 13, 14, 15, 16, 33, 34, 35] --> [1, 2, 3, 4, 5, 6, 7, 8, 9, 10, 11, 17, 18, 19, 20, 21, 22, 23]\n",
      "[11, 15, 17, 23, 24, 25, 27, 29, 31] --> [1, 2, 3, 4, 5, 6, 7, 8, 9, 10, 12, 13, 14, 16, 18, 19, 20, 21]\n",
      "[11, 15, 16, 23, 24, 25, 28, 29] --> [1, 2, 3, 4, 5, 6, 7, 8, 9, 10, 12, 13, 14, 17, 18, 19, 20, 21]\n",
      "[11, 14, 18, 23, 24, 26, 27, 30, 31] --> [1, 2, 3, 4, 5, 6, 7, 8, 9, 10, 12, 13, 15, 16, 17, 19, 20, 21]\n",
      "[11, 14, 17, 23, 24, 26, 27, 29, 30, 32] --> [1, 2, 3, 4, 5, 6, 7, 8, 9, 10, 12, 13, 15, 16, 18, 19, 20, 21]\n",
      "[11, 14, 16, 23, 24, 26, 29, 31] --> [1, 2, 3, 4, 5, 6, 7, 8, 9, 10, 12, 13, 15, 17, 18, 19, 20, 21]\n",
      "[11, 14, 15, 23, 24, 27, 31, 32] --> [1, 2, 3, 4, 5, 6, 7, 8, 9, 10, 12, 13, 16, 17, 18, 19, 20, 21]\n",
      "[11, 13, 19, 23, 25, 27, 28, 29, 31] --> [1, 2, 3, 4, 5, 6, 7, 8, 9, 10, 12, 14, 15, 16, 17, 18, 20, 21]\n",
      "[11, 13, 18, 23, 25, 27, 28, 30, 32] --> [1, 2, 3, 4, 5, 6, 7, 8, 9, 10, 12, 14, 15, 16, 17, 19, 20, 21]\n",
      "[11, 13, 17, 23, 25, 27, 29, 31, 32] --> [1, 2, 3, 4, 5, 6, 7, 8, 9, 10, 12, 14, 15, 16, 18, 19, 20, 21]\n",
      "[11, 13, 16, 23, 25, 28, 30, 31] --> [1, 2, 3, 4, 5, 6, 7, 8, 9, 10, 12, 14, 15, 17, 18, 19, 20, 21]\n",
      "[11, 13, 15, 23, 25, 27, 29, 31, 32] --> [1, 2, 3, 4, 5, 6, 7, 8, 9, 10, 12, 14, 16, 17, 18, 19, 20, 21]\n",
      "[11, 13, 14, 23, 29, 30, 31, 32] --> [1, 2, 3, 4, 5, 6, 7, 8, 9, 10, 12, 15, 16, 17, 18, 19, 20, 21]\n",
      "[11, 12, 20, 25, 26, 27, 28, 29, 30] --> [1, 2, 3, 4, 5, 6, 7, 8, 9, 10, 13, 14, 15, 16, 17, 18, 19, 21]\n",
      "[11, 12, 19, 25, 26, 27, 28, 29, 32] --> [1, 2, 3, 4, 5, 6, 7, 8, 9, 10, 13, 14, 15, 16, 17, 18, 20, 21]\n",
      "[11, 12, 18, 25, 26, 27, 28, 31, 32] --> [1, 2, 3, 4, 5, 6, 7, 8, 9, 10, 13, 14, 15, 16, 17, 19, 20, 21]\n",
      "[11, 12, 17, 25, 26, 27, 30, 31, 32] --> [1, 2, 3, 4, 5, 6, 7, 8, 9, 10, 13, 14, 15, 16, 18, 19, 20, 21]\n",
      "[11, 12, 16, 25, 26, 29, 30, 31] --> [1, 2, 3, 4, 5, 6, 7, 8, 9, 10, 13, 14, 15, 17, 18, 19, 20, 21]\n",
      "[11, 12, 15, 25, 28, 29, 31, 32] --> [1, 2, 3, 4, 5, 6, 7, 8, 9, 10, 13, 14, 16, 17, 18, 19, 20, 21]\n",
      "[11, 12, 14, 27, 29, 30, 31, 32] --> [1, 2, 3, 4, 5, 6, 7, 8, 9, 10, 13, 15, 16, 17, 18, 19, 20, 21]\n",
      "[11, 12, 13, 27, 28, 29, 30, 31, 32] --> [1, 2, 3, 4, 5, 6, 7, 8, 9, 10, 14, 15, 16, 17, 18, 19, 20, 21]\n",
      "[10, 21, 22, 23, 24, 25, 26, 27, 28, 29] --> [1, 2, 3, 4, 5, 6, 7, 8, 9, 11, 12, 13, 14, 15, 16, 17, 18, 19]\n",
      "GÉNERO  19\n",
      "[19, 20, 21, 22, 23, 24, 25, 26, 27, 28, 29, 30, 31, 32, 33, 34, 35, 36] --> [1, 2, 3, 4, 5, 6, 7, 8, 9, 10, 11, 12, 13, 14, 15, 16, 17, 18, 37]\n",
      "[18, 19, 20, 21, 22, 23, 24, 25, 26, 28, 29, 30, 31, 32, 33, 34] --> [1, 2, 3, 4, 5, 6, 7, 8, 9, 10, 11, 12, 13, 14, 15, 16, 17, 27, 35]\n",
      "[18, 19, 20, 21, 22, 23, 24, 25, 26, 27, 29, 30, 31, 32, 33, 34] --> [1, 2, 3, 4, 5, 6, 7, 8, 9, 10, 11, 12, 13, 14, 15, 16, 17, 28, 35]\n",
      "[18, 19, 20, 21, 22, 23, 24, 25, 26, 27, 28, 30, 31, 32, 33, 34] --> [1, 2, 3, 4, 5, 6, 7, 8, 9, 10, 11, 12, 13, 14, 15, 16, 17, 29, 35]\n",
      "[18, 19, 20, 21, 22, 23, 24, 25, 26, 27, 28, 29, 31, 32, 33, 34] --> [1, 2, 3, 4, 5, 6, 7, 8, 9, 10, 11, 12, 13, 14, 15, 16, 17, 30, 35]\n",
      "[18, 19, 20, 21, 22, 23, 24, 25, 26, 27, 28, 29, 30, 32, 33, 34] --> [1, 2, 3, 4, 5, 6, 7, 8, 9, 10, 11, 12, 13, 14, 15, 16, 17, 31, 35]\n",
      "[18, 19, 20, 21, 22, 23, 24, 25, 26, 27, 28, 29, 30, 31, 33, 34] --> [1, 2, 3, 4, 5, 6, 7, 8, 9, 10, 11, 12, 13, 14, 15, 16, 17, 32, 35]\n",
      "[18, 19, 20, 21, 22, 23, 24, 25, 26, 27, 28, 29, 30, 31, 32, 34] --> [1, 2, 3, 4, 5, 6, 7, 8, 9, 10, 11, 12, 13, 14, 15, 16, 17, 33, 35]\n",
      "[18, 19, 20, 21, 22, 23, 24, 25, 26, 27, 28, 29, 30, 31, 32, 33] --> [1, 2, 3, 4, 5, 6, 7, 8, 9, 10, 11, 12, 13, 14, 15, 16, 17, 34, 35]\n",
      "[17, 19, 20, 21, 22, 23, 24, 25, 26, 27, 28, 29, 30, 31, 35] --> [1, 2, 3, 4, 5, 6, 7, 8, 9, 10, 11, 12, 13, 14, 15, 16, 18, 32, 33]\n",
      "[17, 18, 20, 21, 22, 23, 24, 25, 26, 27, 28, 29, 30, 32] --> [1, 2, 3, 4, 5, 6, 7, 8, 9, 10, 11, 12, 13, 14, 15, 16, 19, 31, 33]\n",
      "[17, 18, 20, 21, 22, 23, 24, 25, 26, 27, 28, 29, 30, 31] --> [1, 2, 3, 4, 5, 6, 7, 8, 9, 10, 11, 12, 13, 14, 15, 16, 19, 32, 33]\n"
     ]
    },
    {
     "name": "stdout",
     "output_type": "stream",
     "text": [
      "[17, 18, 19, 21, 22, 23, 24, 25, 26, 27, 28, 29, 31, 32] --> [1, 2, 3, 4, 5, 6, 7, 8, 9, 10, 11, 12, 13, 14, 15, 16, 20, 30, 33]\n",
      "[17, 18, 19, 21, 22, 23, 24, 25, 26, 27, 28, 29, 30, 32] --> [1, 2, 3, 4, 5, 6, 7, 8, 9, 10, 11, 12, 13, 14, 15, 16, 20, 31, 33]\n",
      "[17, 18, 19, 21, 22, 23, 24, 25, 26, 27, 28, 29, 30, 31] --> [1, 2, 3, 4, 5, 6, 7, 8, 9, 10, 11, 12, 13, 14, 15, 16, 20, 32, 33]\n",
      "[17, 18, 19, 20, 22, 23, 24, 25, 26, 27, 28, 30, 31, 32] --> [1, 2, 3, 4, 5, 6, 7, 8, 9, 10, 11, 12, 13, 14, 15, 16, 21, 29, 33]\n",
      "[17, 18, 19, 20, 22, 23, 24, 25, 26, 27, 28, 29, 31, 32] --> [1, 2, 3, 4, 5, 6, 7, 8, 9, 10, 11, 12, 13, 14, 15, 16, 21, 30, 33]\n",
      "[17, 18, 19, 20, 22, 23, 24, 25, 26, 27, 28, 29, 30, 32] --> [1, 2, 3, 4, 5, 6, 7, 8, 9, 10, 11, 12, 13, 14, 15, 16, 21, 31, 33]\n",
      "[17, 18, 19, 20, 22, 23, 24, 25, 26, 27, 28, 29, 30, 31] --> [1, 2, 3, 4, 5, 6, 7, 8, 9, 10, 11, 12, 13, 14, 15, 16, 21, 32, 33]\n",
      "[17, 18, 19, 20, 21, 23, 24, 25, 26, 27, 29, 30, 31, 32] --> [1, 2, 3, 4, 5, 6, 7, 8, 9, 10, 11, 12, 13, 14, 15, 16, 22, 28, 33]\n",
      "[17, 18, 19, 20, 21, 23, 24, 25, 26, 27, 28, 30, 31, 32] --> [1, 2, 3, 4, 5, 6, 7, 8, 9, 10, 11, 12, 13, 14, 15, 16, 22, 29, 33]\n",
      "[17, 18, 19, 20, 21, 23, 24, 25, 26, 27, 28, 29, 31, 32] --> [1, 2, 3, 4, 5, 6, 7, 8, 9, 10, 11, 12, 13, 14, 15, 16, 22, 30, 33]\n",
      "[17, 18, 19, 20, 21, 23, 24, 25, 26, 27, 28, 29, 30, 32] --> [1, 2, 3, 4, 5, 6, 7, 8, 9, 10, 11, 12, 13, 14, 15, 16, 22, 31, 33]\n",
      "[17, 18, 19, 20, 21, 23, 24, 25, 26, 27, 28, 29, 30, 31] --> [1, 2, 3, 4, 5, 6, 7, 8, 9, 10, 11, 12, 13, 14, 15, 16, 22, 32, 33]\n",
      "[17, 18, 19, 20, 21, 22, 24, 25, 26, 28, 29, 30, 31, 32] --> [1, 2, 3, 4, 5, 6, 7, 8, 9, 10, 11, 12, 13, 14, 15, 16, 23, 27, 33]\n",
      "[17, 18, 19, 20, 21, 22, 24, 25, 26, 27, 29, 30, 31, 32] --> [1, 2, 3, 4, 5, 6, 7, 8, 9, 10, 11, 12, 13, 14, 15, 16, 23, 28, 33]\n",
      "[17, 18, 19, 20, 21, 22, 24, 25, 26, 27, 28, 30, 31, 32] --> [1, 2, 3, 4, 5, 6, 7, 8, 9, 10, 11, 12, 13, 14, 15, 16, 23, 29, 33]\n",
      "[17, 18, 19, 20, 21, 22, 24, 25, 26, 27, 28, 29, 31, 32] --> [1, 2, 3, 4, 5, 6, 7, 8, 9, 10, 11, 12, 13, 14, 15, 16, 23, 30, 33]\n",
      "[17, 18, 19, 20, 21, 22, 24, 25, 26, 27, 28, 29, 30, 32] --> [1, 2, 3, 4, 5, 6, 7, 8, 9, 10, 11, 12, 13, 14, 15, 16, 23, 31, 33]\n",
      "[17, 18, 19, 20, 21, 22, 24, 25, 26, 27, 28, 29, 30, 31] --> [1, 2, 3, 4, 5, 6, 7, 8, 9, 10, 11, 12, 13, 14, 15, 16, 23, 32, 33]\n",
      "[17, 18, 19, 20, 21, 22, 23, 25, 27, 28, 29, 30, 31, 32] --> [1, 2, 3, 4, 5, 6, 7, 8, 9, 10, 11, 12, 13, 14, 15, 16, 24, 26, 33]\n",
      "[17, 18, 19, 20, 21, 22, 23, 25, 26, 28, 29, 30, 31, 32] --> [1, 2, 3, 4, 5, 6, 7, 8, 9, 10, 11, 12, 13, 14, 15, 16, 24, 27, 33]\n",
      "[17, 18, 19, 20, 21, 22, 23, 25, 26, 27, 29, 30, 31, 32] --> [1, 2, 3, 4, 5, 6, 7, 8, 9, 10, 11, 12, 13, 14, 15, 16, 24, 28, 33]\n",
      "[17, 18, 19, 20, 21, 22, 23, 25, 26, 27, 28, 30, 31, 32] --> [1, 2, 3, 4, 5, 6, 7, 8, 9, 10, 11, 12, 13, 14, 15, 16, 24, 29, 33]\n",
      "[17, 18, 19, 20, 21, 22, 23, 25, 26, 27, 28, 29, 31, 32] --> [1, 2, 3, 4, 5, 6, 7, 8, 9, 10, 11, 12, 13, 14, 15, 16, 24, 30, 33]\n",
      "[17, 18, 19, 20, 21, 22, 23, 25, 26, 27, 28, 29, 30, 32] --> [1, 2, 3, 4, 5, 6, 7, 8, 9, 10, 11, 12, 13, 14, 15, 16, 24, 31, 33]\n",
      "[17, 18, 19, 20, 21, 22, 23, 25, 26, 27, 28, 29, 30, 31] --> [1, 2, 3, 4, 5, 6, 7, 8, 9, 10, 11, 12, 13, 14, 15, 16, 24, 32, 33]\n",
      "[17, 18, 19, 20, 21, 22, 23, 24, 27, 28, 29, 30, 31, 32] --> [1, 2, 3, 4, 5, 6, 7, 8, 9, 10, 11, 12, 13, 14, 15, 16, 25, 26, 33]\n",
      "[17, 18, 19, 20, 21, 22, 23, 24, 26, 28, 29, 30, 31, 32] --> [1, 2, 3, 4, 5, 6, 7, 8, 9, 10, 11, 12, 13, 14, 15, 16, 25, 27, 33]\n",
      "[17, 18, 19, 20, 21, 22, 23, 24, 26, 27, 29, 30, 31, 32] --> [1, 2, 3, 4, 5, 6, 7, 8, 9, 10, 11, 12, 13, 14, 15, 16, 25, 28, 33]\n",
      "[17, 18, 19, 20, 21, 22, 23, 24, 26, 27, 28, 30, 31, 32] --> [1, 2, 3, 4, 5, 6, 7, 8, 9, 10, 11, 12, 13, 14, 15, 16, 25, 29, 33]\n",
      "[17, 18, 19, 20, 21, 22, 23, 24, 26, 27, 28, 29, 31, 32] --> [1, 2, 3, 4, 5, 6, 7, 8, 9, 10, 11, 12, 13, 14, 15, 16, 25, 30, 33]\n",
      "[17, 18, 19, 20, 21, 22, 23, 24, 26, 27, 28, 29, 30, 32] --> [1, 2, 3, 4, 5, 6, 7, 8, 9, 10, 11, 12, 13, 14, 15, 16, 25, 31, 33]\n",
      "[17, 18, 19, 20, 21, 22, 23, 24, 26, 27, 28, 29, 30, 31] --> [1, 2, 3, 4, 5, 6, 7, 8, 9, 10, 11, 12, 13, 14, 15, 16, 25, 32, 33]\n",
      "[17, 18, 19, 20, 21, 22, 23, 24, 25, 28, 29, 30, 31, 32] --> [1, 2, 3, 4, 5, 6, 7, 8, 9, 10, 11, 12, 13, 14, 15, 16, 26, 27, 33]\n",
      "[17, 18, 19, 20, 21, 22, 23, 24, 25, 27, 29, 30, 31, 32] --> [1, 2, 3, 4, 5, 6, 7, 8, 9, 10, 11, 12, 13, 14, 15, 16, 26, 28, 33]\n",
      "[17, 18, 19, 20, 21, 22, 23, 24, 25, 27, 28, 30, 31, 32] --> [1, 2, 3, 4, 5, 6, 7, 8, 9, 10, 11, 12, 13, 14, 15, 16, 26, 29, 33]\n",
      "[17, 18, 19, 20, 21, 22, 23, 24, 25, 27, 28, 29, 31, 32] --> [1, 2, 3, 4, 5, 6, 7, 8, 9, 10, 11, 12, 13, 14, 15, 16, 26, 30, 33]\n",
      "[17, 18, 19, 20, 21, 22, 23, 24, 25, 27, 28, 29, 30, 32] --> [1, 2, 3, 4, 5, 6, 7, 8, 9, 10, 11, 12, 13, 14, 15, 16, 26, 31, 33]\n",
      "[17, 18, 19, 20, 21, 22, 23, 24, 25, 27, 28, 29, 30, 31] --> [1, 2, 3, 4, 5, 6, 7, 8, 9, 10, 11, 12, 13, 14, 15, 16, 26, 32, 33]\n",
      "[17, 18, 19, 20, 21, 22, 23, 24, 25, 26, 29, 30, 31, 32] --> [1, 2, 3, 4, 5, 6, 7, 8, 9, 10, 11, 12, 13, 14, 15, 16, 27, 28, 33]\n",
      "[17, 18, 19, 20, 21, 22, 23, 24, 25, 26, 28, 30, 31, 32] --> [1, 2, 3, 4, 5, 6, 7, 8, 9, 10, 11, 12, 13, 14, 15, 16, 27, 29, 33]\n",
      "[17, 18, 19, 20, 21, 22, 23, 24, 25, 26, 28, 29, 31, 32] --> [1, 2, 3, 4, 5, 6, 7, 8, 9, 10, 11, 12, 13, 14, 15, 16, 27, 30, 33]\n",
      "[17, 18, 19, 20, 21, 22, 23, 24, 25, 26, 28, 29, 30, 32] --> [1, 2, 3, 4, 5, 6, 7, 8, 9, 10, 11, 12, 13, 14, 15, 16, 27, 31, 33]\n",
      "[17, 18, 19, 20, 21, 22, 23, 24, 25, 26, 28, 29, 30, 31] --> [1, 2, 3, 4, 5, 6, 7, 8, 9, 10, 11, 12, 13, 14, 15, 16, 27, 32, 33]\n",
      "[17, 18, 19, 20, 21, 22, 23, 24, 25, 26, 27, 30, 31, 32] --> [1, 2, 3, 4, 5, 6, 7, 8, 9, 10, 11, 12, 13, 14, 15, 16, 28, 29, 33]\n",
      "[17, 18, 19, 20, 21, 22, 23, 24, 25, 26, 27, 29, 31, 32] --> [1, 2, 3, 4, 5, 6, 7, 8, 9, 10, 11, 12, 13, 14, 15, 16, 28, 30, 33]\n",
      "[17, 18, 19, 20, 21, 22, 23, 24, 25, 26, 27, 29, 30, 32] --> [1, 2, 3, 4, 5, 6, 7, 8, 9, 10, 11, 12, 13, 14, 15, 16, 28, 31, 33]\n",
      "[17, 18, 19, 20, 21, 22, 23, 24, 25, 26, 27, 29, 30, 31] --> [1, 2, 3, 4, 5, 6, 7, 8, 9, 10, 11, 12, 13, 14, 15, 16, 28, 32, 33]\n",
      "[17, 18, 19, 20, 21, 22, 23, 24, 25, 26, 27, 28, 31, 32] --> [1, 2, 3, 4, 5, 6, 7, 8, 9, 10, 11, 12, 13, 14, 15, 16, 29, 30, 33]\n",
      "[17, 18, 19, 20, 21, 22, 23, 24, 25, 26, 27, 28, 30, 32] --> [1, 2, 3, 4, 5, 6, 7, 8, 9, 10, 11, 12, 13, 14, 15, 16, 29, 31, 33]\n",
      "[17, 18, 19, 20, 21, 22, 23, 24, 25, 26, 27, 28, 30, 31] --> [1, 2, 3, 4, 5, 6, 7, 8, 9, 10, 11, 12, 13, 14, 15, 16, 29, 32, 33]\n",
      "[17, 18, 19, 20, 21, 22, 23, 24, 25, 26, 27, 28, 29, 32] --> [1, 2, 3, 4, 5, 6, 7, 8, 9, 10, 11, 12, 13, 14, 15, 16, 30, 31, 33]\n",
      "[17, 18, 19, 20, 21, 22, 23, 24, 25, 26, 27, 28, 29, 31] --> [1, 2, 3, 4, 5, 6, 7, 8, 9, 10, 11, 12, 13, 14, 15, 16, 30, 32, 33]\n",
      "[17, 18, 19, 20, 21, 22, 23, 24, 25, 26, 27, 28, 29, 30] --> [1, 2, 3, 4, 5, 6, 7, 8, 9, 10, 11, 12, 13, 14, 15, 16, 31, 32, 33]\n",
      "[16, 18, 20, 21, 22, 23, 24, 25, 26, 27, 28, 29, 33, 35] --> [1, 2, 3, 4, 5, 6, 7, 8, 9, 10, 11, 12, 13, 14, 15, 17, 19, 30, 31]\n",
      "[16, 18, 19, 21, 22, 23, 24, 25, 26, 27, 28, 29, 33] --> [1, 2, 3, 4, 5, 6, 7, 8, 9, 10, 11, 12, 13, 14, 15, 17, 20, 30, 31]\n"
     ]
    },
    {
     "ename": "KeyboardInterrupt",
     "evalue": "",
     "output_type": "error",
     "traceback": [
      "\u001b[0;31m---------------------------------------------------------------------------\u001b[0m",
      "\u001b[0;31mKeyboardInterrupt\u001b[0m                         Traceback (most recent call last)",
      "\u001b[0;32m<ipython-input-32-69ad13dddfc7>\u001b[0m in \u001b[0;36m<module>\u001b[0;34m\u001b[0m\n\u001b[1;32m     13\u001b[0m             \u001b[0mgenus\u001b[0m \u001b[0;34m=\u001b[0m \u001b[0mlen\u001b[0m\u001b[0;34m(\u001b[0m\u001b[0mgaps\u001b[0m\u001b[0;34m)\u001b[0m\u001b[0;34m\u001b[0m\u001b[0;34m\u001b[0m\u001b[0m\n\u001b[1;32m     14\u001b[0m             \u001b[0mfb\u001b[0m \u001b[0;34m=\u001b[0m \u001b[0mmax\u001b[0m\u001b[0;34m(\u001b[0m\u001b[0mgaps\u001b[0m\u001b[0;34m)\u001b[0m\u001b[0;34m\u001b[0m\u001b[0;34m\u001b[0m\u001b[0m\n\u001b[0;32m---> 15\u001b[0;31m             \u001b[0mtipo\u001b[0m \u001b[0;34m=\u001b[0m \u001b[0mlen\u001b[0m\u001b[0;34m(\u001b[0m\u001b[0mComputePseudoFrobenius\u001b[0m\u001b[0;34m(\u001b[0m\u001b[0my\u001b[0m\u001b[0;34m.\u001b[0m\u001b[0mgenerators\u001b[0m\u001b[0;34m)\u001b[0m\u001b[0;34m)\u001b[0m\u001b[0;34m\u001b[0m\u001b[0;34m\u001b[0m\u001b[0m\n\u001b[0m\u001b[1;32m     16\u001b[0m             \u001b[0mm\u001b[0m \u001b[0;34m=\u001b[0m \u001b[0mmin\u001b[0m\u001b[0;34m(\u001b[0m\u001b[0my\u001b[0m\u001b[0;34m.\u001b[0m\u001b[0mgenerators\u001b[0m\u001b[0;34m)\u001b[0m\u001b[0;34m\u001b[0m\u001b[0;34m\u001b[0m\u001b[0m\n\u001b[1;32m     17\u001b[0m             \u001b[0;32mif\u001b[0m \u001b[0mm\u001b[0m\u001b[0;34m-\u001b[0m\u001b[0;36m1\u001b[0m\u001b[0;34m+\u001b[0m\u001b[0mtipo\u001b[0m \u001b[0;34m==\u001b[0m \u001b[0mgenus\u001b[0m\u001b[0;34m:\u001b[0m\u001b[0;34m\u001b[0m\u001b[0;34m\u001b[0m\u001b[0m\n",
      "\u001b[0;32m<ipython-input-11-817298de5ab7>\u001b[0m in \u001b[0;36mComputePseudoFrobenius\u001b[0;34m(gen)\u001b[0m\n\u001b[1;32m      1\u001b[0m \u001b[0;32mdef\u001b[0m \u001b[0mComputePseudoFrobenius\u001b[0m\u001b[0;34m(\u001b[0m\u001b[0mgen\u001b[0m\u001b[0;34m)\u001b[0m\u001b[0;34m:\u001b[0m\u001b[0;34m\u001b[0m\u001b[0;34m\u001b[0m\u001b[0m\n\u001b[0;32m----> 2\u001b[0;31m     \u001b[0mgap\u001b[0m \u001b[0;34m=\u001b[0m \u001b[0mGapSet\u001b[0m\u001b[0;34m(\u001b[0m\u001b[0mgen\u001b[0m\u001b[0;34m)\u001b[0m\u001b[0;34m\u001b[0m\u001b[0;34m\u001b[0m\u001b[0m\n\u001b[0m\u001b[1;32m      3\u001b[0m     \u001b[0mpf\u001b[0m \u001b[0;34m=\u001b[0m \u001b[0;34m[\u001b[0m\u001b[0;34m]\u001b[0m\u001b[0;34m\u001b[0m\u001b[0;34m\u001b[0m\u001b[0m\n\u001b[1;32m      4\u001b[0m     \u001b[0;32mfor\u001b[0m \u001b[0mx\u001b[0m \u001b[0;32min\u001b[0m \u001b[0mgap\u001b[0m\u001b[0;34m:\u001b[0m\u001b[0;34m\u001b[0m\u001b[0;34m\u001b[0m\u001b[0m\n\u001b[1;32m      5\u001b[0m         \u001b[0misPF\u001b[0m \u001b[0;34m=\u001b[0m \u001b[0;32mTrue\u001b[0m\u001b[0;34m\u001b[0m\u001b[0;34m\u001b[0m\u001b[0m\n",
      "\u001b[0;32m<ipython-input-27-53e5061b9982>\u001b[0m in \u001b[0;36mGapSet\u001b[0;34m(gen)\u001b[0m\n\u001b[1;32m      6\u001b[0m     \u001b[0mgaps\u001b[0m \u001b[0;34m=\u001b[0m \u001b[0;34m[\u001b[0m\u001b[0;34m]\u001b[0m\u001b[0;34m\u001b[0m\u001b[0;34m\u001b[0m\u001b[0m\n\u001b[1;32m      7\u001b[0m     \u001b[0;32mwhile\u001b[0m \u001b[0mcontrol\u001b[0m \u001b[0;34m<\u001b[0m \u001b[0mm\u001b[0m\u001b[0;34m:\u001b[0m\u001b[0;34m\u001b[0m\u001b[0;34m\u001b[0m\u001b[0m\n\u001b[0;32m----> 8\u001b[0;31m         \u001b[0;32mif\u001b[0m \u001b[0mns\u001b[0m\u001b[0;34m.\u001b[0m\u001b[0mBelongs\u001b[0m\u001b[0;34m(\u001b[0m\u001b[0mi\u001b[0m\u001b[0;34m)\u001b[0m\u001b[0;34m:\u001b[0m\u001b[0;34m\u001b[0m\u001b[0;34m\u001b[0m\u001b[0m\n\u001b[0m\u001b[1;32m      9\u001b[0m             \u001b[0mcontrol\u001b[0m \u001b[0;34m=\u001b[0m \u001b[0mcontrol\u001b[0m \u001b[0;34m+\u001b[0m\u001b[0;36m1\u001b[0m\u001b[0;34m\u001b[0m\u001b[0;34m\u001b[0m\u001b[0m\n\u001b[1;32m     10\u001b[0m         \u001b[0;32melse\u001b[0m\u001b[0;34m:\u001b[0m\u001b[0;34m\u001b[0m\u001b[0;34m\u001b[0m\u001b[0m\n",
      "\u001b[0;32m~/CommutativeMonoids/Class/NumericalSemigroup.py\u001b[0m in \u001b[0;36mBelongs\u001b[0;34m(self, x)\u001b[0m\n\u001b[1;32m     71\u001b[0m         \u001b[0;32mif\u001b[0m \u001b[0mself\u001b[0m\u001b[0;34m.\u001b[0m\u001b[0mfNumber\u001b[0m \u001b[0;34m==\u001b[0m \u001b[0;36m0\u001b[0m\u001b[0;34m:\u001b[0m\u001b[0;34m\u001b[0m\u001b[0;34m\u001b[0m\u001b[0m\n\u001b[1;32m     72\u001b[0m             \u001b[0mFrobeniusNumber\u001b[0m\u001b[0;34m(\u001b[0m\u001b[0mself\u001b[0m\u001b[0;34m.\u001b[0m\u001b[0mgenerators\u001b[0m\u001b[0;34m,\u001b[0m\u001b[0mself\u001b[0m\u001b[0;34m.\u001b[0m\u001b[0meDimension\u001b[0m\u001b[0;34m)\u001b[0m\u001b[0;34m\u001b[0m\u001b[0;34m\u001b[0m\u001b[0m\n\u001b[0;32m---> 73\u001b[0;31m         \u001b[0;32mreturn\u001b[0m \u001b[0mBelong\u001b[0m\u001b[0;34m(\u001b[0m\u001b[0mself\u001b[0m\u001b[0;34m.\u001b[0m\u001b[0mgenerators\u001b[0m\u001b[0;34m,\u001b[0m\u001b[0mx\u001b[0m\u001b[0;34m,\u001b[0m\u001b[0mself\u001b[0m\u001b[0;34m.\u001b[0m\u001b[0mmultiplicity\u001b[0m\u001b[0;34m,\u001b[0m\u001b[0mself\u001b[0m\u001b[0;34m.\u001b[0m\u001b[0mfNumber\u001b[0m\u001b[0;34m)\u001b[0m\u001b[0;34m\u001b[0m\u001b[0;34m\u001b[0m\u001b[0m\n\u001b[0m\u001b[1;32m     74\u001b[0m \u001b[0;34m\u001b[0m\u001b[0m\n\u001b[1;32m     75\u001b[0m     \u001b[0;31m# This function compute the minimum of Delta(S)\u001b[0m\u001b[0;34m\u001b[0m\u001b[0;34m\u001b[0m\u001b[0;34m\u001b[0m\u001b[0m\n",
      "\u001b[0;32m~/CommutativeMonoids/Class/auxiliars.py\u001b[0m in \u001b[0;36mBelong\u001b[0;34m(generators, x, multiplicity, fNumber)\u001b[0m\n\u001b[1;32m    122\u001b[0m         \u001b[0mmultiplicity\u001b[0m \u001b[0;34m=\u001b[0m \u001b[0mgenerators\u001b[0m\u001b[0;34m[\u001b[0m\u001b[0;36m0\u001b[0m\u001b[0;34m]\u001b[0m\u001b[0;34m\u001b[0m\u001b[0;34m\u001b[0m\u001b[0m\n\u001b[1;32m    123\u001b[0m     \u001b[0;32mif\u001b[0m \u001b[0mfNumber\u001b[0m \u001b[0;34m==\u001b[0m \u001b[0;36m0\u001b[0m\u001b[0;34m:\u001b[0m\u001b[0;34m\u001b[0m\u001b[0;34m\u001b[0m\u001b[0m\n\u001b[0;32m--> 124\u001b[0;31m         \u001b[0mfNumber\u001b[0m \u001b[0;34m=\u001b[0m \u001b[0mFrobeniusNumber\u001b[0m\u001b[0;34m(\u001b[0m\u001b[0mgenerators\u001b[0m\u001b[0;34m,\u001b[0m\u001b[0mlen\u001b[0m\u001b[0;34m(\u001b[0m\u001b[0mgenerators\u001b[0m\u001b[0;34m)\u001b[0m\u001b[0;34m)\u001b[0m\u001b[0;34m\u001b[0m\u001b[0;34m\u001b[0m\u001b[0m\n\u001b[0m\u001b[1;32m    125\u001b[0m     \u001b[0;32mif\u001b[0m \u001b[0mx\u001b[0m\u001b[0;34m==\u001b[0m\u001b[0;36m0\u001b[0m\u001b[0;34m:\u001b[0m\u001b[0;34m\u001b[0m\u001b[0;34m\u001b[0m\u001b[0m\n\u001b[1;32m    126\u001b[0m         \u001b[0;32mreturn\u001b[0m \u001b[0;32mTrue\u001b[0m\u001b[0;34m\u001b[0m\u001b[0;34m\u001b[0m\u001b[0m\n",
      "\u001b[0;32m~/CommutativeMonoids/Class/auxiliars.py\u001b[0m in \u001b[0;36mFrobeniusNumber\u001b[0;34m(generators, eDimension)\u001b[0m\n\u001b[1;32m     33\u001b[0m             \u001b[0me\u001b[0m \u001b[0;34m=\u001b[0m \u001b[0;34m(\u001b[0m\u001b[0mb\u001b[0m\u001b[0;34m[\u001b[0m\u001b[0mj\u001b[0m\u001b[0;34m-\u001b[0m\u001b[0;36m1\u001b[0m\u001b[0;34m]\u001b[0m\u001b[0;34m+\u001b[0m\u001b[0mv\u001b[0m\u001b[0;34m)\u001b[0m \u001b[0;34m%\u001b[0m \u001b[0ma\u001b[0m\u001b[0;34m\u001b[0m\u001b[0;34m\u001b[0m\u001b[0m\n\u001b[1;32m     34\u001b[0m             \u001b[0mw\u001b[0m \u001b[0;34m=\u001b[0m \u001b[0mb\u001b[0m\u001b[0;34m[\u001b[0m\u001b[0mj\u001b[0m\u001b[0;34m-\u001b[0m\u001b[0;36m1\u001b[0m\u001b[0;34m]\u001b[0m \u001b[0;34m+\u001b[0m \u001b[0mS\u001b[0m\u001b[0;34m[\u001b[0m\u001b[0mv\u001b[0m\u001b[0;34m-\u001b[0m\u001b[0;36m1\u001b[0m\u001b[0;34m]\u001b[0m\u001b[0;34m\u001b[0m\u001b[0;34m\u001b[0m\u001b[0m\n\u001b[0;32m---> 35\u001b[0;31m             \u001b[0;32mif\u001b[0m\u001b[0;34m(\u001b[0m\u001b[0mw\u001b[0m \u001b[0;34m<\u001b[0m \u001b[0mS\u001b[0m\u001b[0;34m[\u001b[0m\u001b[0me\u001b[0m\u001b[0;34m-\u001b[0m\u001b[0;36m1\u001b[0m\u001b[0;34m]\u001b[0m \u001b[0;32mand\u001b[0m \u001b[0me\u001b[0m \u001b[0;34m!=\u001b[0m \u001b[0;36m0\u001b[0m \u001b[0;34m)\u001b[0m\u001b[0;34m:\u001b[0m\u001b[0;34m\u001b[0m\u001b[0;34m\u001b[0m\u001b[0m\n\u001b[0m\u001b[1;32m     36\u001b[0m                 \u001b[0mS\u001b[0m\u001b[0;34m[\u001b[0m\u001b[0me\u001b[0m\u001b[0;34m-\u001b[0m\u001b[0;36m1\u001b[0m\u001b[0;34m]\u001b[0m \u001b[0;34m=\u001b[0m \u001b[0mw\u001b[0m\u001b[0;34m\u001b[0m\u001b[0;34m\u001b[0m\u001b[0m\n\u001b[1;32m     37\u001b[0m                 \u001b[0mP\u001b[0m\u001b[0;34m[\u001b[0m\u001b[0me\u001b[0m\u001b[0;34m-\u001b[0m\u001b[0;36m1\u001b[0m\u001b[0;34m]\u001b[0m \u001b[0;34m=\u001b[0m \u001b[0mj\u001b[0m\u001b[0;34m\u001b[0m\u001b[0;34m\u001b[0m\u001b[0m\n",
      "\u001b[0;31mKeyboardInterrupt\u001b[0m: "
     ]
    }
   ],
   "source": [
    "ns = NumericalSemigroup([1])\n",
    "nivel = [ns.Children()]\n",
    "for j in range(18):\n",
    "    print(\"GÉNERO \",j+2)\n",
    "    nivel2 = []\n",
    "    for x in nivel:\n",
    "        for y in x:\n",
    "            nivel2.append(y.Children())\n",
    "    nivel = list(nivel2)\n",
    "    for x in nivel:\n",
    "        for y in x:\n",
    "            gaps = GapSet(y.generators)\n",
    "            genus = len(gaps)\n",
    "            fb = max(gaps)\n",
    "            tipo = len(ComputePseudoFrobenius(y.generators))\n",
    "            m = min(y.generators)\n",
    "            if m-1+tipo == genus:\n",
    "                if fb%2 == 1:\n",
    "                    if 2*genus+1 == 2*tipo + fb:\n",
    "                        print(y.generators,\"-->\",gaps)\n",
    "                else:\n",
    "                    if 2*genus == 2*tipo+fb:\n",
    "                        print(y.generators,\"-->\",gaps)"
   ]
  }
 ],
 "metadata": {
  "kernelspec": {
   "display_name": "Python 3",
   "language": "python",
   "name": "python3"
  },
  "language_info": {
   "codemirror_mode": {
    "name": "ipython",
    "version": 3
   },
   "file_extension": ".py",
   "mimetype": "text/x-python",
   "name": "python",
   "nbconvert_exporter": "python",
   "pygments_lexer": "ipython3",
   "version": "3.6.8"
  }
 },
 "nbformat": 4,
 "nbformat_minor": 2
}

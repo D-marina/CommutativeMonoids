{
 "cells": [
  {
   "cell_type": "code",
   "execution_count": 1,
   "metadata": {
    "ExecuteTime": {
     "end_time": "2019-07-22T08:04:43.986581Z",
     "start_time": "2019-07-22T08:04:43.981670Z"
    }
   },
   "outputs": [],
   "source": [
    "import sys\n",
    "sys.path.insert(0, '../Class/')"
   ]
  },
  {
   "cell_type": "code",
   "execution_count": 2,
   "metadata": {
    "ExecuteTime": {
     "end_time": "2019-07-22T08:05:00.557168Z",
     "start_time": "2019-07-22T08:04:46.564700Z"
    }
   },
   "outputs": [],
   "source": [
    "import NumericalSemigroup\n",
    "from NumericalSemigroup import *\n",
    "import auxiliars\n",
    "from auxiliars import *"
   ]
  },
  {
   "cell_type": "code",
   "execution_count": 3,
   "metadata": {
    "ExecuteTime": {
     "end_time": "2019-07-22T08:05:00.591105Z",
     "start_time": "2019-07-22T08:05:00.561294Z"
    }
   },
   "outputs": [],
   "source": [
    "ns = NumericalSemigroup([4,11,15])"
   ]
  },
  {
   "cell_type": "code",
   "execution_count": 4,
   "metadata": {
    "ExecuteTime": {
     "end_time": "2019-07-22T08:05:00.910517Z",
     "start_time": "2019-07-22T08:05:00.600387Z"
    }
   },
   "outputs": [],
   "source": [
    "def GapSet(gen):\n",
    "    ns = NumericalSemigroup(gen)\n",
    "    m = min(ns.generators)\n",
    "    control = 0\n",
    "    i = 1\n",
    "    gaps = []\n",
    "    while control < m:\n",
    "        if ns.Belongs(i):\n",
    "            control = control +1\n",
    "        else:\n",
    "            gaps.append(i)\n",
    "            control = 0\n",
    "        i = i+1\n",
    "    return gaps"
   ]
  },
  {
   "cell_type": "code",
   "execution_count": 5,
   "metadata": {
    "ExecuteTime": {
     "end_time": "2019-07-22T08:05:01.299308Z",
     "start_time": "2019-07-22T08:05:00.915247Z"
    }
   },
   "outputs": [],
   "source": [
    "def g2(gs):\n",
    "    aux = []\n",
    "    for x1 in gs:\n",
    "        for x2 in gs:\n",
    "            aux.append(x1+x2)\n",
    "    return DeleteDuplicates(aux)"
   ]
  },
  {
   "cell_type": "code",
   "execution_count": 6,
   "metadata": {
    "ExecuteTime": {
     "end_time": "2019-07-22T08:05:03.709960Z",
     "start_time": "2019-07-22T08:05:03.696858Z"
    }
   },
   "outputs": [],
   "source": [
    "def Gap2Generators(gaps):\n",
    "    f = max(gaps)\n",
    "    generadores = []\n",
    "    for i in range(1,f):\n",
    "        if i not in gaps:\n",
    "            generadores.append(i)\n",
    "    M = generadores[-1]\n",
    "    for i in range(generadores[1]):\n",
    "            generadores.append(f+i+1)\n",
    "    return NumericalSemigroup(generadores).generators"
   ]
  },
  {
   "cell_type": "code",
   "execution_count": 7,
   "metadata": {
    "ExecuteTime": {
     "end_time": "2019-07-22T08:05:04.412536Z",
     "start_time": "2019-07-22T08:05:04.400697Z"
    }
   },
   "outputs": [],
   "source": [
    "def ComputePseudoFrobenius(gen):\n",
    "    gap = GapSet(gen)\n",
    "    pf = []\n",
    "    for x in gap:\n",
    "        isPF = True\n",
    "        for y in gen:\n",
    "            if not Belong(gen,x+y):\n",
    "                isPF = False\n",
    "                break\n",
    "        if isPF:\n",
    "            pf.append(x)\n",
    "    return pf   "
   ]
  },
  {
   "cell_type": "code",
   "execution_count": 10,
   "metadata": {
    "ExecuteTime": {
     "end_time": "2019-07-19T13:53:14.156410Z",
     "start_time": "2019-07-19T13:53:14.036141Z"
    }
   },
   "outputs": [
    {
     "data": {
      "text/latex": [
       "$$\\left [ 19, \\quad 21, \\quad 24, \\quad 25\\right ]$$"
      ],
      "text/plain": [
       "[19, 21, 24, 25]"
      ]
     },
     "execution_count": 10,
     "metadata": {},
     "output_type": "execute_result"
    }
   ],
   "source": [
    "ComputePseudoFrobenius([13, 14, 15, 16, 17, 18, 20, 22, 23])"
   ]
  },
  {
   "cell_type": "code",
   "execution_count": 8,
   "metadata": {
    "ExecuteTime": {
     "end_time": "2019-07-22T08:05:07.436275Z",
     "start_time": "2019-07-22T08:05:07.426100Z"
    }
   },
   "outputs": [],
   "source": [
    "def ComputeBP(pf):\n",
    "    aux = []\n",
    "    for x in pf:\n",
    "        if x > max(pf)/2:\n",
    "            aux.append(x)\n",
    "    return aux"
   ]
  },
  {
   "cell_type": "code",
   "execution_count": 12,
   "metadata": {
    "ExecuteTime": {
     "end_time": "2019-07-19T13:53:14.348903Z",
     "start_time": "2019-07-19T13:53:14.249734Z"
    }
   },
   "outputs": [
    {
     "data": {
      "text/latex": [
       "$$\\left [ 28, \\quad 29\\right ]$$"
      ],
      "text/plain": [
       "[28, 29]"
      ]
     },
     "execution_count": 12,
     "metadata": {},
     "output_type": "execute_result"
    }
   ],
   "source": [
    "ComputeBP([14,28,29])"
   ]
  },
  {
   "cell_type": "code",
   "execution_count": 9,
   "metadata": {
    "ExecuteTime": {
     "end_time": "2019-07-22T08:05:10.072078Z",
     "start_time": "2019-07-22T08:05:10.057026Z"
    }
   },
   "outputs": [],
   "source": [
    "def IsIrreducible(gen):\n",
    "    gaps = GapSet(gen)\n",
    "    pf = ComputePseudoFrobenius(gen)\n",
    "    bp = ComputeBP(pf)\n",
    "    if len(bp) == 1:\n",
    "        return True\n",
    "    return False"
   ]
  },
  {
   "cell_type": "code",
   "execution_count": 14,
   "metadata": {
    "ExecuteTime": {
     "end_time": "2019-07-19T13:53:14.599394Z",
     "start_time": "2019-07-19T13:53:14.446681Z"
    }
   },
   "outputs": [
    {
     "data": {
      "text/plain": [
       "False"
      ]
     },
     "execution_count": 14,
     "metadata": {},
     "output_type": "execute_result"
    }
   ],
   "source": [
    "IsIrreducible([13, 14, 15, 16, 17, 18, 19, 20, 22, 23])"
   ]
  },
  {
   "cell_type": "code",
   "execution_count": 10,
   "metadata": {
    "ExecuteTime": {
     "end_time": "2019-07-22T08:05:12.934270Z",
     "start_time": "2019-07-22T08:05:12.914772Z"
    }
   },
   "outputs": [],
   "source": [
    "def Decomposition(gen):\n",
    "    if IsIrreducible(gen):\n",
    "        return [gen]\n",
    "    gaps = GapSet(gen)\n",
    "    pf = ComputePseudoFrobenius(gen)\n",
    "    bp = ComputeBP(pf)\n",
    "    return [NumericalSemigroup(gen+[x]).generators for x in bp]"
   ]
  },
  {
   "cell_type": "code",
   "execution_count": 11,
   "metadata": {
    "ExecuteTime": {
     "end_time": "2019-07-22T08:05:13.337818Z",
     "start_time": "2019-07-22T08:05:13.163206Z"
    }
   },
   "outputs": [],
   "source": [
    "def Decomposition2(gen):\n",
    "    if IsIrreducible(gen):\n",
    "        return [gen]\n",
    "    gaps = GapSet(gen)\n",
    "    pf = ComputePseudoFrobenius(gen)\n",
    "    return [NumericalSemigroup(gen+[x]).generators for x in pf]"
   ]
  },
  {
   "cell_type": "code",
   "execution_count": 27,
   "metadata": {
    "ExecuteTime": {
     "end_time": "2019-07-19T14:05:21.649152Z",
     "start_time": "2019-07-19T14:05:21.502687Z"
    }
   },
   "outputs": [
    {
     "data": {
      "text/plain": [
       "[[13, 14, 15, 16, 17, 18, 20, 22, 23],\n",
       " [14, 15, 16, 17, 18, 19, 20, 22, 23, 26, 27],\n",
       " [14, 15, 16, 17, 18, 20, 21, 22, 23, 26, 27],\n",
       " [14, 15, 16, 17, 18, 20, 22, 23, 24, 26, 27],\n",
       " [14, 15, 16, 17, 18, 20, 22, 23, 25, 26, 27]]"
      ]
     },
     "execution_count": 27,
     "metadata": {},
     "output_type": "execute_result"
    }
   ],
   "source": [
    "Decomposition([14, 15, 16, 17, 18, 20, 22, 23, 26, 27])"
   ]
  },
  {
   "cell_type": "code",
   "execution_count": 28,
   "metadata": {
    "ExecuteTime": {
     "end_time": "2019-07-19T14:05:24.005451Z",
     "start_time": "2019-07-19T14:05:23.870198Z"
    }
   },
   "outputs": [
    {
     "data": {
      "text/plain": [
       "[[12, 14, 15, 16, 17, 18, 20, 22, 23],\n",
       " [13, 14, 15, 16, 17, 18, 20, 22, 23],\n",
       " [14, 15, 16, 17, 18, 19, 20, 22, 23, 26, 27],\n",
       " [14, 15, 16, 17, 18, 20, 21, 22, 23, 26, 27],\n",
       " [14, 15, 16, 17, 18, 20, 22, 23, 24, 26, 27],\n",
       " [14, 15, 16, 17, 18, 20, 22, 23, 25, 26, 27]]"
      ]
     },
     "execution_count": 28,
     "metadata": {},
     "output_type": "execute_result"
    }
   ],
   "source": [
    "Decomposition2([14, 15, 16, 17, 18, 20, 22, 23, 26, 27])"
   ]
  },
  {
   "cell_type": "code",
   "execution_count": 33,
   "metadata": {
    "ExecuteTime": {
     "end_time": "2019-07-19T14:08:04.742294Z",
     "start_time": "2019-07-19T14:08:04.679054Z"
    }
   },
   "outputs": [
    {
     "data": {
      "text/plain": [
       "False"
      ]
     },
     "execution_count": 33,
     "metadata": {},
     "output_type": "execute_result"
    }
   ],
   "source": [
    "IsIrreducible([12, 14, 15, 16, 17, 18, 20, 22, 23])"
   ]
  },
  {
   "cell_type": "code",
   "execution_count": 34,
   "metadata": {
    "ExecuteTime": {
     "end_time": "2019-07-19T14:09:20.962977Z",
     "start_time": "2019-07-19T14:09:20.920822Z"
    }
   },
   "outputs": [
    {
     "data": {
      "text/latex": [
       "$$\\left [ 19, \\quad 21, \\quad 25\\right ]$$"
      ],
      "text/plain": [
       "[19, 21, 25]"
      ]
     },
     "execution_count": 34,
     "metadata": {},
     "output_type": "execute_result"
    }
   ],
   "source": [
    "ComputePseudoFrobenius([12, 14, 15, 16, 17, 18, 20, 22, 23])"
   ]
  },
  {
   "cell_type": "code",
   "execution_count": 35,
   "metadata": {
    "ExecuteTime": {
     "end_time": "2019-07-19T14:09:40.966951Z",
     "start_time": "2019-07-19T14:09:40.856853Z"
    }
   },
   "outputs": [
    {
     "data": {
      "text/plain": [
       "[[12, 14, 15, 16, 17, 18, 19, 20, 22, 23],\n",
       " [12, 14, 15, 16, 17, 18, 20, 21, 22, 23],\n",
       " [12, 14, 15, 16, 17, 18, 20, 22, 23, 25]]"
      ]
     },
     "execution_count": 35,
     "metadata": {},
     "output_type": "execute_result"
    }
   ],
   "source": [
    "Decomposition2([12, 14, 15, 16, 17, 18, 20, 22, 23])"
   ]
  },
  {
   "cell_type": "code",
   "execution_count": 39,
   "metadata": {
    "ExecuteTime": {
     "end_time": "2019-07-19T14:12:49.226853Z",
     "start_time": "2019-07-19T14:12:49.093333Z"
    }
   },
   "outputs": [
    {
     "data": {
      "text/plain": [
       "[[12, 14, 15, 16, 17, 18, 19, 20, 21, 22, 23],\n",
       " [12, 14, 15, 16, 17, 18, 19, 20, 22, 23, 25]]"
      ]
     },
     "execution_count": 39,
     "metadata": {},
     "output_type": "execute_result"
    }
   ],
   "source": [
    "Decomposition2([12, 14, 15, 16, 17, 18, 19, 20, 22, 23])"
   ]
  },
  {
   "cell_type": "code",
   "execution_count": 43,
   "metadata": {
    "ExecuteTime": {
     "end_time": "2019-07-19T15:06:44.268301Z",
     "start_time": "2019-07-19T15:06:44.252589Z"
    }
   },
   "outputs": [
    {
     "data": {
      "text/plain": [
       "False"
      ]
     },
     "execution_count": 43,
     "metadata": {},
     "output_type": "execute_result"
    }
   ],
   "source": [
    "IsIrreducible([4,10,13,15])"
   ]
  },
  {
   "cell_type": "code",
   "execution_count": 48,
   "metadata": {
    "ExecuteTime": {
     "end_time": "2019-07-19T15:09:06.081446Z",
     "start_time": "2019-07-19T15:09:06.057746Z"
    }
   },
   "outputs": [
    {
     "data": {
      "text/latex": [
       "$$\\left [ 6, \\quad 9, \\quad 11\\right ]$$"
      ],
      "text/plain": [
       "[6, 9, 11]"
      ]
     },
     "execution_count": 48,
     "metadata": {},
     "output_type": "execute_result"
    }
   ],
   "source": [
    "ComputePseudoFrobenius([4,10,13,15])"
   ]
  },
  {
   "cell_type": "code",
   "execution_count": 44,
   "metadata": {
    "ExecuteTime": {
     "end_time": "2019-07-19T15:07:11.985968Z",
     "start_time": "2019-07-19T15:07:11.628044Z"
    }
   },
   "outputs": [
    {
     "name": "stdout",
     "output_type": "stream",
     "text": [
      "[4, 6, 9]\n",
      "[4, 6, 7]\n",
      "[4, 5, 6]\n",
      "[3, 4]\n",
      "[2, 5]\n",
      "[3, 4, 5]\n",
      "[4, 5, 7]\n"
     ]
    },
    {
     "data": {
      "text/plain": [
       "[[4, 6, 9], [4, 6, 7], [4, 5, 7]]"
      ]
     },
     "execution_count": 44,
     "metadata": {},
     "output_type": "execute_result"
    }
   ],
   "source": [
    "DecomposeIrreducible([4,10,13,15])"
   ]
  },
  {
   "cell_type": "code",
   "execution_count": 49,
   "metadata": {
    "ExecuteTime": {
     "end_time": "2019-07-19T15:10:52.601406Z",
     "start_time": "2019-07-19T15:10:52.430985Z"
    }
   },
   "outputs": [
    {
     "name": "stdout",
     "output_type": "stream",
     "text": [
      "[4, 5, 7]\n",
      "[3, 4]\n",
      "[2, 5]\n",
      "[3, 4, 5]\n",
      "[3, 5, 7]\n"
     ]
    },
    {
     "data": {
      "text/plain": [
       "[[4, 5, 7], [3, 4], [3, 5, 7]]"
      ]
     },
     "execution_count": 49,
     "metadata": {},
     "output_type": "execute_result"
    }
   ],
   "source": [
    "DecomposeIrreducible([7,8,9,10,11,12,13])"
   ]
  },
  {
   "cell_type": "code",
   "execution_count": 47,
   "metadata": {
    "ExecuteTime": {
     "end_time": "2019-07-19T15:08:29.523297Z",
     "start_time": "2019-07-19T15:08:29.510634Z"
    }
   },
   "outputs": [
    {
     "data": {
      "text/latex": [
       "$$\\left [ 1, \\quad 2, \\quad 3, \\quad 6\\right ]$$"
      ],
      "text/plain": [
       "[1, 2, 3, 6]"
      ]
     },
     "execution_count": 47,
     "metadata": {},
     "output_type": "execute_result"
    }
   ],
   "source": [
    "GapSet([4, 5, 7])"
   ]
  },
  {
   "cell_type": "code",
   "execution_count": 41,
   "metadata": {
    "ExecuteTime": {
     "end_time": "2019-07-19T14:42:59.492467Z",
     "start_time": "2019-07-19T14:42:59.474309Z"
    }
   },
   "outputs": [
    {
     "data": {
      "text/latex": [
       "$$\\left [ 9\\right ]$$"
      ],
      "text/plain": [
       "[9]"
      ]
     },
     "execution_count": 41,
     "metadata": {},
     "output_type": "execute_result"
    }
   ],
   "source": [
    "ComputePseudoFrobenius([4,6,7])"
   ]
  },
  {
   "cell_type": "code",
   "execution_count": null,
   "metadata": {},
   "outputs": [],
   "source": [
    "Decomposition2([12, 14, 15, 16, 17, 18, 20, 21, 22, 23]\n",
    "              º)"
   ]
  },
  {
   "cell_type": "code",
   "execution_count": 12,
   "metadata": {
    "ExecuteTime": {
     "end_time": "2019-07-22T08:05:17.795317Z",
     "start_time": "2019-07-22T08:05:17.779346Z"
    }
   },
   "outputs": [],
   "source": [
    "def DecomposeIrreducible(gen):\n",
    "    candidatos = [gen]\n",
    "    end = False\n",
    "    while end == False:\n",
    "        candidatos2 = []\n",
    "        for x in candidatos:\n",
    "            candidatos2 = candidatos2 + Decomposition(x)\n",
    "        candidatos = DeleteDuplicates(candidatos2)\n",
    "        end = all([IsIrreducible(x) for x in candidatos])\n",
    "    # Ahora calculamos los minimales\n",
    "    pf = ComputePseudoFrobenius(gen)\n",
    "    bp = ComputeBP(pf)\n",
    "    minimales = []\n",
    "    for x in candidatos:\n",
    "        print(x)\n",
    "    for x in candidatos:\n",
    "        if max(ComputePseudoFrobenius(x)) in bp:\n",
    "            minimales.append(x)\n",
    "    return minimales"
   ]
  },
  {
   "cell_type": "code",
   "execution_count": 31,
   "metadata": {
    "ExecuteTime": {
     "end_time": "2019-07-19T14:06:52.657889Z",
     "start_time": "2019-07-19T14:06:52.641984Z"
    }
   },
   "outputs": [],
   "source": [
    "def DecomposeIrreducible2(gen):\n",
    "    candidatos = [gen]\n",
    "    end = False\n",
    "    while end == False:\n",
    "        candidatos2 = []\n",
    "        for x in candidatos:\n",
    "            candidatos2 = candidatos2 + Decomposition2(x)\n",
    "        candidatos = DeleteDuplicates(candidatos2)\n",
    "        end = all([IsIrreducible(x) for x in candidatos])\n",
    "    # Ahora calculamos los minimales\n",
    "    pf = ComputePseudoFrobenius(gen)\n",
    "    bp = ComputeBP(pf)\n",
    "    minimales = []\n",
    "    for x in candidatos:\n",
    "        print(x)\n",
    "    for x in candidatos:\n",
    "        if max(ComputePseudoFrobenius(x)) in bp:\n",
    "            minimales.append(x)\n",
    "    return minimales"
   ]
  },
  {
   "cell_type": "code",
   "execution_count": 32,
   "metadata": {
    "ExecuteTime": {
     "end_time": "2019-07-19T14:07:22.606310Z",
     "start_time": "2019-07-19T14:07:02.482905Z"
    }
   },
   "outputs": [
    {
     "name": "stdout",
     "output_type": "stream",
     "text": [
      "[13, 14, 15, 16, 17, 18, 19, 20, 21, 22, 23, 24]\n",
      "[13, 14, 15, 16, 17, 18, 19, 20, 21, 22, 23, 25]\n",
      "[11, 12, 13, 14, 15, 16, 17, 18, 19, 20]\n",
      "[7, 8, 9, 10, 11, 13]\n",
      "[6, 7, 8, 9, 11]\n",
      "[4, 5, 7]\n",
      "[3, 4]\n",
      "[2, 5]\n",
      "[3, 4, 5]\n",
      "[3, 5, 7]\n",
      "[5, 6, 7, 8]\n",
      "[5, 6, 7, 9]\n",
      "[4, 5, 6]\n",
      "[6, 7, 8, 9, 10]\n",
      "[10, 11, 12, 13, 14, 15, 16, 17, 18]\n",
      "[7, 8, 9, 10, 11, 12]\n"
     ]
    }
   ],
   "source": [
    "di = DecomposeIrreducible([14, 15, 16, 17, 18, 20, 22, 23, 26, 27])"
   ]
  },
  {
   "cell_type": "code",
   "execution_count": 104,
   "metadata": {
    "ExecuteTime": {
     "end_time": "2019-07-19T10:56:41.413157Z",
     "start_time": "2019-07-19T10:56:41.395541Z"
    }
   },
   "outputs": [
    {
     "data": {
      "text/plain": [
       "[13, 14, 15, 16, 17, 18, 20, 22, 23]"
      ]
     },
     "execution_count": 104,
     "metadata": {},
     "output_type": "execute_result"
    }
   ],
   "source": [
    "Gap2Generators([1,2,3,4,5,6,7,8,9,10,11,12,19,21,24,25])"
   ]
  },
  {
   "cell_type": "code",
   "execution_count": 14,
   "metadata": {
    "ExecuteTime": {
     "end_time": "2019-07-19T09:56:56.122031Z",
     "start_time": "2019-07-19T09:56:56.084419Z"
    }
   },
   "outputs": [
    {
     "name": "stdout",
     "output_type": "stream",
     "text": [
      "Los huecos son:  [1, 2, 3, 4, 5, 6, 7, 8, 9, 14, 15, 16, 17, 18, 19, 28, 29]\n",
      "El genero es:  17\n"
     ]
    },
    {
     "data": {
      "text/latex": [
       "$$\\left ( \\left [ 2, \\quad 3, \\quad 4, \\quad 5, \\quad 6, \\quad 7, \\quad 8, \\quad 9, \\quad 10, \\quad 15, \\quad 16, \\quad 17, \\quad 18, \\quad 19, \\quad 20, \\quad 29, \\quad 30, \\quad 11, \\quad 21, \\quad 31, \\quad 12, \\quad 22, \\quad 32, \\quad 13, \\quad 23, \\quad 33, \\quad 14, \\quad 24, \\quad 34, \\quad 25, \\quad 35, \\quad 26, \\quad 36, \\quad 27, \\quad 37, \\quad 28, \\quad 38, \\quad 42, \\quad 43, \\quad 44, \\quad 45, \\quad 46, \\quad 47, \\quad 48, \\quad 56, \\quad 57, \\quad 58\\right ], \\quad 47\\right )$$"
      ],
      "text/plain": [
       "([2, 3, 4, 5, 6, 7, 8, 9, 10, 15, 16, 17, 18, 19, 20, 29, 30, 11, 21, 31, 12, \n",
       "22, 32, 13, 23, 33, 14, 24, 34, 25, 35, 26, 36, 27, 37, 28, 38, 42, 43, 44, 45\n",
       ", 46, 47, 48, 56, 57, 58], 47)"
      ]
     },
     "execution_count": 14,
     "metadata": {},
     "output_type": "execute_result"
    }
   ],
   "source": [
    "gs = GapSet([10,11,12,13,27])\n",
    "print(\"Los huecos son: \",gs)\n",
    "print(\"El genero es: \",len(gs))\n",
    "g2(gs),len(g2(gs))"
   ]
  },
  {
   "cell_type": "code",
   "execution_count": 13,
   "metadata": {
    "ExecuteTime": {
     "end_time": "2019-07-22T08:05:31.642752Z",
     "start_time": "2019-07-22T08:05:31.611186Z"
    }
   },
   "outputs": [
    {
     "data": {
      "text/plain": [
       "[14, 15, 16, 17, 18, 20, 22, 23, 26, 27]"
      ]
     },
     "execution_count": 13,
     "metadata": {},
     "output_type": "execute_result"
    }
   ],
   "source": [
    "Gap2Generators([1,2,3,4,5,6,7,8,9,10,11,12,13,19,21,24,25])"
   ]
  },
  {
   "cell_type": "code",
   "execution_count": 138,
   "metadata": {
    "ExecuteTime": {
     "end_time": "2019-07-19T11:19:59.025735Z",
     "start_time": "2019-07-19T11:19:58.965102Z"
    }
   },
   "outputs": [
    {
     "data": {
      "text/latex": [
       "$$\\left [ 12, \\quad 13, \\quad 19, \\quad 21, \\quad 24, \\quad 25\\right ]$$"
      ],
      "text/plain": [
       "[12, 13, 19, 21, 24, 25]"
      ]
     },
     "execution_count": 138,
     "metadata": {},
     "output_type": "execute_result"
    }
   ],
   "source": [
    "ComputePseudoFrobenius([14, 15, 16, 17, 18, 20, 22, 23, 26, 27])"
   ]
  },
  {
   "cell_type": "code",
   "execution_count": 15,
   "metadata": {
    "ExecuteTime": {
     "end_time": "2019-07-22T08:06:28.066982Z",
     "start_time": "2019-07-22T08:06:28.055454Z"
    }
   },
   "outputs": [
    {
     "data": {
      "text/latex": [
       "$$26$$"
      ],
      "text/plain": [
       "26"
      ]
     },
     "execution_count": 15,
     "metadata": {},
     "output_type": "execute_result"
    }
   ],
   "source": [
    "len(g2([14, 15, 16, 17, 18, 20, 22, 23, 26, 27]))"
   ]
  },
  {
   "cell_type": "code",
   "execution_count": 17,
   "metadata": {
    "ExecuteTime": {
     "end_time": "2019-07-22T08:07:25.509061Z",
     "start_time": "2019-07-22T08:07:25.472961Z"
    }
   },
   "outputs": [
    {
     "data": {
      "text/latex": [
       "$$17$$"
      ],
      "text/plain": [
       "17"
      ]
     },
     "execution_count": 17,
     "metadata": {},
     "output_type": "execute_result"
    }
   ],
   "source": [
    "len(GapSet([14, 15, 16, 17, 18, 20, 22, 23, 26, 27]))"
   ]
  },
  {
   "cell_type": "code",
   "execution_count": 139,
   "metadata": {
    "ExecuteTime": {
     "end_time": "2019-07-19T11:20:29.358414Z",
     "start_time": "2019-07-19T11:20:29.348737Z"
    }
   },
   "outputs": [
    {
     "data": {
      "text/latex": [
       "$$\\left [ 13, \\quad 19, \\quad 21, \\quad 24, \\quad 25\\right ]$$"
      ],
      "text/plain": [
       "[13, 19, 21, 24, 25]"
      ]
     },
     "execution_count": 139,
     "metadata": {},
     "output_type": "execute_result"
    }
   ],
   "source": [
    "ComputeBP([12,13,19,21,24,25])"
   ]
  },
  {
   "cell_type": "code",
   "execution_count": 22,
   "metadata": {
    "ExecuteTime": {
     "end_time": "2019-07-19T13:56:11.324413Z",
     "start_time": "2019-07-19T13:55:51.480907Z"
    }
   },
   "outputs": [
    {
     "name": "stdout",
     "output_type": "stream",
     "text": [
      "[13, 14, 15, 16, 17, 18, 19, 20, 21, 22, 23, 24]\n",
      "[13, 14, 15, 16, 17, 18, 19, 20, 21, 22, 23, 25]\n",
      "[11, 12, 13, 14, 15, 16, 17, 18, 19, 20]\n",
      "[7, 8, 9, 10, 11, 13]\n",
      "[6, 7, 8, 9, 11]\n",
      "[4, 5, 7]\n",
      "[3, 4]\n",
      "[2, 5]\n",
      "[3, 4, 5]\n",
      "[3, 5, 7]\n",
      "[5, 6, 7, 8]\n",
      "[5, 6, 7, 9]\n",
      "[4, 5, 6]\n",
      "[6, 7, 8, 9, 10]\n",
      "[10, 11, 12, 13, 14, 15, 16, 17, 18]\n",
      "[7, 8, 9, 10, 11, 12]\n"
     ]
    }
   ],
   "source": [
    "di2 = DecomposeIrreducible([14, 15, 16, 17, 18, 20, 22, 23, 26, 27])"
   ]
  },
  {
   "cell_type": "code",
   "execution_count": 23,
   "metadata": {
    "ExecuteTime": {
     "end_time": "2019-07-19T13:56:17.549267Z",
     "start_time": "2019-07-19T13:56:17.536134Z"
    }
   },
   "outputs": [
    {
     "data": {
      "text/plain": [
       "[[13, 14, 15, 16, 17, 18, 19, 20, 21, 22, 23, 24],\n",
       " [13, 14, 15, 16, 17, 18, 19, 20, 21, 22, 23, 25],\n",
       " [11, 12, 13, 14, 15, 16, 17, 18, 19, 20],\n",
       " [10, 11, 12, 13, 14, 15, 16, 17, 18],\n",
       " [7, 8, 9, 10, 11, 12]]"
      ]
     },
     "execution_count": 23,
     "metadata": {},
     "output_type": "execute_result"
    }
   ],
   "source": [
    "di2"
   ]
  },
  {
   "cell_type": "code",
   "execution_count": 19,
   "metadata": {
    "ExecuteTime": {
     "end_time": "2019-07-19T13:54:28.216071Z",
     "start_time": "2019-07-19T13:54:28.168896Z"
    }
   },
   "outputs": [
    {
     "data": {
      "text/latex": [
       "$$\\left [ 25\\right ]$$"
      ],
      "text/plain": [
       "[25]"
      ]
     },
     "execution_count": 19,
     "metadata": {},
     "output_type": "execute_result"
    }
   ],
   "source": [
    "ComputePseudoFrobenius([13, 14, 15, 16, 17, 18, 19, 20, 21, 22, 23, 24])"
   ]
  },
  {
   "cell_type": "code",
   "execution_count": 160,
   "metadata": {
    "ExecuteTime": {
     "end_time": "2019-07-19T11:37:13.237811Z",
     "start_time": "2019-07-19T11:37:13.158296Z"
    }
   },
   "outputs": [
    {
     "name": "stdout",
     "output_type": "stream",
     "text": [
      "[1, 2, 3, 4, 5, 6, 7, 8, 9, 10, 11, 12, 13, 19, 21, 24, 25]\n"
     ]
    },
    {
     "data": {
      "text/plain": [
       "True"
      ]
     },
     "execution_count": 160,
     "metadata": {},
     "output_type": "execute_result"
    }
   ],
   "source": [
    "gaps = []\n",
    "for x in di2:\n",
    "    gaps = gaps+GapSet(x)\n",
    "print(list(sort(DeleteDuplicates(gaps))))\n",
    "list(sort(DeleteDuplicates(gaps))) == [1,2,3,4,5,6,7,8,9,10,11,12,13,19,21,24,25]"
   ]
  },
  {
   "cell_type": "code",
   "execution_count": 1,
   "metadata": {
    "ExecuteTime": {
     "end_time": "2019-07-19T13:52:41.701514Z",
     "start_time": "2019-07-19T13:52:41.520707Z"
    }
   },
   "outputs": [
    {
     "ename": "NameError",
     "evalue": "name 'di2' is not defined",
     "output_type": "error",
     "traceback": [
      "\u001b[0;31m---------------------------------------------------------------------------\u001b[0m",
      "\u001b[0;31mNameError\u001b[0m                                 Traceback (most recent call last)",
      "\u001b[0;32m<ipython-input-1-bb6d86c0fa41>\u001b[0m in \u001b[0;36m<module>\u001b[0;34m\u001b[0m\n\u001b[1;32m      1\u001b[0m \u001b[0mgaps\u001b[0m \u001b[0;34m=\u001b[0m \u001b[0;34m[\u001b[0m\u001b[0;34m]\u001b[0m\u001b[0;34m\u001b[0m\u001b[0;34m\u001b[0m\u001b[0m\n\u001b[0;32m----> 2\u001b[0;31m \u001b[0;32mfor\u001b[0m \u001b[0mx\u001b[0m \u001b[0;32min\u001b[0m \u001b[0mdi2\u001b[0m\u001b[0;34m:\u001b[0m\u001b[0;34m\u001b[0m\u001b[0;34m\u001b[0m\u001b[0m\n\u001b[0m\u001b[1;32m      3\u001b[0m     \u001b[0mgaps\u001b[0m \u001b[0;34m=\u001b[0m \u001b[0mgaps\u001b[0m\u001b[0;34m+\u001b[0m\u001b[0mGapSet\u001b[0m\u001b[0;34m(\u001b[0m\u001b[0mx\u001b[0m\u001b[0;34m)\u001b[0m\u001b[0;34m\u001b[0m\u001b[0;34m\u001b[0m\u001b[0m\n\u001b[1;32m      4\u001b[0m \u001b[0mprint\u001b[0m\u001b[0;34m(\u001b[0m\u001b[0mlist\u001b[0m\u001b[0;34m(\u001b[0m\u001b[0msort\u001b[0m\u001b[0;34m(\u001b[0m\u001b[0mDeleteDuplicates\u001b[0m\u001b[0;34m(\u001b[0m\u001b[0mgaps\u001b[0m\u001b[0;34m)\u001b[0m\u001b[0;34m)\u001b[0m\u001b[0;34m)\u001b[0m\u001b[0;34m)\u001b[0m\u001b[0;34m\u001b[0m\u001b[0;34m\u001b[0m\u001b[0m\n\u001b[1;32m      5\u001b[0m \u001b[0mlist\u001b[0m\u001b[0;34m(\u001b[0m\u001b[0msort\u001b[0m\u001b[0;34m(\u001b[0m\u001b[0mDeleteDuplicates\u001b[0m\u001b[0;34m(\u001b[0m\u001b[0mgaps\u001b[0m\u001b[0;34m)\u001b[0m\u001b[0;34m)\u001b[0m\u001b[0;34m)\u001b[0m \u001b[0;34m==\u001b[0m \u001b[0;34m[\u001b[0m\u001b[0;36m1\u001b[0m\u001b[0;34m,\u001b[0m\u001b[0;36m2\u001b[0m\u001b[0;34m,\u001b[0m\u001b[0;36m3\u001b[0m\u001b[0;34m,\u001b[0m\u001b[0;36m4\u001b[0m\u001b[0;34m,\u001b[0m\u001b[0;36m5\u001b[0m\u001b[0;34m,\u001b[0m\u001b[0;36m6\u001b[0m\u001b[0;34m,\u001b[0m\u001b[0;36m7\u001b[0m\u001b[0;34m,\u001b[0m\u001b[0;36m8\u001b[0m\u001b[0;34m,\u001b[0m\u001b[0;36m9\u001b[0m\u001b[0;34m,\u001b[0m\u001b[0;36m10\u001b[0m\u001b[0;34m,\u001b[0m\u001b[0;36m11\u001b[0m\u001b[0;34m,\u001b[0m\u001b[0;36m12\u001b[0m\u001b[0;34m,\u001b[0m\u001b[0;36m13\u001b[0m\u001b[0;34m,\u001b[0m\u001b[0;36m19\u001b[0m\u001b[0;34m,\u001b[0m\u001b[0;36m21\u001b[0m\u001b[0;34m,\u001b[0m\u001b[0;36m24\u001b[0m\u001b[0;34m,\u001b[0m\u001b[0;36m25\u001b[0m\u001b[0;34m]\u001b[0m\u001b[0;34m\u001b[0m\u001b[0;34m\u001b[0m\u001b[0m\n",
      "\u001b[0;31mNameError\u001b[0m: name 'di2' is not defined"
     ]
    }
   ],
   "source": [
    "gaps = []\n",
    "for x in di2:\n",
    "    gaps = gaps+GapSet(x)\n",
    "print(list(sort(DeleteDuplicates(gaps))))\n",
    "list(sort(DeleteDuplicates(gaps))) == [1,2,3,4,5,6,7,8,9,10,11,12,13,19,21,24,25]"
   ]
  },
  {
   "cell_type": "code",
   "execution_count": 25,
   "metadata": {
    "ExecuteTime": {
     "end_time": "2019-07-19T13:57:28.714651Z",
     "start_time": "2019-07-19T13:57:28.679891Z"
    }
   },
   "outputs": [
    {
     "data": {
      "text/latex": [
       "$$\\left [ 1, \\quad 2, \\quad 3, \\quad 4, \\quad 5, \\quad 6, \\quad 7, \\quad 8, \\quad 9, \\quad 10, \\quad 11, \\quad 12, \\quad 25\\right ]$$"
      ],
      "text/plain": [
       "[1, 2, 3, 4, 5, 6, 7, 8, 9, 10, 11, 12, 25]"
      ]
     },
     "execution_count": 25,
     "metadata": {},
     "output_type": "execute_result"
    }
   ],
   "source": [
    "GapSet([13, 14, 15, 16, 17, 18, 19, 20, 21, 22, 23, 24])"
   ]
  },
  {
   "cell_type": "code",
   "execution_count": 145,
   "metadata": {
    "ExecuteTime": {
     "end_time": "2019-07-19T11:23:26.961472Z",
     "start_time": "2019-07-19T11:23:26.918456Z"
    }
   },
   "outputs": [
    {
     "data": {
      "text/latex": [
       "$$13$$"
      ],
      "text/plain": [
       "13"
      ]
     },
     "execution_count": 145,
     "metadata": {},
     "output_type": "execute_result"
    }
   ],
   "source": [
    "len(GapSet([13, 14, 15, 16, 17, 18, 19, 20, 21, 22, 23, 25]))"
   ]
  },
  {
   "cell_type": "code",
   "execution_count": 151,
   "metadata": {
    "ExecuteTime": {
     "end_time": "2019-07-19T11:26:55.487345Z",
     "start_time": "2019-07-19T11:26:55.459484Z"
    }
   },
   "outputs": [
    {
     "data": {
      "text/latex": [
       "$$11$$"
      ],
      "text/plain": [
       "11"
      ]
     },
     "execution_count": 151,
     "metadata": {},
     "output_type": "execute_result"
    }
   ],
   "source": [
    "len(GapSet([11, 12, 13, 14, 15, 16, 17, 18, 19, 20]))"
   ]
  },
  {
   "cell_type": "code",
   "execution_count": 150,
   "metadata": {
    "ExecuteTime": {
     "end_time": "2019-07-19T11:26:53.146627Z",
     "start_time": "2019-07-19T11:26:53.118452Z"
    }
   },
   "outputs": [
    {
     "data": {
      "text/latex": [
       "$$10$$"
      ],
      "text/plain": [
       "10"
      ]
     },
     "execution_count": 150,
     "metadata": {},
     "output_type": "execute_result"
    }
   ],
   "source": [
    "len(GapSet([10, 11, 12, 13, 14, 15, 16, 17, 18]))"
   ]
  },
  {
   "cell_type": "code",
   "execution_count": 50,
   "metadata": {
    "ExecuteTime": {
     "end_time": "2019-07-19T15:16:30.659422Z",
     "start_time": "2019-07-19T15:16:30.615576Z"
    }
   },
   "outputs": [
    {
     "data": {
      "text/plain": [
       "True"
      ]
     },
     "execution_count": 50,
     "metadata": {},
     "output_type": "execute_result"
    }
   ],
   "source": [
    "IsIrreducible([10,11,12,13,14,15,16,17,18])"
   ]
  },
  {
   "cell_type": "code",
   "execution_count": null,
   "metadata": {},
   "outputs": [],
   "source": []
  }
 ],
 "metadata": {
  "kernelspec": {
   "display_name": "Python 3",
   "language": "python",
   "name": "python3"
  },
  "language_info": {
   "codemirror_mode": {
    "name": "ipython",
    "version": 3
   },
   "file_extension": ".py",
   "mimetype": "text/x-python",
   "name": "python",
   "nbconvert_exporter": "python",
   "pygments_lexer": "ipython3",
   "version": "3.6.8"
  }
 },
 "nbformat": 4,
 "nbformat_minor": 2
}

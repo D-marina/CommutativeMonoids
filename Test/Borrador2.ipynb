{
 "cells": [
  {
   "cell_type": "code",
   "execution_count": 1,
   "metadata": {
    "ExecuteTime": {
     "end_time": "2019-03-29T10:08:03.980286Z",
     "start_time": "2019-03-29T10:08:03.974321Z"
    }
   },
   "outputs": [],
   "source": [
    "import sys\n",
    "sys.path.insert(0, '../Class/')"
   ]
  },
  {
   "cell_type": "code",
   "execution_count": 2,
   "metadata": {
    "ExecuteTime": {
     "end_time": "2019-03-29T10:08:10.629267Z",
     "start_time": "2019-03-29T10:08:09.589527Z"
    }
   },
   "outputs": [],
   "source": [
    "import NumericalSemigroup\n",
    "from NumericalSemigroup import *\n",
    "import auxiliars\n",
    "from auxiliars import *"
   ]
  },
  {
   "cell_type": "code",
   "execution_count": 3,
   "metadata": {
    "ExecuteTime": {
     "end_time": "2019-03-29T10:08:32.145425Z",
     "start_time": "2019-03-29T10:08:32.131794Z"
    }
   },
   "outputs": [],
   "source": [
    "ns = NumericalSemigroup([5,11,13])"
   ]
  },
  {
   "cell_type": "code",
   "execution_count": 4,
   "metadata": {
    "ExecuteTime": {
     "end_time": "2019-03-29T10:08:39.738953Z",
     "start_time": "2019-03-29T10:08:39.725354Z"
    }
   },
   "outputs": [
    {
     "data": {
      "text/latex": [
       "$$2$$"
      ],
      "text/plain": [
       "2"
      ]
     },
     "execution_count": 4,
     "metadata": {},
     "output_type": "execute_result"
    }
   ],
   "source": [
    "# Calculamos d\n",
    "ns.ComputeMinimumDeltaS()"
   ]
  },
  {
   "cell_type": "code",
   "execution_count": 5,
   "metadata": {
    "ExecuteTime": {
     "end_time": "2019-03-29T10:08:51.856736Z",
     "start_time": "2019-03-29T10:08:51.846861Z"
    }
   },
   "outputs": [
    {
     "data": {
      "text/latex": [
       "$$187$$"
      ],
      "text/plain": [
       "187"
      ]
     },
     "execution_count": 5,
     "metadata": {},
     "output_type": "execute_result"
    }
   ],
   "source": [
    "# Calculamos Ns\n",
    "ns.ComputeNS()"
   ]
  },
  {
   "cell_type": "code",
   "execution_count": 7,
   "metadata": {
    "ExecuteTime": {
     "end_time": "2019-03-29T10:09:12.041315Z",
     "start_time": "2019-03-29T10:09:12.029597Z"
    }
   },
   "outputs": [
    {
     "data": {
      "text/latex": [
       "$$115.07692307692308$$"
      ],
      "text/plain": [
       "115.07692307692308"
      ]
     },
     "execution_count": 7,
     "metadata": {},
     "output_type": "execute_result"
    }
   ],
   "source": [
    "# Calculamos lambda1\n",
    "Lambda1([5,11,13])"
   ]
  },
  {
   "cell_type": "code",
   "execution_count": 8,
   "metadata": {
    "ExecuteTime": {
     "end_time": "2019-03-29T10:10:05.858541Z",
     "start_time": "2019-03-29T10:10:05.851701Z"
    }
   },
   "outputs": [
    {
     "data": {
      "text/latex": [
       "$$299.2$$"
      ],
      "text/plain": [
       "299.2"
      ]
     },
     "execution_count": 8,
     "metadata": {},
     "output_type": "execute_result"
    }
   ],
   "source": [
    "# Calculamos lambda2\n",
    "Lambda2([5,11,13])"
   ]
  },
  {
   "cell_type": "code",
   "execution_count": 9,
   "metadata": {
    "ExecuteTime": {
     "end_time": "2019-03-29T10:10:13.980409Z",
     "start_time": "2019-03-29T10:10:13.971969Z"
    }
   },
   "outputs": [
    {
     "data": {
      "text/latex": [
       "$$37$$"
      ],
      "text/plain": [
       "37"
      ]
     },
     "execution_count": 9,
     "metadata": {},
     "output_type": "execute_result"
    }
   ],
   "source": [
    "# Calculamos N0\n",
    "ns.ComputeN0()"
   ]
  },
  {
   "cell_type": "code",
   "execution_count": 27,
   "metadata": {
    "ExecuteTime": {
     "end_time": "2019-03-29T10:12:49.118505Z",
     "start_time": "2019-03-29T10:12:49.110502Z"
    }
   },
   "outputs": [],
   "source": [
    "# Elegimos n = 53\n",
    "n = 53"
   ]
  },
  {
   "cell_type": "code",
   "execution_count": 28,
   "metadata": {
    "ExecuteTime": {
     "end_time": "2019-03-29T10:12:49.477788Z",
     "start_time": "2019-03-29T10:12:49.470800Z"
    }
   },
   "outputs": [
    {
     "data": {
      "text/latex": [
       "$$381$$"
      ],
      "text/plain": [
       "381"
      ]
     },
     "execution_count": 28,
     "metadata": {},
     "output_type": "execute_result"
    }
   ],
   "source": [
    "# Calculamos x1\n",
    "x1 = 5*n+116\n",
    "x1"
   ]
  },
  {
   "cell_type": "code",
   "execution_count": 29,
   "metadata": {
    "ExecuteTime": {
     "end_time": "2019-03-29T10:12:50.035564Z",
     "start_time": "2019-03-29T10:12:50.025869Z"
    }
   },
   "outputs": [
    {
     "data": {
      "text/latex": [
       "$$389$$"
      ],
      "text/plain": [
       "389"
      ]
     },
     "execution_count": 29,
     "metadata": {},
     "output_type": "execute_result"
    }
   ],
   "source": [
    "# Calculamos x2\n",
    "x2 = 13*n-300\n",
    "x2"
   ]
  },
  {
   "cell_type": "code",
   "execution_count": 31,
   "metadata": {
    "ExecuteTime": {
     "end_time": "2019-03-29T10:13:13.456994Z",
     "start_time": "2019-03-29T10:13:13.046078Z"
    }
   },
   "outputs": [],
   "source": [
    "# Calculo W(n)\n",
    "W = ns.W(n)"
   ]
  },
  {
   "cell_type": "code",
   "execution_count": 32,
   "metadata": {
    "ExecuteTime": {
     "end_time": "2019-03-29T10:13:22.995202Z",
     "start_time": "2019-03-29T10:13:22.986636Z"
    }
   },
   "outputs": [],
   "source": [
    "# Calculo W3(n)\n",
    "W3 = [x for x in W if x <= x1]"
   ]
  },
  {
   "cell_type": "code",
   "execution_count": 34,
   "metadata": {
    "ExecuteTime": {
     "end_time": "2019-03-29T10:13:45.453740Z",
     "start_time": "2019-03-29T10:13:45.445343Z"
    }
   },
   "outputs": [],
   "source": [
    "# Calculo W1(n)\n",
    "W1 = [x for x in W if x >= x2]"
   ]
  },
  {
   "cell_type": "code",
   "execution_count": 36,
   "metadata": {
    "ExecuteTime": {
     "end_time": "2019-03-29T10:14:48.527979Z",
     "start_time": "2019-03-29T10:14:40.759699Z"
    }
   },
   "outputs": [
    {
     "name": "stdout",
     "output_type": "stream",
     "text": [
      "[21, 23, 25, 27, 29]\n"
     ]
    }
   ],
   "source": [
    "# Calculo B3(n)\n",
    "B3 = []\n",
    "for x in W3:\n",
    "    lx = list(set(L([5,11,13],x)))\n",
    "    for l in lx:\n",
    "        if l < x1/13:\n",
    "            B3.append(l)\n",
    "B3 = sorted(list(set(B3)))\n",
    "print(B3)"
   ]
  },
  {
   "cell_type": "code",
   "execution_count": 37,
   "metadata": {
    "ExecuteTime": {
     "end_time": "2019-03-29T10:16:31.311900Z",
     "start_time": "2019-03-29T10:15:07.484734Z"
    }
   },
   "outputs": [
    {
     "name": "stdout",
     "output_type": "stream",
     "text": [
      "[79, 81, 83, 85, 87, 89, 91, 93, 95, 97, 99, 101, 103, 105, 107, 109, 111, 113, 115, 117, 119, 121, 123, 125, 127, 129, 131, 133, 135, 137]\n"
     ]
    }
   ],
   "source": [
    "# Calculo B1(n)\n",
    "B1 = []\n",
    "for x in W1:\n",
    "    lx = list(set(L([5,11,13],x)))\n",
    "    for l in lx:\n",
    "        if l > x2/5:\n",
    "            B1.append(l)\n",
    "B1 = sorted(list(set(B1)))\n",
    "print(B1)"
   ]
  },
  {
   "cell_type": "code",
   "execution_count": 38,
   "metadata": {
    "ExecuteTime": {
     "end_time": "2019-03-29T10:17:03.607094Z",
     "start_time": "2019-03-29T10:17:03.597205Z"
    }
   },
   "outputs": [
    {
     "data": {
      "text/plain": [
       "[2, 2, 2]"
      ]
     },
     "execution_count": 38,
     "metadata": {},
     "output_type": "execute_result"
    }
   ],
   "source": [
    "Delta(B3)+[2]+Delta(B1)"
   ]
  },
  {
   "cell_type": "code",
   "execution_count": 39,
   "metadata": {
    "ExecuteTime": {
     "end_time": "2019-03-29T10:20:28.262558Z",
     "start_time": "2019-03-29T10:17:29.815131Z"
    }
   },
   "outputs": [
    {
     "data": {
      "text/plain": [
       "[2]"
      ]
     },
     "execution_count": 39,
     "metadata": {},
     "output_type": "execute_result"
    }
   ],
   "source": [
    "ns.DeltaNu(53)"
   ]
  },
  {
   "cell_type": "code",
   "execution_count": null,
   "metadata": {},
   "outputs": [],
   "source": []
  }
 ],
 "metadata": {
  "kernelspec": {
   "display_name": "Python 3",
   "language": "python",
   "name": "python3"
  },
  "language_info": {
   "codemirror_mode": {
    "name": "ipython",
    "version": 3
   },
   "file_extension": ".py",
   "mimetype": "text/x-python",
   "name": "python",
   "nbconvert_exporter": "python",
   "pygments_lexer": "ipython3",
   "version": "3.8.5"
  }
 },
 "nbformat": 4,
 "nbformat_minor": 2
}

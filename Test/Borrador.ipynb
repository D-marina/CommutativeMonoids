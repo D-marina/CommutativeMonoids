{
 "cells": [
  {
   "cell_type": "code",
   "execution_count": 1,
   "metadata": {
    "ExecuteTime": {
     "end_time": "2019-05-15T12:51:59.204809Z",
     "start_time": "2019-05-15T12:51:59.196396Z"
    }
   },
   "outputs": [],
   "source": [
    "import sys\n",
    "sys.path.insert(0, '../Class/')"
   ]
  },
  {
   "cell_type": "code",
   "execution_count": 2,
   "metadata": {
    "ExecuteTime": {
     "end_time": "2019-05-15T12:52:00.656692Z",
     "start_time": "2019-05-15T12:51:59.554235Z"
    }
   },
   "outputs": [],
   "source": [
    "import NumericalSemigroup\n",
    "from NumericalSemigroup import *\n",
    "import auxiliars\n",
    "from auxiliars import *"
   ]
  },
  {
   "cell_type": "code",
   "execution_count": 3,
   "metadata": {
    "ExecuteTime": {
     "end_time": "2019-05-15T12:52:00.667223Z",
     "start_time": "2019-05-15T12:52:00.661591Z"
    }
   },
   "outputs": [],
   "source": [
    "ns = NumericalSemigroup([5,9,11])"
   ]
  },
  {
   "cell_type": "code",
   "execution_count": 4,
   "metadata": {
    "ExecuteTime": {
     "end_time": "2019-05-15T12:52:01.000882Z",
     "start_time": "2019-05-15T12:52:00.671618Z"
    }
   },
   "outputs": [
    {
     "data": {
      "text/latex": [
       "$$2$$"
      ],
      "text/plain": [
       "2"
      ]
     },
     "execution_count": 4,
     "metadata": {},
     "output_type": "execute_result"
    }
   ],
   "source": [
    "# Calculamos d\n",
    "ns.ComputeMinimumDeltaS()"
   ]
  },
  {
   "cell_type": "code",
   "execution_count": 5,
   "metadata": {
    "ExecuteTime": {
     "end_time": "2019-05-15T12:52:01.095364Z",
     "start_time": "2019-05-15T12:52:01.006517Z"
    }
   },
   "outputs": [
    {
     "data": {
      "text/latex": [
       "$$126$$"
      ],
      "text/plain": [
       "126"
      ]
     },
     "execution_count": 5,
     "metadata": {},
     "output_type": "execute_result"
    }
   ],
   "source": [
    "# Calculamos Ns\n",
    "ns.ComputeNS()"
   ]
  },
  {
   "cell_type": "code",
   "execution_count": 6,
   "metadata": {
    "ExecuteTime": {
     "end_time": "2019-05-15T12:52:01.197444Z",
     "start_time": "2019-05-15T12:52:01.156122Z"
    }
   },
   "outputs": [
    {
     "data": {
      "text/latex": [
       "$$69.0$$"
      ],
      "text/plain": [
       "69.0"
      ]
     },
     "execution_count": 6,
     "metadata": {},
     "output_type": "execute_result"
    }
   ],
   "source": [
    "# Calculamos lambda1\n",
    "Lambda1([5,9,11])"
   ]
  },
  {
   "cell_type": "code",
   "execution_count": 7,
   "metadata": {
    "ExecuteTime": {
     "end_time": "2019-05-15T12:52:02.717695Z",
     "start_time": "2019-05-15T12:52:02.707836Z"
    }
   },
   "outputs": [
    {
     "data": {
      "text/latex": [
       "$$151$$"
      ],
      "text/plain": [
       "151"
      ]
     },
     "execution_count": 7,
     "metadata": {},
     "output_type": "execute_result"
    }
   ],
   "source": [
    "# Calculamos lambda2\n",
    "Lambda2([5,9,11])"
   ]
  },
  {
   "cell_type": "code",
   "execution_count": 8,
   "metadata": {
    "ExecuteTime": {
     "end_time": "2019-05-15T12:52:08.408852Z",
     "start_time": "2019-05-15T12:52:08.398958Z"
    }
   },
   "outputs": [
    {
     "data": {
      "text/latex": [
       "$$37$$"
      ],
      "text/plain": [
       "37"
      ]
     },
     "execution_count": 8,
     "metadata": {},
     "output_type": "execute_result"
    }
   ],
   "source": [
    "# Calculamos N0\n",
    "ns.ComputeN0()"
   ]
  },
  {
   "cell_type": "code",
   "execution_count": 9,
   "metadata": {
    "ExecuteTime": {
     "end_time": "2019-05-15T12:52:25.543407Z",
     "start_time": "2019-05-15T12:52:25.538820Z"
    }
   },
   "outputs": [],
   "source": [
    "# Elegimos n = 40\n",
    "n = 40"
   ]
  },
  {
   "cell_type": "code",
   "execution_count": 10,
   "metadata": {
    "ExecuteTime": {
     "end_time": "2019-05-15T12:52:30.834537Z",
     "start_time": "2019-05-15T12:52:30.825532Z"
    }
   },
   "outputs": [
    {
     "data": {
      "text/latex": [
       "$$269$$"
      ],
      "text/plain": [
       "269"
      ]
     },
     "execution_count": 10,
     "metadata": {},
     "output_type": "execute_result"
    }
   ],
   "source": [
    "# Calculamos x1\n",
    "x1 = 5*n+69\n",
    "x1"
   ]
  },
  {
   "cell_type": "code",
   "execution_count": 11,
   "metadata": {
    "ExecuteTime": {
     "end_time": "2019-05-15T12:52:34.419968Z",
     "start_time": "2019-05-15T12:52:34.411644Z"
    }
   },
   "outputs": [
    {
     "data": {
      "text/latex": [
       "$$289$$"
      ],
      "text/plain": [
       "289"
      ]
     },
     "execution_count": 11,
     "metadata": {},
     "output_type": "execute_result"
    }
   ],
   "source": [
    "# Calculamos x2\n",
    "x2 = 11*n-151\n",
    "x2"
   ]
  },
  {
   "cell_type": "code",
   "execution_count": 12,
   "metadata": {
    "ExecuteTime": {
     "end_time": "2019-05-15T12:52:46.109459Z",
     "start_time": "2019-05-15T12:52:45.863429Z"
    }
   },
   "outputs": [
    {
     "data": {
      "text/plain": [
       "[200,\n",
       " 204,\n",
       " 206,\n",
       " 208,\n",
       " 210,\n",
       " 212,\n",
       " 214,\n",
       " 216,\n",
       " 218,\n",
       " 220,\n",
       " 222,\n",
       " 224,\n",
       " 226,\n",
       " 228,\n",
       " 230,\n",
       " 232,\n",
       " 234,\n",
       " 236,\n",
       " 238,\n",
       " 240,\n",
       " 242,\n",
       " 244,\n",
       " 246,\n",
       " 248,\n",
       " 250,\n",
       " 252,\n",
       " 254,\n",
       " 256,\n",
       " 258,\n",
       " 260,\n",
       " 262,\n",
       " 264,\n",
       " 266,\n",
       " 268,\n",
       " 270,\n",
       " 272,\n",
       " 274,\n",
       " 276,\n",
       " 278,\n",
       " 280,\n",
       " 282,\n",
       " 284,\n",
       " 286,\n",
       " 288,\n",
       " 290,\n",
       " 292,\n",
       " 294,\n",
       " 296,\n",
       " 298,\n",
       " 300,\n",
       " 302,\n",
       " 304,\n",
       " 306,\n",
       " 308,\n",
       " 310,\n",
       " 312,\n",
       " 314,\n",
       " 316,\n",
       " 318,\n",
       " 320,\n",
       " 322,\n",
       " 324,\n",
       " 326,\n",
       " 328,\n",
       " 330,\n",
       " 332,\n",
       " 334,\n",
       " 336,\n",
       " 338,\n",
       " 340,\n",
       " 342,\n",
       " 344,\n",
       " 346,\n",
       " 348,\n",
       " 350,\n",
       " 352,\n",
       " 354,\n",
       " 356,\n",
       " 358,\n",
       " 360,\n",
       " 362,\n",
       " 364,\n",
       " 366,\n",
       " 368,\n",
       " 370,\n",
       " 372,\n",
       " 374,\n",
       " 376,\n",
       " 378,\n",
       " 380,\n",
       " 382,\n",
       " 384,\n",
       " 386,\n",
       " 388,\n",
       " 390,\n",
       " 392,\n",
       " 394,\n",
       " 396,\n",
       " 398,\n",
       " 400,\n",
       " 402,\n",
       " 404,\n",
       " 406,\n",
       " 408,\n",
       " 410,\n",
       " 412,\n",
       " 414,\n",
       " 416,\n",
       " 418,\n",
       " 420,\n",
       " 422,\n",
       " 424,\n",
       " 426,\n",
       " 428,\n",
       " 430,\n",
       " 432,\n",
       " 434,\n",
       " 436,\n",
       " 438,\n",
       " 440]"
      ]
     },
     "execution_count": 12,
     "metadata": {},
     "output_type": "execute_result"
    }
   ],
   "source": [
    "# Calculo W(37)\n",
    "W = ns.W(40)\n",
    "W"
   ]
  },
  {
   "cell_type": "code",
   "execution_count": 14,
   "metadata": {
    "ExecuteTime": {
     "end_time": "2019-05-15T13:21:07.535299Z",
     "start_time": "2019-05-15T13:21:07.531021Z"
    }
   },
   "outputs": [],
   "source": [
    "# Calculo W3(37)\n",
    "W3 = [x for x in W if x <= x1]"
   ]
  },
  {
   "cell_type": "code",
   "execution_count": 15,
   "metadata": {
    "ExecuteTime": {
     "end_time": "2019-05-15T13:21:09.212047Z",
     "start_time": "2019-05-15T13:21:09.202739Z"
    }
   },
   "outputs": [],
   "source": [
    "# Calculo W1(37)\n",
    "W1 = [x for x in W if x >= x2]"
   ]
  },
  {
   "cell_type": "code",
   "execution_count": 16,
   "metadata": {
    "ExecuteTime": {
     "end_time": "2019-05-15T13:21:09.457188Z",
     "start_time": "2019-05-15T13:21:09.449012Z"
    }
   },
   "outputs": [
    {
     "data": {
      "text/plain": [
       "[200,\n",
       " 204,\n",
       " 206,\n",
       " 208,\n",
       " 210,\n",
       " 212,\n",
       " 214,\n",
       " 216,\n",
       " 218,\n",
       " 220,\n",
       " 222,\n",
       " 224,\n",
       " 226,\n",
       " 228,\n",
       " 230,\n",
       " 232,\n",
       " 234,\n",
       " 236,\n",
       " 238,\n",
       " 240,\n",
       " 242,\n",
       " 244,\n",
       " 246,\n",
       " 248,\n",
       " 250,\n",
       " 252,\n",
       " 254,\n",
       " 256,\n",
       " 258,\n",
       " 260,\n",
       " 262,\n",
       " 264,\n",
       " 266,\n",
       " 268]"
      ]
     },
     "execution_count": 16,
     "metadata": {},
     "output_type": "execute_result"
    }
   ],
   "source": [
    "W3"
   ]
  },
  {
   "cell_type": "code",
   "execution_count": 17,
   "metadata": {
    "ExecuteTime": {
     "end_time": "2019-05-15T13:21:23.398897Z",
     "start_time": "2019-05-15T13:21:20.536328Z"
    }
   },
   "outputs": [
    {
     "name": "stdout",
     "output_type": "stream",
     "text": [
      "[20, 22, 24]\n"
     ]
    }
   ],
   "source": [
    "# Calculo B3(37)\n",
    "B3 = []\n",
    "for x in W3:\n",
    "    lx = list(set(L([5,9,11],x)))\n",
    "    for l in lx:\n",
    "        if l < x1/11:\n",
    "            B3.append(l)\n",
    "B3 = sorted(list(set(B3)))\n",
    "print(B3)"
   ]
  },
  {
   "cell_type": "code",
   "execution_count": 18,
   "metadata": {
    "ExecuteTime": {
     "end_time": "2019-05-15T13:22:23.397007Z",
     "start_time": "2019-05-15T13:22:03.023124Z"
    }
   },
   "outputs": [
    {
     "name": "stdout",
     "output_type": "stream",
     "text": [
      "[58, 60, 62, 64, 66, 68, 70, 72, 74, 76, 78, 80, 82, 84, 86, 88]\n"
     ]
    }
   ],
   "source": [
    "# Calculo B1(37)\n",
    "B1 = []\n",
    "for x in W1:\n",
    "    lx = list(set(L([5,9,11],x)))\n",
    "    for l in lx:\n",
    "        if l > x2/5:\n",
    "            B1.append(l)\n",
    "B1 = sorted(list(set(B1)))\n",
    "print(B1)"
   ]
  },
  {
   "cell_type": "code",
   "execution_count": null,
   "metadata": {
    "ExecuteTime": {
     "end_time": "2019-03-29T10:04:56.101391Z",
     "start_time": "2019-03-29T10:04:56.086753Z"
    }
   },
   "outputs": [],
   "source": [
    "Delta(B3)+[2]+Delta(B1)"
   ]
  },
  {
   "cell_type": "code",
   "execution_count": 13,
   "metadata": {
    "ExecuteTime": {
     "end_time": "2019-05-15T12:53:39.969735Z",
     "start_time": "2019-05-15T12:52:55.106662Z"
    }
   },
   "outputs": [
    {
     "data": {
      "text/plain": [
       "[2]"
      ]
     },
     "execution_count": 13,
     "metadata": {},
     "output_type": "execute_result"
    }
   ],
   "source": [
    "ns.DeltaNu(40)"
   ]
  },
  {
   "cell_type": "code",
   "execution_count": null,
   "metadata": {},
   "outputs": [],
   "source": []
  }
 ],
 "metadata": {
  "kernelspec": {
   "display_name": "Python 3",
   "language": "python",
   "name": "python3"
  },
  "language_info": {
   "codemirror_mode": {
    "name": "ipython",
    "version": 3
   },
   "file_extension": ".py",
   "mimetype": "text/x-python",
   "name": "python",
   "nbconvert_exporter": "python",
   "pygments_lexer": "ipython3",
   "version": "3.6.8"
  }
 },
 "nbformat": 4,
 "nbformat_minor": 2
}

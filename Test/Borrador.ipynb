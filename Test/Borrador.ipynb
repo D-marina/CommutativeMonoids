{
 "cells": [
  {
   "cell_type": "code",
   "execution_count": 1,
   "metadata": {
    "ExecuteTime": {
     "end_time": "2019-03-29T09:38:40.669785Z",
     "start_time": "2019-03-29T09:38:40.663087Z"
    }
   },
   "outputs": [],
   "source": [
    "import sys\n",
    "sys.path.insert(0, '../Class/')"
   ]
  },
  {
   "cell_type": "code",
   "execution_count": 2,
   "metadata": {
    "ExecuteTime": {
     "end_time": "2019-03-29T09:38:44.598362Z",
     "start_time": "2019-03-29T09:38:43.623033Z"
    }
   },
   "outputs": [],
   "source": [
    "import NumericalSemigroup\n",
    "from NumericalSemigroup import *\n",
    "import auxiliars\n",
    "from auxiliars import *"
   ]
  },
  {
   "cell_type": "code",
   "execution_count": 3,
   "metadata": {
    "ExecuteTime": {
     "end_time": "2019-03-29T09:38:46.521638Z",
     "start_time": "2019-03-29T09:38:46.513591Z"
    }
   },
   "outputs": [],
   "source": [
    "ns = NumericalSemigroup([5,9,11])"
   ]
  },
  {
   "cell_type": "code",
   "execution_count": 10,
   "metadata": {
    "ExecuteTime": {
     "end_time": "2019-03-29T09:42:39.108915Z",
     "start_time": "2019-03-29T09:42:39.095065Z"
    }
   },
   "outputs": [
    {
     "data": {
      "text/latex": [
       "$$2$$"
      ],
      "text/plain": [
       "2"
      ]
     },
     "execution_count": 10,
     "metadata": {},
     "output_type": "execute_result"
    }
   ],
   "source": [
    "# Calculamos d\n",
    "ns.ComputeMinimumDeltaS()"
   ]
  },
  {
   "cell_type": "code",
   "execution_count": 5,
   "metadata": {
    "ExecuteTime": {
     "end_time": "2019-03-29T09:39:12.103745Z",
     "start_time": "2019-03-29T09:39:12.093526Z"
    }
   },
   "outputs": [
    {
     "data": {
      "text/latex": [
       "$$126$$"
      ],
      "text/plain": [
       "126"
      ]
     },
     "execution_count": 5,
     "metadata": {},
     "output_type": "execute_result"
    }
   ],
   "source": [
    "# Calculamos Ns\n",
    "ns.ComputeNS()"
   ]
  },
  {
   "cell_type": "code",
   "execution_count": 7,
   "metadata": {
    "ExecuteTime": {
     "end_time": "2019-03-29T09:40:32.558097Z",
     "start_time": "2019-03-29T09:40:32.547464Z"
    }
   },
   "outputs": [
    {
     "data": {
      "text/latex": [
       "$$68.72727272727272$$"
      ],
      "text/plain": [
       "68.72727272727272"
      ]
     },
     "execution_count": 7,
     "metadata": {},
     "output_type": "execute_result"
    }
   ],
   "source": [
    "# Calculamos lambda1\n",
    "Lambda1([5,9,11])"
   ]
  },
  {
   "cell_type": "code",
   "execution_count": 9,
   "metadata": {
    "ExecuteTime": {
     "end_time": "2019-03-29T09:40:53.328630Z",
     "start_time": "2019-03-29T09:40:53.320523Z"
    }
   },
   "outputs": [
    {
     "data": {
      "text/latex": [
       "$$151.20000000000002$$"
      ],
      "text/plain": [
       "151.20000000000002"
      ]
     },
     "execution_count": 9,
     "metadata": {},
     "output_type": "execute_result"
    }
   ],
   "source": [
    "# Calculamos lambda2\n",
    "Lambda2([5,9,11])"
   ]
  },
  {
   "cell_type": "code",
   "execution_count": 6,
   "metadata": {
    "ExecuteTime": {
     "end_time": "2019-03-29T09:40:07.658422Z",
     "start_time": "2019-03-29T09:40:07.648416Z"
    }
   },
   "outputs": [
    {
     "data": {
      "text/latex": [
       "$$25$$"
      ],
      "text/plain": [
       "25"
      ]
     },
     "execution_count": 6,
     "metadata": {},
     "output_type": "execute_result"
    }
   ],
   "source": [
    "# Calculamos N0\n",
    "ns.ComputeN0()"
   ]
  },
  {
   "cell_type": "code",
   "execution_count": 11,
   "metadata": {
    "ExecuteTime": {
     "end_time": "2019-03-29T09:43:17.838618Z",
     "start_time": "2019-03-29T09:43:17.834023Z"
    }
   },
   "outputs": [],
   "source": [
    "# Elegimos n = 37\n",
    "n = 37"
   ]
  },
  {
   "cell_type": "code",
   "execution_count": 17,
   "metadata": {
    "ExecuteTime": {
     "end_time": "2019-03-29T09:46:37.417805Z",
     "start_time": "2019-03-29T09:46:37.407988Z"
    }
   },
   "outputs": [
    {
     "data": {
      "text/latex": [
       "$$254$$"
      ],
      "text/plain": [
       "254"
      ]
     },
     "execution_count": 17,
     "metadata": {},
     "output_type": "execute_result"
    }
   ],
   "source": [
    "# Calculamos x1\n",
    "x1 = 5*n+69\n",
    "x1"
   ]
  },
  {
   "cell_type": "code",
   "execution_count": 19,
   "metadata": {
    "ExecuteTime": {
     "end_time": "2019-03-29T09:46:49.775664Z",
     "start_time": "2019-03-29T09:46:49.765695Z"
    }
   },
   "outputs": [
    {
     "data": {
      "text/latex": [
       "$$255$$"
      ],
      "text/plain": [
       "255"
      ]
     },
     "execution_count": 19,
     "metadata": {},
     "output_type": "execute_result"
    }
   ],
   "source": [
    "# Calculamos x2\n",
    "x2 = 11*n-152\n",
    "x2"
   ]
  },
  {
   "cell_type": "code",
   "execution_count": 62,
   "metadata": {
    "ExecuteTime": {
     "end_time": "2019-03-29T10:06:23.047809Z",
     "start_time": "2019-03-29T10:06:22.869254Z"
    }
   },
   "outputs": [
    {
     "data": {
      "text/plain": [
       "[185,\n",
       " 189,\n",
       " 191,\n",
       " 193,\n",
       " 195,\n",
       " 197,\n",
       " 199,\n",
       " 201,\n",
       " 203,\n",
       " 205,\n",
       " 207,\n",
       " 209,\n",
       " 211,\n",
       " 213,\n",
       " 215,\n",
       " 217,\n",
       " 219,\n",
       " 221,\n",
       " 223,\n",
       " 225,\n",
       " 227,\n",
       " 229,\n",
       " 231,\n",
       " 233,\n",
       " 235,\n",
       " 237,\n",
       " 239,\n",
       " 241,\n",
       " 243,\n",
       " 245,\n",
       " 247,\n",
       " 249,\n",
       " 251,\n",
       " 253,\n",
       " 255,\n",
       " 257,\n",
       " 259,\n",
       " 261,\n",
       " 263,\n",
       " 265,\n",
       " 267,\n",
       " 269,\n",
       " 271,\n",
       " 273,\n",
       " 275,\n",
       " 277,\n",
       " 279,\n",
       " 281,\n",
       " 283,\n",
       " 285,\n",
       " 287,\n",
       " 289,\n",
       " 291,\n",
       " 293,\n",
       " 295,\n",
       " 297,\n",
       " 299,\n",
       " 301,\n",
       " 303,\n",
       " 305,\n",
       " 307,\n",
       " 309,\n",
       " 311,\n",
       " 313,\n",
       " 315,\n",
       " 317,\n",
       " 319,\n",
       " 321,\n",
       " 323,\n",
       " 325,\n",
       " 327,\n",
       " 329,\n",
       " 331,\n",
       " 333,\n",
       " 335,\n",
       " 337,\n",
       " 339,\n",
       " 341,\n",
       " 343,\n",
       " 345,\n",
       " 347,\n",
       " 349,\n",
       " 351,\n",
       " 353,\n",
       " 355,\n",
       " 357,\n",
       " 359,\n",
       " 361,\n",
       " 363,\n",
       " 365,\n",
       " 367,\n",
       " 369,\n",
       " 371,\n",
       " 373,\n",
       " 375,\n",
       " 377,\n",
       " 379,\n",
       " 381,\n",
       " 383,\n",
       " 385,\n",
       " 387,\n",
       " 389,\n",
       " 391,\n",
       " 393,\n",
       " 395,\n",
       " 397,\n",
       " 399,\n",
       " 401,\n",
       " 403,\n",
       " 405,\n",
       " 407]"
      ]
     },
     "execution_count": 62,
     "metadata": {},
     "output_type": "execute_result"
    }
   ],
   "source": [
    "# Calculo W(37)\n",
    "W = ns.W(37)\n",
    "W"
   ]
  },
  {
   "cell_type": "code",
   "execution_count": 29,
   "metadata": {
    "ExecuteTime": {
     "end_time": "2019-03-29T09:49:27.598320Z",
     "start_time": "2019-03-29T09:49:27.592044Z"
    }
   },
   "outputs": [],
   "source": [
    "# Calculo W3(37)\n",
    "W3 = [x for x in W if x <= x1]"
   ]
  },
  {
   "cell_type": "code",
   "execution_count": 30,
   "metadata": {
    "ExecuteTime": {
     "end_time": "2019-03-29T09:49:27.949116Z",
     "start_time": "2019-03-29T09:49:27.942958Z"
    }
   },
   "outputs": [],
   "source": [
    "# Calculo W1(37)\n",
    "W1 = [x for x in W if x >= x2]"
   ]
  },
  {
   "cell_type": "code",
   "execution_count": 43,
   "metadata": {
    "ExecuteTime": {
     "end_time": "2019-03-29T09:56:00.489748Z",
     "start_time": "2019-03-29T09:56:00.477733Z"
    }
   },
   "outputs": [
    {
     "data": {
      "text/plain": [
       "[185,\n",
       " 189,\n",
       " 191,\n",
       " 193,\n",
       " 195,\n",
       " 197,\n",
       " 199,\n",
       " 201,\n",
       " 203,\n",
       " 205,\n",
       " 207,\n",
       " 209,\n",
       " 211,\n",
       " 213,\n",
       " 215,\n",
       " 217,\n",
       " 219,\n",
       " 221,\n",
       " 223,\n",
       " 225,\n",
       " 227,\n",
       " 229,\n",
       " 231,\n",
       " 233,\n",
       " 235,\n",
       " 237,\n",
       " 239,\n",
       " 241,\n",
       " 243,\n",
       " 245,\n",
       " 247,\n",
       " 249,\n",
       " 251,\n",
       " 253]"
      ]
     },
     "execution_count": 43,
     "metadata": {},
     "output_type": "execute_result"
    }
   ],
   "source": [
    "W3"
   ]
  },
  {
   "cell_type": "code",
   "execution_count": 56,
   "metadata": {
    "ExecuteTime": {
     "end_time": "2019-03-29T10:03:59.136845Z",
     "start_time": "2019-03-29T10:03:56.779067Z"
    }
   },
   "outputs": [
    {
     "name": "stdout",
     "output_type": "stream",
     "text": [
      "[17, 19, 21, 23]\n"
     ]
    }
   ],
   "source": [
    "# Calculo B3(37)\n",
    "B3 = []\n",
    "for x in W3:\n",
    "    lx = list(set(L([5,9,11],x)))\n",
    "    for l in lx:\n",
    "        if l < x1/11:\n",
    "            B3.append(l)\n",
    "B3 = sorted(list(set(B3)))\n",
    "print(B3)"
   ]
  },
  {
   "cell_type": "code",
   "execution_count": 57,
   "metadata": {
    "ExecuteTime": {
     "end_time": "2019-03-29T10:04:23.644791Z",
     "start_time": "2019-03-29T10:04:07.699731Z"
    }
   },
   "outputs": [
    {
     "name": "stdout",
     "output_type": "stream",
     "text": [
      "[53, 55, 57, 59, 61, 63, 65, 67, 69, 71, 73, 75, 77, 79, 81]\n"
     ]
    }
   ],
   "source": [
    "# Calculo B1(37)\n",
    "B1 = []\n",
    "for x in W1:\n",
    "    lx = list(set(L([5,9,11],x)))\n",
    "    for l in lx:\n",
    "        if l > x2/5:\n",
    "            B1.append(l)\n",
    "B1 = sorted(list(set(B1)))\n",
    "print(B1)"
   ]
  },
  {
   "cell_type": "code",
   "execution_count": 58,
   "metadata": {
    "ExecuteTime": {
     "end_time": "2019-03-29T10:04:56.101391Z",
     "start_time": "2019-03-29T10:04:56.086753Z"
    }
   },
   "outputs": [
    {
     "data": {
      "text/plain": [
       "[2, 2, 2]"
      ]
     },
     "execution_count": 58,
     "metadata": {},
     "output_type": "execute_result"
    }
   ],
   "source": [
    "Delta(B3)+[2]+Delta(B1)"
   ]
  },
  {
   "cell_type": "code",
   "execution_count": 61,
   "metadata": {
    "ExecuteTime": {
     "end_time": "2019-03-29T10:06:22.865394Z",
     "start_time": "2019-03-29T10:05:47.748063Z"
    }
   },
   "outputs": [
    {
     "data": {
      "text/plain": [
       "[2]"
      ]
     },
     "execution_count": 61,
     "metadata": {},
     "output_type": "execute_result"
    }
   ],
   "source": [
    "ns.DeltaNu(37)"
   ]
  },
  {
   "cell_type": "code",
   "execution_count": null,
   "metadata": {},
   "outputs": [],
   "source": []
  }
 ],
 "metadata": {
  "kernelspec": {
   "display_name": "Python 3",
   "language": "python",
   "name": "python3"
  },
  "language_info": {
   "codemirror_mode": {
    "name": "ipython",
    "version": 3
   },
   "file_extension": ".py",
   "mimetype": "text/x-python",
   "name": "python",
   "nbconvert_exporter": "python",
   "pygments_lexer": "ipython3",
   "version": "3.6.7"
  }
 },
 "nbformat": 4,
 "nbformat_minor": 2
}

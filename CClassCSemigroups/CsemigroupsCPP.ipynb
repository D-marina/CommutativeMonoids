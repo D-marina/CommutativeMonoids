{
 "cells": [
  {
   "cell_type": "code",
   "execution_count": 1,
   "metadata": {
    "ExecuteTime": {
     "end_time": "2019-05-21T10:03:01.819207Z",
     "start_time": "2019-05-21T10:03:01.802834Z"
    }
   },
   "outputs": [],
   "source": [
    "import CsemigroupsCpp\n",
    "from CsemigroupsCpp import *\n",
    "import PyNormaliz\n",
    "from PyNormaliz import *"
   ]
  },
  {
   "cell_type": "code",
   "execution_count": 11,
   "metadata": {
    "ExecuteTime": {
     "end_time": "2019-05-21T10:08:02.878607Z",
     "start_time": "2019-05-21T10:08:02.833552Z"
    }
   },
   "outputs": [],
   "source": [
    "class Csemigroup:\n",
    "    def __init__(self,generators):\n",
    "        self.gaps = None\n",
    "        self.pf = None\n",
    "        aux = self.__ComputeMinimalGenerators(generators)\n",
    "        self.generators = list([list(x) for x in aux])\n",
    "        self.generators.sort(key=lambda row: row[1:])\n",
    "        coneSg = Cone(cone=self.generators)\n",
    "        self.rays = coneSg.ExtremeRays()\n",
    "        self.hyperplanes = coneSg.SupportHyperplanes()\n",
    "        print(self.__IsCSemigroup())\n",
    "        \n",
    "    def __IsCSemigroup(self):\n",
    "        if not axisAreSemigroup(self.generators,self.rays):\n",
    "            raise Exception(\"This set does not generate a numerical semigroup.\")\n",
    "        return \"raysSg\"\n",
    "        \n",
    "    def __ComputeMinimalGenerators(self,generators):\n",
    "        return computeMSG(generators)\n",
    "        \n",
    "    def GetGenerators(self):\n",
    "        return self.generators\n",
    "    def GetRays(self):\n",
    "        return self.rays\n",
    "    def GetHyperplanes(self):\n",
    "        return self.hyperplanes"
   ]
  },
  {
   "cell_type": "code",
   "execution_count": 12,
   "metadata": {},
   "outputs": [
    {
     "name": "stdout",
     "output_type": "stream",
     "text": [
      "[7, 3]\n",
      "[31, 2]\n",
      "raysSg\n"
     ]
    }
   ],
   "source": [
    "generators = [[3, 1], [7, 1], [8, 2], [9, 1], [9, 2], [10, 1], [10, 3], [10, 4], [11, 2], [13, 1], [14, 5], [15, 6], [17, 7], [19, 8], [21, 2], [24, 2], [25, 2], [26, 11], [27, 2], [28, 2], [29, 2], [44, 3], [45, 3], [61, 4], [62, 4], [76, 5], [77, 5], [93, 6], [108, 7], [43, 3], [59, 4], [60, 4], [92, 6], [42, 18], [56, 24], [63, 27], [70, 30]]\n",
    "cs = Csemigroup(generators)"
   ]
  },
  {
   "cell_type": "code",
   "execution_count": 8,
   "metadata": {},
   "outputs": [
    {
     "data": {
      "text/plain": [
       "True"
      ]
     },
     "execution_count": 8,
     "metadata": {},
     "output_type": "execute_result"
    }
   ],
   "source": [
    "axisAreSemigroup(cs.GetGenerators(),cs.rays)"
   ]
  },
  {
   "cell_type": "code",
   "execution_count": null,
   "metadata": {},
   "outputs": [],
   "source": []
  }
 ],
 "metadata": {
  "kernelspec": {
   "display_name": "Python 3",
   "language": "python",
   "name": "python3"
  },
  "language_info": {
   "codemirror_mode": {
    "name": "ipython",
    "version": 3
   },
   "file_extension": ".py",
   "mimetype": "text/x-python",
   "name": "python",
   "nbconvert_exporter": "python",
   "pygments_lexer": "ipython3",
   "version": "3.8.5"
  }
 },
 "nbformat": 4,
 "nbformat_minor": 4
}

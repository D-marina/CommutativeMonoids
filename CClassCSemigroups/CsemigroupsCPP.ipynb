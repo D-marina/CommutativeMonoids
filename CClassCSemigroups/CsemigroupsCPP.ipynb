{
 "cells": [
  {
   "cell_type": "code",
   "execution_count": 1,
   "metadata": {
    "ExecuteTime": {
     "end_time": "2019-05-21T10:03:01.819207Z",
     "start_time": "2019-05-21T10:03:01.802834Z"
    }
   },
   "outputs": [],
   "source": [
    "import CsemigroupsCpp\n",
    "from CsemigroupsCpp import *\n",
    "import PyNormaliz\n",
    "from PyNormaliz import *\n",
    "import itertools\n",
    "from scipy.spatial import ConvexHull\n",
    "# Esto es solo para ver si lo que hago es útil o no\n",
    "import time"
   ]
  },
  {
   "cell_type": "code",
   "execution_count": 2,
   "metadata": {},
   "outputs": [],
   "source": [
    "# Calculo el menor cuboide que contenga al diamante.\n",
    "# INPUT:\n",
    "#   - d: Vértices del diamante.\n",
    "# OUTPUT:\n",
    "#   - Máximos en cada coordenada del cubo.\n",
    "def Cube(d):\n",
    "    dim = len(d[0])\n",
    "    aux = []\n",
    "    for i in range(dim):\n",
    "        aux.append(sorted(d, key = lambda x: x[i])[-1][i])\n",
    "    return(aux)"
   ]
  },
  {
   "cell_type": "code",
   "execution_count": 13,
   "metadata": {
    "ExecuteTime": {
     "end_time": "2019-05-21T10:08:02.878607Z",
     "start_time": "2019-05-21T10:08:02.833552Z"
    }
   },
   "outputs": [],
   "source": [
    "class Csemigroup:\n",
    "    def __init__(self,generators):\n",
    "        self.gaps = None\n",
    "        self.pf = None\n",
    "        aux = self.__ComputeMinimalGenerators(generators)\n",
    "        self.generators = list([list(x) for x in aux])\n",
    "        self.generators.sort(key=lambda row: row[1:])\n",
    "        coneSg = Cone(cone=self.generators)\n",
    "        self.rays = coneSg.ExtremeRays()\n",
    "        self.hyperplanes = coneSg.SupportHyperplanes()\n",
    "        if not self.__IsCSemigroup():\n",
    "            raise Exception(\"The set do not form a C-Semigroup\")\n",
    "        \n",
    "        \n",
    "    def __IsCSemigroup(self):\n",
    "        if not axisAreSemigroup(self.generators,self.rays):\n",
    "            raise Exception(\"This set does not generate a numerical semigroup.\")\n",
    "        diamondA = diamond(self.rays)\n",
    "        hull = ConvexHull(diamondA)\n",
    "        eqDiamond = [list(x) for x in hull.equations]\n",
    "        boundDiamond = Cube(diamondA)\n",
    "        it = itertools.product(*[range(i+1) for i in boundDiamond])\n",
    "        candidates = [list(x) for x in it]\n",
    "        integerDiamond = filterPoints(candidates,eqDiamond)\n",
    "        return studyRays(self.rays,self.hyperplanes,integerDiamond,self.generators);\n",
    "\n",
    "        \n",
    "    def __ComputeMinimalGenerators(self,generators):\n",
    "        return computeMSG(generators)\n",
    "        \n",
    "    def GetGenerators(self):\n",
    "        return self.generators\n",
    "    def GetRays(self):\n",
    "        return self.rays\n",
    "    def GetHyperplanes(self):\n",
    "        return self.hyperplanes\n",
    "    def GetGaps(self):\n",
    "        if self.gaps != None:\n",
    "            return self.gaps\n",
    "        else:\n",
    "            \n",
    "            self.gaps = computeGaps(self.generators,self.rays,self.hyperplanes)"
   ]
  },
  {
   "cell_type": "code",
   "execution_count": 14,
   "metadata": {},
   "outputs": [
    {
     "data": {
      "text/plain": [
       "8.858981"
      ]
     },
     "execution_count": 14,
     "metadata": {},
     "output_type": "execute_result"
    }
   ],
   "source": [
    "start = time.process_time()\n",
    "generators = [[3, 1], [7, 1], [8, 2], [9, 1], [9, 2], [10, 1], [10, 3], [10, 4], [11, 2], [13, 1], [14, 5], [15, 6], [17, 7], [19, 8], [21, 2], [24, 2], [25, 2], [26, 11], [27, 2], [28, 2], [29, 2], [44, 3], [45, 3], [61, 4], [62, 4], [76, 5], [77, 5], [93, 6], [108, 7], [43, 3], [59, 4], [60, 4], [92, 6], [42, 18], [56, 24], [63, 27], [70, 30]]\n",
    "cs = Csemigroup(generators)\n",
    "time.process_time()-start"
   ]
  },
  {
   "cell_type": "code",
   "execution_count": 15,
   "metadata": {},
   "outputs": [
    {
     "data": {
      "text/plain": [
       "[[7, 3], [31, 2]]"
      ]
     },
     "execution_count": 15,
     "metadata": {},
     "output_type": "execute_result"
    }
   ],
   "source": [
    "cs.GetRays()"
   ]
  },
  {
   "cell_type": "code",
   "execution_count": null,
   "metadata": {},
   "outputs": [],
   "source": [
    "cs.GetHyperplanes()"
   ]
  },
  {
   "cell_type": "code",
   "execution_count": null,
   "metadata": {},
   "outputs": [],
   "source": [
    "-2*3+31*1"
   ]
  },
  {
   "cell_type": "code",
   "execution_count": null,
   "metadata": {},
   "outputs": [],
   "source": [
    "type([[-0.39391929857916763, 0.9191450300180578, -0.0], [-0.06438227799796505, 0.9979253089684582, -2.543099980919619], [0.06438227799796505, -0.9979253089684582, -0.0], [0.39391929857916763, -0.9191450300180578, -10.373208195918082]][0][0])"
   ]
  },
  {
   "cell_type": "code",
   "execution_count": null,
   "metadata": {},
   "outputs": [],
   "source": [
    "pointBelongsDiamond([0,0],[[-0.39391929857916763, 0.9191450300180578, -0.0], [-0.06438227799796505, 0.9979253089684582, -2.543099980919619], [0.06438227799796505, -0.9979253089684582, -0.0], [0.39391929857916763, -0.9191450300180578, -10.373208195918082]])"
   ]
  },
  {
   "cell_type": "code",
   "execution_count": null,
   "metadata": {},
   "outputs": [],
   "source": [
    "axisAreSemigroup(cs.GetGenerators(),cs.rays)"
   ]
  },
  {
   "cell_type": "code",
   "execution_count": null,
   "metadata": {},
   "outputs": [],
   "source": [
    "studyRays([[7, 3], [31, 2]],[[-2, 31], [3, -7]],((0, 0), (3, 1), (4, 1), (5, 1), (5, 2), (6, 1), (6, 2), (7, 1), (7, 2), (7, 3), (8, 1), (8, 2), (8, 3), (9, 1), (9, 2), (9, 3), (10, 1), (10, 2), (10, 3), (11, 1), (11, 2), (11, 3), (12, 1), (12, 2), (12, 3), (13, 1), (13, 2), (13, 3), (14, 1), (14, 2), (14, 3), (15, 1), (15, 2), (15, 3), (16, 2), (16, 3), (17, 2), (17, 3), (18, 2), (18, 3), (19, 2), (19, 3), (20, 2), (20, 3), (21, 2), (21, 3), (22, 2), (22, 3), (23, 2), (23, 3), (23, 4), (24, 2), (24, 3), (24, 4), (25, 2), (25, 3), (25, 4), (26, 2), (26, 3), (26, 4), (27, 2), (27, 3), (27, 4), (28, 2), (28, 3), (28, 4), (29, 2), (29, 3), (29, 4), (30, 2), (30, 3), (30, 4), (31, 2), (31, 3), (31, 4), (32, 3), (32, 4), (33, 3), (33, 4), (34, 4), (35, 4), (38, 5)),[[3, 1], [7, 1], [9, 1], [10, 1], [13, 1], [8, 2], [9, 2], [11, 2], [21, 2], [24, 2], [25, 2], [27, 2], [28, 2], [29, 2], [10, 3], [44, 3], [45, 3], [43, 3], [10, 4], [61, 4], [62, 4], [59, 4], [60, 4], [14, 5], [76, 5], [77, 5], [15, 6], [93, 6], [92, 6], [17, 7], [108, 7], [19, 8], [26, 11], [42, 18], [56, 24], [63, 27], [70, 30]]);"
   ]
  }
 ],
 "metadata": {
  "kernelspec": {
   "display_name": "Python 3",
   "language": "python",
   "name": "python3"
  },
  "language_info": {
   "codemirror_mode": {
    "name": "ipython",
    "version": 3
   },
   "file_extension": ".py",
   "mimetype": "text/x-python",
   "name": "python",
   "nbconvert_exporter": "python",
   "pygments_lexer": "ipython3",
   "version": "3.8.5"
  }
 },
 "nbformat": 4,
 "nbformat_minor": 4
}

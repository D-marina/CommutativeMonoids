{
 "cells": [
  {
   "cell_type": "code",
   "execution_count": 2,
   "metadata": {
    "ExecuteTime": {
     "end_time": "2019-05-21T10:03:01.819207Z",
     "start_time": "2019-05-21T10:03:01.802834Z"
    }
   },
   "outputs": [],
   "source": [
    "import CsemigroupsCpp\n",
    "from CsemigroupsCpp import *"
   ]
  },
  {
   "cell_type": "code",
   "execution_count": 47,
   "metadata": {
    "ExecuteTime": {
     "end_time": "2019-05-21T10:08:02.878607Z",
     "start_time": "2019-05-21T10:08:02.833552Z"
    }
   },
   "outputs": [],
   "source": [
    "class Csemigroup:\n",
    "    "
   ]
  }
 ],
 "metadata": {
  "kernelspec": {
   "display_name": "Python 3",
   "language": "python",
   "name": "python3"
  },
  "language_info": {
   "codemirror_mode": {
    "name": "ipython",
    "version": 3
   },
   "file_extension": ".py",
   "mimetype": "text/x-python",
   "name": "python",
   "nbconvert_exporter": "python",
   "pygments_lexer": "ipython3",
   "version": "3.6.9"
  }
 },
 "nbformat": 4,
 "nbformat_minor": 4
}

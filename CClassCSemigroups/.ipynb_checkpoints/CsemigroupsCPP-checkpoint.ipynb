{
 "cells": [
  {
   "cell_type": "code",
   "execution_count": 1,
   "metadata": {},
   "outputs": [],
   "source": [
    "import CsemigroupsCpp\n",
    "from CsemigroupsCpp import *\n",
    "import PyNormaliz\n",
    "from PyNormaliz import *\n",
    "import itertools\n",
    "from scipy.spatial import ConvexHull"
   ]
  },
  {
   "cell_type": "code",
   "execution_count": 2,
   "metadata": {},
   "outputs": [],
   "source": [
    "# Calculo el menor cuboide que contenga al diamante.\n",
    "# INPUT:\n",
    "#   - d: Vértices del diamante.\n",
    "# OUTPUT:\n",
    "#   - Máximos en cada coordenada del cubo.\n",
    "def Cube(d):\n",
    "    dim = len(d[0])\n",
    "    aux = []\n",
    "    for i in range(dim):\n",
    "        aux.append(sorted(d, key = lambda x: x[i])[-1][i])\n",
    "    return(aux)"
   ]
  },
  {
   "cell_type": "code",
   "execution_count": 3,
   "metadata": {},
   "outputs": [],
   "source": [
    "class Csemigroup:\n",
    "    def __init__(self,generators):\n",
    "        self.gaps = None\n",
    "        self.pf = None\n",
    "        self.irreducible = None\n",
    "        aux = self.__ComputeMinimalGenerators(generators)\n",
    "        self.generators = list([list(x) for x in aux])\n",
    "        self.generators.sort(key=lambda row: row[1:])\n",
    "        coneSg = Cone(cone=self.generators)\n",
    "        self.rays = coneSg.ExtremeRays()\n",
    "        self.hyperplanes = coneSg.SupportHyperplanes()\n",
    "        if not self.__IsCSemigroup():\n",
    "            raise Exception(\"The set do not form a C-Semigroup\")\n",
    "        \n",
    "    def __IsCSemigroup(self):\n",
    "        if not axisAreSemigroup(self.generators,self.rays):\n",
    "            raise Exception(\"This set does not generate a numerical semigroup.\")\n",
    "        diamondA = diamond(self.rays)\n",
    "        hull = ConvexHull(diamondA)\n",
    "        eqDiamond = [list(x) for x in hull.equations]\n",
    "        boundDiamond = Cube(diamondA)\n",
    "        it = itertools.product(*[range(i+1) for i in boundDiamond])\n",
    "        candidates = [list(x) for x in it]\n",
    "        integerDiamond = filterPoints(candidates,eqDiamond)\n",
    "        return studyRays(self.rays,self.hyperplanes,integerDiamond,self.generators);\n",
    "\n",
    "        \n",
    "    def __ComputeMinimalGenerators(self,generators):\n",
    "        return computeMSG(generators)\n",
    "        \n",
    "    def GetGenerators(self):\n",
    "        return self.generators\n",
    "    def GetRays(self):\n",
    "        return self.rays\n",
    "    def GetHyperplanes(self):\n",
    "        return self.hyperplanes\n",
    "    def GetGaps(self):\n",
    "        if self.gaps != None:\n",
    "            return self.gaps\n",
    "        else:\n",
    "            multiplicitiesInAxes = multiplicityAllAxes(self.generators,self.rays)\n",
    "            diamondMult = diamond(multiplicitiesInAxes)\n",
    "            hull = ConvexHull(diamondMult)\n",
    "            eqDiamond = [list(x) for x in hull.equations]\n",
    "            boundDiamond = Cube(diamondMult)\n",
    "            it = itertools.product(*[range(i+1) for i in boundDiamond])\n",
    "            candidates = [list(x) for x in it]\n",
    "            integerDiamond = filterPoints(candidates,eqDiamond)\n",
    "            #print(len(integerDiamond))\n",
    "            #print(integerDiamond)\n",
    "            # self.gaps = computeGaps(self.generators,self.rays,self.hyperplanes)\n",
    "            diamondX = computeXDiamond(self.generators, self.rays, self.hyperplanes, integerDiamond)\n",
    "            #print(diamondX)\n",
    "            boundDiamondX = Cube(diamondX)\n",
    "            #print(boundDiamondX)\n",
    "            hullX = ConvexHull(diamondX)\n",
    "            eqDiamondX = [list(x) for x in hullX.equations]\n",
    "            itX = itertools.product(*[range(i+1) for i in boundDiamondX])\n",
    "            candidatesX = [list(x) for x in itX]\n",
    "            integerDiamondX = filterPoints(candidatesX,eqDiamondX)\n",
    "            #print(len(integerDiamondX))\n",
    "            aux = filterGaps(self.generators, integerDiamondX)\n",
    "            self.gaps = [list(xx) for xx in aux]\n",
    "            return self.gaps\n",
    "    \n",
    "    def GetPseudoFrobenius(self):\n",
    "        if self.pf != None:\n",
    "            return self.pf\n",
    "        if self.gaps == None:\n",
    "            self.GetGaps()\n",
    "        else:\n",
    "            aux = computePseudoFrobenius(self.generators,self.gaps)\n",
    "            self.pf = [list(xx) for xx in aux]\n",
    "            return self.pf\n",
    "\n",
    "    def IsIrreducible(self):\n",
    "        if self.irreducible != None:\n",
    "            return self.irreducible\n",
    "        if self.pf != None:\n",
    "            self.GetPseudoFrobenius()\n",
    "        self.irreducible = IsIrreducible\n",
    "        return self.irreducible\n",
    "        "
   ]
  },
  {
   "cell_type": "code",
   "execution_count": 4,
   "metadata": {},
   "outputs": [],
   "source": [
    "gen = [[2, 0, 0], [4, 2, 4], [0, 1, 0], [3, 0, 0], [6, 3, 6], [3, 1, 1], [4, 1, 1],\n",
    "[3, 1, 2], [1, 1, 0], [3, 2, 3], [1, 2, 1]]"
   ]
  },
  {
   "cell_type": "code",
   "execution_count": 5,
   "metadata": {},
   "outputs": [],
   "source": [
    "sg = Csemigroup(gen)"
   ]
  },
  {
   "cell_type": "code",
   "execution_count": 6,
   "metadata": {},
   "outputs": [],
   "source": [
    "pf = sg.GetPseudoFrobenius()"
   ]
  },
  {
   "cell_type": "code",
   "execution_count": 7,
   "metadata": {},
   "outputs": [
    {
     "name": "stdout",
     "output_type": "stream",
     "text": [
      "Hello\n"
     ]
    },
    {
     "data": {
      "text/plain": [
       "[[2, 2, 1], [2, 3, 2], [4, 1, 2], [8, 4, 7]]"
      ]
     },
     "execution_count": 7,
     "metadata": {},
     "output_type": "execute_result"
    }
   ],
   "source": [
    "sg.GetPseudoFrobenius()"
   ]
  },
  {
   "cell_type": "code",
   "execution_count": null,
   "metadata": {},
   "outputs": [],
   "source": []
  }
 ],
 "metadata": {
  "kernelspec": {
   "display_name": "Python 3",
   "language": "python",
   "name": "python3"
  },
  "language_info": {
   "codemirror_mode": {
    "name": "ipython",
    "version": 3
   },
   "file_extension": ".py",
   "mimetype": "text/x-python",
   "name": "python",
   "nbconvert_exporter": "python",
   "pygments_lexer": "ipython3",
   "version": "3.8.5"
  }
 },
 "nbformat": 4,
 "nbformat_minor": 4
}

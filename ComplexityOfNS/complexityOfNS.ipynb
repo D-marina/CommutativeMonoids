{
 "cells": [
  {
   "cell_type": "markdown",
   "id": "a99d43d4-d8e4-460b-b563-ec1be336d5ea",
   "metadata": {},
   "source": [
    "* Listas: https://www.gap-system.org/Manuals/doc/ref/chap21.html#X805CA0B68029B47A\n",
    "* https://gap-packages.github.io/numericalsgps/doc/chap2.html#X8324E5D97DC2A801"
   ]
  },
  {
   "cell_type": "code",
   "execution_count": 66,
   "id": "d78aefea-b354-4e01-99e1-1897f9bb553b",
   "metadata": {},
   "outputs": [
    {
     "data": {
      "text/plain": [
       "true"
      ]
     },
     "execution_count": 66,
     "metadata": {
      "text/plain": ""
     },
     "output_type": "execute_result"
    }
   ],
   "source": [
    "LoadPackage(\"numericalsgps\");"
   ]
  },
  {
   "cell_type": "code",
   "execution_count": 67,
   "id": "f1dc456b-aa65-4603-bc67-a06594f79a5c",
   "metadata": {},
   "outputs": [
    {
     "data": {
      "text/plain": [
       "function( sgI, S ) ... end"
      ]
     },
     "execution_count": 67,
     "metadata": {
      "text/plain": ""
     },
     "output_type": "execute_result"
    }
   ],
   "source": [
    "Ideal2NS:=function(sgI,S)\n",
    "    local smallElementsOfI,smallS,NS_I,x,minimumSGI,FS;\n",
    "    FS:=FrobeniusNumber(S);\n",
    "    minimumSGI:=Minimum(sgI);\n",
    "    smallS:=SmallElements(S);\n",
    "    smallElementsOfI:=[0];\n",
    "    \n",
    "    for x in sgI do\n",
    "        Append(smallElementsOfI,x+smallS);\n",
    "    od;\n",
    "    smallElementsOfI:=Filtered(smallElementsOfI,x->x<=minimumSGI+FS+1);\n",
    "    smallElementsOfI:=List(Set(smallElementsOfI));\n",
    "    Sort(smallElementsOfI);\n",
    "    # Print(smallElementsOfI);\n",
    "    NS_I:=NumericalSemigroupBySmallElements(smallElementsOfI);\n",
    "    return NS_I;\n",
    "end;"
   ]
  },
  {
   "cell_type": "code",
   "execution_count": 72,
   "id": "fca81816-bf06-4ebf-96af-9d060591c14a",
   "metadata": {},
   "outputs": [
    {
     "data": {
      "text/plain": [
       "Numerical semigroup with 3 generators"
      ]
     },
     "execution_count": 68,
     "metadata": {
      "text/plain": ""
     },
     "output_type": "execute_result"
    },
    {
     "data": {
      "text/plain": [
       "[ 0, 3 ]"
      ]
     },
     "execution_count": 69,
     "metadata": {
      "text/plain": ""
     },
     "output_type": "execute_result"
    },
    {
     "data": {
      "text/plain": [
       "Numerical semigroup with 5 generators"
      ]
     },
     "execution_count": 70,
     "metadata": {
      "text/plain": ""
     },
     "output_type": "execute_result"
    },
    {
     "data": {
      "text/plain": [
       "[ 5, 8, 9, 11, 12 ]"
      ]
     },
     "execution_count": 71,
     "metadata": {
      "text/plain": ""
     },
     "output_type": "execute_result"
    },
    {
     "data": {
      "text/plain": [
       "[ 0, 5, 8 ]"
      ]
     },
     "execution_count": 72,
     "metadata": {
      "text/plain": ""
     },
     "output_type": "execute_result"
    }
   ],
   "source": [
    "DeltaNS:=NumericalSemigroup(3,4,5);\n",
    "SmallElements(DeltaNS);\n",
    "S:=Ideal2NS([5,12],DeltaNS);\n",
    "msgS:=MinimalGeneratingSystemOfNumericalSemigroup(S);\n",
    "SmallElements(S);"
   ]
  },
  {
   "cell_type": "code",
   "execution_count": 73,
   "id": "c3aaf4fa-fa8f-4275-a556-0c58160b9f7a",
   "metadata": {},
   "outputs": [
    {
     "data": {
      "text/plain": [
       "function( Delta, S ) ... end"
      ]
     },
     "execution_count": 73,
     "metadata": {
      "text/plain": ""
     },
     "output_type": "execute_result"
    }
   ],
   "source": [
    "isDeltaIdealExtensionOfS:=function(Delta,S)\n",
    "    local pfS,msgS,msgDelta,x;\n",
    "    msgS:=MinimalGeneratingSystemOfNumericalSemigroup(S);\n",
    "    msgDelta:=MinimalGeneratingSystemOfNumericalSemigroup(Delta);\n",
    "    for x in msgS do\n",
    "        if not BelongsToNumericalSemigroup(x,Delta) then\n",
    "            return false;\n",
    "        fi;\n",
    "    od;\n",
    "    pfS:=PseudoFrobeniusOfNumericalSemigroup(S);\n",
    "    for x in msgDelta do\n",
    "        if not BelongsToNumericalSemigroup(x,S) and not x in pfS then\n",
    "            return false;\n",
    "        fi;\n",
    "    od;\n",
    "    return true;\n",
    "end;"
   ]
  },
  {
   "cell_type": "code",
   "execution_count": 74,
   "id": "ae34af95-33c2-4e2b-9239-ea7ba1e5c109",
   "metadata": {},
   "outputs": [
    {
     "data": {
      "text/plain": [
       "true"
      ]
     },
     "execution_count": 74,
     "metadata": {
      "text/plain": ""
     },
     "output_type": "execute_result"
    }
   ],
   "source": [
    "isDeltaIdealExtensionOfS(DeltaNS,S);"
   ]
  },
  {
   "cell_type": "code",
   "execution_count": 10,
   "id": "22504b6c-f3b9-4db5-8081-139e74e33d5a",
   "metadata": {},
   "outputs": [
    {
     "data": {
      "text/plain": [
       "function( S, debug ) ... end"
      ]
     },
     "execution_count": 10,
     "metadata": {
      "text/plain": ""
     },
     "output_type": "execute_result"
    }
   ],
   "source": [
    "idealExtensionsOfNS:=function(S,debug)\n",
    "    local pfS,k,msgS,msgDeltaNS,DeltaNS,lIdealExtensions,\\\n",
    "    lpfs,pfs,DeltaAux;\n",
    "    lIdealExtensions:=[];\n",
    "    # lmsgIdealExtensions:=[];\n",
    "    msgS:=MinimalGeneratingSystemOfNumericalSemigroup(S);\n",
    "    pfS:=PseudoFrobeniusOfNumericalSemigroup(S);\n",
    "    if debug then \n",
    "        Print(msgS,\" \",pfS,\"\\n\");\n",
    "    fi;\n",
    "    for k in [1..Length(pfS)] do\n",
    "        lpfs:=Combinations(pfS,k);\n",
    "        if debug then \n",
    "            Print(\"\\n -- combinaciones \",k,\" :\",lpfs,\"\\n\");\n",
    "        fi;\n",
    "        for pfs in lpfs do\n",
    "            msgDeltaNS:=[];\n",
    "            if debug then \n",
    "                Print(\"\\npfs:\",pfs);\n",
    "            fi;\n",
    "            Append(msgDeltaNS,msgS);\n",
    "            Append(msgDeltaNS,pfs);\n",
    "            if debug then \n",
    "                Print(\"\\n\",msgDeltaNS);\n",
    "            fi;\n",
    "            DeltaNS:=NumericalSemigroup(msgDeltaNS);\n",
    "            msgDeltaNS:=MinimalGeneratingSystemOfNumericalSemigroup(DeltaNS);\n",
    "            if debug then \n",
    "                Print(\"\\nmsgDeltaNS:\",msgDeltaNS,\"\\n\");\n",
    "            fi;\n",
    "            # if not msgDeltaNS in lmsgIdealExtensions then\n",
    "            if not DeltaNS in lIdealExtensions then\n",
    "                # Append(lmsgIdealExtensions,[msgDeltaNS]);\n",
    "                DeltaAux:=NumericalSemigroup(msgDeltaNS);\n",
    "                Append(lIdealExtensions,[DeltaAux]);\n",
    "            else\n",
    "                if debug then \n",
    "                    Print(\"no añadido\\n\");\n",
    "                fi;\n",
    "            fi;\n",
    "        od;\n",
    "    od;\n",
    "    if debug then \n",
    "        Print(\"\\nmsg Ideal Extensions: \",\\\n",
    "        List(lIdealExtensions,x->MinimalGeneratingSystemOfNumericalSemigroup(x)));\n",
    "    fi;\n",
    "    return lIdealExtensions;\n",
    "end;"
   ]
  },
  {
   "cell_type": "code",
   "execution_count": 80,
   "id": "faba3f6b-e816-4ed5-bda1-89e7aa0fccea",
   "metadata": {},
   "outputs": [
    {
     "data": {
      "text/plain": [
       "Numerical semigroup with 4 generators"
      ]
     },
     "execution_count": 78,
     "metadata": {
      "text/plain": ""
     },
     "output_type": "execute_result"
    },
    {
     "data": {
      "text/plain": [
       "[ [ 3, 5 ], [ 4, 5, 6 ], [ 5, 6, 7, 8, 9 ], [ 3, 4, 5 ], [ 3, 5, 7 ], [ 4, 5, 6, 7 ] ]"
      ]
     },
     "execution_count": 80,
     "metadata": {
      "text/plain": ""
     },
     "output_type": "execute_result"
    }
   ],
   "source": [
    "S:=NumericalSemigroup(5,6,8,9,10,11,12);\n",
    "lDeltas:=idealExtensionsOfNS(S,false);;\n",
    "List(lDeltas,x->MinimalGeneratingSystemOfNumericalSemigroup(x));"
   ]
  },
  {
   "cell_type": "code",
   "execution_count": 13,
   "id": "dd3cf6fd-5d5f-4136-81c5-783d99cef2f0",
   "metadata": {},
   "outputs": [
    {
     "data": {
      "text/plain": [
       "Numerical semigroup with 4 generators"
      ]
     },
     "execution_count": 11,
     "metadata": {
      "text/plain": ""
     },
     "output_type": "execute_result"
    },
    {
     "data": {
      "text/plain": [
       "[ Numerical semigroup with 2 generators, Numerical semigroup with 3 generators, Numerical semigroup with 5 generators, Numerical semigroup with 3 generators, Numerical semigroup with 3 generators, Numerical semigroup with 4 generators ]"
      ]
     },
     "execution_count": 12,
     "metadata": {
      "text/plain": ""
     },
     "output_type": "execute_result"
    },
    {
     "data": {
      "text/plain": [
       "[ true, true, true, true, true, true ]"
      ]
     },
     "execution_count": 13,
     "metadata": {
      "text/plain": ""
     },
     "output_type": "execute_result"
    }
   ],
   "source": [
    "S:=NumericalSemigroup(5,6,8,9,10,11,12);\n",
    "lDeltas:=idealExtensionsOfNS(S,false);\n",
    "List(lDeltas,x->isDeltaIdealExtensionOfS(x,S));"
   ]
  },
  {
   "cell_type": "code",
   "execution_count": 16,
   "id": "41add8b7-e9f3-459e-9c88-5343bf3ff61c",
   "metadata": {},
   "outputs": [
    {
     "data": {
      "text/plain": [
       "Numerical semigroup with 4 generators"
      ]
     },
     "execution_count": 14,
     "metadata": {
      "text/plain": ""
     },
     "output_type": "execute_result"
    },
    {
     "data": {
      "text/plain": [
       "[ Numerical semigroup with 5 generators, Numerical semigroup with 5 generators, Numerical semigroup with 5 generators, Numerical semigroup with 6 generators, Numerical semigroup with 6 generators, Numerical semigroup with 6 generators, Numerical semigroup with 7 generators ]"
      ]
     },
     "execution_count": 15,
     "metadata": {
      "text/plain": ""
     },
     "output_type": "execute_result"
    },
    {
     "data": {
      "text/plain": [
       "[ true, true, true, true, true, true, true ]"
      ]
     },
     "execution_count": 16,
     "metadata": {
      "text/plain": ""
     },
     "output_type": "execute_result"
    }
   ],
   "source": [
    "S:=NumericalSemigroup(10,23,37,41);\n",
    "#S:=NumericalSemigroup(10,23,37);\n",
    "lDeltas:=idealExtensionsOfNS(S,false);\n",
    "List(lDeltas,x->isDeltaIdealExtensionOfS(x,S));"
   ]
  },
  {
   "cell_type": "code",
   "execution_count": 17,
   "id": "b8071d9c-1f8b-4002-aa4e-423f7bd94f14",
   "metadata": {},
   "outputs": [
    {
     "data": {
      "text/plain": [
       "function( A ) ... end"
      ]
     },
     "execution_count": 17,
     "metadata": {
      "text/plain": ""
     },
     "output_type": "execute_result"
    }
   ],
   "source": [
    "nonEmptySubsetsOfA:=function(A)\n",
    "    local k,lSubsets,lpfs;\n",
    "    lSubsets:=[];\n",
    "    for k in [1..Length(A)] do\n",
    "        lpfs:=Combinations(A,k);\n",
    "        Append(lSubsets,lpfs);\n",
    "    od;\n",
    "    return lSubsets;\n",
    "end;"
   ]
  },
  {
   "cell_type": "code",
   "execution_count": 18,
   "id": "87c43231-22ef-4b02-9a1b-a43eec791fe7",
   "metadata": {},
   "outputs": [
    {
     "data": {
      "text/plain": [
       "[ [ 11 ], [ 22 ], [ 33 ], [ 11, 22 ], [ 11, 33 ], [ 22, 33 ], [ 11, 22, 33 ] ]"
      ]
     },
     "execution_count": 18,
     "metadata": {
      "text/plain": ""
     },
     "output_type": "execute_result"
    }
   ],
   "source": [
    "nonEmptySubsetsOfA([11,22,33]);"
   ]
  },
  {
   "cell_type": "code",
   "execution_count": 19,
   "id": "b83cb307-493a-4038-b154-8e73a1143356",
   "metadata": {},
   "outputs": [
    {
     "data": {
      "text/plain": [
       "function( A, S, debug ) ... end"
      ]
     },
     "execution_count": 19,
     "metadata": {
      "text/plain": ""
     },
     "output_type": "execute_result"
    }
   ],
   "source": [
    "isPertinenSet:=function(A,S,debug)\n",
    "    local pfS,a,b,i,j;\n",
    "    pfS:=PseudoFrobeniusOfNumericalSemigroup(S);\n",
    "    if not IsSubsetSet(pfS,A) then \n",
    "        return false;\n",
    "    fi;\n",
    "    for i in [1..Length(A)] do\n",
    "        a:=A[i];\n",
    "        for j in [i..Length(A)] do\n",
    "            b:=A[j];\n",
    "            if ((a+b) in pfS) and (not (a+b) in A) then \n",
    "                if debug then\n",
    "                    Print(\"\\n\",A,\" fail with a=\",a,\" b=\",b);\n",
    "                fi;\n",
    "                return false;\n",
    "            fi;\n",
    "        od;\n",
    "    od;\n",
    "    return true;\n",
    "end;"
   ]
  },
  {
   "cell_type": "code",
   "execution_count": 22,
   "id": "84e83d85-1ce3-4ac4-b9b5-36ca1f62f3b6",
   "metadata": {},
   "outputs": [
    {
     "name": "stdout",
     "output_type": "stream",
     "text": [
      "\n",
      "[ 1, 4 ] fail with a=1 b=1"
     ]
    },
    {
     "data": {
      "text/plain": [
       "Numerical semigroup with 5 generators"
      ]
     },
     "execution_count": 20,
     "metadata": {
      "text/plain": ""
     },
     "output_type": "execute_result"
    },
    {
     "data": {
      "text/plain": [
       "[ 1, 2, 3, 4 ]"
      ]
     },
     "execution_count": 21,
     "metadata": {
      "text/plain": ""
     },
     "output_type": "execute_result"
    },
    {
     "data": {
      "text/plain": [
       "false"
      ]
     },
     "execution_count": 22,
     "metadata": {
      "text/plain": ""
     },
     "output_type": "execute_result"
    }
   ],
   "source": [
    "S:=NumericalSemigroup(5,6,7,8,9);\n",
    "PseudoFrobeniusOfNumericalSemigroup(S);\n",
    "isPertinenSet([1,4],S,true);"
   ]
  },
  {
   "cell_type": "code",
   "execution_count": 23,
   "id": "f71a8c4e-5ddf-4122-b401-9abadab55fec",
   "metadata": {},
   "outputs": [
    {
     "data": {
      "text/plain": [
       "function( S, debug ) ... end"
      ]
     },
     "execution_count": 23,
     "metadata": {
      "text/plain": ""
     },
     "output_type": "execute_result"
    }
   ],
   "source": [
    "pertinentSets:=function(S,debug)\n",
    "    local pfS,lSubsetsPFS;\n",
    "    pfS:=PseudoFrobeniusOfNumericalSemigroup(S);\n",
    "    if debug then\n",
    "        Print(\"PF(S)=\",pfS);\n",
    "    fi;\n",
    "    lSubsetsPFS:=nonEmptySubsetsOfA(pfS);\n",
    "    return Filtered(lSubsetsPFS,x->isPertinenSet(x,S,debug));\n",
    "end;"
   ]
  },
  {
   "cell_type": "code",
   "execution_count": 24,
   "id": "b6ad4170-9e5d-46ef-ae74-2e981938340d",
   "metadata": {},
   "outputs": [
    {
     "name": "stdout",
     "output_type": "stream",
     "text": [
      "PF(S)=[ 1, 2, 3, 4 ]\n",
      "[ 1 ] fail with a=1 b=1\n",
      "[ 2 ] fail with a=2 b=2\n",
      "[ 1, 2 ] fail with a=1 b=2\n",
      "[ 1, 3 ] fail with a=1 b=1\n",
      "[ 1, 4 ] fail with a=1 b=1\n",
      "[ 2, 3 ] fail with a=2 b=2\n",
      "[ 1, 2, 3 ] fail with a=1 b=3\n",
      "[ 1, 2, 4 ] fail with a=1 b=2\n",
      "[ 1, 3, 4 ] fail with a=1 b=1"
     ]
    },
    {
     "data": {
      "text/plain": [
       "[ [ 3 ], [ 4 ], [ 2, 4 ], [ 3, 4 ], [ 2, 3, 4 ], [ 1, 2, 3, 4 ] ]"
      ]
     },
     "execution_count": 24,
     "metadata": {
      "text/plain": ""
     },
     "output_type": "execute_result"
    }
   ],
   "source": [
    "pertinentSets(NumericalSemigroup(5,6,7,8,9),true);"
   ]
  },
  {
   "cell_type": "code",
   "execution_count": 25,
   "id": "f8e5246f-a54a-4d77-965a-68e8979eb050",
   "metadata": {},
   "outputs": [
    {
     "data": {
      "text/plain": [
       "function( S, debug ) ... end"
      ]
     },
     "execution_count": 25,
     "metadata": {
      "text/plain": ""
     },
     "output_type": "execute_result"
    }
   ],
   "source": [
    "idealExtensionsOfNS1:=function(S,debug)\n",
    "    local lpSets,msgS,lIExt,A;\n",
    "    lIExt:=[];\n",
    "    lpSets:=pertinentSets(S,debug);\n",
    "    if debug then\n",
    "        Print(\"\\nlpSets:\",lpSets);\n",
    "    fi;\n",
    "    msgS:=MinimalGeneratingSystemOfNumericalSemigroup(S);\n",
    "    for A in lpSets do\n",
    "        Append(lIExt,[NumericalSemigroup(Concatenation(msgS,A))]);\n",
    "    od;\n",
    "    return lIExt;\n",
    "end;"
   ]
  },
  {
   "cell_type": "code",
   "execution_count": 27,
   "id": "d21cbd05-c4b3-4e2d-bc78-e10d122b3ef9",
   "metadata": {},
   "outputs": [
    {
     "data": {
      "text/plain": [
       "Numerical semigroup with 3 generators"
      ]
     },
     "execution_count": 26,
     "metadata": {
      "text/plain": ""
     },
     "output_type": "execute_result"
    },
    {
     "data": {
      "text/plain": [
       "true"
      ]
     },
     "execution_count": 27,
     "metadata": {
      "text/plain": ""
     },
     "output_type": "execute_result"
    }
   ],
   "source": [
    "S:=NumericalSemigroup(10,17,19);\n",
    "#List( idealExtensionsOfNS1(S,false), x-> MinimalGeneratingSystemOfIdealOfNumericalSemigroup(x) );\n",
    "#List(  idealExtensionsOfNS(S,false), x-> MinimalGeneratingSystemOfIdealOfNumericalSemigroup(x) );\n",
    "Set(idealExtensionsOfNS1(S,false))=Set(idealExtensionsOfNS(S,false));"
   ]
  },
  {
   "cell_type": "code",
   "execution_count": 31,
   "id": "50536dae-6b0a-4d47-94ce-6d9bcbf33aa4",
   "metadata": {},
   "outputs": [
    {
     "data": {
      "text/plain": [
       "11"
      ]
     },
     "execution_count": 28,
     "metadata": {
      "text/plain": ""
     },
     "output_type": "execute_result"
    },
    {
     "data": {
      "text/plain": [
       "true"
      ]
     },
     "execution_count": 31,
     "metadata": {
      "text/plain": ""
     },
     "output_type": "execute_result"
    }
   ],
   "source": [
    "n:=11;\n",
    "lS:=NumericalSemigroupsWithFrobeniusNumber(n);;\n",
    "lAux:=List(lS,S->Set(idealExtensionsOfNS1(S,false))=Set(idealExtensionsOfNS(S,false)));;\n",
    "ForAll(lAux,x->x);"
   ]
  },
  {
   "cell_type": "code",
   "execution_count": 33,
   "id": "93e29b01-d3ae-4bef-b13c-ff83e1f4480c",
   "metadata": {},
   "outputs": [
    {
     "data": {
      "text/plain": [
       "Numerical semigroup with 2 generators"
      ]
     },
     "execution_count": 32,
     "metadata": {
      "text/plain": ""
     },
     "output_type": "execute_result"
    },
    {
     "data": {
      "text/plain": [
       "[ [ 5, 7, 23 ] ]"
      ]
     },
     "execution_count": 33,
     "metadata": {
      "text/plain": ""
     },
     "output_type": "execute_result"
    }
   ],
   "source": [
    "S:=NumericalSemigroup(5,7);\n",
    "List( idealExtensionsOfNS1(S,false),\n",
    "x->MinimalGeneratingSystemOfIdealOfNumericalSemigroup(x) );"
   ]
  },
  {
   "cell_type": "code",
   "execution_count": 35,
   "id": "0d6e3918-d1f0-4220-9943-7c4d17ca8277",
   "metadata": {},
   "outputs": [
    {
     "data": {
      "text/plain": [
       "Numerical semigroup with 3 generators"
      ]
     },
     "execution_count": 34,
     "metadata": {
      "text/plain": ""
     },
     "output_type": "execute_result"
    },
    {
     "data": {
      "text/plain": [
       "[ [ 5, 7, 16 ], [ 5, 7, 18 ], [ 5, 7, 16, 18 ] ]"
      ]
     },
     "execution_count": 35,
     "metadata": {
      "text/plain": ""
     },
     "output_type": "execute_result"
    }
   ],
   "source": [
    "S:=NumericalSemigroup(5,7,23);\n",
    "List( idealExtensionsOfNS1(S,false),\n",
    "x->MinimalGeneratingSystemOfIdealOfNumericalSemigroup(x) );"
   ]
  },
  {
   "cell_type": "code",
   "execution_count": 37,
   "id": "b5ffce67-3dd5-4e4b-92a8-6c2f685d9dae",
   "metadata": {},
   "outputs": [
    {
     "data": {
      "text/plain": [
       "Numerical semigroup with 3 generators"
      ]
     },
     "execution_count": 36,
     "metadata": {
      "text/plain": ""
     },
     "output_type": "execute_result"
    },
    {
     "data": {
      "text/plain": [
       "[ [ 5, 7, 16, 18 ], [ 5, 7, 9 ] ]"
      ]
     },
     "execution_count": 37,
     "metadata": {
      "text/plain": ""
     },
     "output_type": "execute_result"
    }
   ],
   "source": [
    "S:=NumericalSemigroup(5,7,16);\n",
    "List( idealExtensionsOfNS1(S,false),\n",
    "x->MinimalGeneratingSystemOfIdealOfNumericalSemigroup(x) );"
   ]
  },
  {
   "cell_type": "code",
   "execution_count": null,
   "id": "78c13308-ad34-428f-ac53-63e206c00ade",
   "metadata": {},
   "outputs": [],
   "source": []
  },
  {
   "cell_type": "code",
   "execution_count": 40,
   "id": "0c34b504-1d9f-496d-a4fd-6514e74d8b2b",
   "metadata": {},
   "outputs": [
    {
     "data": {
      "text/plain": [
       "function( S, debug, debug1, debug2 ) ... end"
      ]
     },
     "execution_count": 40,
     "metadata": {
      "text/plain": ""
     },
     "output_type": "execute_result"
    }
   ],
   "source": [
    "chainWithPFnumbers:=function(S,debug,debug1,debug2)\n",
    "    local sg,Nat,Saux,lS,smallsE,a,PFSaux;\n",
    "    a:=Float(FrobeniusNumber(S)/MultiplicityOfNumericalSemigroup(S));\n",
    "    sg:=List(MinimalGeneratingSystemOfNumericalSemigroup(S));\n",
    "    Nat:=NumericalSemigroup(1);\n",
    "    S:=NumericalSemigroup(sg);\n",
    "    Saux:=NumericalSemigroup(sg);\n",
    "    lS:=[S];\n",
    "    while Saux<>Nat do\n",
    "        PFSaux:=PseudoFrobeniusOfNumericalSemigroup(Saux);\n",
    "        smallsE:=List( SmallElementsOfNumericalSemigroup(Saux) );\n",
    "        if debug1 then \n",
    "            Print(\"\\nmsg Saux:\",MinimalGeneratingSystemOfNumericalSemigroup(Saux));\n",
    "            Print(\"\\nPFSaux\",PFSaux);\n",
    "            Print(\"\\nsmallsE:\",smallsE,\"\\n\");\n",
    "        fi;\n",
    "        Append(smallsE,PFSaux);\n",
    "        Sort(smallsE);\n",
    "        Saux:=NumericalSemigroupBySmallElements(smallsE);\n",
    "        Append(lS,[Saux]);\n",
    "    od;\n",
    "    if debug1 then\n",
    "        Print(List(lS,x->SmallElementsOfNumericalSemigroup(x)));\n",
    "        Print(\"\\nLenght obtained: \",Length(lS)-1);\n",
    "        Print(\"\\nBound of Th 20: \",Floor(a)+1);\n",
    "    fi;\n",
    "    if debug then \n",
    "        return [lS,Float(Length(lS)-1)=Floor(a)+1];\n",
    "    fi;\n",
    "    if debug2 then\n",
    "        return Float(Length(lS)-1)=Floor(a)+1;\n",
    "    fi;\n",
    "    return lS;\n",
    "end;"
   ]
  },
  {
   "cell_type": "code",
   "execution_count": 41,
   "id": "205fc637-cf4b-47db-9898-f2a3a37bb260",
   "metadata": {},
   "outputs": [
    {
     "data": {
      "text/plain": [
       "[ true, true, true, true, true, false, false, true, true, false, true, true, true, true, true, true, true, true, true, true, true, true, true, false, true, true, true, false, true, false, true, false, false, false, true, true, true, true, true, false, true, false, true, true, true, false, true, true, true, true, true ]"
      ]
     },
     "execution_count": 41,
     "metadata": {
      "text/plain": ""
     },
     "output_type": "execute_result"
    }
   ],
   "source": [
    "List(NumericalSemigroupsWithFrobeniusNumber(11),\n",
    "    x->chainWithPFnumbers(x,false,false,true));"
   ]
  },
  {
   "cell_type": "code",
   "execution_count": 44,
   "id": "1fc596cd-e7c3-4f27-94d8-5f9a3f53fb2d",
   "metadata": {},
   "outputs": [
    {
     "data": {
      "text/plain": [
       "Numerical semigroup with 2 generators"
      ]
     },
     "execution_count": 42,
     "metadata": {
      "text/plain": ""
     },
     "output_type": "execute_result"
    },
    {
     "data": {
      "text/plain": [
       "true"
      ]
     },
     "execution_count": 43,
     "metadata": {
      "text/plain": ""
     },
     "output_type": "execute_result"
    },
    {
     "data": {
      "text/plain": [
       "41"
      ]
     },
     "execution_count": 44,
     "metadata": {
      "text/plain": ""
     },
     "output_type": "execute_result"
    }
   ],
   "source": [
    "S:=NumericalSemigroup(7,8);\n",
    "chainWithPFnumbers(S,false,false,true);\n",
    "FrobeniusNumber(S);"
   ]
  },
  {
   "cell_type": "code",
   "execution_count": 65,
   "id": "20ddcf4a-328c-4d6b-9c01-733f210d1d1f",
   "metadata": {},
   "outputs": [
    {
     "name": "stdout",
     "output_type": "stream",
     "text": [
      "\n",
      "msg Saux:[ 10, 15, 21, 22, 23, 24, 26, 27, 28, 29 ]\n",
      "PFSaux[ 5, 11, 12, 13, 14, 16, 17, 18, 19 ]\n",
      "smallsE:[ 0, 10, 15, 20 ]\n",
      "\n",
      "msg Saux:[ 5, 11, 12, 13, 14 ]\n",
      "PFSaux[ 6, 7, 8, 9 ]\n",
      "smallsE:[ 0, 5, 10 ]\n",
      "\n",
      "msg Saux:[ 5 .. 9 ]\n",
      "PFSaux[ 1, 2, 3, 4 ]\n",
      "smallsE:[ 0, 5 ]\n",
      "[ [ 0, 10, 15, 20 ], [ 0, 5, 10 ], [ 0, 5 ], [ 0 ] ]\n",
      "Lenght obtained: 3\n",
      "Bound of Th 20: 2."
     ]
    },
    {
     "data": {
      "text/plain": [
       "5"
      ]
     },
     "execution_count": 62,
     "metadata": {
      "text/plain": ""
     },
     "output_type": "execute_result"
    },
    {
     "data": {
      "text/plain": [
       "Numerical semigroup with 10 generators"
      ]
     },
     "execution_count": 63,
     "metadata": {
      "text/plain": ""
     },
     "output_type": "execute_result"
    },
    {
     "data": {
      "text/plain": [
       "[ [ Numerical semigroup with 10 generators, Numerical semigroup with 5 generators, Numerical semigroup with 5 generators, The numerical semigroup N ], false ]"
      ]
     },
     "execution_count": 64,
     "metadata": {
      "text/plain": ""
     },
     "output_type": "execute_result"
    },
    {
     "data": {
      "text/plain": [
       "19"
      ]
     },
     "execution_count": 65,
     "metadata": {
      "text/plain": ""
     },
     "output_type": "execute_result"
    }
   ],
   "source": [
    "k:=5;\n",
    "S:=NumericalSemigroupBySmallElements([0,2*k,3*k,4*k]);\n",
    "chainWithPFnumbers(S,true,true,true);\n",
    "FrobeniusNumber(S);"
   ]
  },
  {
   "cell_type": "code",
   "execution_count": 52,
   "id": "80a02b13-7c05-466a-b8a7-1a495a1e1566",
   "metadata": {},
   "outputs": [
    {
     "name": "stdout",
     "output_type": "stream",
     "text": [
      "\n",
      "msg Saux:[ 4, 6, 9, 11 ]\n",
      "PFSaux[ 2, 5, 7 ]\n",
      "smallsE:[ 0, 4, 6, 8 ]\n",
      "\n",
      "msg Saux:[ 2, 5 ]\n",
      "PFSaux[ 3 ]\n",
      "smallsE:[ 0, 2, 4 ]\n",
      "\n",
      "msg Saux:[ 2, 3 ]\n",
      "PFSaux[ 1 ]\n",
      "smallsE:[ 0, 2 ]\n",
      "[ [ 0, 4, 6, 8 ], [ 0, 2, 4 ], [ 0, 2 ], [ 0 ] ]\n",
      "Lenght obtained: 3\n",
      "Bound of Th 20: 2."
     ]
    },
    {
     "data": {
      "text/plain": [
       "Numerical semigroup with 4 generators"
      ]
     },
     "execution_count": 50,
     "metadata": {
      "text/plain": ""
     },
     "output_type": "execute_result"
    },
    {
     "data": {
      "text/plain": [
       "[ [ Numerical semigroup with 4 generators, Numerical semigroup with 2 generators, Numerical semigroup with 2 generators, The numerical semigroup N ], false ]"
      ]
     },
     "execution_count": 51,
     "metadata": {
      "text/plain": ""
     },
     "output_type": "execute_result"
    },
    {
     "data": {
      "text/plain": [
       "7"
      ]
     },
     "execution_count": 52,
     "metadata": {
      "text/plain": ""
     },
     "output_type": "execute_result"
    }
   ],
   "source": [
    "S:=NumericalSemigroup(4,6,9,11);\n",
    "chainWithPFnumbers(S,true,true,true);\n",
    "FrobeniusNumber(S);"
   ]
  },
  {
   "cell_type": "code",
   "execution_count": null,
   "id": "5b67fa8a-d424-42d0-a106-65f4d9be1ec1",
   "metadata": {},
   "outputs": [],
   "source": [
    "S:=NumericalSemigroup(4,6,9,11);\n",
    "chainWithPFnumbers(S,true,true);\n",
    "FrobeniusNumber(S);"
   ]
  },
  {
   "cell_type": "code",
   "execution_count": 196,
   "id": "5c6c5f20-14b1-44db-8fb8-658200e3b72a",
   "metadata": {},
   "outputs": [
    {
     "data": {
      "text/plain": [
       "Numerical semigroup with 5 generators"
      ]
     },
     "execution_count": 194,
     "metadata": {
      "text/plain": ""
     },
     "output_type": "execute_result"
    },
    {
     "data": {
      "text/plain": [
       "[ [ Numerical semigroup with 5 generators, Numerical semigroup with 2 generators, Numerical semigroup with 2 generators, The numerical semigroup N ], false ]"
      ]
     },
     "execution_count": 195,
     "metadata": {
      "text/plain": ""
     },
     "output_type": "execute_result"
    },
    {
     "data": {
      "text/plain": [
       "8"
      ]
     },
     "execution_count": 196,
     "metadata": {
      "text/plain": ""
     },
     "output_type": "execute_result"
    }
   ],
   "source": [
    "S:=NumericalSemigroup(5, 7, 9, 11, 13);\n",
    "chainWithPFnumbers(S,true,false);\n",
    "FrobeniusNumber(S);"
   ]
  },
  {
   "cell_type": "code",
   "execution_count": 201,
   "id": "23d20b8c-e50d-44dd-9778-2bd83ac405cf",
   "metadata": {},
   "outputs": [
    {
     "name": "stdout",
     "output_type": "stream",
     "text": [
      "\n",
      "n=2\n",
      "n=3\n",
      "n=4\n",
      "n=5\n",
      "n=6\n",
      "n=7\n",
      "NumericalSemigroup( [ 4, 6, 9, 11 ] )\n",
      "\n",
      "n=8\n",
      "NumericalSemigroup( [ 5, 7, 9, 11, 13 ] )\n",
      "\n",
      "n=9\n",
      "NumericalSemigroup( [ 4, 6, 10, 11, 12, 13 ] )\n",
      "\n",
      "NumericalSemigroup( [ 5, 7, 8, 11 ] )\n",
      "\n",
      "NumericalSemigroup( [ 5, 8, 11, 12, 14 ] )\n",
      "\n",
      "NumericalSemigroup( [ 6, 8, 10, 11, 13, 15 ] )\n",
      "\n",
      "n=10\n",
      "NumericalSemigroup( [ 6, 8, 9, 11, 13 ] )\n",
      "\n",
      "NumericalSemigroup( [ 6, 9, 11, 13, 14, 16 ] )\n",
      "\n",
      "NumericalSemigroup( [ 7, 9, 11, 12, 13, 15, 17 ] )\n",
      "\n",
      "n=11\n",
      "NumericalSemigroup( [ 4, 6, 9 ] )\n",
      "\n",
      "NumericalSemigroup( [ 4, 6, 10, 12, 13, 14, 15 ] )\n",
      "\n",
      "NumericalSemigroup( [ 4, 10, 12, 13, 14, 15 ] )\n",
      "\n",
      "NumericalSemigroup( [ 6, 7, 9, 10 ] )\n",
      "\n",
      "NumericalSemigroup( [ 6, 8, 9, 10, 13 ] )\n",
      "\n",
      "NumericalSemigroup( [ 6, 8, 10, 13, 15, 17 ] )\n",
      "\n",
      "NumericalSemigroup( [ 6, 9, 10, 13, 14, 17 ] )\n",
      "\n",
      "NumericalSemigroup( [ 6, 9, 13, 14, 16, 17 ] )\n",
      "\n",
      "NumericalSemigroup( [ 6, 10, 13, 14, 15, 17 ] )\n",
      "\n",
      "NumericalSemigroup( [ 7, 9, 10, 12, 13, 15 ] )\n",
      "\n",
      "NumericalSemigroup( [ 7, 10, 12, 13, 15, 16, 18 ] )\n",
      "\n",
      "NumericalSemigroup( [ 8, 10, 12, 13, 14, 15, 17, 19 ] )\n"
     ]
    }
   ],
   "source": [
    "for n in [2..11] do\n",
    "    Print(\"\\nn=\",n);\n",
    "    lS:=NumericalSemigroupsWithFrobeniusNumber(n);;\n",
    "    for S in lS do\n",
    "        lR:=chainWithPFnumbers(S,true,false);\n",
    "        if lR[2]=false then \n",
    "            Print(\"\\n\",S);\n",
    "        fi;\n",
    "    od;\n",
    "od;"
   ]
  },
  {
   "cell_type": "code",
   "execution_count": 162,
   "id": "28d2c7f3-1749-4938-bfab-600e3ad1d077",
   "metadata": {},
   "outputs": [
    {
     "data": {
      "text/plain": [
       "0.714286"
      ]
     },
     "execution_count": 161,
     "metadata": {
      "text/plain": ""
     },
     "output_type": "execute_result"
    },
    {
     "data": {
      "text/plain": [
       "0."
      ]
     },
     "execution_count": 162,
     "metadata": {
      "text/plain": ""
     },
     "output_type": "execute_result"
    }
   ],
   "source": [
    "a:=Float(5/7);\n",
    "Floor(a);"
   ]
  },
  {
   "cell_type": "code",
   "execution_count": null,
   "id": "3e81f053-c60a-41c7-94cf-24009c5a269d",
   "metadata": {},
   "outputs": [],
   "source": []
  }
 ],
 "metadata": {
  "kernelspec": {
   "display_name": "GAP 4",
   "language": "gap",
   "name": "gap-4"
  },
  "language_info": {
   "codemirror_mode": "gap",
   "file_extension": ".g",
   "mimetype": "text/x-gap",
   "name": "GAP 4",
   "nbconvert_exporter": "",
   "pygments_lexer": "gap",
   "version": "4.11.1"
  }
 },
 "nbformat": 4,
 "nbformat_minor": 5
}

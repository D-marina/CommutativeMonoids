{
 "cells": [
  {
   "cell_type": "markdown",
   "id": "78b4e479-4e92-4c6e-8d75-8a633c26c09d",
   "metadata": {},
   "source": [
    "# Complexity of a Numerical Semigroup functions"
   ]
  },
  {
   "cell_type": "markdown",
   "id": "03de186b-23da-4585-b2cb-4cb71f514818",
   "metadata": {
    "tags": []
   },
   "source": [
    "## Load libraries"
   ]
  },
  {
   "cell_type": "markdown",
   "id": "e83aa634-3f71-42b3-963e-65fcf7e67589",
   "metadata": {},
   "source": [
    "First, we load the package `numericalsgps`.\n",
    "You can consult the following help pages:\n",
    "* Listas: https://www.gap-system.org/Manuals/doc/ref/chap21.html#X805CA0B68029B47A\n",
    "* https://gap-packages.github.io/numericalsgps/doc/chap2.html#X8324E5D97DC2A801"
   ]
  },
  {
   "cell_type": "code",
   "execution_count": null,
   "id": "d78aefea-b354-4e01-99e1-1897f9bb553b",
   "metadata": {},
   "outputs": [
    {
     "data": {
      "text/plain": [
       "true"
      ]
     },
     "execution_count": 1,
     "metadata": {
      "text/plain": ""
     },
     "output_type": "execute_result"
    }
   ],
   "source": [
    "LoadPackage(\"numericalsgps\");"
   ]
  },
  {
   "cell_type": "markdown",
   "id": "c5bc29c6-9557-42fc-8081-221e3a272395",
   "metadata": {
    "jp-MarkdownHeadingCollapsed": true,
    "tags": []
   },
   "source": [
    "## Function `Ideal2NS`\n",
    "The function `Ideal2NS` returns the numerical semigroup $\\{0\\}\\cup (sgI + S)$"
   ]
  },
  {
   "cell_type": "code",
   "execution_count": null,
   "id": "f1dc456b-aa65-4603-bc67-a06594f79a5c",
   "metadata": {},
   "outputs": [
    {
     "data": {
      "text/plain": [
       "function( sgI, S ) ... end"
      ]
     },
     "execution_count": 2,
     "metadata": {
      "text/plain": ""
     },
     "output_type": "execute_result"
    }
   ],
   "source": [
    "Ideal2NS:=function(sgI,S)\n",
    "    local smallElementsOfI,smallS,NS_I,x,minimumSGI,FS;\n",
    "    FS:=FrobeniusNumber(S);\n",
    "    minimumSGI:=Minimum(sgI);\n",
    "    smallS:=SmallElements(S);\n",
    "    smallElementsOfI:=[0];\n",
    "    for x in sgI do\n",
    "        Append(smallElementsOfI,x+smallS);\n",
    "    od;\n",
    "    smallElementsOfI:=Filtered(smallElementsOfI,x->x<=minimumSGI+FS+1);\n",
    "    smallElementsOfI:=List(Set(smallElementsOfI));\n",
    "    Sort(smallElementsOfI);\n",
    "    NS_I:=NumericalSemigroupBySmallElements(smallElementsOfI);\n",
    "    return NS_I;\n",
    "end;"
   ]
  },
  {
   "cell_type": "markdown",
   "id": "9efa5bc5-385d-4ff5-bba3-b15fa01223c6",
   "metadata": {
    "tags": []
   },
   "source": [
    "### Example"
   ]
  },
  {
   "cell_type": "code",
   "execution_count": 5,
   "id": "fca81816-bf06-4ebf-96af-9d060591c14a",
   "metadata": {},
   "outputs": [
    {
     "name": "stdout",
     "output_type": "stream",
     "text": [
      "NumericalSemigroup( [ 5, 8, 9, 11, 12 ] )\n"
     ]
    }
   ],
   "source": [
    "DeltaNS:=NumericalSemigroup(3,4,5);;\n",
    "S:=Ideal2NS([5,12],DeltaNS);;\n",
    "Print(S);"
   ]
  },
  {
   "cell_type": "markdown",
   "id": "d2844aff-332a-483e-8379-dcc6601ac959",
   "metadata": {
    "jp-MarkdownHeadingCollapsed": true,
    "tags": []
   },
   "source": [
    "## Function `isDeltaIdealExtensionOfS`\n",
    "For $Delta$ and $S$ two numerical semigroups, the function returns true if $Delta$ is an ideal extensions of $S$"
   ]
  },
  {
   "cell_type": "code",
   "execution_count": null,
   "id": "c3aaf4fa-fa8f-4275-a556-0c58160b9f7a",
   "metadata": {},
   "outputs": [
    {
     "data": {
      "text/plain": [
       "function( Delta, S ) ... end"
      ]
     },
     "execution_count": 6,
     "metadata": {
      "text/plain": ""
     },
     "output_type": "execute_result"
    }
   ],
   "source": [
    "isDeltaIdealExtensionOfS:=function(Delta,S)\n",
    "    local pfS,msgS,msgDelta,x;\n",
    "    msgS:=MinimalGeneratingSystemOfNumericalSemigroup(S);\n",
    "    msgDelta:=MinimalGeneratingSystemOfNumericalSemigroup(Delta);\n",
    "    for x in msgS do\n",
    "        if not BelongsToNumericalSemigroup(x,Delta) then\n",
    "            return false;\n",
    "        fi;\n",
    "    od;\n",
    "    pfS:=PseudoFrobeniusOfNumericalSemigroup(S);\n",
    "    for x in msgDelta do\n",
    "        if not BelongsToNumericalSemigroup(x,S) and not x in pfS then\n",
    "            return false;\n",
    "        fi;\n",
    "    od;\n",
    "    return true;\n",
    "end;"
   ]
  },
  {
   "cell_type": "markdown",
   "id": "a3c23b0b-58e4-432e-a8aa-40d6292d4089",
   "metadata": {
    "jp-MarkdownHeadingCollapsed": true,
    "tags": []
   },
   "source": [
    "### Example"
   ]
  },
  {
   "cell_type": "code",
   "execution_count": null,
   "id": "ae34af95-33c2-4e2b-9239-ea7ba1e5c109",
   "metadata": {},
   "outputs": [
    {
     "data": {
      "text/plain": [
       "true"
      ]
     },
     "execution_count": 10,
     "metadata": {
      "text/plain": ""
     },
     "output_type": "execute_result"
    }
   ],
   "source": [
    "DeltaNS:=NumericalSemigroup(3,4,5);;\n",
    "SmallElements(DeltaNS);;\n",
    "S:=Ideal2NS([5,12],DeltaNS);;\n",
    "isDeltaIdealExtensionOfS(DeltaNS,S);"
   ]
  },
  {
   "cell_type": "markdown",
   "id": "8cdac7cf-e057-4acf-9045-bfecb81c9d8d",
   "metadata": {
    "jp-MarkdownHeadingCollapsed": true,
    "tags": []
   },
   "source": [
    "## Function `idealExtensionsOfNS`\n",
    "Returns a list all numerical semigroups that are ideal extensions a numerical semigroup $S$.\n",
    "It uses the auxiliary function:\n",
    "* nonEmptySubsetsOfA (returns the list of nonempty subsets of a set $A$)\n",
    "* isPertinenSet (check if a subset of the Frobenius numbers of a numerical semigroup is a pertinent set or not)\n",
    "* pertinentSets (returns the list of pertinent sets of a numerical semigroup)"
   ]
  },
  {
   "cell_type": "code",
   "execution_count": 11,
   "id": "b8071d9c-1f8b-4002-aa4e-423f7bd94f14",
   "metadata": {},
   "outputs": [
    {
     "data": {
      "text/plain": [
       "function( A ) ... end"
      ]
     },
     "execution_count": 11,
     "metadata": {
      "text/plain": ""
     },
     "output_type": "execute_result"
    }
   ],
   "source": [
    "nonEmptySubsetsOfA:=function(A)\n",
    "    local k,lSubsets,lpfs;\n",
    "    lSubsets:=[];\n",
    "    for k in [1..Length(A)] do\n",
    "        lpfs:=Combinations(A,k);\n",
    "        Append(lSubsets,lpfs);\n",
    "    od;\n",
    "    return lSubsets;\n",
    "end;"
   ]
  },
  {
   "cell_type": "code",
   "execution_count": null,
   "id": "87c43231-22ef-4b02-9a1b-a43eec791fe7",
   "metadata": {},
   "outputs": [
    {
     "data": {
      "text/plain": [
       "[ [ 11 ], [ 22 ], [ 33 ], [ 11, 22 ], [ 11, 33 ], [ 22, 33 ], [ 11, 22, 33 ] ]"
      ]
     },
     "execution_count": 12,
     "metadata": {
      "text/plain": ""
     },
     "output_type": "execute_result"
    }
   ],
   "source": [
    "nonEmptySubsetsOfA([11,22,33]);"
   ]
  },
  {
   "cell_type": "code",
   "execution_count": null,
   "id": "b83cb307-493a-4038-b154-8e73a1143356",
   "metadata": {},
   "outputs": [
    {
     "data": {
      "text/plain": [
       "function( A, S ) ... end"
      ]
     },
     "execution_count": 13,
     "metadata": {
      "text/plain": ""
     },
     "output_type": "execute_result"
    }
   ],
   "source": [
    "isPertinenSet:=function(A,S)\n",
    "    local pfS,a,b,i,j;\n",
    "    pfS:=PseudoFrobeniusOfNumericalSemigroup(S);\n",
    "    if not IsSubsetSet(pfS,A) then \n",
    "        return false;\n",
    "    fi;\n",
    "    for i in [1..Length(A)] do\n",
    "        a:=A[i];\n",
    "        for j in [i..Length(A)] do\n",
    "            b:=A[j];\n",
    "            if ((a+b) in pfS) and (not (a+b) in A) then \n",
    "                return false;\n",
    "            fi;\n",
    "        od;\n",
    "    od;\n",
    "    return true;\n",
    "end;"
   ]
  },
  {
   "cell_type": "code",
   "execution_count": 16,
   "id": "84e83d85-1ce3-4ac4-b9b5-36ca1f62f3b6",
   "metadata": {},
   "outputs": [
    {
     "data": {
      "text/plain": [
       "Numerical semigroup with 5 generators"
      ]
     },
     "execution_count": 14,
     "metadata": {
      "text/plain": ""
     },
     "output_type": "execute_result"
    },
    {
     "data": {
      "text/plain": [
       "[ 1, 2, 3, 4 ]"
      ]
     },
     "execution_count": 15,
     "metadata": {
      "text/plain": ""
     },
     "output_type": "execute_result"
    },
    {
     "data": {
      "text/plain": [
       "false"
      ]
     },
     "execution_count": 16,
     "metadata": {
      "text/plain": ""
     },
     "output_type": "execute_result"
    }
   ],
   "source": [
    "S:=NumericalSemigroup(5,6,7,8,9);\n",
    "PseudoFrobeniusOfNumericalSemigroup(S);\n",
    "isPertinenSet([1,4],S);"
   ]
  },
  {
   "cell_type": "code",
   "execution_count": null,
   "id": "f71a8c4e-5ddf-4122-b401-9abadab55fec",
   "metadata": {},
   "outputs": [
    {
     "data": {
      "text/plain": [
       "function( S ) ... end"
      ]
     },
     "execution_count": 17,
     "metadata": {
      "text/plain": ""
     },
     "output_type": "execute_result"
    }
   ],
   "source": [
    "pertinentSets:=function(S)\n",
    "    local pfS,lSubsetsPFS;\n",
    "    pfS:=PseudoFrobeniusOfNumericalSemigroup(S);\n",
    "    lSubsetsPFS:=nonEmptySubsetsOfA(pfS);\n",
    "    return Filtered(lSubsetsPFS,x->isPertinenSet(x,S));\n",
    "end;"
   ]
  },
  {
   "cell_type": "code",
   "execution_count": null,
   "id": "b6ad4170-9e5d-46ef-ae74-2e981938340d",
   "metadata": {},
   "outputs": [
    {
     "data": {
      "text/plain": [
       "[ [ 3 ], [ 4 ], [ 2, 4 ], [ 3, 4 ], [ 2, 3, 4 ], [ 1, 2, 3, 4 ] ]"
      ]
     },
     "execution_count": 18,
     "metadata": {
      "text/plain": ""
     },
     "output_type": "execute_result"
    }
   ],
   "source": [
    "pertinentSets(NumericalSemigroup(5,6,7,8,9));"
   ]
  },
  {
   "cell_type": "code",
   "execution_count": 19,
   "id": "f8e5246f-a54a-4d77-965a-68e8979eb050",
   "metadata": {},
   "outputs": [
    {
     "data": {
      "text/plain": [
       "function( S ) ... end"
      ]
     },
     "execution_count": 19,
     "metadata": {
      "text/plain": ""
     },
     "output_type": "execute_result"
    }
   ],
   "source": [
    "idealExtensionsOfNS:=function(S)\n",
    "    local lpSets,msgS,lIExt,A;\n",
    "    lIExt:=[];\n",
    "    lpSets:=pertinentSets(S);\n",
    "    msgS:=MinimalGeneratingSystemOfNumericalSemigroup(S);\n",
    "    for A in lpSets do\n",
    "        Append(lIExt,[NumericalSemigroup(Concatenation(msgS,A))]);\n",
    "    od;\n",
    "    return lIExt;\n",
    "end;"
   ]
  },
  {
   "cell_type": "markdown",
   "id": "9fdad875-4b1a-4881-8350-120f308cfc51",
   "metadata": {},
   "source": [
    "### Examples"
   ]
  },
  {
   "cell_type": "code",
   "execution_count": 26,
   "id": "d21cbd05-c4b3-4e2d-bc78-e10d122b3ef9",
   "metadata": {},
   "outputs": [
    {
     "name": "stdout",
     "output_type": "stream",
     "text": [
      "[ NumericalSemigroup( [ 10, 17, 19, 41 ] )\n",
      "    , NumericalSemigroup( [ 10, 17, 19, 62 ] )\n",
      "    , NumericalSemigroup( [ 10, 17, 19, 41, 62 ] )\n",
      "     ]"
     ]
    }
   ],
   "source": [
    "S:=NumericalSemigroup(10,17,19);;\n",
    "Print( idealExtensionsOfNS(S) );"
   ]
  },
  {
   "cell_type": "code",
   "execution_count": null,
   "id": "93e29b01-d3ae-4bef-b13c-ff83e1f4480c",
   "metadata": {},
   "outputs": [
    {
     "data": {
      "text/plain": [
       "[ [ 3, 5 ], [ 4, 5, 6 ], [ 5, 6, 7, 8, 9 ], [ 3, 5, 7 ], [ 4, 5, 6, 7 ], [ 3, 4, 5 ] ]"
      ]
     },
     "execution_count": 29,
     "metadata": {
      "text/plain": ""
     },
     "output_type": "execute_result"
    }
   ],
   "source": [
    "S:=NumericalSemigroup(5,6,8,9,10,11,12);;\n",
    "lDeltas:=idealExtensionsOfNS(S);;\n",
    "List( lDeltas , x->MinimalGeneratingSystemOfNumericalSemigroup(x) );"
   ]
  },
  {
   "cell_type": "markdown",
   "id": "01dd8bb6-9a1b-4331-9111-2b4ea8f8f961",
   "metadata": {
    "jp-MarkdownHeadingCollapsed": true,
    "tags": []
   },
   "source": [
    "## Function `chainGamma`\n",
    "This function returns the list of numerical semigroup that form the chain with the function $\\gamma$"
   ]
  },
  {
   "cell_type": "code",
   "execution_count": null,
   "id": "78c13308-ad34-428f-ac53-63e206c00ade",
   "metadata": {},
   "outputs": [
    {
     "data": {
      "text/plain": [
       "function( S ) ... end"
      ]
     },
     "execution_count": 30,
     "metadata": {
      "text/plain": ""
     },
     "output_type": "execute_result"
    }
   ],
   "source": [
    "chainGamma:=function(S)\n",
    "    local lS,a,m,smalls,smalls1,Saux,Nat;\n",
    "    Nat:=NumericalSemigroup(1);\n",
    "    lS:=[];\n",
    "    Saux:=NumericalSemigroup(MinimalGeneratingSystemOfNumericalSemigroup(S));\n",
    "    while Saux<>NumericalSemigroup(1) do\n",
    "        a:=Int(Floor( Float(FrobeniusNumber(Saux)/MultiplicityOfNumericalSemigroup(Saux))));\n",
    "        m:=MultiplicityOfNumericalSemigroup(Saux);\n",
    "        smalls:=SmallElementsOfNumericalSemigroup(Saux);\n",
    "        smalls1:=Filtered(smalls,x->x<=a*m);\n",
    "        Saux:=NumericalSemigroupBySmallElements(smalls1);\n",
    "        Append(lS,[Saux]);\n",
    "    od;\n",
    "    return lS;\n",
    "end;"
   ]
  },
  {
   "cell_type": "markdown",
   "id": "266ea310-7cda-4129-a670-890a91f110a3",
   "metadata": {},
   "source": [
    "### Example"
   ]
  },
  {
   "cell_type": "code",
   "execution_count": 32,
   "id": "8a312ef6-bc2f-4774-abdd-21d9fa942567",
   "metadata": {},
   "outputs": [
    {
     "data": {
      "text/plain": [
       "[ [ 5, 7, 23 ], [ 5, 7, 16, 18 ], [ 5, 7, 11, 13 ], [ 5, 6, 7, 8, 9 ], [ 1 ] ]"
      ]
     },
     "execution_count": 32,
     "metadata": {
      "text/plain": ""
     },
     "output_type": "execute_result"
    }
   ],
   "source": [
    "lGamma:=chainGamma(NumericalSemigroup(5,7));;\n",
    "List(lGamma,x->MinimalGeneratingSystemOfNumericalSemigroup(x));"
   ]
  },
  {
   "cell_type": "markdown",
   "id": "d6754d14-388c-4679-a613-1837991ae65d",
   "metadata": {
    "tags": []
   },
   "source": [
    "## Function `chainWithPFnumbers`"
   ]
  },
  {
   "cell_type": "code",
   "execution_count": 143,
   "id": "0c34b504-1d9f-496d-a4fd-6514e74d8b2b",
   "metadata": {},
   "outputs": [
    {
     "data": {
      "text/plain": [
       "function( S ) ... end"
      ]
     },
     "execution_count": 143,
     "metadata": {
      "text/plain": ""
     },
     "output_type": "execute_result"
    }
   ],
   "source": [
    "chainWithPFnumbers:=function(S)\n",
    "    local sg,Nat,Saux,lS,smallsE,a,PFSaux;\n",
    "    a:=Float(FrobeniusNumber(S)/MultiplicityOfNumericalSemigroup(S));\n",
    "    sg:=List(MinimalGeneratingSystemOfNumericalSemigroup(S));\n",
    "    Nat:=NumericalSemigroup(1);\n",
    "    S:=NumericalSemigroup(sg);\n",
    "    Saux:=NumericalSemigroup(sg);\n",
    "    lS:=[S];\n",
    "    while Saux<>Nat do\n",
    "        PFSaux:=PseudoFrobeniusOfNumericalSemigroup(Saux);\n",
    "        smallsE:=List( SmallElementsOfNumericalSemigroup(Saux) );\n",
    "        Append(smallsE,PFSaux);\n",
    "        Sort(smallsE);\n",
    "        Saux:=NumericalSemigroupBySmallElements(smallsE);\n",
    "        Append(lS,[Saux]);\n",
    "    od;\n",
    "    return [lS,Float(Length(lS)-1)=Floor(a)+1];\n",
    "end;"
   ]
  },
  {
   "cell_type": "code",
   "execution_count": null,
   "id": "1fc596cd-e7c3-4f27-94d8-5f9a3f53fb2d",
   "metadata": {},
   "outputs": [
    {
     "name": "stdout",
     "output_type": "stream",
     "text": [
      "[ ModularNumericalSemigroup( [ 8, 56 ] )\n",
      "    , NumericalSemigroup( [ 7, 8, 41 ] )\n",
      "    , NumericalSemigroup( [ 7, 8, 33, 34 ] )\n",
      "    , NumericalSemigroup( [ 7, 8, 25, 26, 27 ] )\n",
      "    , NumericalSemigroup( [ 7, 8, 17, 18, 19, 20 ] )\n",
      "    , NumericalSemigroup( [ 7 .. 13 ] )\n",
      "    , ModularNumericalSemigroup( [ 1, 2 ] )\n",
      "     ]\n",
      "Is the length of this chain equal to the complexity? true"
     ]
    }
   ],
   "source": [
    "S:=NumericalSemigroup(7,8);;\n",
    "chainpf:=chainWithPFnumbers(S);;\n",
    "Print( chainpf[1] );\n",
    "Print( \"\\nIs the length of this chain equal to the complexity? \", chainpf[2] );"
   ]
  },
  {
   "cell_type": "markdown",
   "id": "8e3ab81b-5e01-4775-8ccc-eab82bd6ce89",
   "metadata": {},
   "source": [
    "We see how many semigroups with Frobenius number $11$ reach the complexity with kind of chains"
   ]
  },
  {
   "cell_type": "code",
   "execution_count": 148,
   "id": "205fc637-cf4b-47db-9898-f2a3a37bb260",
   "metadata": {},
   "outputs": [
    {
     "data": {
      "text/plain": [
       "[ true, true, true, true, true, false, false, true, true, false, true, true, true, true, true, true, true, true, true, true, true, true, true, false, true, true, true, false, true, false, true, false, false, false, true, true, true, true, true, false, true, false, true, true, true, false, true, true, true, true, true ]"
      ]
     },
     "execution_count": 148,
     "metadata": {
      "text/plain": ""
     },
     "output_type": "execute_result"
    }
   ],
   "source": [
    "List(NumericalSemigroupsWithFrobeniusNumber(11),\n",
    "    x->chainWithPFnumbers(x)[2]);"
   ]
  },
  {
   "cell_type": "markdown",
   "id": "d82bd924-12ea-4808-a842-9cdf5b690a0b",
   "metadata": {},
   "source": [
    "We see that the numerical semigroups of the form $\\{ 0, 2k, 3k, 4k,4k+1,\\dots\\}$ with $k\\in\\N$ do not reach the complexity"
   ]
  },
  {
   "cell_type": "code",
   "execution_count": null,
   "id": "20ddcf4a-328c-4d6b-9c01-733f210d1d1f",
   "metadata": {},
   "outputs": [
    {
     "name": "stdout",
     "output_type": "stream",
     "text": [
      "false"
     ]
    },
    {
     "data": {
      "text/plain": [
       "5"
      ]
     },
     "execution_count": 149,
     "metadata": {
      "text/plain": ""
     },
     "output_type": "execute_result"
    },
    {
     "data": {
      "text/plain": [
       "Numerical semigroup with 10 generators"
      ]
     },
     "execution_count": 150,
     "metadata": {
      "text/plain": ""
     },
     "output_type": "execute_result"
    }
   ],
   "source": [
    "k:=5;\n",
    "S:=NumericalSemigroupBySmallElements([0,2*k,3*k,4*k]);\n",
    "Print( chainWithPFnumbers(S)[2] );"
   ]
  },
  {
   "cell_type": "markdown",
   "id": "6b13303f-b0f2-421d-ac58-2bbd16e9b006",
   "metadata": {},
   "source": [
    "We show now the numerical with Frobenius number between $2$ and $11$ not verifying this property "
   ]
  },
  {
   "cell_type": "code",
   "execution_count": null,
   "id": "23d20b8c-e50d-44dd-9778-2bd83ac405cf",
   "metadata": {},
   "outputs": [
    {
     "name": "stdout",
     "output_type": "stream",
     "text": [
      "\n",
      "n=2\n",
      "n=3\n",
      "n=4\n",
      "n=5\n",
      "n=6\n",
      "n=7\n",
      "NumericalSemigroup( [ 4, 6, 9, 11 ] )\n",
      "\n",
      "n=8\n",
      "NumericalSemigroup( [ 5, 7, 9, 11, 13 ] )\n",
      "\n",
      "n=9\n",
      "NumericalSemigroup( [ 4, 6, 10, 11, 12, 13 ] )\n",
      "\n",
      "NumericalSemigroup( [ 5, 7, 8, 11 ] )\n",
      "\n",
      "NumericalSemigroup( [ 5, 8, 11, 12, 14 ] )\n",
      "\n",
      "NumericalSemigroup( [ 6, 8, 10, 11, 13, 15 ] )\n",
      "\n",
      "n=10\n",
      "NumericalSemigroup( [ 6, 8, 9, 11, 13 ] )\n",
      "\n",
      "NumericalSemigroup( [ 6, 9, 11, 13, 14, 16 ] )\n",
      "\n",
      "NumericalSemigroup( [ 7, 9, 11, 12, 13, 15, 17 ] )\n",
      "\n",
      "n=11\n",
      "NumericalSemigroup( [ 4, 6, 9 ] )\n",
      "\n",
      "NumericalSemigroup( [ 4, 6, 10, 12, 13, 14, 15 ] )\n",
      "\n",
      "NumericalSemigroup( [ 4, 10, 12, 13, 14, 15 ] )\n",
      "\n",
      "NumericalSemigroup( [ 6, 7, 9, 10 ] )\n",
      "\n",
      "NumericalSemigroup( [ 6, 8, 9, 10, 13 ] )\n",
      "\n",
      "NumericalSemigroup( [ 6, 8, 10, 13, 15, 17 ] )\n",
      "\n",
      "NumericalSemigroup( [ 6, 9, 10, 13, 14, 17 ] )\n",
      "\n",
      "NumericalSemigroup( [ 6, 9, 13, 14, 16, 17 ] )\n",
      "\n",
      "NumericalSemigroup( [ 6, 10, 13, 14, 15, 17 ] )\n",
      "\n",
      "NumericalSemigroup( [ 7, 9, 10, 12, 13, 15 ] )\n",
      "\n",
      "NumericalSemigroup( [ 7, 10, 12, 13, 15, 16, 18 ] )\n",
      "\n",
      "NumericalSemigroup( [ 8, 10, 12, 13, 14, 15, 17, 19 ] )\n"
     ]
    }
   ],
   "source": [
    "for n in [2..11] do\n",
    "    Print(\"\\nn=\",n);\n",
    "    lS:=NumericalSemigroupsWithFrobeniusNumber(n);;\n",
    "    for S in lS do\n",
    "        lR:=chainWithPFnumbers(S);\n",
    "        if lR[2]=false then \n",
    "            Print(\"\\n\",S);\n",
    "        fi;\n",
    "    od;\n",
    "od;"
   ]
  },
  {
   "cell_type": "markdown",
   "id": "9beeafd1-3a03-479f-8107-e0b0aa60fd47",
   "metadata": {
    "jp-MarkdownHeadingCollapsed": true,
    "tags": []
   },
   "source": [
    "## Function `childrenOfNS`\n",
    "This function returns the children of a numerical semigroup"
   ]
  },
  {
   "cell_type": "code",
   "execution_count": null,
   "id": "3e81f053-c60a-41c7-94cf-24009c5a269d",
   "metadata": {},
   "outputs": [
    {
     "data": {
      "text/plain": [
       "function( S ) ... end"
      ]
     },
     "execution_count": 50,
     "metadata": {
      "text/plain": ""
     },
     "output_type": "execute_result"
    }
   ],
   "source": [
    "childrenOfNS:=function(S)\n",
    "    local lChildren,msg,m,fn,a,A,subsets,i,B,M,smalls;\n",
    "    lChildren:=[];\n",
    "    msg:=MinimalGeneratingSystemOfNumericalSemigroup(S);\n",
    "    smalls:=SmallElementsOfNumericalSemigroup(S);\n",
    "    m:=MultiplicityOfNumericalSemigroup(S);\n",
    "    fn:=FrobeniusNumber(S);\n",
    "    a:=Int(Floor(Float(fn)/Float(m))+1)*m;\n",
    "    A:=Filtered(msg,x->x>a);\n",
    "    subsets:=nonEmptySubsetsOfA(A);\n",
    "    #Print(a,\" A:\",A,\"\\n\");\n",
    "    #Print(\"subsets:\",subsets,\"\\n\");\n",
    "    for i in [1..Length(subsets)] do\n",
    "        M:=[(fn+2)..(a+m)];\n",
    "        SubtractSet(M,subsets[i]);\n",
    "        B:=List( Union(smalls,M) );\n",
    "        #Print(smalls,\" \",M,\" B:\",B,\"\\n\");\n",
    "        Append(lChildren,[NumericalSemigroupBySmallElements( B )]);\n",
    "    od;\n",
    "    return lChildren;\n",
    "end;"
   ]
  },
  {
   "cell_type": "markdown",
   "id": "bedbd232-7a0f-4ca9-be9b-62cba9cb0fff",
   "metadata": {},
   "source": [
    "### Examples "
   ]
  },
  {
   "cell_type": "code",
   "execution_count": null,
   "id": "17eafa3f-8884-49b4-8cfa-144c80f00904",
   "metadata": {},
   "outputs": [
    {
     "data": {
      "text/plain": [
       "[ [ 3, 5, 7 ], [ 3, 4 ], [ 3, 7, 8 ] ]"
      ]
     },
     "execution_count": 52,
     "metadata": {
      "text/plain": ""
     },
     "output_type": "execute_result"
    }
   ],
   "source": [
    "S:=NumericalSemigroup(3,4,5);;\n",
    "List(childrenOfNS(S),x->MinimalGeneratingSystemOfNumericalSemigroup(x));"
   ]
  },
  {
   "cell_type": "code",
   "execution_count": 54,
   "id": "670ab13c-fd05-4594-9ae9-fad8c382fb30",
   "metadata": {},
   "outputs": [
    {
     "data": {
      "text/plain": [
       "[ [ 3, 5 ] ]"
      ]
     },
     "execution_count": 54,
     "metadata": {
      "text/plain": ""
     },
     "output_type": "execute_result"
    }
   ],
   "source": [
    "S:=NumericalSemigroup(3,5,7);;\n",
    "List(childrenOfNS(S),x->MinimalGeneratingSystemOfNumericalSemigroup(x));"
   ]
  },
  {
   "cell_type": "code",
   "execution_count": null,
   "id": "839a21d3-03a3-4c0d-8241-e6f99c1d6a04",
   "metadata": {},
   "outputs": [
    {
     "data": {
      "text/plain": [
       "[  ]"
      ]
     },
     "execution_count": 56,
     "metadata": {
      "text/plain": ""
     },
     "output_type": "execute_result"
    }
   ],
   "source": [
    "S:=NumericalSemigroup(3,4);;\n",
    "List(childrenOfNS(S),x->MinimalGeneratingSystemOfNumericalSemigroup(x));"
   ]
  },
  {
   "cell_type": "code",
   "execution_count": null,
   "id": "49e2df2b-da37-4278-ab2d-ba48608a65d2",
   "metadata": {},
   "outputs": [
    {
     "data": {
      "text/plain": [
       "[ [ 3, 8, 10 ], [ 3, 7, 11 ], [ 3, 10, 11 ] ]"
      ]
     },
     "execution_count": 58,
     "metadata": {
      "text/plain": ""
     },
     "output_type": "execute_result"
    }
   ],
   "source": [
    "S:=NumericalSemigroup(3,7,8);;\n",
    "List(childrenOfNS(S),x->MinimalGeneratingSystemOfNumericalSemigroup(x));"
   ]
  },
  {
   "cell_type": "code",
   "execution_count": 60,
   "id": "c4f84ef9-bd9c-4109-83df-78e04d742c2b",
   "metadata": {},
   "outputs": [
    {
     "data": {
      "text/plain": [
       "[ [ 3, 8, 13 ] ]"
      ]
     },
     "execution_count": 60,
     "metadata": {
      "text/plain": ""
     },
     "output_type": "execute_result"
    }
   ],
   "source": [
    "S:=NumericalSemigroup(3,8,10);;\n",
    "List(childrenOfNS(S),x->MinimalGeneratingSystemOfNumericalSemigroup(x));"
   ]
  },
  {
   "cell_type": "code",
   "execution_count": null,
   "id": "ea5a5a3c-f6e1-4fb9-8ee5-d05d5c0dac31",
   "metadata": {},
   "outputs": [
    {
     "data": {
      "text/plain": [
       "[ [ 3, 7 ] ]"
      ]
     },
     "execution_count": 62,
     "metadata": {
      "text/plain": ""
     },
     "output_type": "execute_result"
    }
   ],
   "source": [
    "S:=NumericalSemigroup(3,7,11);;\n",
    "List(childrenOfNS(S),x->MinimalGeneratingSystemOfNumericalSemigroup(x));"
   ]
  },
  {
   "cell_type": "code",
   "execution_count": null,
   "id": "335d291f-4a27-4410-9687-f40341460171",
   "metadata": {},
   "outputs": [
    {
     "data": {
      "text/plain": [
       "[ [ 3, 11, 13 ], [ 3, 10, 14 ], [ 3, 13, 14 ] ]"
      ]
     },
     "execution_count": 64,
     "metadata": {
      "text/plain": ""
     },
     "output_type": "execute_result"
    }
   ],
   "source": [
    "S:=NumericalSemigroup(3,10,11);;\n",
    "List(childrenOfNS(S),x->MinimalGeneratingSystemOfNumericalSemigroup(x));"
   ]
  },
  {
   "cell_type": "code",
   "execution_count": 67,
   "id": "75d6f317-1fb8-412a-ac2e-77ad19b61141",
   "metadata": {},
   "outputs": [
    {
     "data": {
      "text/plain": [
       "3"
      ]
     },
     "execution_count": 65,
     "metadata": {
      "text/plain": ""
     },
     "output_type": "execute_result"
    },
    {
     "data": {
      "text/plain": [
       "Numerical semigroup with 3 generators"
      ]
     },
     "execution_count": 66,
     "metadata": {
      "text/plain": ""
     },
     "output_type": "execute_result"
    },
    {
     "data": {
      "text/plain": [
       "[ Numerical semigroup, Numerical semigroup, Numerical semigroup ]"
      ]
     },
     "execution_count": 67,
     "metadata": {
      "text/plain": ""
     },
     "output_type": "execute_result"
    }
   ],
   "source": [
    "m:=3;\n",
    "S:=NumericalSemigroup([m..2*m-1]);\n",
    "childrenOfNS(S);"
   ]
  },
  {
   "cell_type": "markdown",
   "id": "ca213204-6699-49f0-9c4e-e714525a3ad8",
   "metadata": {
    "jp-MarkdownHeadingCollapsed": true,
    "tags": []
   },
   "source": [
    "## Function `NSWithMultiplicityAndComplexity`\n",
    "This function returns a list with the numerical semigroups with multiplicity $m$ and complexity $c$. It uses the function `childrenOfNS`"
   ]
  },
  {
   "cell_type": "code",
   "execution_count": null,
   "id": "77e1b347-5e5f-46bf-8e75-a81486a04f2e",
   "metadata": {},
   "outputs": [
    {
     "data": {
      "text/plain": [
       "function( m, c ) ... end"
      ]
     },
     "execution_count": 68,
     "metadata": {
      "text/plain": ""
     },
     "output_type": "execute_result"
    }
   ],
   "source": [
    "NSWithMultiplicityAndComplexity:=function(m,c)\n",
    "    local lS,lChildren,cx,i,lCaux;\n",
    "    lS:=[NumericalSemigroup([m..2*m-1])];\n",
    "    #Print(lS,\"\\n\");\n",
    "    lChildren:=[];\n",
    "    cx:=1;\n",
    "    while cx<c do\n",
    "        for i in [1..Length(lS)] do\n",
    "            lCaux:=childrenOfNS(lS[i]);\n",
    "            #Print(\"lCaux\",lCaux,\"\\n\");\n",
    "            Append(lChildren,lCaux);\n",
    "        od;\n",
    "        #Print(lChildren,\"\\n\");\n",
    "        cx:=cx+1;\n",
    "        lS:=lChildren;\n",
    "        lChildren:=[];\n",
    "    od;\n",
    "    return lS;\n",
    "end;"
   ]
  },
  {
   "cell_type": "markdown",
   "id": "94121bba-ae49-4589-8bce-344236af4dec",
   "metadata": {},
   "source": [
    "### Example"
   ]
  },
  {
   "cell_type": "code",
   "execution_count": null,
   "id": "03090051-8f88-4794-a4cd-64e30fcb4211",
   "metadata": {},
   "outputs": [
    {
     "data": {
      "text/plain": [
       "[ [ 2, 9 ] ]"
      ]
     },
     "execution_count": 70,
     "metadata": {
      "text/plain": ""
     },
     "output_type": "execute_result"
    }
   ],
   "source": [
    "l34:=NSWithMultiplicityAndComplexity(2,4);;\n",
    "List(l34,x->MinimalGeneratingSystemOfNumericalSemigroup(x));"
   ]
  },
  {
   "cell_type": "code",
   "execution_count": null,
   "id": "55dc613c-5166-49fd-a2f9-20b26e3627f3",
   "metadata": {},
   "outputs": [
    {
     "name": "stdout",
     "output_type": "stream",
     "text": [
      "[ NumericalSemigroup( [ 3, 8, 13 ] )\n",
      "    , NumericalSemigroup( [ 3, 7 ] )\n",
      "    , NumericalSemigroup( [ 3, 11, 13 ] )\n",
      "    , NumericalSemigroup( [ 3, 10, 14 ] )\n",
      "    , NumericalSemigroup( [ 3, 13, 14 ] )\n",
      "     ]"
     ]
    }
   ],
   "source": [
    "Print( NSWithMultiplicityAndComplexity(3,4) );"
   ]
  },
  {
   "cell_type": "code",
   "execution_count": null,
   "id": "cb04c870-b49b-46b4-8646-b6f42b708d4c",
   "metadata": {},
   "outputs": [],
   "source": []
  }
 ],
 "metadata": {
  "kernelspec": {
   "display_name": "GAP 4",
   "language": "gap",
   "name": "gap-4"
  },
  "language_info": {
   "codemirror_mode": "gap",
   "file_extension": ".g",
   "mimetype": "text/x-gap",
   "name": "GAP 4",
   "nbconvert_exporter": "",
   "pygments_lexer": "gap",
   "version": "4.11.1"
  }
 },
 "nbformat": 4,
 "nbformat_minor": 5
}

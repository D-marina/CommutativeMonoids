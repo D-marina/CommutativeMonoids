{
 "cells": [
  {
   "cell_type": "markdown",
   "id": "da4a9e73",
   "metadata": {},
   "source": [
    "# Functions for computing the elasticity of a sumset semigroup"
   ]
  },
  {
   "cell_type": "markdown",
   "id": "0f78ff0b",
   "metadata": {
    "heading_collapsed": true
   },
   "source": [
    "## Libraries"
   ]
  },
  {
   "cell_type": "markdown",
   "id": "3efccc0b",
   "metadata": {
    "hidden": true
   },
   "source": [
    "Loading the CommutativeMonoids library. You can download with the command \n",
    "```properties\n",
    "$ git clone https://github.com/D-marina/CommutativeMonoids.git\n",
    "```\n",
    "The only library use is `integerSmithNormalFormAndApplications` which is in the folder `Class`"
   ]
  },
  {
   "cell_type": "code",
   "execution_count": 13,
   "id": "9b0e6ae3",
   "metadata": {
    "ExecuteTime": {
     "end_time": "2021-04-29T17:01:34.758879Z",
     "start_time": "2021-04-29T17:01:34.753258Z"
    },
    "hidden": true
   },
   "outputs": [],
   "source": [
    "import sys\n",
    "#location of the folder CommutativeMonoids\n",
    "# we load the following libraies\n",
    "pathToCommutativeMonoids='../CommutativeMonoids'\n",
    "sys.path.insert(0,pathToCommutativeMonoids+'/ClassCSemigroup')\n",
    "sys.path.insert(0,pathToCommutativeMonoids+'/Class')\n",
    "sys.path.insert(0,pathToCommutativeMonoids+'/ClassAffine')\n",
    "sys.path.insert(0,pathToCommutativeMonoids+'/CClass')\n",
    "\n",
    "from integerSmithNormalFormAndApplications import *\n",
    "\n",
    "from sympy import init_printing, pprint, latex\n",
    "init_printing() \n",
    "\n",
    "from IPython.display import display, Math, Markdown"
   ]
  },
  {
   "cell_type": "markdown",
   "id": "c0ac45d8",
   "metadata": {
    "hidden": true
   },
   "source": [
    "We load now all the other libraries we also need and define in sympy new symbols"
   ]
  },
  {
   "cell_type": "code",
   "execution_count": 14,
   "id": "557f7f41",
   "metadata": {
    "ExecuteTime": {
     "end_time": "2021-04-29T17:01:36.144061Z",
     "start_time": "2021-04-29T17:01:36.137196Z"
    },
    "hidden": true
   },
   "outputs": [],
   "source": [
    "import functools,math\n",
    "import sympy\n",
    "import numpy as np\n",
    "from PyNormaliz import *\n",
    "from numpy import array\n",
    "from sympy import symbols,groebner\n",
    "from fractions import Fraction\n",
    "import itertools\n",
    "\n",
    "x1,x2,x3,x4,x5,x6,x7=symbols(\"x1 x2 x3 x4 x5 x6 x7\")\n",
    "lX=[x1,x2,x3,x4,x5,x6,x7]\n",
    "y1,y2,y3,y4,y5,y6,y7=symbols(\"y1 y2 y3 y4 y5 y6 y7\")\n",
    "lY=[y1,y2,y3,y4,y5,y6,y7]\n",
    "z1,z2,z3,z4,z5,z6,z7=symbols(\"z1 z2 z3 z4 z5 z6 z7\")\n",
    "lZ=[z1,z2,z3,z4,z5,z6,z7]\n",
    "w1,w2,w3,w4,w5,w6,w7=symbols(\"w1 w2 w3 w4 w5 w6 w7\")\n",
    "lW=[w1,w2,w3,w4,w5,w6,w7]\n",
    "\n",
    "x,y,z,t,u,v,w=symbols(\"x y z t u v w\")"
   ]
  },
  {
   "cell_type": "code",
   "execution_count": 15,
   "id": "2368c78f",
   "metadata": {
    "ExecuteTime": {
     "end_time": "2021-04-29T17:01:38.283896Z",
     "start_time": "2021-04-29T17:01:38.279031Z"
    },
    "hidden": true
   },
   "outputs": [],
   "source": [
    "latex1=lambda x: \"$\"+latex(x)+\"$\"\n",
    "def lprint(*lcad):\n",
    "    '''\n",
    "    >>> lprint(\"hola\",latex1(x**7),\"ccc\")\n",
    "    '''\n",
    "    display(Markdown(' '.join(lcad)))"
   ]
  },
  {
   "cell_type": "markdown",
   "id": "0f719d79",
   "metadata": {
    "heading_collapsed": true
   },
   "source": [
    "## Operators `|sum|` ($+$) and `|mult|` $\\otimes$ of sumset semigroups"
   ]
  },
  {
   "cell_type": "markdown",
   "id": "575a2349",
   "metadata": {
    "hidden": true
   },
   "source": [
    "The operator $+$ and $\\otimes$ are defined below"
   ]
  },
  {
   "cell_type": "code",
   "execution_count": 16,
   "id": "51dd3797",
   "metadata": {
    "ExecuteTime": {
     "end_time": "2021-04-29T17:01:44.956368Z",
     "start_time": "2021-04-29T17:01:44.949082Z"
    },
    "hidden": true
   },
   "outputs": [],
   "source": [
    "class Infix:\n",
    "    def __init__(self, function):\n",
    "        self.function = function\n",
    "    def __ror__(self, other):\n",
    "        return Infix(lambda x, self=self, other=other: self.function(other, x))\n",
    "    def __or__(self, other):\n",
    "        return self.function(other)\n",
    "    def __rlshift__(self, other):\n",
    "        return Infix(lambda x, self=self, other=other: self.function(other, x))\n",
    "    def __rshift__(self, other):\n",
    "        return self.function(other)\n",
    "    def __call__(self, value1, value2):\n",
    "        return self.function(value1, value2)\n",
    "\n",
    "@Infix\n",
    "def add(A,B):\n",
    "    '''Computes the addition of two sets A and B\n",
    "    >>> [7,9] |add| [0,2,3]\n",
    "    '''\n",
    "    C=list(set([a+b for a in A for b in B]))\n",
    "    C.sort()\n",
    "    return C\n",
    "\n",
    "@Infix\n",
    "def mult(a,A):\n",
    "    '''Sum with itself a-times the set A\n",
    "    >>> 3 |mult| [3,4]\n",
    "    '''\n",
    "    if a==0:\n",
    "        return [0]\n",
    "    elif a==1:\n",
    "        A=list(set(A))\n",
    "        A.sort()\n",
    "        return A\n",
    "    else:\n",
    "        return A |add| mult(a-1,A)"
   ]
  },
  {
   "cell_type": "markdown",
   "id": "8ba59e71",
   "metadata": {
    "heading_collapsed": true
   },
   "source": [
    "## Function to obtain the ideal of a sumset semigroup (`computeSets`)"
   ]
  },
  {
   "cell_type": "markdown",
   "id": "44864fe0",
   "metadata": {
    "hidden": true
   },
   "source": [
    "We define now the functions for computing the presentation of sumset semigroup of the form of Algorithm 1 of [On the ideals of some sumset semigroups](https://arxiv.org/abs/2102.04100). \n",
    "\n",
    "The main function if `computationIS` and it also checks if the given list of generators fulfill the requeriments of Algorithm 1 of [On the ideals of some sumset semigroups](https://arxiv.org/abs/2102.04100).\n",
    "\n",
    "An example of how to use this funcion is \n",
    "```properties\n",
    ">>> computationIS([3],[4],[6,12],[7,10,13],[0,3,6,9])\n",
    "```"
   ]
  },
  {
   "cell_type": "markdown",
   "id": "d7e7ff37",
   "metadata": {
    "ExecuteTime": {
     "end_time": "2021-04-29T16:43:59.344012Z",
     "start_time": "2021-04-29T16:43:59.338776Z"
    },
    "heading_collapsed": true,
    "hidden": true
   },
   "source": [
    "### Auxiliary functions"
   ]
  },
  {
   "cell_type": "code",
   "execution_count": 17,
   "id": "ff625257",
   "metadata": {
    "ExecuteTime": {
     "end_time": "2021-04-29T17:01:53.998652Z",
     "start_time": "2021-04-29T17:01:53.989281Z"
    },
    "hidden": true
   },
   "outputs": [],
   "source": [
    "def computeSets(lsgS):\n",
    "    '''Computes some auxiliary sets used in functino computationIS\n",
    "    '''\n",
    "    lB=[]\n",
    "    lA=[]\n",
    "    la=[]\n",
    "    for S in lsgS:\n",
    "        if len(S)==1:\n",
    "            if S not in lB:\n",
    "                lB.append(S)\n",
    "        else:\n",
    "            a0=S[0]\n",
    "            if a0!=0 and [a0] not in la:\n",
    "                la.append([a0])\n",
    "            aux=(a0,[a-a0 for a in S])\n",
    "            # cuidado con quitar generadores repetidos\n",
    "            if aux not in lA:\n",
    "                lA.append(aux)\n",
    "            else:\n",
    "                print(\"Duplicated generator found, removed\", S)\n",
    "    lkA=[S[1][0:2] for S in lA]\n",
    "    for S in lA:\n",
    "        if len(S[1])>2:\n",
    "            lkA.append([0,S[1][2]])\n",
    "    lkA=[S for i,S in enumerate(lkA) if S not in lkA[:i]]\n",
    "    return lB,la,lA,lkA\n",
    "\n",
    "def computeNM(S,lkA):\n",
    "    '''Computes a decomposition of S in term of the elements of lA\n",
    "    >>> computeNM([0,2,5,7],[[0,5],[0,2]])\n",
    "    '''\n",
    "    for i in range(S[-1]//lkA[0][-1]+1):\n",
    "        for j in range(S[-1]//lkA[1][-1]+1):\n",
    "            if S==(i|mult|lkA[0]) |add| (j|mult|lkA[1]):\n",
    "                return (i,j)\n",
    "\n",
    "def removeBinomialsHavingVariables(gb,lVariables):\n",
    "    gb1=[p for p in gb \\\n",
    "         if set(p.args[0].as_powers_dict().keys()).intersection(lVariables)==set()\\\n",
    "         and \\\n",
    "         set(p.args[1].as_powers_dict().keys()).intersection(lVariables)==set()]\n",
    "    return gb1\n",
    "            \n",
    "def isInAnyPolynomial(var,gb):\n",
    "    lAux=set([])\n",
    "    for p in gb:\n",
    "        aux=set(p.args[0].as_powers_dict().keys()).union(set(p.args[1].as_powers_dict().keys()))\n",
    "        #print(aux)\n",
    "        lAux=lAux.union(aux)\n",
    "    #print(lAux)\n",
    "    return var in lAux"
   ]
  },
  {
   "cell_type": "markdown",
   "id": "eaee1c40",
   "metadata": {
    "heading_collapsed": true,
    "hidden": true
   },
   "source": [
    "### Function `computationIS`"
   ]
  },
  {
   "cell_type": "code",
   "execution_count": 56,
   "id": "f7101768",
   "metadata": {
    "ExecuteTime": {
     "end_time": "2021-04-29T19:53:45.733300Z",
     "start_time": "2021-04-29T19:53:45.724554Z"
    },
    "hidden": true
   },
   "outputs": [],
   "source": [
    "def computationIS(*sgS, debug=False):\n",
    "    '''Computes the ideal of the sumset semigroup generated by sgS\n",
    "    >>> computationIS([3],[4],[6,12],[7,10,13],[0,3,6,9])\n",
    "    '''\n",
    "    lB,la,lA,lkA=computeSets(list(sgS))\n",
    "    \n",
    "    #aux=[T[1][:2] for T in lA]\n",
    "    #aux1=[S for i,S in enumerate(aux) if S not in aux[:i]]\n",
    "    aux1=lkA\n",
    "    if debug:\n",
    "        print(aux1)\n",
    "    if len(aux1)!=2:\n",
    "        print(\"We cannot compute the ideal. This case is still not solved\")\n",
    "        return\n",
    "    Sprime=lB+la+aux1\n",
    "    S1=lB+la # [[5],[7],[11]]\n",
    "    \n",
    "    lnm=[(S[0],S[1],computeNM(S[1],lkA)) for S in lA]\n",
    "    \n",
    "    sn=[S[0] for S in lB+la] # [5,7,11]\n",
    "    a,b=lkA[0][1],lkA[1][1]\n",
    "    k=math.gcd(a,b)\n",
    "    a,b=a//k,b//k\n",
    "    # u = 1 in the natural numbers\n",
    "    relations=[u**S[0]-lX[j] for j,S in enumerate(lB)]\n",
    "    relations=relations+[u**S[0]-lW[j] for j,S in enumerate(la)]\n",
    "    relations=relations+[x**(b-1)*y**(a-1)*(x**b-y**a)]\n",
    "    \n",
    "    for j,TT in enumerate(lnm):\n",
    "        ai,Anm,coord=TT\n",
    "        if ai!=0:\n",
    "            pos=[aa[0] for aa in la].index(ai)\n",
    "            relations=relations+[lZ[j]-lW[pos]*x**coord[0]*y**coord[1]]\n",
    "        else:\n",
    "            relations=relations+[lZ[j]-x**coord[0]*y**coord[1]]\n",
    "    \n",
    "    gb=groebner(relations,u,x,y,*lW,*lX,*lZ)\n",
    "    \n",
    "    #gb1=[p for p in gb \\\n",
    "    #     if set(p.args[0].as_powers_dict().keys()).intersection([u,x,y]+lW)==set()\\\n",
    "    #     and \\\n",
    "    #     set(p.args[1].as_powers_dict().keys()).intersection([u,x,y]+lW)==set()]\n",
    "    gb1=removeBinomialsHavingVariables(gb,[u,x,y]+lW)\n",
    "    if debug:\n",
    "        print(\"gb1\",gb1)\n",
    "    lVariables=[]\n",
    "    for var in lX+lZ:\n",
    "        if isInAnyPolynomial(var,gb1):\n",
    "            lVariables.append(var)\n",
    "    if debug:\n",
    "        print(\"lVariables\",lVariables)\n",
    "    if gb1!=[]:\n",
    "        return groebner(gb1,*lVariables) #,lVariables\n",
    "    else:\n",
    "        return []"
   ]
  },
  {
   "cell_type": "markdown",
   "id": "77741556",
   "metadata": {
    "ExecuteTime": {
     "end_time": "2021-04-29T16:43:59.344012Z",
     "start_time": "2021-04-29T16:43:59.338776Z"
    },
    "heading_collapsed": true,
    "hidden": true
   },
   "source": [
    "### Example"
   ]
  },
  {
   "cell_type": "code",
   "execution_count": 19,
   "id": "5d3d076b",
   "metadata": {
    "ExecuteTime": {
     "end_time": "2021-04-29T17:02:02.533250Z",
     "start_time": "2021-04-29T17:02:01.931043Z"
    },
    "hidden": true
   },
   "outputs": [
    {
     "data": {
      "text/latex": [
       "$\\displaystyle GroebnerBasis\\left(\\left( x_{1}^{4} - x_{2}^{3}, \\  x_{1}^{3} x_{2}^{3} z_{3}^{2} - z_{2}^{3}, \\  x_{1}^{3} z_{1} z_{2} - x_{2}^{2} z_{2}^{2}, \\  x_{1}^{3} z_{1} z_{3} - x_{2}^{2} z_{2} z_{3}, \\  x_{1}^{2} x_{2}^{3} z_{3}^{3} - z_{1}^{3} z_{3}, \\  x_{1}^{2} z_{1}^{2} z_{2} - x_{2} z_{2}^{3}, \\  x_{1}^{2} z_{1}^{2} z_{3} - x_{2} z_{2}^{2} z_{3}, \\  x_{1} x_{2}^{4} z_{3}^{2} - z_{1}^{2} z_{2}, \\  x_{1} z_{1}^{3} z_{2} - z_{2}^{4}, \\  x_{1} z_{1}^{3} z_{3} - z_{2}^{3} z_{3}, \\  x_{1} z_{2}^{2} - x_{2} z_{1} z_{2}, \\  x_{1} z_{2} z_{3} - x_{2} z_{1} z_{3}, \\  x_{2}^{5} z_{3}^{2} - z_{1} z_{2}^{2}, \\  x_{2}^{4} z_{2}^{3} z_{3}^{2} - z_{1}^{5} z_{2}, \\  x_{2}^{4} z_{2}^{2} z_{3}^{3} - z_{1}^{5} z_{3}, \\  x_{2}^{3} z_{2}^{7} z_{3}^{2} - z_{1}^{9} z_{2}, \\  x_{2}^{3} z_{2}^{6} z_{3}^{3} - z_{1}^{9} z_{3}, \\  x_{2}^{2} z_{2}^{11} z_{3}^{2} - z_{1}^{13} z_{2}, \\  x_{2}^{2} z_{2}^{10} z_{3}^{3} - z_{1}^{13} z_{3}, \\  x_{2} z_{1}^{4} z_{2} - z_{2}^{5}, \\  x_{2} z_{1}^{4} z_{3} - z_{2}^{4} z_{3}, \\  x_{2} z_{2}^{15} z_{3}^{2} - z_{1}^{17} z_{2}, \\  x_{2} z_{2}^{14} z_{3}^{3} - z_{1}^{17} z_{3}, \\  z_{1}^{21} z_{2} - z_{2}^{19} z_{3}^{2}, \\  z_{1}^{21} z_{3} - z_{2}^{18} z_{3}^{3}\\right), \\left( x_{1}, \\  x_{2}, \\  z_{1}, \\  z_{2}, \\  z_{3}\\right)\\right)$"
      ],
      "text/plain": [
       "             ⎛⎡  4     3    3   3   2     3    3           2   2    3         \n",
       "GroebnerBasis⎝⎣x₁  - x₂ , x₁ ⋅x₂ ⋅z₃  - z₂ , x₁ ⋅z₁⋅z₂ - x₂ ⋅z₂ , x₁ ⋅z₁⋅z₃ - \n",
       "\n",
       "  2          2   3   3     3       2   2           3    2   2           2     \n",
       "x₂ ⋅z₂⋅z₃, x₁ ⋅x₂ ⋅z₃  - z₁ ⋅z₃, x₁ ⋅z₁ ⋅z₂ - x₂⋅z₂ , x₁ ⋅z₁ ⋅z₃ - x₂⋅z₂ ⋅z₃, \n",
       "\n",
       "     4   2     2          3        4       3        3          2              \n",
       "x₁⋅x₂ ⋅z₃  - z₁ ⋅z₂, x₁⋅z₁ ⋅z₂ - z₂ , x₁⋅z₁ ⋅z₃ - z₂ ⋅z₃, x₁⋅z₂  - x₂⋅z₁⋅z₂, x\n",
       "\n",
       "                      5   2        2    4   3   2     5       4   2   3     5 \n",
       "₁⋅z₂⋅z₃ - x₂⋅z₁⋅z₃, x₂ ⋅z₃  - z₁⋅z₂ , x₂ ⋅z₂ ⋅z₃  - z₁ ⋅z₂, x₂ ⋅z₂ ⋅z₃  - z₁ ⋅\n",
       "\n",
       "      3   7   2     9       3   6   3     9       2   11   2     13       2   \n",
       "z₃, x₂ ⋅z₂ ⋅z₃  - z₁ ⋅z₂, x₂ ⋅z₂ ⋅z₃  - z₁ ⋅z₃, x₂ ⋅z₂  ⋅z₃  - z₁  ⋅z₂, x₂ ⋅z₂\n",
       "\n",
       "10   3     13          4        5       4        4          15   2     17     \n",
       "  ⋅z₃  - z₁  ⋅z₃, x₂⋅z₁ ⋅z₂ - z₂ , x₂⋅z₁ ⋅z₃ - z₂ ⋅z₃, x₂⋅z₂  ⋅z₃  - z₁  ⋅z₂, \n",
       "\n",
       "     14   3     17       21        19   2    21        18   3⎤                \n",
       "x₂⋅z₂  ⋅z₃  - z₁  ⋅z₃, z₁  ⋅z₂ - z₂  ⋅z₃ , z₁  ⋅z₃ - z₂  ⋅z₃ ⎦, x₁, x₂, z₁, z₂\n",
       "\n",
       "                         ⎞\n",
       ", z₃, domain=ℤ, order=lex⎠"
      ]
     },
     "metadata": {},
     "output_type": "display_data"
    }
   ],
   "source": [
    "gb=computationIS([3],[4],[6,12],[7,10,13],[0,3,6,9])\n",
    "display(gb)"
   ]
  },
  {
   "cell_type": "markdown",
   "id": "fd74cabf",
   "metadata": {},
   "source": [
    "## Function of obtain the elasticity of a monoid from one of its ideals (`elasticity`)"
   ]
  },
  {
   "cell_type": "markdown",
   "id": "e38b79f1",
   "metadata": {},
   "source": [
    "### Auxiliary functions"
   ]
  },
  {
   "cell_type": "markdown",
   "id": "866be200",
   "metadata": {},
   "source": [
    "Now, we define three auxiliary funcions `fraccionDeGenerador` and `binomio2Zn` used in the function `elasticity`. The last function computes the elasticity of a monoid from one of its defining ideals."
   ]
  },
  {
   "cell_type": "code",
   "execution_count": 20,
   "id": "ff63e8a8",
   "metadata": {
    "ExecuteTime": {
     "end_time": "2021-04-29T17:02:20.608951Z",
     "start_time": "2021-04-29T17:02:20.603187Z"
    }
   },
   "outputs": [],
   "source": [
    "def fraccionDeGenerador(gen):\n",
    "    dim=len(gen)//2\n",
    "    #print(gen,dim)\n",
    "    return Fraction(sum(gen[:dim]),sum(gen[dim:]))\n",
    "\n",
    "def binomio2Zn(binomio,lV):\n",
    "    #binomio=G4[0]\n",
    "    s1,s2=binomio.args[0].as_powers_dict(),binomio.args[1].as_powers_dict()\n",
    "    c=[]\n",
    "    c1=[]\n",
    "    c2=[]\n",
    "    #print(s1)\n",
    "    for v in lV:\n",
    "        c1.append(s1[v])\n",
    "    for v in lV:\n",
    "        c2.append(s2[v])\n",
    "    return [c1,c2]"
   ]
  },
  {
   "cell_type": "markdown",
   "id": "00a31e0d",
   "metadata": {},
   "source": [
    "We have the function elasticity"
   ]
  },
  {
   "cell_type": "code",
   "execution_count": 21,
   "id": "918908a5",
   "metadata": {
    "ExecuteTime": {
     "end_time": "2021-04-29T17:02:36.692002Z",
     "start_time": "2021-04-29T17:02:34.215019Z"
    }
   },
   "outputs": [
    {
     "name": "stdout",
     "output_type": "stream",
     "text": [
      "(Matrix([\n",
      "[0, 0,  -2,  -2,  -3],\n",
      "[3, 4, -16, -15, -33]]), Matrix([\n",
      "[0],\n",
      "[0]]))\n",
      "[[0, 0, -2, -2, -3], [3, 4, -16, -15, -33]]\n"
     ]
    }
   ],
   "source": [
    "lVariables=gb.args[1]\n",
    "tuplasGB=[binomio2Zn(b,lVariables) for b in gb]\n",
    "genM=[]\n",
    "for c1,c2 in tuplasGB:\n",
    "    genM.append(array(c1)-array(c2))\n",
    "\n",
    "eqGenM=generatorsToEquations(genM)\n",
    "\n",
    "numEqs=eqGenM[0].shape[0]\n",
    "filas=[list(eqGenM[0][i,:]) for i in range(numEqs)]\n",
    "\n",
    "\n",
    "print(eqGenM)\n",
    "print(filas)"
   ]
  },
  {
   "cell_type": "code",
   "execution_count": 22,
   "id": "4d53a104",
   "metadata": {
    "ExecuteTime": {
     "end_time": "2021-04-29T17:02:40.378747Z",
     "start_time": "2021-04-29T17:02:40.373148Z"
    }
   },
   "outputs": [],
   "source": [
    "def computeEquationsOfMFromGB(gb):\n",
    "    lVariables=gb.args[1]\n",
    "    tuplasGB=[binomio2Zn(b,lVariables) for b in gb]\n",
    "    genM=[]\n",
    "    for c1,c2 in tuplasGB:\n",
    "        genM.append(array(c1)-array(c2))\n",
    "\n",
    "    eqGenM=generatorsToEquations(genM)\n",
    "    \n",
    "    numEqs=eqGenM[0].shape[0]\n",
    "    filas=[list(eqGenM[0][i,:]) for i in range(numEqs)]\n",
    "    \n",
    "    return filas"
   ]
  },
  {
   "cell_type": "markdown",
   "id": "16df6609",
   "metadata": {},
   "source": [
    "### Function `elasticity`"
   ]
  },
  {
   "cell_type": "code",
   "execution_count": 23,
   "id": "fa87420c",
   "metadata": {
    "ExecuteTime": {
     "end_time": "2021-04-29T17:02:43.155703Z",
     "start_time": "2021-04-29T17:02:43.149307Z"
    },
    "scrolled": false
   },
   "outputs": [],
   "source": [
    "def elasticity(gb,verbose=False):\n",
    "    '''Computes the elasticity of a monoid from one of its presetations.\n",
    "    It returns the value of the elasticity and the elements of gb that reach the elasticity\n",
    "    >>> rho,lTElasticity=elasticity(gb)\n",
    "    '''\n",
    "    #lVariables=gb.args[1]\n",
    "    #tuplasGB=[binomio2Zn(b,lVariables) for b in gb]\n",
    "    #genM=[]\n",
    "    #for c1,c2 in tuplasGB:\n",
    "    #    genM.append(array(c1)-array(c2))\n",
    "    #eqGenM=generatorsToEquations(genM)\n",
    "    \n",
    "    #numEqs=eqGenM[0].shape[0]\n",
    "    #filas=[list(eqGenM[0][i,:]) for i in range(numEqs)]\n",
    "\n",
    "    filas=computeEquationsOfMFromGB(gb)\n",
    "    \n",
    "    coneSR=Cone(equations=filas)\n",
    "    cSRHB=coneSR.HilbertBasis()\n",
    "    if verbose:\n",
    "        print(\"Cono positivo M:\",cSRHB)\n",
    "    if cSRHB!=[]:\n",
    "        if verbose:\n",
    "            print(\"The semigroup is not strongly reduced\")\n",
    "        return \"\\infty\",[]\n",
    "    \n",
    "    \n",
    "    \n",
    "    #print(\"filas\",filas)\n",
    "\n",
    "    ecuacionesAmenosA=[filas[i]+[-a for a in filas[i]] for i in range(len(filas))]\n",
    "    monoide=Cone(equations=ecuacionesAmenosA)\n",
    "    sistemaGenMonoide=monoide.HilbertBasis()\n",
    "    \n",
    "    dim=len(sistemaGenMonoide[0])//2\n",
    "    elasticidad=max([fraccionDeGenerador(gen) for gen in sistemaGenMonoide])\n",
    "    \n",
    "    elasticidad\n",
    "\n",
    "    Rs=[gen for gen in sistemaGenMonoide \\\n",
    "     if fraccionDeGenerador(gen)==elasticidad]\n",
    "    \n",
    "    if verbose:\n",
    "        #print(\"Order of variables:\",variablesGB(gb))\n",
    "        #print(tuplasGB)\n",
    "        print(\"Equations of M\")\n",
    "        print(filas)\n",
    "        #print(eqGenM[0],\"\\n\")\n",
    "        #print(\"Matrix (A|-A)\")\n",
    "        #print(ecuacionesAmenosA)\n",
    "\n",
    "    \n",
    "    return(elasticidad,Rs)\n",
    "    "
   ]
  },
  {
   "cell_type": "markdown",
   "id": "9a61b223",
   "metadata": {
    "heading_collapsed": true
   },
   "source": [
    "### Example"
   ]
  },
  {
   "cell_type": "markdown",
   "id": "70104ed9",
   "metadata": {
    "hidden": true
   },
   "source": [
    "One example of how to use this function is the following."
   ]
  },
  {
   "cell_type": "code",
   "execution_count": 24,
   "id": "17b42443",
   "metadata": {
    "ExecuteTime": {
     "end_time": "2021-04-29T17:02:51.316602Z",
     "start_time": "2021-04-29T17:02:48.304995Z"
    },
    "hidden": true
   },
   "outputs": [
    {
     "name": "stdout",
     "output_type": "stream",
     "text": [
      "Cono positivo M: []\n",
      "Equations of M\n",
      "[[0, 0, -2, -2, -3], [3, 4, -16, -15, -33]]\n",
      "Variables used in the Groebner basis: (x1, x2, z1, z2, z3)\n",
      "Elasticity of S: 3\n",
      "Pairs of atoms of A(I_M) that reach the elasticity: [[7, 0, 0, 0, 2, 0, 0, 0, 3, 0]]\n"
     ]
    }
   ],
   "source": [
    "sgS=[[3],[4],[6,12],[7,10,13],[0,3,6,9]]\n",
    "gb=computationIS(*sgS)\n",
    "rho,lTElasticity=elasticity(gb,verbose=True)\n",
    "\n",
    "print(\"Variables used in the Groebner basis:\",gb.args[1])\n",
    "print(\"Elasticity of S:\",rho)\n",
    "print(\"Pairs of atoms of A(I_M) that reach the elasticity:\",lTElasticity)"
   ]
  },
  {
   "cell_type": "markdown",
   "id": "8c20ad94",
   "metadata": {
    "hidden": true
   },
   "source": [
    "Since the monomial $x1^7 z3^2$ is reduced to $z2^3$, the element $7 \\otimes \\{3\\} + 2 \\otimes \\{0,3,6,9\\}=3 \\otimes \\{7,10,13\\}$ and reachs the elasticity. \n",
    "So, the monoids $S$ has acceptable elasticity."
   ]
  },
  {
   "cell_type": "code",
   "execution_count": 14,
   "id": "8504b120",
   "metadata": {
    "hidden": true
   },
   "outputs": [
    {
     "data": {
      "text/latex": [
       "$\\displaystyle 25$"
      ],
      "text/plain": [
       "25"
      ]
     },
     "execution_count": 14,
     "metadata": {},
     "output_type": "execute_result"
    }
   ],
   "source": [
    "len(gb.args[0])\n",
    "len([0, 1, 0, 0, 0, 0, 0, 0, 0, 0, 0, 0, 0, 0, 0, 0, 0, 0, 0, 0, 0, 0, 0, 0, 0])"
   ]
  },
  {
   "cell_type": "code",
   "execution_count": 10,
   "id": "84e47f76",
   "metadata": {
    "hidden": true
   },
   "outputs": [
    {
     "data": {
      "text/latex": [
       "$\\displaystyle \\left( \\left[ x_{1}^{3} z_{3}^{2}, \\  1, \\  0, \\  0, \\  0, \\  0, \\  0, \\  0, \\  0, \\  0, \\  0, \\  0, \\  0, \\  0, \\  0, \\  0, \\  0, \\  0, \\  0, \\  0, \\  0, \\  0, \\  0, \\  0, \\  0\\right], \\  z_{2}^{3}\\right)$"
      ],
      "text/plain": [
       "⎛⎡  3   2                                                                     \n",
       "⎝⎣x₁ ⋅z₃ , 1, 0, 0, 0, 0, 0, 0, 0, 0, 0, 0, 0, 0, 0, 0, 0, 0, 0, 0, 0, 0, 0, 0\n",
       "\n",
       "   ⎤    3⎞\n",
       ", 0⎦, z₂ ⎠"
      ]
     },
     "execution_count": 10,
     "metadata": {},
     "output_type": "execute_result"
    }
   ],
   "source": [
    "gb.reduce(x1**7*z3**2)"
   ]
  },
  {
   "cell_type": "markdown",
   "id": "9b530c7a",
   "metadata": {},
   "source": [
    "## Algorithm to decide if a semigroups has acceptable elasticity (`hasAcceptableElasticity`)"
   ]
  },
  {
   "cell_type": "markdown",
   "id": "6713c10f",
   "metadata": {},
   "source": [
    "From the work [Atomic Commutative Monoids and Their Elasticity\n",
    "](https://doi-org.bibezproxy.uca.es/10.1007/s00233-002-0022-4), we can check from a presetation of a monoid if it has acceptable elasticity or not."
   ]
  },
  {
   "cell_type": "markdown",
   "id": "6b7a0c4a",
   "metadata": {
    "heading_collapsed": true
   },
   "source": [
    "### Auxiliary functions"
   ]
  },
  {
   "cell_type": "markdown",
   "id": "1dc30613",
   "metadata": {
    "hidden": true
   },
   "source": [
    "We need a function to compute the Archimedean components of a monoid from one a system of generators of $I_S$"
   ]
  },
  {
   "cell_type": "code",
   "execution_count": 25,
   "id": "2020b01f",
   "metadata": {
    "ExecuteTime": {
     "end_time": "2021-04-29T17:04:07.802063Z",
     "start_time": "2021-04-29T17:04:07.790801Z"
    },
    "hidden": true
   },
   "outputs": [],
   "source": [
    "def projection01(l):\n",
    "    return [(lambda x:0 if x==0 else 1)(a) for a in l]\n",
    "\n",
    "projection01([5,0,1,0,0,3])\n",
    "\n",
    "def supreme(t1,t2):\n",
    "    return [max(x,y) for x,y in zip(t1,t2)]\n",
    "def infimum(t1,t2):\n",
    "    return [min(x,y) for x,y in zip(t1,t2)]\n",
    "def elementsBetween(t1,t2):\n",
    "    s=[]\n",
    "    for tt in itertools.product([0,1],repeat=len(t1)):\n",
    "        if infimum(tt,t1)==t1 and supreme(tt,t2)==t2:\n",
    "            s.append(tt)\n",
    "    return s\n",
    "\n",
    "def areInTheSameACAux(Grho,vv1,vv2):\n",
    "    for aa,bb in Grho:\n",
    "        if aa==vv1:\n",
    "            vv1=bb\n",
    "        if aa==vv2:\n",
    "            vv2=bb\n",
    "    if vv1==vv2:\n",
    "        return True\n",
    "    return False\n",
    "\n",
    "def ArchimedeanComponents(gb, debug=False):\n",
    "    lV=gb.args[1]\n",
    "    lLists=[binomio2Zn(p,lV) for p in gb]\n",
    "    l01=[(projection01(a),projection01(b)) for a,b in lLists]+\\\n",
    "        [(projection01(b),projection01(a)) for a,b in lLists]\n",
    "    #print(lLists)\n",
    "    if debug:\n",
    "        print(l01,\"\\n\")\n",
    "    latt=itertools.product([0,1],repeat=len(lV))\n",
    "    #print(list(latt))\n",
    "    \n",
    "    Grho=[]\n",
    "    for vv in latt:\n",
    "        #print(vv)\n",
    "        menores=[tt for tt in l01 if tt[0]==infimum(tt[0],list(vv))]\n",
    "        #print(menores,\"\\n\")\n",
    "        for a,b in menores:\n",
    "            for i,vb in enumerate(b):\n",
    "                if vb==1 and vv[i]==0:\n",
    "                    copiavv1=list(vv)\n",
    "                    copiavv1[i]=1\n",
    "                    if (vv,copiavv1) not in Grho:\n",
    "                        Grho.append((list(vv),copiavv1))\n",
    "    if debug:\n",
    "        print(\"Grho:\",Grho,\"\\n\")\n",
    "                        \n",
    "    lACcomponents=[]\n",
    "    for vv in itertools.product([0,1],repeat=len(lV)):\n",
    "        vv=list(vv)\n",
    "        if debug:\n",
    "            print(\"lACcomponents:\",lACcomponents)\n",
    "            print(vv)\n",
    "        if lACcomponents==[]:\n",
    "            lACcomponents.append([vv])\n",
    "        else:\n",
    "            encontrado=False\n",
    "            i=0\n",
    "            while not encontrado and i<len(lACcomponents):\n",
    "                lAux=lACcomponents[i]\n",
    "                primero=lAux[0]                \n",
    "                vt=areInTheSameACAux(Grho,vv,primero)\n",
    "                if debug:\n",
    "                    print(\"\\tvv cc\",vv,primero,vt)\n",
    "                if vt:\n",
    "                    encontrado=True\n",
    "                    lAux.append(vv)\n",
    "                    lACcomponents[i]=lAux\n",
    "                i=i+1 \n",
    "            if not encontrado:\n",
    "                lACcomponents.append([vv])\n",
    "    if debug:\n",
    "        print(\"lACcomponents\",lACcomponents)\n",
    "    \n",
    "    return lACcomponents #,Grho"
   ]
  },
  {
   "cell_type": "code",
   "execution_count": 26,
   "id": "99a1d174",
   "metadata": {
    "ExecuteTime": {
     "end_time": "2021-04-29T17:04:16.703662Z",
     "start_time": "2021-04-29T17:04:16.122992Z"
    },
    "hidden": true,
    "scrolled": false
   },
   "outputs": [
    {
     "name": "stdout",
     "output_type": "stream",
     "text": [
      "(x1**4 - x2**3, x1**3*x2**3*z3**2 - z2**3, x1**3*z1*z2 - x2**2*z2**2, x1**3*z1*z3 - x2**2*z2*z3, x1**2*x2**3*z3**3 - z1**3*z3, x1**2*z1**2*z2 - x2*z2**3, x1**2*z1**2*z3 - x2*z2**2*z3, x1*x2**4*z3**2 - z1**2*z2, x1*z1**3*z2 - z2**4, x1*z1**3*z3 - z2**3*z3, x1*z2**2 - x2*z1*z2, x1*z2*z3 - x2*z1*z3, x2**5*z3**2 - z1*z2**2, x2**4*z2**3*z3**2 - z1**5*z2, x2**4*z2**2*z3**3 - z1**5*z3, x2**3*z2**7*z3**2 - z1**9*z2, x2**3*z2**6*z3**3 - z1**9*z3, x2**2*z2**11*z3**2 - z1**13*z2, x2**2*z2**10*z3**3 - z1**13*z3, x2*z1**4*z2 - z2**5, x2*z1**4*z3 - z2**4*z3, x2*z2**15*z3**2 - z1**17*z2, x2*z2**14*z3**3 - z1**17*z3, z1**21*z2 - z2**19*z3**2, z1**21*z3 - z2**18*z3**3)\n",
      "(x1, x2, z1, z2, z3)\n",
      "Archimedean components of S:\n",
      "0 --> [[0, 0, 0, 0, 0]]\n",
      "1 --> [[0, 0, 0, 0, 1]]\n",
      "2 --> [[0, 0, 0, 1, 0], [0, 0, 0, 1, 1], [0, 0, 1, 0, 1], [0, 0, 1, 1, 0], [0, 0, 1, 1, 1], [0, 1, 0, 0, 1], [0, 1, 0, 1, 0], [0, 1, 0, 1, 1], [0, 1, 1, 0, 1], [0, 1, 1, 1, 0], [0, 1, 1, 1, 1], [1, 0, 0, 0, 1], [1, 0, 0, 1, 0], [1, 0, 0, 1, 1], [1, 0, 1, 0, 1], [1, 0, 1, 1, 0], [1, 0, 1, 1, 1], [1, 1, 0, 0, 1], [1, 1, 0, 1, 0], [1, 1, 0, 1, 1], [1, 1, 1, 0, 1], [1, 1, 1, 1, 0], [1, 1, 1, 1, 1]]\n",
      "3 --> [[0, 0, 1, 0, 0]]\n",
      "4 --> [[0, 1, 0, 0, 0], [1, 0, 0, 0, 0], [1, 1, 0, 0, 0]]\n",
      "5 --> [[0, 1, 1, 0, 0], [1, 0, 1, 0, 0], [1, 1, 1, 0, 0]]\n",
      "The maximum number of Archimedean component for a monoid generated by 5 elements is 32.\n",
      "The monoid S has only 6 Archimedean components\n"
     ]
    }
   ],
   "source": [
    "sgS=[[3],[4],[6,12],[7,10,13],[0,3,6,9]]\n",
    "gb=computationIS(*sgS)\n",
    "print(gb.args[0])\n",
    "print(gb.args[1])\n",
    "AC=ArchimedeanComponents(gb)\n",
    "print(\"Archimedean components of S:\")\n",
    "for i,arch in enumerate(AC):\n",
    "    print(i,\"-->\",arch)\n",
    "print(\"The maximum number of Archimedean component \\\n",
    "for a monoid generated by 5 elements is {}.\".format(2**5))\n",
    "print(\"The monoid S has only\",len(AC),\"Archimedean components\")"
   ]
  },
  {
   "cell_type": "code",
   "execution_count": 27,
   "id": "e176db3c",
   "metadata": {
    "ExecuteTime": {
     "end_time": "2021-04-29T17:04:17.817516Z",
     "start_time": "2021-04-29T17:04:17.810930Z"
    },
    "hidden": true
   },
   "outputs": [],
   "source": [
    "def supportIncluded(vect1,vect2):\n",
    "    '''\n",
    "    >>> supportIncluded([0,0,3],[1,0,1])\n",
    "    '''\n",
    "    for i,j in zip(vect1,vect2):\n",
    "        if i!=0 and j==0:\n",
    "            return False\n",
    "    return True\n",
    "\n",
    "\n",
    "def hasAcceptableElasticity1(gb,Rs,showTuple=False):\n",
    "    '''From one of its presentations, computes if the elasticity of a monoid is acceptable\n",
    "    >>> hasAcceptableElasticity(gb,lTElasticity)\n",
    "    '''\n",
    "    tuplasGB=[binomio2Zn(b,variablesGB(gb)) for b in gb]\n",
    "    ts=[vv[0]+vv[1] for vv in tuplasGB]\n",
    "    for vv in ts:\n",
    "        for ww in Rs:\n",
    "            if supportIncluded(vv,ww):\n",
    "                if showTuple:\n",
    "                    print(\"Support of\",vv,\"included in the support of\",ww)\n",
    "                return True\n",
    "    return False"
   ]
  },
  {
   "cell_type": "code",
   "execution_count": 28,
   "id": "18d6c59f",
   "metadata": {
    "ExecuteTime": {
     "end_time": "2021-04-29T17:04:18.899019Z",
     "start_time": "2021-04-29T17:04:18.893019Z"
    },
    "hidden": true
   },
   "outputs": [],
   "source": [
    "def computationOfC(lTElasticity):\n",
    "    projLTE=[projection01(vv) for vv in lTElasticity]\n",
    "\n",
    "    res = []\n",
    "    [res.append(x) for x in projLTE if x not in res]\n",
    "\n",
    "    projLTE=res\n",
    "    #print(projLTE)\n",
    "    lOld=0\n",
    "    while lOld!=len(projLTE):\n",
    "        lOld=len(projLTE)\n",
    "        listAux=list(projLTE)\n",
    "        for i,A in enumerate(listAux):\n",
    "            for j,B in enumerate(listAux[i+1:]):\n",
    "                C=supreme(A,B)\n",
    "                #print(\"C\",C)\n",
    "                if not C in projLTE:\n",
    "                    projLTE.append(C)\n",
    "    \n",
    "    dim2=len(lTElasticity[0])//2\n",
    "    aux=[supreme(vv[0:dim2],vv[dim2:]) for vv in projLTE]\n",
    "\n",
    "                    \n",
    "    return(projLTE,aux)"
   ]
  },
  {
   "cell_type": "code",
   "execution_count": 29,
   "id": "4d7759fa",
   "metadata": {
    "ExecuteTime": {
     "end_time": "2021-04-29T17:04:19.388136Z",
     "start_time": "2021-04-29T17:04:19.380464Z"
    },
    "hidden": true
   },
   "outputs": [],
   "source": [
    "def areInTheSameAC(ac1,ac2,AC):\n",
    "    for cc in AC:\n",
    "        if ac1 in cc:\n",
    "            if ac2 in cc:\n",
    "                return True\n",
    "            else:\n",
    "                return False"
   ]
  },
  {
   "cell_type": "markdown",
   "id": "071197c2",
   "metadata": {},
   "source": [
    "### Function `hasAcceptableElasticity`"
   ]
  },
  {
   "cell_type": "code",
   "execution_count": 39,
   "id": "35a42435",
   "metadata": {
    "ExecuteTime": {
     "end_time": "2021-04-29T17:51:20.295574Z",
     "start_time": "2021-04-29T17:51:20.286231Z"
    }
   },
   "outputs": [],
   "source": [
    "def hasAcceptableElasticity(gb1, debug=False):\n",
    "    rho,lTElasticity=elasticity(gb1)\n",
    "    AC=ArchimedeanComponents(gb1)\n",
    "    Cmonoid,Caux=computationOfC(lTElasticity)\n",
    "    \n",
    "    #for cc in Cmonoid:\n",
    "    #    izq=cc[:len(cc)//2]\n",
    "    #    der=cc[len(cc)//2:]\n",
    "    #    tt=areInTheSameAC(izq,der,AC)\n",
    "        \n",
    "    Cset=[cc for cc in Cmonoid if areInTheSameAC(cc[:len(cc)//2],cc[len(cc)//2:],AC)]\n",
    "    if Cset==[]:\n",
    "        print(\"S has not acceptable elasticity\")\n",
    "        return\n",
    "    \n",
    "    lVV=gb1.args[1]\n",
    "    if debug:\n",
    "        print(lVV,\"\\n\")\n",
    "    for tt1 in Cset:\n",
    "        tam=len(tt1)\n",
    "        print(\"tt1\",tt1)\n",
    "        izq=tt1[:tam//2]\n",
    "        der=tt1[tam//2:]\n",
    "        if debug:\n",
    "            print(izq,der)\n",
    "        tt=supreme(izq,der)\n",
    "\n",
    "        posIzq=[i for i,vp in enumerate(izq) if vp!=0]\n",
    "        posDer=[i for i,vp in enumerate(der) if vp!=0]\n",
    "        goodPos=posIzq+posDer\n",
    "        goodPos.sort()\n",
    "        tamGood=len(goodPos)\n",
    "        if debug:\n",
    "            print(\"Good positions\",goodPos)\n",
    "        supportA=[izq[i] for i in goodPos]\n",
    "        supportB=[der[i] for i in goodPos]\n",
    "        if debug:\n",
    "            print(\"supportA supportB\",supportA,supportB)\n",
    "        print(tt)\n",
    "        lVaux1=[var for i,var in enumerate(lVV) if tt[i]==0]\n",
    "        lVaux2=[var for i,var in enumerate(lVV) if tt[i]==1]\n",
    "        if debug:\n",
    "            print(\"lVaux2\",lVaux2)\n",
    "        gbT=groebner(gb1,lVaux1+lVaux2)\n",
    "        print(gbT)\n",
    "        #print(removeBinomialsHavingVariables(gbT,lVaux1))\n",
    "        gbTAux=groebner( removeBinomialsHavingVariables(gbT,lVaux1) )\n",
    "        print(gbTAux)\n",
    "        ACTaux=ArchimedeanComponents(gbTAux)\n",
    "        print(ACTaux)\n",
    "        eqM=computeEquationsOfMFromGB(gbTAux)\n",
    "        print(\"equations\",eqM)\n",
    "        cone=Cone(equations=[l+[-a for a in l] for l in eqM])\n",
    "        base=cone.HilbertBasis()\n",
    "        if debug:\n",
    "            print(\"base\",base)\n",
    "            print()\n",
    "\n",
    "        genInclAB=[g for g in base if supportIncluded(g[:tamGood],supportA) and supportIncluded(g[tamGood:],supportB)]    \n",
    "        print(\"genInclAB\",genInclAB)\n",
    "        laux=[0 for i in range(tamGood)]\n",
    "        for tg in genInclAB:\n",
    "            supr=supreme( projection01(tg[:tamGood]), projection01(tg[tamGood:]) )\n",
    "            laux=supreme(supr,laux)\n",
    "        if laux==[1 for i in range(tamGood)]:\n",
    "            print(\"S has acceptable elasticity\")\n",
    "        else:\n",
    "            print(\"S has NOT acceptable elasticity\")"
   ]
  },
  {
   "cell_type": "markdown",
   "id": "3afdac44",
   "metadata": {
    "heading_collapsed": true
   },
   "source": [
    "### Example of how to use the function `hasAcceptableElasticity`"
   ]
  },
  {
   "cell_type": "code",
   "execution_count": 40,
   "id": "b9ad8a42",
   "metadata": {
    "ExecuteTime": {
     "end_time": "2021-04-29T17:51:24.804112Z",
     "start_time": "2021-04-29T17:51:21.710836Z"
    },
    "hidden": true
   },
   "outputs": [
    {
     "data": {
      "text/latex": [
       "$\\displaystyle GroebnerBasis\\left(\\left( x_{1}^{4} - x_{2}^{3}, \\  x_{1}^{3} x_{2}^{3} z_{3}^{2} - z_{2}^{3}, \\  x_{1}^{3} z_{1} z_{2} - x_{2}^{2} z_{2}^{2}, \\  x_{1}^{3} z_{1} z_{3} - x_{2}^{2} z_{2} z_{3}, \\  x_{1}^{2} x_{2}^{3} z_{3}^{3} - z_{1}^{3} z_{3}, \\  x_{1}^{2} z_{1}^{2} z_{2} - x_{2} z_{2}^{3}, \\  x_{1}^{2} z_{1}^{2} z_{3} - x_{2} z_{2}^{2} z_{3}, \\  x_{1} x_{2}^{4} z_{3}^{2} - z_{1}^{2} z_{2}, \\  x_{1} z_{1}^{3} z_{2} - z_{2}^{4}, \\  x_{1} z_{1}^{3} z_{3} - z_{2}^{3} z_{3}, \\  x_{1} z_{2}^{2} - x_{2} z_{1} z_{2}, \\  x_{1} z_{2} z_{3} - x_{2} z_{1} z_{3}, \\  x_{2}^{5} z_{3}^{2} - z_{1} z_{2}^{2}, \\  x_{2}^{4} z_{2}^{3} z_{3}^{2} - z_{1}^{5} z_{2}, \\  x_{2}^{4} z_{2}^{2} z_{3}^{3} - z_{1}^{5} z_{3}, \\  x_{2}^{3} z_{2}^{7} z_{3}^{2} - z_{1}^{9} z_{2}, \\  x_{2}^{3} z_{2}^{6} z_{3}^{3} - z_{1}^{9} z_{3}, \\  x_{2}^{2} z_{2}^{11} z_{3}^{2} - z_{1}^{13} z_{2}, \\  x_{2}^{2} z_{2}^{10} z_{3}^{3} - z_{1}^{13} z_{3}, \\  x_{2} z_{1}^{4} z_{2} - z_{2}^{5}, \\  x_{2} z_{1}^{4} z_{3} - z_{2}^{4} z_{3}, \\  x_{2} z_{2}^{15} z_{3}^{2} - z_{1}^{17} z_{2}, \\  x_{2} z_{2}^{14} z_{3}^{3} - z_{1}^{17} z_{3}, \\  z_{1}^{21} z_{2} - z_{2}^{19} z_{3}^{2}, \\  z_{1}^{21} z_{3} - z_{2}^{18} z_{3}^{3}\\right), \\left( x_{1}, \\  x_{2}, \\  z_{1}, \\  z_{2}, \\  z_{3}\\right)\\right)$"
      ],
      "text/plain": [
       "             ⎛⎡  4     3    3   3   2     3    3           2   2    3         \n",
       "GroebnerBasis⎝⎣x₁  - x₂ , x₁ ⋅x₂ ⋅z₃  - z₂ , x₁ ⋅z₁⋅z₂ - x₂ ⋅z₂ , x₁ ⋅z₁⋅z₃ - \n",
       "\n",
       "  2          2   3   3     3       2   2           3    2   2           2     \n",
       "x₂ ⋅z₂⋅z₃, x₁ ⋅x₂ ⋅z₃  - z₁ ⋅z₃, x₁ ⋅z₁ ⋅z₂ - x₂⋅z₂ , x₁ ⋅z₁ ⋅z₃ - x₂⋅z₂ ⋅z₃, \n",
       "\n",
       "     4   2     2          3        4       3        3          2              \n",
       "x₁⋅x₂ ⋅z₃  - z₁ ⋅z₂, x₁⋅z₁ ⋅z₂ - z₂ , x₁⋅z₁ ⋅z₃ - z₂ ⋅z₃, x₁⋅z₂  - x₂⋅z₁⋅z₂, x\n",
       "\n",
       "                      5   2        2    4   3   2     5       4   2   3     5 \n",
       "₁⋅z₂⋅z₃ - x₂⋅z₁⋅z₃, x₂ ⋅z₃  - z₁⋅z₂ , x₂ ⋅z₂ ⋅z₃  - z₁ ⋅z₂, x₂ ⋅z₂ ⋅z₃  - z₁ ⋅\n",
       "\n",
       "      3   7   2     9       3   6   3     9       2   11   2     13       2   \n",
       "z₃, x₂ ⋅z₂ ⋅z₃  - z₁ ⋅z₂, x₂ ⋅z₂ ⋅z₃  - z₁ ⋅z₃, x₂ ⋅z₂  ⋅z₃  - z₁  ⋅z₂, x₂ ⋅z₂\n",
       "\n",
       "10   3     13          4        5       4        4          15   2     17     \n",
       "  ⋅z₃  - z₁  ⋅z₃, x₂⋅z₁ ⋅z₂ - z₂ , x₂⋅z₁ ⋅z₃ - z₂ ⋅z₃, x₂⋅z₂  ⋅z₃  - z₁  ⋅z₂, \n",
       "\n",
       "     14   3     17       21        19   2    21        18   3⎤                \n",
       "x₂⋅z₂  ⋅z₃  - z₁  ⋅z₃, z₁  ⋅z₂ - z₂  ⋅z₃ , z₁  ⋅z₃ - z₂  ⋅z₃ ⎦, x₁, x₂, z₁, z₂\n",
       "\n",
       "                         ⎞\n",
       ", z₃, domain=ℤ, order=lex⎠"
      ]
     },
     "metadata": {},
     "output_type": "display_data"
    },
    {
     "name": "stdout",
     "output_type": "stream",
     "text": [
      "(x1, x2, z1, z2, z3) \n",
      "\n",
      "tt1 [1, 0, 0, 0, 1, 0, 0, 0, 1, 0]\n",
      "[1, 0, 0, 0, 1] [0, 0, 0, 1, 0]\n",
      "Good positions [0, 3, 4]\n",
      "supportA supportB [1, 0, 1] [0, 1, 0]\n",
      "[1, 0, 0, 1, 1]\n",
      "lVaux2 [x1, z2, z3]\n",
      "GroebnerBasis([-x1**4 + x2**3, x1**4*x2**2*z3**2 - z1*z2**2, -x1**3*z1*z2 + x2**2*z2**2, -x1**3*z1*z3 + x2**2*z2*z3, -x1*z2**2 + x2*z1*z2, -x1*z2*z3 + x2*z1*z3, x1**5*x2*z3**2 - z1**2*z2, -x1**2*z1**2*z2 + x2*z2**3, -x1**2*z1**2*z3 + x2*z2**2*z3, -x1**6*z2*z3**2 + z1**3*z2, -x1**6*z3**3 + z1**3*z3, x1**7*z3**2 - z2**3], x2, z1, x1, z2, z3, domain='ZZ', order='lex')\n",
      "GroebnerBasis([x1**7*z3**2 - z2**3], x1, z2, z3, domain='ZZ', order='lex')\n",
      "[[[0, 0, 0]], [[0, 0, 1]], [[0, 1, 0], [0, 1, 1], [1, 0, 1], [1, 1, 0], [1, 1, 1]], [[1, 0, 0]]]\n",
      "equations [[0, -2, -3], [1, -7, -14]]\n",
      "base [[0, 0, 1, 0, 0, 1], [0, 1, 0, 0, 1, 0], [0, 3, 0, 7, 0, 2], [1, 0, 0, 1, 0, 0], [7, 0, 2, 0, 3, 0]]\n",
      "\n",
      "genInclAB [[7, 0, 2, 0, 3, 0]]\n",
      "S has acceptable elasticity\n"
     ]
    }
   ],
   "source": [
    "gb=computationIS([3],[4],[6,12],[7,10,13],[0,3,6,9])\n",
    "#lprint(\"Groebner basis:\")\n",
    "#lprint(gb.args[0])\n",
    "#lprint(\"Variables used:\")\n",
    "#lprint(gb.args[1])\n",
    "display(gb)\n",
    "hasAcceptableElasticity(gb,debug=True)"
   ]
  },
  {
   "cell_type": "markdown",
   "id": "a4a4ef9a",
   "metadata": {},
   "source": [
    "## Examples"
   ]
  },
  {
   "cell_type": "markdown",
   "id": "7755d3e4",
   "metadata": {},
   "source": [
    "### Example 1"
   ]
  },
  {
   "cell_type": "markdown",
   "id": "6d2222e4",
   "metadata": {},
   "source": [
    "The following semigroup is not cancellative (see the Groebner basis obtained, there are variables that are not cancelled in some binomials)"
   ]
  },
  {
   "cell_type": "code",
   "execution_count": 71,
   "id": "d629cba0",
   "metadata": {
    "ExecuteTime": {
     "end_time": "2021-04-30T09:48:31.688282Z",
     "start_time": "2021-04-30T09:48:31.677883Z"
    }
   },
   "outputs": [
    {
     "data": {
      "text/latex": [
       "$\\displaystyle \\left[ 4, \\  7, \\  9, \\  10, \\  12, \\  13, \\  15, \\  18\\right]$"
      ],
      "text/plain": [
       "[4, 7, 9, 10, 12, 13, 15, 18]"
      ]
     },
     "metadata": {},
     "output_type": "display_data"
    },
    {
     "data": {
      "text/latex": [
       "$\\displaystyle \\left[ 2, \\  5, \\  7, \\  8, \\  10, \\  12, \\  13, \\  15, \\  18\\right]$"
      ],
      "text/plain": [
       "[2, 5, 7, 8, 10, 12, 13, 15, 18]"
      ]
     },
     "metadata": {},
     "output_type": "display_data"
    },
    {
     "data": {
      "text/latex": [
       "$\\displaystyle \\left[ 7, \\  10, \\  12, \\  13, \\  15, \\  17, \\  18, \\  20, \\  22, \\  23, \\  25, \\  27, \\  28, \\  30, \\  33\\right]$"
      ],
      "text/plain": [
       "[7, 10, 12, 13, 15, 17, 18, 20, 22, 23, 25, 27, 28, 30, 33]"
      ]
     },
     "metadata": {},
     "output_type": "display_data"
    }
   ],
   "source": [
    "vc1=((3 |mult| [0,3]) |add| [0,5]) |add| [4] \n",
    "vc2=((2 |mult| [0,3]) |add| (2 |mult| [0,5])) |add| [2] \n",
    "vc3=((2 |mult| [0,3]) |add| (4 |mult| [0,5])) |add| [7] \n",
    "display(vc1)\n",
    "display(vc2)\n",
    "display(vc3)"
   ]
  },
  {
   "cell_type": "code",
   "execution_count": 72,
   "id": "9897adc4",
   "metadata": {
    "ExecuteTime": {
     "end_time": "2021-04-30T09:54:43.868057Z",
     "start_time": "2021-04-30T09:48:48.010259Z"
    }
   },
   "outputs": [
    {
     "name": "stdout",
     "output_type": "stream",
     "text": [
      "[[0, 3], [0, 5]]\n",
      "gb1 [x1**7 - x2**3, x1**6*z1**3 - x2**3*z2*z3, x1**5*z1**6 - x2**3*z2**2*z3**2, x1**4*z2**5 - z1**2*z3**2, x1**4*z3**3 - x2**3*z1*z2**4, x1**3*z1**2*z3**2 - x2**3*z2**5, x1**3*z1*z2**4 - z3**3, x1**2*z1**5*z3 - x2**3*z2**6, x1**2*z1**4*z2**3 - z3**4, x1*z1**8 - x2**3*z2**7, x1*z1**7*z2**2 - z3**5, x1*z2*z3 - z1**3, x1*z3**6 - x2**3*z1**2*z2**8, x2**3*z2**9 - z1*z3**5, x2**3*z2**8*z3 - z1**11, x2**3*z2**7*z3**7 - z1**21, x2**3*z2**6*z3**13 - z1**31, x2**3*z2**5*z3**19 - z1**41, x2**3*z2**4*z3**25 - z1**51, x2**3*z2**3*z3**31 - z1**61, x2**3*z2**2*z3**37 - z1**71, x2**3*z2*z3**43 - z1**81, x2**3*z3**49 - z1**91, z1**10*z2 - z3**6]\n",
      "lVariables [x1, x2, z1, z2, z3]\n"
     ]
    },
    {
     "data": {
      "text/latex": [
       "$\\displaystyle GroebnerBasis\\left(\\left( x_{1}^{7} - x_{2}^{3}, \\  x_{1}^{6} z_{1}^{3} - x_{2}^{3} z_{2} z_{3}, \\  x_{1}^{5} z_{1}^{6} - x_{2}^{3} z_{2}^{2} z_{3}^{2}, \\  x_{1}^{4} z_{2}^{5} - z_{1}^{2} z_{3}^{2}, \\  x_{1}^{4} z_{3}^{3} - x_{2}^{3} z_{1} z_{2}^{4}, \\  x_{1}^{3} z_{1}^{2} z_{3}^{2} - x_{2}^{3} z_{2}^{5}, \\  x_{1}^{3} z_{1} z_{2}^{4} - z_{3}^{3}, \\  x_{1}^{2} z_{1}^{5} z_{3} - x_{2}^{3} z_{2}^{6}, \\  x_{1}^{2} z_{1}^{4} z_{2}^{3} - z_{3}^{4}, \\  x_{1} z_{1}^{8} - x_{2}^{3} z_{2}^{7}, \\  x_{1} z_{1}^{7} z_{2}^{2} - z_{3}^{5}, \\  x_{1} z_{2} z_{3} - z_{1}^{3}, \\  x_{1} z_{3}^{6} - x_{2}^{3} z_{1}^{2} z_{2}^{8}, \\  x_{2}^{3} z_{2}^{9} - z_{1} z_{3}^{5}, \\  x_{2}^{3} z_{2}^{8} z_{3} - z_{1}^{11}, \\  x_{2}^{3} z_{2}^{7} z_{3}^{7} - z_{1}^{21}, \\  x_{2}^{3} z_{2}^{6} z_{3}^{13} - z_{1}^{31}, \\  x_{2}^{3} z_{2}^{5} z_{3}^{19} - z_{1}^{41}, \\  x_{2}^{3} z_{2}^{4} z_{3}^{25} - z_{1}^{51}, \\  x_{2}^{3} z_{2}^{3} z_{3}^{31} - z_{1}^{61}, \\  x_{2}^{3} z_{2}^{2} z_{3}^{37} - z_{1}^{71}, \\  x_{2}^{3} z_{2} z_{3}^{43} - z_{1}^{81}, \\  x_{2}^{3} z_{3}^{49} - z_{1}^{91}, \\  z_{1}^{10} z_{2} - z_{3}^{6}\\right), \\left( x_{1}, \\  x_{2}, \\  z_{1}, \\  z_{2}, \\  z_{3}\\right)\\right)$"
      ],
      "text/plain": [
       "             ⎛⎡  7     3    6   3     3          5   6     3   2   2    4   5 \n",
       "GroebnerBasis⎝⎣x₁  - x₂ , x₁ ⋅z₁  - x₂ ⋅z₂⋅z₃, x₁ ⋅z₁  - x₂ ⋅z₂ ⋅z₃ , x₁ ⋅z₂  \n",
       "\n",
       "    2   2    4   3     3      4    3   2   2     3   5    3      4     3    2 \n",
       "- z₁ ⋅z₃ , x₁ ⋅z₃  - x₂ ⋅z₁⋅z₂ , x₁ ⋅z₁ ⋅z₃  - x₂ ⋅z₂ , x₁ ⋅z₁⋅z₂  - z₃ , x₁ ⋅\n",
       "\n",
       "  5        3   6    2   4   3     4       8     3   7       7   2     5       \n",
       "z₁ ⋅z₃ - x₂ ⋅z₂ , x₁ ⋅z₁ ⋅z₂  - z₃ , x₁⋅z₁  - x₂ ⋅z₂ , x₁⋅z₁ ⋅z₂  - z₃ , x₁⋅z₂\n",
       "\n",
       "        3       6     3   2   8    3   9        5    3   8        11    3   7 \n",
       "⋅z₃ - z₁ , x₁⋅z₃  - x₂ ⋅z₁ ⋅z₂ , x₂ ⋅z₂  - z₁⋅z₃ , x₂ ⋅z₂ ⋅z₃ - z₁  , x₂ ⋅z₂ ⋅\n",
       "\n",
       "  7     21    3   6   13     31    3   5   19     41    3   4   25     51    3\n",
       "z₃  - z₁  , x₂ ⋅z₂ ⋅z₃   - z₁  , x₂ ⋅z₂ ⋅z₃   - z₁  , x₂ ⋅z₂ ⋅z₃   - z₁  , x₂ \n",
       "\n",
       "   3   31     61    3   2   37     71    3      43     81    3   49     91    \n",
       "⋅z₂ ⋅z₃   - z₁  , x₂ ⋅z₂ ⋅z₃   - z₁  , x₂ ⋅z₂⋅z₃   - z₁  , x₂ ⋅z₃   - z₁  , z₁\n",
       "\n",
       "10        6⎤                                         ⎞\n",
       "  ⋅z₂ - z₃ ⎦, x₁, x₂, z₁, z₂, z₃, domain=ℤ, order=lex⎠"
      ]
     },
     "metadata": {},
     "output_type": "display_data"
    }
   ],
   "source": [
    "gb1=computationIS([3],[7],vc1,vc2,vc3,debug=True)\n",
    "display( gb1 )"
   ]
  },
  {
   "cell_type": "code",
   "execution_count": 75,
   "id": "99b05505",
   "metadata": {
    "ExecuteTime": {
     "end_time": "2021-04-30T09:58:18.520664Z",
     "start_time": "2021-04-30T09:58:16.334105Z"
    }
   },
   "outputs": [
    {
     "name": "stdout",
     "output_type": "stream",
     "text": [
      "Cono positivo M: []\n",
      "Equations of M\n",
      "[[39, 91, 3, -30, 0], [84, 196, 7, -64, 1]]\n",
      "Elasticity: 23/8\n",
      "[[10, 0, 0, 13, 0, 0, 0, 0, 0, 8]]\n"
     ]
    }
   ],
   "source": [
    "elasticidad1,Rs1=elasticity(gb1,verbose=True)\n",
    "print(\"Elasticity:\",elasticidad1)\n",
    "print(Rs1)"
   ]
  },
  {
   "cell_type": "code",
   "execution_count": 76,
   "id": "097d3f9d",
   "metadata": {
    "ExecuteTime": {
     "end_time": "2021-04-30T09:58:25.713902Z",
     "start_time": "2021-04-30T09:58:23.519548Z"
    }
   },
   "outputs": [
    {
     "name": "stdout",
     "output_type": "stream",
     "text": [
      "(x1, x2, z1, z2, z3) \n",
      "\n",
      "tt1 [1, 0, 0, 1, 0, 0, 0, 0, 0, 1]\n",
      "[1, 0, 0, 1, 0] [0, 0, 0, 0, 1]\n",
      "Good positions [0, 3, 4]\n",
      "supportA supportB [1, 1, 0] [0, 0, 1]\n",
      "[1, 0, 0, 1, 1]\n",
      "lVaux2 [x1, z2, z3]\n",
      "GroebnerBasis([-x1**7 + x2**3, -x1*z2*z3 + z1**3, -x1**4*z2**5 + z1**2*z3**2, x1**3*z1*z2**4 - z3**3, -x1**7*z2**9 + z1*z3**5, x1**10*z2**13 - z3**8], x2, z1, x1, z2, z3, domain='ZZ', order='lex')\n",
      "GroebnerBasis([x1**10*z2**13 - z3**8], x1, z2, z3, domain='ZZ', order='lex')\n",
      "[[[0, 0, 0]], [[0, 0, 1], [0, 1, 1], [1, 0, 1], [1, 1, 0], [1, 1, 1]], [[0, 1, 0]], [[1, 0, 0]]]\n",
      "equations [[0, -8, -13], [1, 30, 50]]\n",
      "base [[0, 0, 1, 0, 0, 1], [0, 0, 8, 10, 13, 0], [0, 1, 0, 0, 1, 0], [1, 0, 0, 1, 0, 0], [10, 13, 0, 0, 0, 8]]\n",
      "\n",
      "genInclAB [[10, 13, 0, 0, 0, 8]]\n",
      "S has acceptable elasticity\n"
     ]
    }
   ],
   "source": [
    "hasAcceptableElasticity(gb1,debug=True)"
   ]
  },
  {
   "cell_type": "markdown",
   "id": "7d5eeef9",
   "metadata": {},
   "source": [
    "### Example 2"
   ]
  },
  {
   "cell_type": "code",
   "execution_count": 77,
   "id": "cb95f8aa",
   "metadata": {
    "ExecuteTime": {
     "end_time": "2021-04-30T09:58:55.691202Z",
     "start_time": "2021-04-30T09:58:55.663897Z"
    }
   },
   "outputs": [
    {
     "data": {
      "text/latex": [
       "$\\displaystyle \\left( \\left[ 8, \\  12, \\  13, \\  16, \\  17, \\  18, \\  20, \\  21, \\  22, \\  25, \\  26, \\  30\\right], \\  \\left[ 7, \\  11, \\  12, \\  15, \\  16, \\  20\\right], \\  \\left[ 0, \\  4, \\  5, \\  8, \\  9, \\  10, \\  12, \\  13, \\  14, \\  15, \\  17, \\  18, \\  19, \\  22, \\  23, \\  27\\right], \\  \\left[ 2, \\  6, \\  7, \\  10, \\  11, \\  14, \\  15, \\  18, \\  19, \\  23\\right]\\right)$"
      ],
      "text/plain": [
       "([8, 12, 13, 16, 17, 18, 20, 21, 22, 25, 26, 30], [7, 11, 12, 15, 16, 20], [0,\n",
       " 4, 5, 8, 9, 10, 12, 13, 14, 15, 17, 18, 19, 22, 23, 27], [2, 6, 7, 10, 11, 14\n",
       ", 15, 18, 19, 23])"
      ]
     },
     "execution_count": 77,
     "metadata": {},
     "output_type": "execute_result"
    }
   ],
   "source": [
    "vec1=( (3 |mult| [0,4]) |add| (2 |mult| [0,5]) ) |add| [8]\n",
    "vec2=((2 |mult| [0,4]) |add| [0,5])|add| [7]\n",
    "vec3=(3 |mult| [0,4]) |add| (3 |mult| [0,5])\n",
    "vec4=( (4 |mult| [0,4]) |add| (1 |mult| [0,5]) ) |add| [2]\n",
    "vec1,vec2,vec3,vec4"
   ]
  },
  {
   "cell_type": "code",
   "execution_count": null,
   "id": "73536e5b",
   "metadata": {
    "ExecuteTime": {
     "start_time": "2021-04-30T09:59:15.916Z"
    }
   },
   "outputs": [
    {
     "name": "stdout",
     "output_type": "stream",
     "text": [
      "[[0, 4], [0, 5]]\n"
     ]
    }
   ],
   "source": [
    "gb2=computationIS(vec1,vec2,vec3,vec4,\n",
    "                  debug=True)\n",
    "display(gb2)"
   ]
  },
  {
   "cell_type": "code",
   "execution_count": 79,
   "id": "57bd18d9",
   "metadata": {
    "ExecuteTime": {
     "end_time": "2021-04-30T23:22:16.250937Z",
     "start_time": "2021-04-30T23:22:16.224853Z"
    }
   },
   "outputs": [
    {
     "data": {
      "text/latex": [
       "$\\displaystyle GroebnerBasis\\left(\\left( z_{1}^{31} - z_{2}^{34} z_{3}^{5} z_{4}^{5}, \\  z_{1}^{18} z_{3} - z_{2}^{18} z_{4}^{9}, \\  z_{1}^{13} z_{4}^{4} - z_{2}^{16} z_{3}^{6}, \\  z_{1}^{8} z_{4}^{17} - z_{2}^{14} z_{3}^{13}, \\  z_{1}^{5} z_{3}^{7} - z_{2}^{2} z_{4}^{13}, \\  z_{1}^{3} z_{4}^{30} - z_{2}^{12} z_{3}^{20}, \\  z_{1}^{2} z_{2}^{10} z_{3}^{27} - z_{4}^{43}, \\  z_{1} z_{2}^{32} z_{3}^{74} - z_{4}^{116}, \\  z_{1} z_{4}^{73} - z_{2}^{22} z_{3}^{47}, \\  z_{2}^{54} z_{3}^{121} - z_{4}^{189}\\right), \\left( z_{1}, \\  z_{2}, \\  z_{3}, \\  z_{4}\\right)\\right)$"
      ],
      "text/plain": [
       "             ⎛⎡  31     34   5   5    18        18   9    13   4     16   6   \n",
       "GroebnerBasis⎝⎣z₁   - z₂  ⋅z₃ ⋅z₄ , z₁  ⋅z₃ - z₂  ⋅z₄ , z₁  ⋅z₄  - z₂  ⋅z₃ , z\n",
       "\n",
       " 8   17     14   13    5   7     2   13    3   30     12   20    2   10   27  \n",
       "₁ ⋅z₄   - z₂  ⋅z₃  , z₁ ⋅z₃  - z₂ ⋅z₄  , z₁ ⋅z₄   - z₂  ⋅z₃  , z₁ ⋅z₂  ⋅z₃   -\n",
       "\n",
       "   43       32   74     116       73     22   47    54   121     189⎤         \n",
       " z₄  , z₁⋅z₂  ⋅z₃   - z₄   , z₁⋅z₄   - z₂  ⋅z₃  , z₂  ⋅z₃    - z₄   ⎦, z₁, z₂,\n",
       "\n",
       "                            ⎞\n",
       " z₃, z₄, domain=ℤ, order=lex⎠"
      ]
     },
     "execution_count": 79,
     "metadata": {},
     "output_type": "execute_result"
    }
   ],
   "source": [
    "gb2"
   ]
  },
  {
   "cell_type": "code",
   "execution_count": 80,
   "id": "0ed6e255",
   "metadata": {
    "ExecuteTime": {
     "end_time": "2021-04-30T23:22:30.476851Z",
     "start_time": "2021-04-30T23:22:30.397041Z"
    }
   },
   "outputs": [
    {
     "name": "stdout",
     "output_type": "stream",
     "text": [
      "Cono positivo M: []\n",
      "Equations of M\n",
      "[[-50, 0, -189, -121], [-2356, 1, -8910, -5704]]\n"
     ]
    },
    {
     "data": {
      "text/plain": [
       "(Fraction(174, 121), [[0, 124, 0, 50, 121, 0, 0, 0]])"
      ]
     },
     "execution_count": 80,
     "metadata": {},
     "output_type": "execute_result"
    }
   ],
   "source": [
    "elasticidad2,Rs2=elasticidad,Rs=elasticity(gb2,verbose=True)\n",
    "elasticidad2,Rs2"
   ]
  },
  {
   "cell_type": "code",
   "execution_count": 81,
   "id": "086b808f",
   "metadata": {
    "ExecuteTime": {
     "end_time": "2021-04-30T23:22:31.616745Z",
     "start_time": "2021-04-30T23:22:31.514897Z"
    }
   },
   "outputs": [
    {
     "name": "stdout",
     "output_type": "stream",
     "text": [
      "(z1, z2, z3, z4) \n",
      "\n",
      "tt1 [0, 1, 0, 1, 1, 0, 0, 0]\n",
      "[0, 1, 0, 1] [1, 0, 0, 0]\n",
      "Good positions [0, 1, 3]\n",
      "supportA supportB [0, 1, 1] [1, 0, 0]\n",
      "[1, 1, 0, 1]\n",
      "lVaux2 [z1, z2, z4]\n",
      "GroebnerBasis([z1**2*z2**10*z3**27 - z4**43, -z1**3*z4**30 + z2**12*z3**20, -z1**8*z4**17 + z2**14*z3**13, z1**5*z3**7 - z2**2*z4**13, -z1**13*z4**4 + z2**16*z3**6, -z1**31 + z2**34*z3**5*z4**5, -z1**49 + z2**52*z3**4*z4**14, -z1**67 + z2**70*z3**3*z4**23, -z1**85 + z2**88*z3**2*z4**32, z1**18*z3 - z2**18*z4**9, -z1**103 + z2**106*z3*z4**41, z1**121 - z2**124*z4**50], z3, z1, z2, z4, domain='ZZ', order='lex')\n",
      "GroebnerBasis([z1**121 - z2**124*z4**50], z1, z2, z4, domain='ZZ', order='lex')\n",
      "[[[0, 0, 0]], [[0, 0, 1]], [[0, 1, 0]], [[0, 1, 1], [1, 0, 0], [1, 0, 1], [1, 1, 0], [1, 1, 1]]]\n",
      "equations [[0, 25, -62], [-2, 242, -605]]\n",
      "base [[0, 0, 1, 0, 0, 1], [0, 1, 0, 0, 1, 0], [0, 124, 50, 121, 0, 0], [1, 0, 0, 1, 0, 0], [121, 0, 0, 0, 124, 50]]\n",
      "\n",
      "genInclAB [[0, 124, 50, 121, 0, 0]]\n",
      "S has acceptable elasticity\n"
     ]
    }
   ],
   "source": [
    "hasAcceptableElasticity(gb2,debug=True)"
   ]
  },
  {
   "cell_type": "markdown",
   "id": "30f2cc7e",
   "metadata": {},
   "source": [
    "### Example 3"
   ]
  },
  {
   "cell_type": "markdown",
   "id": "64034c2a",
   "metadata": {},
   "source": [
    "The monoid considered is $\\langle \\{3\\},\\{4\\},\\{6,12\\},\\{7,10,13\\},\\{0,3,6,9\\} \\rangle$"
   ]
  },
  {
   "cell_type": "code",
   "execution_count": 82,
   "id": "6b52e0d4",
   "metadata": {
    "ExecuteTime": {
     "end_time": "2021-04-30T23:22:56.848366Z",
     "start_time": "2021-04-30T23:22:56.283328Z"
    }
   },
   "outputs": [],
   "source": [
    "gb3=computationIS([3],[4],[6,12],[7,10,13],[0,3,6,9])"
   ]
  },
  {
   "cell_type": "code",
   "execution_count": 84,
   "id": "8708e3db",
   "metadata": {
    "ExecuteTime": {
     "end_time": "2021-04-30T23:23:07.337676Z",
     "start_time": "2021-04-30T23:23:07.283374Z"
    }
   },
   "outputs": [
    {
     "data": {
      "text/latex": [
       "$\\displaystyle GroebnerBasis\\left(\\left( x_{1}^{4} - x_{2}^{3}, \\  x_{1}^{3} x_{2}^{3} z_{3}^{2} - z_{2}^{3}, \\  x_{1}^{3} z_{1} z_{2} - x_{2}^{2} z_{2}^{2}, \\  x_{1}^{3} z_{1} z_{3} - x_{2}^{2} z_{2} z_{3}, \\  x_{1}^{2} x_{2}^{3} z_{3}^{3} - z_{1}^{3} z_{3}, \\  x_{1}^{2} z_{1}^{2} z_{2} - x_{2} z_{2}^{3}, \\  x_{1}^{2} z_{1}^{2} z_{3} - x_{2} z_{2}^{2} z_{3}, \\  x_{1} x_{2}^{4} z_{3}^{2} - z_{1}^{2} z_{2}, \\  x_{1} z_{1}^{3} z_{2} - z_{2}^{4}, \\  x_{1} z_{1}^{3} z_{3} - z_{2}^{3} z_{3}, \\  x_{1} z_{2}^{2} - x_{2} z_{1} z_{2}, \\  x_{1} z_{2} z_{3} - x_{2} z_{1} z_{3}, \\  x_{2}^{5} z_{3}^{2} - z_{1} z_{2}^{2}, \\  x_{2}^{4} z_{2}^{3} z_{3}^{2} - z_{1}^{5} z_{2}, \\  x_{2}^{4} z_{2}^{2} z_{3}^{3} - z_{1}^{5} z_{3}, \\  x_{2}^{3} z_{2}^{7} z_{3}^{2} - z_{1}^{9} z_{2}, \\  x_{2}^{3} z_{2}^{6} z_{3}^{3} - z_{1}^{9} z_{3}, \\  x_{2}^{2} z_{2}^{11} z_{3}^{2} - z_{1}^{13} z_{2}, \\  x_{2}^{2} z_{2}^{10} z_{3}^{3} - z_{1}^{13} z_{3}, \\  x_{2} z_{1}^{4} z_{2} - z_{2}^{5}, \\  x_{2} z_{1}^{4} z_{3} - z_{2}^{4} z_{3}, \\  x_{2} z_{2}^{15} z_{3}^{2} - z_{1}^{17} z_{2}, \\  x_{2} z_{2}^{14} z_{3}^{3} - z_{1}^{17} z_{3}, \\  z_{1}^{21} z_{2} - z_{2}^{19} z_{3}^{2}, \\  z_{1}^{21} z_{3} - z_{2}^{18} z_{3}^{3}\\right), \\left( x_{1}, \\  x_{2}, \\  z_{1}, \\  z_{2}, \\  z_{3}\\right)\\right)$"
      ],
      "text/plain": [
       "             ⎛⎡  4     3    3   3   2     3    3           2   2    3         \n",
       "GroebnerBasis⎝⎣x₁  - x₂ , x₁ ⋅x₂ ⋅z₃  - z₂ , x₁ ⋅z₁⋅z₂ - x₂ ⋅z₂ , x₁ ⋅z₁⋅z₃ - \n",
       "\n",
       "  2          2   3   3     3       2   2           3    2   2           2     \n",
       "x₂ ⋅z₂⋅z₃, x₁ ⋅x₂ ⋅z₃  - z₁ ⋅z₃, x₁ ⋅z₁ ⋅z₂ - x₂⋅z₂ , x₁ ⋅z₁ ⋅z₃ - x₂⋅z₂ ⋅z₃, \n",
       "\n",
       "     4   2     2          3        4       3        3          2              \n",
       "x₁⋅x₂ ⋅z₃  - z₁ ⋅z₂, x₁⋅z₁ ⋅z₂ - z₂ , x₁⋅z₁ ⋅z₃ - z₂ ⋅z₃, x₁⋅z₂  - x₂⋅z₁⋅z₂, x\n",
       "\n",
       "                      5   2        2    4   3   2     5       4   2   3     5 \n",
       "₁⋅z₂⋅z₃ - x₂⋅z₁⋅z₃, x₂ ⋅z₃  - z₁⋅z₂ , x₂ ⋅z₂ ⋅z₃  - z₁ ⋅z₂, x₂ ⋅z₂ ⋅z₃  - z₁ ⋅\n",
       "\n",
       "      3   7   2     9       3   6   3     9       2   11   2     13       2   \n",
       "z₃, x₂ ⋅z₂ ⋅z₃  - z₁ ⋅z₂, x₂ ⋅z₂ ⋅z₃  - z₁ ⋅z₃, x₂ ⋅z₂  ⋅z₃  - z₁  ⋅z₂, x₂ ⋅z₂\n",
       "\n",
       "10   3     13          4        5       4        4          15   2     17     \n",
       "  ⋅z₃  - z₁  ⋅z₃, x₂⋅z₁ ⋅z₂ - z₂ , x₂⋅z₁ ⋅z₃ - z₂ ⋅z₃, x₂⋅z₂  ⋅z₃  - z₁  ⋅z₂, \n",
       "\n",
       "     14   3     17       21        19   2    21        18   3⎤                \n",
       "x₂⋅z₂  ⋅z₃  - z₁  ⋅z₃, z₁  ⋅z₂ - z₂  ⋅z₃ , z₁  ⋅z₃ - z₂  ⋅z₃ ⎦, x₁, x₂, z₁, z₂\n",
       "\n",
       "                         ⎞\n",
       ", z₃, domain=ℤ, order=lex⎠"
      ]
     },
     "metadata": {},
     "output_type": "display_data"
    }
   ],
   "source": [
    "display(gb3)"
   ]
  },
  {
   "cell_type": "code",
   "execution_count": 85,
   "id": "09c446e2",
   "metadata": {
    "ExecuteTime": {
     "end_time": "2021-04-30T23:23:14.397843Z",
     "start_time": "2021-04-30T23:23:11.907092Z"
    }
   },
   "outputs": [
    {
     "data": {
      "text/plain": [
       "(Fraction(3, 1), [[7, 0, 0, 0, 2, 0, 0, 0, 3, 0]])"
      ]
     },
     "execution_count": 85,
     "metadata": {},
     "output_type": "execute_result"
    }
   ],
   "source": [
    "rho3,lTElasticity3=elasticity(gb3)\n",
    "rho3,lTElasticity3"
   ]
  },
  {
   "cell_type": "code",
   "execution_count": 86,
   "id": "71552235",
   "metadata": {
    "ExecuteTime": {
     "end_time": "2021-04-30T23:23:17.232167Z",
     "start_time": "2021-04-30T23:23:14.690641Z"
    }
   },
   "outputs": [
    {
     "name": "stdout",
     "output_type": "stream",
     "text": [
      "(x1, x2, z1, z2, z3) \n",
      "\n",
      "tt1 [1, 0, 0, 0, 1, 0, 0, 0, 1, 0]\n",
      "[1, 0, 0, 0, 1] [0, 0, 0, 1, 0]\n",
      "Good positions [0, 3, 4]\n",
      "supportA supportB [1, 0, 1] [0, 1, 0]\n",
      "[1, 0, 0, 1, 1]\n",
      "lVaux2 [x1, z2, z3]\n",
      "GroebnerBasis([-x1**4 + x2**3, x1**4*x2**2*z3**2 - z1*z2**2, -x1**3*z1*z2 + x2**2*z2**2, -x1**3*z1*z3 + x2**2*z2*z3, -x1*z2**2 + x2*z1*z2, -x1*z2*z3 + x2*z1*z3, x1**5*x2*z3**2 - z1**2*z2, -x1**2*z1**2*z2 + x2*z2**3, -x1**2*z1**2*z3 + x2*z2**2*z3, -x1**6*z2*z3**2 + z1**3*z2, -x1**6*z3**3 + z1**3*z3, x1**7*z3**2 - z2**3], x2, z1, x1, z2, z3, domain='ZZ', order='lex')\n",
      "GroebnerBasis([x1**7*z3**2 - z2**3], x1, z2, z3, domain='ZZ', order='lex')\n",
      "[[[0, 0, 0]], [[0, 0, 1]], [[0, 1, 0], [0, 1, 1], [1, 0, 1], [1, 1, 0], [1, 1, 1]], [[1, 0, 0]]]\n",
      "equations [[0, -2, -3], [1, -7, -14]]\n",
      "base [[0, 0, 1, 0, 0, 1], [0, 1, 0, 0, 1, 0], [0, 3, 0, 7, 0, 2], [1, 0, 0, 1, 0, 0], [7, 0, 2, 0, 3, 0]]\n",
      "\n",
      "genInclAB [[7, 0, 2, 0, 3, 0]]\n",
      "S has acceptable elasticity\n"
     ]
    }
   ],
   "source": [
    "hasAcceptableElasticity(gb3,debug=True)"
   ]
  },
  {
   "cell_type": "markdown",
   "id": "5fe12f5e",
   "metadata": {},
   "source": [
    "### Example 4"
   ]
  },
  {
   "cell_type": "markdown",
   "id": "a34520ee",
   "metadata": {},
   "source": [
    "In this example the monoid is $\\langle \\{3\\},\\{4\\},\\{6,12\\},\\{7,10,13\\} \\rangle$"
   ]
  },
  {
   "cell_type": "code",
   "execution_count": 95,
   "id": "f7a95837",
   "metadata": {
    "ExecuteTime": {
     "end_time": "2021-05-01T08:28:26.206775Z",
     "start_time": "2021-05-01T08:28:26.048042Z"
    }
   },
   "outputs": [
    {
     "data": {
      "text/latex": [
       "$\\displaystyle \\left( x_{1}^{4} - x_{2}^{3}, \\  x_{1}^{3} z_{1} z_{2} - x_{2}^{2} z_{2}^{2}, \\  x_{1}^{2} z_{1}^{2} z_{2} - x_{2} z_{2}^{3}, \\  x_{1} z_{1}^{3} z_{2} - z_{2}^{4}, \\  x_{1} z_{2}^{2} - x_{2} z_{1} z_{2}, \\  x_{2} z_{1}^{4} z_{2} - z_{2}^{5}\\right)$"
      ],
      "text/plain": [
       "⎛  4     3    3           2   2    2   2           3       3        4       2 \n",
       "⎝x₁  - x₂ , x₁ ⋅z₁⋅z₂ - x₂ ⋅z₂ , x₁ ⋅z₁ ⋅z₂ - x₂⋅z₂ , x₁⋅z₁ ⋅z₂ - z₂ , x₁⋅z₂  \n",
       "\n",
       "                 4        5⎞\n",
       "- x₂⋅z₁⋅z₂, x₂⋅z₁ ⋅z₂ - z₂ ⎠"
      ]
     },
     "metadata": {},
     "output_type": "display_data"
    },
    {
     "data": {
      "text/latex": [
       "$\\displaystyle \\left( x_{1}, \\  x_{2}, \\  z_{1}, \\  z_{2}\\right)$"
      ],
      "text/plain": [
       "(x₁, x₂, z₁, z₂)"
      ]
     },
     "metadata": {},
     "output_type": "display_data"
    }
   ],
   "source": [
    "gb4=computationIS([3],[4],[6,12],[7,10,13])\n",
    "display(gb4.args[0])\n",
    "display(gb4.args[1])"
   ]
  },
  {
   "cell_type": "code",
   "execution_count": 105,
   "id": "365e0f84",
   "metadata": {
    "ExecuteTime": {
     "end_time": "2021-05-01T08:30:40.952587Z",
     "start_time": "2021-05-01T08:30:40.925677Z"
    }
   },
   "outputs": [
    {
     "name": "stdout",
     "output_type": "stream",
     "text": [
      "4/3\n",
      "[[1, 0, 3, 0, 0, 0, 0, 3], [2, 0, 2, 0, 0, 1, 0, 2], [3, 0, 1, 0, 0, 2, 0, 1], [4, 0, 0, 0, 0, 3, 0, 0]]\n"
     ]
    }
   ],
   "source": [
    "rho4,lTElasticity4=elasticity(gb4)\n",
    "print(rho4)\n",
    "print(lTElasticity4)"
   ]
  },
  {
   "cell_type": "code",
   "execution_count": 103,
   "id": "0c378bf4",
   "metadata": {
    "ExecuteTime": {
     "end_time": "2021-05-01T08:30:12.480776Z",
     "start_time": "2021-05-01T08:30:12.474162Z"
    }
   },
   "outputs": [
    {
     "name": "stdout",
     "output_type": "stream",
     "text": [
      "[[0, 0, 0, 0]]\n",
      "[[0, 0, 0, 1], [0, 0, 1, 1], [0, 1, 0, 1], [0, 1, 1, 1], [1, 0, 0, 1], [1, 0, 1, 1], [1, 1, 0, 1], [1, 1, 1, 1]]\n",
      "[[0, 0, 1, 0]]\n",
      "[[0, 1, 0, 0], [1, 0, 0, 0], [1, 1, 0, 0]]\n",
      "[[0, 1, 1, 0], [1, 0, 1, 0], [1, 1, 1, 0]]\n"
     ]
    }
   ],
   "source": [
    "AC=ArchimedeanComponents(gb4)\n",
    "for i,component in enumerate(AC):\n",
    "    print(component)"
   ]
  },
  {
   "cell_type": "code",
   "execution_count": 106,
   "id": "9d7263e4",
   "metadata": {
    "ExecuteTime": {
     "end_time": "2021-05-01T08:30:49.718705Z",
     "start_time": "2021-05-01T08:30:47.238132Z"
    }
   },
   "outputs": [
    {
     "name": "stdout",
     "output_type": "stream",
     "text": [
      "3\n",
      "[[7, 0, 0, 0, 2, 0, 0, 0, 3, 0]]\n"
     ]
    }
   ],
   "source": [
    "rho3,lTElasticity3=elasticity(gb3)\n",
    "print(rho3),\n",
    "print(lTElasticity3)"
   ]
  },
  {
   "cell_type": "code",
   "execution_count": 93,
   "id": "84638039",
   "metadata": {
    "ExecuteTime": {
     "end_time": "2021-05-01T08:26:00.111399Z",
     "start_time": "2021-05-01T08:25:57.614315Z"
    }
   },
   "outputs": [
    {
     "name": "stdout",
     "output_type": "stream",
     "text": [
      "(x1, x2, z1, z2, z3) \n",
      "\n",
      "tt1 [1, 0, 0, 0, 1, 0, 0, 0, 1, 0]\n",
      "[1, 0, 0, 0, 1] [0, 0, 0, 1, 0]\n",
      "Good positions [0, 3, 4]\n",
      "supportA supportB [1, 0, 1] [0, 1, 0]\n",
      "[1, 0, 0, 1, 1]\n",
      "lVaux2 [x1, z2, z3]\n",
      "GroebnerBasis([-x1**4 + x2**3, x1**4*x2**2*z3**2 - z1*z2**2, -x1**3*z1*z2 + x2**2*z2**2, -x1**3*z1*z3 + x2**2*z2*z3, -x1*z2**2 + x2*z1*z2, -x1*z2*z3 + x2*z1*z3, x1**5*x2*z3**2 - z1**2*z2, -x1**2*z1**2*z2 + x2*z2**3, -x1**2*z1**2*z3 + x2*z2**2*z3, -x1**6*z2*z3**2 + z1**3*z2, -x1**6*z3**3 + z1**3*z3, x1**7*z3**2 - z2**3], x2, z1, x1, z2, z3, domain='ZZ', order='lex')\n",
      "GroebnerBasis([x1**7*z3**2 - z2**3], x1, z2, z3, domain='ZZ', order='lex')\n",
      "[[[0, 0, 0]], [[0, 0, 1]], [[0, 1, 0], [0, 1, 1], [1, 0, 1], [1, 1, 0], [1, 1, 1]], [[1, 0, 0]]]\n",
      "equations [[0, -2, -3], [1, -7, -14]]\n",
      "base [[0, 0, 1, 0, 0, 1], [0, 1, 0, 0, 1, 0], [0, 3, 0, 7, 0, 2], [1, 0, 0, 1, 0, 0], [7, 0, 2, 0, 3, 0]]\n",
      "\n",
      "genInclAB [[7, 0, 2, 0, 3, 0]]\n",
      "S has acceptable elasticity\n"
     ]
    }
   ],
   "source": [
    "hasAcceptableElasticity(gb3,debug=True)"
   ]
  },
  {
   "cell_type": "markdown",
   "id": "8374910d",
   "metadata": {},
   "source": [
    "----"
   ]
  },
  {
   "cell_type": "code",
   "execution_count": null,
   "id": "5c41bc5f",
   "metadata": {},
   "outputs": [],
   "source": []
  },
  {
   "cell_type": "code",
   "execution_count": null,
   "id": "aff5c510",
   "metadata": {},
   "outputs": [],
   "source": []
  },
  {
   "cell_type": "code",
   "execution_count": 256,
   "id": "343a0706",
   "metadata": {},
   "outputs": [
    {
     "name": "stdout",
     "output_type": "stream",
     "text": [
      "\\{ 4, 0, 0, 0, 0, 0, 3, 0, 0, 0 \\},\n",
      "\\{ 0, 0, 0, 3, 0, 3, 3, 0, 0, 2 \\},\n",
      "\\{ 0, 2, 0, 2, 0, 3, 0, 1, 1, 0 \\},\n",
      "\\{ 3, 0, 1, 0, 1, 0, 2, 0, 1, 1 \\},\n",
      "\\{ 0, 0, 3, 0, 1, 2, 3, 0, 0, 3 \\},\n",
      "\\{ 0, 1, 0, 3, 0, 2, 0, 2, 1, 0 \\},\n",
      "\\{ 2, 0, 2, 0, 1, 0, 1, 0, 2, 1 \\},\n",
      "\\{ 0, 0, 2, 1, 0, 1, 4, 0, 0, 2 \\},\n",
      "\\{ 0, 0, 0, 4, 0, 1, 0, 3, 1, 0 \\},\n",
      "\\{ 0, 0, 0, 3, 1, 1, 0, 3, 0, 1 \\},\n",
      "\\{ 1, 0, 0, 2, 0, 0, 1, 1, 1, 0 \\},\n",
      "\\{ 1, 0, 0, 1, 1, 0, 1, 1, 0, 1 \\},\n",
      "\\{ 0, 5, 0, 0, 2, 0, 0, 1, 2, 0 \\},\n",
      "\\{ 0, 0, 5, 1, 0, 0, 4, 0, 3, 2 \\},\n",
      "\\{ 0, 0, 5, 0, 1, 0, 4, 0, 2, 3 \\},\n",
      "\\{ 0, 0, 9, 1, 0, 0, 3, 0, 7, 2 \\},\n",
      "\\{ 0, 0, 9, 0, 1, 0, 3, 0, 6, 3 \\},\n",
      "\\{ 0, 0, 13, 1, 0, 0, 2, 0, 11, 2 \\},\n",
      "\\{ 0, 0, 13, 0, 1, 0, 2, 0, 10, 3 \\},\n",
      "\\{ 0, 0, 0, 5, 0, 0, 1, 4, 1, 0 \\},\n",
      "\\{ 0, 0, 0, 4, 1, 0, 1, 4, 0, 1 \\},\n",
      "\\{ 0, 0, 17, 1, 0, 0, 1, 0, 15, 2 \\},\n",
      "\\{ 0, 0, 17, 0, 1, 0, 1, 0, 14, 3 \\},\n",
      "\\{ 0, 0, 21, 1, 0, 0, 0, 0, 19, 2 \\},\n",
      "\\{ 0, 0, 21, 0, 1, 0, 0, 0, 18, 3 \\},\n"
     ]
    }
   ],
   "source": [
    "tuplas=[binomio2Zn(p,[x1,x2,z1,z2,z3]) for p in gb1]\n",
    "for tp1,tp2 in tuplas:\n",
    "    print(\"\\{ \"+str(tp1)[1:-1]+\", \"+str(tp2)[1:-1]+\" \\},\")"
   ]
  },
  {
   "cell_type": "code",
   "execution_count": 262,
   "id": "e1958092",
   "metadata": {},
   "outputs": [
    {
     "data": {
      "text/latex": [
       "$\\displaystyle \\left[ \\right]$"
      ],
      "text/plain": [
       "[]"
      ]
     },
     "execution_count": 262,
     "metadata": {},
     "output_type": "execute_result"
    }
   ],
   "source": [
    "c1=Cone(equations=[[-3,-4,2,1,12],[-6,-8,2,0,21]])\n",
    "c1.HilbertBasis()"
   ]
  },
  {
   "cell_type": "code",
   "execution_count": null,
   "id": "b53b0161",
   "metadata": {},
   "outputs": [],
   "source": []
  },
  {
   "cell_type": "code",
   "execution_count": null,
   "id": "038cf446",
   "metadata": {},
   "outputs": [],
   "source": []
  }
 ],
 "metadata": {
  "kernelspec": {
   "display_name": "Python 3",
   "language": "python",
   "name": "python3"
  },
  "language_info": {
   "codemirror_mode": {
    "name": "ipython",
    "version": 3
   },
   "file_extension": ".py",
   "mimetype": "text/x-python",
   "name": "python",
   "nbconvert_exporter": "python",
   "pygments_lexer": "ipython3",
   "version": "3.8.5"
  },
  "latex_envs": {
   "LaTeX_envs_menu_present": true,
   "autoclose": false,
   "autocomplete": true,
   "bibliofile": "biblio.bib",
   "cite_by": "apalike",
   "current_citInitial": 1,
   "eqLabelWithNumbers": true,
   "eqNumInitial": 1,
   "hotkeys": {
    "equation": "Ctrl-E",
    "itemize": "Ctrl-I"
   },
   "labels_anchors": false,
   "latex_user_defs": false,
   "report_style_numbering": false,
   "user_envs_cfg": false
  }
 },
 "nbformat": 4,
 "nbformat_minor": 5
}

{
 "cells": [
  {
   "cell_type": "markdown",
   "id": "28d25c23",
   "metadata": {},
   "source": [
    "# Functions for computing the elasticity of a sumset semigroup"
   ]
  },
  {
   "cell_type": "markdown",
   "id": "90de5fff",
   "metadata": {},
   "source": [
    "Loading the CommutativeMonoids library. You can download with the command \n",
    "```properties\n",
    "$ git clone https://github.com/D-marina/CommutativeMonoids.git\n",
    "```\n",
    "The only library use is `integerSmithNormalFormAndApplications` which is in the folder `Class`"
   ]
  },
  {
   "cell_type": "code",
   "execution_count": 1,
   "id": "852ce3b8",
   "metadata": {},
   "outputs": [],
   "source": [
    "import sys\n",
    "#location of the folder CommutativeMonoids\n",
    "# we load the following libraies\n",
    "pathToCommutativeMonoids='..'\n",
    "sys.path.insert(0,pathToCommutativeMonoids+'/ClassCSemigroup')\n",
    "sys.path.insert(0,pathToCommutativeMonoids+'/Class')\n",
    "sys.path.insert(0,pathToCommutativeMonoids+'/ClassAffine')\n",
    "sys.path.insert(0,pathToCommutativeMonoids+'/CClass')\n",
    "\n",
    "from integerSmithNormalFormAndApplications import *"
   ]
  },
  {
   "cell_type": "markdown",
   "id": "c2286947",
   "metadata": {},
   "source": [
    "We load now all the other libraries we also need and define in sympy new symbols"
   ]
  },
  {
   "cell_type": "code",
   "execution_count": 2,
   "id": "557f7f41",
   "metadata": {},
   "outputs": [],
   "source": [
    "import functools,math\n",
    "import sympy\n",
    "import numpy as np\n",
    "from PyNormaliz import *\n",
    "from numpy import array\n",
    "from sympy import symbols,groebner\n",
    "from fractions import Fraction\n",
    "\n",
    "x1,x2,x3,x4,x5=symbols(\"x1 x2 x3 x4 x5\")\n",
    "lX=[x1,x2,x3,x4,x5]\n",
    "y1,y2,y3,y4,y5=symbols(\"y1 y2 y3 y4 y5\")\n",
    "lY=[y1,y2,y3,y4,y5]\n",
    "z1,z2,z3,z4,z5=symbols(\"z1 z2 z3 z4 z5\")\n",
    "lZ=[z1,z2,z3,z4,z5]\n",
    "w1,w2,w3,w4,w5=symbols(\"w1 w2 w3 w4 w5\")\n",
    "lW=[w1,w2,w3,w4,w5]\n",
    "\n",
    "x,y,z,t,u,v,w=symbols(\"x y z t u v w\")"
   ]
  },
  {
   "cell_type": "markdown",
   "id": "2f2d4c62",
   "metadata": {},
   "source": [
    "The operator $+$ and $\\otimes$ are defined below"
   ]
  },
  {
   "cell_type": "code",
   "execution_count": 3,
   "id": "82757fe4",
   "metadata": {},
   "outputs": [],
   "source": [
    "class Infix:\n",
    "    def __init__(self, function):\n",
    "        self.function = function\n",
    "    def __ror__(self, other):\n",
    "        return Infix(lambda x, self=self, other=other: self.function(other, x))\n",
    "    def __or__(self, other):\n",
    "        return self.function(other)\n",
    "    def __rlshift__(self, other):\n",
    "        return Infix(lambda x, self=self, other=other: self.function(other, x))\n",
    "    def __rshift__(self, other):\n",
    "        return self.function(other)\n",
    "    def __call__(self, value1, value2):\n",
    "        return self.function(value1, value2)\n",
    "\n",
    "@Infix\n",
    "def add(A,B):\n",
    "    '''Computes the addition of two sets A and B\n",
    "    >>> [7,9] |add| [0,2,3]\n",
    "    '''\n",
    "    C=list(set([a+b for a in A for b in B]))\n",
    "    C.sort()\n",
    "    return C\n",
    "\n",
    "@Infix\n",
    "def mult(a,A):\n",
    "    '''Sum with itself a-times the set A\n",
    "    >>> 3 |mult| [3,4]\n",
    "    '''\n",
    "    if a==0:\n",
    "        return [0]\n",
    "    elif a==1:\n",
    "        A=list(set(A))\n",
    "        A.sort()\n",
    "        return A\n",
    "    else:\n",
    "        return A |add| mult(a-1,A)"
   ]
  },
  {
   "cell_type": "markdown",
   "id": "6d93c729",
   "metadata": {},
   "source": [
    "We define now the functions for computing the presentation of sumset semigroup of the form of Algorithm 1 of [On the ideals of some sumset semigroups](https://arxiv.org/abs/2102.04100). \n",
    "\n",
    "The main function if `computationIS` and it also checks if the given list of generators fulfill the requeriments of Algorithm 1 of [On the ideals of some sumset semigroups](https://arxiv.org/abs/2102.04100).\n",
    "\n",
    "An example of how to use this funcion is \n",
    "```properties\n",
    ">>> computationIS([3],[4],[6,12],[7,10,13],[0,3,6,9])\n",
    "```"
   ]
  },
  {
   "cell_type": "code",
   "execution_count": 4,
   "id": "53593348",
   "metadata": {},
   "outputs": [],
   "source": [
    "def computeSets(lsgS):\n",
    "    '''Computes some auxiliary sets used in functino computationIS\n",
    "    '''\n",
    "    lB=[]\n",
    "    lA=[]\n",
    "    la=[]\n",
    "    for S in lsgS:\n",
    "        if len(S)==1:\n",
    "            if S not in lB:\n",
    "                lB.append(S)\n",
    "        else:\n",
    "            a0=S[0]\n",
    "            if a0!=0 and [a0] not in la:\n",
    "                la.append([a0])\n",
    "            aux=(a0,[a-a0 for a in S])\n",
    "            if aux not in lA:\n",
    "                lA.append(aux)\n",
    "    lkA=[S[1][0:2] for S in lA]\n",
    "    lkA=[S for i,S in enumerate(lkA) if S not in lkA[:i]]\n",
    "    return lB,la,lA,lkA\n",
    "\n",
    "def computeNM(S,lA):\n",
    "    '''Computes a decomposition of S in term of the elements of lA\n",
    "    >>> computeNM([0,2,5,7],[[0,5],[0,2]])\n",
    "    '''\n",
    "    for i in range(S[-1]//lA[0][-1]+1):\n",
    "        for j in range(S[-1]//lA[1][-1]+1):\n",
    "            if S==(i|mult|lA[0]) |add| (j|mult|lA[1]):\n",
    "                return (i,j)\n",
    "\n",
    "def computationIS(*sgS):\n",
    "    '''Computes the ideal of the sumset semigroup generated by sgS\n",
    "    >>> computationIS([3],[4],[6,12],[7,10,13],[0,3,6,9])\n",
    "    '''\n",
    "    lB,la,lA,lkA=computeSets(list(sgS))\n",
    "    \n",
    "    aux=[T[1][:2] for T in lA]\n",
    "    aux1=[S for i,S in enumerate(aux) if S not in aux[:i]]\n",
    "    if len(aux1)!=2:\n",
    "        print(\"No puedo calcular presentación\")\n",
    "        return\n",
    "    Sprime=lB+la+aux1\n",
    "    S1=lB+la\n",
    "    \n",
    "    lnm=[(S[0],S[1],computeNM(S[1],lkA)) for S in lA]\n",
    "    \n",
    "    sn=[S[0] for S in lB+la]\n",
    "    a,b=lkA[0][1],lkA[1][1]\n",
    "    k=math.gcd(a,b)\n",
    "    a,b=a//k,b//k\n",
    "    relations=[u**S[0]-lX[j] for j,S in enumerate(lB)]\n",
    "    relations=relations+[u**S[0]-lW[j] for j,S in enumerate(la)]\n",
    "    relations=relations+[x**(b-1)*y**(a-1)*(x**b-y**a)]\n",
    "    for j,TT in enumerate(lnm):\n",
    "        ai,Anm,coord=TT\n",
    "        if ai!=0:\n",
    "            pos=[aa[0] for aa in la].index(ai)\n",
    "            relations=relations+[lZ[j]-lW[pos]*x**coord[0]*y**coord[1]]\n",
    "        else:\n",
    "            relations=relations+[lZ[j]-x**coord[0]*y**coord[1]]\n",
    "    \n",
    "    gb=groebner(relations,u,x,y,*lW,*lX,*lZ)\n",
    "    \n",
    "    gb1=[p for p in gb \\\n",
    "         if set(p.args[0].as_powers_dict().keys()).intersection([u,x,y]+lW)==set()\\\n",
    "         and \\\n",
    "         set(p.args[1].as_powers_dict().keys()).intersection([u,x,y]+lW)==set()]\n",
    "    \n",
    "    return gb1\n"
   ]
  },
  {
   "cell_type": "code",
   "execution_count": 5,
   "id": "114d828b",
   "metadata": {},
   "outputs": [
    {
     "data": {
      "text/latex": [
       "$\\displaystyle \\left[ x_{1}^{4} - x_{2}^{3}, \\  x_{1}^{3} x_{2}^{3} z_{3}^{2} - z_{2}^{3}, \\  x_{1}^{3} z_{1} z_{2} - x_{2}^{2} z_{2}^{2}, \\  x_{1}^{3} z_{1} z_{3} - x_{2}^{2} z_{2} z_{3}, \\  x_{1}^{2} x_{2}^{3} z_{3}^{3} - z_{1}^{3} z_{3}, \\  x_{1}^{2} z_{1}^{2} z_{2} - x_{2} z_{2}^{3}, \\  x_{1}^{2} z_{1}^{2} z_{3} - x_{2} z_{2}^{2} z_{3}, \\  x_{1} x_{2}^{4} z_{3}^{2} - z_{1}^{2} z_{2}, \\  x_{1} z_{1}^{3} z_{2} - z_{2}^{4}, \\  x_{1} z_{1}^{3} z_{3} - z_{2}^{3} z_{3}, \\  x_{1} z_{2}^{2} - x_{2} z_{1} z_{2}, \\  x_{1} z_{2} z_{3} - x_{2} z_{1} z_{3}, \\  x_{2}^{5} z_{3}^{2} - z_{1} z_{2}^{2}, \\  x_{2}^{4} z_{2}^{3} z_{3}^{2} - z_{1}^{5} z_{2}, \\  x_{2}^{4} z_{2}^{2} z_{3}^{3} - z_{1}^{5} z_{3}, \\  x_{2}^{3} z_{2}^{7} z_{3}^{2} - z_{1}^{9} z_{2}, \\  x_{2}^{3} z_{2}^{6} z_{3}^{3} - z_{1}^{9} z_{3}, \\  x_{2}^{2} z_{2}^{11} z_{3}^{2} - z_{1}^{13} z_{2}, \\  x_{2}^{2} z_{2}^{10} z_{3}^{3} - z_{1}^{13} z_{3}, \\  x_{2} z_{1}^{4} z_{2} - z_{2}^{5}, \\  x_{2} z_{1}^{4} z_{3} - z_{2}^{4} z_{3}, \\  x_{2} z_{2}^{15} z_{3}^{2} - z_{1}^{17} z_{2}, \\  x_{2} z_{2}^{14} z_{3}^{3} - z_{1}^{17} z_{3}, \\  z_{1}^{21} z_{2} - z_{2}^{19} z_{3}^{2}, \\  z_{1}^{21} z_{3} - z_{2}^{18} z_{3}^{3}\\right]$"
      ],
      "text/plain": [
       "⎡  4     3    3   3   2     3    3           2   2    3           2          2\n",
       "⎣x₁  - x₂ , x₁ ⋅x₂ ⋅z₃  - z₂ , x₁ ⋅z₁⋅z₂ - x₂ ⋅z₂ , x₁ ⋅z₁⋅z₃ - x₂ ⋅z₂⋅z₃, x₁ \n",
       "\n",
       "   3   3     3       2   2           3    2   2           2          4   2    \n",
       "⋅x₂ ⋅z₃  - z₁ ⋅z₃, x₁ ⋅z₁ ⋅z₂ - x₂⋅z₂ , x₁ ⋅z₁ ⋅z₃ - x₂⋅z₂ ⋅z₃, x₁⋅x₂ ⋅z₃  - z\n",
       "\n",
       " 2          3        4       3        3          2                            \n",
       "₁ ⋅z₂, x₁⋅z₁ ⋅z₂ - z₂ , x₁⋅z₁ ⋅z₃ - z₂ ⋅z₃, x₁⋅z₂  - x₂⋅z₁⋅z₂, x₁⋅z₂⋅z₃ - x₂⋅z\n",
       "\n",
       "        5   2        2    4   3   2     5       4   2   3     5       3   7   \n",
       "₁⋅z₃, x₂ ⋅z₃  - z₁⋅z₂ , x₂ ⋅z₂ ⋅z₃  - z₁ ⋅z₂, x₂ ⋅z₂ ⋅z₃  - z₁ ⋅z₃, x₂ ⋅z₂ ⋅z₃\n",
       "\n",
       "2     9       3   6   3     9       2   11   2     13       2   10   3     13 \n",
       "  - z₁ ⋅z₂, x₂ ⋅z₂ ⋅z₃  - z₁ ⋅z₃, x₂ ⋅z₂  ⋅z₃  - z₁  ⋅z₂, x₂ ⋅z₂  ⋅z₃  - z₁  ⋅\n",
       "\n",
       "         4        5       4        4          15   2     17          14   3   \n",
       "z₃, x₂⋅z₁ ⋅z₂ - z₂ , x₂⋅z₁ ⋅z₃ - z₂ ⋅z₃, x₂⋅z₂  ⋅z₃  - z₁  ⋅z₂, x₂⋅z₂  ⋅z₃  - \n",
       "\n",
       "  17       21        19   2    21        18   3⎤\n",
       "z₁  ⋅z₃, z₁  ⋅z₂ - z₂  ⋅z₃ , z₁  ⋅z₃ - z₂  ⋅z₃ ⎦"
      ]
     },
     "execution_count": 5,
     "metadata": {},
     "output_type": "execute_result"
    }
   ],
   "source": [
    "gb=computationIS([3],[4],[6,12],[7,10,13],[0,3,6,9])\n",
    "gb"
   ]
  },
  {
   "cell_type": "markdown",
   "id": "53b9151a",
   "metadata": {},
   "source": [
    "Now, we define three auxiliary funcions `variablesGB`, `fraccionDeGenerador` and `binomio2Zn` used in the function `elasticity`. The last function computes the elasticity of a monoid from one of its defining ideals."
   ]
  },
  {
   "cell_type": "code",
   "execution_count": 6,
   "id": "913afb34",
   "metadata": {},
   "outputs": [],
   "source": [
    "def variablesGB(gb):\n",
    "    '''\n",
    "    >>> variablesGB(gb)\n",
    "    '''\n",
    "    lV=[]\n",
    "    for p in gb:\n",
    "        lV=lV+list(p.args[0].as_powers_dict().keys())\n",
    "        lV=lV+list(p.args[1].as_powers_dict().keys())\n",
    "    return set(lV).difference([-1])\n",
    "\n",
    "def fraccionDeGenerador(gen):\n",
    "    dim=len(gen)//2\n",
    "    #print(gen,dim)\n",
    "    return Fraction(sum(gen[:dim]),sum(gen[dim:]))\n",
    "\n",
    "def binomio2Zn(binomio,lV):\n",
    "    #binomio=G4[0]\n",
    "    s1,s2=binomio.args[0].as_powers_dict(),binomio.args[1].as_powers_dict()\n",
    "    c=[]\n",
    "    c1=[]\n",
    "    c2=[]\n",
    "    #print(s1)\n",
    "    for v in lV:\n",
    "        c1.append(s1[v])\n",
    "    for v in lV:\n",
    "        c2.append(s2[v])\n",
    "    return [c1,c2]"
   ]
  },
  {
   "cell_type": "markdown",
   "id": "0391c622",
   "metadata": {},
   "source": [
    "We have the function elasticity"
   ]
  },
  {
   "cell_type": "code",
   "execution_count": 7,
   "id": "25409d5d",
   "metadata": {
    "scrolled": false
   },
   "outputs": [],
   "source": [
    "def elasticity(gb,showTuples=False):\n",
    "    '''Computes the elasticity of a monoid from one of its presetations.\n",
    "    It returns the value of the elasticity and the elements of gb that reach the elasticity\n",
    "    >>> rho,lTElasticity=elasticity(gb)\n",
    "    '''\n",
    "    tuplasGB=[binomio2Zn(b,variablesGB(gb)) for b in gb]\n",
    "    if showTuples:\n",
    "        print(tuplasGB)\n",
    "    genM=[]\n",
    "    for c1,c2 in tuplasGB:\n",
    "        genM.append(array(c1)-array(c2))\n",
    "\n",
    "    eqGenM=generatorsToEquations(genM)\n",
    "    numEqs=eqGenM[0].shape[0]\n",
    "    filas=[list(eqGenM[0][i,:]) for i in range(numEqs)]\n",
    "\n",
    "    ecuacionesAmenosA=[filas[i]+[-a for a in filas[i]] for i in range(numEqs)]\n",
    "    monoide=Cone(equations=ecuacionesAmenosA)\n",
    "    sistemaGenMonoide=monoide.HilbertBasis()\n",
    "    \n",
    "    dim=len(sistemaGenMonoide[0])//2\n",
    "    elasticidad=max([fraccionDeGenerador(gen) for gen in sistemaGenMonoide])\n",
    "    \n",
    "    elasticidad\n",
    "\n",
    "    Rs=[gen for gen in sistemaGenMonoide \\\n",
    "     if fraccionDeGenerador(gen)==elasticidad]\n",
    "    return(elasticidad,Rs)\n",
    "    "
   ]
  },
  {
   "cell_type": "markdown",
   "id": "b95f57ca",
   "metadata": {},
   "source": [
    "One example of how to use this function is the following."
   ]
  },
  {
   "cell_type": "code",
   "execution_count": 8,
   "id": "05f09010",
   "metadata": {},
   "outputs": [
    {
     "name": "stdout",
     "output_type": "stream",
     "text": [
      "3\n"
     ]
    }
   ],
   "source": [
    "gb=computationIS([3],[4],[6,12],[7,10,13],[0,3,6,9])\n",
    "rho,lTElasticity=elasticity(gb)\n",
    "print(rho)"
   ]
  },
  {
   "cell_type": "markdown",
   "id": "422e73c7",
   "metadata": {},
   "source": [
    "From the work [Atomic Commutative Monoids and Their Elasticity\n",
    "](https://doi-org.bibezproxy.uca.es/10.1007/s00233-002-0022-4), we can check from a presetation of a monoid if it has acceptable elasticity or not."
   ]
  },
  {
   "cell_type": "code",
   "execution_count": 9,
   "id": "232b96f8",
   "metadata": {},
   "outputs": [],
   "source": [
    "def supportIncluded(vect1,vect2):\n",
    "    '''\n",
    "    >>> supportIncluded([0,0,3],[1,0,1])\n",
    "    '''\n",
    "    for i,j in zip(vect1,vect2):\n",
    "        if i!=0 and j==0:\n",
    "            return False\n",
    "    return True\n",
    "\n",
    "\n",
    "def hasAcceptableElasticity(gb,Rs,showTuple=False):\n",
    "    '''From one of its presentations, computes if the elasticity of a monoid is acceptable\n",
    "    >>> hasAcceptableElasticity(gb,lTElasticity)\n",
    "    '''\n",
    "    tuplasGB=[binomio2Zn(b,variablesGB(gb)) for b in gb]\n",
    "    ts=[vv[0]+vv[1] for vv in tuplasGB]\n",
    "    for vv in ts:\n",
    "        for ww in Rs:\n",
    "            if supportIncluded(vv,ww):\n",
    "                if showTuple:\n",
    "                    print(\"Support of\",vv,\"included in the support of\",ww)\n",
    "                return True\n",
    "    return False"
   ]
  },
  {
   "cell_type": "markdown",
   "id": "34ff93ac",
   "metadata": {},
   "source": [
    "## Example of sumset monoid without acceptable elasticity"
   ]
  },
  {
   "cell_type": "markdown",
   "id": "b6362773",
   "metadata": {},
   "source": [
    "The monoid considered is $\\langle \\{3\\},\\{4\\},\\{6,12\\},\\{7,10,13\\},\\{0,3,6,9\\} \\rangle$"
   ]
  },
  {
   "cell_type": "code",
   "execution_count": 10,
   "id": "1eb8ae94",
   "metadata": {},
   "outputs": [
    {
     "name": "stdout",
     "output_type": "stream",
     "text": [
      "Elasticity is 3\n"
     ]
    },
    {
     "data": {
      "text/plain": [
       "False"
      ]
     },
     "execution_count": 10,
     "metadata": {},
     "output_type": "execute_result"
    }
   ],
   "source": [
    "gb=computationIS([3],[4],[6,12],[7,10,13],[0,3,6,9])\n",
    "rho,lTElasticity=elasticity(gb)\n",
    "print(\"Elasticity is\",rho)\n",
    "hasAcceptableElasticity(gb,lTElasticity)"
   ]
  },
  {
   "cell_type": "markdown",
   "id": "157d0b96",
   "metadata": {},
   "source": [
    "## Example of sumset monoid with acceptable elasticity"
   ]
  },
  {
   "cell_type": "markdown",
   "id": "1b53d212",
   "metadata": {},
   "source": [
    "In this example the monoid is $\\langle \\{3\\},\\{4\\},\\{6,12\\},\\{7,10,13\\} \\rangle$"
   ]
  },
  {
   "cell_type": "code",
   "execution_count": 11,
   "id": "2093cdd7",
   "metadata": {},
   "outputs": [
    {
     "data": {
      "text/latex": [
       "$\\displaystyle \\left[ x_{1}^{4} - x_{2}^{3}, \\  x_{1}^{3} z_{1} z_{2} - x_{2}^{2} z_{2}^{2}, \\  x_{1}^{2} z_{1}^{2} z_{2} - x_{2} z_{2}^{3}, \\  x_{1} z_{1}^{3} z_{2} - z_{2}^{4}, \\  x_{1} z_{2}^{2} - x_{2} z_{1} z_{2}, \\  x_{2} z_{1}^{4} z_{2} - z_{2}^{5}\\right]$"
      ],
      "text/plain": [
       "⎡  4     3    3           2   2    2   2           3       3        4       2 \n",
       "⎣x₁  - x₂ , x₁ ⋅z₁⋅z₂ - x₂ ⋅z₂ , x₁ ⋅z₁ ⋅z₂ - x₂⋅z₂ , x₁⋅z₁ ⋅z₂ - z₂ , x₁⋅z₂  \n",
       "\n",
       "                 4        5⎤\n",
       "- x₂⋅z₁⋅z₂, x₂⋅z₁ ⋅z₂ - z₂ ⎦"
      ]
     },
     "execution_count": 11,
     "metadata": {},
     "output_type": "execute_result"
    }
   ],
   "source": [
    "gb=computationIS([3],[4],[6,12],[7,10,13])\n",
    "gb"
   ]
  },
  {
   "cell_type": "code",
   "execution_count": 12,
   "id": "1d2c155f",
   "metadata": {},
   "outputs": [
    {
     "name": "stdout",
     "output_type": "stream",
     "text": [
      "[[[0, 0, 4, 0], [0, 0, 0, 3]], [[0, 2, 0, 2], [1, 1, 3, 0]], [[0, 3, 0, 1], [2, 1, 2, 0]], [[0, 4, 0, 0], [3, 1, 1, 0]], [[0, 2, 1, 0], [1, 1, 0, 1]], [[0, 5, 0, 0], [4, 1, 0, 1]]]\n"
     ]
    },
    {
     "data": {
      "text/plain": [
       "(Fraction(4, 3),\n",
       " [[0, 0, 4, 0, 0, 0, 0, 3],\n",
       "  [1, 0, 3, 0, 0, 1, 0, 2],\n",
       "  [2, 0, 2, 0, 0, 2, 0, 1],\n",
       "  [3, 0, 1, 0, 0, 3, 0, 0]])"
      ]
     },
     "execution_count": 12,
     "metadata": {},
     "output_type": "execute_result"
    }
   ],
   "source": [
    "rho,lTElasticity=elasticity(gb,True)\n",
    "rho,lTElasticity"
   ]
  },
  {
   "cell_type": "code",
   "execution_count": 13,
   "id": "95c4ad2a",
   "metadata": {},
   "outputs": [
    {
     "name": "stdout",
     "output_type": "stream",
     "text": [
      "Support of [0, 0, 4, 0, 0, 0, 0, 3] included in the support of [0, 0, 4, 0, 0, 0, 0, 3]\n"
     ]
    },
    {
     "data": {
      "text/plain": [
       "True"
      ]
     },
     "execution_count": 13,
     "metadata": {},
     "output_type": "execute_result"
    }
   ],
   "source": [
    "hasAcceptableElasticity(gb,lTElasticity,True)"
   ]
  },
  {
   "cell_type": "code",
   "execution_count": null,
   "id": "b1290dc8",
   "metadata": {},
   "outputs": [],
   "source": []
  }
 ],
 "metadata": {
  "kernelspec": {
   "display_name": "Python 3",
   "language": "python",
   "name": "python3"
  },
  "language_info": {
   "codemirror_mode": {
    "name": "ipython",
    "version": 3
   },
   "file_extension": ".py",
   "mimetype": "text/x-python",
   "name": "python",
   "nbconvert_exporter": "python",
   "pygments_lexer": "ipython3",
   "version": "3.8.5"
  }
 },
 "nbformat": 4,
 "nbformat_minor": 5
}

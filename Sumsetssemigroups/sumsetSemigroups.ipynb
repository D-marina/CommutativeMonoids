{
 "cells": [
  {
   "cell_type": "markdown",
   "id": "da4a9e73",
   "metadata": {},
   "source": [
    "# Functions for computing the elasticity of a sumset semigroup"
   ]
  },
  {
   "cell_type": "markdown",
   "id": "0f78ff0b",
   "metadata": {},
   "source": [
    "## Libraries"
   ]
  },
  {
   "cell_type": "markdown",
   "id": "3efccc0b",
   "metadata": {},
   "source": [
    "Loading the CommutativeMonoids library. You can download with the command \n",
    "```properties\n",
    "$ git clone https://github.com/D-marina/CommutativeMonoids.git\n",
    "```\n",
    "The only library use is `integerSmithNormalFormAndApplications` which is in the folder `Class`"
   ]
  },
  {
   "cell_type": "code",
   "execution_count": 175,
   "id": "9b0e6ae3",
   "metadata": {
    "ExecuteTime": {
     "end_time": "2021-05-27T11:17:47.322905Z",
     "start_time": "2021-05-27T11:17:47.317112Z"
    }
   },
   "outputs": [],
   "source": [
    "import sys\n",
    "#location of the folder CommutativeMonoids\n",
    "# we load the following libraies\n",
    "pathToCommutativeMonoids='../CommutativeMonoids'\n",
    "sys.path.insert(0,pathToCommutativeMonoids+'/ClassCSemigroup')\n",
    "sys.path.insert(0,pathToCommutativeMonoids+'/Class')\n",
    "sys.path.insert(0,pathToCommutativeMonoids+'/ClassAffine')\n",
    "sys.path.insert(0,pathToCommutativeMonoids+'/CClass')\n",
    "\n",
    "from integerSmithNormalFormAndApplications import *\n",
    "\n",
    "from sympy import init_printing, pprint, latex\n",
    "init_printing() \n",
    "\n",
    "from IPython.display import display, Math, Markdown"
   ]
  },
  {
   "cell_type": "markdown",
   "id": "c0ac45d8",
   "metadata": {},
   "source": [
    "We load now all the other libraries we also need and define in sympy new symbols"
   ]
  },
  {
   "cell_type": "code",
   "execution_count": 149,
   "id": "557f7f41",
   "metadata": {
    "ExecuteTime": {
     "end_time": "2021-05-27T11:02:44.913311Z",
     "start_time": "2021-05-27T11:02:44.906182Z"
    }
   },
   "outputs": [],
   "source": [
    "import functools,math\n",
    "import sympy\n",
    "import numpy as np\n",
    "from PyNormaliz import *\n",
    "from numpy import array\n",
    "from sympy import symbols,groebner\n",
    "from fractions import Fraction\n",
    "import itertools\n",
    "\n",
    "x1,x2,x3,x4,x5,x6,x7=symbols(\"x1 x2 x3 x4 x5 x6 x7\")\n",
    "lX=[x1,x2,x3,x4,x5,x6,x7]\n",
    "y1,y2,y3,y4,y5,y6,y7=symbols(\"y1 y2 y3 y4 y5 y6 y7\")\n",
    "lY=[y1,y2,y3,y4,y5,y6,y7]\n",
    "z1,z2,z3,z4,z5,z6,z7=symbols(\"z1 z2 z3 z4 z5 z6 z7\")\n",
    "lZ=[z1,z2,z3,z4,z5,z6,z7]\n",
    "w1,w2,w3,w4,w5,w6,w7=symbols(\"w1 w2 w3 w4 w5 w6 w7\")\n",
    "lW=[w1,w2,w3,w4,w5,w6,w7]\n",
    "\n",
    "x,y,z,t,u,v,w=symbols(\"x y z t u v w\")"
   ]
  },
  {
   "cell_type": "code",
   "execution_count": 150,
   "id": "2368c78f",
   "metadata": {
    "ExecuteTime": {
     "end_time": "2021-05-27T11:02:46.721615Z",
     "start_time": "2021-05-27T11:02:46.716450Z"
    }
   },
   "outputs": [],
   "source": [
    "latex1=lambda x: \"$\"+latex(x)+\"$\"\n",
    "def lprint(*lcad):\n",
    "    '''\n",
    "    >>> lprint(\"hola\",latex1(x**7),\"ccc\")\n",
    "    '''\n",
    "    display(Markdown(' '.join(lcad)))"
   ]
  },
  {
   "cell_type": "markdown",
   "id": "0f719d79",
   "metadata": {},
   "source": [
    "## Operators `|sum|` ($+$) and `|mult|` $\\otimes$ of sumset semigroups"
   ]
  },
  {
   "cell_type": "markdown",
   "id": "575a2349",
   "metadata": {},
   "source": [
    "The operator $+$ and $\\otimes$ are defined below"
   ]
  },
  {
   "cell_type": "code",
   "execution_count": 151,
   "id": "51dd3797",
   "metadata": {
    "ExecuteTime": {
     "end_time": "2021-05-27T11:02:50.336928Z",
     "start_time": "2021-05-27T11:02:50.329729Z"
    }
   },
   "outputs": [],
   "source": [
    "class Infix:\n",
    "    def __init__(self, function):\n",
    "        self.function = function\n",
    "    def __ror__(self, other):\n",
    "        return Infix(lambda x, self=self, other=other: self.function(other, x))\n",
    "    def __or__(self, other):\n",
    "        return self.function(other)\n",
    "    def __rlshift__(self, other):\n",
    "        return Infix(lambda x, self=self, other=other: self.function(other, x))\n",
    "    def __rshift__(self, other):\n",
    "        return self.function(other)\n",
    "    def __call__(self, value1, value2):\n",
    "        return self.function(value1, value2)\n",
    "\n",
    "@Infix\n",
    "def add(A,B):\n",
    "    '''Computes the addition of two sets A and B\n",
    "    >>> [7,9] |add| [0,2,3]\n",
    "    '''\n",
    "    C=list(set([a+b for a in A for b in B]))\n",
    "    C.sort()\n",
    "    return C\n",
    "\n",
    "@Infix\n",
    "def mult(a,A):\n",
    "    '''Sum with itself a-times the set A\n",
    "    >>> 3 |mult| [3,4]\n",
    "    '''\n",
    "    if a==0:\n",
    "        return [0]\n",
    "    elif a==1:\n",
    "        A=list(set(A))\n",
    "        A.sort()\n",
    "        return A\n",
    "    else:\n",
    "        return A |add| mult(a-1,A)"
   ]
  },
  {
   "cell_type": "markdown",
   "id": "8ba59e71",
   "metadata": {},
   "source": [
    "## Function to obtain the ideal of a sumset semigroup (`computationIS`)"
   ]
  },
  {
   "cell_type": "markdown",
   "id": "44864fe0",
   "metadata": {},
   "source": [
    "We define now the functions for computing the presentation of sumset semigroup of the form of Algorithm 1 of [On the ideals of some sumset semigroups](https://arxiv.org/abs/2102.04100). \n",
    "\n",
    "The main function if `computationIS` and it also checks if the given list of generators fulfill the requeriments of Algorithm 1 of [On the ideals of some sumset semigroups](https://arxiv.org/abs/2102.04100).\n",
    "\n",
    "An example of how to use this funcion is \n",
    "```properties\n",
    ">>> computationIS([3],[4],[6,12],[7,10,13],[0,3,6,9])\n",
    "```"
   ]
  },
  {
   "cell_type": "markdown",
   "id": "d7e7ff37",
   "metadata": {
    "ExecuteTime": {
     "end_time": "2021-04-29T16:43:59.344012Z",
     "start_time": "2021-04-29T16:43:59.338776Z"
    }
   },
   "source": [
    "### Auxiliary functions"
   ]
  },
  {
   "cell_type": "code",
   "execution_count": 152,
   "id": "ff625257",
   "metadata": {
    "ExecuteTime": {
     "end_time": "2021-05-27T11:03:05.628450Z",
     "start_time": "2021-05-27T11:03:05.620049Z"
    }
   },
   "outputs": [],
   "source": [
    "def computeSets(lsgS):\n",
    "    '''Computes some auxiliary sets used in functino computationIS\n",
    "    '''\n",
    "    lB=[]\n",
    "    lA=[]\n",
    "    la=[]\n",
    "    for S in lsgS:\n",
    "        if len(S)==1:\n",
    "            if S not in lB:\n",
    "                lB.append(S)\n",
    "        else:\n",
    "            a0=S[0]\n",
    "            if a0!=0 and [a0] not in la:\n",
    "                la.append([a0])\n",
    "            aux=(a0,[a-a0 for a in S])\n",
    "            # cuidado con quitar generadores repetidos\n",
    "            if aux not in lA:\n",
    "                lA.append(aux)\n",
    "            else:\n",
    "                print(\"Duplicated generator found, removed\", S)\n",
    "    lkA=[S[1][0:2] for S in lA]\n",
    "    for S in lA:\n",
    "        if len(S[1])>2:\n",
    "            lkA.append([0,S[1][2]])\n",
    "    lkA=[S for i,S in enumerate(lkA) if S not in lkA[:i]]\n",
    "    return lB,la,lA,lkA\n",
    "\n",
    "def computeNM(S,lkA):\n",
    "    '''Computes a decomposition of S in term of the elements of lA\n",
    "    >>> computeNM([0,2,5,7],[[0,5],[0,2]])\n",
    "    '''\n",
    "    for i in range(S[-1]//lkA[0][-1]+1):\n",
    "        for j in range(S[-1]//lkA[1][-1]+1):\n",
    "            if S==(i|mult|lkA[0]) |add| (j|mult|lkA[1]):\n",
    "                return (i,j)\n",
    "\n",
    "def removeBinomialsHavingVariables(gb,lVariables):\n",
    "    gb1=[p for p in gb \\\n",
    "         if set(p.args[0].as_powers_dict().keys()).intersection(lVariables)==set()\\\n",
    "         and \\\n",
    "         set(p.args[1].as_powers_dict().keys()).intersection(lVariables)==set()]\n",
    "    return gb1\n",
    "            \n",
    "def isInAnyPolynomial(var,gb):\n",
    "    lAux=set([])\n",
    "    for p in gb:\n",
    "        aux=set(p.args[0].as_powers_dict().keys()).union(set(p.args[1].as_powers_dict().keys()))\n",
    "        #print(aux)\n",
    "        lAux=lAux.union(aux)\n",
    "    #print(lAux)\n",
    "    return var in lAux"
   ]
  },
  {
   "cell_type": "markdown",
   "id": "eaee1c40",
   "metadata": {},
   "source": [
    "### Function `computationIS`"
   ]
  },
  {
   "cell_type": "code",
   "execution_count": 153,
   "id": "f7101768",
   "metadata": {
    "ExecuteTime": {
     "end_time": "2021-05-27T11:03:14.583502Z",
     "start_time": "2021-05-27T11:03:14.552687Z"
    }
   },
   "outputs": [],
   "source": [
    "def computationIS(*sgS, debug=False):\n",
    "    '''Computes the ideal of the sumset semigroup generated by sgS\n",
    "    >>> computationIS([3],[4],[6,12],[7,10,13],[0,3,6,9])\n",
    "    '''\n",
    "    lB,la,lA,lkA=computeSets(list(sgS))\n",
    "    \n",
    "    #aux=[T[1][:2] for T in lA]\n",
    "    #aux1=[S for i,S in enumerate(aux) if S not in aux[:i]]\n",
    "    aux1=lkA\n",
    "    if debug:\n",
    "        print(aux1)\n",
    "    if len(aux1)!=2:\n",
    "        print(\"We cannot compute the ideal. This case is still not solved\")\n",
    "        return\n",
    "    Sprime=lB+la+aux1\n",
    "    S1=lB+la # [[5],[7],[11]]\n",
    "    \n",
    "    lnm=[(S[0],S[1],computeNM(S[1],lkA)) for S in lA]\n",
    "    \n",
    "    sn=[S[0] for S in lB+la] # [5,7,11]\n",
    "    a,b=lkA[0][1],lkA[1][1]\n",
    "    k=math.gcd(a,b)\n",
    "    a,b=a//k,b//k\n",
    "    # u = 1 in the natural numbers\n",
    "    relations=[u**S[0]-lX[j] for j,S in enumerate(lB)]\n",
    "    relations=relations+[u**S[0]-lW[j] for j,S in enumerate(la)]\n",
    "    relations=relations+[x**(b-1)*y**(a-1)*(x**b-y**a)]\n",
    "    \n",
    "    for j,TT in enumerate(lnm):\n",
    "        ai,Anm,coord=TT\n",
    "        if ai!=0:\n",
    "            pos=[aa[0] for aa in la].index(ai)\n",
    "            relations=relations+[lZ[j]-lW[pos]*x**coord[0]*y**coord[1]]\n",
    "        else:\n",
    "            relations=relations+[lZ[j]-x**coord[0]*y**coord[1]]\n",
    "    \n",
    "    gb=groebner(relations,u,x,y,*lW,*lX,*lZ)\n",
    "    \n",
    "    #gb1=[p for p in gb \\\n",
    "    #     if set(p.args[0].as_powers_dict().keys()).intersection([u,x,y]+lW)==set()\\\n",
    "    #     and \\\n",
    "    #     set(p.args[1].as_powers_dict().keys()).intersection([u,x,y]+lW)==set()]\n",
    "    gb1=removeBinomialsHavingVariables(gb,[u,x,y]+lW)\n",
    "    if debug:\n",
    "        print(\"gb1\",gb1)\n",
    "    lVariables=[]\n",
    "    for var in lX+lZ:\n",
    "        if isInAnyPolynomial(var,gb1):\n",
    "            lVariables.append(var)\n",
    "    if debug:\n",
    "        print(\"lVariables\",lVariables)\n",
    "    if gb1!=[]:\n",
    "        return groebner(gb1,*lVariables) #,lVariables\n",
    "    else:\n",
    "        return []"
   ]
  },
  {
   "cell_type": "markdown",
   "id": "77741556",
   "metadata": {
    "ExecuteTime": {
     "end_time": "2021-04-29T16:43:59.344012Z",
     "start_time": "2021-04-29T16:43:59.338776Z"
    }
   },
   "source": [
    "### Example"
   ]
  },
  {
   "cell_type": "code",
   "execution_count": 154,
   "id": "5d3d076b",
   "metadata": {
    "ExecuteTime": {
     "end_time": "2021-05-27T11:03:18.611539Z",
     "start_time": "2021-05-27T11:03:17.992032Z"
    }
   },
   "outputs": [
    {
     "data": {
      "text/latex": [
       "$\\displaystyle GroebnerBasis\\left(\\left( x_{1}^{4} - x_{2}^{3}, \\  x_{1}^{3} x_{2}^{3} z_{3}^{2} - z_{2}^{3}, \\  x_{1}^{3} z_{1} z_{2} - x_{2}^{2} z_{2}^{2}, \\  x_{1}^{3} z_{1} z_{3} - x_{2}^{2} z_{2} z_{3}, \\  x_{1}^{2} x_{2}^{3} z_{3}^{3} - z_{1}^{3} z_{3}, \\  x_{1}^{2} z_{1}^{2} z_{2} - x_{2} z_{2}^{3}, \\  x_{1}^{2} z_{1}^{2} z_{3} - x_{2} z_{2}^{2} z_{3}, \\  x_{1} x_{2}^{4} z_{3}^{2} - z_{1}^{2} z_{2}, \\  x_{1} z_{1}^{3} z_{2} - z_{2}^{4}, \\  x_{1} z_{1}^{3} z_{3} - z_{2}^{3} z_{3}, \\  x_{1} z_{2}^{2} - x_{2} z_{1} z_{2}, \\  x_{1} z_{2} z_{3} - x_{2} z_{1} z_{3}, \\  x_{2}^{5} z_{3}^{2} - z_{1} z_{2}^{2}, \\  x_{2}^{4} z_{2}^{3} z_{3}^{2} - z_{1}^{5} z_{2}, \\  x_{2}^{4} z_{2}^{2} z_{3}^{3} - z_{1}^{5} z_{3}, \\  x_{2}^{3} z_{2}^{7} z_{3}^{2} - z_{1}^{9} z_{2}, \\  x_{2}^{3} z_{2}^{6} z_{3}^{3} - z_{1}^{9} z_{3}, \\  x_{2}^{2} z_{2}^{11} z_{3}^{2} - z_{1}^{13} z_{2}, \\  x_{2}^{2} z_{2}^{10} z_{3}^{3} - z_{1}^{13} z_{3}, \\  x_{2} z_{1}^{4} z_{2} - z_{2}^{5}, \\  x_{2} z_{1}^{4} z_{3} - z_{2}^{4} z_{3}, \\  x_{2} z_{2}^{15} z_{3}^{2} - z_{1}^{17} z_{2}, \\  x_{2} z_{2}^{14} z_{3}^{3} - z_{1}^{17} z_{3}, \\  z_{1}^{21} z_{2} - z_{2}^{19} z_{3}^{2}, \\  z_{1}^{21} z_{3} - z_{2}^{18} z_{3}^{3}\\right), \\left( x_{1}, \\  x_{2}, \\  z_{1}, \\  z_{2}, \\  z_{3}\\right)\\right)$"
      ],
      "text/plain": [
       "             ⎛⎡  4     3    3   3   2     3    3           2   2    3         \n",
       "GroebnerBasis⎝⎣x₁  - x₂ , x₁ ⋅x₂ ⋅z₃  - z₂ , x₁ ⋅z₁⋅z₂ - x₂ ⋅z₂ , x₁ ⋅z₁⋅z₃ - \n",
       "\n",
       "  2          2   3   3     3       2   2           3    2   2           2     \n",
       "x₂ ⋅z₂⋅z₃, x₁ ⋅x₂ ⋅z₃  - z₁ ⋅z₃, x₁ ⋅z₁ ⋅z₂ - x₂⋅z₂ , x₁ ⋅z₁ ⋅z₃ - x₂⋅z₂ ⋅z₃, \n",
       "\n",
       "     4   2     2          3        4       3        3          2              \n",
       "x₁⋅x₂ ⋅z₃  - z₁ ⋅z₂, x₁⋅z₁ ⋅z₂ - z₂ , x₁⋅z₁ ⋅z₃ - z₂ ⋅z₃, x₁⋅z₂  - x₂⋅z₁⋅z₂, x\n",
       "\n",
       "                      5   2        2    4   3   2     5       4   2   3     5 \n",
       "₁⋅z₂⋅z₃ - x₂⋅z₁⋅z₃, x₂ ⋅z₃  - z₁⋅z₂ , x₂ ⋅z₂ ⋅z₃  - z₁ ⋅z₂, x₂ ⋅z₂ ⋅z₃  - z₁ ⋅\n",
       "\n",
       "      3   7   2     9       3   6   3     9       2   11   2     13       2   \n",
       "z₃, x₂ ⋅z₂ ⋅z₃  - z₁ ⋅z₂, x₂ ⋅z₂ ⋅z₃  - z₁ ⋅z₃, x₂ ⋅z₂  ⋅z₃  - z₁  ⋅z₂, x₂ ⋅z₂\n",
       "\n",
       "10   3     13          4        5       4        4          15   2     17     \n",
       "  ⋅z₃  - z₁  ⋅z₃, x₂⋅z₁ ⋅z₂ - z₂ , x₂⋅z₁ ⋅z₃ - z₂ ⋅z₃, x₂⋅z₂  ⋅z₃  - z₁  ⋅z₂, \n",
       "\n",
       "     14   3     17       21        19   2    21        18   3⎤                \n",
       "x₂⋅z₂  ⋅z₃  - z₁  ⋅z₃, z₁  ⋅z₂ - z₂  ⋅z₃ , z₁  ⋅z₃ - z₂  ⋅z₃ ⎦, x₁, x₂, z₁, z₂\n",
       "\n",
       "                         ⎞\n",
       ", z₃, domain=ℤ, order=lex⎠"
      ]
     },
     "metadata": {},
     "output_type": "display_data"
    }
   ],
   "source": [
    "gb=computationIS([3],[4],[6,12],[7,10,13],[0,3,6,9])\n",
    "display(gb)"
   ]
  },
  {
   "cell_type": "markdown",
   "id": "fd74cabf",
   "metadata": {},
   "source": [
    "## Function of obtain the elasticity of a monoid from one of its ideals (`elasticity`)"
   ]
  },
  {
   "cell_type": "markdown",
   "id": "e38b79f1",
   "metadata": {},
   "source": [
    "### Auxiliary functions"
   ]
  },
  {
   "cell_type": "markdown",
   "id": "866be200",
   "metadata": {},
   "source": [
    "Now, we define three auxiliary funcions `fraccionDeGenerador` and `binomio2Zn` used in the function `elasticity`. The last function computes the elasticity of a monoid from one of its defining ideals."
   ]
  },
  {
   "cell_type": "code",
   "execution_count": 155,
   "id": "ff63e8a8",
   "metadata": {
    "ExecuteTime": {
     "end_time": "2021-05-27T11:03:23.446470Z",
     "start_time": "2021-05-27T11:03:23.440701Z"
    }
   },
   "outputs": [],
   "source": [
    "def fraccionDeGenerador(gen):\n",
    "    dim=len(gen)//2\n",
    "    #print(gen,dim)\n",
    "    return Fraction(sum(gen[:dim]),sum(gen[dim:]))\n",
    "\n",
    "def binomio2Zn(binomio,lV):\n",
    "    #binomio=G4[0]\n",
    "    s1,s2=binomio.args[0].as_powers_dict(),binomio.args[1].as_powers_dict()\n",
    "    c=[]\n",
    "    c1=[]\n",
    "    c2=[]\n",
    "    #print(s1)\n",
    "    for v in lV:\n",
    "        c1.append(s1[v])\n",
    "    for v in lV:\n",
    "        c2.append(s2[v])\n",
    "    return [c1,c2]"
   ]
  },
  {
   "cell_type": "markdown",
   "id": "00a31e0d",
   "metadata": {},
   "source": [
    "We have the function elasticity"
   ]
  },
  {
   "cell_type": "code",
   "execution_count": 156,
   "id": "918908a5",
   "metadata": {
    "ExecuteTime": {
     "end_time": "2021-05-27T11:03:27.455739Z",
     "start_time": "2021-05-27T11:03:24.953907Z"
    }
   },
   "outputs": [
    {
     "name": "stdout",
     "output_type": "stream",
     "text": [
      "(Matrix([\n",
      "[0, 0,  -2,  -2,  -3],\n",
      "[3, 4, -16, -15, -33]]), Matrix([\n",
      "[0],\n",
      "[0]]))\n",
      "[[0, 0, -2, -2, -3], [3, 4, -16, -15, -33]]\n"
     ]
    }
   ],
   "source": [
    "lVariables=gb.args[1]\n",
    "tuplasGB=[binomio2Zn(b,lVariables) for b in gb]\n",
    "genM=[]\n",
    "for c1,c2 in tuplasGB:\n",
    "    genM.append(array(c1)-array(c2))\n",
    "\n",
    "eqGenM=generatorsToEquations(genM)\n",
    "\n",
    "numEqs=eqGenM[0].shape[0]\n",
    "filas=[list(eqGenM[0][i,:]) for i in range(numEqs)]\n",
    "\n",
    "\n",
    "print(eqGenM)\n",
    "print(filas)"
   ]
  },
  {
   "cell_type": "code",
   "execution_count": 157,
   "id": "4d53a104",
   "metadata": {
    "ExecuteTime": {
     "end_time": "2021-05-27T11:03:27.459395Z",
     "start_time": "2021-05-27T11:03:27.456700Z"
    }
   },
   "outputs": [],
   "source": [
    "def computeEquationsOfMFromGB(gb):\n",
    "    lVariables=gb.args[1]\n",
    "    tuplasGB=[binomio2Zn(b,lVariables) for b in gb]\n",
    "    genM=[]\n",
    "    for c1,c2 in tuplasGB:\n",
    "        genM.append(array(c1)-array(c2))\n",
    "\n",
    "    eqGenM=generatorsToEquations(genM)\n",
    "    \n",
    "    numEqs=eqGenM[0].shape[0]\n",
    "    filas=[list(eqGenM[0][i,:]) for i in range(numEqs)]\n",
    "    \n",
    "    return filas"
   ]
  },
  {
   "cell_type": "markdown",
   "id": "16df6609",
   "metadata": {},
   "source": [
    "### Function `elasticity`"
   ]
  },
  {
   "cell_type": "code",
   "execution_count": 158,
   "id": "fa87420c",
   "metadata": {
    "ExecuteTime": {
     "end_time": "2021-05-27T11:03:28.366467Z",
     "start_time": "2021-05-27T11:03:28.359912Z"
    },
    "scrolled": false
   },
   "outputs": [],
   "source": [
    "def elasticity(gb,verbose=False):\n",
    "    '''Computes the elasticity of a monoid from one of its presetations.\n",
    "    It returns the value of the elasticity and the elements of gb that reach the elasticity\n",
    "    >>> rho,lTElasticity=elasticity(gb)\n",
    "    '''\n",
    "    #lVariables=gb.args[1]\n",
    "    #tuplasGB=[binomio2Zn(b,lVariables) for b in gb]\n",
    "    #genM=[]\n",
    "    #for c1,c2 in tuplasGB:\n",
    "    #    genM.append(array(c1)-array(c2))\n",
    "    #eqGenM=generatorsToEquations(genM)\n",
    "    \n",
    "    #numEqs=eqGenM[0].shape[0]\n",
    "    #filas=[list(eqGenM[0][i,:]) for i in range(numEqs)]\n",
    "\n",
    "    filas=computeEquationsOfMFromGB(gb)\n",
    "    \n",
    "    coneSR=Cone(equations=filas)\n",
    "    cSRHB=coneSR.HilbertBasis()\n",
    "    if verbose:\n",
    "        print(\"Cono positivo M:\",cSRHB)\n",
    "    if cSRHB!=[]:\n",
    "        if verbose:\n",
    "            print(\"The semigroup is not strongly reduced\")\n",
    "        return \"\\infty\",[]\n",
    "    \n",
    "    \n",
    "    \n",
    "    #print(\"filas\",filas)\n",
    "\n",
    "    ecuacionesAmenosA=[filas[i]+[-a for a in filas[i]] for i in range(len(filas))]\n",
    "    monoide=Cone(equations=ecuacionesAmenosA)\n",
    "    sistemaGenMonoide=monoide.HilbertBasis()\n",
    "    \n",
    "    dim=len(sistemaGenMonoide[0])//2\n",
    "    elasticidad=max([fraccionDeGenerador(gen) for gen in sistemaGenMonoide])\n",
    "    \n",
    "    elasticidad\n",
    "\n",
    "    Rs=[gen for gen in sistemaGenMonoide \\\n",
    "     if fraccionDeGenerador(gen)==elasticidad]\n",
    "    \n",
    "    if verbose:\n",
    "        #print(\"Order of variables:\",variablesGB(gb))\n",
    "        #print(tuplasGB)\n",
    "        print(\"Equations of M\")\n",
    "        print(filas)\n",
    "        #print(eqGenM[0],\"\\n\")\n",
    "        #print(\"Matrix (A|-A)\")\n",
    "        #print(ecuacionesAmenosA)\n",
    "\n",
    "    \n",
    "    return(elasticidad,Rs)\n",
    "    "
   ]
  },
  {
   "cell_type": "markdown",
   "id": "9a61b223",
   "metadata": {},
   "source": [
    "### Example"
   ]
  },
  {
   "cell_type": "markdown",
   "id": "70104ed9",
   "metadata": {},
   "source": [
    "One example of how to use this function is the following."
   ]
  },
  {
   "cell_type": "code",
   "execution_count": 159,
   "id": "17b42443",
   "metadata": {
    "ExecuteTime": {
     "end_time": "2021-05-27T11:03:33.941894Z",
     "start_time": "2021-05-27T11:03:30.917714Z"
    }
   },
   "outputs": [
    {
     "name": "stdout",
     "output_type": "stream",
     "text": [
      "Cono positivo M: []\n",
      "Equations of M\n",
      "[[0, 0, -2, -2, -3], [3, 4, -16, -15, -33]]\n",
      "Variables used in the Groebner basis: (x1, x2, z1, z2, z3)\n",
      "Elasticity of S: 3\n",
      "Pairs of atoms of A(I_M) that reach the elasticity: [[7, 0, 0, 0, 2, 0, 0, 0, 3, 0]]\n"
     ]
    }
   ],
   "source": [
    "sgS=[[3],[4],[6,12],[7,10,13],[0,3,6,9]]\n",
    "gb=computationIS(*sgS)\n",
    "rho,lTElasticity=elasticity(gb,verbose=True)\n",
    "\n",
    "print(\"Variables used in the Groebner basis:\",gb.args[1])\n",
    "print(\"Elasticity of S:\",rho)\n",
    "print(\"Pairs of atoms of A(I_M) that reach the elasticity:\",lTElasticity)"
   ]
  },
  {
   "cell_type": "markdown",
   "id": "8c20ad94",
   "metadata": {},
   "source": [
    "Since the monomial $x1^7 z3^2$ is reduced to $z2^3$, the element $7 \\otimes \\{3\\} + 2 \\otimes \\{0,3,6,9\\}=3 \\otimes \\{7,10,13\\}$ and reachs the elasticity. \n",
    "So, the monoids $S$ has acceptable elasticity."
   ]
  },
  {
   "cell_type": "code",
   "execution_count": 160,
   "id": "8504b120",
   "metadata": {
    "ExecuteTime": {
     "end_time": "2021-05-27T11:03:37.497231Z",
     "start_time": "2021-05-27T11:03:37.491204Z"
    }
   },
   "outputs": [
    {
     "data": {
      "text/latex": [
       "$\\displaystyle 25$"
      ],
      "text/plain": [
       "25"
      ]
     },
     "execution_count": 160,
     "metadata": {},
     "output_type": "execute_result"
    }
   ],
   "source": [
    "len(gb.args[0])\n",
    "len([0, 1, 0, 0, 0, 0, 0, 0, 0, 0, 0, 0, 0, 0, 0, 0, 0, 0, 0, 0, 0, 0, 0, 0, 0])"
   ]
  },
  {
   "cell_type": "code",
   "execution_count": 161,
   "id": "84e47f76",
   "metadata": {
    "ExecuteTime": {
     "end_time": "2021-05-27T11:03:39.303275Z",
     "start_time": "2021-05-27T11:03:39.290632Z"
    }
   },
   "outputs": [
    {
     "data": {
      "text/latex": [
       "$\\displaystyle \\left( \\left[ x_{1}^{3} z_{3}^{2}, \\  1, \\  0, \\  0, \\  0, \\  0, \\  0, \\  0, \\  0, \\  0, \\  0, \\  0, \\  0, \\  0, \\  0, \\  0, \\  0, \\  0, \\  0, \\  0, \\  0, \\  0, \\  0, \\  0, \\  0\\right], \\  z_{2}^{3}\\right)$"
      ],
      "text/plain": [
       "⎛⎡  3   2                                                                     \n",
       "⎝⎣x₁ ⋅z₃ , 1, 0, 0, 0, 0, 0, 0, 0, 0, 0, 0, 0, 0, 0, 0, 0, 0, 0, 0, 0, 0, 0, 0\n",
       "\n",
       "   ⎤    3⎞\n",
       ", 0⎦, z₂ ⎠"
      ]
     },
     "execution_count": 161,
     "metadata": {},
     "output_type": "execute_result"
    }
   ],
   "source": [
    "gb.reduce(x1**7*z3**2)"
   ]
  },
  {
   "cell_type": "markdown",
   "id": "9b530c7a",
   "metadata": {},
   "source": [
    "## Algorithm to decide if a semigroups has acceptable elasticity (`hasAcceptableElasticity`)"
   ]
  },
  {
   "cell_type": "markdown",
   "id": "6713c10f",
   "metadata": {},
   "source": [
    "From the work [Atomic Commutative Monoids and Their Elasticity\n",
    "](https://doi-org.bibezproxy.uca.es/10.1007/s00233-002-0022-4), we can check from a presetation of a monoid if it has acceptable elasticity or not."
   ]
  },
  {
   "cell_type": "markdown",
   "id": "6b7a0c4a",
   "metadata": {},
   "source": [
    "### Auxiliary functions"
   ]
  },
  {
   "cell_type": "markdown",
   "id": "1dc30613",
   "metadata": {},
   "source": [
    "We need a function to compute the Archimedean components of a monoid from one a system of generators of $I_S$"
   ]
  },
  {
   "cell_type": "code",
   "execution_count": 162,
   "id": "2020b01f",
   "metadata": {
    "ExecuteTime": {
     "end_time": "2021-05-27T11:03:44.732164Z",
     "start_time": "2021-05-27T11:03:44.721097Z"
    }
   },
   "outputs": [],
   "source": [
    "def projection01(l):\n",
    "    return [(lambda x:0 if x==0 else 1)(a) for a in l]\n",
    "\n",
    "projection01([5,0,1,0,0,3])\n",
    "\n",
    "def supreme(t1,t2):\n",
    "    return [max(x,y) for x,y in zip(t1,t2)]\n",
    "def infimum(t1,t2):\n",
    "    return [min(x,y) for x,y in zip(t1,t2)]\n",
    "def elementsBetween(t1,t2):\n",
    "    s=[]\n",
    "    for tt in itertools.product([0,1],repeat=len(t1)):\n",
    "        if infimum(tt,t1)==t1 and supreme(tt,t2)==t2:\n",
    "            s.append(tt)\n",
    "    return s\n",
    "\n",
    "def areInTheSameACAux(Grho,vv1,vv2):\n",
    "    for aa,bb in Grho:\n",
    "        if aa==vv1:\n",
    "            vv1=bb\n",
    "        if aa==vv2:\n",
    "            vv2=bb\n",
    "    if vv1==vv2:\n",
    "        return True\n",
    "    return False\n",
    "\n",
    "def ArchimedeanComponents(gb, debug=False):\n",
    "    lV=gb.args[1]\n",
    "    lLists=[binomio2Zn(p,lV) for p in gb]\n",
    "    l01=[(projection01(a),projection01(b)) for a,b in lLists]+\\\n",
    "        [(projection01(b),projection01(a)) for a,b in lLists]\n",
    "    #print(lLists)\n",
    "    if debug:\n",
    "        print(l01,\"\\n\")\n",
    "    latt=itertools.product([0,1],repeat=len(lV))\n",
    "    #print(list(latt))\n",
    "    \n",
    "    Grho=[]\n",
    "    for vv in latt:\n",
    "        #print(vv)\n",
    "        menores=[tt for tt in l01 if tt[0]==infimum(tt[0],list(vv))]\n",
    "        #print(menores,\"\\n\")\n",
    "        for a,b in menores:\n",
    "            for i,vb in enumerate(b):\n",
    "                if vb==1 and vv[i]==0:\n",
    "                    copiavv1=list(vv)\n",
    "                    copiavv1[i]=1\n",
    "                    if (vv,copiavv1) not in Grho:\n",
    "                        Grho.append((list(vv),copiavv1))\n",
    "    if debug:\n",
    "        print(\"Grho:\",Grho,\"\\n\")\n",
    "                        \n",
    "    lACcomponents=[]\n",
    "    for vv in itertools.product([0,1],repeat=len(lV)):\n",
    "        vv=list(vv)\n",
    "        if debug:\n",
    "            print(\"lACcomponents:\",lACcomponents)\n",
    "            print(vv)\n",
    "        if lACcomponents==[]:\n",
    "            lACcomponents.append([vv])\n",
    "        else:\n",
    "            encontrado=False\n",
    "            i=0\n",
    "            while not encontrado and i<len(lACcomponents):\n",
    "                lAux=lACcomponents[i]\n",
    "                primero=lAux[0]                \n",
    "                vt=areInTheSameACAux(Grho,vv,primero)\n",
    "                if debug:\n",
    "                    print(\"\\tvv cc\",vv,primero,vt)\n",
    "                if vt:\n",
    "                    encontrado=True\n",
    "                    lAux.append(vv)\n",
    "                    lACcomponents[i]=lAux\n",
    "                i=i+1 \n",
    "            if not encontrado:\n",
    "                lACcomponents.append([vv])\n",
    "    if debug:\n",
    "        print(\"lACcomponents\",lACcomponents)\n",
    "    \n",
    "    return lACcomponents #,Grho"
   ]
  },
  {
   "cell_type": "code",
   "execution_count": 163,
   "id": "99a1d174",
   "metadata": {
    "ExecuteTime": {
     "end_time": "2021-05-27T11:04:11.994750Z",
     "start_time": "2021-05-27T11:04:11.411050Z"
    },
    "scrolled": false
   },
   "outputs": [
    {
     "name": "stdout",
     "output_type": "stream",
     "text": [
      "(x1**4 - x2**3, x1**3*x2**3*z3**2 - z2**3, x1**3*z1*z2 - x2**2*z2**2, x1**3*z1*z3 - x2**2*z2*z3, x1**2*x2**3*z3**3 - z1**3*z3, x1**2*z1**2*z2 - x2*z2**3, x1**2*z1**2*z3 - x2*z2**2*z3, x1*x2**4*z3**2 - z1**2*z2, x1*z1**3*z2 - z2**4, x1*z1**3*z3 - z2**3*z3, x1*z2**2 - x2*z1*z2, x1*z2*z3 - x2*z1*z3, x2**5*z3**2 - z1*z2**2, x2**4*z2**3*z3**2 - z1**5*z2, x2**4*z2**2*z3**3 - z1**5*z3, x2**3*z2**7*z3**2 - z1**9*z2, x2**3*z2**6*z3**3 - z1**9*z3, x2**2*z2**11*z3**2 - z1**13*z2, x2**2*z2**10*z3**3 - z1**13*z3, x2*z1**4*z2 - z2**5, x2*z1**4*z3 - z2**4*z3, x2*z2**15*z3**2 - z1**17*z2, x2*z2**14*z3**3 - z1**17*z3, z1**21*z2 - z2**19*z3**2, z1**21*z3 - z2**18*z3**3)\n",
      "(x1, x2, z1, z2, z3)\n",
      "Archimedean components of S:\n",
      "0 --> [[0, 0, 0, 0, 0]]\n",
      "1 --> [[0, 0, 0, 0, 1]]\n",
      "2 --> [[0, 0, 0, 1, 0], [0, 0, 0, 1, 1], [0, 0, 1, 0, 1], [0, 0, 1, 1, 0], [0, 0, 1, 1, 1], [0, 1, 0, 0, 1], [0, 1, 0, 1, 0], [0, 1, 0, 1, 1], [0, 1, 1, 0, 1], [0, 1, 1, 1, 0], [0, 1, 1, 1, 1], [1, 0, 0, 0, 1], [1, 0, 0, 1, 0], [1, 0, 0, 1, 1], [1, 0, 1, 0, 1], [1, 0, 1, 1, 0], [1, 0, 1, 1, 1], [1, 1, 0, 0, 1], [1, 1, 0, 1, 0], [1, 1, 0, 1, 1], [1, 1, 1, 0, 1], [1, 1, 1, 1, 0], [1, 1, 1, 1, 1]]\n",
      "3 --> [[0, 0, 1, 0, 0]]\n",
      "4 --> [[0, 1, 0, 0, 0], [1, 0, 0, 0, 0], [1, 1, 0, 0, 0]]\n",
      "5 --> [[0, 1, 1, 0, 0], [1, 0, 1, 0, 0], [1, 1, 1, 0, 0]]\n",
      "The maximum number of Archimedean component for a monoid generated by 5 elements is 32.\n",
      "The monoid S has only 6 Archimedean components\n"
     ]
    }
   ],
   "source": [
    "sgS=[[3],[4],[6,12],[7,10,13],[0,3,6,9]]\n",
    "gb=computationIS(*sgS)\n",
    "print(gb.args[0])\n",
    "print(gb.args[1])\n",
    "AC=ArchimedeanComponents(gb)\n",
    "print(\"Archimedean components of S:\")\n",
    "for i,arch in enumerate(AC):\n",
    "    print(i,\"-->\",arch)\n",
    "print(\"The maximum number of Archimedean component \\\n",
    "for a monoid generated by 5 elements is {}.\".format(2**5))\n",
    "print(\"The monoid S has only\",len(AC),\"Archimedean components\")"
   ]
  },
  {
   "cell_type": "code",
   "execution_count": 164,
   "id": "e176db3c",
   "metadata": {
    "ExecuteTime": {
     "end_time": "2021-05-27T11:04:14.960720Z",
     "start_time": "2021-05-27T11:04:14.955163Z"
    }
   },
   "outputs": [],
   "source": [
    "def supportIncluded(vect1,vect2):\n",
    "    '''\n",
    "    >>> supportIncluded([0,0,3],[1,0,1])\n",
    "    '''\n",
    "    for i,j in zip(vect1,vect2):\n",
    "        if i!=0 and j==0:\n",
    "            return False\n",
    "    return True\n",
    "\n",
    "\n",
    "def hasAcceptableElasticity1(gb,Rs,showTuple=False):\n",
    "    '''From one of its presentations, computes if the elasticity of a monoid is acceptable\n",
    "    >>> hasAcceptableElasticity(gb,lTElasticity)\n",
    "    '''\n",
    "    tuplasGB=[binomio2Zn(b,variablesGB(gb)) for b in gb]\n",
    "    ts=[vv[0]+vv[1] for vv in tuplasGB]\n",
    "    for vv in ts:\n",
    "        for ww in Rs:\n",
    "            if supportIncluded(vv,ww):\n",
    "                if showTuple:\n",
    "                    print(\"Support of\",vv,\"included in the support of\",ww)\n",
    "                return True\n",
    "    return False"
   ]
  },
  {
   "cell_type": "code",
   "execution_count": 165,
   "id": "18d6c59f",
   "metadata": {
    "ExecuteTime": {
     "end_time": "2021-05-27T11:04:16.162979Z",
     "start_time": "2021-05-27T11:04:16.156477Z"
    }
   },
   "outputs": [],
   "source": [
    "def computationOfC(lTElasticity):\n",
    "    projLTE=[projection01(vv) for vv in lTElasticity]\n",
    "\n",
    "    res = []\n",
    "    [res.append(x) for x in projLTE if x not in res]\n",
    "\n",
    "    projLTE=res\n",
    "    #print(projLTE)\n",
    "    lOld=0\n",
    "    while lOld!=len(projLTE):\n",
    "        lOld=len(projLTE)\n",
    "        listAux=list(projLTE)\n",
    "        for i,A in enumerate(listAux):\n",
    "            for j,B in enumerate(listAux[i+1:]):\n",
    "                C=supreme(A,B)\n",
    "                #print(\"C\",C)\n",
    "                if not C in projLTE:\n",
    "                    projLTE.append(C)\n",
    "    \n",
    "    dim2=len(lTElasticity[0])//2\n",
    "    aux=[supreme(vv[0:dim2],vv[dim2:]) for vv in projLTE]\n",
    "\n",
    "                    \n",
    "    return(projLTE,aux)"
   ]
  },
  {
   "cell_type": "code",
   "execution_count": 166,
   "id": "4d7759fa",
   "metadata": {
    "ExecuteTime": {
     "end_time": "2021-05-27T11:04:20.936768Z",
     "start_time": "2021-05-27T11:04:20.931448Z"
    }
   },
   "outputs": [],
   "source": [
    "def areInTheSameAC(ac1,ac2,AC):\n",
    "    for cc in AC:\n",
    "        if ac1 in cc:\n",
    "            if ac2 in cc:\n",
    "                return True\n",
    "            else:\n",
    "                return False"
   ]
  },
  {
   "cell_type": "markdown",
   "id": "071197c2",
   "metadata": {},
   "source": [
    "### Function `hasAcceptableElasticity`"
   ]
  },
  {
   "cell_type": "code",
   "execution_count": 167,
   "id": "35a42435",
   "metadata": {
    "ExecuteTime": {
     "end_time": "2021-05-27T11:04:22.743739Z",
     "start_time": "2021-05-27T11:04:22.733307Z"
    }
   },
   "outputs": [],
   "source": [
    "def hasAcceptableElasticity(gb1, debug=False):\n",
    "    rho,lTElasticity=elasticity(gb1)\n",
    "    AC=ArchimedeanComponents(gb1)\n",
    "    Cmonoid,Caux=computationOfC(lTElasticity)\n",
    "    \n",
    "    #for cc in Cmonoid:\n",
    "    #    izq=cc[:len(cc)//2]\n",
    "    #    der=cc[len(cc)//2:]\n",
    "    #    tt=areInTheSameAC(izq,der,AC)\n",
    "        \n",
    "    Cset=[cc for cc in Cmonoid if areInTheSameAC(cc[:len(cc)//2],cc[len(cc)//2:],AC)]\n",
    "    if Cset==[]:\n",
    "        print(\"S has not acceptable elasticity\")\n",
    "        return\n",
    "    \n",
    "    lVV=gb1.args[1]\n",
    "    if debug:\n",
    "        print(lVV,\"\\n\")\n",
    "    for tt1 in Cset:\n",
    "        tam=len(tt1)\n",
    "        print(\"tt1\",tt1)\n",
    "        izq=tt1[:tam//2]\n",
    "        der=tt1[tam//2:]\n",
    "        if debug:\n",
    "            print(izq,der)\n",
    "        tt=supreme(izq,der)\n",
    "\n",
    "        posIzq=[i for i,vp in enumerate(izq) if vp!=0]\n",
    "        posDer=[i for i,vp in enumerate(der) if vp!=0]\n",
    "        goodPos=posIzq+posDer\n",
    "        goodPos.sort()\n",
    "        tamGood=len(goodPos)\n",
    "        if debug:\n",
    "            print(\"Good positions\",goodPos)\n",
    "        supportA=[izq[i] for i in goodPos]\n",
    "        supportB=[der[i] for i in goodPos]\n",
    "        if debug:\n",
    "            print(\"supportA supportB\",supportA,supportB)\n",
    "        print(tt)\n",
    "        lVaux1=[var for i,var in enumerate(lVV) if tt[i]==0]\n",
    "        lVaux2=[var for i,var in enumerate(lVV) if tt[i]==1]\n",
    "        if debug:\n",
    "            print(\"lVaux2\",lVaux2)\n",
    "        gbT=groebner(gb1,lVaux1+lVaux2)\n",
    "        print(gbT)\n",
    "        #print(removeBinomialsHavingVariables(gbT,lVaux1))\n",
    "        gbTAux=groebner( removeBinomialsHavingVariables(gbT,lVaux1) )\n",
    "        print(gbTAux)\n",
    "        ACTaux=ArchimedeanComponents(gbTAux)\n",
    "        print(ACTaux)\n",
    "        eqM=computeEquationsOfMFromGB(gbTAux)\n",
    "        print(\"equations\",eqM)\n",
    "        cone=Cone(equations=[l+[-a for a in l] for l in eqM])\n",
    "        base=cone.HilbertBasis()\n",
    "        if debug:\n",
    "            print(\"base\",base)\n",
    "            print()\n",
    "\n",
    "        genInclAB=[g for g in base if supportIncluded(g[:tamGood],supportA) and supportIncluded(g[tamGood:],supportB)]    \n",
    "        print(\"genInclAB\",genInclAB)\n",
    "        laux=[0 for i in range(tamGood)]\n",
    "        for tg in genInclAB:\n",
    "            supr=supreme( projection01(tg[:tamGood]), projection01(tg[tamGood:]) )\n",
    "            laux=supreme(supr,laux)\n",
    "        if laux==[1 for i in range(tamGood)]:\n",
    "            print(\"S has acceptable elasticity\")\n",
    "        else:\n",
    "            print(\"S has NOT acceptable elasticity\")"
   ]
  },
  {
   "cell_type": "markdown",
   "id": "3afdac44",
   "metadata": {},
   "source": [
    "### Example of how to use the function `hasAcceptableElasticity`"
   ]
  },
  {
   "cell_type": "code",
   "execution_count": 168,
   "id": "b9ad8a42",
   "metadata": {
    "ExecuteTime": {
     "end_time": "2021-05-27T11:04:32.496921Z",
     "start_time": "2021-05-27T11:04:29.395848Z"
    }
   },
   "outputs": [
    {
     "data": {
      "text/latex": [
       "$\\displaystyle GroebnerBasis\\left(\\left( x_{1}^{4} - x_{2}^{3}, \\  x_{1}^{3} x_{2}^{3} z_{3}^{2} - z_{2}^{3}, \\  x_{1}^{3} z_{1} z_{2} - x_{2}^{2} z_{2}^{2}, \\  x_{1}^{3} z_{1} z_{3} - x_{2}^{2} z_{2} z_{3}, \\  x_{1}^{2} x_{2}^{3} z_{3}^{3} - z_{1}^{3} z_{3}, \\  x_{1}^{2} z_{1}^{2} z_{2} - x_{2} z_{2}^{3}, \\  x_{1}^{2} z_{1}^{2} z_{3} - x_{2} z_{2}^{2} z_{3}, \\  x_{1} x_{2}^{4} z_{3}^{2} - z_{1}^{2} z_{2}, \\  x_{1} z_{1}^{3} z_{2} - z_{2}^{4}, \\  x_{1} z_{1}^{3} z_{3} - z_{2}^{3} z_{3}, \\  x_{1} z_{2}^{2} - x_{2} z_{1} z_{2}, \\  x_{1} z_{2} z_{3} - x_{2} z_{1} z_{3}, \\  x_{2}^{5} z_{3}^{2} - z_{1} z_{2}^{2}, \\  x_{2}^{4} z_{2}^{3} z_{3}^{2} - z_{1}^{5} z_{2}, \\  x_{2}^{4} z_{2}^{2} z_{3}^{3} - z_{1}^{5} z_{3}, \\  x_{2}^{3} z_{2}^{7} z_{3}^{2} - z_{1}^{9} z_{2}, \\  x_{2}^{3} z_{2}^{6} z_{3}^{3} - z_{1}^{9} z_{3}, \\  x_{2}^{2} z_{2}^{11} z_{3}^{2} - z_{1}^{13} z_{2}, \\  x_{2}^{2} z_{2}^{10} z_{3}^{3} - z_{1}^{13} z_{3}, \\  x_{2} z_{1}^{4} z_{2} - z_{2}^{5}, \\  x_{2} z_{1}^{4} z_{3} - z_{2}^{4} z_{3}, \\  x_{2} z_{2}^{15} z_{3}^{2} - z_{1}^{17} z_{2}, \\  x_{2} z_{2}^{14} z_{3}^{3} - z_{1}^{17} z_{3}, \\  z_{1}^{21} z_{2} - z_{2}^{19} z_{3}^{2}, \\  z_{1}^{21} z_{3} - z_{2}^{18} z_{3}^{3}\\right), \\left( x_{1}, \\  x_{2}, \\  z_{1}, \\  z_{2}, \\  z_{3}\\right)\\right)$"
      ],
      "text/plain": [
       "             ⎛⎡  4     3    3   3   2     3    3           2   2    3         \n",
       "GroebnerBasis⎝⎣x₁  - x₂ , x₁ ⋅x₂ ⋅z₃  - z₂ , x₁ ⋅z₁⋅z₂ - x₂ ⋅z₂ , x₁ ⋅z₁⋅z₃ - \n",
       "\n",
       "  2          2   3   3     3       2   2           3    2   2           2     \n",
       "x₂ ⋅z₂⋅z₃, x₁ ⋅x₂ ⋅z₃  - z₁ ⋅z₃, x₁ ⋅z₁ ⋅z₂ - x₂⋅z₂ , x₁ ⋅z₁ ⋅z₃ - x₂⋅z₂ ⋅z₃, \n",
       "\n",
       "     4   2     2          3        4       3        3          2              \n",
       "x₁⋅x₂ ⋅z₃  - z₁ ⋅z₂, x₁⋅z₁ ⋅z₂ - z₂ , x₁⋅z₁ ⋅z₃ - z₂ ⋅z₃, x₁⋅z₂  - x₂⋅z₁⋅z₂, x\n",
       "\n",
       "                      5   2        2    4   3   2     5       4   2   3     5 \n",
       "₁⋅z₂⋅z₃ - x₂⋅z₁⋅z₃, x₂ ⋅z₃  - z₁⋅z₂ , x₂ ⋅z₂ ⋅z₃  - z₁ ⋅z₂, x₂ ⋅z₂ ⋅z₃  - z₁ ⋅\n",
       "\n",
       "      3   7   2     9       3   6   3     9       2   11   2     13       2   \n",
       "z₃, x₂ ⋅z₂ ⋅z₃  - z₁ ⋅z₂, x₂ ⋅z₂ ⋅z₃  - z₁ ⋅z₃, x₂ ⋅z₂  ⋅z₃  - z₁  ⋅z₂, x₂ ⋅z₂\n",
       "\n",
       "10   3     13          4        5       4        4          15   2     17     \n",
       "  ⋅z₃  - z₁  ⋅z₃, x₂⋅z₁ ⋅z₂ - z₂ , x₂⋅z₁ ⋅z₃ - z₂ ⋅z₃, x₂⋅z₂  ⋅z₃  - z₁  ⋅z₂, \n",
       "\n",
       "     14   3     17       21        19   2    21        18   3⎤                \n",
       "x₂⋅z₂  ⋅z₃  - z₁  ⋅z₃, z₁  ⋅z₂ - z₂  ⋅z₃ , z₁  ⋅z₃ - z₂  ⋅z₃ ⎦, x₁, x₂, z₁, z₂\n",
       "\n",
       "                         ⎞\n",
       ", z₃, domain=ℤ, order=lex⎠"
      ]
     },
     "metadata": {},
     "output_type": "display_data"
    },
    {
     "name": "stdout",
     "output_type": "stream",
     "text": [
      "(x1, x2, z1, z2, z3) \n",
      "\n",
      "tt1 [1, 0, 0, 0, 1, 0, 0, 0, 1, 0]\n",
      "[1, 0, 0, 0, 1] [0, 0, 0, 1, 0]\n",
      "Good positions [0, 3, 4]\n",
      "supportA supportB [1, 0, 1] [0, 1, 0]\n",
      "[1, 0, 0, 1, 1]\n",
      "lVaux2 [x1, z2, z3]\n",
      "GroebnerBasis([-x1**4 + x2**3, x1**4*x2**2*z3**2 - z1*z2**2, -x1**3*z1*z2 + x2**2*z2**2, -x1**3*z1*z3 + x2**2*z2*z3, -x1*z2**2 + x2*z1*z2, -x1*z2*z3 + x2*z1*z3, x1**5*x2*z3**2 - z1**2*z2, -x1**2*z1**2*z2 + x2*z2**3, -x1**2*z1**2*z3 + x2*z2**2*z3, -x1**6*z2*z3**2 + z1**3*z2, -x1**6*z3**3 + z1**3*z3, x1**7*z3**2 - z2**3], x2, z1, x1, z2, z3, domain='ZZ', order='lex')\n",
      "GroebnerBasis([x1**7*z3**2 - z2**3], x1, z2, z3, domain='ZZ', order='lex')\n",
      "[[[0, 0, 0]], [[0, 0, 1]], [[0, 1, 0], [0, 1, 1], [1, 0, 1], [1, 1, 0], [1, 1, 1]], [[1, 0, 0]]]\n",
      "equations [[0, -2, -3], [1, -7, -14]]\n",
      "base [[0, 0, 1, 0, 0, 1], [0, 1, 0, 0, 1, 0], [0, 3, 0, 7, 0, 2], [1, 0, 0, 1, 0, 0], [7, 0, 2, 0, 3, 0]]\n",
      "\n",
      "genInclAB [[7, 0, 2, 0, 3, 0]]\n",
      "S has acceptable elasticity\n"
     ]
    }
   ],
   "source": [
    "gb=computationIS([3],[4],[6,12],[7,10,13],[0,3,6,9])\n",
    "#lprint(\"Groebner basis:\")\n",
    "#lprint(gb.args[0])\n",
    "#lprint(\"Variables used:\")\n",
    "#lprint(gb.args[1])\n",
    "display(gb)\n",
    "hasAcceptableElasticity(gb,debug=True)"
   ]
  },
  {
   "cell_type": "markdown",
   "id": "a4a4ef9a",
   "metadata": {},
   "source": [
    "## Examples"
   ]
  },
  {
   "cell_type": "markdown",
   "id": "7755d3e4",
   "metadata": {},
   "source": [
    "### Example 1"
   ]
  },
  {
   "cell_type": "markdown",
   "id": "6d2222e4",
   "metadata": {},
   "source": [
    "The following semigroup is not cancellative (see the Groebner basis obtained, there are variables that are not cancelled in some binomials)"
   ]
  },
  {
   "cell_type": "code",
   "execution_count": 173,
   "id": "d629cba0",
   "metadata": {
    "ExecuteTime": {
     "end_time": "2021-05-27T11:12:20.745245Z",
     "start_time": "2021-05-27T11:12:20.709731Z"
    }
   },
   "outputs": [
    {
     "data": {
      "text/latex": [
       "$\\displaystyle \\left[ 4, \\  7, \\  9, \\  10, \\  12, \\  13, \\  15, \\  18\\right]$"
      ],
      "text/plain": [
       "[4, 7, 9, 10, 12, 13, 15, 18]"
      ]
     },
     "metadata": {},
     "output_type": "display_data"
    },
    {
     "data": {
      "text/latex": [
       "$\\displaystyle \\left[ 2, \\  5, \\  7, \\  8, \\  10, \\  12, \\  13, \\  15, \\  18\\right]$"
      ],
      "text/plain": [
       "[2, 5, 7, 8, 10, 12, 13, 15, 18]"
      ]
     },
     "metadata": {},
     "output_type": "display_data"
    },
    {
     "data": {
      "text/latex": [
       "$\\displaystyle \\left[ 7, \\  10, \\  12, \\  13, \\  15, \\  17, \\  18, \\  20, \\  22, \\  23, \\  25, \\  27, \\  28, \\  30, \\  33\\right]$"
      ],
      "text/plain": [
       "[7, 10, 12, 13, 15, 17, 18, 20, 22, 23, 25, 27, 28, 30, 33]"
      ]
     },
     "metadata": {},
     "output_type": "display_data"
    }
   ],
   "source": [
    "vc11=((3 |mult| [0,3]) |add| [0,5]) |add| [4] \n",
    "vc12=((2 |mult| [0,3]) |add| (2 |mult| [0,5])) |add| [2] \n",
    "vc13=((2 |mult| [0,3]) |add| (4 |mult| [0,5])) |add| [7] \n",
    "display(vc11)\n",
    "display(vc12)\n",
    "display(vc13)"
   ]
  },
  {
   "cell_type": "code",
   "execution_count": 174,
   "id": "9897adc4",
   "metadata": {
    "ExecuteTime": {
     "end_time": "2021-05-27T11:16:28.198282Z",
     "start_time": "2021-05-27T11:12:21.627743Z"
    },
    "scrolled": true
   },
   "outputs": [
    {
     "name": "stdout",
     "output_type": "stream",
     "text": [
      "[[0, 3], [0, 5]]\n"
     ]
    },
    {
     "ename": "KeyboardInterrupt",
     "evalue": "",
     "output_type": "error",
     "traceback": [
      "\u001b[0;31m---------------------------------------------------------------------------\u001b[0m",
      "\u001b[0;31mKeyboardInterrupt\u001b[0m                         Traceback (most recent call last)",
      "\u001b[0;32m<ipython-input-174-8b0bcee35676>\u001b[0m in \u001b[0;36m<module>\u001b[0;34m\u001b[0m\n\u001b[0;32m----> 1\u001b[0;31m \u001b[0mgb1\u001b[0m\u001b[0;34m=\u001b[0m\u001b[0mcomputationIS\u001b[0m\u001b[0;34m(\u001b[0m\u001b[0;34m[\u001b[0m\u001b[0;36m3\u001b[0m\u001b[0;34m]\u001b[0m\u001b[0;34m,\u001b[0m\u001b[0;34m[\u001b[0m\u001b[0;36m7\u001b[0m\u001b[0;34m]\u001b[0m\u001b[0;34m,\u001b[0m\u001b[0mvc11\u001b[0m\u001b[0;34m,\u001b[0m\u001b[0mvc12\u001b[0m\u001b[0;34m,\u001b[0m\u001b[0mvc13\u001b[0m\u001b[0;34m,\u001b[0m\u001b[0mdebug\u001b[0m\u001b[0;34m=\u001b[0m\u001b[0;32mTrue\u001b[0m\u001b[0;34m)\u001b[0m\u001b[0;34m\u001b[0m\u001b[0;34m\u001b[0m\u001b[0m\n\u001b[0m",
      "\u001b[0;32m<ipython-input-153-069cbc76d2f5>\u001b[0m in \u001b[0;36mcomputationIS\u001b[0;34m(debug, *sgS)\u001b[0m\n\u001b[1;32m     35\u001b[0m             \u001b[0mrelations\u001b[0m\u001b[0;34m=\u001b[0m\u001b[0mrelations\u001b[0m\u001b[0;34m+\u001b[0m\u001b[0;34m[\u001b[0m\u001b[0mlZ\u001b[0m\u001b[0;34m[\u001b[0m\u001b[0mj\u001b[0m\u001b[0;34m]\u001b[0m\u001b[0;34m-\u001b[0m\u001b[0mx\u001b[0m\u001b[0;34m**\u001b[0m\u001b[0mcoord\u001b[0m\u001b[0;34m[\u001b[0m\u001b[0;36m0\u001b[0m\u001b[0;34m]\u001b[0m\u001b[0;34m*\u001b[0m\u001b[0my\u001b[0m\u001b[0;34m**\u001b[0m\u001b[0mcoord\u001b[0m\u001b[0;34m[\u001b[0m\u001b[0;36m1\u001b[0m\u001b[0;34m]\u001b[0m\u001b[0;34m]\u001b[0m\u001b[0;34m\u001b[0m\u001b[0;34m\u001b[0m\u001b[0m\n\u001b[1;32m     36\u001b[0m \u001b[0;34m\u001b[0m\u001b[0m\n\u001b[0;32m---> 37\u001b[0;31m     \u001b[0mgb\u001b[0m\u001b[0;34m=\u001b[0m\u001b[0mgroebner\u001b[0m\u001b[0;34m(\u001b[0m\u001b[0mrelations\u001b[0m\u001b[0;34m,\u001b[0m\u001b[0mu\u001b[0m\u001b[0;34m,\u001b[0m\u001b[0mx\u001b[0m\u001b[0;34m,\u001b[0m\u001b[0my\u001b[0m\u001b[0;34m,\u001b[0m\u001b[0;34m*\u001b[0m\u001b[0mlW\u001b[0m\u001b[0;34m,\u001b[0m\u001b[0;34m*\u001b[0m\u001b[0mlX\u001b[0m\u001b[0;34m,\u001b[0m\u001b[0;34m*\u001b[0m\u001b[0mlZ\u001b[0m\u001b[0;34m)\u001b[0m\u001b[0;34m\u001b[0m\u001b[0;34m\u001b[0m\u001b[0m\n\u001b[0m\u001b[1;32m     38\u001b[0m \u001b[0;34m\u001b[0m\u001b[0m\n\u001b[1;32m     39\u001b[0m     \u001b[0;31m#gb1=[p for p in gb \\\u001b[0m\u001b[0;34m\u001b[0m\u001b[0;34m\u001b[0m\u001b[0;34m\u001b[0m\u001b[0m\n",
      "\u001b[0;32m/usr/local/lib/python3.8/dist-packages/sympy/polys/polytools.py\u001b[0m in \u001b[0;36mgroebner\u001b[0;34m(F, *gens, **args)\u001b[0m\n\u001b[1;32m   6860\u001b[0m \u001b[0;34m\u001b[0m\u001b[0m\n\u001b[1;32m   6861\u001b[0m     \"\"\"\n\u001b[0;32m-> 6862\u001b[0;31m     \u001b[0;32mreturn\u001b[0m \u001b[0mGroebnerBasis\u001b[0m\u001b[0;34m(\u001b[0m\u001b[0mF\u001b[0m\u001b[0;34m,\u001b[0m \u001b[0;34m*\u001b[0m\u001b[0mgens\u001b[0m\u001b[0;34m,\u001b[0m \u001b[0;34m**\u001b[0m\u001b[0margs\u001b[0m\u001b[0;34m)\u001b[0m\u001b[0;34m\u001b[0m\u001b[0;34m\u001b[0m\u001b[0m\n\u001b[0m\u001b[1;32m   6863\u001b[0m \u001b[0;34m\u001b[0m\u001b[0m\n\u001b[1;32m   6864\u001b[0m \u001b[0;34m\u001b[0m\u001b[0m\n",
      "\u001b[0;32m/usr/local/lib/python3.8/dist-packages/sympy/polys/polytools.py\u001b[0m in \u001b[0;36m__new__\u001b[0;34m(cls, F, *gens, **args)\u001b[0m\n\u001b[1;32m   6899\u001b[0m         \u001b[0mpolys\u001b[0m \u001b[0;34m=\u001b[0m \u001b[0;34m[\u001b[0m\u001b[0mring\u001b[0m\u001b[0;34m.\u001b[0m\u001b[0mfrom_dict\u001b[0m\u001b[0;34m(\u001b[0m\u001b[0mpoly\u001b[0m\u001b[0;34m.\u001b[0m\u001b[0mrep\u001b[0m\u001b[0;34m.\u001b[0m\u001b[0mto_dict\u001b[0m\u001b[0;34m(\u001b[0m\u001b[0;34m)\u001b[0m\u001b[0;34m)\u001b[0m \u001b[0;32mfor\u001b[0m \u001b[0mpoly\u001b[0m \u001b[0;32min\u001b[0m \u001b[0mpolys\u001b[0m \u001b[0;32mif\u001b[0m \u001b[0mpoly\u001b[0m\u001b[0;34m]\u001b[0m\u001b[0;34m\u001b[0m\u001b[0;34m\u001b[0m\u001b[0m\n\u001b[1;32m   6900\u001b[0m \u001b[0;34m\u001b[0m\u001b[0m\n\u001b[0;32m-> 6901\u001b[0;31m         \u001b[0mG\u001b[0m \u001b[0;34m=\u001b[0m \u001b[0m_groebner\u001b[0m\u001b[0;34m(\u001b[0m\u001b[0mpolys\u001b[0m\u001b[0;34m,\u001b[0m \u001b[0mring\u001b[0m\u001b[0;34m,\u001b[0m \u001b[0mmethod\u001b[0m\u001b[0;34m=\u001b[0m\u001b[0mopt\u001b[0m\u001b[0;34m.\u001b[0m\u001b[0mmethod\u001b[0m\u001b[0;34m)\u001b[0m\u001b[0;34m\u001b[0m\u001b[0;34m\u001b[0m\u001b[0m\n\u001b[0m\u001b[1;32m   6902\u001b[0m         \u001b[0mG\u001b[0m \u001b[0;34m=\u001b[0m \u001b[0;34m[\u001b[0m\u001b[0mPoly\u001b[0m\u001b[0;34m.\u001b[0m\u001b[0m_from_dict\u001b[0m\u001b[0;34m(\u001b[0m\u001b[0mg\u001b[0m\u001b[0;34m,\u001b[0m \u001b[0mopt\u001b[0m\u001b[0;34m)\u001b[0m \u001b[0;32mfor\u001b[0m \u001b[0mg\u001b[0m \u001b[0;32min\u001b[0m \u001b[0mG\u001b[0m\u001b[0;34m]\u001b[0m\u001b[0;34m\u001b[0m\u001b[0;34m\u001b[0m\u001b[0m\n\u001b[1;32m   6903\u001b[0m \u001b[0;34m\u001b[0m\u001b[0m\n",
      "\u001b[0;32m/usr/local/lib/python3.8/dist-packages/sympy/polys/groebnertools.py\u001b[0m in \u001b[0;36mgroebner\u001b[0;34m(seq, ring, method)\u001b[0m\n\u001b[1;32m     41\u001b[0m             \u001b[0mseq\u001b[0m \u001b[0;34m=\u001b[0m \u001b[0;34m[\u001b[0m \u001b[0ms\u001b[0m\u001b[0;34m.\u001b[0m\u001b[0mset_ring\u001b[0m\u001b[0;34m(\u001b[0m\u001b[0mring\u001b[0m\u001b[0;34m)\u001b[0m \u001b[0;32mfor\u001b[0m \u001b[0ms\u001b[0m \u001b[0;32min\u001b[0m \u001b[0mseq\u001b[0m \u001b[0;34m]\u001b[0m\u001b[0;34m\u001b[0m\u001b[0;34m\u001b[0m\u001b[0m\n\u001b[1;32m     42\u001b[0m \u001b[0;34m\u001b[0m\u001b[0m\n\u001b[0;32m---> 43\u001b[0;31m     \u001b[0mG\u001b[0m \u001b[0;34m=\u001b[0m \u001b[0m_groebner\u001b[0m\u001b[0;34m(\u001b[0m\u001b[0mseq\u001b[0m\u001b[0;34m,\u001b[0m \u001b[0mring\u001b[0m\u001b[0;34m)\u001b[0m\u001b[0;34m\u001b[0m\u001b[0;34m\u001b[0m\u001b[0m\n\u001b[0m\u001b[1;32m     44\u001b[0m \u001b[0;34m\u001b[0m\u001b[0m\n\u001b[1;32m     45\u001b[0m     \u001b[0;32mif\u001b[0m \u001b[0morig\u001b[0m \u001b[0;32mis\u001b[0m \u001b[0;32mnot\u001b[0m \u001b[0;32mNone\u001b[0m\u001b[0;34m:\u001b[0m\u001b[0;34m\u001b[0m\u001b[0;34m\u001b[0m\u001b[0m\n",
      "\u001b[0;32m/usr/local/lib/python3.8/dist-packages/sympy/polys/groebnertools.py\u001b[0m in \u001b[0;36m_buchberger\u001b[0;34m(f, ring)\u001b[0m\n\u001b[1;32m    239\u001b[0m \u001b[0;34m\u001b[0m\u001b[0m\n\u001b[1;32m    240\u001b[0m         \u001b[0;32mif\u001b[0m \u001b[0mht\u001b[0m\u001b[0;34m:\u001b[0m\u001b[0;34m\u001b[0m\u001b[0;34m\u001b[0m\u001b[0m\n\u001b[0;32m--> 241\u001b[0;31m             \u001b[0mG\u001b[0m\u001b[0;34m,\u001b[0m \u001b[0mCP\u001b[0m \u001b[0;34m=\u001b[0m \u001b[0mupdate\u001b[0m\u001b[0;34m(\u001b[0m\u001b[0mG\u001b[0m\u001b[0;34m,\u001b[0m \u001b[0mCP\u001b[0m\u001b[0;34m,\u001b[0m \u001b[0mht\u001b[0m\u001b[0;34m[\u001b[0m\u001b[0;36m1\u001b[0m\u001b[0;34m]\u001b[0m\u001b[0;34m)\u001b[0m\u001b[0;34m\u001b[0m\u001b[0;34m\u001b[0m\u001b[0m\n\u001b[0m\u001b[1;32m    242\u001b[0m         \u001b[0;32melse\u001b[0m\u001b[0;34m:\u001b[0m\u001b[0;34m\u001b[0m\u001b[0;34m\u001b[0m\u001b[0m\n\u001b[1;32m    243\u001b[0m             \u001b[0mreductions_to_zero\u001b[0m \u001b[0;34m+=\u001b[0m \u001b[0;36m1\u001b[0m\u001b[0;34m\u001b[0m\u001b[0;34m\u001b[0m\u001b[0m\n",
      "\u001b[0;32m/usr/local/lib/python3.8/dist-packages/sympy/polys/groebnertools.py\u001b[0m in \u001b[0;36mupdate\u001b[0;34m(G, B, ih)\u001b[0m\n\u001b[1;32m    139\u001b[0m             \u001b[0;31m# HT(h) and HT(g) disjoint: mh*mg == LCMhg\u001b[0m\u001b[0;34m\u001b[0m\u001b[0;34m\u001b[0m\u001b[0;34m\u001b[0m\u001b[0m\n\u001b[1;32m    140\u001b[0m             if monomial_mul(mh, mg) == LCMhg or (\n\u001b[0;32m--> 141\u001b[0;31m                 \u001b[0;32mnot\u001b[0m \u001b[0many\u001b[0m\u001b[0;34m(\u001b[0m\u001b[0mlcm_divides\u001b[0m\u001b[0;34m(\u001b[0m\u001b[0mipx\u001b[0m\u001b[0;34m)\u001b[0m \u001b[0;32mfor\u001b[0m \u001b[0mipx\u001b[0m \u001b[0;32min\u001b[0m \u001b[0mC\u001b[0m\u001b[0;34m)\u001b[0m \u001b[0;32mand\u001b[0m\u001b[0;34m\u001b[0m\u001b[0;34m\u001b[0m\u001b[0m\n\u001b[0m\u001b[1;32m    142\u001b[0m                     not any(lcm_divides(pr[1]) for pr in D)):\n\u001b[1;32m    143\u001b[0m                 \u001b[0mD\u001b[0m\u001b[0;34m.\u001b[0m\u001b[0madd\u001b[0m\u001b[0;34m(\u001b[0m\u001b[0;34m(\u001b[0m\u001b[0mih\u001b[0m\u001b[0;34m,\u001b[0m \u001b[0mig\u001b[0m\u001b[0;34m)\u001b[0m\u001b[0;34m)\u001b[0m\u001b[0;34m\u001b[0m\u001b[0;34m\u001b[0m\u001b[0m\n",
      "\u001b[0;32m/usr/local/lib/python3.8/dist-packages/sympy/polys/groebnertools.py\u001b[0m in \u001b[0;36m<genexpr>\u001b[0;34m(.0)\u001b[0m\n\u001b[1;32m    139\u001b[0m             \u001b[0;31m# HT(h) and HT(g) disjoint: mh*mg == LCMhg\u001b[0m\u001b[0;34m\u001b[0m\u001b[0;34m\u001b[0m\u001b[0;34m\u001b[0m\u001b[0m\n\u001b[1;32m    140\u001b[0m             if monomial_mul(mh, mg) == LCMhg or (\n\u001b[0;32m--> 141\u001b[0;31m                 \u001b[0;32mnot\u001b[0m \u001b[0many\u001b[0m\u001b[0;34m(\u001b[0m\u001b[0mlcm_divides\u001b[0m\u001b[0;34m(\u001b[0m\u001b[0mipx\u001b[0m\u001b[0;34m)\u001b[0m \u001b[0;32mfor\u001b[0m \u001b[0mipx\u001b[0m \u001b[0;32min\u001b[0m \u001b[0mC\u001b[0m\u001b[0;34m)\u001b[0m \u001b[0;32mand\u001b[0m\u001b[0;34m\u001b[0m\u001b[0;34m\u001b[0m\u001b[0m\n\u001b[0m\u001b[1;32m    142\u001b[0m                     not any(lcm_divides(pr[1]) for pr in D)):\n\u001b[1;32m    143\u001b[0m                 \u001b[0mD\u001b[0m\u001b[0;34m.\u001b[0m\u001b[0madd\u001b[0m\u001b[0;34m(\u001b[0m\u001b[0;34m(\u001b[0m\u001b[0mih\u001b[0m\u001b[0;34m,\u001b[0m \u001b[0mig\u001b[0m\u001b[0;34m)\u001b[0m\u001b[0;34m)\u001b[0m\u001b[0;34m\u001b[0m\u001b[0;34m\u001b[0m\u001b[0m\n",
      "\u001b[0;32m/usr/local/lib/python3.8/dist-packages/sympy/polys/groebnertools.py\u001b[0m in \u001b[0;36mlcm_divides\u001b[0;34m(ip)\u001b[0m\n\u001b[1;32m    134\u001b[0m             \u001b[0;32mdef\u001b[0m \u001b[0mlcm_divides\u001b[0m\u001b[0;34m(\u001b[0m\u001b[0mip\u001b[0m\u001b[0;34m)\u001b[0m\u001b[0;34m:\u001b[0m\u001b[0;34m\u001b[0m\u001b[0;34m\u001b[0m\u001b[0m\n\u001b[1;32m    135\u001b[0m                 \u001b[0;31m# LCM(LM(h), LM(p)) divides LCM(LM(h), LM(g))\u001b[0m\u001b[0;34m\u001b[0m\u001b[0;34m\u001b[0m\u001b[0;34m\u001b[0m\u001b[0m\n\u001b[0;32m--> 136\u001b[0;31m                 \u001b[0mm\u001b[0m \u001b[0;34m=\u001b[0m \u001b[0mmonomial_lcm\u001b[0m\u001b[0;34m(\u001b[0m\u001b[0mmh\u001b[0m\u001b[0;34m,\u001b[0m \u001b[0mf\u001b[0m\u001b[0;34m[\u001b[0m\u001b[0mip\u001b[0m\u001b[0;34m]\u001b[0m\u001b[0;34m.\u001b[0m\u001b[0mLM\u001b[0m\u001b[0;34m)\u001b[0m\u001b[0;34m\u001b[0m\u001b[0;34m\u001b[0m\u001b[0m\n\u001b[0m\u001b[1;32m    137\u001b[0m                 \u001b[0;32mreturn\u001b[0m \u001b[0mmonomial_div\u001b[0m\u001b[0;34m(\u001b[0m\u001b[0mLCMhg\u001b[0m\u001b[0;34m,\u001b[0m \u001b[0mm\u001b[0m\u001b[0;34m)\u001b[0m\u001b[0;34m\u001b[0m\u001b[0;34m\u001b[0m\u001b[0m\n\u001b[1;32m    138\u001b[0m \u001b[0;34m\u001b[0m\u001b[0m\n",
      "\u001b[0;32m/usr/local/lib/python3.8/dist-packages/sympy/polys/rings.py\u001b[0m in \u001b[0;36mLM\u001b[0;34m(self)\u001b[0m\n\u001b[1;32m   1729\u001b[0m     \u001b[0;34m@\u001b[0m\u001b[0mproperty\u001b[0m\u001b[0;34m\u001b[0m\u001b[0;34m\u001b[0m\u001b[0m\n\u001b[1;32m   1730\u001b[0m     \u001b[0;32mdef\u001b[0m \u001b[0mLM\u001b[0m\u001b[0;34m(\u001b[0m\u001b[0mself\u001b[0m\u001b[0;34m)\u001b[0m\u001b[0;34m:\u001b[0m\u001b[0;34m\u001b[0m\u001b[0;34m\u001b[0m\u001b[0m\n\u001b[0;32m-> 1731\u001b[0;31m         \u001b[0mexpv\u001b[0m \u001b[0;34m=\u001b[0m \u001b[0mself\u001b[0m\u001b[0;34m.\u001b[0m\u001b[0mleading_expv\u001b[0m\u001b[0;34m(\u001b[0m\u001b[0;34m)\u001b[0m\u001b[0;34m\u001b[0m\u001b[0;34m\u001b[0m\u001b[0m\n\u001b[0m\u001b[1;32m   1732\u001b[0m         \u001b[0;32mif\u001b[0m \u001b[0mexpv\u001b[0m \u001b[0;32mis\u001b[0m \u001b[0;32mNone\u001b[0m\u001b[0;34m:\u001b[0m\u001b[0;34m\u001b[0m\u001b[0;34m\u001b[0m\u001b[0m\n\u001b[1;32m   1733\u001b[0m             \u001b[0;32mreturn\u001b[0m \u001b[0mself\u001b[0m\u001b[0;34m.\u001b[0m\u001b[0mring\u001b[0m\u001b[0;34m.\u001b[0m\u001b[0mzero_monom\u001b[0m\u001b[0;34m\u001b[0m\u001b[0;34m\u001b[0m\u001b[0m\n",
      "\u001b[0;32m/usr/local/lib/python3.8/dist-packages/sympy/polys/rings.py\u001b[0m in \u001b[0;36mleading_expv\u001b[0;34m(self)\u001b[0m\n\u001b[1;32m   1675\u001b[0m         \"\"\"\n\u001b[1;32m   1676\u001b[0m         \u001b[0;32mif\u001b[0m \u001b[0mself\u001b[0m\u001b[0;34m:\u001b[0m\u001b[0;34m\u001b[0m\u001b[0;34m\u001b[0m\u001b[0m\n\u001b[0;32m-> 1677\u001b[0;31m             \u001b[0;32mreturn\u001b[0m \u001b[0mself\u001b[0m\u001b[0;34m.\u001b[0m\u001b[0mring\u001b[0m\u001b[0;34m.\u001b[0m\u001b[0mleading_expv\u001b[0m\u001b[0;34m(\u001b[0m\u001b[0mself\u001b[0m\u001b[0;34m)\u001b[0m\u001b[0;34m\u001b[0m\u001b[0;34m\u001b[0m\u001b[0m\n\u001b[0m\u001b[1;32m   1678\u001b[0m         \u001b[0;32melse\u001b[0m\u001b[0;34m:\u001b[0m\u001b[0;34m\u001b[0m\u001b[0;34m\u001b[0m\u001b[0m\n\u001b[1;32m   1679\u001b[0m             \u001b[0;32mreturn\u001b[0m \u001b[0;32mNone\u001b[0m\u001b[0;34m\u001b[0m\u001b[0;34m\u001b[0m\u001b[0m\n",
      "\u001b[0;31mKeyboardInterrupt\u001b[0m: "
     ]
    }
   ],
   "source": [
    "gb1=computationIS([3],[7],vc11,vc12,vc13,debug=True)"
   ]
  },
  {
   "cell_type": "code",
   "execution_count": 120,
   "id": "718cea24",
   "metadata": {
    "ExecuteTime": {
     "end_time": "2021-05-03T08:05:37.118455Z",
     "start_time": "2021-05-03T08:05:37.070341Z"
    }
   },
   "outputs": [
    {
     "data": {
      "text/latex": [
       "$\\displaystyle \\left( x_{1}^{7} - x_{2}^{3}, \\  x_{1}^{6} z_{1}^{3} - x_{2}^{3} z_{2} z_{3}, \\  x_{1}^{5} z_{1}^{6} - x_{2}^{3} z_{2}^{2} z_{3}^{2}, \\  x_{1}^{4} z_{2}^{5} - z_{1}^{2} z_{3}^{2}, \\  x_{1}^{4} z_{3}^{3} - x_{2}^{3} z_{1} z_{2}^{4}, \\  x_{1}^{3} z_{1}^{2} z_{3}^{2} - x_{2}^{3} z_{2}^{5}, \\  x_{1}^{3} z_{1} z_{2}^{4} - z_{3}^{3}, \\  x_{1}^{2} z_{1}^{5} z_{3} - x_{2}^{3} z_{2}^{6}, \\  x_{1}^{2} z_{1}^{4} z_{2}^{3} - z_{3}^{4}, \\  x_{1} z_{1}^{8} - x_{2}^{3} z_{2}^{7}, \\  x_{1} z_{1}^{7} z_{2}^{2} - z_{3}^{5}, \\  x_{1} z_{2} z_{3} - z_{1}^{3}, \\  x_{1} z_{3}^{6} - x_{2}^{3} z_{1}^{2} z_{2}^{8}, \\  x_{2}^{3} z_{2}^{9} - z_{1} z_{3}^{5}, \\  x_{2}^{3} z_{2}^{8} z_{3} - z_{1}^{11}, \\  x_{2}^{3} z_{2}^{7} z_{3}^{7} - z_{1}^{21}, \\  x_{2}^{3} z_{2}^{6} z_{3}^{13} - z_{1}^{31}, \\  x_{2}^{3} z_{2}^{5} z_{3}^{19} - z_{1}^{41}, \\  x_{2}^{3} z_{2}^{4} z_{3}^{25} - z_{1}^{51}, \\  x_{2}^{3} z_{2}^{3} z_{3}^{31} - z_{1}^{61}, \\  x_{2}^{3} z_{2}^{2} z_{3}^{37} - z_{1}^{71}, \\  x_{2}^{3} z_{2} z_{3}^{43} - z_{1}^{81}, \\  x_{2}^{3} z_{3}^{49} - z_{1}^{91}, \\  z_{1}^{10} z_{2} - z_{3}^{6}\\right)$"
      ],
      "text/plain": [
       "⎛  7     3    6   3     3          5   6     3   2   2    4   5     2   2    4\n",
       "⎝x₁  - x₂ , x₁ ⋅z₁  - x₂ ⋅z₂⋅z₃, x₁ ⋅z₁  - x₂ ⋅z₂ ⋅z₃ , x₁ ⋅z₂  - z₁ ⋅z₃ , x₁ \n",
       "\n",
       "   3     3      4    3   2   2     3   5    3      4     3    2   5        3  \n",
       "⋅z₃  - x₂ ⋅z₁⋅z₂ , x₁ ⋅z₁ ⋅z₃  - x₂ ⋅z₂ , x₁ ⋅z₁⋅z₂  - z₃ , x₁ ⋅z₁ ⋅z₃ - x₂ ⋅z\n",
       "\n",
       " 6    2   4   3     4       8     3   7       7   2     5               3     \n",
       "₂ , x₁ ⋅z₁ ⋅z₂  - z₃ , x₁⋅z₁  - x₂ ⋅z₂ , x₁⋅z₁ ⋅z₂  - z₃ , x₁⋅z₂⋅z₃ - z₁ , x₁⋅\n",
       "\n",
       "  6     3   2   8    3   9        5    3   8        11    3   7   7     21    \n",
       "z₃  - x₂ ⋅z₁ ⋅z₂ , x₂ ⋅z₂  - z₁⋅z₃ , x₂ ⋅z₂ ⋅z₃ - z₁  , x₂ ⋅z₂ ⋅z₃  - z₁  , x₂\n",
       "\n",
       "3   6   13     31    3   5   19     41    3   4   25     51    3   3   31     \n",
       " ⋅z₂ ⋅z₃   - z₁  , x₂ ⋅z₂ ⋅z₃   - z₁  , x₂ ⋅z₂ ⋅z₃   - z₁  , x₂ ⋅z₂ ⋅z₃   - z₁\n",
       "\n",
       "61    3   2   37     71    3      43     81    3   49     91    10        6⎞\n",
       "  , x₂ ⋅z₂ ⋅z₃   - z₁  , x₂ ⋅z₂⋅z₃   - z₁  , x₂ ⋅z₃   - z₁  , z₁  ⋅z₂ - z₃ ⎠"
      ]
     },
     "metadata": {},
     "output_type": "display_data"
    },
    {
     "data": {
      "text/latex": [
       "$\\displaystyle \\left( x_{1}, \\  x_{2}, \\  z_{1}, \\  z_{2}, \\  z_{3}\\right)$"
      ],
      "text/plain": [
       "(x₁, x₂, z₁, z₂, z₃)"
      ]
     },
     "metadata": {},
     "output_type": "display_data"
    }
   ],
   "source": [
    "display(gb1.args[0])\n",
    "display(gb1.args[1])"
   ]
  },
  {
   "cell_type": "code",
   "execution_count": 75,
   "id": "99b05505",
   "metadata": {
    "ExecuteTime": {
     "end_time": "2021-04-30T09:58:18.520664Z",
     "start_time": "2021-04-30T09:58:16.334105Z"
    }
   },
   "outputs": [
    {
     "name": "stdout",
     "output_type": "stream",
     "text": [
      "Cono positivo M: []\n",
      "Equations of M\n",
      "[[39, 91, 3, -30, 0], [84, 196, 7, -64, 1]]\n",
      "Elasticity: 23/8\n",
      "[[10, 0, 0, 13, 0, 0, 0, 0, 0, 8]]\n"
     ]
    }
   ],
   "source": [
    "elasticidad1,Rs1=elasticity(gb1,verbose=True)\n",
    "print(\"Elasticity:\",elasticidad1)\n",
    "print(Rs1)"
   ]
  },
  {
   "cell_type": "code",
   "execution_count": 76,
   "id": "097d3f9d",
   "metadata": {
    "ExecuteTime": {
     "end_time": "2021-04-30T09:58:25.713902Z",
     "start_time": "2021-04-30T09:58:23.519548Z"
    }
   },
   "outputs": [
    {
     "name": "stdout",
     "output_type": "stream",
     "text": [
      "(x1, x2, z1, z2, z3) \n",
      "\n",
      "tt1 [1, 0, 0, 1, 0, 0, 0, 0, 0, 1]\n",
      "[1, 0, 0, 1, 0] [0, 0, 0, 0, 1]\n",
      "Good positions [0, 3, 4]\n",
      "supportA supportB [1, 1, 0] [0, 0, 1]\n",
      "[1, 0, 0, 1, 1]\n",
      "lVaux2 [x1, z2, z3]\n",
      "GroebnerBasis([-x1**7 + x2**3, -x1*z2*z3 + z1**3, -x1**4*z2**5 + z1**2*z3**2, x1**3*z1*z2**4 - z3**3, -x1**7*z2**9 + z1*z3**5, x1**10*z2**13 - z3**8], x2, z1, x1, z2, z3, domain='ZZ', order='lex')\n",
      "GroebnerBasis([x1**10*z2**13 - z3**8], x1, z2, z3, domain='ZZ', order='lex')\n",
      "[[[0, 0, 0]], [[0, 0, 1], [0, 1, 1], [1, 0, 1], [1, 1, 0], [1, 1, 1]], [[0, 1, 0]], [[1, 0, 0]]]\n",
      "equations [[0, -8, -13], [1, 30, 50]]\n",
      "base [[0, 0, 1, 0, 0, 1], [0, 0, 8, 10, 13, 0], [0, 1, 0, 0, 1, 0], [1, 0, 0, 1, 0, 0], [10, 13, 0, 0, 0, 8]]\n",
      "\n",
      "genInclAB [[10, 13, 0, 0, 0, 8]]\n",
      "S has acceptable elasticity\n"
     ]
    }
   ],
   "source": [
    "hasAcceptableElasticity(gb1,debug=True)"
   ]
  },
  {
   "cell_type": "markdown",
   "id": "7d5eeef9",
   "metadata": {
    "heading_collapsed": true
   },
   "source": [
    "### Example 2"
   ]
  },
  {
   "cell_type": "code",
   "execution_count": null,
   "id": "cb95f8aa",
   "metadata": {
    "ExecuteTime": {
     "start_time": "2021-05-01T10:35:18.674Z"
    },
    "hidden": true
   },
   "outputs": [],
   "source": [
    "vec21=( (3 |mult| [0,4]) |add| (2 |mult| [0,5]) ) |add| [8]\n",
    "vec22=((2 |mult| [0,4]) |add| [0,5])|add| [7]\n",
    "vec23=(3 |mult| [0,4]) |add| (3 |mult| [0,5])\n",
    "vec24=( (4 |mult| [0,4]) |add| (1 |mult| [0,5]) ) |add| [2]\n",
    "vec21,vec22,vec23,vec24"
   ]
  },
  {
   "cell_type": "code",
   "execution_count": null,
   "id": "73536e5b",
   "metadata": {
    "ExecuteTime": {
     "start_time": "2021-05-01T10:35:30.112Z"
    },
    "hidden": true
   },
   "outputs": [],
   "source": [
    "gb2=computationIS(vec21,vec22,vec23,vec24,\n",
    "                  debug=True)"
   ]
  },
  {
   "cell_type": "code",
   "execution_count": 119,
   "id": "57bd18d9",
   "metadata": {
    "ExecuteTime": {
     "end_time": "2021-05-03T08:05:24.572030Z",
     "start_time": "2021-05-03T08:05:24.546707Z"
    },
    "hidden": true
   },
   "outputs": [
    {
     "data": {
      "text/latex": [
       "$\\displaystyle \\left( z_{1}^{31} - z_{2}^{34} z_{3}^{5} z_{4}^{5}, \\  z_{1}^{18} z_{3} - z_{2}^{18} z_{4}^{9}, \\  z_{1}^{13} z_{4}^{4} - z_{2}^{16} z_{3}^{6}, \\  z_{1}^{8} z_{4}^{17} - z_{2}^{14} z_{3}^{13}, \\  z_{1}^{5} z_{3}^{7} - z_{2}^{2} z_{4}^{13}, \\  z_{1}^{3} z_{4}^{30} - z_{2}^{12} z_{3}^{20}, \\  z_{1}^{2} z_{2}^{10} z_{3}^{27} - z_{4}^{43}, \\  z_{1} z_{2}^{32} z_{3}^{74} - z_{4}^{116}, \\  z_{1} z_{4}^{73} - z_{2}^{22} z_{3}^{47}, \\  z_{2}^{54} z_{3}^{121} - z_{4}^{189}\\right)$"
      ],
      "text/plain": [
       "⎛  31     34   5   5    18        18   9    13   4     16   6    8   17     14\n",
       "⎝z₁   - z₂  ⋅z₃ ⋅z₄ , z₁  ⋅z₃ - z₂  ⋅z₄ , z₁  ⋅z₄  - z₂  ⋅z₃ , z₁ ⋅z₄   - z₂  \n",
       "\n",
       "   13    5   7     2   13    3   30     12   20    2   10   27     43       32\n",
       "⋅z₃  , z₁ ⋅z₃  - z₂ ⋅z₄  , z₁ ⋅z₄   - z₂  ⋅z₃  , z₁ ⋅z₂  ⋅z₃   - z₄  , z₁⋅z₂  \n",
       "\n",
       "   74     116       73     22   47    54   121     189⎞\n",
       "⋅z₃   - z₄   , z₁⋅z₄   - z₂  ⋅z₃  , z₂  ⋅z₃    - z₄   ⎠"
      ]
     },
     "metadata": {},
     "output_type": "display_data"
    },
    {
     "data": {
      "text/latex": [
       "$\\displaystyle \\left( z_{1}, \\  z_{2}, \\  z_{3}, \\  z_{4}\\right)$"
      ],
      "text/plain": [
       "(z₁, z₂, z₃, z₄)"
      ]
     },
     "metadata": {},
     "output_type": "display_data"
    }
   ],
   "source": [
    "display(gb2.args[0])\n",
    "display(gb2.args[1])"
   ]
  },
  {
   "cell_type": "code",
   "execution_count": 110,
   "id": "0ed6e255",
   "metadata": {
    "ExecuteTime": {
     "end_time": "2021-05-01T08:39:51.169685Z",
     "start_time": "2021-05-01T08:39:51.096222Z"
    },
    "hidden": true
   },
   "outputs": [
    {
     "name": "stdout",
     "output_type": "stream",
     "text": [
      "Cono positivo M: []\n",
      "Equations of M\n",
      "[[-50, 0, -189, -121], [-2356, 1, -8910, -5704]]\n",
      "\n",
      "174/121\n",
      "[[0, 124, 0, 50, 121, 0, 0, 0]]\n"
     ]
    }
   ],
   "source": [
    "elasticidad2,Rs2=elasticidad,Rs=elasticity(gb2,verbose=True)\n",
    "print()\n",
    "print(elasticidad2)\n",
    "print(Rs2)"
   ]
  },
  {
   "cell_type": "code",
   "execution_count": 81,
   "id": "086b808f",
   "metadata": {
    "ExecuteTime": {
     "end_time": "2021-04-30T23:22:31.616745Z",
     "start_time": "2021-04-30T23:22:31.514897Z"
    },
    "hidden": true
   },
   "outputs": [
    {
     "name": "stdout",
     "output_type": "stream",
     "text": [
      "(z1, z2, z3, z4) \n",
      "\n",
      "tt1 [0, 1, 0, 1, 1, 0, 0, 0]\n",
      "[0, 1, 0, 1] [1, 0, 0, 0]\n",
      "Good positions [0, 1, 3]\n",
      "supportA supportB [0, 1, 1] [1, 0, 0]\n",
      "[1, 1, 0, 1]\n",
      "lVaux2 [z1, z2, z4]\n",
      "GroebnerBasis([z1**2*z2**10*z3**27 - z4**43, -z1**3*z4**30 + z2**12*z3**20, -z1**8*z4**17 + z2**14*z3**13, z1**5*z3**7 - z2**2*z4**13, -z1**13*z4**4 + z2**16*z3**6, -z1**31 + z2**34*z3**5*z4**5, -z1**49 + z2**52*z3**4*z4**14, -z1**67 + z2**70*z3**3*z4**23, -z1**85 + z2**88*z3**2*z4**32, z1**18*z3 - z2**18*z4**9, -z1**103 + z2**106*z3*z4**41, z1**121 - z2**124*z4**50], z3, z1, z2, z4, domain='ZZ', order='lex')\n",
      "GroebnerBasis([z1**121 - z2**124*z4**50], z1, z2, z4, domain='ZZ', order='lex')\n",
      "[[[0, 0, 0]], [[0, 0, 1]], [[0, 1, 0]], [[0, 1, 1], [1, 0, 0], [1, 0, 1], [1, 1, 0], [1, 1, 1]]]\n",
      "equations [[0, 25, -62], [-2, 242, -605]]\n",
      "base [[0, 0, 1, 0, 0, 1], [0, 1, 0, 0, 1, 0], [0, 124, 50, 121, 0, 0], [1, 0, 0, 1, 0, 0], [121, 0, 0, 0, 124, 50]]\n",
      "\n",
      "genInclAB [[0, 124, 50, 121, 0, 0]]\n",
      "S has acceptable elasticity\n"
     ]
    }
   ],
   "source": [
    "hasAcceptableElasticity(gb2,debug=True)"
   ]
  },
  {
   "cell_type": "markdown",
   "id": "30f2cc7e",
   "metadata": {
    "heading_collapsed": true
   },
   "source": [
    "### Example 3"
   ]
  },
  {
   "cell_type": "markdown",
   "id": "64034c2a",
   "metadata": {
    "hidden": true
   },
   "source": [
    "The monoid considered is $\\langle \\{3\\},\\{4\\},\\{6,12\\},\\{7,10,13\\},\\{0,3,6,9\\} \\rangle$"
   ]
  },
  {
   "cell_type": "code",
   "execution_count": 113,
   "id": "6b52e0d4",
   "metadata": {
    "ExecuteTime": {
     "end_time": "2021-05-01T10:34:18.135963Z",
     "start_time": "2021-05-01T10:34:17.588278Z"
    },
    "hidden": true
   },
   "outputs": [],
   "source": [
    "gb3=computationIS([3],[4],[6,12],[7,10,13],[0,3,6,9])"
   ]
  },
  {
   "cell_type": "code",
   "execution_count": 107,
   "id": "f8cdc4a1",
   "metadata": {
    "ExecuteTime": {
     "end_time": "2021-05-01T08:37:25.511178Z",
     "start_time": "2021-05-01T08:37:25.453969Z"
    },
    "hidden": true
   },
   "outputs": [
    {
     "data": {
      "text/latex": [
       "$\\displaystyle \\left( x_{1}^{4} - x_{2}^{3}, \\  x_{1}^{3} x_{2}^{3} z_{3}^{2} - z_{2}^{3}, \\  x_{1}^{3} z_{1} z_{2} - x_{2}^{2} z_{2}^{2}, \\  x_{1}^{3} z_{1} z_{3} - x_{2}^{2} z_{2} z_{3}, \\  x_{1}^{2} x_{2}^{3} z_{3}^{3} - z_{1}^{3} z_{3}, \\  x_{1}^{2} z_{1}^{2} z_{2} - x_{2} z_{2}^{3}, \\  x_{1}^{2} z_{1}^{2} z_{3} - x_{2} z_{2}^{2} z_{3}, \\  x_{1} x_{2}^{4} z_{3}^{2} - z_{1}^{2} z_{2}, \\  x_{1} z_{1}^{3} z_{2} - z_{2}^{4}, \\  x_{1} z_{1}^{3} z_{3} - z_{2}^{3} z_{3}, \\  x_{1} z_{2}^{2} - x_{2} z_{1} z_{2}, \\  x_{1} z_{2} z_{3} - x_{2} z_{1} z_{3}, \\  x_{2}^{5} z_{3}^{2} - z_{1} z_{2}^{2}, \\  x_{2}^{4} z_{2}^{3} z_{3}^{2} - z_{1}^{5} z_{2}, \\  x_{2}^{4} z_{2}^{2} z_{3}^{3} - z_{1}^{5} z_{3}, \\  x_{2}^{3} z_{2}^{7} z_{3}^{2} - z_{1}^{9} z_{2}, \\  x_{2}^{3} z_{2}^{6} z_{3}^{3} - z_{1}^{9} z_{3}, \\  x_{2}^{2} z_{2}^{11} z_{3}^{2} - z_{1}^{13} z_{2}, \\  x_{2}^{2} z_{2}^{10} z_{3}^{3} - z_{1}^{13} z_{3}, \\  x_{2} z_{1}^{4} z_{2} - z_{2}^{5}, \\  x_{2} z_{1}^{4} z_{3} - z_{2}^{4} z_{3}, \\  x_{2} z_{2}^{15} z_{3}^{2} - z_{1}^{17} z_{2}, \\  x_{2} z_{2}^{14} z_{3}^{3} - z_{1}^{17} z_{3}, \\  z_{1}^{21} z_{2} - z_{2}^{19} z_{3}^{2}, \\  z_{1}^{21} z_{3} - z_{2}^{18} z_{3}^{3}\\right)$"
      ],
      "text/plain": [
       "⎛  4     3    3   3   2     3    3           2   2    3           2          2\n",
       "⎝x₁  - x₂ , x₁ ⋅x₂ ⋅z₃  - z₂ , x₁ ⋅z₁⋅z₂ - x₂ ⋅z₂ , x₁ ⋅z₁⋅z₃ - x₂ ⋅z₂⋅z₃, x₁ \n",
       "\n",
       "   3   3     3       2   2           3    2   2           2          4   2    \n",
       "⋅x₂ ⋅z₃  - z₁ ⋅z₃, x₁ ⋅z₁ ⋅z₂ - x₂⋅z₂ , x₁ ⋅z₁ ⋅z₃ - x₂⋅z₂ ⋅z₃, x₁⋅x₂ ⋅z₃  - z\n",
       "\n",
       " 2          3        4       3        3          2                            \n",
       "₁ ⋅z₂, x₁⋅z₁ ⋅z₂ - z₂ , x₁⋅z₁ ⋅z₃ - z₂ ⋅z₃, x₁⋅z₂  - x₂⋅z₁⋅z₂, x₁⋅z₂⋅z₃ - x₂⋅z\n",
       "\n",
       "        5   2        2    4   3   2     5       4   2   3     5       3   7   \n",
       "₁⋅z₃, x₂ ⋅z₃  - z₁⋅z₂ , x₂ ⋅z₂ ⋅z₃  - z₁ ⋅z₂, x₂ ⋅z₂ ⋅z₃  - z₁ ⋅z₃, x₂ ⋅z₂ ⋅z₃\n",
       "\n",
       "2     9       3   6   3     9       2   11   2     13       2   10   3     13 \n",
       "  - z₁ ⋅z₂, x₂ ⋅z₂ ⋅z₃  - z₁ ⋅z₃, x₂ ⋅z₂  ⋅z₃  - z₁  ⋅z₂, x₂ ⋅z₂  ⋅z₃  - z₁  ⋅\n",
       "\n",
       "         4        5       4        4          15   2     17          14   3   \n",
       "z₃, x₂⋅z₁ ⋅z₂ - z₂ , x₂⋅z₁ ⋅z₃ - z₂ ⋅z₃, x₂⋅z₂  ⋅z₃  - z₁  ⋅z₂, x₂⋅z₂  ⋅z₃  - \n",
       "\n",
       "  17       21        19   2    21        18   3⎞\n",
       "z₁  ⋅z₃, z₁  ⋅z₂ - z₂  ⋅z₃ , z₁  ⋅z₃ - z₂  ⋅z₃ ⎠"
      ]
     },
     "metadata": {},
     "output_type": "display_data"
    },
    {
     "data": {
      "text/latex": [
       "$\\displaystyle \\left( x_{1}, \\  x_{2}, \\  z_{1}, \\  z_{2}, \\  z_{3}\\right)$"
      ],
      "text/plain": [
       "(x₁, x₂, z₁, z₂, z₃)"
      ]
     },
     "metadata": {},
     "output_type": "display_data"
    }
   ],
   "source": [
    "display(gb3.args[0])\n",
    "display(gb3.args[1])"
   ]
  },
  {
   "cell_type": "code",
   "execution_count": 85,
   "id": "09c446e2",
   "metadata": {
    "ExecuteTime": {
     "end_time": "2021-04-30T23:23:14.397843Z",
     "start_time": "2021-04-30T23:23:11.907092Z"
    },
    "hidden": true
   },
   "outputs": [
    {
     "data": {
      "text/plain": [
       "(Fraction(3, 1), [[7, 0, 0, 0, 2, 0, 0, 0, 3, 0]])"
      ]
     },
     "execution_count": 85,
     "metadata": {},
     "output_type": "execute_result"
    }
   ],
   "source": [
    "rho3,lTElasticity3=elasticity(gb3)\n",
    "rho3,lTElasticity3"
   ]
  },
  {
   "cell_type": "code",
   "execution_count": 86,
   "id": "71552235",
   "metadata": {
    "ExecuteTime": {
     "end_time": "2021-04-30T23:23:17.232167Z",
     "start_time": "2021-04-30T23:23:14.690641Z"
    },
    "hidden": true
   },
   "outputs": [
    {
     "name": "stdout",
     "output_type": "stream",
     "text": [
      "(x1, x2, z1, z2, z3) \n",
      "\n",
      "tt1 [1, 0, 0, 0, 1, 0, 0, 0, 1, 0]\n",
      "[1, 0, 0, 0, 1] [0, 0, 0, 1, 0]\n",
      "Good positions [0, 3, 4]\n",
      "supportA supportB [1, 0, 1] [0, 1, 0]\n",
      "[1, 0, 0, 1, 1]\n",
      "lVaux2 [x1, z2, z3]\n",
      "GroebnerBasis([-x1**4 + x2**3, x1**4*x2**2*z3**2 - z1*z2**2, -x1**3*z1*z2 + x2**2*z2**2, -x1**3*z1*z3 + x2**2*z2*z3, -x1*z2**2 + x2*z1*z2, -x1*z2*z3 + x2*z1*z3, x1**5*x2*z3**2 - z1**2*z2, -x1**2*z1**2*z2 + x2*z2**3, -x1**2*z1**2*z3 + x2*z2**2*z3, -x1**6*z2*z3**2 + z1**3*z2, -x1**6*z3**3 + z1**3*z3, x1**7*z3**2 - z2**3], x2, z1, x1, z2, z3, domain='ZZ', order='lex')\n",
      "GroebnerBasis([x1**7*z3**2 - z2**3], x1, z2, z3, domain='ZZ', order='lex')\n",
      "[[[0, 0, 0]], [[0, 0, 1]], [[0, 1, 0], [0, 1, 1], [1, 0, 1], [1, 1, 0], [1, 1, 1]], [[1, 0, 0]]]\n",
      "equations [[0, -2, -3], [1, -7, -14]]\n",
      "base [[0, 0, 1, 0, 0, 1], [0, 1, 0, 0, 1, 0], [0, 3, 0, 7, 0, 2], [1, 0, 0, 1, 0, 0], [7, 0, 2, 0, 3, 0]]\n",
      "\n",
      "genInclAB [[7, 0, 2, 0, 3, 0]]\n",
      "S has acceptable elasticity\n"
     ]
    }
   ],
   "source": [
    "hasAcceptableElasticity(gb3,debug=True)"
   ]
  },
  {
   "cell_type": "markdown",
   "id": "5fe12f5e",
   "metadata": {},
   "source": [
    "### Example 4"
   ]
  },
  {
   "cell_type": "markdown",
   "id": "a34520ee",
   "metadata": {},
   "source": [
    "In this example the monoid is $\\langle \\{3\\},\\{4\\},\\{6,12\\},\\{7,10,13\\} \\rangle$"
   ]
  },
  {
   "cell_type": "code",
   "execution_count": 169,
   "id": "f7a95837",
   "metadata": {
    "ExecuteTime": {
     "end_time": "2021-05-27T11:07:37.092918Z",
     "start_time": "2021-05-27T11:07:36.886818Z"
    }
   },
   "outputs": [
    {
     "data": {
      "text/latex": [
       "$\\displaystyle \\left( x_{1}^{4} - x_{2}^{3}, \\  x_{1}^{3} z_{1} z_{2} - x_{2}^{2} z_{2}^{2}, \\  x_{1}^{2} z_{1}^{2} z_{2} - x_{2} z_{2}^{3}, \\  x_{1} z_{1}^{3} z_{2} - z_{2}^{4}, \\  x_{1} z_{2}^{2} - x_{2} z_{1} z_{2}, \\  x_{2} z_{1}^{4} z_{2} - z_{2}^{5}\\right)$"
      ],
      "text/plain": [
       "⎛  4     3    3           2   2    2   2           3       3        4       2 \n",
       "⎝x₁  - x₂ , x₁ ⋅z₁⋅z₂ - x₂ ⋅z₂ , x₁ ⋅z₁ ⋅z₂ - x₂⋅z₂ , x₁⋅z₁ ⋅z₂ - z₂ , x₁⋅z₂  \n",
       "\n",
       "                 4        5⎞\n",
       "- x₂⋅z₁⋅z₂, x₂⋅z₁ ⋅z₂ - z₂ ⎠"
      ]
     },
     "metadata": {},
     "output_type": "display_data"
    },
    {
     "data": {
      "text/latex": [
       "$\\displaystyle \\left( x_{1}, \\  x_{2}, \\  z_{1}, \\  z_{2}\\right)$"
      ],
      "text/plain": [
       "(x₁, x₂, z₁, z₂)"
      ]
     },
     "metadata": {},
     "output_type": "display_data"
    }
   ],
   "source": [
    "gb4=computationIS([3],[4],[6,12],[7,10,13])\n",
    "display(gb4.args[0])\n",
    "display(gb4.args[1])"
   ]
  },
  {
   "cell_type": "code",
   "execution_count": 170,
   "id": "365e0f84",
   "metadata": {
    "ExecuteTime": {
     "end_time": "2021-05-27T11:07:39.844851Z",
     "start_time": "2021-05-27T11:07:39.818275Z"
    }
   },
   "outputs": [
    {
     "name": "stdout",
     "output_type": "stream",
     "text": [
      "4/3\n",
      "[[1, 0, 3, 0, 0, 0, 0, 3], [2, 0, 2, 0, 0, 1, 0, 2], [3, 0, 1, 0, 0, 2, 0, 1], [4, 0, 0, 0, 0, 3, 0, 0]]\n"
     ]
    }
   ],
   "source": [
    "rho4,lTElasticity4=elasticity(gb4)\n",
    "print(rho4)\n",
    "print(lTElasticity4)"
   ]
  },
  {
   "cell_type": "code",
   "execution_count": 171,
   "id": "0c378bf4",
   "metadata": {
    "ExecuteTime": {
     "end_time": "2021-05-27T11:07:41.826390Z",
     "start_time": "2021-05-27T11:07:41.819355Z"
    }
   },
   "outputs": [
    {
     "name": "stdout",
     "output_type": "stream",
     "text": [
      "[[0, 0, 0, 0]]\n",
      "[[0, 0, 0, 1], [0, 0, 1, 1], [0, 1, 0, 1], [0, 1, 1, 1], [1, 0, 0, 1], [1, 0, 1, 1], [1, 1, 0, 1], [1, 1, 1, 1]]\n",
      "[[0, 0, 1, 0]]\n",
      "[[0, 1, 0, 0], [1, 0, 0, 0], [1, 1, 0, 0]]\n",
      "[[0, 1, 1, 0], [1, 0, 1, 0], [1, 1, 1, 0]]\n"
     ]
    }
   ],
   "source": [
    "AC=ArchimedeanComponents(gb4)\n",
    "for i,component in enumerate(AC):\n",
    "    print(component)"
   ]
  },
  {
   "cell_type": "code",
   "execution_count": 172,
   "id": "f34645ac",
   "metadata": {
    "ExecuteTime": {
     "end_time": "2021-05-27T11:08:11.594884Z",
     "start_time": "2021-05-27T11:08:11.558057Z"
    }
   },
   "outputs": [
    {
     "name": "stdout",
     "output_type": "stream",
     "text": [
      "(x1, x2, z1, z2) \n",
      "\n",
      "tt1 [1, 0, 0, 0, 0, 1, 0, 0]\n",
      "[1, 0, 0, 0] [0, 1, 0, 0]\n",
      "Good positions [0, 1]\n",
      "supportA supportB [1, 0] [0, 1]\n",
      "[1, 1, 0, 0]\n",
      "lVaux2 [x1, x2]\n",
      "GroebnerBasis([x1*z1**3*z2 - z2**4, x1**2*z1**2*z2 - x2*z2**3, x1**3*z1*z2 - x2**2*z2**2, -x1*z2**2 + x2*z1*z2, x1**4 - x2**3], z1, z2, x1, x2, domain='ZZ', order='lex')\n",
      "GroebnerBasis([x1**4 - x2**3], x1, x2, domain='ZZ', order='lex')\n",
      "[[[0, 0]], [[0, 1], [1, 0], [1, 1]]]\n",
      "equations [[3, 4]]\n",
      "base [[0, 1, 0, 1], [0, 3, 4, 0], [1, 0, 1, 0], [4, 0, 0, 3]]\n",
      "\n",
      "genInclAB [[4, 0, 0, 3]]\n",
      "S has acceptable elasticity\n"
     ]
    }
   ],
   "source": [
    "hasAcceptableElasticity(gb4,debug=True)"
   ]
  },
  {
   "cell_type": "markdown",
   "id": "3b0ac34b",
   "metadata": {},
   "source": [
    "### Example 5"
   ]
  },
  {
   "cell_type": "code",
   "execution_count": 211,
   "id": "154c1773",
   "metadata": {
    "ExecuteTime": {
     "end_time": "2021-05-27T11:35:23.943335Z",
     "start_time": "2021-05-27T11:35:23.916929Z"
    }
   },
   "outputs": [
    {
     "data": {
      "text/latex": [
       "$\\displaystyle \\left( z_{1}^{7} z_{2}^{2} - z_{1}^{3} z_{2}^{5}, \\  z_{1}^{5} z_{3} - z_{1} z_{2}^{3} z_{3}, \\  z_{1}^{4} z_{3}^{2} - z_{2}^{3} z_{3}^{2}\\right)$"
      ],
      "text/plain": [
       "⎛  7   2     3   5    5           3       4   2     3   2⎞\n",
       "⎝z₁ ⋅z₂  - z₁ ⋅z₂ , z₁ ⋅z₃ - z₁⋅z₂ ⋅z₃, z₁ ⋅z₃  - z₂ ⋅z₃ ⎠"
      ]
     },
     "metadata": {},
     "output_type": "display_data"
    },
    {
     "data": {
      "text/latex": [
       "$\\displaystyle \\left( z_{1}, \\  z_{2}, \\  z_{3}\\right)$"
      ],
      "text/plain": [
       "(z₁, z₂, z₃)"
      ]
     },
     "metadata": {},
     "output_type": "display_data"
    },
    {
     "data": {
      "text/latex": [
       "$\\displaystyle \\left[ 7, \\  10, \\  11, \\  13, \\  14, \\  15, \\  17, \\  18, \\  19, \\  21, \\  22, \\  25\\right]$"
      ],
      "text/plain": [
       "[7, 10, 11, 13, 14, 15, 17, 18, 19, 21, 22, 25]"
      ]
     },
     "execution_count": 211,
     "metadata": {},
     "output_type": "execute_result"
    }
   ],
   "source": [
    "v1= (2 |mult| [0,3]) |add| (3 |mult| [0,4]) |add| [7]\n",
    "gb5=computationIS([0,3],[0,4],v1)\n",
    "display(gb5.args[0])\n",
    "display(gb5.args[1])\n",
    "v1"
   ]
  },
  {
   "cell_type": "code",
   "execution_count": 212,
   "id": "07e22624",
   "metadata": {
    "ExecuteTime": {
     "end_time": "2021-05-27T11:35:24.432118Z",
     "start_time": "2021-05-27T11:35:24.421951Z"
    }
   },
   "outputs": [
    {
     "name": "stdout",
     "output_type": "stream",
     "text": [
      "4/3\n",
      "[[4, 0, 0, 0, 3, 0]]\n"
     ]
    }
   ],
   "source": [
    "rho5,lTElasticity5=elasticity(gb5)\n",
    "print(rho5)\n",
    "print(lTElasticity5)"
   ]
  },
  {
   "cell_type": "code",
   "execution_count": 213,
   "id": "14ad98d2",
   "metadata": {
    "ExecuteTime": {
     "end_time": "2021-05-27T11:35:25.056608Z",
     "start_time": "2021-05-27T11:35:25.050697Z"
    }
   },
   "outputs": [
    {
     "name": "stdout",
     "output_type": "stream",
     "text": [
      "[[0, 0, 0]]\n",
      "[[0, 0, 1]]\n",
      "[[0, 1, 0]]\n",
      "[[0, 1, 1], [1, 0, 1], [1, 1, 1]]\n",
      "[[1, 0, 0]]\n",
      "[[1, 1, 0]]\n"
     ]
    }
   ],
   "source": [
    "AC=ArchimedeanComponents(gb5)\n",
    "for i,component in enumerate(AC):\n",
    "    print(component)"
   ]
  },
  {
   "cell_type": "code",
   "execution_count": 214,
   "id": "8ddfb8f5",
   "metadata": {
    "ExecuteTime": {
     "end_time": "2021-05-27T11:35:25.575016Z",
     "start_time": "2021-05-27T11:35:25.539178Z"
    }
   },
   "outputs": [
    {
     "name": "stdout",
     "output_type": "stream",
     "text": [
      "S has not acceptable elasticity\n"
     ]
    }
   ],
   "source": [
    "hasAcceptableElasticity(gb5,debug=True)"
   ]
  },
  {
   "cell_type": "markdown",
   "id": "8374910d",
   "metadata": {},
   "source": [
    "----"
   ]
  },
  {
   "cell_type": "code",
   "execution_count": 123,
   "id": "12164ea0",
   "metadata": {
    "ExecuteTime": {
     "end_time": "2021-05-03T08:08:09.801117Z",
     "start_time": "2021-05-03T08:08:09.794736Z"
    }
   },
   "outputs": [],
   "source": [
    "gbG=groebner([x1*x2-x1**7],x2,x1)"
   ]
  },
  {
   "cell_type": "code",
   "execution_count": 124,
   "id": "0d166aba",
   "metadata": {
    "ExecuteTime": {
     "end_time": "2021-05-03T08:08:12.828147Z",
     "start_time": "2021-05-03T08:08:12.819914Z"
    }
   },
   "outputs": [
    {
     "data": {
      "text/latex": [
       "$\\displaystyle GroebnerBasis\\left(\\left( - x_{1}^{7} + x_{1} x_{2},\\right), \\left( x_{2}, \\  x_{1}\\right)\\right)$"
      ],
      "text/plain": [
       "             ⎛⎡    7        ⎤                             ⎞\n",
       "GroebnerBasis⎝⎣- x₁  + x₁⋅x₂⎦, x₂, x₁, domain=ℤ, order=lex⎠"
      ]
     },
     "execution_count": 124,
     "metadata": {},
     "output_type": "execute_result"
    }
   ],
   "source": [
    "gbG"
   ]
  },
  {
   "cell_type": "code",
   "execution_count": 125,
   "id": "e188e5e3",
   "metadata": {
    "ExecuteTime": {
     "end_time": "2021-05-03T08:08:50.116163Z",
     "start_time": "2021-05-03T08:08:50.108094Z"
    }
   },
   "outputs": [
    {
     "name": "stdout",
     "output_type": "stream",
     "text": [
      "6\n",
      "[[0, 6, 1, 0]]\n"
     ]
    }
   ],
   "source": [
    "rhoG,lTElasticityG=elasticity(gbG)\n",
    "print(rhoG)\n",
    "print(lTElasticityG)"
   ]
  },
  {
   "cell_type": "code",
   "execution_count": 127,
   "id": "e080a980",
   "metadata": {
    "ExecuteTime": {
     "end_time": "2021-05-03T08:09:53.270398Z",
     "start_time": "2021-05-03T08:09:53.265028Z"
    }
   },
   "outputs": [
    {
     "data": {
      "text/latex": [
       "$\\displaystyle \\left[ \\left[ \\left[ 0, \\  0\\right]\\right], \\  \\left[ \\left[ 0, \\  1\\right], \\  \\left[ 1, \\  1\\right]\\right], \\  \\left[ \\left[ 1, \\  0\\right]\\right]\\right]$"
      ],
      "text/plain": [
       "[[[0, 0]], [[0, 1], [1, 1]], [[1, 0]]]"
      ]
     },
     "execution_count": 127,
     "metadata": {},
     "output_type": "execute_result"
    }
   ],
   "source": [
    "AC_G=ArchimedeanComponents(gbG)\n",
    "AC_G"
   ]
  },
  {
   "cell_type": "code",
   "execution_count": 128,
   "id": "c56e0914",
   "metadata": {
    "ExecuteTime": {
     "end_time": "2021-05-03T08:10:03.563350Z",
     "start_time": "2021-05-03T08:10:03.555663Z"
    }
   },
   "outputs": [
    {
     "name": "stdout",
     "output_type": "stream",
     "text": [
      "S has not acceptable elasticity\n"
     ]
    }
   ],
   "source": [
    "hasAcceptableElasticity(gbG,debug=True)"
   ]
  },
  {
   "cell_type": "markdown",
   "id": "812a2854",
   "metadata": {},
   "source": [
    "---"
   ]
  },
  {
   "cell_type": "code",
   "execution_count": null,
   "id": "3e5f1b0c",
   "metadata": {},
   "outputs": [],
   "source": []
  }
 ],
 "metadata": {
  "kernelspec": {
   "display_name": "Python 3",
   "language": "python",
   "name": "python3"
  },
  "language_info": {
   "codemirror_mode": {
    "name": "ipython",
    "version": 3
   },
   "file_extension": ".py",
   "mimetype": "text/x-python",
   "name": "python",
   "nbconvert_exporter": "python",
   "pygments_lexer": "ipython3",
   "version": "3.8.5"
  },
  "latex_envs": {
   "LaTeX_envs_menu_present": true,
   "autoclose": false,
   "autocomplete": true,
   "bibliofile": "biblio.bib",
   "cite_by": "apalike",
   "current_citInitial": 1,
   "eqLabelWithNumbers": true,
   "eqNumInitial": 1,
   "hotkeys": {
    "equation": "Ctrl-E",
    "itemize": "Ctrl-I"
   },
   "labels_anchors": false,
   "latex_user_defs": false,
   "report_style_numbering": false,
   "user_envs_cfg": false
  }
 },
 "nbformat": 4,
 "nbformat_minor": 5
}

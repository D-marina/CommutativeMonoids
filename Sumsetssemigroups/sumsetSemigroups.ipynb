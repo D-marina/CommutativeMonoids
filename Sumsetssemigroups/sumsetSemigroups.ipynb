{
 "cells": [
  {
   "cell_type": "markdown",
   "id": "da4a9e73",
   "metadata": {},
   "source": [
    "# Functions for computing the elasticity of a sumset semigroup"
   ]
  },
  {
   "cell_type": "markdown",
   "id": "ee190bd1",
   "metadata": {
    "heading_collapsed": true
   },
   "source": [
    "## Libraries"
   ]
  },
  {
   "cell_type": "markdown",
   "id": "3efccc0b",
   "metadata": {
    "hidden": true
   },
   "source": [
    "Loading the CommutativeMonoids library. You can download with the command \n",
    "```properties\n",
    "$ git clone https://github.com/D-marina/CommutativeMonoids.git\n",
    "```\n",
    "The only library use is `integerSmithNormalFormAndApplications` which is in the folder `Class`"
   ]
  },
  {
   "cell_type": "code",
   "execution_count": 1,
   "id": "9b0e6ae3",
   "metadata": {
    "hidden": true
   },
   "outputs": [],
   "source": [
    "import sys\n",
    "#location of the folder CommutativeMonoids\n",
    "# we load the following libraies\n",
    "pathToCommutativeMonoids='../CommutativeMonoids'\n",
    "sys.path.insert(0,pathToCommutativeMonoids+'/ClassCSemigroup')\n",
    "sys.path.insert(0,pathToCommutativeMonoids+'/Class')\n",
    "sys.path.insert(0,pathToCommutativeMonoids+'/ClassAffine')\n",
    "sys.path.insert(0,pathToCommutativeMonoids+'/CClass')\n",
    "\n",
    "from integerSmithNormalFormAndApplications import *\n",
    "\n",
    "from sympy import init_printing, pprint, latex\n",
    "init_printing() \n",
    "\n",
    "from IPython.display import display, Math, Markdown"
   ]
  },
  {
   "cell_type": "markdown",
   "id": "c0ac45d8",
   "metadata": {
    "hidden": true
   },
   "source": [
    "We load now all the other libraries we also need and define in sympy new symbols"
   ]
  },
  {
   "cell_type": "code",
   "execution_count": 2,
   "id": "557f7f41",
   "metadata": {
    "hidden": true
   },
   "outputs": [],
   "source": [
    "import functools,math\n",
    "import sympy\n",
    "import numpy as np\n",
    "from PyNormaliz import *\n",
    "from numpy import array\n",
    "from sympy import symbols,groebner\n",
    "from fractions import Fraction\n",
    "import itertools\n",
    "\n",
    "x1,x2,x3,x4,x5,x6,x7=symbols(\"x1 x2 x3 x4 x5 x6 x7\")\n",
    "lX=[x1,x2,x3,x4,x5,x6,x7]\n",
    "y1,y2,y3,y4,y5,y6,y7=symbols(\"y1 y2 y3 y4 y5 y6 y7\")\n",
    "lY=[y1,y2,y3,y4,y5,y6,y7]\n",
    "z1,z2,z3,z4,z5,z6,z7=symbols(\"z1 z2 z3 z4 z5 z6 z7\")\n",
    "lZ=[z1,z2,z3,z4,z5,z6,z7]\n",
    "w1,w2,w3,w4,w5,w6,w7=symbols(\"w1 w2 w3 w4 w5 w6 w7\")\n",
    "lW=[w1,w2,w3,w4,w5,w6,w7]\n",
    "\n",
    "x,y,z,t,u,v,w=symbols(\"x y z t u v w\")"
   ]
  },
  {
   "cell_type": "code",
   "execution_count": 3,
   "id": "2368c78f",
   "metadata": {
    "hidden": true
   },
   "outputs": [],
   "source": [
    "latex1=lambda x: \"$\"+latex(x)+\"$\"\n",
    "def lprint(*lcad):\n",
    "    '''\n",
    "    >>> lprint(\"hola\",latex1(x**7),\"ccc\")\n",
    "    '''\n",
    "    display(Markdown(' '.join(lcad)))"
   ]
  },
  {
   "cell_type": "markdown",
   "id": "03a46199",
   "metadata": {
    "heading_collapsed": true
   },
   "source": [
    "## Operators `|sum|` ($+$) and `|mult|` $\\otimes$ of sumset semigroups"
   ]
  },
  {
   "cell_type": "markdown",
   "id": "575a2349",
   "metadata": {
    "hidden": true
   },
   "source": [
    "The operator $+$ and $\\otimes$ are defined below"
   ]
  },
  {
   "cell_type": "code",
   "execution_count": 4,
   "id": "51dd3797",
   "metadata": {
    "hidden": true
   },
   "outputs": [],
   "source": [
    "class Infix:\n",
    "    def __init__(self, function):\n",
    "        self.function = function\n",
    "    def __ror__(self, other):\n",
    "        return Infix(lambda x, self=self, other=other: self.function(other, x))\n",
    "    def __or__(self, other):\n",
    "        return self.function(other)\n",
    "    def __rlshift__(self, other):\n",
    "        return Infix(lambda x, self=self, other=other: self.function(other, x))\n",
    "    def __rshift__(self, other):\n",
    "        return self.function(other)\n",
    "    def __call__(self, value1, value2):\n",
    "        return self.function(value1, value2)\n",
    "\n",
    "@Infix\n",
    "def add(A,B):\n",
    "    '''Computes the addition of two sets A and B\n",
    "    >>> [7,9] |add| [0,2,3]\n",
    "    '''\n",
    "    C=list(set([a+b for a in A for b in B]))\n",
    "    C.sort()\n",
    "    return C\n",
    "\n",
    "@Infix\n",
    "def mult(a,A):\n",
    "    '''Sum with itself a-times the set A\n",
    "    >>> 3 |mult| [3,4]\n",
    "    '''\n",
    "    if a==0:\n",
    "        return [0]\n",
    "    elif a==1:\n",
    "        A=list(set(A))\n",
    "        A.sort()\n",
    "        return A\n",
    "    else:\n",
    "        return A |add| mult(a-1,A)"
   ]
  },
  {
   "cell_type": "markdown",
   "id": "e018a6a6",
   "metadata": {
    "heading_collapsed": true
   },
   "source": [
    "## Function to obtain the ideal of a sumset semigroup (`computeSets`)"
   ]
  },
  {
   "cell_type": "markdown",
   "id": "44864fe0",
   "metadata": {
    "hidden": true
   },
   "source": [
    "We define now the functions for computing the presentation of sumset semigroup of the form of Algorithm 1 of [On the ideals of some sumset semigroups](https://arxiv.org/abs/2102.04100). \n",
    "\n",
    "The main function if `computationIS` and it also checks if the given list of generators fulfill the requeriments of Algorithm 1 of [On the ideals of some sumset semigroups](https://arxiv.org/abs/2102.04100).\n",
    "\n",
    "An example of how to use this funcion is \n",
    "```properties\n",
    ">>> computationIS([3],[4],[6,12],[7,10,13],[0,3,6,9])\n",
    "```"
   ]
  },
  {
   "cell_type": "markdown",
   "id": "028da2ec",
   "metadata": {
    "ExecuteTime": {
     "end_time": "2021-04-29T16:43:59.344012Z",
     "start_time": "2021-04-29T16:43:59.338776Z"
    },
    "heading_collapsed": true,
    "hidden": true
   },
   "source": [
    "### Auxiliary functions"
   ]
  },
  {
   "cell_type": "code",
   "execution_count": 5,
   "id": "ff625257",
   "metadata": {
    "hidden": true
   },
   "outputs": [],
   "source": [
    "def computeSets(lsgS):\n",
    "    '''Computes some auxiliary sets used in functino computationIS\n",
    "    '''\n",
    "    lB=[]\n",
    "    lA=[]\n",
    "    la=[]\n",
    "    for S in lsgS:\n",
    "        if len(S)==1:\n",
    "            if S not in lB:\n",
    "                lB.append(S)\n",
    "        else:\n",
    "            a0=S[0]\n",
    "            if a0!=0 and [a0] not in la:\n",
    "                la.append([a0])\n",
    "            aux=(a0,[a-a0 for a in S])\n",
    "            # cuidado con quitar generadores repetidos\n",
    "            if aux not in lA:\n",
    "                lA.append(aux)\n",
    "            else:\n",
    "                print(\"Duplicated generator found, removed\", S)\n",
    "    lkA=[S[1][0:2] for S in lA]\n",
    "    for S in lA:\n",
    "        if len(S[1])>2:\n",
    "            lkA.append([0,S[1][2]])\n",
    "    lkA=[S for i,S in enumerate(lkA) if S not in lkA[:i]]\n",
    "    return lB,la,lA,lkA\n",
    "\n",
    "def computeNM(S,lkA):\n",
    "    '''Computes a decomposition of S in term of the elements of lA\n",
    "    >>> computeNM([0,2,5,7],[[0,5],[0,2]])\n",
    "    '''\n",
    "    for i in range(S[-1]//lkA[0][-1]+1):\n",
    "        for j in range(S[-1]//lkA[1][-1]+1):\n",
    "            if S==(i|mult|lkA[0]) |add| (j|mult|lkA[1]):\n",
    "                return (i,j)\n",
    "\n",
    "def removeBinomialsHavingVariables(gb,lVariables):\n",
    "    gb1=[p for p in gb \\\n",
    "         if set(p.args[0].as_powers_dict().keys()).intersection(lVariables)==set()\\\n",
    "         and \\\n",
    "         set(p.args[1].as_powers_dict().keys()).intersection(lVariables)==set()]\n",
    "    return gb1\n",
    "            \n",
    "def isInAnyPolynomial(var,gb):\n",
    "    lAux=set([])\n",
    "    for p in gb:\n",
    "        aux=set(p.args[0].as_powers_dict().keys()).union(set(p.args[1].as_powers_dict().keys()))\n",
    "        #print(aux)\n",
    "        lAux=lAux.union(aux)\n",
    "    #print(lAux)\n",
    "    return var in lAux"
   ]
  },
  {
   "cell_type": "markdown",
   "id": "2e42fdc5",
   "metadata": {
    "heading_collapsed": true,
    "hidden": true
   },
   "source": [
    "### Function `computationIS`"
   ]
  },
  {
   "cell_type": "code",
   "execution_count": null,
   "id": "6407a2a3",
   "metadata": {
    "hidden": true
   },
   "outputs": [],
   "source": [
    "def computationIS(*sgS, debug=False):\n",
    "    '''Computes the ideal of the sumset semigroup generated by sgS\n",
    "    >>> computationIS([3],[4],[6,12],[7,10,13],[0,3,6,9])\n",
    "    '''\n",
    "    lB,la,lA,lkA=computeSets(list(sgS))\n",
    "    \n",
    "    #aux=[T[1][:2] for T in lA]\n",
    "    #aux1=[S for i,S in enumerate(aux) if S not in aux[:i]]\n",
    "    aux1=lkA\n",
    "    if debug:\n",
    "        print(aux1)\n",
    "    if len(aux1)!=2:\n",
    "        print(\"We cannot compute the ideal. This case is still not solved\")\n",
    "        return\n",
    "    Sprime=lB+la+aux1\n",
    "    S1=lB+la # [[5],[7],[11]]\n",
    "    \n",
    "    lnm=[(S[0],S[1],computeNM(S[1],lkA)) for S in lA]\n",
    "    \n",
    "    sn=[S[0] for S in lB+la] # [5,7,11]\n",
    "    a,b=lkA[0][1],lkA[1][1]\n",
    "    k=math.gcd(a,b)\n",
    "    a,b=a//k,b//k\n",
    "    # u = 1 in the natural numbers\n",
    "    relations=[u**S[0]-lX[j] for j,S in enumerate(lB)]\n",
    "    relations=relations+[u**S[0]-lW[j] for j,S in enumerate(la)]\n",
    "    relations=relations+[x**(b-1)*y**(a-1)*(x**b-y**a)]\n",
    "    \n",
    "    for j,TT in enumerate(lnm):\n",
    "        ai,Anm,coord=TT\n",
    "        if ai!=0:\n",
    "            pos=[aa[0] for aa in la].index(ai)\n",
    "            relations=relations+[lZ[j]-lW[pos]*x**coord[0]*y**coord[1]]\n",
    "        else:\n",
    "            relations=relations+[lZ[j]-x**coord[0]*y**coord[1]]\n",
    "    \n",
    "    gb=groebner(relations,u,x,y,*lW,*lX,*lZ)\n",
    "    \n",
    "    #gb1=[p for p in gb \\\n",
    "    #     if set(p.args[0].as_powers_dict().keys()).intersection([u,x,y]+lW)==set()\\\n",
    "    #     and \\\n",
    "    #     set(p.args[1].as_powers_dict().keys()).intersection([u,x,y]+lW)==set()]\n",
    "    gb1=removeBinomialsHavingVariables(gb,[u,x,y]+lW)\n",
    "    \n",
    "    lVariables=[]\n",
    "    for var in lX+lZ:\n",
    "        if isInAnyPolynomial(var,gb1):\n",
    "            lVariables.append(var)\n",
    "    \n",
    "    return groebner(gb1,*lVariables) #,lVariables"
   ]
  },
  {
   "cell_type": "markdown",
   "id": "3a6bf1e5",
   "metadata": {
    "ExecuteTime": {
     "end_time": "2021-04-29T16:43:59.344012Z",
     "start_time": "2021-04-29T16:43:59.338776Z"
    },
    "heading_collapsed": true,
    "hidden": true
   },
   "source": [
    "### Example"
   ]
  },
  {
   "cell_type": "code",
   "execution_count": 12,
   "id": "739310d2",
   "metadata": {
    "ExecuteTime": {
     "end_time": "2021-04-29T16:46:21.901375Z",
     "start_time": "2021-04-29T16:46:21.146923Z"
    },
    "hidden": true
   },
   "outputs": [
    {
     "data": {
      "text/latex": [
       "$\\displaystyle GroebnerBasis\\left(\\left( x_{1}^{4} - x_{2}^{3}, \\  x_{1}^{3} x_{2}^{3} z_{3}^{2} - z_{2}^{3}, \\  x_{1}^{3} z_{1} z_{2} - x_{2}^{2} z_{2}^{2}, \\  x_{1}^{3} z_{1} z_{3} - x_{2}^{2} z_{2} z_{3}, \\  x_{1}^{2} x_{2}^{3} z_{3}^{3} - z_{1}^{3} z_{3}, \\  x_{1}^{2} z_{1}^{2} z_{2} - x_{2} z_{2}^{3}, \\  x_{1}^{2} z_{1}^{2} z_{3} - x_{2} z_{2}^{2} z_{3}, \\  x_{1} x_{2}^{4} z_{3}^{2} - z_{1}^{2} z_{2}, \\  x_{1} z_{1}^{3} z_{2} - z_{2}^{4}, \\  x_{1} z_{1}^{3} z_{3} - z_{2}^{3} z_{3}, \\  x_{1} z_{2}^{2} - x_{2} z_{1} z_{2}, \\  x_{1} z_{2} z_{3} - x_{2} z_{1} z_{3}, \\  x_{2}^{5} z_{3}^{2} - z_{1} z_{2}^{2}, \\  x_{2}^{4} z_{2}^{3} z_{3}^{2} - z_{1}^{5} z_{2}, \\  x_{2}^{4} z_{2}^{2} z_{3}^{3} - z_{1}^{5} z_{3}, \\  x_{2}^{3} z_{2}^{7} z_{3}^{2} - z_{1}^{9} z_{2}, \\  x_{2}^{3} z_{2}^{6} z_{3}^{3} - z_{1}^{9} z_{3}, \\  x_{2}^{2} z_{2}^{11} z_{3}^{2} - z_{1}^{13} z_{2}, \\  x_{2}^{2} z_{2}^{10} z_{3}^{3} - z_{1}^{13} z_{3}, \\  x_{2} z_{1}^{4} z_{2} - z_{2}^{5}, \\  x_{2} z_{1}^{4} z_{3} - z_{2}^{4} z_{3}, \\  x_{2} z_{2}^{15} z_{3}^{2} - z_{1}^{17} z_{2}, \\  x_{2} z_{2}^{14} z_{3}^{3} - z_{1}^{17} z_{3}, \\  z_{1}^{21} z_{2} - z_{2}^{19} z_{3}^{2}, \\  z_{1}^{21} z_{3} - z_{2}^{18} z_{3}^{3}\\right), \\left( x_{1}, \\  x_{2}, \\  z_{1}, \\  z_{2}, \\  z_{3}\\right)\\right)$"
      ],
      "text/plain": [
       "             ⎛⎡  4     3    3   3   2     3    3           2   2    3         \n",
       "GroebnerBasis⎝⎣x₁  - x₂ , x₁ ⋅x₂ ⋅z₃  - z₂ , x₁ ⋅z₁⋅z₂ - x₂ ⋅z₂ , x₁ ⋅z₁⋅z₃ - \n",
       "\n",
       "  2          2   3   3     3       2   2           3    2   2           2     \n",
       "x₂ ⋅z₂⋅z₃, x₁ ⋅x₂ ⋅z₃  - z₁ ⋅z₃, x₁ ⋅z₁ ⋅z₂ - x₂⋅z₂ , x₁ ⋅z₁ ⋅z₃ - x₂⋅z₂ ⋅z₃, \n",
       "\n",
       "     4   2     2          3        4       3        3          2              \n",
       "x₁⋅x₂ ⋅z₃  - z₁ ⋅z₂, x₁⋅z₁ ⋅z₂ - z₂ , x₁⋅z₁ ⋅z₃ - z₂ ⋅z₃, x₁⋅z₂  - x₂⋅z₁⋅z₂, x\n",
       "\n",
       "                      5   2        2    4   3   2     5       4   2   3     5 \n",
       "₁⋅z₂⋅z₃ - x₂⋅z₁⋅z₃, x₂ ⋅z₃  - z₁⋅z₂ , x₂ ⋅z₂ ⋅z₃  - z₁ ⋅z₂, x₂ ⋅z₂ ⋅z₃  - z₁ ⋅\n",
       "\n",
       "      3   7   2     9       3   6   3     9       2   11   2     13       2   \n",
       "z₃, x₂ ⋅z₂ ⋅z₃  - z₁ ⋅z₂, x₂ ⋅z₂ ⋅z₃  - z₁ ⋅z₃, x₂ ⋅z₂  ⋅z₃  - z₁  ⋅z₂, x₂ ⋅z₂\n",
       "\n",
       "10   3     13          4        5       4        4          15   2     17     \n",
       "  ⋅z₃  - z₁  ⋅z₃, x₂⋅z₁ ⋅z₂ - z₂ , x₂⋅z₁ ⋅z₃ - z₂ ⋅z₃, x₂⋅z₂  ⋅z₃  - z₁  ⋅z₂, \n",
       "\n",
       "     14   3     17       21        19   2    21        18   3⎤                \n",
       "x₂⋅z₂  ⋅z₃  - z₁  ⋅z₃, z₁  ⋅z₂ - z₂  ⋅z₃ , z₁  ⋅z₃ - z₂  ⋅z₃ ⎦, x₁, x₂, z₁, z₂\n",
       "\n",
       "                         ⎞\n",
       ", z₃, domain=ℤ, order=lex⎠"
      ]
     },
     "metadata": {},
     "output_type": "display_data"
    }
   ],
   "source": [
    "gb=computationIS([3],[4],[6,12],[7,10,13],[0,3,6,9])\n",
    "display(gb)"
   ]
  },
  {
   "cell_type": "markdown",
   "id": "404663c4",
   "metadata": {},
   "source": [
    "## Function of obtain the elasticity of a monoid from one of its ideals (`elasticity`)"
   ]
  },
  {
   "cell_type": "markdown",
   "id": "a9fcf512",
   "metadata": {
    "heading_collapsed": true
   },
   "source": [
    "### Auxiliary functions"
   ]
  },
  {
   "cell_type": "markdown",
   "id": "866be200",
   "metadata": {
    "hidden": true
   },
   "source": [
    "Now, we define three auxiliary funcions `fraccionDeGenerador` and `binomio2Zn` used in the function `elasticity`. The last function computes the elasticity of a monoid from one of its defining ideals."
   ]
  },
  {
   "cell_type": "code",
   "execution_count": 6,
   "id": "ff63e8a8",
   "metadata": {
    "hidden": true
   },
   "outputs": [],
   "source": [
    "def fraccionDeGenerador(gen):\n",
    "    dim=len(gen)//2\n",
    "    #print(gen,dim)\n",
    "    return Fraction(sum(gen[:dim]),sum(gen[dim:]))\n",
    "\n",
    "def binomio2Zn(binomio,lV):\n",
    "    #binomio=G4[0]\n",
    "    s1,s2=binomio.args[0].as_powers_dict(),binomio.args[1].as_powers_dict()\n",
    "    c=[]\n",
    "    c1=[]\n",
    "    c2=[]\n",
    "    #print(s1)\n",
    "    for v in lV:\n",
    "        c1.append(s1[v])\n",
    "    for v in lV:\n",
    "        c2.append(s2[v])\n",
    "    return [c1,c2]"
   ]
  },
  {
   "cell_type": "markdown",
   "id": "00a31e0d",
   "metadata": {
    "hidden": true
   },
   "source": [
    "We have the function elasticity"
   ]
  },
  {
   "cell_type": "code",
   "execution_count": 7,
   "id": "918908a5",
   "metadata": {
    "hidden": true
   },
   "outputs": [
    {
     "ename": "NameError",
     "evalue": "name 'gb' is not defined",
     "output_type": "error",
     "traceback": [
      "\u001b[0;31m---------------------------------------------------------------------------\u001b[0m",
      "\u001b[0;31mNameError\u001b[0m                                 Traceback (most recent call last)",
      "\u001b[0;32m<ipython-input-7-7955df97ab86>\u001b[0m in \u001b[0;36m<module>\u001b[0;34m\u001b[0m\n\u001b[0;32m----> 1\u001b[0;31m \u001b[0mlVariables\u001b[0m\u001b[0;34m=\u001b[0m\u001b[0mgb\u001b[0m\u001b[0;34m.\u001b[0m\u001b[0margs\u001b[0m\u001b[0;34m[\u001b[0m\u001b[0;36m1\u001b[0m\u001b[0;34m]\u001b[0m\u001b[0;34m\u001b[0m\u001b[0;34m\u001b[0m\u001b[0m\n\u001b[0m\u001b[1;32m      2\u001b[0m \u001b[0mtuplasGB\u001b[0m\u001b[0;34m=\u001b[0m\u001b[0;34m[\u001b[0m\u001b[0mbinomio2Zn\u001b[0m\u001b[0;34m(\u001b[0m\u001b[0mb\u001b[0m\u001b[0;34m,\u001b[0m\u001b[0mlVariables\u001b[0m\u001b[0;34m)\u001b[0m \u001b[0;32mfor\u001b[0m \u001b[0mb\u001b[0m \u001b[0;32min\u001b[0m \u001b[0mgb\u001b[0m\u001b[0;34m]\u001b[0m\u001b[0;34m\u001b[0m\u001b[0;34m\u001b[0m\u001b[0m\n\u001b[1;32m      3\u001b[0m \u001b[0mgenM\u001b[0m\u001b[0;34m=\u001b[0m\u001b[0;34m[\u001b[0m\u001b[0;34m]\u001b[0m\u001b[0;34m\u001b[0m\u001b[0;34m\u001b[0m\u001b[0m\n\u001b[1;32m      4\u001b[0m \u001b[0;32mfor\u001b[0m \u001b[0mc1\u001b[0m\u001b[0;34m,\u001b[0m\u001b[0mc2\u001b[0m \u001b[0;32min\u001b[0m \u001b[0mtuplasGB\u001b[0m\u001b[0;34m:\u001b[0m\u001b[0;34m\u001b[0m\u001b[0;34m\u001b[0m\u001b[0m\n\u001b[1;32m      5\u001b[0m     \u001b[0mgenM\u001b[0m\u001b[0;34m.\u001b[0m\u001b[0mappend\u001b[0m\u001b[0;34m(\u001b[0m\u001b[0marray\u001b[0m\u001b[0;34m(\u001b[0m\u001b[0mc1\u001b[0m\u001b[0;34m)\u001b[0m\u001b[0;34m-\u001b[0m\u001b[0marray\u001b[0m\u001b[0;34m(\u001b[0m\u001b[0mc2\u001b[0m\u001b[0;34m)\u001b[0m\u001b[0;34m)\u001b[0m\u001b[0;34m\u001b[0m\u001b[0;34m\u001b[0m\u001b[0m\n",
      "\u001b[0;31mNameError\u001b[0m: name 'gb' is not defined"
     ]
    }
   ],
   "source": [
    "lVariables=gb.args[1]\n",
    "tuplasGB=[binomio2Zn(b,lVariables) for b in gb]\n",
    "genM=[]\n",
    "for c1,c2 in tuplasGB:\n",
    "    genM.append(array(c1)-array(c2))\n",
    "\n",
    "eqGenM=generatorsToEquations(genM)\n",
    "\n",
    "numEqs=eqGenM[0].shape[0]\n",
    "filas=[list(eqGenM[0][i,:]) for i in range(numEqs)]\n",
    "\n",
    "\n",
    "print(eqGenM)\n",
    "print(filas)"
   ]
  },
  {
   "cell_type": "code",
   "execution_count": 8,
   "id": "4d53a104",
   "metadata": {
    "hidden": true
   },
   "outputs": [],
   "source": [
    "def computeEquationsOfMFromGB(gb):\n",
    "    lVariables=gb.args[1]\n",
    "    tuplasGB=[binomio2Zn(b,lVariables) for b in gb]\n",
    "    genM=[]\n",
    "    for c1,c2 in tuplasGB:\n",
    "        genM.append(array(c1)-array(c2))\n",
    "\n",
    "    eqGenM=generatorsToEquations(genM)\n",
    "    \n",
    "    numEqs=eqGenM[0].shape[0]\n",
    "    filas=[list(eqGenM[0][i,:]) for i in range(numEqs)]\n",
    "    \n",
    "    return filas"
   ]
  },
  {
   "cell_type": "markdown",
   "id": "75b0e6dc",
   "metadata": {
    "heading_collapsed": true
   },
   "source": [
    "### Function `elasticity`"
   ]
  },
  {
   "cell_type": "code",
   "execution_count": 9,
   "id": "fa87420c",
   "metadata": {
    "hidden": true,
    "scrolled": false
   },
   "outputs": [],
   "source": [
    "def elasticity(gb,verbose=False):\n",
    "    '''Computes the elasticity of a monoid from one of its presetations.\n",
    "    It returns the value of the elasticity and the elements of gb that reach the elasticity\n",
    "    >>> rho,lTElasticity=elasticity(gb)\n",
    "    '''\n",
    "    #lVariables=gb.args[1]\n",
    "    #tuplasGB=[binomio2Zn(b,lVariables) for b in gb]\n",
    "    #genM=[]\n",
    "    #for c1,c2 in tuplasGB:\n",
    "    #    genM.append(array(c1)-array(c2))\n",
    "    #eqGenM=generatorsToEquations(genM)\n",
    "    \n",
    "    #numEqs=eqGenM[0].shape[0]\n",
    "    #filas=[list(eqGenM[0][i,:]) for i in range(numEqs)]\n",
    "\n",
    "    filas=computeEquationsOfMFromGB(gb)\n",
    "    \n",
    "    coneSR=Cone(equations=filas)\n",
    "    cSRHB=coneSR.HilbertBasis()\n",
    "    if verbose:\n",
    "        print(\"Cono positivo M:\",cSRHB)\n",
    "    if cSRHB!=[]:\n",
    "        if verbose:\n",
    "            print(\"The semigroup is not strongly reduced\")\n",
    "        return \"\\infty\",[]\n",
    "    \n",
    "    \n",
    "    \n",
    "    #print(\"filas\",filas)\n",
    "\n",
    "    ecuacionesAmenosA=[filas[i]+[-a for a in filas[i]] for i in range(len(filas))]\n",
    "    monoide=Cone(equations=ecuacionesAmenosA)\n",
    "    sistemaGenMonoide=monoide.HilbertBasis()\n",
    "    \n",
    "    dim=len(sistemaGenMonoide[0])//2\n",
    "    elasticidad=max([fraccionDeGenerador(gen) for gen in sistemaGenMonoide])\n",
    "    \n",
    "    elasticidad\n",
    "\n",
    "    Rs=[gen for gen in sistemaGenMonoide \\\n",
    "     if fraccionDeGenerador(gen)==elasticidad]\n",
    "    \n",
    "    if verbose:\n",
    "        #print(\"Order of variables:\",variablesGB(gb))\n",
    "        #print(tuplasGB)\n",
    "        print(\"Equations of M\")\n",
    "        print(filas)\n",
    "        #print(eqGenM[0],\"\\n\")\n",
    "        #print(\"Matrix (A|-A)\")\n",
    "        #print(ecuacionesAmenosA)\n",
    "\n",
    "    \n",
    "    return(elasticidad,Rs)\n",
    "    "
   ]
  },
  {
   "cell_type": "markdown",
   "id": "9435765c",
   "metadata": {
    "heading_collapsed": true
   },
   "source": [
    "### Example"
   ]
  },
  {
   "cell_type": "markdown",
   "id": "70104ed9",
   "metadata": {
    "hidden": true
   },
   "source": [
    "One example of how to use this function is the following."
   ]
  },
  {
   "cell_type": "code",
   "execution_count": 9,
   "id": "17b42443",
   "metadata": {
    "hidden": true
   },
   "outputs": [
    {
     "name": "stdout",
     "output_type": "stream",
     "text": [
      "Cono positivo M: []\n",
      "Equations of M\n",
      "[[0, 0, -2, -2, -3], [3, 4, -16, -15, -33]]\n",
      "Variables used in the Groebner basis: (x1, x2, z1, z2, z3)\n",
      "Elasticity of S: 3\n",
      "Pairs of atoms of A(I_M) that reach the elasticity: [[7, 0, 0, 0, 2, 0, 0, 0, 3, 0]]\n"
     ]
    }
   ],
   "source": [
    "sgS=[[3],[4],[6,12],[7,10,13],[0,3,6,9]]\n",
    "gb=computationIS(*sgS)\n",
    "rho,lTElasticity=elasticity(gb,verbose=True)\n",
    "\n",
    "print(\"Variables used in the Groebner basis:\",gb.args[1])\n",
    "print(\"Elasticity of S:\",rho)\n",
    "print(\"Pairs of atoms of A(I_M) that reach the elasticity:\",lTElasticity)"
   ]
  },
  {
   "cell_type": "markdown",
   "id": "8c20ad94",
   "metadata": {
    "hidden": true
   },
   "source": [
    "Since the monomial $x1^7 z3^2$ is reduced to $z2^3$, the element $7 \\otimes \\{3\\} + 2 \\otimes \\{0,3,6,9\\}=3 \\otimes \\{7,10,13\\}$ and reachs the elasticity. \n",
    "So, the monoids $S$ has acceptable elasticity."
   ]
  },
  {
   "cell_type": "code",
   "execution_count": 14,
   "id": "8504b120",
   "metadata": {
    "hidden": true
   },
   "outputs": [
    {
     "data": {
      "text/latex": [
       "$\\displaystyle 25$"
      ],
      "text/plain": [
       "25"
      ]
     },
     "execution_count": 14,
     "metadata": {},
     "output_type": "execute_result"
    }
   ],
   "source": [
    "len(gb.args[0])\n",
    "len([0, 1, 0, 0, 0, 0, 0, 0, 0, 0, 0, 0, 0, 0, 0, 0, 0, 0, 0, 0, 0, 0, 0, 0, 0])"
   ]
  },
  {
   "cell_type": "code",
   "execution_count": 10,
   "id": "84e47f76",
   "metadata": {
    "hidden": true
   },
   "outputs": [
    {
     "data": {
      "text/latex": [
       "$\\displaystyle \\left( \\left[ x_{1}^{3} z_{3}^{2}, \\  1, \\  0, \\  0, \\  0, \\  0, \\  0, \\  0, \\  0, \\  0, \\  0, \\  0, \\  0, \\  0, \\  0, \\  0, \\  0, \\  0, \\  0, \\  0, \\  0, \\  0, \\  0, \\  0, \\  0\\right], \\  z_{2}^{3}\\right)$"
      ],
      "text/plain": [
       "⎛⎡  3   2                                                                     \n",
       "⎝⎣x₁ ⋅z₃ , 1, 0, 0, 0, 0, 0, 0, 0, 0, 0, 0, 0, 0, 0, 0, 0, 0, 0, 0, 0, 0, 0, 0\n",
       "\n",
       "   ⎤    3⎞\n",
       ", 0⎦, z₂ ⎠"
      ]
     },
     "execution_count": 10,
     "metadata": {},
     "output_type": "execute_result"
    }
   ],
   "source": [
    "gb.reduce(x1**7*z3**2)"
   ]
  },
  {
   "cell_type": "markdown",
   "id": "56c60dfe",
   "metadata": {
    "heading_collapsed": true
   },
   "source": [
    "## Algorithm to decide if a semigroups has acceptable elasticity (`hasAcceptableElasticity`)"
   ]
  },
  {
   "cell_type": "markdown",
   "id": "0ead03c5",
   "metadata": {
    "hidden": true
   },
   "source": [
    "From the work [Atomic Commutative Monoids and Their Elasticity\n",
    "](https://doi-org.bibezproxy.uca.es/10.1007/s00233-002-0022-4), we can check from a presetation of a monoid if it has acceptable elasticity or not."
   ]
  },
  {
   "cell_type": "markdown",
   "id": "78ee1e24",
   "metadata": {
    "heading_collapsed": true,
    "hidden": true
   },
   "source": [
    "### Auxiliary functions"
   ]
  },
  {
   "cell_type": "markdown",
   "id": "1dc30613",
   "metadata": {
    "hidden": true
   },
   "source": [
    "We need a function to compute the Archimedean components of a monoid from one a system of generators of $I_S$"
   ]
  },
  {
   "cell_type": "code",
   "execution_count": 15,
   "id": "2020b01f",
   "metadata": {
    "hidden": true
   },
   "outputs": [],
   "source": [
    "def projection01(l):\n",
    "    return [(lambda x:0 if x==0 else 1)(a) for a in l]\n",
    "\n",
    "projection01([5,0,1,0,0,3])\n",
    "\n",
    "def supreme(t1,t2):\n",
    "    return [max(x,y) for x,y in zip(t1,t2)]\n",
    "def infimum(t1,t2):\n",
    "    return [min(x,y) for x,y in zip(t1,t2)]\n",
    "def elementsBetween(t1,t2):\n",
    "    s=[]\n",
    "    for tt in itertools.product([0,1],repeat=len(t1)):\n",
    "        if infimum(tt,t1)==t1 and supreme(tt,t2)==t2:\n",
    "            s.append(tt)\n",
    "    return s\n",
    "\n",
    "def areInTheSameACAux(Grho,vv1,vv2):\n",
    "    for aa,bb in Grho:\n",
    "        if aa==vv1:\n",
    "            vv1=bb\n",
    "        if aa==vv2:\n",
    "            vv2=bb\n",
    "    if vv1==vv2:\n",
    "        return True\n",
    "    return False\n",
    "\n",
    "def ArchimedeanComponents(gb, debug=False):\n",
    "    lV=gb.args[1]\n",
    "    lLists=[binomio2Zn(p,lV) for p in gb]\n",
    "    l01=[(projection01(a),projection01(b)) for a,b in lLists]+\\\n",
    "        [(projection01(b),projection01(a)) for a,b in lLists]\n",
    "    #print(lLists)\n",
    "    if debug:\n",
    "        print(l01,\"\\n\")\n",
    "    latt=itertools.product([0,1],repeat=len(lV))\n",
    "    #print(list(latt))\n",
    "    \n",
    "    Grho=[]\n",
    "    for vv in latt:\n",
    "        #print(vv)\n",
    "        menores=[tt for tt in l01 if tt[0]==infimum(tt[0],list(vv))]\n",
    "        #print(menores,\"\\n\")\n",
    "        for a,b in menores:\n",
    "            for i,vb in enumerate(b):\n",
    "                if vb==1 and vv[i]==0:\n",
    "                    copiavv1=list(vv)\n",
    "                    copiavv1[i]=1\n",
    "                    if (vv,copiavv1) not in Grho:\n",
    "                        Grho.append((list(vv),copiavv1))\n",
    "    if debug:\n",
    "        print(\"Grho:\",Grho,\"\\n\")\n",
    "                        \n",
    "    lACcomponents=[]\n",
    "    for vv in itertools.product([0,1],repeat=len(lV)):\n",
    "        vv=list(vv)\n",
    "        if debug:\n",
    "            print(\"lACcomponents:\",lACcomponents)\n",
    "            print(vv)\n",
    "        if lACcomponents==[]:\n",
    "            lACcomponents.append([vv])\n",
    "        else:\n",
    "            encontrado=False\n",
    "            i=0\n",
    "            while not encontrado and i<len(lACcomponents):\n",
    "                lAux=lACcomponents[i]\n",
    "                primero=lAux[0]                \n",
    "                vt=areInTheSameACAux(Grho,vv,primero)\n",
    "                if debug:\n",
    "                    print(\"\\tvv cc\",vv,primero,vt)\n",
    "                if vt:\n",
    "                    encontrado=True\n",
    "                    lAux.append(vv)\n",
    "                    lACcomponents[i]=lAux\n",
    "                i=i+1 \n",
    "            if not encontrado:\n",
    "                lACcomponents.append([vv])\n",
    "    if debug:\n",
    "        print(\"lACcomponents\",lACcomponents)\n",
    "    \n",
    "    return lACcomponents #,Grho"
   ]
  },
  {
   "cell_type": "code",
   "execution_count": 16,
   "id": "99a1d174",
   "metadata": {
    "hidden": true,
    "scrolled": false
   },
   "outputs": [
    {
     "name": "stdout",
     "output_type": "stream",
     "text": [
      "(x1**4 - x2**3, x1**3*x2**3*z3**2 - z2**3, x1**3*z1*z2 - x2**2*z2**2, x1**3*z1*z3 - x2**2*z2*z3, x1**2*x2**3*z3**3 - z1**3*z3, x1**2*z1**2*z2 - x2*z2**3, x1**2*z1**2*z3 - x2*z2**2*z3, x1*x2**4*z3**2 - z1**2*z2, x1*z1**3*z2 - z2**4, x1*z1**3*z3 - z2**3*z3, x1*z2**2 - x2*z1*z2, x1*z2*z3 - x2*z1*z3, x2**5*z3**2 - z1*z2**2, x2**4*z2**3*z3**2 - z1**5*z2, x2**4*z2**2*z3**3 - z1**5*z3, x2**3*z2**7*z3**2 - z1**9*z2, x2**3*z2**6*z3**3 - z1**9*z3, x2**2*z2**11*z3**2 - z1**13*z2, x2**2*z2**10*z3**3 - z1**13*z3, x2*z1**4*z2 - z2**5, x2*z1**4*z3 - z2**4*z3, x2*z2**15*z3**2 - z1**17*z2, x2*z2**14*z3**3 - z1**17*z3, z1**21*z2 - z2**19*z3**2, z1**21*z3 - z2**18*z3**3)\n",
      "(x1, x2, z1, z2, z3)\n",
      "Archimedean components of S:\n",
      "0 --> [[0, 0, 0, 0, 0]]\n",
      "1 --> [[0, 0, 0, 0, 1]]\n",
      "2 --> [[0, 0, 0, 1, 0], [0, 0, 0, 1, 1], [0, 0, 1, 0, 1], [0, 0, 1, 1, 0], [0, 0, 1, 1, 1], [0, 1, 0, 0, 1], [0, 1, 0, 1, 0], [0, 1, 0, 1, 1], [0, 1, 1, 0, 1], [0, 1, 1, 1, 0], [0, 1, 1, 1, 1], [1, 0, 0, 0, 1], [1, 0, 0, 1, 0], [1, 0, 0, 1, 1], [1, 0, 1, 0, 1], [1, 0, 1, 1, 0], [1, 0, 1, 1, 1], [1, 1, 0, 0, 1], [1, 1, 0, 1, 0], [1, 1, 0, 1, 1], [1, 1, 1, 0, 1], [1, 1, 1, 1, 0], [1, 1, 1, 1, 1]]\n",
      "3 --> [[0, 0, 1, 0, 0]]\n",
      "4 --> [[0, 1, 0, 0, 0], [1, 0, 0, 0, 0], [1, 1, 0, 0, 0]]\n",
      "5 --> [[0, 1, 1, 0, 0], [1, 0, 1, 0, 0], [1, 1, 1, 0, 0]]\n",
      "The maximum number of Archimedean component for a monoid generated by 5 elements is 32.\n",
      "The monoid S has only 6 Archimedean components\n"
     ]
    }
   ],
   "source": [
    "sgS=[[3],[4],[6,12],[7,10,13],[0,3,6,9]]\n",
    "gb=computationIS(*sgS)\n",
    "print(gb.args[0])\n",
    "print(gb.args[1])\n",
    "AC=ArchimedeanComponents(gb)\n",
    "print(\"Archimedean components of S:\")\n",
    "for i,arch in enumerate(AC):\n",
    "    print(i,\"-->\",arch)\n",
    "print(\"The maximum number of Archimedean component \\\n",
    "for a monoid generated by 5 elements is {}.\".format(2**5))\n",
    "print(\"The monoid S has only\",len(AC),\"Archimedean components\")"
   ]
  },
  {
   "cell_type": "code",
   "execution_count": 86,
   "id": "e176db3c",
   "metadata": {
    "hidden": true
   },
   "outputs": [],
   "source": [
    "def supportIncluded(vect1,vect2):\n",
    "    '''\n",
    "    >>> supportIncluded([0,0,3],[1,0,1])\n",
    "    '''\n",
    "    for i,j in zip(vect1,vect2):\n",
    "        if i!=0 and j==0:\n",
    "            return False\n",
    "    return True\n",
    "\n",
    "\n",
    "def hasAcceptableElasticity1(gb,Rs,showTuple=False):\n",
    "    '''From one of its presentations, computes if the elasticity of a monoid is acceptable\n",
    "    >>> hasAcceptableElasticity(gb,lTElasticity)\n",
    "    '''\n",
    "    tuplasGB=[binomio2Zn(b,variablesGB(gb)) for b in gb]\n",
    "    ts=[vv[0]+vv[1] for vv in tuplasGB]\n",
    "    for vv in ts:\n",
    "        for ww in Rs:\n",
    "            if supportIncluded(vv,ww):\n",
    "                if showTuple:\n",
    "                    print(\"Support of\",vv,\"included in the support of\",ww)\n",
    "                return True\n",
    "    return False"
   ]
  },
  {
   "cell_type": "code",
   "execution_count": 112,
   "id": "18d6c59f",
   "metadata": {
    "hidden": true
   },
   "outputs": [],
   "source": [
    "def computationOfC(lTElasticity):\n",
    "    projLTE=[projection01(vv) for vv in lTElasticity]\n",
    "\n",
    "    res = []\n",
    "    [res.append(x) for x in projLTE if x not in res]\n",
    "\n",
    "    projLTE=res\n",
    "    #print(projLTE)\n",
    "    lOld=0\n",
    "    while lOld!=len(projLTE):\n",
    "        lOld=len(projLTE)\n",
    "        listAux=list(projLTE)\n",
    "        for i,A in enumerate(listAux):\n",
    "            for j,B in enumerate(listAux[i+1:]):\n",
    "                C=supreme(A,B)\n",
    "                #print(\"C\",C)\n",
    "                if not C in projLTE:\n",
    "                    projLTE.append(C)\n",
    "    \n",
    "    dim2=len(lTElasticity[0])//2\n",
    "    aux=[supreme(vv[0:dim2],vv[dim2:]) for vv in projLTE]\n",
    "\n",
    "                    \n",
    "    return(projLTE,aux)"
   ]
  },
  {
   "cell_type": "code",
   "execution_count": 113,
   "id": "4d7759fa",
   "metadata": {
    "hidden": true
   },
   "outputs": [],
   "source": [
    "def areInTheSameAC(ac1,ac2,AC):\n",
    "    for cc in AC:\n",
    "        if ac1 in cc:\n",
    "            if ac2 in cc:\n",
    "                return True\n",
    "            else:\n",
    "                return False"
   ]
  },
  {
   "cell_type": "markdown",
   "id": "55f72109",
   "metadata": {
    "heading_collapsed": true,
    "hidden": true
   },
   "source": [
    "### Function `hasAcceptableElasticity`"
   ]
  },
  {
   "cell_type": "code",
   "execution_count": 17,
   "id": "35a42435",
   "metadata": {
    "hidden": true
   },
   "outputs": [],
   "source": [
    "def hasAcceptableElasticity(gb1, debug=False):\n",
    "    rho,lTElasticity=elasticity(gb1)\n",
    "    AC=ArchimedeanComponents(gb1)\n",
    "    Cmonoid,Caux=computationOfC(lTElasticity)\n",
    "    \n",
    "    #for cc in Cmonoid:\n",
    "    #    izq=cc[:len(cc)//2]\n",
    "    #    der=cc[len(cc)//2:]\n",
    "    #    tt=areInTheSameAC(izq,der,AC)\n",
    "        \n",
    "    Cset=[cc for cc in Cmonoid if areInTheSameAC(cc[:len(cc)//2],cc[len(cc)//2:],AC)]\n",
    "    if Cset==[]:\n",
    "        print(\"S has not acceptable elasticity\")\n",
    "        return\n",
    "    \n",
    "    lVV=gb1.args[1]\n",
    "    print(lVV,\"\\n\")\n",
    "    for tt1 in Cset:\n",
    "        tam=len(cc)\n",
    "        print(\"tam\",tam)\n",
    "        izq=cc[:tam//2]\n",
    "        der=cc[tam//2:]\n",
    "        print(izq,der)\n",
    "        tt=supreme(izq,der)\n",
    "\n",
    "        posIzq=[i for i,vp in enumerate(izq) if vp!=0]\n",
    "        posDer=[i for i,vp in enumerate(der) if vp!=0]\n",
    "        goodPos=posIzq+posDer\n",
    "        goodPos.sort()\n",
    "        tamGood=len(goodPos)\n",
    "        print(\"Good positions\",goodPos)\n",
    "        supportA=[izq[i] for i in goodPos]\n",
    "        supportB=[der[i] for i in goodPos]\n",
    "        print(\"supportA supportB\",supportA,supportB)\n",
    "        print(tt)\n",
    "        lVaux1=[var for i,var in enumerate(lVV) if tt[i]==0]\n",
    "        lVaux2=[var for i,var in enumerate(lVV) if tt[i]==1]\n",
    "        print(lVaux2)\n",
    "        gbT=groebner(gb1,lVaux1+lVaux2)\n",
    "        print(gbT)\n",
    "        #print(removeBinomialsHavingVariables(gbT,lVaux1))\n",
    "        gbTAux=groebner( removeBinomialsHavingVariables(gbT,lVaux1) )\n",
    "        print(gbTAux)\n",
    "        ACTaux=ArchimedeanComponents(gbTAux)\n",
    "        print(ACTaux)\n",
    "        eqM=computeEquationsOfMFromGB(gbTAux)\n",
    "        print(\"equations\",eqM)\n",
    "        cone=Cone(equations=[l+[-a for a in l] for l in eqM])\n",
    "        base=cone.HilbertBasis()\n",
    "        print(\"base\",base)\n",
    "        print()\n",
    "\n",
    "        genInclAB=[g for g in base if supportIncluded(g[:tamGood],supportA) and supportIncluded(g[tamGood:],supportB)]    \n",
    "        print(genInclAB)\n",
    "        laux=[0 for i in range(tamGood)]\n",
    "        for tg in genInclAB:\n",
    "            supr=supreme( projection01(tg[:tamGood]), projection01(tg[tamGood:]) )\n",
    "            laux=supreme(supr,laux)\n",
    "        if laux==[1 for i in range(tamGood)]:\n",
    "            print(\"S has acceptable elasticity\")"
   ]
  },
  {
   "cell_type": "markdown",
   "id": "3afdac44",
   "metadata": {
    "heading_collapsed": true,
    "hidden": true
   },
   "source": [
    "### Example of how to use the function `hasAcceptableElasticity`"
   ]
  },
  {
   "cell_type": "code",
   "execution_count": 35,
   "id": "b9ad8a42",
   "metadata": {
    "hidden": true
   },
   "outputs": [
    {
     "data": {
      "text/latex": [
       "$\\displaystyle GroebnerBasis\\left(\\left( x_{1}^{4} - x_{2}^{3}, \\  x_{1}^{3} x_{2}^{3} z_{3}^{2} - z_{2}^{3}, \\  x_{1}^{3} z_{1} z_{2} - x_{2}^{2} z_{2}^{2}, \\  x_{1}^{3} z_{1} z_{3} - x_{2}^{2} z_{2} z_{3}, \\  x_{1}^{2} x_{2}^{3} z_{3}^{3} - z_{1}^{3} z_{3}, \\  x_{1}^{2} z_{1}^{2} z_{2} - x_{2} z_{2}^{3}, \\  x_{1}^{2} z_{1}^{2} z_{3} - x_{2} z_{2}^{2} z_{3}, \\  x_{1} x_{2}^{4} z_{3}^{2} - z_{1}^{2} z_{2}, \\  x_{1} z_{1}^{3} z_{2} - z_{2}^{4}, \\  x_{1} z_{1}^{3} z_{3} - z_{2}^{3} z_{3}, \\  x_{1} z_{2}^{2} - x_{2} z_{1} z_{2}, \\  x_{1} z_{2} z_{3} - x_{2} z_{1} z_{3}, \\  x_{2}^{5} z_{3}^{2} - z_{1} z_{2}^{2}, \\  x_{2}^{4} z_{2}^{3} z_{3}^{2} - z_{1}^{5} z_{2}, \\  x_{2}^{4} z_{2}^{2} z_{3}^{3} - z_{1}^{5} z_{3}, \\  x_{2}^{3} z_{2}^{7} z_{3}^{2} - z_{1}^{9} z_{2}, \\  x_{2}^{3} z_{2}^{6} z_{3}^{3} - z_{1}^{9} z_{3}, \\  x_{2}^{2} z_{2}^{11} z_{3}^{2} - z_{1}^{13} z_{2}, \\  x_{2}^{2} z_{2}^{10} z_{3}^{3} - z_{1}^{13} z_{3}, \\  x_{2} z_{1}^{4} z_{2} - z_{2}^{5}, \\  x_{2} z_{1}^{4} z_{3} - z_{2}^{4} z_{3}, \\  x_{2} z_{2}^{15} z_{3}^{2} - z_{1}^{17} z_{2}, \\  x_{2} z_{2}^{14} z_{3}^{3} - z_{1}^{17} z_{3}, \\  z_{1}^{21} z_{2} - z_{2}^{19} z_{3}^{2}, \\  z_{1}^{21} z_{3} - z_{2}^{18} z_{3}^{3}\\right), \\left( x_{1}, \\  x_{2}, \\  z_{1}, \\  z_{2}, \\  z_{3}\\right)\\right)$"
      ],
      "text/plain": [
       "             ⎛⎡  4     3    3   3   2     3    3           2   2    3         \n",
       "GroebnerBasis⎝⎣x₁  - x₂ , x₁ ⋅x₂ ⋅z₃  - z₂ , x₁ ⋅z₁⋅z₂ - x₂ ⋅z₂ , x₁ ⋅z₁⋅z₃ - \n",
       "\n",
       "  2          2   3   3     3       2   2           3    2   2           2     \n",
       "x₂ ⋅z₂⋅z₃, x₁ ⋅x₂ ⋅z₃  - z₁ ⋅z₃, x₁ ⋅z₁ ⋅z₂ - x₂⋅z₂ , x₁ ⋅z₁ ⋅z₃ - x₂⋅z₂ ⋅z₃, \n",
       "\n",
       "     4   2     2          3        4       3        3          2              \n",
       "x₁⋅x₂ ⋅z₃  - z₁ ⋅z₂, x₁⋅z₁ ⋅z₂ - z₂ , x₁⋅z₁ ⋅z₃ - z₂ ⋅z₃, x₁⋅z₂  - x₂⋅z₁⋅z₂, x\n",
       "\n",
       "                      5   2        2    4   3   2     5       4   2   3     5 \n",
       "₁⋅z₂⋅z₃ - x₂⋅z₁⋅z₃, x₂ ⋅z₃  - z₁⋅z₂ , x₂ ⋅z₂ ⋅z₃  - z₁ ⋅z₂, x₂ ⋅z₂ ⋅z₃  - z₁ ⋅\n",
       "\n",
       "      3   7   2     9       3   6   3     9       2   11   2     13       2   \n",
       "z₃, x₂ ⋅z₂ ⋅z₃  - z₁ ⋅z₂, x₂ ⋅z₂ ⋅z₃  - z₁ ⋅z₃, x₂ ⋅z₂  ⋅z₃  - z₁  ⋅z₂, x₂ ⋅z₂\n",
       "\n",
       "10   3     13          4        5       4        4          15   2     17     \n",
       "  ⋅z₃  - z₁  ⋅z₃, x₂⋅z₁ ⋅z₂ - z₂ , x₂⋅z₁ ⋅z₃ - z₂ ⋅z₃, x₂⋅z₂  ⋅z₃  - z₁  ⋅z₂, \n",
       "\n",
       "     14   3     17       21        19   2    21        18   3⎤                \n",
       "x₂⋅z₂  ⋅z₃  - z₁  ⋅z₃, z₁  ⋅z₂ - z₂  ⋅z₃ , z₁  ⋅z₃ - z₂  ⋅z₃ ⎦, x₁, x₂, z₁, z₂\n",
       "\n",
       "                         ⎞\n",
       ", z₃, domain=ℤ, order=lex⎠"
      ]
     },
     "metadata": {},
     "output_type": "display_data"
    }
   ],
   "source": [
    "gb=computationIS([3],[4],[6,12],[7,10,13],[0,3,6,9])\n",
    "#lprint(\"Groebner basis:\")\n",
    "#lprint(gb.args[0])\n",
    "#lprint(\"Variables used:\")\n",
    "#lprint(gb.args[1])\n",
    "display(gb)"
   ]
  },
  {
   "cell_type": "markdown",
   "id": "a4a4ef9a",
   "metadata": {},
   "source": [
    "## Examples"
   ]
  },
  {
   "cell_type": "markdown",
   "id": "8bbf658a",
   "metadata": {},
   "source": [
    "### Example 1"
   ]
  },
  {
   "cell_type": "code",
   "execution_count": 36,
   "id": "9897adc4",
   "metadata": {},
   "outputs": [
    {
     "data": {
      "text/latex": [
       "$\\displaystyle \\left[ 4, \\  7, \\  9, \\  10, \\  12, \\  13, \\  15, \\  18\\right]$"
      ],
      "text/plain": [
       "[4, 7, 9, 10, 12, 13, 15, 18]"
      ]
     },
     "metadata": {},
     "output_type": "display_data"
    },
    {
     "data": {
      "text/latex": [
       "$\\displaystyle \\left[ 2, \\  5, \\  7, \\  8, \\  10, \\  12, \\  13, \\  15, \\  18\\right]$"
      ],
      "text/plain": [
       "[2, 5, 7, 8, 10, 12, 13, 15, 18]"
      ]
     },
     "metadata": {},
     "output_type": "display_data"
    },
    {
     "data": {
      "text/latex": [
       "$\\displaystyle \\left[ 7, \\  10, \\  12, \\  13, \\  15, \\  17, \\  18, \\  20, \\  22, \\  23, \\  25, \\  27, \\  28, \\  30, \\  33\\right]$"
      ],
      "text/plain": [
       "[7, 10, 12, 13, 15, 17, 18, 20, 22, 23, 25, 27, 28, 30, 33]"
      ]
     },
     "metadata": {},
     "output_type": "display_data"
    },
    {
     "name": "stdout",
     "output_type": "stream",
     "text": [
      "\n"
     ]
    },
    {
     "data": {
      "text/latex": [
       "$\\displaystyle \\left[ 0, \\  3, \\  5, \\  6, \\  8, \\  9, \\  11, \\  14\\right]$"
      ],
      "text/plain": [
       "[0, 3, 5, 6, 8, 9, 11, 14]"
      ]
     },
     "metadata": {},
     "output_type": "display_data"
    },
    {
     "data": {
      "text/latex": [
       "$\\displaystyle \\left[ 0, \\  3, \\  5, \\  6, \\  8, \\  10, \\  11, \\  13, \\  16\\right]$"
      ],
      "text/plain": [
       "[0, 3, 5, 6, 8, 10, 11, 13, 16]"
      ]
     },
     "metadata": {},
     "output_type": "display_data"
    },
    {
     "name": "stdout",
     "output_type": "stream",
     "text": [
      "[[0, 3], [0, 5]]\n"
     ]
    },
    {
     "data": {
      "text/latex": [
       "$\\displaystyle GroebnerBasis\\left(\\left( x_{1}^{7} - x_{2}^{3}, \\  x_{1}^{6} z_{1}^{3} - x_{2}^{3} z_{2} z_{3}, \\  x_{1}^{5} z_{1}^{6} - x_{2}^{3} z_{2}^{2} z_{3}^{2}, \\  x_{1}^{4} z_{2}^{5} - z_{1}^{2} z_{3}^{2}, \\  x_{1}^{4} z_{3}^{3} - x_{2}^{3} z_{1} z_{2}^{4}, \\  x_{1}^{3} z_{1}^{2} z_{3}^{2} - x_{2}^{3} z_{2}^{5}, \\  x_{1}^{3} z_{1} z_{2}^{4} - z_{3}^{3}, \\  x_{1}^{2} z_{1}^{5} z_{3} - x_{2}^{3} z_{2}^{6}, \\  x_{1}^{2} z_{1}^{4} z_{2}^{3} - z_{3}^{4}, \\  x_{1} z_{1}^{8} - x_{2}^{3} z_{2}^{7}, \\  x_{1} z_{1}^{7} z_{2}^{2} - z_{3}^{5}, \\  x_{1} z_{2} z_{3} - z_{1}^{3}, \\  x_{1} z_{3}^{6} - x_{2}^{3} z_{1}^{2} z_{2}^{8}, \\  x_{2}^{3} z_{2}^{9} - z_{1} z_{3}^{5}, \\  x_{2}^{3} z_{2}^{8} z_{3} - z_{1}^{11}, \\  x_{2}^{3} z_{2}^{7} z_{3}^{7} - z_{1}^{21}, \\  x_{2}^{3} z_{2}^{6} z_{3}^{13} - z_{1}^{31}, \\  x_{2}^{3} z_{2}^{5} z_{3}^{19} - z_{1}^{41}, \\  x_{2}^{3} z_{2}^{4} z_{3}^{25} - z_{1}^{51}, \\  x_{2}^{3} z_{2}^{3} z_{3}^{31} - z_{1}^{61}, \\  x_{2}^{3} z_{2}^{2} z_{3}^{37} - z_{1}^{71}, \\  x_{2}^{3} z_{2} z_{3}^{43} - z_{1}^{81}, \\  x_{2}^{3} z_{3}^{49} - z_{1}^{91}, \\  z_{1}^{10} z_{2} - z_{3}^{6}\\right), \\left( x_{1}, \\  x_{2}, \\  z_{1}, \\  z_{2}, \\  z_{3}\\right)\\right)$"
      ],
      "text/plain": [
       "             ⎛⎡  7     3    6   3     3          5   6     3   2   2    4   5 \n",
       "GroebnerBasis⎝⎣x₁  - x₂ , x₁ ⋅z₁  - x₂ ⋅z₂⋅z₃, x₁ ⋅z₁  - x₂ ⋅z₂ ⋅z₃ , x₁ ⋅z₂  \n",
       "\n",
       "    2   2    4   3     3      4    3   2   2     3   5    3      4     3    2 \n",
       "- z₁ ⋅z₃ , x₁ ⋅z₃  - x₂ ⋅z₁⋅z₂ , x₁ ⋅z₁ ⋅z₃  - x₂ ⋅z₂ , x₁ ⋅z₁⋅z₂  - z₃ , x₁ ⋅\n",
       "\n",
       "  5        3   6    2   4   3     4       8     3   7       7   2     5       \n",
       "z₁ ⋅z₃ - x₂ ⋅z₂ , x₁ ⋅z₁ ⋅z₂  - z₃ , x₁⋅z₁  - x₂ ⋅z₂ , x₁⋅z₁ ⋅z₂  - z₃ , x₁⋅z₂\n",
       "\n",
       "        3       6     3   2   8    3   9        5    3   8        11    3   7 \n",
       "⋅z₃ - z₁ , x₁⋅z₃  - x₂ ⋅z₁ ⋅z₂ , x₂ ⋅z₂  - z₁⋅z₃ , x₂ ⋅z₂ ⋅z₃ - z₁  , x₂ ⋅z₂ ⋅\n",
       "\n",
       "  7     21    3   6   13     31    3   5   19     41    3   4   25     51    3\n",
       "z₃  - z₁  , x₂ ⋅z₂ ⋅z₃   - z₁  , x₂ ⋅z₂ ⋅z₃   - z₁  , x₂ ⋅z₂ ⋅z₃   - z₁  , x₂ \n",
       "\n",
       "   3   31     61    3   2   37     71    3      43     81    3   49     91    \n",
       "⋅z₂ ⋅z₃   - z₁  , x₂ ⋅z₂ ⋅z₃   - z₁  , x₂ ⋅z₂⋅z₃   - z₁  , x₂ ⋅z₃   - z₁  , z₁\n",
       "\n",
       "10        6⎤                                         ⎞\n",
       "  ⋅z₂ - z₃ ⎦, x₁, x₂, z₁, z₂, z₃, domain=ℤ, order=lex⎠"
      ]
     },
     "metadata": {},
     "output_type": "display_data"
    }
   ],
   "source": [
    "vc1=((3 |mult| [0,3]) |add| [0,5]) |add| [4] \n",
    "vc2=((2 |mult| [0,3]) |add| (2 |mult| [0,5])) |add| [2] \n",
    "vc3=((2 |mult| [0,3]) |add| (4 |mult| [0,5])) |add| [7] \n",
    "display(vc1)\n",
    "display(vc2)\n",
    "display(vc3)\n",
    "\n",
    "#gb=computationIS([7],[4, 7, 9, 10, 12, 13, 15, 18],[2, 5, 7, 8, 10, 12, 13, 15, 18],debug=True)\n",
    "print()\n",
    "display( ((3 |mult| [0,3]) |add| [0,5]) )\n",
    "display((2 |mult| [0,3]) |add| (2 |mult| [0,5]))\n",
    "\n",
    "gb=computationIS([3],[7],vc1,vc2,vc3,debug=True)\n",
    "display( gb )"
   ]
  },
  {
   "cell_type": "markdown",
   "id": "7d5eeef9",
   "metadata": {},
   "source": [
    "### Example 2"
   ]
  },
  {
   "cell_type": "code",
   "execution_count": 164,
   "id": "cb95f8aa",
   "metadata": {},
   "outputs": [
    {
     "data": {
      "text/latex": [
       "$\\displaystyle \\left[ 8, \\  12, \\  13, \\  16, \\  17, \\  18, \\  20, \\  21, \\  22, \\  25, \\  26, \\  30\\right]$"
      ],
      "text/plain": [
       "[8, 12, 13, 16, 17, 18, 20, 21, 22, 25, 26, 30]"
      ]
     },
     "execution_count": 164,
     "metadata": {},
     "output_type": "execute_result"
    }
   ],
   "source": [
    "( (3 |mult| [0,4]) |add| (2 |mult| [0,5]) ) |add| [8]"
   ]
  },
  {
   "cell_type": "code",
   "execution_count": null,
   "id": "0c94f1d0",
   "metadata": {},
   "outputs": [],
   "source": []
  },
  {
   "cell_type": "code",
   "execution_count": 165,
   "id": "b2c1a88e",
   "metadata": {},
   "outputs": [
    {
     "data": {
      "text/latex": [
       "$\\displaystyle \\left[ 7, \\  11, \\  12, \\  15, \\  16, \\  20\\right]$"
      ],
      "text/plain": [
       "[7, 11, 12, 15, 16, 20]"
      ]
     },
     "execution_count": 165,
     "metadata": {},
     "output_type": "execute_result"
    }
   ],
   "source": [
    "((2 |mult| [0,4]) |add| [0,5])|add| [7]"
   ]
  },
  {
   "cell_type": "code",
   "execution_count": 160,
   "id": "d0789170",
   "metadata": {},
   "outputs": [
    {
     "data": {
      "text/latex": [
       "$\\displaystyle \\left[ 0, \\  4, \\  5, \\  8, \\  9, \\  10, \\  12, \\  13, \\  14, \\  15, \\  17, \\  18, \\  19, \\  22, \\  23, \\  27\\right]$"
      ],
      "text/plain": [
       "[0, 4, 5, 8, 9, 10, 12, 13, 14, 15, 17, 18, 19, 22, 23, 27]"
      ]
     },
     "execution_count": 160,
     "metadata": {},
     "output_type": "execute_result"
    }
   ],
   "source": [
    "(3 |mult| [0,4]) |add| (3 |mult| [0,5])"
   ]
  },
  {
   "cell_type": "code",
   "execution_count": 166,
   "id": "73536e5b",
   "metadata": {},
   "outputs": [
    {
     "name": "stdout",
     "output_type": "stream",
     "text": [
      "No puedo calcular presentación\n"
     ]
    }
   ],
   "source": [
    "gb1=computationIS([8, 12, 13, 16, 17, 18, 20, 21, 22, 25, 26, 30],[7, 11, 12, 15, 16, 20])"
   ]
  },
  {
   "cell_type": "code",
   "execution_count": 163,
   "id": "57bd18d9",
   "metadata": {},
   "outputs": [
    {
     "data": {
      "text/latex": [
       "$\\displaystyle GroebnerBasis\\left(\\left( z_{1}^{4} z_{3}^{2} - z_{3}^{3} z_{4}, \\  z_{1}^{3} z_{2} z_{3} - z_{3}^{5}, \\  z_{1}^{3} z_{2} z_{4} - z_{3}^{4} z_{4}, \\  z_{1}^{3} z_{3} z_{4} - z_{2}^{2} z_{3}^{2}, \\  z_{1}^{2} z_{4}^{2} - z_{2} z_{3}^{4}, \\  z_{1} z_{2}^{2} - z_{4}^{2}, \\  z_{1} z_{3}^{3} - z_{2} z_{4}, \\  z_{1} z_{4}^{3} - z_{3}^{7}, \\  z_{2}^{3} - z_{3}^{3} z_{4}, \\  z_{2}^{2} z_{3}^{7} - z_{4}^{5}, \\  z_{2} z_{3}^{17} - z_{4}^{9}, \\  z_{2} z_{4}^{4} - z_{3}^{10}, \\  z_{3}^{27} - z_{4}^{13}\\right), \\left( z_{1}, \\  z_{2}, \\  z_{3}, \\  z_{4}\\right)\\right)$"
      ],
      "text/plain": [
       "             ⎛⎡  4   2     3       3           5    3           4       3     \n",
       "GroebnerBasis⎝⎣z₁ ⋅z₃  - z₃ ⋅z₄, z₁ ⋅z₂⋅z₃ - z₃ , z₁ ⋅z₂⋅z₄ - z₃ ⋅z₄, z₁ ⋅z₃⋅z\n",
       "\n",
       "      2   2    2   2        4       2     2       3               3     7    3\n",
       "₄ - z₂ ⋅z₃ , z₁ ⋅z₄  - z₂⋅z₃ , z₁⋅z₂  - z₄ , z₁⋅z₃  - z₂⋅z₄, z₁⋅z₄  - z₃ , z₂ \n",
       "\n",
       "     3       2   7     5       17     9       4     10    27     13⎤          \n",
       " - z₃ ⋅z₄, z₂ ⋅z₃  - z₄ , z₂⋅z₃   - z₄ , z₂⋅z₄  - z₃  , z₃   - z₄  ⎦, z₁, z₂, \n",
       "\n",
       "                           ⎞\n",
       "z₃, z₄, domain=ℤ, order=lex⎠"
      ]
     },
     "execution_count": 163,
     "metadata": {},
     "output_type": "execute_result"
    }
   ],
   "source": [
    "gb1"
   ]
  },
  {
   "cell_type": "code",
   "execution_count": null,
   "id": "c2fedf6c",
   "metadata": {},
   "outputs": [],
   "source": []
  },
  {
   "cell_type": "code",
   "execution_count": null,
   "id": "3dbb89dc",
   "metadata": {},
   "outputs": [],
   "source": []
  },
  {
   "cell_type": "code",
   "execution_count": null,
   "id": "ccc456eb",
   "metadata": {},
   "outputs": [],
   "source": [
    "gb1=computationIS([3],[4],[6,12],[7,10,13],[0,3,6,9])\n",
    "hasAcceptableElasticity(gb1)"
   ]
  },
  {
   "cell_type": "markdown",
   "id": "64034c2a",
   "metadata": {},
   "source": [
    "The monoid considered is $\\langle \\{3\\},\\{4\\},\\{6,12\\},\\{7,10,13\\},\\{0,3,6,9\\} \\rangle$"
   ]
  },
  {
   "cell_type": "code",
   "execution_count": 147,
   "id": "6b52e0d4",
   "metadata": {},
   "outputs": [
    {
     "name": "stdout",
     "output_type": "stream",
     "text": [
      "(x1, x2, z1, z2, z3) \n",
      "\n",
      "tam 10\n",
      "[1, 0, 0, 0, 1] [0, 0, 0, 1, 0]\n",
      "Good positions [0, 3, 4]\n",
      "supportA supportB [1, 0, 1] [0, 1, 0]\n",
      "[1, 0, 0, 1, 1]\n",
      "[x1, z2, z3]\n",
      "GroebnerBasis([-x1**4 + x2**3, x1**4*x2**2*z3**2 - z1*z2**2, -x1**3*z1*z2 + x2**2*z2**2, -x1**3*z1*z3 + x2**2*z2*z3, -x1*z2**2 + x2*z1*z2, -x1*z2*z3 + x2*z1*z3, x1**5*x2*z3**2 - z1**2*z2, -x1**2*z1**2*z2 + x2*z2**3, -x1**2*z1**2*z3 + x2*z2**2*z3, -x1**6*z2*z3**2 + z1**3*z2, -x1**6*z3**3 + z1**3*z3, x1**7*z3**2 - z2**3], x2, z1, x1, z2, z3, domain='ZZ', order='lex')\n",
      "GroebnerBasis([x1**7*z3**2 - z2**3], x1, z2, z3, domain='ZZ', order='lex')\n",
      "[[[0, 0, 0]], [[0, 0, 1]], [[0, 1, 0], [0, 1, 1], [1, 0, 1], [1, 1, 0], [1, 1, 1]], [[1, 0, 0]]]\n",
      "equations [[0, -2, -3], [1, -7, -14]]\n",
      "base [[0, 0, 1, 0, 0, 1], [0, 1, 0, 0, 1, 0], [0, 3, 0, 7, 0, 2], [1, 0, 0, 1, 0, 0], [7, 0, 2, 0, 3, 0]]\n",
      "\n",
      "[[7, 0, 2, 0, 3, 0]]\n",
      "S has acceptable elasticity\n"
     ]
    }
   ],
   "source": [
    "gb1=computationIS([3],[4],[6,12],[7,10,13],[0,3,6,9])\n",
    "hasAcceptableElasticity(gb1)"
   ]
  },
  {
   "cell_type": "code",
   "execution_count": 115,
   "id": "09c446e2",
   "metadata": {},
   "outputs": [
    {
     "data": {
      "text/plain": [
       "(Fraction(3, 1), [[7, 0, 0, 0, 2, 0, 0, 0, 3, 0]])"
      ]
     },
     "execution_count": 115,
     "metadata": {},
     "output_type": "execute_result"
    }
   ],
   "source": [
    "rho,lTElasticity=elasticity(gb1)\n",
    "rho,lTElasticity"
   ]
  },
  {
   "cell_type": "code",
   "execution_count": 116,
   "id": "93305bc2",
   "metadata": {},
   "outputs": [
    {
     "data": {
      "text/latex": [
       "$\\displaystyle \\left[ \\left[ \\left[ 0, \\  0, \\  0, \\  0, \\  0\\right]\\right], \\  \\left[ \\left[ 0, \\  0, \\  0, \\  0, \\  1\\right]\\right], \\  \\left[ \\left[ 0, \\  0, \\  0, \\  1, \\  0\\right], \\  \\left[ 0, \\  0, \\  0, \\  1, \\  1\\right], \\  \\left[ 0, \\  0, \\  1, \\  0, \\  1\\right], \\  \\left[ 0, \\  0, \\  1, \\  1, \\  0\\right], \\  \\left[ 0, \\  0, \\  1, \\  1, \\  1\\right], \\  \\left[ 0, \\  1, \\  0, \\  0, \\  1\\right], \\  \\left[ 0, \\  1, \\  0, \\  1, \\  0\\right], \\  \\left[ 0, \\  1, \\  0, \\  1, \\  1\\right], \\  \\left[ 0, \\  1, \\  1, \\  0, \\  1\\right], \\  \\left[ 0, \\  1, \\  1, \\  1, \\  0\\right], \\  \\left[ 0, \\  1, \\  1, \\  1, \\  1\\right], \\  \\left[ 1, \\  0, \\  0, \\  0, \\  1\\right], \\  \\left[ 1, \\  0, \\  0, \\  1, \\  0\\right], \\  \\left[ 1, \\  0, \\  0, \\  1, \\  1\\right], \\  \\left[ 1, \\  0, \\  1, \\  0, \\  1\\right], \\  \\left[ 1, \\  0, \\  1, \\  1, \\  0\\right], \\  \\left[ 1, \\  0, \\  1, \\  1, \\  1\\right], \\  \\left[ 1, \\  1, \\  0, \\  0, \\  1\\right], \\  \\left[ 1, \\  1, \\  0, \\  1, \\  0\\right], \\  \\left[ 1, \\  1, \\  0, \\  1, \\  1\\right], \\  \\left[ 1, \\  1, \\  1, \\  0, \\  1\\right], \\  \\left[ 1, \\  1, \\  1, \\  1, \\  0\\right], \\  \\left[ 1, \\  1, \\  1, \\  1, \\  1\\right]\\right], \\  \\left[ \\left[ 0, \\  0, \\  1, \\  0, \\  0\\right]\\right], \\  \\left[ \\left[ 0, \\  1, \\  0, \\  0, \\  0\\right], \\  \\left[ 1, \\  0, \\  0, \\  0, \\  0\\right], \\  \\left[ 1, \\  1, \\  0, \\  0, \\  0\\right]\\right], \\  \\left[ \\left[ 0, \\  1, \\  1, \\  0, \\  0\\right], \\  \\left[ 1, \\  0, \\  1, \\  0, \\  0\\right], \\  \\left[ 1, \\  1, \\  1, \\  0, \\  0\\right]\\right]\\right]$"
      ],
      "text/plain": [
       "[[[0, 0, 0, 0, 0]], [[0, 0, 0, 0, 1]], [[0, 0, 0, 1, 0], [0, 0, 0, 1, 1], [0, \n",
       "0, 1, 0, 1], [0, 0, 1, 1, 0], [0, 0, 1, 1, 1], [0, 1, 0, 0, 1], [0, 1, 0, 1, 0\n",
       "], [0, 1, 0, 1, 1], [0, 1, 1, 0, 1], [0, 1, 1, 1, 0], [0, 1, 1, 1, 1], [1, 0, \n",
       "0, 0, 1], [1, 0, 0, 1, 0], [1, 0, 0, 1, 1], [1, 0, 1, 0, 1], [1, 0, 1, 1, 0], \n",
       "[1, 0, 1, 1, 1], [1, 1, 0, 0, 1], [1, 1, 0, 1, 0], [1, 1, 0, 1, 1], [1, 1, 1, \n",
       "0, 1], [1, 1, 1, 1, 0], [1, 1, 1, 1, 1]], [[0, 0, 1, 0, 0]], [[0, 1, 0, 0, 0],\n",
       " [1, 0, 0, 0, 0], [1, 1, 0, 0, 0]], [[0, 1, 1, 0, 0], [1, 0, 1, 0, 0], [1, 1, \n",
       "1, 0, 0]]]"
      ]
     },
     "execution_count": 116,
     "metadata": {},
     "output_type": "execute_result"
    }
   ],
   "source": [
    "AC=ArchimedeanComponents(gb1)\n",
    "AC"
   ]
  },
  {
   "cell_type": "code",
   "execution_count": 117,
   "id": "59e24b73",
   "metadata": {},
   "outputs": [
    {
     "data": {
      "text/latex": [
       "$\\displaystyle \\left( \\left[ \\left[ 1, \\  0, \\  0, \\  0, \\  1, \\  0, \\  0, \\  0, \\  1, \\  0\\right]\\right], \\  \\left[ \\left[ 1, \\  0, \\  0, \\  1, \\  1\\right]\\right]\\right)$"
      ],
      "text/plain": [
       "([[1, 0, 0, 0, 1, 0, 0, 0, 1, 0]], [[1, 0, 0, 1, 1]])"
      ]
     },
     "execution_count": 117,
     "metadata": {},
     "output_type": "execute_result"
    }
   ],
   "source": [
    "Cmonoid,Caux=computationOfC(lTElasticity)\n",
    "Cmonoid,Caux"
   ]
  },
  {
   "cell_type": "code",
   "execution_count": 121,
   "id": "9d745b64",
   "metadata": {},
   "outputs": [
    {
     "data": {
      "text/latex": [
       "$\\displaystyle \\left[ \\left[ 1, \\  0, \\  0, \\  0, \\  1, \\  0, \\  0, \\  0, \\  1, \\  0\\right]\\right]$"
      ],
      "text/plain": [
       "[[1, 0, 0, 0, 1, 0, 0, 0, 1, 0]]"
      ]
     },
     "execution_count": 121,
     "metadata": {},
     "output_type": "execute_result"
    }
   ],
   "source": [
    "for cc in Cmonoid:\n",
    "    izq=cc[:len(cc)//2]\n",
    "    der=cc[len(cc)//2:]\n",
    "    tt=areInTheSameAC(izq,der,AC)\n",
    "tt\n",
    "Cset=[cc for cc in Cmonoid if areInTheSameAC(cc[:len(cc)//2],cc[len(cc)//2:],AC)]\n",
    "if Cset==[]:\n",
    "    print(\"S has not acceptable elasticity\")\n",
    "Cset"
   ]
  },
  {
   "cell_type": "code",
   "execution_count": 137,
   "id": "aea570f8",
   "metadata": {},
   "outputs": [
    {
     "name": "stdout",
     "output_type": "stream",
     "text": [
      "(x1, x2, z1, z2, z3) \n",
      "\n",
      "tam 10\n",
      "[1, 0, 0, 0, 1] [0, 0, 0, 1, 0]\n",
      "Good positions [0, 3, 4]\n",
      "supportA supportB [1, 0, 1] [0, 1, 0]\n",
      "[1, 0, 0, 1, 1]\n",
      "[x1, z2, z3]\n",
      "GroebnerBasis([-x1**4 + x2**3, x1**4*x2**2*z3**2 - z1*z2**2, -x1**3*z1*z2 + x2**2*z2**2, -x1**3*z1*z3 + x2**2*z2*z3, -x1*z2**2 + x2*z1*z2, -x1*z2*z3 + x2*z1*z3, x1**5*x2*z3**2 - z1**2*z2, -x1**2*z1**2*z2 + x2*z2**3, -x1**2*z1**2*z3 + x2*z2**2*z3, -x1**6*z2*z3**2 + z1**3*z2, -x1**6*z3**3 + z1**3*z3, x1**7*z3**2 - z2**3], x2, z1, x1, z2, z3, domain='ZZ', order='lex')\n",
      "GroebnerBasis([x1**7*z3**2 - z2**3], x1, z2, z3, domain='ZZ', order='lex')\n",
      "[[[0, 0, 0]], [[0, 0, 1]], [[0, 1, 0], [0, 1, 1], [1, 0, 1], [1, 1, 0], [1, 1, 1]], [[1, 0, 0]]]\n",
      "equations [[0, -2, -3], [1, -7, -14]]\n",
      "base [[0, 0, 1, 0, 0, 1], [0, 1, 0, 0, 1, 0], [0, 3, 0, 7, 0, 2], [1, 0, 0, 1, 0, 0], [7, 0, 2, 0, 3, 0]]\n",
      "\n",
      "[[7, 0, 2, 0, 3, 0]]\n",
      "S has acceptable elasticity\n"
     ]
    }
   ],
   "source": [
    "lVV=gb1.args[1]\n",
    "#gb3=groebner(gb2,)\n",
    "print(lVV,\"\\n\")\n",
    "for tt1 in Cset:\n",
    "    tam=len(cc)\n",
    "    print(\"tam\",tam)\n",
    "    izq=cc[:tam//2]\n",
    "    der=cc[tam//2:]\n",
    "    print(izq,der)\n",
    "    tt=supreme(izq,der)\n",
    "    \n",
    "    posIzq=[i for i,vp in enumerate(izq) if vp!=0]\n",
    "    posDer=[i for i,vp in enumerate(der) if vp!=0]\n",
    "    goodPos=posIzq+posDer\n",
    "    goodPos.sort()\n",
    "    tamGood=len(goodPos)\n",
    "    print(\"Good positions\",goodPos)\n",
    "    supportA=[izq[i] for i in goodPos]\n",
    "    supportB=[der[i] for i in goodPos]\n",
    "    print(\"supportA supportB\",supportA,supportB)\n",
    "    \n",
    "    #print(enumerate(lVV))\n",
    "    print(tt)\n",
    "    lVaux1=[var for i,var in enumerate(lVV) if tt[i]==0]\n",
    "    lVaux2=[var for i,var in enumerate(lVV) if tt[i]==1]\n",
    "    print(lVaux2)\n",
    "    gbT=groebner(gb1,lVaux1+lVaux2)\n",
    "    print(gbT)\n",
    "    #print(removeBinomialsHavingVariables(gbT,lVaux1))\n",
    "    gbTAux=groebner( removeBinomialsHavingVariables(gbT,lVaux1) )\n",
    "    print(gbTAux)\n",
    "    ACTaux=ArchimedeanComponents(gbTAux)\n",
    "    print(ACTaux)\n",
    "    eqM=computeEquationsOfMFromGB(gbTAux)\n",
    "    print(\"equations\",eqM)\n",
    "    cone=Cone(equations=[l+[-a for a in l] for l in eqM])\n",
    "    base=cone.HilbertBasis()\n",
    "    print(\"base\",base)\n",
    "    print()\n",
    "    \n",
    "    genInclAB=[g for g in base if supportIncluded(g[:tamGood],supportA) and supportIncluded(g[tamGood:],supportB)]    \n",
    "    print(genInclAB)\n",
    "    laux=[0 for i in range(tamGood)]\n",
    "    for tg in genInclAB:\n",
    "        supr=supreme( projection01(tg[:tamGood]), projection01(tg[tamGood:]) )\n",
    "        laux=supreme(supr,laux)\n",
    "    if laux==[1 for i in range(tamGood)]:\n",
    "        print(\"S has acceptable elasticity\")"
   ]
  },
  {
   "cell_type": "code",
   "execution_count": null,
   "id": "76b1d402",
   "metadata": {},
   "outputs": [],
   "source": []
  },
  {
   "cell_type": "markdown",
   "id": "a3c3ac5b",
   "metadata": {},
   "source": [
    "### Example of sumset monoid with acceptable elasticity"
   ]
  },
  {
   "cell_type": "code",
   "execution_count": null,
   "id": "1e568371",
   "metadata": {},
   "outputs": [],
   "source": []
  },
  {
   "cell_type": "markdown",
   "id": "a34520ee",
   "metadata": {},
   "source": [
    "In this example the monoid is $\\langle \\{3\\},\\{4\\},\\{6,12\\},\\{7,10,13\\} \\rangle$"
   ]
  },
  {
   "cell_type": "code",
   "execution_count": 138,
   "id": "f7a95837",
   "metadata": {},
   "outputs": [
    {
     "data": {
      "text/latex": [
       "$\\displaystyle GroebnerBasis\\left(\\left( x_{1}^{4} - x_{2}^{3}, \\  x_{1}^{3} z_{1} z_{2} - x_{2}^{2} z_{2}^{2}, \\  x_{1}^{2} z_{1}^{2} z_{2} - x_{2} z_{2}^{3}, \\  x_{1} z_{1}^{3} z_{2} - z_{2}^{4}, \\  x_{1} z_{2}^{2} - x_{2} z_{1} z_{2}, \\  x_{2} z_{1}^{4} z_{2} - z_{2}^{5}\\right), \\left( x_{1}, \\  x_{2}, \\  z_{1}, \\  z_{2}\\right)\\right)$"
      ],
      "text/plain": [
       "             ⎛⎡  4     3    3           2   2    2   2           3       3    \n",
       "GroebnerBasis⎝⎣x₁  - x₂ , x₁ ⋅z₁⋅z₂ - x₂ ⋅z₂ , x₁ ⋅z₁ ⋅z₂ - x₂⋅z₂ , x₁⋅z₁ ⋅z₂ \n",
       "\n",
       "    4       2                  4        5⎤                                    \n",
       "- z₂ , x₁⋅z₂  - x₂⋅z₁⋅z₂, x₂⋅z₁ ⋅z₂ - z₂ ⎦, x₁, x₂, z₁, z₂, domain=ℤ, order=le\n",
       "\n",
       " ⎞\n",
       "x⎠"
      ]
     },
     "execution_count": 138,
     "metadata": {},
     "output_type": "execute_result"
    }
   ],
   "source": [
    "gb1=computationIS([3],[4],[6,12],[7,10,13])\n",
    "gb1"
   ]
  },
  {
   "cell_type": "code",
   "execution_count": 139,
   "id": "365e0f84",
   "metadata": {},
   "outputs": [
    {
     "data": {
      "text/plain": [
       "(Fraction(4, 3),\n",
       " [[1, 0, 3, 0, 0, 0, 0, 3],\n",
       "  [2, 0, 2, 0, 0, 1, 0, 2],\n",
       "  [3, 0, 1, 0, 0, 2, 0, 1],\n",
       "  [4, 0, 0, 0, 0, 3, 0, 0]])"
      ]
     },
     "execution_count": 139,
     "metadata": {},
     "output_type": "execute_result"
    }
   ],
   "source": [
    "rho,lTElasticity=elasticity(gb1)\n",
    "rho,lTElasticity"
   ]
  },
  {
   "cell_type": "code",
   "execution_count": 140,
   "id": "0c378bf4",
   "metadata": {},
   "outputs": [
    {
     "data": {
      "text/latex": [
       "$\\displaystyle \\left[ \\left[ \\left[ 0, \\  0, \\  0, \\  0\\right]\\right], \\  \\left[ \\left[ 0, \\  0, \\  0, \\  1\\right], \\  \\left[ 0, \\  0, \\  1, \\  1\\right], \\  \\left[ 0, \\  1, \\  0, \\  1\\right], \\  \\left[ 0, \\  1, \\  1, \\  1\\right], \\  \\left[ 1, \\  0, \\  0, \\  1\\right], \\  \\left[ 1, \\  0, \\  1, \\  1\\right], \\  \\left[ 1, \\  1, \\  0, \\  1\\right], \\  \\left[ 1, \\  1, \\  1, \\  1\\right]\\right], \\  \\left[ \\left[ 0, \\  0, \\  1, \\  0\\right]\\right], \\  \\left[ \\left[ 0, \\  1, \\  0, \\  0\\right], \\  \\left[ 1, \\  0, \\  0, \\  0\\right], \\  \\left[ 1, \\  1, \\  0, \\  0\\right]\\right], \\  \\left[ \\left[ 0, \\  1, \\  1, \\  0\\right], \\  \\left[ 1, \\  0, \\  1, \\  0\\right], \\  \\left[ 1, \\  1, \\  1, \\  0\\right]\\right]\\right]$"
      ],
      "text/plain": [
       "[[[0, 0, 0, 0]], [[0, 0, 0, 1], [0, 0, 1, 1], [0, 1, 0, 1], [0, 1, 1, 1], [1, \n",
       "0, 0, 1], [1, 0, 1, 1], [1, 1, 0, 1], [1, 1, 1, 1]], [[0, 0, 1, 0]], [[0, 1, 0\n",
       ", 0], [1, 0, 0, 0], [1, 1, 0, 0]], [[0, 1, 1, 0], [1, 0, 1, 0], [1, 1, 1, 0]]]"
      ]
     },
     "execution_count": 140,
     "metadata": {},
     "output_type": "execute_result"
    }
   ],
   "source": [
    "AC=ArchimedeanComponents(gb1)\n",
    "AC"
   ]
  },
  {
   "cell_type": "code",
   "execution_count": 141,
   "id": "07de9f54",
   "metadata": {},
   "outputs": [
    {
     "data": {
      "text/latex": [
       "$\\displaystyle \\left( \\left[ \\left[ 1, \\  0, \\  1, \\  0, \\  0, \\  0, \\  0, \\  1\\right], \\  \\left[ 1, \\  0, \\  1, \\  0, \\  0, \\  1, \\  0, \\  1\\right], \\  \\left[ 1, \\  0, \\  0, \\  0, \\  0, \\  1, \\  0, \\  0\\right]\\right], \\  \\left[ \\left[ 1, \\  0, \\  1, \\  1\\right], \\  \\left[ 1, \\  1, \\  1, \\  1\\right], \\  \\left[ 1, \\  1, \\  0, \\  0\\right]\\right]\\right)$"
      ],
      "text/plain": [
       "([[1, 0, 1, 0, 0, 0, 0, 1], [1, 0, 1, 0, 0, 1, 0, 1], [1, 0, 0, 0, 0, 1, 0, 0]\n",
       "], [[1, 0, 1, 1], [1, 1, 1, 1], [1, 1, 0, 0]])"
      ]
     },
     "execution_count": 141,
     "metadata": {},
     "output_type": "execute_result"
    }
   ],
   "source": [
    "Cmonoid,Caux=computationOfC(lTElasticity)\n",
    "Cmonoid,Caux"
   ]
  },
  {
   "cell_type": "code",
   "execution_count": 142,
   "id": "2f059733",
   "metadata": {},
   "outputs": [
    {
     "data": {
      "text/latex": [
       "$\\displaystyle \\left[ \\left[ 1, \\  0, \\  0, \\  0, \\  0, \\  1, \\  0, \\  0\\right]\\right]$"
      ],
      "text/plain": [
       "[[1, 0, 0, 0, 0, 1, 0, 0]]"
      ]
     },
     "execution_count": 142,
     "metadata": {},
     "output_type": "execute_result"
    }
   ],
   "source": [
    "for cc in Cmonoid:\n",
    "    izq=cc[:len(cc)//2]\n",
    "    der=cc[len(cc)//2:]\n",
    "    tt=areInTheSameAC(izq,der,AC)\n",
    "tt\n",
    "Cset=[cc for cc in Cmonoid if areInTheSameAC(cc[:len(cc)//2],cc[len(cc)//2:],AC)]\n",
    "if Cset==[]:\n",
    "    print(\"S has not acceptable elasticity\")\n",
    "Cset"
   ]
  },
  {
   "cell_type": "code",
   "execution_count": 143,
   "id": "f24ff519",
   "metadata": {},
   "outputs": [
    {
     "name": "stdout",
     "output_type": "stream",
     "text": [
      "(x1, x2, z1, z2) \n",
      "\n",
      "tam 8\n",
      "[1, 0, 0, 0] [0, 1, 0, 0]\n",
      "Good positions [0, 1]\n",
      "supportA supportB [1, 0] [0, 1]\n",
      "[1, 1, 0, 0]\n",
      "[x1, x2]\n",
      "GroebnerBasis([x1*z1**3*z2 - z2**4, x1**2*z1**2*z2 - x2*z2**3, x1**3*z1*z2 - x2**2*z2**2, -x1*z2**2 + x2*z1*z2, x1**4 - x2**3], z1, z2, x1, x2, domain='ZZ', order='lex')\n",
      "GroebnerBasis([x1**4 - x2**3], x1, x2, domain='ZZ', order='lex')\n",
      "[[[0, 0]], [[0, 1], [1, 0], [1, 1]]]\n",
      "equations [[3, 4]]\n",
      "base [[0, 1, 0, 1], [0, 3, 4, 0], [1, 0, 1, 0], [4, 0, 0, 3]]\n",
      "\n",
      "[[4, 0, 0, 3]]\n",
      "S has acceptable elasticity\n"
     ]
    }
   ],
   "source": [
    "lVV=gb1.args[1]\n",
    "#gb3=groebner(gb2,)\n",
    "print(lVV,\"\\n\")\n",
    "for tt1 in Cset:\n",
    "    tam=len(cc)\n",
    "    print(\"tam\",tam)\n",
    "    izq=cc[:tam//2]\n",
    "    der=cc[tam//2:]\n",
    "    print(izq,der)\n",
    "    tt=supreme(izq,der)\n",
    "    \n",
    "    posIzq=[i for i,vp in enumerate(izq) if vp!=0]\n",
    "    posDer=[i for i,vp in enumerate(der) if vp!=0]\n",
    "    goodPos=posIzq+posDer\n",
    "    goodPos.sort()\n",
    "    tamGood=len(goodPos)\n",
    "    print(\"Good positions\",goodPos)\n",
    "    supportA=[izq[i] for i in goodPos]\n",
    "    supportB=[der[i] for i in goodPos]\n",
    "    print(\"supportA supportB\",supportA,supportB)\n",
    "    \n",
    "    #print(enumerate(lVV))\n",
    "    print(tt)\n",
    "    lVaux1=[var for i,var in enumerate(lVV) if tt[i]==0]\n",
    "    lVaux2=[var for i,var in enumerate(lVV) if tt[i]==1]\n",
    "    print(lVaux2)\n",
    "    gbT=groebner(gb1,lVaux1+lVaux2)\n",
    "    print(gbT)\n",
    "    #print(removeBinomialsHavingVariables(gbT,lVaux1))\n",
    "    gbTAux=groebner( removeBinomialsHavingVariables(gbT,lVaux1) )\n",
    "    print(gbTAux)\n",
    "    ACTaux=ArchimedeanComponents(gbTAux)\n",
    "    print(ACTaux)\n",
    "    eqM=computeEquationsOfMFromGB(gbTAux)\n",
    "    print(\"equations\",eqM)\n",
    "    cone=Cone(equations=[l+[-a for a in l] for l in eqM])\n",
    "    base=cone.HilbertBasis()\n",
    "    print(\"base\",base)\n",
    "    print()\n",
    "    \n",
    "    genInclAB=[g for g in base if supportIncluded(g[:tamGood],supportA) and supportIncluded(g[tamGood:],supportB)]    \n",
    "    print(genInclAB)\n",
    "    laux=[0 for i in range(tamGood)]\n",
    "    for tg in genInclAB:\n",
    "        supr=supreme( projection01(tg[:tamGood]), projection01(tg[tamGood:]) )\n",
    "        laux=supreme(supr,laux)\n",
    "    if laux==[1 for i in range(tamGood)]:\n",
    "        print(\"S has acceptable elasticity\")"
   ]
  },
  {
   "cell_type": "markdown",
   "id": "8374910d",
   "metadata": {},
   "source": [
    "----"
   ]
  },
  {
   "cell_type": "code",
   "execution_count": 256,
   "id": "343a0706",
   "metadata": {},
   "outputs": [
    {
     "name": "stdout",
     "output_type": "stream",
     "text": [
      "\\{ 4, 0, 0, 0, 0, 0, 3, 0, 0, 0 \\},\n",
      "\\{ 0, 0, 0, 3, 0, 3, 3, 0, 0, 2 \\},\n",
      "\\{ 0, 2, 0, 2, 0, 3, 0, 1, 1, 0 \\},\n",
      "\\{ 3, 0, 1, 0, 1, 0, 2, 0, 1, 1 \\},\n",
      "\\{ 0, 0, 3, 0, 1, 2, 3, 0, 0, 3 \\},\n",
      "\\{ 0, 1, 0, 3, 0, 2, 0, 2, 1, 0 \\},\n",
      "\\{ 2, 0, 2, 0, 1, 0, 1, 0, 2, 1 \\},\n",
      "\\{ 0, 0, 2, 1, 0, 1, 4, 0, 0, 2 \\},\n",
      "\\{ 0, 0, 0, 4, 0, 1, 0, 3, 1, 0 \\},\n",
      "\\{ 0, 0, 0, 3, 1, 1, 0, 3, 0, 1 \\},\n",
      "\\{ 1, 0, 0, 2, 0, 0, 1, 1, 1, 0 \\},\n",
      "\\{ 1, 0, 0, 1, 1, 0, 1, 1, 0, 1 \\},\n",
      "\\{ 0, 5, 0, 0, 2, 0, 0, 1, 2, 0 \\},\n",
      "\\{ 0, 0, 5, 1, 0, 0, 4, 0, 3, 2 \\},\n",
      "\\{ 0, 0, 5, 0, 1, 0, 4, 0, 2, 3 \\},\n",
      "\\{ 0, 0, 9, 1, 0, 0, 3, 0, 7, 2 \\},\n",
      "\\{ 0, 0, 9, 0, 1, 0, 3, 0, 6, 3 \\},\n",
      "\\{ 0, 0, 13, 1, 0, 0, 2, 0, 11, 2 \\},\n",
      "\\{ 0, 0, 13, 0, 1, 0, 2, 0, 10, 3 \\},\n",
      "\\{ 0, 0, 0, 5, 0, 0, 1, 4, 1, 0 \\},\n",
      "\\{ 0, 0, 0, 4, 1, 0, 1, 4, 0, 1 \\},\n",
      "\\{ 0, 0, 17, 1, 0, 0, 1, 0, 15, 2 \\},\n",
      "\\{ 0, 0, 17, 0, 1, 0, 1, 0, 14, 3 \\},\n",
      "\\{ 0, 0, 21, 1, 0, 0, 0, 0, 19, 2 \\},\n",
      "\\{ 0, 0, 21, 0, 1, 0, 0, 0, 18, 3 \\},\n"
     ]
    }
   ],
   "source": [
    "tuplas=[binomio2Zn(p,[x1,x2,z1,z2,z3]) for p in gb1]\n",
    "for tp1,tp2 in tuplas:\n",
    "    print(\"\\{ \"+str(tp1)[1:-1]+\", \"+str(tp2)[1:-1]+\" \\},\")"
   ]
  },
  {
   "cell_type": "code",
   "execution_count": 262,
   "id": "e1958092",
   "metadata": {},
   "outputs": [
    {
     "data": {
      "text/latex": [
       "$\\displaystyle \\left[ \\right]$"
      ],
      "text/plain": [
       "[]"
      ]
     },
     "execution_count": 262,
     "metadata": {},
     "output_type": "execute_result"
    }
   ],
   "source": [
    "c1=Cone(equations=[[-3,-4,2,1,12],[-6,-8,2,0,21]])\n",
    "c1.HilbertBasis()"
   ]
  },
  {
   "cell_type": "code",
   "execution_count": 285,
   "id": "aa6601ad",
   "metadata": {},
   "outputs": [
    {
     "data": {
      "text/latex": [
       "$\\displaystyle \\left[ 1, \\  0, \\  1, \\  0, \\  0, \\  1\\right]$"
      ],
      "text/plain": [
       "[1, 0, 1, 0, 0, 1]"
      ]
     },
     "execution_count": 285,
     "metadata": {},
     "output_type": "execute_result"
    }
   ],
   "source": []
  },
  {
   "cell_type": "code",
   "execution_count": 359,
   "id": "28a889a2",
   "metadata": {},
   "outputs": [],
   "source": []
  },
  {
   "cell_type": "code",
   "execution_count": 427,
   "id": "b3ae4587",
   "metadata": {
    "scrolled": false
   },
   "outputs": [
    {
     "data": {
      "text/latex": [
       "$\\displaystyle \\left[ \\left[ \\left[ 0, \\  0, \\  0\\right]\\right], \\  \\left[ \\left[ 0, \\  0, \\  1\\right], \\  \\left[ 0, \\  1, \\  0\\right], \\  \\left[ 0, \\  1, \\  1\\right], \\  \\left[ 1, \\  0, \\  0\\right], \\  \\left[ 1, \\  0, \\  1\\right], \\  \\left[ 1, \\  1, \\  0\\right], \\  \\left[ 1, \\  1, \\  1\\right]\\right]\\right]$"
      ],
      "text/plain": [
       "[[[0, 0, 0]], [[0, 0, 1], [0, 1, 0], [0, 1, 1], [1, 0, 0], [1, 0, 1], [1, 1, 0\n",
       "], [1, 1, 1]]]"
      ]
     },
     "execution_count": 427,
     "metadata": {},
     "output_type": "execute_result"
    }
   ],
   "source": [
    "AC=ArchimedeanComponents([x2-x3**2,x1-x2**5],[x1,x2,x3])\n",
    "AC"
   ]
  },
  {
   "cell_type": "code",
   "execution_count": null,
   "id": "1e481330",
   "metadata": {},
   "outputs": [],
   "source": []
  },
  {
   "cell_type": "code",
   "execution_count": 428,
   "id": "f74149fb",
   "metadata": {
    "scrolled": false
   },
   "outputs": [
    {
     "name": "stdout",
     "output_type": "stream",
     "text": [
      "[[[0, 0, 0, 0, 0]], [[0, 0, 0, 0, 1]], [[0, 0, 0, 1, 0], [0, 0, 0, 1, 1], [0, 0, 1, 0, 1], [0, 0, 1, 1, 0], [0, 0, 1, 1, 1], [0, 1, 0, 0, 1], [0, 1, 0, 1, 0], [0, 1, 0, 1, 1], [0, 1, 1, 0, 1], [0, 1, 1, 1, 0], [0, 1, 1, 1, 1], [1, 0, 0, 0, 1], [1, 0, 0, 1, 0], [1, 0, 0, 1, 1], [1, 0, 1, 0, 1], [1, 0, 1, 1, 0], [1, 0, 1, 1, 1], [1, 1, 0, 0, 1], [1, 1, 0, 1, 0], [1, 1, 0, 1, 1], [1, 1, 1, 0, 1], [1, 1, 1, 1, 0], [1, 1, 1, 1, 1]], [[0, 0, 1, 0, 0]], [[0, 1, 0, 0, 0], [1, 0, 0, 0, 0], [1, 1, 0, 0, 0]], [[0, 1, 1, 0, 0], [1, 0, 1, 0, 0], [1, 1, 1, 0, 0]]]\n"
     ]
    }
   ],
   "source": [
    "gb1\n",
    "AC=ArchimedeanComponents(gb1,[x1,x2,z1,z2,z3])\n",
    "print(AC)"
   ]
  },
  {
   "cell_type": "code",
   "execution_count": 472,
   "id": "06ea610c",
   "metadata": {},
   "outputs": [
    {
     "name": "stdout",
     "output_type": "stream",
     "text": [
      "Generators of the ideal I_S [x1**4 - x2**3, x1**3*x2**3*z3**2 - z2**3, x1**3*z1*z2 - x2**2*z2**2, x1**3*z1*z3 - x2**2*z2*z3, x1**2*x2**3*z3**3 - z1**3*z3, x1**2*z1**2*z2 - x2*z2**3, x1**2*z1**2*z3 - x2*z2**2*z3, x1*x2**4*z3**2 - z1**2*z2, x1*z1**3*z2 - z2**4, x1*z1**3*z3 - z2**3*z3, x1*z2**2 - x2*z1*z2, x1*z2*z3 - x2*z1*z3, x2**5*z3**2 - z1*z2**2, x2**4*z2**3*z3**2 - z1**5*z2, x2**4*z2**2*z3**3 - z1**5*z3, x2**3*z2**7*z3**2 - z1**9*z2, x2**3*z2**6*z3**3 - z1**9*z3, x2**2*z2**11*z3**2 - z1**13*z2, x2**2*z2**10*z3**3 - z1**13*z3, x2*z1**4*z2 - z2**5, x2*z1**4*z3 - z2**4*z3, x2*z2**15*z3**2 - z1**17*z2, x2*z2**14*z3**3 - z1**17*z3, z1**21*z2 - z2**19*z3**2, z1**21*z3 - z2**18*z3**3]\n",
      "Order of variables: [x1, z2, z3, x2, z1]\n",
      "Equations of M\n",
      "Matrix([[0, 0, -2, -2, -3], [3, 4, -16, -15, -33]]) \n",
      "\n",
      "rho 3\n",
      "Relations of ~M that reach the elasticity: [[7, 0, 0, 0, 2, 0, 0, 0, 3, 0]]\n",
      "Archimedean components of S:\n",
      "0 --> [[0, 0, 0, 0, 0]]\n",
      "1 --> [[0, 0, 0, 0, 1]]\n",
      "2 --> [[0, 0, 0, 1, 0], [0, 0, 0, 1, 1], [0, 0, 1, 0, 1], [0, 0, 1, 1, 0], [0, 0, 1, 1, 1], [0, 1, 0, 0, 1], [0, 1, 0, 1, 0], [0, 1, 0, 1, 1], [0, 1, 1, 0, 1], [0, 1, 1, 1, 0], [0, 1, 1, 1, 1], [1, 0, 0, 0, 1], [1, 0, 0, 1, 0], [1, 0, 0, 1, 1], [1, 0, 1, 0, 1], [1, 0, 1, 1, 0], [1, 0, 1, 1, 1], [1, 1, 0, 0, 1], [1, 1, 0, 1, 0], [1, 1, 0, 1, 1], [1, 1, 1, 0, 1], [1, 1, 1, 1, 0], [1, 1, 1, 1, 1]]\n",
      "3 --> [[0, 0, 1, 0, 0]]\n",
      "4 --> [[0, 1, 0, 0, 0], [1, 0, 0, 0, 0], [1, 1, 0, 0, 0]]\n",
      "5 --> [[0, 1, 1, 0, 0], [1, 0, 1, 0, 0], [1, 1, 1, 0, 0]]\n"
     ]
    }
   ],
   "source": [
    "gb=computationIS([3],[4],[6,12],[7,10,13],[0,3,6,9])\n",
    "print(\"Generators of the ideal I_S\",gb)\n",
    "lVariables=[x1, x2, z1, z2, z3]\n",
    "rho,lTElasticity=elasticity(gb,lVariables,verbose=True)\n",
    "print(\"rho\",rho)\n",
    "print(\"Relations of ~M that reach the elasticity:\",lTElasticity)\n",
    "AC=ArchimedeanComponents(gb1,[x1, x2, z1, z2, z3])\n",
    "print(\"Archimedean components of S:\")\n",
    "for i,arch in enumerate(AC):\n",
    "    print(i,\"-->\",arch)"
   ]
  },
  {
   "cell_type": "code",
   "execution_count": 469,
   "id": "1aa954e4",
   "metadata": {},
   "outputs": [
    {
     "name": "stdout",
     "output_type": "stream",
     "text": [
      "-x1**3*x2**3*z3**2 + z2**3\n",
      "-x1**2*z1**2*z3 + x2*z2**2*z3\n",
      "x1*z2**2 - x2*z1*z2\n",
      "-x1**3*z1*z2 + x2**2*z2**2\n",
      "-x2**5*z3**2 + z1*z2**2\n",
      "x1*z2*z3 - x2*z1*z3\n",
      "-x1**3*z1*z3 + x2**2*z2*z3\n",
      "-x1*x2**4*z3**2 + z1**2*z2\n",
      "x1**2*x2**3*z3**3 - z1**3*z3\n",
      "-x1**2*z1**3*z3 + x2**6*z3**3\n",
      "x1**4 - x2**3\n",
      "---\n"
     ]
    }
   ],
   "source": [
    "ggb=groebner(gb,[z2,z3,x1,x2,z1])\n",
    "for p in ggb:\n",
    "    print(p)\n",
    "print(\"---\")\n",
    "ggb1=removeBinomialsHavingVariables(ggb,[x2,z1])\n",
    "for p in ggb1:\n",
    "    print(p)"
   ]
  },
  {
   "cell_type": "code",
   "execution_count": null,
   "id": "038cf446",
   "metadata": {},
   "outputs": [],
   "source": []
  }
 ],
 "metadata": {
  "kernelspec": {
   "display_name": "Python 3",
   "language": "python",
   "name": "python3"
  },
  "language_info": {
   "codemirror_mode": {
    "name": "ipython",
    "version": 3
   },
   "file_extension": ".py",
   "mimetype": "text/x-python",
   "name": "python",
   "nbconvert_exporter": "python",
   "pygments_lexer": "ipython3",
   "version": "3.8.5"
  },
  "latex_envs": {
   "LaTeX_envs_menu_present": true,
   "autoclose": false,
   "autocomplete": true,
   "bibliofile": "biblio.bib",
   "cite_by": "apalike",
   "current_citInitial": 1,
   "eqLabelWithNumbers": true,
   "eqNumInitial": 1,
   "hotkeys": {
    "equation": "Ctrl-E",
    "itemize": "Ctrl-I"
   },
   "labels_anchors": false,
   "latex_user_defs": false,
   "report_style_numbering": false,
   "user_envs_cfg": false
  }
 },
 "nbformat": 4,
 "nbformat_minor": 5
}

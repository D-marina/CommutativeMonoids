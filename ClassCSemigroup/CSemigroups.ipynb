{
 "cells": [
  {
   "cell_type": "code",
   "execution_count": 1,
   "metadata": {},
   "outputs": [],
   "source": [
    "import CharacterizingAffineCSemigroup\n",
    "from CharacterizingAffineCSemigroup import *"
   ]
  },
  {
   "cell_type": "code",
   "execution_count": 2,
   "metadata": {},
   "outputs": [],
   "source": [
    "gen0 = [[4,0],[3,0],[5,0],[5,5],[2,2],[3,3],[4,3],[5,3],[5,1],[6,1],[7,1],[5,4]]"
   ]
  },
  {
   "cell_type": "code",
   "execution_count": 3,
   "metadata": {},
   "outputs": [
    {
     "data": {
      "text/plain": [
       "True"
      ]
     },
     "execution_count": 3,
     "metadata": {},
     "output_type": "execute_result"
    }
   ],
   "source": [
    "IsCsemigroup(gen0)"
   ]
  },
  {
   "cell_type": "code",
   "execution_count": 4,
   "metadata": {},
   "outputs": [
    {
     "data": {
      "text/latex": [
       "$$\\left [ \\left [ 1, \\quad 0\\right ], \\quad \\left [ 1, \\quad 1\\right ]\\right ]$$"
      ],
      "text/plain": [
       "[[1, 0], [1, 1]]"
      ]
     },
     "execution_count": 4,
     "metadata": {},
     "output_type": "execute_result"
    }
   ],
   "source": [
    "C0 = Cone(cone=gen0)\n",
    "rayos0 = C0.ExtremeRays()\n",
    "rayos0"
   ]
  },
  {
   "cell_type": "code",
   "execution_count": 5,
   "metadata": {},
   "outputs": [],
   "source": [
    "# Calculamos la multiplicidad en cada rayo.\n",
    "# INPUT:\n",
    "#   - ray: rayo del cono.\n",
    "#   - smg: sistema minimal de generadores.\n",
    "# OUTPUT:\n",
    "#   - Elemento minimal en el rayo.\n",
    "def MultiplicityAxis(ray,smg):\n",
    "    multiplicity = []\n",
    "    for x in smg:\n",
    "        aux = BelongAxis(x,ray)\n",
    "        if aux != 0:\n",
    "            multiplicity.append([aux,x])\n",
    "    return sorted(multiplicity)[0][1]"
   ]
  },
  {
   "cell_type": "code",
   "execution_count": 6,
   "metadata": {},
   "outputs": [
    {
     "data": {
      "text/latex": [
       "$$\\left [ 3, \\quad 0\\right ]$$"
      ],
      "text/plain": [
       "[3, 0]"
      ]
     },
     "execution_count": 6,
     "metadata": {},
     "output_type": "execute_result"
    }
   ],
   "source": [
    "MultiplicityAxis([1,0],gen0)"
   ]
  },
  {
   "cell_type": "code",
   "execution_count": 7,
   "metadata": {},
   "outputs": [],
   "source": [
    "# Calculamos el diamante entero de las multiplicidades.\n",
    "# INPUT:\n",
    "#   - cone: rayos del cono.\n",
    "#   - smg: sistema minimal de generadores.\n",
    "# OUTPUT:\n",
    "#   - diamante entero de las multiplicidades\n",
    "def DiamondMultiplicity(cone,smg):\n",
    "    extremos = []\n",
    "    for ray in cone:\n",
    "        extremos.append(MultiplicityAxis(ray,smg))\n",
    "    diamante = Diamond(extremos)\n",
    "    hull = ConvexHull(diamante)\n",
    "    eq = [list(x) for x in hull.equations]\n",
    "    cotas = Cube(diamante)\n",
    "    return IntegerDiamond(eq,cotas)"
   ]
  },
  {
   "cell_type": "code",
   "execution_count": 8,
   "metadata": {},
   "outputs": [],
   "source": [
    "d=DiamondMultiplicity([[1,0],[1,1]],gen0)"
   ]
  },
  {
   "cell_type": "code",
   "execution_count": 9,
   "metadata": {},
   "outputs": [],
   "source": [
    "# Ecuaciones de un rayo.\n",
    "eq = EqRay([1,0],[2,1])"
   ]
  },
  {
   "cell_type": "code",
   "execution_count": 10,
   "metadata": {},
   "outputs": [],
   "source": [
    "# Borramos elementos repetidos.\n",
    "# INPUT:\n",
    "#   - v: vector de entrada.\n",
    "# OUTPUT:\n",
    "#   - vector v sin elementos de entrada.\n",
    "def DeleteDuplicates(v):\n",
    "    w = []\n",
    "    for i in range(len(v)):\n",
    "        if v[i] not in w:\n",
    "            w.append(v[i])\n",
    "    return w"
   ]
  },
  {
   "cell_type": "code",
   "execution_count": 11,
   "metadata": {},
   "outputs": [
    {
     "data": {
      "text/latex": [
       "$$\\left [ \\left [ 1\\right ], \\quad \\left [ 2\\right ]\\right ]$$"
      ],
      "text/plain": [
       "[[1], [2]]"
      ]
     },
     "execution_count": 11,
     "metadata": {},
     "output_type": "execute_result"
    }
   ],
   "source": [
    "DeleteDuplicates(AffineTerm(eq,d))"
   ]
  },
  {
   "cell_type": "code",
   "execution_count": 12,
   "metadata": {},
   "outputs": [],
   "source": [
    "# Creamos una función que calcula la uno norma.\n",
    "# INPUT:\n",
    "#   - v: un vector.\n",
    "# OUTPUT:\n",
    "#   - Norma-1 del vector v.\n",
    "def NormOne(v):\n",
    "    suma = 0\n",
    "    for x in v:\n",
    "        suma = suma + x\n",
    "    return suma"
   ]
  },
  {
   "cell_type": "code",
   "execution_count": 13,
   "metadata": {},
   "outputs": [
    {
     "data": {
      "text/latex": [
       "$$21$$"
      ],
      "text/plain": [
       "21"
      ]
     },
     "execution_count": 13,
     "metadata": {},
     "output_type": "execute_result"
    }
   ],
   "source": [
    "NormOne([3,4,6,8,0])"
   ]
  },
  {
   "cell_type": "code",
   "execution_count": 14,
   "metadata": {},
   "outputs": [],
   "source": [
    "# Calculamos el punto de menor norma del diamante para una recta afín.\n",
    "# INPUT:\n",
    "#   - diamond: diamante entero.\n",
    "#   - afin: término afin de la recta.\n",
    "#   - eqray: ecuaciones de la recta.\n",
    "# OUTPUT:\n",
    "#   - Punto de menor norma del diamante que pasa por la recta afín.\n",
    "def MinimumPointAffineDiamond(diamond,afin,eqray):\n",
    "    numeq = len(eqray)\n",
    "    aux2 = []\n",
    "    for d in diamond:\n",
    "        aux = MultiplyMatrix(eqray,[[x] for x in d])\n",
    "        if aux == [afin]:\n",
    "            aux2.append([NormOne(d),d])\n",
    "    return(sorted(aux2)[0][1])"
   ]
  },
  {
   "cell_type": "code",
   "execution_count": 15,
   "metadata": {},
   "outputs": [
    {
     "data": {
      "text/latex": [
       "$$\\left [ 1, \\quad 1\\right ]$$"
      ],
      "text/plain": [
       "[1, 1]"
      ]
     },
     "execution_count": 15,
     "metadata": {},
     "output_type": "execute_result"
    }
   ],
   "source": [
    "MinimumPointAffineDiamond(d,[1],eq)"
   ]
  },
  {
   "cell_type": "code",
   "execution_count": 16,
   "metadata": {},
   "outputs": [],
   "source": [
    "# Calculamos los elementos de norma mínima por cada recta afín.\n",
    "# INPUT:\n",
    "#   - vdir: vector director de la recta.\n",
    "#   - seed: punto para empezar a mirar la recta.\n",
    "#   - smgen: sistema minimal de generadores.\n",
    "# OUTPUT:\n",
    "#   - Norma mínima de los elementos del semigrupo de la recta. \n",
    "def ComputeMinimumNormInSemigroupLine(vdir,seed,smgen):\n",
    "    v = seed\n",
    "    afseg = AffineSemigroup(smgen, \"generators\")\n",
    "    while True:\n",
    "        if afseg.belongs(v):\n",
    "            return NormOne(v)\n",
    "        v = [v[i] + seed[i] for i in range(len(vdir))]"
   ]
  },
  {
   "cell_type": "code",
   "execution_count": 17,
   "metadata": {},
   "outputs": [
    {
     "data": {
      "text/latex": [
       "$$4$$"
      ],
      "text/plain": [
       "4"
      ]
     },
     "execution_count": 17,
     "metadata": {},
     "output_type": "execute_result"
    }
   ],
   "source": [
    "ComputeMinimumNormInSemigroupLine([1,0],[1,1],gen0)"
   ]
  },
  {
   "cell_type": "code",
   "execution_count": 26,
   "metadata": {},
   "outputs": [],
   "source": [
    "# Calcula un valor en el rayo y en el semigrupo con norma mayor que una dada.\n",
    "# INPUT:\n",
    "#   - n: cota de la norma.\n",
    "#   - ray: rayo del cono.\n",
    "#   - gen: generadores del semigrupo.\n",
    "# OUTPUT:\n",
    "#   - Valor en el rayo que está en el semigrupo y tiene norma mayor que n.\n",
    "def ComputeBoundRay(n,ray,gen):\n",
    "    afseg = AffineSemigroup(gen, \"generators\")\n",
    "    v = ray\n",
    "    i = 1\n",
    "    while True:\n",
    "        v = [i*x for x in ray]\n",
    "        if NormOne(v) > n and afseg.belongs(v):\n",
    "            return v\n",
    "        i = i+1"
   ]
  },
  {
   "cell_type": "code",
   "execution_count": 27,
   "metadata": {},
   "outputs": [],
   "source": [
    "sgaf = AffineSemigroup(gen0, \"generators\")"
   ]
  },
  {
   "cell_type": "code",
   "execution_count": 28,
   "metadata": {},
   "outputs": [
    {
     "data": {
      "text/latex": [
       "$$\\left [ \\left [ 5, \\quad 1\\right ], \\quad \\left [ 5, \\quad 4\\right ], \\quad \\left [ 3, \\quad 3\\right ], \\quad \\left [ 7, \\quad 1\\right ], \\quad \\left [ 3, \\quad 0\\right ], \\quad \\left [ 6, \\quad 1\\right ], \\quad \\left [ 5, \\quad 0\\right ], \\quad \\left [ 2, \\quad 2\\right ], \\quad \\left [ 4, \\quad 3\\right ], \\quad \\left [ 5, \\quad 3\\right ], \\quad \\left [ 4, \\quad 0\\right ]\\right ]$$"
      ],
      "text/plain": [
       "[[5, 1], [5, 4], [3, 3], [7, 1], [3, 0], [6, 1], [5, 0], [2, 2], [4, 3], [5, 3\n",
       "], [4, 0]]"
      ]
     },
     "execution_count": 28,
     "metadata": {},
     "output_type": "execute_result"
    }
   ],
   "source": [
    "AffineSemigroup(gen0, \"generators\").getMSG()"
   ]
  },
  {
   "cell_type": "code",
   "execution_count": 29,
   "metadata": {},
   "outputs": [
    {
     "data": {
      "text/latex": [
       "$$\\left [ 8, \\quad 0\\right ]$$"
      ],
      "text/plain": [
       "[8, 0]"
      ]
     },
     "execution_count": 29,
     "metadata": {},
     "output_type": "execute_result"
    }
   ],
   "source": [
    "ComputeBoundRay(7,[1,0],gen0)"
   ]
  },
  {
   "cell_type": "code",
   "execution_count": 41,
   "metadata": {},
   "outputs": [],
   "source": [
    "def ComputeGaps(gen):\n",
    "    # Calculamos el cono.\n",
    "    C = Cone(cone=gen)\n",
    "    # Calculamos los rayos del cono.\n",
    "    rayos = C.ExtremeRays()\n",
    "    # Calculamos del diamante de multiplicidades.\n",
    "    diamanteM = DiamondMultiplicity(rayos,gen)\n",
    "    # Elegimos un punto en el interior del diamante.\n",
    "    dimension = len(rayos[0])\n",
    "    calibre  = [0 for x in range(dimension)]\n",
    "    for ray in rayos:\n",
    "        calibre = [calibre[i]+ray[i] for i in range(dimension)]\n",
    "    x = []\n",
    "    # Para cada rayo del cono.\n",
    "    for ray in rayos:\n",
    "        # Calculamos el conductor.\n",
    "        conductor = ConductorAxis(gen,ray)\n",
    "        # Calculamos las ecuaciones del rayo.\n",
    "        eq = EqRay(ray,calibre)\n",
    "        # Calculamos los términos afines.\n",
    "        afinesDiamante = DeleteDuplicates(AffineTerm(eq,diamanteM))\n",
    "        # Calculamos la máxima norma mínima en cada recta afin.\n",
    "        maxMinNorm = 0\n",
    "        for afin in afinesDiamante:\n",
    "            # En primer lugar miramos la norma minima en el diamante.\n",
    "            minimumNormDiamond = MinimumPointAffineDiamond(diamanteM,afin,eq)\n",
    "            # Ahora buscamos el elemento mínimo en el diamante en dicha recta.\n",
    "            minimumNormSG = ComputeMinimumNormInSemigroupLine(ray,minimumNormDiamond,gen)\n",
    "            if maxMinNorm < minimumNormSG:\n",
    "                maxMinNorm = minimumNormSG\n",
    "        n = NormOne(conductor) + maxMinNorm\n",
    "        x.append(ComputeBoundRay(n,ray,gen0))\n",
    "    # Calculamos el diamante de esos valores X\n",
    "    diamanteX = Diamond(x)\n",
    "    # Creamos un cubo que contenga al diamante.\n",
    "    cotaX = Cube(diamanteX)\n",
    "    # Calculamos las ecuaciones del diamante.\n",
    "    hullX = ConvexHull(diamanteX)\n",
    "    eqDiamanteX = [list(x) for x in hullX.equations]\n",
    "    # Calculamos el diamante entero X.\n",
    "    diamanteEnteroX = IntegerDiamond(eqDiamanteX,cotaX)\n",
    "    # Inicialmente el conjunto de huecos es vacío.\n",
    "    gapset = []\n",
    "    # Definimos el semigrupo afín.\n",
    "    afseg = AffineSemigroup(gen, \"generators\")\n",
    "    for x in diamanteEnteroX:\n",
    "        if not afseg.belongs(x):\n",
    "            gapset.append(x)\n",
    "    return gapset"
   ]
  },
  {
   "cell_type": "code",
   "execution_count": 42,
   "metadata": {},
   "outputs": [
    {
     "data": {
      "text/latex": [
       "$$\\left [ \\left [ 1, \\quad 0\\right ], \\quad \\left [ 1, \\quad 1\\right ], \\quad \\left [ 2, \\quad 0\\right ], \\quad \\left [ 2, \\quad 1\\right ], \\quad \\left [ 3, \\quad 1\\right ], \\quad \\left [ 3, \\quad 2\\right ], \\quad \\left [ 4, \\quad 1\\right ], \\quad \\left [ 4, \\quad 2\\right ], \\quad \\left [ 6, \\quad 4\\right ]\\right ]$$"
      ],
      "text/plain": [
       "[[1, 0], [1, 1], [2, 0], [2, 1], [3, 1], [3, 2], [4, 1], [4, 2], [6, 4]]"
      ]
     },
     "execution_count": 42,
     "metadata": {},
     "output_type": "execute_result"
    }
   ],
   "source": [
    "ComputeGaps(gen0)"
   ]
  },
  {
   "cell_type": "code",
   "execution_count": null,
   "metadata": {},
   "outputs": [],
   "source": []
  },
  {
   "cell_type": "code",
   "execution_count": null,
   "metadata": {},
   "outputs": [],
   "source": []
  },
  {
   "cell_type": "code",
   "execution_count": null,
   "metadata": {},
   "outputs": [],
   "source": []
  }
 ],
 "metadata": {
  "kernelspec": {
   "display_name": "Python 3",
   "language": "python",
   "name": "python3"
  },
  "language_info": {
   "codemirror_mode": {
    "name": "ipython",
    "version": 3
   },
   "file_extension": ".py",
   "mimetype": "text/x-python",
   "name": "python",
   "nbconvert_exporter": "python",
   "pygments_lexer": "ipython3",
   "version": "3.6.3"
  }
 },
 "nbformat": 4,
 "nbformat_minor": 2
}

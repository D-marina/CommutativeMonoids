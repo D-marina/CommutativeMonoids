{
 "cells": [
  {
   "cell_type": "code",
   "execution_count": 1,
   "metadata": {},
   "outputs": [],
   "source": [
    "import CharacterizingAffineCSemigroup\n",
    "from CharacterizingAffineCSemigroup import *"
   ]
  },
  {
   "cell_type": "code",
   "execution_count": 58,
   "metadata": {},
   "outputs": [],
   "source": [
    "gen0 = [[4,0],[3,0],[5,0],[5,5],[2,2],[3,3],[4,3],[5,3],[5,1],[6,1],[7,1],[5,4]]\n",
    "gen10 = [[2,0,0],[4,2,4],[0,1,0],[3,0,0],[6,3,6],[3,1,1],[4,1,1],[3,1,2],[1,1,0],[3,2,3],[1,2,1]]"
   ]
  },
  {
   "cell_type": "code",
   "execution_count": 59,
   "metadata": {},
   "outputs": [
    {
     "data": {
      "text/latex": [
       "$$12$$"
      ],
      "text/plain": [
       "12"
      ]
     },
     "execution_count": 59,
     "metadata": {},
     "output_type": "execute_result"
    }
   ],
   "source": [
    "len(gen0)"
   ]
  },
  {
   "cell_type": "code",
   "execution_count": 60,
   "metadata": {},
   "outputs": [
    {
     "data": {
      "text/plain": [
       "True"
      ]
     },
     "execution_count": 60,
     "metadata": {},
     "output_type": "execute_result"
    }
   ],
   "source": [
    "IsCsemigroup(gen10)"
   ]
  },
  {
   "cell_type": "code",
   "execution_count": 61,
   "metadata": {},
   "outputs": [
    {
     "data": {
      "text/latex": [
       "$$\\left ( \\left [ \\left [ 0, \\quad 1, \\quad 0\\right ], \\quad \\left [ 1, \\quad 0, \\quad 0\\right ], \\quad \\left [ 2, \\quad 1, \\quad 2\\right ]\\right ], \\quad \\left [ \\left [ 0, \\quad 0, \\quad 1\\right ], \\quad \\left [ 0, \\quad 2, \\quad -1\\right ], \\quad \\left [ 1, \\quad 0, \\quad -1\\right ]\\right ]\\right )$$"
      ],
      "text/plain": [
       "([[0, 1, 0], [1, 0, 0], [2, 1, 2]], [[0, 0, 1], [0, 2, -1], [1, 0, -1]])"
      ]
     },
     "execution_count": 61,
     "metadata": {},
     "output_type": "execute_result"
    }
   ],
   "source": [
    "C0 = Cone(cone=gen10)\n",
    "rayos0 = C0.ExtremeRays()\n",
    "hp0 = C0.SupportHyperplanes()\n",
    "rayos0,hp0"
   ]
  },
  {
   "cell_type": "code",
   "execution_count": 62,
   "metadata": {},
   "outputs": [],
   "source": [
    "# Calculamos la multiplicidad en cada rayo.\n",
    "# INPUT:\n",
    "#   - ray: rayo del cono.\n",
    "#   - smg: sistema minimal de generadores.\n",
    "# OUTPUT:\n",
    "#   - Elemento minimal en el rayo.\n",
    "def MultiplicityAxis(ray,smg):\n",
    "    multiplicity = []\n",
    "    for x in smg:\n",
    "        aux = BelongAxis(x,ray)\n",
    "        if aux != 0:\n",
    "            multiplicity.append([aux,x])\n",
    "    return sorted(multiplicity)[0][1]"
   ]
  },
  {
   "cell_type": "code",
   "execution_count": 65,
   "metadata": {},
   "outputs": [
    {
     "data": {
      "text/latex": [
       "$$\\left ( \\left [ 0, \\quad 1, \\quad 0\\right ], \\quad \\left [ 2, \\quad 0, \\quad 0\\right ], \\quad \\left [ 4, \\quad 2, \\quad 4\\right ]\\right )$$"
      ],
      "text/plain": [
       "([0, 1, 0], [2, 0, 0], [4, 2, 4])"
      ]
     },
     "execution_count": 65,
     "metadata": {},
     "output_type": "execute_result"
    }
   ],
   "source": [
    "MultiplicityAxis([0,1,0],gen10),MultiplicityAxis([1,0,0],gen10),MultiplicityAxis([2,1,2],gen10)"
   ]
  },
  {
   "cell_type": "code",
   "execution_count": 96,
   "metadata": {},
   "outputs": [],
   "source": [
    "# Calculamos el diamante entero de las multiplicidades.\n",
    "# INPUT:\n",
    "#   - cone: rayos del cono.\n",
    "#   - smg: sistema minimal de generadores.\n",
    "# OUTPUT:\n",
    "#   - diamante entero de las multiplicidades\n",
    "def DiamondMultiplicity(cone,smg):\n",
    "    extremos = []\n",
    "    for ray in cone:\n",
    "        extremos.append(MultiplicityAxis(ray,smg))\n",
    "    diamante = Diamond(extremos)\n",
    "    hull = ConvexHull(diamante)\n",
    "    eq = [list(x) for x in hull.equations]\n",
    "    cotas = Cube(diamante)\n",
    "    return IntegerDiamond(eq,cotas)"
   ]
  },
  {
   "cell_type": "code",
   "execution_count": 97,
   "metadata": {},
   "outputs": [
    {
     "data": {
      "text/latex": [
       "$$\\left [ \\left [ 0, \\quad 0, \\quad 0\\right ], \\quad \\left [ 0, \\quad 1, \\quad 0\\right ], \\quad \\left [ 1, \\quad 0, \\quad 0\\right ], \\quad \\left [ 1, \\quad 1, \\quad 0\\right ], \\quad \\left [ 1, \\quad 1, \\quad 1\\right ], \\quad \\left [ 2, \\quad 0, \\quad 0\\right ], \\quad \\left [ 2, \\quad 1, \\quad 0\\right ], \\quad \\left [ 2, \\quad 1, \\quad 1\\right ], \\quad \\left [ 2, \\quad 1, \\quad 2\\right ], \\quad \\left [ 2, \\quad 2, \\quad 2\\right ], \\quad \\left [ 3, \\quad 1, \\quad 1\\right ], \\quad \\left [ 3, \\quad 1, \\quad 2\\right ], \\quad \\left [ 3, \\quad 2, \\quad 2\\right ], \\quad \\left [ 3, \\quad 2, \\quad 3\\right ], \\quad \\left [ 4, \\quad 1, \\quad 2\\right ], \\quad \\left [ 4, \\quad 2, \\quad 3\\right ], \\quad \\left [ 4, \\quad 2, \\quad 4\\right ], \\quad \\left [ 4, \\quad 3, \\quad 4\\right ], \\quad \\left [ 5, \\quad 2, \\quad 4\\right ], \\quad \\left [ 6, \\quad 2, \\quad 4\\right ]\\right ]$$"
      ],
      "text/plain": [
       "[[0, 0, 0], [0, 1, 0], [1, 0, 0], [1, 1, 0], [1, 1, 1], [2, 0, 0], [2, 1, 0], \n",
       "[2, 1, 1], [2, 1, 2], [2, 2, 2], [3, 1, 1], [3, 1, 2], [3, 2, 2], [3, 2, 3], [\n",
       "4, 1, 2], [4, 2, 3], [4, 2, 4], [4, 3, 4], [5, 2, 4], [6, 2, 4]]"
      ]
     },
     "execution_count": 97,
     "metadata": {},
     "output_type": "execute_result"
    }
   ],
   "source": [
    "d=DiamondMultiplicity(rayos0,gen10)\n",
    "d"
   ]
  },
  {
   "cell_type": "code",
   "execution_count": 98,
   "metadata": {},
   "outputs": [
    {
     "data": {
      "text/latex": [
       "$$\\left [ \\left [ 0, \\quad 0, \\quad 1\\right ], \\quad \\left [ 0, \\quad 2, \\quad -1\\right ]\\right ]$$"
      ],
      "text/plain": [
       "[[0, 0, 1], [0, 2, -1]]"
      ]
     },
     "execution_count": 98,
     "metadata": {},
     "output_type": "execute_result"
    }
   ],
   "source": [
    "# Ecuaciones de un rayo.\n",
    "eq = EqRay([1,0,0],hp0)\n",
    "eq"
   ]
  },
  {
   "cell_type": "code",
   "execution_count": 99,
   "metadata": {},
   "outputs": [],
   "source": [
    "# Borramos elementos repetidos.\n",
    "# INPUT:\n",
    "#   - v: vector de entrada.\n",
    "# OUTPUT:\n",
    "#   - vector v sin elementos de entrada.\n",
    "def DeleteDuplicates(v):\n",
    "    w = []\n",
    "    for i in range(len(v)):\n",
    "        if v[i] not in w:\n",
    "            w.append(v[i])\n",
    "    return w"
   ]
  },
  {
   "cell_type": "code",
   "execution_count": 100,
   "metadata": {},
   "outputs": [
    {
     "data": {
      "text/latex": [
       "$$\\left [ \\left [ 0, \\quad 2\\right ], \\quad \\left [ 1, \\quad 1\\right ], \\quad \\left [ 2, \\quad 0\\right ], \\quad \\left [ 2, \\quad 2\\right ], \\quad \\left [ 3, \\quad 1\\right ], \\quad \\left [ 4, \\quad 0\\right ], \\quad \\left [ 4, \\quad 2\\right ]\\right ]$$"
      ],
      "text/plain": [
       "[[0, 2], [1, 1], [2, 0], [2, 2], [3, 1], [4, 0], [4, 2]]"
      ]
     },
     "execution_count": 100,
     "metadata": {},
     "output_type": "execute_result"
    }
   ],
   "source": [
    "DeleteDuplicates(AffineTerm(eq,d))"
   ]
  },
  {
   "cell_type": "code",
   "execution_count": 44,
   "metadata": {},
   "outputs": [],
   "source": [
    "# Creamos una función que calcula la uno norma.\n",
    "# INPUT:\n",
    "#   - v: un vector.\n",
    "# OUTPUT:\n",
    "#   - Norma-1 del vector v.\n",
    "def NormOne(v):\n",
    "    suma = 0\n",
    "    for x in v:\n",
    "        suma = suma + x\n",
    "    return suma"
   ]
  },
  {
   "cell_type": "code",
   "execution_count": 45,
   "metadata": {},
   "outputs": [
    {
     "data": {
      "text/latex": [
       "$$21$$"
      ],
      "text/plain": [
       "21"
      ]
     },
     "execution_count": 45,
     "metadata": {},
     "output_type": "execute_result"
    }
   ],
   "source": [
    "NormOne([3,4,6,8,0])"
   ]
  },
  {
   "cell_type": "code",
   "execution_count": 111,
   "metadata": {},
   "outputs": [],
   "source": [
    "# Calculamos el punto de menor norma del diamante para una recta afín.\n",
    "# INPUT:\n",
    "#   - diamond: diamante entero.\n",
    "#   - afin: término afin de la recta.\n",
    "#   - eqray: ecuaciones de la recta.\n",
    "# OUTPUT:\n",
    "#   - Punto de menor norma del diamante que pasa por la recta afín.\n",
    "def MinimumPointAffineDiamond(diamond,afin,eqray):\n",
    "    numeq = len(eqray)\n",
    "    aux2 = []\n",
    "    for d in diamond:\n",
    "        aux = AffineTerm(eqray,d)\n",
    "        print(aux)\n",
    "        #aux = MultiplyMatrix(eqray,[[x] for x in d])\n",
    "        if aux == [afin]:\n",
    "            aux2.append([NormOne(d),d])\n",
    "    return(sorted(aux2)[0][1])"
   ]
  },
  {
   "cell_type": "code",
   "execution_count": 112,
   "metadata": {},
   "outputs": [
    {
     "ename": "TypeError",
     "evalue": "object of type 'int' has no len()",
     "output_type": "error",
     "traceback": [
      "\u001b[0;31m---------------------------------------------------------------------------\u001b[0m",
      "\u001b[0;31mTypeError\u001b[0m                                 Traceback (most recent call last)",
      "\u001b[0;32m<ipython-input-112-d4d897c89adb>\u001b[0m in \u001b[0;36m<module>\u001b[0;34m\u001b[0m\n\u001b[0;32m----> 1\u001b[0;31m \u001b[0mMinimumPointAffineDiamond\u001b[0m\u001b[0;34m(\u001b[0m\u001b[0md\u001b[0m\u001b[0;34m,\u001b[0m\u001b[0;34m[\u001b[0m\u001b[0;36m2\u001b[0m\u001b[0;34m,\u001b[0m\u001b[0;36m0\u001b[0m\u001b[0;34m]\u001b[0m\u001b[0;34m,\u001b[0m\u001b[0meq\u001b[0m\u001b[0;34m)\u001b[0m\u001b[0;34m\u001b[0m\u001b[0m\n\u001b[0m",
      "\u001b[0;32m<ipython-input-111-03b8725655bc>\u001b[0m in \u001b[0;36mMinimumPointAffineDiamond\u001b[0;34m(diamond, afin, eqray)\u001b[0m\n\u001b[1;32m     10\u001b[0m     \u001b[0maux2\u001b[0m \u001b[0;34m=\u001b[0m \u001b[0;34m[\u001b[0m\u001b[0;34m]\u001b[0m\u001b[0;34m\u001b[0m\u001b[0m\n\u001b[1;32m     11\u001b[0m     \u001b[0;32mfor\u001b[0m \u001b[0md\u001b[0m \u001b[0;32min\u001b[0m \u001b[0mdiamond\u001b[0m\u001b[0;34m:\u001b[0m\u001b[0;34m\u001b[0m\u001b[0m\n\u001b[0;32m---> 12\u001b[0;31m         \u001b[0maux\u001b[0m \u001b[0;34m=\u001b[0m \u001b[0mAffineTerm\u001b[0m\u001b[0;34m(\u001b[0m\u001b[0meqray\u001b[0m\u001b[0;34m,\u001b[0m\u001b[0md\u001b[0m\u001b[0;34m)\u001b[0m\u001b[0;34m\u001b[0m\u001b[0m\n\u001b[0m\u001b[1;32m     13\u001b[0m         \u001b[0mprint\u001b[0m\u001b[0;34m(\u001b[0m\u001b[0maux\u001b[0m\u001b[0;34m)\u001b[0m\u001b[0;34m\u001b[0m\u001b[0m\n\u001b[1;32m     14\u001b[0m         \u001b[0;31m#aux = MultiplyMatrix(eqray,[[x] for x in d])\u001b[0m\u001b[0;34m\u001b[0m\u001b[0;34m\u001b[0m\u001b[0m\n",
      "\u001b[0;32m~/CommutativeMonoids/ClassCSemigroup/CharacterizingAffineCSemigroup.py\u001b[0m in \u001b[0;36mAffineTerm\u001b[0;34m(eq, d)\u001b[0m\n\u001b[1;32m    194\u001b[0m         \u001b[0maux\u001b[0m \u001b[0;34m=\u001b[0m \u001b[0;34m[\u001b[0m\u001b[0;34m]\u001b[0m\u001b[0;34m\u001b[0m\u001b[0m\n\u001b[1;32m    195\u001b[0m         \u001b[0;32mfor\u001b[0m \u001b[0me\u001b[0m \u001b[0;32min\u001b[0m \u001b[0meq\u001b[0m\u001b[0;34m:\u001b[0m\u001b[0;34m\u001b[0m\u001b[0m\n\u001b[0;32m--> 196\u001b[0;31m             \u001b[0maux\u001b[0m \u001b[0;34m=\u001b[0m \u001b[0maux\u001b[0m \u001b[0;34m+\u001b[0m \u001b[0;34m[\u001b[0m\u001b[0mProdEsc\u001b[0m\u001b[0;34m(\u001b[0m\u001b[0mx\u001b[0m\u001b[0;34m,\u001b[0m\u001b[0me\u001b[0m\u001b[0;34m)\u001b[0m\u001b[0;34m]\u001b[0m\u001b[0;34m\u001b[0m\u001b[0m\n\u001b[0m\u001b[1;32m    197\u001b[0m         \u001b[0mafin\u001b[0m\u001b[0;34m.\u001b[0m\u001b[0mappend\u001b[0m\u001b[0;34m(\u001b[0m\u001b[0maux\u001b[0m\u001b[0;34m)\u001b[0m\u001b[0;34m\u001b[0m\u001b[0m\n\u001b[1;32m    198\u001b[0m     \u001b[0;32mreturn\u001b[0m \u001b[0mDeleteRowZero\u001b[0m\u001b[0;34m(\u001b[0m\u001b[0mafin\u001b[0m\u001b[0;34m)\u001b[0m\u001b[0;34m\u001b[0m\u001b[0m\n",
      "\u001b[0;32m~/CommutativeMonoids/ClassCSemigroup/CharacterizingAffineCSemigroup.py\u001b[0m in \u001b[0;36mProdEsc\u001b[0;34m(v1, v2)\u001b[0m\n\u001b[1;32m    143\u001b[0m \u001b[0;34m\u001b[0m\u001b[0m\n\u001b[1;32m    144\u001b[0m \u001b[0;32mdef\u001b[0m \u001b[0mProdEsc\u001b[0m\u001b[0;34m(\u001b[0m\u001b[0mv1\u001b[0m\u001b[0;34m,\u001b[0m\u001b[0mv2\u001b[0m\u001b[0;34m)\u001b[0m\u001b[0;34m:\u001b[0m\u001b[0;34m\u001b[0m\u001b[0m\n\u001b[0;32m--> 145\u001b[0;31m     \u001b[0mn\u001b[0m \u001b[0;34m=\u001b[0m \u001b[0mlen\u001b[0m\u001b[0;34m(\u001b[0m\u001b[0mv1\u001b[0m\u001b[0;34m)\u001b[0m\u001b[0;34m\u001b[0m\u001b[0m\n\u001b[0m\u001b[1;32m    146\u001b[0m     \u001b[0msuma\u001b[0m \u001b[0;34m=\u001b[0m \u001b[0;36m0\u001b[0m\u001b[0;34m\u001b[0m\u001b[0m\n\u001b[1;32m    147\u001b[0m     \u001b[0;32mfor\u001b[0m \u001b[0mi\u001b[0m \u001b[0;32min\u001b[0m \u001b[0mrange\u001b[0m\u001b[0;34m(\u001b[0m\u001b[0mn\u001b[0m\u001b[0;34m)\u001b[0m\u001b[0;34m:\u001b[0m\u001b[0;34m\u001b[0m\u001b[0m\n",
      "\u001b[0;31mTypeError\u001b[0m: object of type 'int' has no len()"
     ]
    }
   ],
   "source": [
    "MinimumPointAffineDiamond(d,[2,0],eq)"
   ]
  },
  {
   "cell_type": "code",
   "execution_count": 101,
   "metadata": {},
   "outputs": [],
   "source": [
    "# Calculamos los elementos de norma mínima por cada recta afín.\n",
    "# INPUT:\n",
    "#   - vdir: vector director de la recta.\n",
    "#   - seed: punto para empezar a mirar la recta.\n",
    "#   - smgen: sistema minimal de generadores.\n",
    "# OUTPUT:\n",
    "#   - Norma mínima de los elementos del semigrupo de la recta. \n",
    "def ComputeMinimumNormInSemigroupLine(vdir,seed,smgen):\n",
    "    v = seed\n",
    "    afseg = AffineSemigroup(smgen, \"generators\")\n",
    "    while True:\n",
    "        print(v)\n",
    "        if afseg.belongs(v):\n",
    "            return NormOne(v)\n",
    "        v = [v[i] + vdir[i] for i in range(len(vdir))]"
   ]
  },
  {
   "cell_type": "code",
   "execution_count": 102,
   "metadata": {},
   "outputs": [
    {
     "name": "stdout",
     "output_type": "stream",
     "text": [
      "[1, 1]\n",
      "[2, 1]\n",
      "[3, 1]\n",
      "[4, 1]\n",
      "[5, 1]\n"
     ]
    },
    {
     "data": {
      "text/latex": [
       "$$6$$"
      ],
      "text/plain": [
       "6"
      ]
     },
     "execution_count": 102,
     "metadata": {},
     "output_type": "execute_result"
    }
   ],
   "source": [
    "ComputeMinimumNormInSemigroupLine([1,0],[1,1],gen0)"
   ]
  },
  {
   "cell_type": "code",
   "execution_count": 103,
   "metadata": {},
   "outputs": [],
   "source": [
    "# Calcula un valor en el rayo y en el semigrupo con norma mayor que una dada.\n",
    "# INPUT:\n",
    "#   - n: cota de la norma.\n",
    "#   - ray: rayo del cono.\n",
    "#   - gen: generadores del semigrupo.\n",
    "# OUTPUT:\n",
    "#   - Valor en el rayo que está en el semigrupo y tiene norma mayor que n.\n",
    "def ComputeBoundRay(n,ray,gen):\n",
    "    afseg = AffineSemigroup(gen, \"generators\")\n",
    "    v = ray\n",
    "    i = 1\n",
    "    while True:\n",
    "        v = [i*x for x in ray]\n",
    "        if NormOne(v) > n and afseg.belongs(v):\n",
    "            return v\n",
    "        i = i+1"
   ]
  },
  {
   "cell_type": "code",
   "execution_count": 104,
   "metadata": {},
   "outputs": [],
   "source": [
    "sgaf = AffineSemigroup(gen0, \"generators\")"
   ]
  },
  {
   "cell_type": "code",
   "execution_count": 105,
   "metadata": {},
   "outputs": [
    {
     "data": {
      "text/latex": [
       "$$\\left [ \\left [ 5, \\quad 1\\right ], \\quad \\left [ 5, \\quad 4\\right ], \\quad \\left [ 3, \\quad 3\\right ], \\quad \\left [ 7, \\quad 1\\right ], \\quad \\left [ 3, \\quad 0\\right ], \\quad \\left [ 6, \\quad 1\\right ], \\quad \\left [ 5, \\quad 0\\right ], \\quad \\left [ 2, \\quad 2\\right ], \\quad \\left [ 4, \\quad 3\\right ], \\quad \\left [ 5, \\quad 3\\right ], \\quad \\left [ 4, \\quad 0\\right ]\\right ]$$"
      ],
      "text/plain": [
       "[[5, 1], [5, 4], [3, 3], [7, 1], [3, 0], [6, 1], [5, 0], [2, 2], [4, 3], [5, 3\n",
       "], [4, 0]]"
      ]
     },
     "execution_count": 105,
     "metadata": {},
     "output_type": "execute_result"
    }
   ],
   "source": [
    "AffineSemigroup(gen0, \"generators\").getMSG()"
   ]
  },
  {
   "cell_type": "code",
   "execution_count": 106,
   "metadata": {},
   "outputs": [
    {
     "data": {
      "text/latex": [
       "$$\\left [ 8, \\quad 0\\right ]$$"
      ],
      "text/plain": [
       "[8, 0]"
      ]
     },
     "execution_count": 106,
     "metadata": {},
     "output_type": "execute_result"
    }
   ],
   "source": [
    "ComputeBoundRay(7,[1,0],gen0)"
   ]
  },
  {
   "cell_type": "code",
   "execution_count": 107,
   "metadata": {},
   "outputs": [],
   "source": [
    "def ComputeGaps(gen):\n",
    "    # Calculamos el cono.\n",
    "    C = Cone(cone=gen)\n",
    "    # Calculamos los rayos del cono.\n",
    "    rayos = C.ExtremeRays()\n",
    "    # Calculamso los hiperplanos soportes.\n",
    "    hp = C.SupportHyperplanes()\n",
    "    # Calculamos del diamante de multiplicidades.\n",
    "    diamanteM = DiamondMultiplicity(rayos,gen)\n",
    "    x = []\n",
    "    # Para cada rayo del cono.\n",
    "    for ray in rayos:\n",
    "        # Calculamos el conductor.\n",
    "        conductor = ConductorAxis(gen,ray)\n",
    "        # Calculamos las ecuaciones del rayo.\n",
    "        eq = EqRay(ray,hp)\n",
    "        # Calculamos los términos afines.\n",
    "        afinesDiamante = DeleteDuplicates(AffineTerm(eq,diamanteM))\n",
    "        # Calculamos la máxima norma mínima en cada recta afin.\n",
    "        maxMinNorm = 0\n",
    "        for afin in afinesDiamante:\n",
    "            # En primer lugar miramos la norma minima en el diamante.\n",
    "            minimumNormDiamond = MinimumPointAffineDiamond(diamanteM,afin,eq)\n",
    "            # Ahora buscamos el elemento mínimo en el diamante en dicha recta.\n",
    "            minimumNormSG = ComputeMinimumNormInSemigroupLine(ray,minimumNormDiamond,gen)\n",
    "            if maxMinNorm < minimumNormSG:\n",
    "                maxMinNorm = minimumNormSG\n",
    "        n = NormOne(conductor) + maxMinNorm\n",
    "        x.append(ComputeBoundRay(n,ray,gen0))\n",
    "    # Calculamos el diamante de esos valores X\n",
    "    diamanteX = Diamond(x)\n",
    "    # Creamos un cubo que contenga al diamante.\n",
    "    cotaX = Cube(diamanteX)\n",
    "    # Calculamos las ecuaciones del diamante.\n",
    "    hullX = ConvexHull(diamanteX)\n",
    "    eqDiamanteX = [list(x) for x in hullX.equations]\n",
    "    # Calculamos el diamante entero X.\n",
    "    diamanteEnteroX = IntegerDiamond(eqDiamanteX,cotaX)\n",
    "    # Inicialmente el conjunto de huecos es vacío.\n",
    "    gapset = []\n",
    "    # Definimos el semigrupo afín.\n",
    "    afseg = AffineSemigroup(gen, \"generators\")\n",
    "    for x in diamanteEnteroX:\n",
    "        if not afseg.belongs(x):\n",
    "            gapset.append(x)\n",
    "    return gapset"
   ]
  },
  {
   "cell_type": "code",
   "execution_count": 108,
   "metadata": {},
   "outputs": [
    {
     "name": "stdout",
     "output_type": "stream",
     "text": [
      "[1, 1]\n",
      "[2, 1]\n",
      "[3, 1]\n",
      "[4, 1]\n",
      "[5, 1]\n",
      "[2, 2]\n",
      "[1, 0]\n",
      "[2, 1]\n",
      "[3, 2]\n",
      "[4, 3]\n",
      "[2, 0]\n",
      "[3, 1]\n",
      "[4, 2]\n",
      "[5, 3]\n",
      "[3, 0]\n"
     ]
    },
    {
     "data": {
      "text/latex": [
       "$$\\left [ \\left [ 1, \\quad 0\\right ], \\quad \\left [ 1, \\quad 1\\right ], \\quad \\left [ 2, \\quad 0\\right ], \\quad \\left [ 2, \\quad 1\\right ], \\quad \\left [ 3, \\quad 1\\right ], \\quad \\left [ 3, \\quad 2\\right ], \\quad \\left [ 4, \\quad 1\\right ], \\quad \\left [ 4, \\quad 2\\right ], \\quad \\left [ 6, \\quad 4\\right ]\\right ]$$"
      ],
      "text/plain": [
       "[[1, 0], [1, 1], [2, 0], [2, 1], [3, 1], [3, 2], [4, 1], [4, 2], [6, 4]]"
      ]
     },
     "execution_count": 108,
     "metadata": {},
     "output_type": "execute_result"
    }
   ],
   "source": [
    "ComputeGaps(gen0)"
   ]
  },
  {
   "cell_type": "code",
   "execution_count": 109,
   "metadata": {},
   "outputs": [
    {
     "ename": "IndexError",
     "evalue": "list index out of range",
     "output_type": "error",
     "traceback": [
      "\u001b[0;31m---------------------------------------------------------------------------\u001b[0m",
      "\u001b[0;31mIndexError\u001b[0m                                Traceback (most recent call last)",
      "\u001b[0;32m<ipython-input-109-63af509daaf2>\u001b[0m in \u001b[0;36m<module>\u001b[0;34m\u001b[0m\n\u001b[0;32m----> 1\u001b[0;31m \u001b[0mComputeGaps\u001b[0m\u001b[0;34m(\u001b[0m\u001b[0mgen10\u001b[0m\u001b[0;34m)\u001b[0m\u001b[0;34m\u001b[0m\u001b[0m\n\u001b[0m",
      "\u001b[0;32m<ipython-input-107-8b0aeede2975>\u001b[0m in \u001b[0;36mComputeGaps\u001b[0;34m(gen)\u001b[0m\n\u001b[1;32m     21\u001b[0m         \u001b[0;32mfor\u001b[0m \u001b[0mafin\u001b[0m \u001b[0;32min\u001b[0m \u001b[0mafinesDiamante\u001b[0m\u001b[0;34m:\u001b[0m\u001b[0;34m\u001b[0m\u001b[0m\n\u001b[1;32m     22\u001b[0m             \u001b[0;31m# En primer lugar miramos la norma minima en el diamante.\u001b[0m\u001b[0;34m\u001b[0m\u001b[0;34m\u001b[0m\u001b[0m\n\u001b[0;32m---> 23\u001b[0;31m             \u001b[0mminimumNormDiamond\u001b[0m \u001b[0;34m=\u001b[0m \u001b[0mMinimumPointAffineDiamond\u001b[0m\u001b[0;34m(\u001b[0m\u001b[0mdiamanteM\u001b[0m\u001b[0;34m,\u001b[0m\u001b[0mafin\u001b[0m\u001b[0;34m,\u001b[0m\u001b[0meq\u001b[0m\u001b[0;34m)\u001b[0m\u001b[0;34m\u001b[0m\u001b[0m\n\u001b[0m\u001b[1;32m     24\u001b[0m             \u001b[0;31m# Ahora buscamos el elemento mínimo en el diamante en dicha recta.\u001b[0m\u001b[0;34m\u001b[0m\u001b[0;34m\u001b[0m\u001b[0m\n\u001b[1;32m     25\u001b[0m             \u001b[0mminimumNormSG\u001b[0m \u001b[0;34m=\u001b[0m \u001b[0mComputeMinimumNormInSemigroupLine\u001b[0m\u001b[0;34m(\u001b[0m\u001b[0mray\u001b[0m\u001b[0;34m,\u001b[0m\u001b[0mminimumNormDiamond\u001b[0m\u001b[0;34m,\u001b[0m\u001b[0mgen\u001b[0m\u001b[0;34m)\u001b[0m\u001b[0;34m\u001b[0m\u001b[0m\n",
      "\u001b[0;32m<ipython-input-46-6d6ce7059faa>\u001b[0m in \u001b[0;36mMinimumPointAffineDiamond\u001b[0;34m(diamond, afin, eqray)\u001b[0m\n\u001b[1;32m     13\u001b[0m         \u001b[0;32mif\u001b[0m \u001b[0maux\u001b[0m \u001b[0;34m==\u001b[0m \u001b[0;34m[\u001b[0m\u001b[0mafin\u001b[0m\u001b[0;34m]\u001b[0m\u001b[0;34m:\u001b[0m\u001b[0;34m\u001b[0m\u001b[0m\n\u001b[1;32m     14\u001b[0m             \u001b[0maux2\u001b[0m\u001b[0;34m.\u001b[0m\u001b[0mappend\u001b[0m\u001b[0;34m(\u001b[0m\u001b[0;34m[\u001b[0m\u001b[0mNormOne\u001b[0m\u001b[0;34m(\u001b[0m\u001b[0md\u001b[0m\u001b[0;34m)\u001b[0m\u001b[0;34m,\u001b[0m\u001b[0md\u001b[0m\u001b[0;34m]\u001b[0m\u001b[0;34m)\u001b[0m\u001b[0;34m\u001b[0m\u001b[0m\n\u001b[0;32m---> 15\u001b[0;31m     \u001b[0;32mreturn\u001b[0m\u001b[0;34m(\u001b[0m\u001b[0msorted\u001b[0m\u001b[0;34m(\u001b[0m\u001b[0maux2\u001b[0m\u001b[0;34m)\u001b[0m\u001b[0;34m[\u001b[0m\u001b[0;36m0\u001b[0m\u001b[0;34m]\u001b[0m\u001b[0;34m[\u001b[0m\u001b[0;36m1\u001b[0m\u001b[0;34m]\u001b[0m\u001b[0;34m)\u001b[0m\u001b[0;34m\u001b[0m\u001b[0m\n\u001b[0m",
      "\u001b[0;31mIndexError\u001b[0m: list index out of range"
     ]
    }
   ],
   "source": [
    "ComputeGaps(gen10)"
   ]
  },
  {
   "cell_type": "code",
   "execution_count": null,
   "metadata": {},
   "outputs": [],
   "source": []
  }
 ],
 "metadata": {
  "kernelspec": {
   "display_name": "Python 3",
   "language": "python",
   "name": "python3"
  },
  "language_info": {
   "codemirror_mode": {
    "name": "ipython",
    "version": 3
   },
   "file_extension": ".py",
   "mimetype": "text/x-python",
   "name": "python",
   "nbconvert_exporter": "python",
   "pygments_lexer": "ipython3",
   "version": "3.6.3"
  }
 },
 "nbformat": 4,
 "nbformat_minor": 2
}

{
 "cells": [
  {
   "cell_type": "code",
   "execution_count": 1,
   "metadata": {
    "ExecuteTime": {
     "end_time": "2019-07-19T09:38:47.146901Z",
     "start_time": "2019-07-19T09:38:46.650401Z"
    }
   },
   "outputs": [],
   "source": [
    "import CharacterizingAffineCSemigroup\n",
    "from CharacterizingAffineCSemigroup import *"
   ]
  },
  {
   "cell_type": "code",
   "execution_count": 2,
   "metadata": {},
   "outputs": [],
   "source": [
    "import sys\n",
    "sys.path.insert(0,'../ClassAffine')"
   ]
  },
  {
   "cell_type": "code",
   "execution_count": 3,
   "metadata": {},
   "outputs": [],
   "source": [
    "gen = [[2,2],[3,0],[3,1],[3,2],[3,3],[4,0],[4,1],[4,2],[4,3],[5,0],[5,1],[5,2],[5,3]]"
   ]
  },
  {
   "cell_type": "code",
   "execution_count": 4,
   "metadata": {},
   "outputs": [],
   "source": [
    "cs = AffineSemigroup(gen,input_type=\"generators\")"
   ]
  },
  {
   "cell_type": "code",
   "execution_count": 5,
   "metadata": {},
   "outputs": [
    {
     "data": {
      "text/latex": [
       "$\\displaystyle \\left[ \\left[ 4, \\  0\\right], \\  \\left[ 4, \\  3\\right], \\  \\left[ 3, \\  1\\right], \\  \\left[ 5, \\  1\\right], \\  \\left[ 4, \\  2\\right], \\  \\left[ 3, \\  0\\right], \\  \\left[ 3, \\  3\\right], \\  \\left[ 5, \\  0\\right], \\  \\left[ 2, \\  2\\right], \\  \\left[ 3, \\  2\\right], \\  \\left[ 4, \\  1\\right]\\right]$"
      ],
      "text/plain": [
       "[[4, 0], [4, 3], [3, 1], [5, 1], [4, 2], [3, 0], [3, 3], [5, 0], [2, 2], [3, 2\n",
       "], [4, 1]]"
      ]
     },
     "execution_count": 5,
     "metadata": {},
     "output_type": "execute_result"
    }
   ],
   "source": [
    "gen0 = cs.getMSG()\n",
    "gen0"
   ]
  },
  {
   "cell_type": "code",
   "execution_count": 6,
   "metadata": {},
   "outputs": [
    {
     "data": {
      "text/plain": [
       "True"
      ]
     },
     "execution_count": 6,
     "metadata": {},
     "output_type": "execute_result"
    }
   ],
   "source": [
    "IsCsemigroup(gen0)"
   ]
  },
  {
   "cell_type": "code",
   "execution_count": 7,
   "metadata": {},
   "outputs": [
    {
     "data": {
      "text/latex": [
       "$\\displaystyle \\left[ \\left[ 1, \\  0\\right], \\  \\left[ 1, \\  1\\right], \\  \\left[ 2, \\  0\\right], \\  \\left[ 2, \\  1\\right]\\right]$"
      ],
      "text/plain": [
       "[[1, 0], [1, 1], [2, 0], [2, 1]]"
      ]
     },
     "execution_count": 7,
     "metadata": {},
     "output_type": "execute_result"
    }
   ],
   "source": [
    "gaps = ComputeGaps(gen0)\n",
    "gaps"
   ]
  },
  {
   "cell_type": "code",
   "execution_count": 3,
   "metadata": {},
   "outputs": [],
   "source": [
    "# This function compute the Pseudo-Frobenius elements of a C-semigroup.\n",
    "# INPUT:\n",
    "#   - gen: generadores del C-semigrupo.\n",
    "#   - gap: conjunto de huecos del C-semigrupo.\n",
    "# OUTPUT:\n",
    "#   - conjunto de pseudo-frobenius.\n",
    "def ComputePseudoFrobenius(gen,gap):\n",
    "    cs = AffineSemigroup(gen,input_type=\"generators\")\n",
    "    pf = []\n",
    "    for x in gap:\n",
    "        ispf = True\n",
    "        for y in gen:\n",
    "            if not cs.belongs([x[i]+y[i] for i in range(len(x))]):\n",
    "                ispf = False\n",
    "        if ispf:\n",
    "            pf.append(x)\n",
    "    return pf"
   ]
  },
  {
   "cell_type": "code",
   "execution_count": 9,
   "metadata": {},
   "outputs": [
    {
     "data": {
      "text/latex": [
       "$\\displaystyle \\left[ \\left[ 1, \\  0\\right], \\  \\left[ 1, \\  1\\right], \\  \\left[ 2, \\  0\\right], \\  \\left[ 2, \\  1\\right]\\right]$"
      ],
      "text/plain": [
       "[[1, 0], [1, 1], [2, 0], [2, 1]]"
      ]
     },
     "execution_count": 9,
     "metadata": {},
     "output_type": "execute_result"
    }
   ],
   "source": [
    "ComputePseudoFrobenius(gen0,gaps)"
   ]
  },
  {
   "cell_type": "code",
   "execution_count": 10,
   "metadata": {},
   "outputs": [],
   "source": [
    "# Esta función elimina los elentos de un vector cuyo doble está en él.\n",
    "# INPUT:\n",
    "#   - v: vector.\n",
    "# OUTPUT:\n",
    "#   - vector v sin sus mitades.\n",
    "def DeleteHalves(v):\n",
    "    aux = []\n",
    "    for x in v:\n",
    "        if not [2*x[i] for i in range(len(x))] in v:\n",
    "            aux.append(x)\n",
    "    return aux"
   ]
  },
  {
   "cell_type": "code",
   "execution_count": 11,
   "metadata": {},
   "outputs": [],
   "source": [
    "# Esta función clasifica en irreducible o no a un C-semigrupo.\n",
    "# INPUT:\n",
    "#   - pf: Pseudo-Frobenius.\n",
    "# OUTPUT:\n",
    "#   True/False\n",
    "def IsIrreducible(pf):\n",
    "    if (len(pf) == 1) or (len(pf) == 2 and len(DeleteHalves(pf)) == 1):\n",
    "        return True\n",
    "    return False"
   ]
  },
  {
   "cell_type": "code",
   "execution_count": 12,
   "metadata": {},
   "outputs": [],
   "source": [
    "# Esta función devuelve una lista con el C-semigrupo si es irreducible o lo divide en trozos.\n",
    "# INPUT:\n",
    "#   - gen: generadores del C-semigrupo.\n",
    "# OUTPUT:\n",
    "#   - lista de C-semigrupos para descomponer.\n",
    "def DecomposeCSemigroup(gen):\n",
    "    gaps = ComputeGaps(gen)\n",
    "    pf = ComputePseudoFrobenius(gen,gaps)\n",
    "    if IsIrreducible(pf):\n",
    "        return [gen]\n",
    "    candidatos = []\n",
    "    pf = DeleteHalves(pf)\n",
    "    for x in pf:\n",
    "        cs = AffineSemigroup(gen+[x],input_type=\"generators\")\n",
    "        candidatos.append(cs.getMSG())\n",
    "    return candidatos"
   ]
  },
  {
   "cell_type": "code",
   "execution_count": null,
   "metadata": {},
   "outputs": [],
   "source": []
  },
  {
   "cell_type": "code",
   "execution_count": 13,
   "metadata": {},
   "outputs": [
    {
     "data": {
      "text/latex": [
       "$\\displaystyle \\left[ \\left[ 4, \\  3\\right], \\  \\left[ 3, \\  1\\right], \\  \\left[ 2, \\  0\\right], \\  \\left[ 3, \\  0\\right], \\  \\left[ 3, \\  3\\right], \\  \\left[ 2, \\  2\\right], \\  \\left[ 3, \\  2\\right], \\  \\left[ 4, \\  1\\right]\\right]$"
      ],
      "text/plain": [
       "[[4, 3], [3, 1], [2, 0], [3, 0], [3, 3], [2, 2], [3, 2], [4, 1]]"
      ]
     },
     "execution_count": 13,
     "metadata": {},
     "output_type": "execute_result"
    }
   ],
   "source": [
    "DecomposeCSemigroup(gen0)[1]"
   ]
  },
  {
   "cell_type": "code",
   "execution_count": 14,
   "metadata": {},
   "outputs": [
    {
     "data": {
      "text/latex": [
       "$\\displaystyle \\left[ \\left[ 4, \\  0\\right], \\  \\left[ 4, \\  3\\right], \\  \\left[ 3, \\  1\\right], \\  \\left[ 5, \\  1\\right], \\  \\left[ 4, \\  2\\right], \\  \\left[ 3, \\  0\\right], \\  \\left[ 3, \\  3\\right], \\  \\left[ 5, \\  0\\right], \\  \\left[ 2, \\  2\\right], \\  \\left[ 3, \\  2\\right], \\  \\left[ 4, \\  1\\right]\\right]$"
      ],
      "text/plain": [
       "[[4, 0], [4, 3], [3, 1], [5, 1], [4, 2], [3, 0], [3, 3], [5, 0], [2, 2], [3, 2\n",
       "], [4, 1]]"
      ]
     },
     "execution_count": 14,
     "metadata": {},
     "output_type": "execute_result"
    }
   ],
   "source": [
    "gen0"
   ]
  },
  {
   "cell_type": "code",
   "execution_count": 15,
   "metadata": {},
   "outputs": [],
   "source": [
    "def DecomposeIrreducible(gen):\n",
    "    candidatos = [gen]\n",
    "    end = False\n",
    "    while end == False:\n",
    "        candidatos2 = []\n",
    "        for x in candidatos:\n",
    "            candidatos2 = candidatos2+DecomposeCSemigroup(x)\n",
    "        for x in candidatos2:\n",
    "            x.sort(key=lambda row: row[1:])\n",
    "        candidatos = list(DeleteDuplicates(candidatos2))     \n",
    "        end = all([IsIrreducible(ComputePseudoFrobenius(x,ComputeGaps(x))) for x in candidatos])\n",
    "    return candidatos"
   ]
  },
  {
   "cell_type": "code",
   "execution_count": 16,
   "metadata": {},
   "outputs": [],
   "source": [
    "irreducibles =DecomposeIrreducible(gen0)"
   ]
  },
  {
   "cell_type": "code",
   "execution_count": 17,
   "metadata": {},
   "outputs": [
    {
     "data": {
      "text/latex": [
       "$\\displaystyle 5$"
      ],
      "text/plain": [
       "5"
      ]
     },
     "execution_count": 17,
     "metadata": {},
     "output_type": "execute_result"
    }
   ],
   "source": [
    "len(irreducibles)"
   ]
  },
  {
   "cell_type": "code",
   "execution_count": 20,
   "metadata": {},
   "outputs": [
    {
     "name": "stdout",
     "output_type": "stream",
     "text": [
      "[[1, 0], [2, 1]]\n",
      "--> [[2, 0], [3, 0], [1, 1], [3, 2]]\n",
      "[[1, 0], [2, 0]]\n",
      "--> [[4, 0], [3, 0], [5, 0], [2, 1], [3, 1], [1, 1]]\n",
      "[[1, 1], [2, 1]]\n",
      "--> [[1, 0], [3, 1], [2, 2], [3, 3]]\n",
      "[[1, 1]]\n",
      "--> [[1, 0], [2, 1], [2, 2], [3, 3]]\n",
      "[[1, 0]]\n",
      "--> [[2, 0], [3, 0], [2, 1], [1, 1]]\n"
     ]
    }
   ],
   "source": [
    "for x in irreducibles:\n",
    "    print(ComputeGaps(x))\n",
    "    print(\"-->\",x)"
   ]
  },
  {
   "cell_type": "code",
   "execution_count": 19,
   "metadata": {},
   "outputs": [
    {
     "data": {
      "text/latex": [
       "$\\displaystyle \\left[ \\left[ 1, \\  0\\right]\\right]$"
      ],
      "text/plain": [
       "[[1, 0]]"
      ]
     },
     "execution_count": 19,
     "metadata": {},
     "output_type": "execute_result"
    }
   ],
   "source": [
    "ComputeGaps([[3, 0], [2, 0], [2, 1], [1, 1]])"
   ]
  },
  {
   "cell_type": "code",
   "execution_count": null,
   "metadata": {},
   "outputs": [],
   "source": []
  }
 ],
 "metadata": {
  "kernelspec": {
   "display_name": "Python 3",
   "language": "python",
   "name": "python3"
  },
  "language_info": {
   "codemirror_mode": {
    "name": "ipython",
    "version": 3
   },
   "file_extension": ".py",
   "mimetype": "text/x-python",
   "name": "python",
   "nbconvert_exporter": "python",
   "pygments_lexer": "ipython3",
   "version": "3.8.5"
  }
 },
 "nbformat": 4,
 "nbformat_minor": 2
}

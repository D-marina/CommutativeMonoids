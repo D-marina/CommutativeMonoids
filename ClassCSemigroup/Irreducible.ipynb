{
 "cells": [
  {
   "cell_type": "code",
   "execution_count": 1,
   "metadata": {
    "ExecuteTime": {
     "end_time": "2019-07-19T09:38:47.146901Z",
     "start_time": "2019-07-19T09:38:46.650401Z"
    }
   },
   "outputs": [
    {
     "ename": "ImportError",
     "evalue": "/home/daniel/.local/lib/python3.6/site-packages/PyNormaliz_cpp.cpython-36m-x86_64-linux-gnu.so: undefined symbol: _ZN11libnormaliz15nmz_interruptedE",
     "output_type": "error",
     "traceback": [
      "\u001b[0;31m---------------------------------------------------------------------------\u001b[0m",
      "\u001b[0;31mImportError\u001b[0m                               Traceback (most recent call last)",
      "\u001b[0;32m<ipython-input-1-84c360a0d231>\u001b[0m in \u001b[0;36m<module>\u001b[0;34m\u001b[0m\n\u001b[0;32m----> 1\u001b[0;31m \u001b[0;32mimport\u001b[0m \u001b[0mCharacterizingAffineCSemigroup\u001b[0m\u001b[0;34m\u001b[0m\u001b[0;34m\u001b[0m\u001b[0m\n\u001b[0m\u001b[1;32m      2\u001b[0m \u001b[0;32mfrom\u001b[0m \u001b[0mCharacterizingAffineCSemigroup\u001b[0m \u001b[0;32mimport\u001b[0m \u001b[0;34m*\u001b[0m\u001b[0;34m\u001b[0m\u001b[0;34m\u001b[0m\u001b[0m\n",
      "\u001b[0;32m~/CommutativeMonoids/ClassCSemigroup/CharacterizingAffineCSemigroup.py\u001b[0m in \u001b[0;36m<module>\u001b[0;34m\u001b[0m\n\u001b[1;32m      2\u001b[0m \u001b[0;31m# coding: utf-8\u001b[0m\u001b[0;34m\u001b[0m\u001b[0;34m\u001b[0m\u001b[0;34m\u001b[0m\u001b[0m\n\u001b[1;32m      3\u001b[0m \u001b[0;34m\u001b[0m\u001b[0m\n\u001b[0;32m----> 4\u001b[0;31m \u001b[0;32mimport\u001b[0m \u001b[0mPyNormaliz\u001b[0m\u001b[0;34m\u001b[0m\u001b[0;34m\u001b[0m\u001b[0m\n\u001b[0m\u001b[1;32m      5\u001b[0m \u001b[0;32mfrom\u001b[0m \u001b[0mPyNormaliz\u001b[0m \u001b[0;32mimport\u001b[0m \u001b[0;34m*\u001b[0m\u001b[0;34m\u001b[0m\u001b[0;34m\u001b[0m\u001b[0m\n\u001b[1;32m      6\u001b[0m \u001b[0;32mimport\u001b[0m \u001b[0mnumpy\u001b[0m\u001b[0;34m\u001b[0m\u001b[0;34m\u001b[0m\u001b[0m\n",
      "\u001b[0;32m~/.local/lib/python3.6/site-packages/PyNormaliz.py\u001b[0m in \u001b[0;36m<module>\u001b[0;34m\u001b[0m\n\u001b[1;32m      1\u001b[0m \u001b[0;31m# encoding=utf8\u001b[0m\u001b[0;34m\u001b[0m\u001b[0;34m\u001b[0m\u001b[0;34m\u001b[0m\u001b[0m\n\u001b[1;32m      2\u001b[0m \u001b[0;34m\u001b[0m\u001b[0m\n\u001b[0;32m----> 3\u001b[0;31m \u001b[0;32mimport\u001b[0m \u001b[0mPyNormaliz_cpp\u001b[0m\u001b[0;34m\u001b[0m\u001b[0;34m\u001b[0m\u001b[0m\n\u001b[0m\u001b[1;32m      4\u001b[0m \u001b[0;32mfrom\u001b[0m \u001b[0mPyNormaliz_cpp\u001b[0m \u001b[0;32mimport\u001b[0m \u001b[0;34m*\u001b[0m\u001b[0;34m\u001b[0m\u001b[0;34m\u001b[0m\u001b[0m\n\u001b[1;32m      5\u001b[0m \u001b[0;34m\u001b[0m\u001b[0m\n",
      "\u001b[0;31mImportError\u001b[0m: /home/daniel/.local/lib/python3.6/site-packages/PyNormaliz_cpp.cpython-36m-x86_64-linux-gnu.so: undefined symbol: _ZN11libnormaliz15nmz_interruptedE"
     ]
    }
   ],
   "source": [
    "import CharacterizingAffineCSemigroup\n",
    "from CharacterizingAffineCSemigroup import *"
   ]
  },
  {
   "cell_type": "code",
   "execution_count": 2,
   "metadata": {},
   "outputs": [],
   "source": [
    "import sys\n",
    "sys.path.insert(0,'../ClassAffine')"
   ]
  },
  {
   "cell_type": "code",
   "execution_count": 3,
   "metadata": {},
   "outputs": [],
   "source": [
    "gen = [[2,2],[3,0],[3,1],[3,2],[3,3],[4,0],[4,1],[4,2],[4,3],[5,0],[5,1],[5,2],[5,3]]"
   ]
  },
  {
   "cell_type": "code",
   "execution_count": 4,
   "metadata": {},
   "outputs": [],
   "source": [
    "cs = AffineSemigroup(gen,input_type=\"generators\")"
   ]
  },
  {
   "cell_type": "code",
   "execution_count": 5,
   "metadata": {},
   "outputs": [
    {
     "data": {
      "text/latex": [
       "$$\\left [ \\left [ 3, \\quad 2\\right ], \\quad \\left [ 5, \\quad 1\\right ], \\quad \\left [ 3, \\quad 3\\right ], \\quad \\left [ 3, \\quad 0\\right ], \\quad \\left [ 3, \\quad 1\\right ], \\quad \\left [ 4, \\quad 3\\right ], \\quad \\left [ 2, \\quad 2\\right ], \\quad \\left [ 5, \\quad 0\\right ], \\quad \\left [ 4, \\quad 2\\right ], \\quad \\left [ 4, \\quad 1\\right ], \\quad \\left [ 4, \\quad 0\\right ]\\right ]$$"
      ],
      "text/plain": [
       "[[3, 2], [5, 1], [3, 3], [3, 0], [3, 1], [4, 3], [2, 2], [5, 0], [4, 2], [4, 1\n",
       "], [4, 0]]"
      ]
     },
     "execution_count": 5,
     "metadata": {},
     "output_type": "execute_result"
    }
   ],
   "source": [
    "gen0 = cs.getMSG()\n",
    "gen0"
   ]
  },
  {
   "cell_type": "code",
   "execution_count": 6,
   "metadata": {},
   "outputs": [
    {
     "data": {
      "text/plain": [
       "True"
      ]
     },
     "execution_count": 6,
     "metadata": {},
     "output_type": "execute_result"
    }
   ],
   "source": [
    "IsCsemigroup(gen0)"
   ]
  },
  {
   "cell_type": "code",
   "execution_count": 7,
   "metadata": {},
   "outputs": [
    {
     "data": {
      "text/latex": [
       "$$\\left [ \\left [ 1, \\quad 0\\right ], \\quad \\left [ 1, \\quad 1\\right ], \\quad \\left [ 2, \\quad 0\\right ], \\quad \\left [ 2, \\quad 1\\right ]\\right ]$$"
      ],
      "text/plain": [
       "[[1, 0], [1, 1], [2, 0], [2, 1]]"
      ]
     },
     "execution_count": 7,
     "metadata": {},
     "output_type": "execute_result"
    }
   ],
   "source": [
    "gaps = ComputeGaps(gen0)\n",
    "gaps"
   ]
  },
  {
   "cell_type": "code",
   "execution_count": 8,
   "metadata": {},
   "outputs": [],
   "source": [
    "# This function compute the Pseudo-Frobenius elements of a C-semigroup.\n",
    "# INPUT:\n",
    "#   - gen: generadores del C-semigrupo.\n",
    "#   - gap: conjunto de huecos del C-semigrupo.\n",
    "# OUTPUT:\n",
    "#   - conjunto de pseudo-frobenius.\n",
    "def ComputePseudoFrobenius(gen,gap):\n",
    "    cs = AffineSemigroup(gen,input_type=\"generators\")\n",
    "    pf = []\n",
    "    for x in gap:\n",
    "        ispf = True\n",
    "        for y in gen:\n",
    "            if not cs.belongs([x[i]+y[i] for i in range(len(x))]):\n",
    "                ispf = False\n",
    "        if ispf:\n",
    "            pf.append(x)\n",
    "    return pf"
   ]
  },
  {
   "cell_type": "code",
   "execution_count": 9,
   "metadata": {},
   "outputs": [
    {
     "data": {
      "text/latex": [
       "$$\\left [ \\left [ 1, \\quad 0\\right ], \\quad \\left [ 1, \\quad 1\\right ], \\quad \\left [ 2, \\quad 0\\right ], \\quad \\left [ 2, \\quad 1\\right ]\\right ]$$"
      ],
      "text/plain": [
       "[[1, 0], [1, 1], [2, 0], [2, 1]]"
      ]
     },
     "execution_count": 9,
     "metadata": {},
     "output_type": "execute_result"
    }
   ],
   "source": [
    "ComputePseudoFrobenius(gen0,gaps)"
   ]
  },
  {
   "cell_type": "code",
   "execution_count": 10,
   "metadata": {},
   "outputs": [],
   "source": [
    "# Esta función elimina los elentos de un vector cuyo doble está en él.\n",
    "# INPUT:\n",
    "#   - v: vector.\n",
    "# OUTPUT:\n",
    "#   - vector v sin sus mitades.\n",
    "def DeleteHalves(v):\n",
    "    aux = []\n",
    "    for x in v:\n",
    "        if not [2*x[i] for i in range(len(x))] in v:\n",
    "            aux.append(x)\n",
    "    return aux"
   ]
  },
  {
   "cell_type": "code",
   "execution_count": 11,
   "metadata": {},
   "outputs": [],
   "source": [
    "# Esta función clasifica en irreducible o no a un C-semigrupo.\n",
    "# INPUT:\n",
    "#   - pf: Pseudo-Frobenius.\n",
    "# OUTPUT:\n",
    "#   True/False\n",
    "def IsIrreducible(pf):\n",
    "    if (len(pf) == 1) or (len(pf) == 2 and len(DeleteHalves(pf)) == 1):\n",
    "        return True\n",
    "    return False"
   ]
  },
  {
   "cell_type": "code",
   "execution_count": 145,
   "metadata": {},
   "outputs": [],
   "source": [
    "# Esta función devuelve una lista con el C-semigrupo si es irreducible o lo divide en trozos.\n",
    "# INPUT:\n",
    "#   - gen: generadores del C-semigrupo.\n",
    "# OUTPUT:\n",
    "#   - lista de C-semigrupos para descomponer.\n",
    "def DecomposeCSemigroup(gen):\n",
    "    gaps = ComputeGaps(gen)\n",
    "    pf = ComputePseudoFrobenius(gen,gaps)\n",
    "    if IsIrreducible(pf):\n",
    "        return [gen]\n",
    "    candidatos = []\n",
    "    pf = DeleteHalves(pf)\n",
    "    for x in pf:\n",
    "        cs = AffineSemigroup(gen+[x],input_type=\"generators\")\n",
    "        candidatos.append(cs.getMSG())\n",
    "    return candidatos"
   ]
  },
  {
   "cell_type": "code",
   "execution_count": null,
   "metadata": {},
   "outputs": [],
   "source": []
  },
  {
   "cell_type": "code",
   "execution_count": 146,
   "metadata": {},
   "outputs": [
    {
     "data": {
      "text/latex": [
       "$$\\left [ \\left [ 3, \\quad 2\\right ], \\quad \\left [ 4, \\quad 1\\right ], \\quad \\left [ 3, \\quad 3\\right ], \\quad \\left [ 3, \\quad 0\\right ], \\quad \\left [ 3, \\quad 1\\right ], \\quad \\left [ 2, \\quad 0\\right ], \\quad \\left [ 4, \\quad 3\\right ], \\quad \\left [ 2, \\quad 2\\right ]\\right ]$$"
      ],
      "text/plain": [
       "[[3, 2], [4, 1], [3, 3], [3, 0], [3, 1], [2, 0], [4, 3], [2, 2]]"
      ]
     },
     "execution_count": 146,
     "metadata": {},
     "output_type": "execute_result"
    }
   ],
   "source": [
    "DecomposeCSemigroup(gen0)[1]"
   ]
  },
  {
   "cell_type": "code",
   "execution_count": 147,
   "metadata": {},
   "outputs": [
    {
     "data": {
      "text/latex": [
       "$$\\left [ \\left [ 3, \\quad 2\\right ], \\quad \\left [ 5, \\quad 1\\right ], \\quad \\left [ 3, \\quad 3\\right ], \\quad \\left [ 3, \\quad 0\\right ], \\quad \\left [ 3, \\quad 1\\right ], \\quad \\left [ 4, \\quad 3\\right ], \\quad \\left [ 2, \\quad 2\\right ], \\quad \\left [ 5, \\quad 0\\right ], \\quad \\left [ 4, \\quad 2\\right ], \\quad \\left [ 4, \\quad 1\\right ], \\quad \\left [ 4, \\quad 0\\right ]\\right ]$$"
      ],
      "text/plain": [
       "[[3, 2], [5, 1], [3, 3], [3, 0], [3, 1], [4, 3], [2, 2], [5, 0], [4, 2], [4, 1\n",
       "], [4, 0]]"
      ]
     },
     "execution_count": 147,
     "metadata": {},
     "output_type": "execute_result"
    }
   ],
   "source": [
    "gen0"
   ]
  },
  {
   "cell_type": "code",
   "execution_count": 148,
   "metadata": {},
   "outputs": [],
   "source": [
    "def DecomposeIrreducible(gen):\n",
    "    candidatos = [gen]\n",
    "    end = False\n",
    "    while end == False:\n",
    "        candidatos2 = []\n",
    "        for x in candidatos:\n",
    "            candidatos2 = candidatos2+DecomposeCSemigroup(x)\n",
    "        for x in candidatos2:\n",
    "            x.sort(key=lambda row: row[1:])\n",
    "        candidatos = list(DeleteDuplicates(candidatos2))     \n",
    "        end = all([IsIrreducible(ComputePseudoFrobenius(x,ComputeGaps(x))) for x in candidatos])\n",
    "    return candidatos"
   ]
  },
  {
   "cell_type": "code",
   "execution_count": 149,
   "metadata": {},
   "outputs": [],
   "source": [
    "irreducibles =DecomposeIrreducible(gen0)"
   ]
  },
  {
   "cell_type": "code",
   "execution_count": 150,
   "metadata": {},
   "outputs": [
    {
     "data": {
      "text/latex": [
       "$$5$$"
      ],
      "text/plain": [
       "5"
      ]
     },
     "execution_count": 150,
     "metadata": {},
     "output_type": "execute_result"
    }
   ],
   "source": [
    "len(irreducibles)"
   ]
  },
  {
   "cell_type": "code",
   "execution_count": 151,
   "metadata": {},
   "outputs": [
    {
     "name": "stdout",
     "output_type": "stream",
     "text": [
      "--> [[3, 0], [2, 0], [1, 1], [3, 2]]\n",
      "--> [[3, 0], [5, 0], [4, 0], [3, 1], [2, 1], [1, 1]]\n",
      "--> [[1, 0], [3, 1], [2, 2], [3, 3]]\n",
      "--> [[1, 0], [2, 1], [2, 2], [3, 3]]\n",
      "--> [[3, 0], [2, 0], [2, 1], [1, 1]]\n"
     ]
    }
   ],
   "source": [
    "for x in irreducibles:\n",
    "    print(\"-->\",x)"
   ]
  },
  {
   "cell_type": "code",
   "execution_count": 156,
   "metadata": {},
   "outputs": [
    {
     "data": {
      "text/latex": [
       "$$\\left [ \\left [ 1, \\quad 0\\right ]\\right ]$$"
      ],
      "text/plain": [
       "[[1, 0]]"
      ]
     },
     "execution_count": 156,
     "metadata": {},
     "output_type": "execute_result"
    }
   ],
   "source": [
    "ComputeGaps([[3, 0], [2, 0], [2, 1], [1, 1]])"
   ]
  },
  {
   "cell_type": "code",
   "execution_count": null,
   "metadata": {},
   "outputs": [],
   "source": []
  }
 ],
 "metadata": {
  "kernelspec": {
   "display_name": "Python 3",
   "language": "python",
   "name": "python3"
  },
  "language_info": {
   "codemirror_mode": {
    "name": "ipython",
    "version": 3
   },
   "file_extension": ".py",
   "mimetype": "text/x-python",
   "name": "python",
   "nbconvert_exporter": "python",
   "pygments_lexer": "ipython3",
   "version": "3.6.8"
  }
 },
 "nbformat": 4,
 "nbformat_minor": 2
}

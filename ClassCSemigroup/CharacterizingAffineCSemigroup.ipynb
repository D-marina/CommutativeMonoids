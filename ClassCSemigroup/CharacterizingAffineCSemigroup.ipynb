{
 "cells": [
  {
   "cell_type": "code",
   "execution_count": 1,
   "metadata": {},
   "outputs": [],
   "source": [
    "import PyNormaliz\n",
    "from PyNormaliz import *\n",
    "import numpy\n",
    "from numpy import *\n",
    "import itertools\n",
    "from scipy.spatial import ConvexHull"
   ]
  },
  {
   "cell_type": "code",
   "execution_count": 2,
   "metadata": {},
   "outputs": [],
   "source": [
    "import sys\n",
    "sys.path.insert(0, '../Class/')\n",
    "sys.path.insert(0,'../ClassAffine')\n",
    "import integerSmithNormalFormAndApplications\n",
    "from integerSmithNormalFormAndApplications import *\n",
    "import AffineSemigroup\n",
    "from AffineSemigroup import *\n",
    "import auxiliars\n",
    "from auxiliars import *"
   ]
  },
  {
   "cell_type": "markdown",
   "metadata": {},
   "source": [
    "## Funciones auxiliares "
   ]
  },
  {
   "cell_type": "markdown",
   "metadata": {},
   "source": [
    "Veamos algunos ejemplos de semigrupos afines y veamos si son $\\mathcal{C}$-semigrupos."
   ]
  },
  {
   "cell_type": "code",
   "execution_count": 3,
   "metadata": {},
   "outputs": [],
   "source": [
    "gen0 = [[3,0],[4,0],[5,0],[2,2],[3,3],[4,3],[5,3],[5,1],[6,1],[7,1],[5,4],[5,5]]"
   ]
  },
  {
   "cell_type": "code",
   "execution_count": 4,
   "metadata": {},
   "outputs": [],
   "source": [
    "gen1 = [[3,3],[4,4],[5,5],[5,0],[5,1],[5,2],[5,3],[5,4],[6,0]]"
   ]
  },
  {
   "cell_type": "code",
   "execution_count": 5,
   "metadata": {},
   "outputs": [],
   "source": [
    "ex10 = [[2,0,0],[4,2,4],[0,1,0],[3,0,0],[6,3,6],[3,1,1],[4,1,1],[3,1,2],[1,1,0],[3,2,3],[1,2,1]]"
   ]
  },
  {
   "cell_type": "code",
   "execution_count": null,
   "metadata": {},
   "outputs": [],
   "source": [
    "# En primer lugar calculamos el cono de los generadores."
   ]
  },
  {
   "cell_type": "code",
   "execution_count": null,
   "metadata": {},
   "outputs": [],
   "source": [
    "C0 = Cone(cone=gen0)\n",
    "C1 = Cone(cone=gen1)\n",
    "C10 = Cone(cone=ex10)"
   ]
  },
  {
   "cell_type": "code",
   "execution_count": null,
   "metadata": {},
   "outputs": [],
   "source": [
    "hp10=C10.SupportHyperplanes()"
   ]
  },
  {
   "cell_type": "code",
   "execution_count": null,
   "metadata": {},
   "outputs": [],
   "source": [
    "rayos0 = C0.ExtremeRays()\n",
    "rayos1 = C1.ExtremeRays()\n",
    "rayos10 = C10.ExtremeRays()\n",
    "rayos10"
   ]
  },
  {
   "cell_type": "code",
   "execution_count": null,
   "metadata": {},
   "outputs": [],
   "source": [
    "q0 = len(rayos0)\n",
    "q1 = len(rayos1)\n",
    "q0,q1"
   ]
  },
  {
   "cell_type": "markdown",
   "metadata": {},
   "source": [
    "Vemos ahora si en los ejes se forma un semigrupo."
   ]
  },
  {
   "cell_type": "code",
   "execution_count": 6,
   "metadata": {},
   "outputs": [],
   "source": [
    "# Check if all the coordinates are positives.\n",
    "def BelongQPositive(v):\n",
    "    for i in range(len(v)):\n",
    "        if v[i] < 0:\n",
    "            return False\n",
    "    return True"
   ]
  },
  {
   "cell_type": "code",
   "execution_count": 7,
   "metadata": {},
   "outputs": [],
   "source": [
    "# Pertenece a un eje y si es así, devuelve el múltiplo.\n",
    "# INPUT:\n",
    "#   - x: Value for checking if it is in the ray.\n",
    "#   - r: Minimal value in the ray.\n",
    "# OUTPUT:\n",
    "#   - 0: If not belongs to the ray.\n",
    "#   - A value if belongs to the ray.\n",
    "def BelongAxis(x,r):\n",
    "    coef = 0\n",
    "    for i in range(len(x)):\n",
    "        if x[i] != 0 and r[i] != 0:\n",
    "            coef = x[i]/r[i]\n",
    "            break\n",
    "    if coef == 0:\n",
    "        return 0\n",
    "    aux2 = [j/coef for j in x]\n",
    "    if aux2 == r:\n",
    "        if(int(coef)==coef):\n",
    "            return int(coef)\n",
    "        return coef\n",
    "    else:\n",
    "        return 0"
   ]
  },
  {
   "cell_type": "code",
   "execution_count": null,
   "metadata": {},
   "outputs": [],
   "source": [
    "BelongAxis([3,0],[1,0])"
   ]
  },
  {
   "cell_type": "code",
   "execution_count": 8,
   "metadata": {},
   "outputs": [],
   "source": [
    "# Vemos para un eje si se forma un semigrupo.\n",
    "# INPUT:\n",
    "#   - gen: Set of generators.\n",
    "#   - r: Minimal value in the ray.\n",
    "# OUTPUT:\n",
    "#   - True/False.\n",
    "def AxisIsSemigroup(gen,r):\n",
    "    aux = []\n",
    "    for x in gen:\n",
    "        aux.append(BelongAxis(x,r))\n",
    "    aux2 = [x for x in aux if x != 0]\n",
    "    if(gcdL(aux2) == 1):\n",
    "        return True\n",
    "    else:\n",
    "        return False"
   ]
  },
  {
   "cell_type": "code",
   "execution_count": null,
   "metadata": {},
   "outputs": [],
   "source": [
    "AxisIsSemigroup(ex10,rayos10[0]),AxisIsSemigroup(ex10,rayos10[1]),AxisIsSemigroup(ex10,rayos10[2])"
   ]
  },
  {
   "cell_type": "code",
   "execution_count": 9,
   "metadata": {},
   "outputs": [],
   "source": [
    "# Vemos si los ejes forman un semigrupo.\n",
    "# INPUT:\n",
    "#   - gen: Set of generators.\n",
    "#   - setR: Set of rays.\n",
    "# OUTPUT:\n",
    "#   - True/False.\n",
    "def AxisAreSemigroup(gen,setR):\n",
    "    aux = []\n",
    "    for x in setR:\n",
    "        aux.append(AxisIsSemigroup(gen,x))\n",
    "    return all(aux)"
   ]
  },
  {
   "cell_type": "code",
   "execution_count": null,
   "metadata": {},
   "outputs": [],
   "source": [
    "AxisAreSemigroup(gen0,rayos0)"
   ]
  },
  {
   "cell_type": "code",
   "execution_count": null,
   "metadata": {},
   "outputs": [],
   "source": [
    "AxisAreSemigroup(gen1,rayos1)"
   ]
  },
  {
   "cell_type": "code",
   "execution_count": null,
   "metadata": {},
   "outputs": [],
   "source": [
    "AxisAreSemigroup(ex10,rayos10)"
   ]
  },
  {
   "cell_type": "markdown",
   "metadata": {},
   "source": [
    "Veamos ahora los puntos que hay dentro del *\"diamantito\"*"
   ]
  },
  {
   "cell_type": "code",
   "execution_count": 10,
   "metadata": {},
   "outputs": [],
   "source": [
    "# En primer lugar tenemos que calcular el diamante.\n",
    "# INPUT:\n",
    "#   - a: Minimal elements of the ray.\n",
    "# OUTPUT:\n",
    "#   - Points of the diamond\n",
    "def Diamond(a):\n",
    "    aux = list(a)\n",
    "    aux.append([0 for x in range(len(a))])\n",
    "    for i in range(len(a)):\n",
    "        for j in range(i+1,len(a)):\n",
    "            aux.append(array(a[i])+array(a[j]))\n",
    "    return [list(x) for x in  aux]"
   ]
  },
  {
   "cell_type": "code",
   "execution_count": null,
   "metadata": {},
   "outputs": [],
   "source": [
    "diamante0 = Diamond(rayos0)\n",
    "diamante1 = Diamond(rayos1)\n",
    "diamante10 = Diamond(rayos10)\n",
    "diamante10"
   ]
  },
  {
   "cell_type": "code",
   "execution_count": null,
   "metadata": {},
   "outputs": [],
   "source": [
    "'''\n",
    "from scipy.spatial import ConvexHull\n",
    "points = np.random.rand(30, 2)\n",
    "hull = ConvexHull(points)\n",
    "import matplotlib.pyplot as plt\n",
    "plt.plot(points[:,0], points[:,1], 'o')\n",
    "for simplex in hull.simplices:\n",
    "     plt.plot(points[simplex, 0], points[simplex, 1], 'k-')\n",
    "plt.plot(points[hull.vertices,0], points[hull.vertices,1], 'r--', lw=2)\n",
    "plt.plot(points[hull.vertices[0],0], points[hull.vertices[0],1], 'ro')\n",
    "plt.show()\n",
    "'''"
   ]
  },
  {
   "cell_type": "code",
   "execution_count": null,
   "metadata": {},
   "outputs": [],
   "source": [
    "hull0 = ConvexHull(diamante0)\n",
    "eq0 = [list(x) for x in hull0.equations]\n",
    "hull1 = ConvexHull(diamante1)\n",
    "eq1 = [list(x) for x in hull1.equations]\n",
    "hull10 = ConvexHull(diamante10)\n",
    "eq10 = [list(x) for x in hull10.equations]\n",
    "eq10"
   ]
  },
  {
   "cell_type": "code",
   "execution_count": 11,
   "metadata": {},
   "outputs": [],
   "source": [
    "# Ahora veremos si un punto pertenece al diamante o no.\n",
    "# INPUT:\n",
    "#   - pt: Punto para comprobar la pertenencia.\n",
    "#   - eq: Ecuaciones del diamante.\n",
    "# OUTPUT:\n",
    "#   - True/False.\n",
    "def PointBelongsDiamond(pt,eq):\n",
    "    dim = len(pt)\n",
    "    for x in eq:\n",
    "        sum = 0\n",
    "        for i in range(dim):\n",
    "            sum = sum + pt[i]*x[i]\n",
    "        sum = round(sum+x[-1],10)\n",
    "        if sum > 0:\n",
    "            return False\n",
    "    return True"
   ]
  },
  {
   "cell_type": "code",
   "execution_count": null,
   "metadata": {},
   "outputs": [],
   "source": [
    "PointBelongsDiamond([1,1],eq0)"
   ]
  },
  {
   "cell_type": "code",
   "execution_count": null,
   "metadata": {},
   "outputs": [],
   "source": [
    "PointBelongsDiamond([3,2,2],eq10)"
   ]
  },
  {
   "cell_type": "code",
   "execution_count": 12,
   "metadata": {},
   "outputs": [],
   "source": [
    "# Calculo el menor cuboide que contenga al diamante.\n",
    "# INPUT:\n",
    "#   - d: Vértices del diamante.\n",
    "# OUTPUT:\n",
    "#   - Máximos en cada coordenada del cubo.\n",
    "def Cube(d):\n",
    "    dim = len(d[0])\n",
    "    aux = []\n",
    "    for i in range(dim):\n",
    "        aux.append(sorted(d, key = lambda x: x[i])[-1][i])\n",
    "    return(aux)"
   ]
  },
  {
   "cell_type": "code",
   "execution_count": null,
   "metadata": {},
   "outputs": [],
   "source": [
    "cube0 = Cube(diamante0)\n",
    "cube1 = Cube(diamante1)\n",
    "cube10 = Cube(diamante10)\n",
    "cube10"
   ]
  },
  {
   "cell_type": "code",
   "execution_count": 13,
   "metadata": {},
   "outputs": [],
   "source": [
    "# Calculamos todos los puntos del diamante.\n",
    "# INPUT:\n",
    "#   - eq: Ecuaciones que definen el diamante.\n",
    "# OUTPUT:\n",
    "#   - Puntos enteros del diamante.\n",
    "def IntegerDiamond(eq,cube):\n",
    "    d = []\n",
    "    it = itertools.product(*[range(i+1) for i in cube])\n",
    "    for x in it:\n",
    "        if PointBelongsDiamond(list(x),eq):\n",
    "            d.append(list(x))\n",
    "    return d"
   ]
  },
  {
   "cell_type": "code",
   "execution_count": null,
   "metadata": {},
   "outputs": [],
   "source": [
    "diamanteEntero0 = IntegerDiamond(eq0,cube0)\n",
    "diamanteEntero1 = IntegerDiamond(eq1,cube1)\n",
    "diamanteEntero10 = IntegerDiamond(eq10,cube10)\n",
    "diamanteEntero10"
   ]
  },
  {
   "cell_type": "code",
   "execution_count": null,
   "metadata": {},
   "outputs": [],
   "source": [
    "hull11 = ConvexHull(diamante10+[cube10])\n",
    "eq11 = [list(x) for x in hull11.equations]\n",
    "diamanteEntero10 = IntegerDiamond(eq11,cube10)\n",
    "diamanteEntero10"
   ]
  },
  {
   "cell_type": "code",
   "execution_count": null,
   "metadata": {},
   "outputs": [],
   "source": [
    "eq=ConvexHull(Diamond([[1,3],[5,2]])).equations\n",
    "IntegerDiamond(eq,[6,5])"
   ]
  },
  {
   "cell_type": "markdown",
   "metadata": {},
   "source": [
    "A continuación, veremos para cada rayo el semigrupo afín generado por los términos independientes de las ecuaciones en los puntos enteros del diamante."
   ]
  },
  {
   "cell_type": "code",
   "execution_count": null,
   "metadata": {},
   "outputs": [],
   "source": [
    "'''C0.SupportHyperplanes()'''"
   ]
  },
  {
   "cell_type": "code",
   "execution_count": null,
   "metadata": {},
   "outputs": [],
   "source": [
    "'''Cone(cone=[[1,0,0],[3,4,5],[4,5,5]]).SupportHyperplanes()'''"
   ]
  },
  {
   "cell_type": "code",
   "execution_count": 14,
   "metadata": {},
   "outputs": [],
   "source": [
    "def ProdEsc(v1,v2):\n",
    "    n = len(v1)\n",
    "    suma = 0\n",
    "    for i in range(n):\n",
    "        suma = suma + v1[i] * v2[i]\n",
    "    return suma"
   ]
  },
  {
   "cell_type": "code",
   "execution_count": null,
   "metadata": {},
   "outputs": [],
   "source": [
    "ProdEsc([1,2,3],[1,1,1])"
   ]
  },
  {
   "cell_type": "code",
   "execution_count": 15,
   "metadata": {},
   "outputs": [],
   "source": [
    "# En primer lugar calculamos las ecuaciones que definen un rayo.\n",
    "# INPUT:\n",
    "#   - ray: rayo del cono.\n",
    "#   - hp: hiperplanos soportes.\n",
    "# OUTPUT:\n",
    "#   - ecuaciones del rayo.\n",
    "def EqRay(ray,hp):\n",
    "    eq = []\n",
    "    for x in hp:\n",
    "        if ProdEsc(ray,x) == 0:\n",
    "            eq.append(x)\n",
    "    return eq"
   ]
  },
  {
   "cell_type": "code",
   "execution_count": null,
   "metadata": {},
   "outputs": [],
   "source": [
    "EqRay([2,1,2],hp10)"
   ]
  },
  {
   "cell_type": "code",
   "execution_count": null,
   "metadata": {},
   "outputs": [],
   "source": [
    "EqRay(rayos10[0],hp10),EqRay(rayos10[1],hp10),EqRay(rayos10[2],hp10)"
   ]
  },
  {
   "cell_type": "code",
   "execution_count": 16,
   "metadata": {},
   "outputs": [],
   "source": [
    "# Eliminamos los elementos que son todos ceros.\n",
    "# INPUT:\n",
    "#   - m: matriz.\n",
    "# OUTPUT:\n",
    "#   - Matriz m sin filas nulas.\n",
    "def DeleteRowZero(m):\n",
    "    aux = []\n",
    "    for v in m:\n",
    "        allzero = True\n",
    "        for i in range(len(v)):\n",
    "            if v[i] != 0:\n",
    "                allzero = False\n",
    "        if not allzero:\n",
    "            aux.append(v)\n",
    "    return aux"
   ]
  },
  {
   "cell_type": "code",
   "execution_count": null,
   "metadata": {},
   "outputs": [],
   "source": [
    "DeleteRowZero([[0,1],[0,0],[1,0],[1]])"
   ]
  },
  {
   "cell_type": "code",
   "execution_count": 17,
   "metadata": {},
   "outputs": [],
   "source": [
    "# Borramos elementos repetidos.\n",
    "# INPUT:\n",
    "#   - v: vector de entrada.\n",
    "# OUTPUT:\n",
    "#   - vector v sin elementos de entrada.\n",
    "def DeleteDuplicates(v):\n",
    "    w = []\n",
    "    for i in range(len(v)):\n",
    "        if v[i] not in w:\n",
    "            w.append(v[i])\n",
    "    return w"
   ]
  },
  {
   "cell_type": "code",
   "execution_count": 18,
   "metadata": {},
   "outputs": [],
   "source": [
    "# Calculamos los valores afines del diamante con respecto a un rayo.\n",
    "# INPUT:\n",
    "#   - eq: Ecuaciones del rayo.\n",
    "#   - d: Diamante entero.\n",
    "# OUTPUT:\n",
    "#   - Terminos afines del diamante sin los ceros ni elementos duplicados.\n",
    "def AffineTerm(eq,d):\n",
    "    neq = len(eq)\n",
    "    dim = len(eq[0])\n",
    "    afin = []\n",
    "    for x in d:\n",
    "        aux = []\n",
    "        for e in eq:\n",
    "            aux = aux + [ProdEsc(x,e)]\n",
    "        afin.append(aux)\n",
    "    return DeleteDuplicates(DeleteRowZero(afin))"
   ]
  },
  {
   "cell_type": "code",
   "execution_count": null,
   "metadata": {},
   "outputs": [],
   "source": [
    "e0 = EqRay(rayos10[0],hp10)\n",
    "e1 = EqRay(rayos10[1],hp10)\n",
    "e2 = EqRay(rayos10[2],hp10)"
   ]
  },
  {
   "cell_type": "code",
   "execution_count": null,
   "metadata": {},
   "outputs": [],
   "source": [
    "AffineTerm(e0,diamanteEntero10)"
   ]
  },
  {
   "cell_type": "code",
   "execution_count": null,
   "metadata": {},
   "outputs": [],
   "source": [
    "AffineTerm(e1,diamanteEntero10)"
   ]
  },
  {
   "cell_type": "code",
   "execution_count": null,
   "metadata": {},
   "outputs": [],
   "source": [
    "AffineTerm(e2,diamanteEntero10)"
   ]
  },
  {
   "cell_type": "code",
   "execution_count": null,
   "metadata": {},
   "outputs": [],
   "source": [
    "afs=AffineSemigroup(AffineTerm([[0,1]],diamanteEntero0), \"generators\")\n",
    "print(afs.getMSG())"
   ]
  },
  {
   "cell_type": "code",
   "execution_count": 19,
   "metadata": {},
   "outputs": [],
   "source": [
    "# Multiplicar matrices.\n",
    "# INPUT:\n",
    "#   - X: una matriz.\n",
    "#   - Y: otra matriz.\n",
    "# OUTPUT:\n",
    "#   - Producto de ambas.\n",
    "def MultiplyMatrix(X,Y):\n",
    "    result = [[0 for y in Y[0]] for x in X]\n",
    "    # iterate through rows of X\n",
    "    for i in range(len(X)):\n",
    "        # iterate through columns of Y\n",
    "        for j in range(len(Y[0])):\n",
    "            # iterate through rows of Y\n",
    "            for k in range(len(Y)):\n",
    "                result[i][j] += X[i][k] * Y[k][j]\n",
    "    return result"
   ]
  },
  {
   "cell_type": "code",
   "execution_count": null,
   "metadata": {},
   "outputs": [],
   "source": [
    "MultiplyMatrix([[12,7,3],[4 ,5,6],[7 ,8,9]],[[5],[6],[4]])"
   ]
  },
  {
   "cell_type": "code",
   "execution_count": null,
   "metadata": {},
   "outputs": [],
   "source": [
    "MultiplyMatrix([[0,1]],[[5],[1]])"
   ]
  },
  {
   "cell_type": "code",
   "execution_count": 60,
   "metadata": {},
   "outputs": [],
   "source": [
    "# Calculamos si en cada recta afín paralela al rayo hay un generador.\n",
    "# INPUT:\n",
    "#   - eqray: ecuaciones de un rayo.\n",
    "#   - afinset: valor afín de la recta.\n",
    "#   - smg: generadores del semigrupo.\n",
    "# OUTPUT:\n",
    "#   True/False si en esa recta hay un generador.\n",
    "def ExistGenerator(eqray, afin,smg):\n",
    "    aux = AffineTerm(eqray,smg)\n",
    "    if afin in aux:\n",
    "        return True\n",
    "    else:\n",
    "        return False"
   ]
  },
  {
   "cell_type": "code",
   "execution_count": 61,
   "metadata": {},
   "outputs": [
    {
     "data": {
      "text/plain": [
       "True"
      ]
     },
     "execution_count": 61,
     "metadata": {},
     "output_type": "execute_result"
    }
   ],
   "source": [
    "ExistGenerator([[0, 0, 1], [1, 0, -1]],[0, 1],ex10)"
   ]
  },
  {
   "cell_type": "markdown",
   "metadata": {},
   "source": [
    "## Función algoritmo 1"
   ]
  },
  {
   "cell_type": "code",
   "execution_count": 62,
   "metadata": {},
   "outputs": [
    {
     "data": {
      "text/latex": [
       "$$\\left [ \\left [ 3, \\quad 0\\right ], \\quad \\left [ 4, \\quad 0\\right ], \\quad \\left [ 5, \\quad 0\\right ], \\quad \\left [ 2, \\quad 2\\right ], \\quad \\left [ 3, \\quad 3\\right ], \\quad \\left [ 4, \\quad 3\\right ], \\quad \\left [ 5, \\quad 3\\right ], \\quad \\left [ 5, \\quad 1\\right ], \\quad \\left [ 6, \\quad 1\\right ], \\quad \\left [ 7, \\quad 1\\right ], \\quad \\left [ 5, \\quad 4\\right ], \\quad \\left [ 5, \\quad 5\\right ]\\right ]$$"
      ],
      "text/plain": [
       "[[3, 0], [4, 0], [5, 0], [2, 2], [3, 3], [4, 3], [5, 3], [5, 1], [6, 1], [7, 1\n",
       "], [5, 4], [5, 5]]"
      ]
     },
     "execution_count": 62,
     "metadata": {},
     "output_type": "execute_result"
    }
   ],
   "source": [
    "gen0"
   ]
  },
  {
   "cell_type": "code",
   "execution_count": 63,
   "metadata": {},
   "outputs": [],
   "source": [
    "# Esta función dice si un conjunto de elementos genera o no un C-semigrupo.\n",
    "# INPUT:\n",
    "#   - smg: Sistema generador.\n",
    "# OUTPUT:\n",
    "#   - True/False.\n",
    "def IsCsemigroup(smg):\n",
    "    # En primer lugar calculamos los rayos del cono con Pynormaliz.\n",
    "    cono = Cone(cone=smg)\n",
    "    rayos = cono.ExtremeRays()\n",
    "    # Calculamos también los hiperplanos soportes.\n",
    "    hp = cono.SupportHyperplanes()\n",
    "    for ray in rayos:\n",
    "        # En primer lugar comprobamos que el rayo es un semigrupo en sí mismo.\n",
    "        if not AxisIsSemigroup(smg,ray):\n",
    "            return False\n",
    "    # Calculamos el diamante.\n",
    "    diamante = Diamond(rayos)\n",
    "    # Calculamos sus ecuaciones gracias a scipy.spatial -> ConvexHull.\n",
    "    hull = ConvexHull(diamante)\n",
    "    eqDiamante = [list(x) for x in hull.equations]\n",
    "    # Calculamos una cota para los puntos del diamante.\n",
    "    cotaDiamante = Cube(diamante)\n",
    "    # Calculamos el diamante entero.\n",
    "    diamanteEntero = IntegerDiamond(eqDiamante,cotaDiamante)\n",
    "    # Veamos ahora que por cada rayo las paralelas afines \"generadoras\" cortan a los generadores del semigrupo.\n",
    "    for ray in rayos:\n",
    "        # Calculamos las ecuaciones del rayo.\n",
    "        eqrayo = EqRay(ray,hp)\n",
    "        # Calculamos los términos afines de los puntos enteros del diamantes.\n",
    "        afinesDiamante = AffineTerm(eqrayo,diamanteEntero)\n",
    "        # Nos quedamos con los generadores afines.\n",
    "        genAfines = AffineSemigroup(afinesDiamante, \"generators\").getMSG()\n",
    "        # Comprobamos que por cada afín pasa un generador\n",
    "        for afin in genAfines:\n",
    "            if not ExistGenerator(eqrayo, afin,smg):\n",
    "                return False\n",
    "    return True"
   ]
  },
  {
   "cell_type": "code",
   "execution_count": 64,
   "metadata": {},
   "outputs": [
    {
     "data": {
      "text/plain": [
       "True"
      ]
     },
     "execution_count": 64,
     "metadata": {},
     "output_type": "execute_result"
    }
   ],
   "source": [
    "IsCsemigroup(ex10)"
   ]
  },
  {
   "cell_type": "code",
   "execution_count": 27,
   "metadata": {},
   "outputs": [
    {
     "name": "stdout",
     "output_type": "stream",
     "text": [
      "El rayo es:  [1, 0]\n",
      "El rayo es:  [1, 1]\n"
     ]
    },
    {
     "data": {
      "text/plain": [
       "True"
      ]
     },
     "execution_count": 27,
     "metadata": {},
     "output_type": "execute_result"
    }
   ],
   "source": [
    "IsCsemigroup(gen0)"
   ]
  },
  {
   "cell_type": "code",
   "execution_count": 23,
   "metadata": {
    "scrolled": true
   },
   "outputs": [
    {
     "data": {
      "text/latex": [
       "$$\\left [ \\left [ 3, \\quad 0\\right ], \\quad \\left [ 4, \\quad 0\\right ], \\quad \\left [ 5, \\quad 0\\right ], \\quad \\left [ 2, \\quad 2\\right ], \\quad \\left [ 3, \\quad 3\\right ], \\quad \\left [ 4, \\quad 3\\right ], \\quad \\left [ 5, \\quad 3\\right ], \\quad \\left [ 5, \\quad 1\\right ], \\quad \\left [ 6, \\quad 1\\right ], \\quad \\left [ 7, \\quad 1\\right ], \\quad \\left [ 5, \\quad 4\\right ], \\quad \\left [ 5, \\quad 5\\right ]\\right ]$$"
      ],
      "text/plain": [
       "[[3, 0], [4, 0], [5, 0], [2, 2], [3, 3], [4, 3], [5, 3], [5, 1], [6, 1], [7, 1\n",
       "], [5, 4], [5, 5]]"
      ]
     },
     "execution_count": 23,
     "metadata": {},
     "output_type": "execute_result"
    }
   ],
   "source": [
    "gen0"
   ]
  },
  {
   "cell_type": "code",
   "execution_count": 24,
   "metadata": {},
   "outputs": [
    {
     "data": {
      "text/plain": [
       "True"
      ]
     },
     "execution_count": 24,
     "metadata": {},
     "output_type": "execute_result"
    }
   ],
   "source": [
    "IsCsemigroup(gen1)"
   ]
  },
  {
   "cell_type": "markdown",
   "metadata": {},
   "source": [
    "## Funciones auxiliares 2 "
   ]
  },
  {
   "cell_type": "code",
   "execution_count": null,
   "metadata": {},
   "outputs": [],
   "source": [
    "# En primer lugar tenemos que calcular los conductores en cada rayo."
   ]
  },
  {
   "cell_type": "code",
   "execution_count": null,
   "metadata": {},
   "outputs": [],
   "source": [
    "rayos0"
   ]
  },
  {
   "cell_type": "code",
   "execution_count": null,
   "metadata": {},
   "outputs": [],
   "source": [
    "BelongAxis(gen0[0],rayos0[0])"
   ]
  },
  {
   "cell_type": "code",
   "execution_count": null,
   "metadata": {},
   "outputs": [],
   "source": [
    "# Calculamos el conductor.\n",
    "# INPUT:\n",
    "#   - gen: Set of generators.\n",
    "#   - r: Minimal value in the ray.\n",
    "# OUTPUT:\n",
    "#   - conductor\n",
    "def ConductorAxis(gen,r):\n",
    "    aux = []\n",
    "    for x in gen:\n",
    "        aux.append(BelongAxis(x,r))\n",
    "    aux2 = [x for x in aux if x != 0]\n",
    "    print(r,aux2)\n",
    "    return [x*(FrobeniusNumber(aux2)+1) for x in r]\n",
    "    "
   ]
  },
  {
   "cell_type": "code",
   "execution_count": null,
   "metadata": {},
   "outputs": [],
   "source": [
    "ConductorAxis(gen0,rayos0[1])"
   ]
  },
  {
   "cell_type": "code",
   "execution_count": null,
   "metadata": {},
   "outputs": [],
   "source": []
  }
 ],
 "metadata": {
  "kernelspec": {
   "display_name": "Python 3",
   "language": "python",
   "name": "python3"
  },
  "language_info": {
   "codemirror_mode": {
    "name": "ipython",
    "version": 3
   },
   "file_extension": ".py",
   "mimetype": "text/x-python",
   "name": "python",
   "nbconvert_exporter": "python",
   "pygments_lexer": "ipython3",
   "version": "3.6.3"
  }
 },
 "nbformat": 4,
 "nbformat_minor": 2
}

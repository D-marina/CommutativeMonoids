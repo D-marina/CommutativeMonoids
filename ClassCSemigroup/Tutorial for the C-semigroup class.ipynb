{
 "cells": [
  {
   "cell_type": "markdown",
   "id": "89d6141b",
   "metadata": {},
   "source": [
    "# How import the library and create a $\\mathcal{C}$-Semigroup"
   ]
  },
  {
   "cell_type": "markdown",
   "id": "bc237ed8",
   "metadata": {},
   "source": [
    "First, we need to import the file called *CSemigroupClass.py*, in order to do it, we use the following code."
   ]
  },
  {
   "cell_type": "code",
   "execution_count": 2,
   "id": "e4e3c0ce",
   "metadata": {},
   "outputs": [],
   "source": [
    "import CSemigroupClass"
   ]
  },
  {
   "cell_type": "markdown",
   "id": "89f6f173",
   "metadata": {},
   "source": [
    "If no message appears the import has been successful. Now we need to create a $\\mathcal{C}$-semigroup."
   ]
  },
  {
   "cell_type": "markdown",
   "id": "a32dfe7c",
   "metadata": {},
   "source": []
  }
 ],
 "metadata": {
  "kernelspec": {
   "display_name": "Python 3",
   "language": "python",
   "name": "python3"
  },
  "language_info": {
   "codemirror_mode": {
    "name": "ipython",
    "version": 3
   },
   "file_extension": ".py",
   "mimetype": "text/x-python",
   "name": "python",
   "nbconvert_exporter": "python",
   "pygments_lexer": "ipython3",
   "version": "3.8.5"
  }
 },
 "nbformat": 4,
 "nbformat_minor": 5
}

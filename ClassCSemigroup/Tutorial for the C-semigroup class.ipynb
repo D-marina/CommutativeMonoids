{
 "cells": [
  {
   "cell_type": "markdown",
   "id": "3a3cfb00",
   "metadata": {},
   "source": [
    "# How import the library and create a $\\mathcal{C}$-semigroup"
   ]
  },
  {
   "cell_type": "markdown",
   "id": "2e3ad114",
   "metadata": {},
   "source": [
    "First, we need to import the file called *CSemigroupClass.py*, in order to do it, we use the following code."
   ]
  },
  {
   "cell_type": "code",
   "execution_count": 1,
   "id": "8f6b3d07",
   "metadata": {},
   "outputs": [],
   "source": [
    "from CSemigroupClass import *"
   ]
  },
  {
   "cell_type": "markdown",
   "id": "88f52ff5",
   "metadata": {},
   "source": [
    "If no message appears the import has been successful. Now we need to create a $\\mathcal{C}$-semigroup. In order to do it, first we need to check if a given set generates or not a semigroup of this kind. We use the function *IsCsemigroup*."
   ]
  },
  {
   "cell_type": "markdown",
   "id": "974dbe0a",
   "metadata": {},
   "source": [
    "######  Example 1"
   ]
  },
  {
   "cell_type": "code",
   "execution_count": 2,
   "id": "993becef",
   "metadata": {},
   "outputs": [
    {
     "data": {
      "text/plain": [
       "False"
      ]
     },
     "execution_count": 2,
     "metadata": {},
     "output_type": "execute_result"
    }
   ],
   "source": [
    "IsCsemigroup([[1,0],[0,2]])"
   ]
  },
  {
   "cell_type": "markdown",
   "id": "28d4c94f",
   "metadata": {},
   "source": [
    "###### Example 2"
   ]
  },
  {
   "cell_type": "code",
   "execution_count": 3,
   "id": "cdbcc86b",
   "metadata": {},
   "outputs": [
    {
     "data": {
      "text/plain": [
       "True"
      ]
     },
     "execution_count": 3,
     "metadata": {},
     "output_type": "execute_result"
    }
   ],
   "source": [
    "IsCsemigroup([[2,0,0],[4,2,4],[0,1,0],[3,0,0],[6,3,6],[3,1,1],[4,1,1],[3,1,2],[1,1,0],[3,2,3],[1,2,1]])"
   ]
  },
  {
   "cell_type": "markdown",
   "id": "96ca35e0",
   "metadata": {},
   "source": [
    "We can do the same creating a $\\mathcal{C}$-semigroup object. If the set is not a $\\mathcal{C}$-semigroup it will raise an exception. Note that this method is a bit slower because, when the object is created, it also create the gaps of the semigroup."
   ]
  },
  {
   "cell_type": "markdown",
   "id": "1a632deb",
   "metadata": {},
   "source": [
    "###### Example 3"
   ]
  },
  {
   "cell_type": "code",
   "execution_count": 4,
   "id": "505a7b67",
   "metadata": {},
   "outputs": [
    {
     "ename": "Exception",
     "evalue": "The set do not form a C-Semigroup",
     "output_type": "error",
     "traceback": [
      "\u001b[0;31m---------------------------------------------------------------------------\u001b[0m",
      "\u001b[0;31mException\u001b[0m                                 Traceback (most recent call last)",
      "\u001b[0;32m<ipython-input-4-12e101716db2>\u001b[0m in \u001b[0;36m<module>\u001b[0;34m\u001b[0m\n\u001b[0;32m----> 1\u001b[0;31m \u001b[0mCsemigroup\u001b[0m\u001b[0;34m(\u001b[0m\u001b[0;34m[\u001b[0m\u001b[0;34m[\u001b[0m\u001b[0;36m1\u001b[0m\u001b[0;34m,\u001b[0m\u001b[0;36m0\u001b[0m\u001b[0;34m]\u001b[0m\u001b[0;34m,\u001b[0m\u001b[0;34m[\u001b[0m\u001b[0;36m0\u001b[0m\u001b[0;34m,\u001b[0m\u001b[0;36m2\u001b[0m\u001b[0;34m]\u001b[0m\u001b[0;34m]\u001b[0m\u001b[0;34m)\u001b[0m\u001b[0;34m\u001b[0m\u001b[0;34m\u001b[0m\u001b[0m\n\u001b[0m",
      "\u001b[0;32m~/carpetamontada/CommutativeMonoids/ClassCSemigroup/CSemigroupClass.py\u001b[0m in \u001b[0;36m__init__\u001b[0;34m(self, generadores)\u001b[0m\n\u001b[1;32m     41\u001b[0m         \u001b[0mself\u001b[0m\u001b[0;34m.\u001b[0m\u001b[0mgeneradores\u001b[0m\u001b[0;34m.\u001b[0m\u001b[0msort\u001b[0m\u001b[0;34m(\u001b[0m\u001b[0mkey\u001b[0m\u001b[0;34m=\u001b[0m\u001b[0;32mlambda\u001b[0m \u001b[0mrow\u001b[0m\u001b[0;34m:\u001b[0m \u001b[0mrow\u001b[0m\u001b[0;34m[\u001b[0m\u001b[0;36m1\u001b[0m\u001b[0;34m:\u001b[0m\u001b[0;34m]\u001b[0m\u001b[0;34m)\u001b[0m\u001b[0;34m\u001b[0m\u001b[0;34m\u001b[0m\u001b[0m\n\u001b[1;32m     42\u001b[0m         \u001b[0;32mif\u001b[0m \u001b[0;32mnot\u001b[0m \u001b[0maux\u001b[0m\u001b[0;34m.\u001b[0m\u001b[0mIsCsemigroup\u001b[0m\u001b[0;34m(\u001b[0m\u001b[0mself\u001b[0m\u001b[0;34m.\u001b[0m\u001b[0mgeneradores\u001b[0m\u001b[0;34m)\u001b[0m\u001b[0;34m:\u001b[0m\u001b[0;34m\u001b[0m\u001b[0;34m\u001b[0m\u001b[0m\n\u001b[0;32m---> 43\u001b[0;31m             \u001b[0;32mraise\u001b[0m \u001b[0mException\u001b[0m\u001b[0;34m(\u001b[0m\u001b[0;34m\"The set do not form a C-Semigroup\"\u001b[0m\u001b[0;34m)\u001b[0m\u001b[0;34m\u001b[0m\u001b[0;34m\u001b[0m\u001b[0m\n\u001b[0m\u001b[1;32m     44\u001b[0m         \u001b[0mself\u001b[0m\u001b[0;34m.\u001b[0m\u001b[0mgaps\u001b[0m \u001b[0;34m=\u001b[0m \u001b[0maux\u001b[0m\u001b[0;34m.\u001b[0m\u001b[0mComputeGaps\u001b[0m\u001b[0;34m(\u001b[0m\u001b[0mgeneradores\u001b[0m\u001b[0;34m)\u001b[0m\u001b[0;34m\u001b[0m\u001b[0;34m\u001b[0m\u001b[0m\n\u001b[1;32m     45\u001b[0m     \u001b[0;32mdef\u001b[0m \u001b[0mGetGenerators\u001b[0m\u001b[0;34m(\u001b[0m\u001b[0mself\u001b[0m\u001b[0;34m)\u001b[0m\u001b[0;34m:\u001b[0m\u001b[0;34m\u001b[0m\u001b[0;34m\u001b[0m\u001b[0m\n",
      "\u001b[0;31mException\u001b[0m: The set do not form a C-Semigroup"
     ]
    }
   ],
   "source": [
    "Csemigroup([[1,0],[0,2]])"
   ]
  },
  {
   "cell_type": "markdown",
   "id": "127dcda6",
   "metadata": {},
   "source": [
    "###### Example 4"
   ]
  },
  {
   "cell_type": "code",
   "execution_count": 5,
   "id": "870f7b62",
   "metadata": {},
   "outputs": [],
   "source": [
    "cs1 = Csemigroup([[2,0,0],[4,2,4],[0,1,0],[3,0,0],[6,3,6],[3,1,1],[4,1,1],[3,1,2],[1,1,0],[3,2,3],[1,2,1]])"
   ]
  },
  {
   "cell_type": "markdown",
   "id": "62f3b238",
   "metadata": {},
   "source": [
    "# Computing the gaps and decomposing into irreducible $\\mathcal{C}$-semigroups"
   ]
  },
  {
   "cell_type": "markdown",
   "id": "b774e557",
   "metadata": {},
   "source": [
    "For computing the gaps of a $\\mathcal{C}$-semigroup, we use the function  *ComputeGaps*."
   ]
  },
  {
   "cell_type": "code",
   "execution_count": 6,
   "id": "3c30a02e",
   "metadata": {},
   "outputs": [
    {
     "data": {
      "text/latex": [
       "$\\displaystyle \\left[ \\left[ 1, \\  0, \\  0\\right], \\  \\left[ 1, \\  1, \\  1\\right], \\  \\left[ 2, \\  1, \\  1\\right], \\  \\left[ 2, \\  1, \\  2\\right], \\  \\left[ 2, \\  2, \\  1\\right], \\  \\left[ 2, \\  2, \\  2\\right], \\  \\left[ 2, \\  3, \\  2\\right], \\  \\left[ 4, \\  1, \\  2\\right], \\  \\left[ 4, \\  2, \\  3\\right], \\  \\left[ 5, \\  2, \\  4\\right], \\  \\left[ 5, \\  3, \\  5\\right], \\  \\left[ 8, \\  4, \\  7\\right]\\right]$"
      ],
      "text/plain": [
       "[[1, 0, 0], [1, 1, 1], [2, 1, 1], [2, 1, 2], [2, 2, 1], [2, 2, 2], [2, 3, 2], \n",
       "[4, 1, 2], [4, 2, 3], [5, 2, 4], [5, 3, 5], [8, 4, 7]]"
      ]
     },
     "execution_count": 6,
     "metadata": {},
     "output_type": "execute_result"
    }
   ],
   "source": [
    "ComputeGaps([[2,0,0],[4,2,4],[0,1,0],[3,0,0],[6,3,6],[3,1,1],[4,1,1],[3,1,2],[1,1,0],[3,2,3],[1,2,1]])"
   ]
  },
  {
   "cell_type": "markdown",
   "id": "d74ec519",
   "metadata": {},
   "source": [
    "Note that, when we created the class, the gaps were computed, so we can access to the gap directly. In this case, the computations were already made, so it takes no time."
   ]
  },
  {
   "cell_type": "code",
   "execution_count": 7,
   "id": "4d7b384e",
   "metadata": {},
   "outputs": [
    {
     "data": {
      "text/latex": [
       "$\\displaystyle \\left[ \\left[ 1, \\  0, \\  0\\right], \\  \\left[ 1, \\  1, \\  1\\right], \\  \\left[ 2, \\  1, \\  1\\right], \\  \\left[ 2, \\  1, \\  2\\right], \\  \\left[ 2, \\  2, \\  1\\right], \\  \\left[ 2, \\  2, \\  2\\right], \\  \\left[ 2, \\  3, \\  2\\right], \\  \\left[ 4, \\  1, \\  2\\right], \\  \\left[ 4, \\  2, \\  3\\right], \\  \\left[ 5, \\  2, \\  4\\right], \\  \\left[ 5, \\  3, \\  5\\right], \\  \\left[ 8, \\  4, \\  7\\right]\\right]$"
      ],
      "text/plain": [
       "[[1, 0, 0], [1, 1, 1], [2, 1, 1], [2, 1, 2], [2, 2, 1], [2, 2, 2], [2, 3, 2], \n",
       "[4, 1, 2], [4, 2, 3], [5, 2, 4], [5, 3, 5], [8, 4, 7]]"
      ]
     },
     "execution_count": 7,
     "metadata": {},
     "output_type": "execute_result"
    }
   ],
   "source": [
    "cs1.GetGaps()"
   ]
  },
  {
   "cell_type": "markdown",
   "id": "29b11827",
   "metadata": {},
   "source": [
    "If we want to decompose this semigroup into irreducible $\\mathcal{C}$-semigroups we need to create the object. Else, the computation we will take a lot of time because the class save plenty of computations. So, we need tne *DecomposeIrreducible* class function."
   ]
  },
  {
   "cell_type": "code",
   "execution_count": 8,
   "id": "71516887",
   "metadata": {},
   "outputs": [],
   "source": [
    "irr = cs1.DecomposeIrreducible()"
   ]
  },
  {
   "cell_type": "markdown",
   "id": "29684ec0",
   "metadata": {},
   "source": [
    "Now, we can print the generators and the gaps of the elements of the decomposition."
   ]
  },
  {
   "cell_type": "code",
   "execution_count": 9,
   "id": "6a98c071",
   "metadata": {},
   "outputs": [
    {
     "name": "stdout",
     "output_type": "stream",
     "text": [
      "* Generators: [[2, 0, 0], [3, 0, 0], [1, 1, 0], [0, 1, 0], [3, 1, 1], [4, 1, 1], [4, 1, 2], [3, 1, 2], [1, 2, 1], [2, 2, 1], [2, 2, 2], [3, 2, 3], [4, 2, 4], [6, 3, 6]]  - Gaps: [[1, 0, 0], [1, 1, 1], [2, 1, 1], [2, 1, 2], [4, 2, 3], [5, 2, 4], [5, 3, 5], [8, 4, 7]]\n",
      "\n",
      "* Generators: [[1, 0, 0], [0, 1, 0], [2, 1, 1], [3, 1, 2], [1, 2, 1], [3, 2, 3], [4, 2, 4], [5, 3, 5], [6, 3, 6]]  - Gaps: [[1, 1, 1], [2, 1, 2], [2, 2, 2], [2, 3, 2]]\n",
      "\n",
      "* Generators: [[2, 0, 0], [3, 0, 0], [1, 1, 0], [0, 1, 0], [2, 1, 1], [1, 1, 1], [3, 1, 2], [3, 2, 3], [5, 2, 4], [4, 2, 4], [6, 3, 6]]  - Gaps: [[1, 0, 0], [2, 1, 2], [4, 1, 2]]\n",
      "\n",
      "* Generators: [[2, 0, 0], [3, 0, 0], [1, 1, 0], [0, 1, 0], [3, 1, 1], [4, 1, 1], [2, 1, 2], [3, 1, 2], [1, 2, 1], [3, 2, 3], [4, 2, 3]]  - Gaps: [[1, 0, 0], [1, 1, 1], [2, 1, 1], [2, 2, 1]]\n",
      "\n"
     ]
    }
   ],
   "source": [
    "for x in irr:\n",
    "    print(\"* Generators:\",x.GetGenerators(),\" - Gaps:\",x.GetGaps())\n",
    "    print()"
   ]
  }
 ],
 "metadata": {
  "kernelspec": {
   "display_name": "Python 3",
   "language": "python",
   "name": "python3"
  },
  "language_info": {
   "codemirror_mode": {
    "name": "ipython",
    "version": 3
   },
   "file_extension": ".py",
   "mimetype": "text/x-python",
   "name": "python",
   "nbconvert_exporter": "python",
   "pygments_lexer": "ipython3",
   "version": "3.8.5"
  }
 },
 "nbformat": 4,
 "nbformat_minor": 5
}

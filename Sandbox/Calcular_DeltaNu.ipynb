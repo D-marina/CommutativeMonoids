{
 "cells": [
  {
   "cell_type": "code",
   "execution_count": null,
   "metadata": {},
   "outputs": [],
   "source": [
    "import ComputeNs\n",
    "from ComputeNs import *\n",
    "import FSolve\n",
    "from FSolve import *"
   ]
  },
  {
   "cell_type": "code",
   "execution_count": null,
   "metadata": {},
   "outputs": [],
   "source": [
    "def CalcularLambda1(lgen,Ns):\n",
    "    c1 = (lgen[-1]-lgen[-2])/lgen[-2]*Ns\n",
    "    c4 = (lgen[0]/lgen[-2]-lgen[0]/lgen[-1]-lgen[0]/lgen[1]+1)*Ns\n",
    "    return max(c1,c4)"
   ]
  },
  {
   "cell_type": "code",
   "execution_count": null,
   "metadata": {},
   "outputs": [],
   "source": [
    "def CalcularLambda2(lgen,Ns):\n",
    "    c2 = (lgen[0]-lgen[1])/lgen[1]*Ns\n",
    "    c3 = (-lgen[-1]/lgen[0]+lgen[-1]/lgen[1]-lgen[-1]/lgen[-2]+1)*Ns\n",
    "    return -min(c2,c3)"
   ]
  },
  {
   "cell_type": "code",
   "execution_count": null,
   "metadata": {},
   "outputs": [],
   "source": [
    "CalcularLambda1([3,4,5],28)"
   ]
  },
  {
   "cell_type": "code",
   "execution_count": null,
   "metadata": {},
   "outputs": [],
   "source": [
    "CalcularNs([3,4,5])"
   ]
  },
  {
   "cell_type": "code",
   "execution_count": null,
   "metadata": {},
   "outputs": [],
   "source": [
    "CalcularLambda2([3,4,5],28)"
   ]
  },
  {
   "cell_type": "code",
   "execution_count": null,
   "metadata": {},
   "outputs": [],
   "source": [
    "def CalcularDeltaNu(lgen,n):\n",
    "    Ns = CalcularNs(lgen)\n",
    "    if Ns > n:\n",
    "        return \"En proceso\"\n",
    "    l1 = CalcularLambda1(lgen,Ns)\n",
    "    l2 = CalcularLambda1(lgen,Ns)\n",
    "    x1 = int(ceil(lgen[0]*n+l1))\n",
    "    x2 = int(floor(lgen[-1]*n-l2))\n",
    "    longitudes1 = []\n",
    "    longitudes2 = []\n",
    "    cotaB1 = int(ceil(x1/lgen[-1]))\n",
    "    cotaB3 = int(floor(x2/lgen[0]))\n",
    "    # Calculamos las longitudes del trozo 1\n",
    "    for i in range(n*lgen[0],x1+1):\n",
    "        #print(\"*\",i)\n",
    "        v = FrobeniusSolve(lgen,i,False)\n",
    "        w = []\n",
    "        for factorizacion in v:\n",
    "            suma = 0\n",
    "            for k in range(3):\n",
    "                suma = suma + factorizacion[k]\n",
    "            w.append(suma)\n",
    "        w = list(set(w))\n",
    "        #print(w)\n",
    "        if n in w:\n",
    "            longitudes1 = longitudes1 + w\n",
    "    longitudes1 = [aux for aux in list(set(longitudes1)) if aux <= cotaB1]\n",
    "    # Calculamos las longitudes del trozo 2\n",
    "    for i in range(x2-1,n*lgen[-1]):\n",
    "        #print(\"****\",i)\n",
    "        v = FrobeniusSolve(lgen,i,False)\n",
    "        w = []\n",
    "        for factorizacion in v:\n",
    "            suma = 0\n",
    "            for k in range(3):\n",
    "                suma = suma + factorizacion[k]\n",
    "            w.append(suma)\n",
    "        w = list(set(w))\n",
    "        if n in w:\n",
    "            longitudes2 = longitudes2 + w\n",
    "    longitudes2 = [aux for aux in list(set(longitudes2)) if aux >= cotaB3]\n",
    "    # Calculamos las diferencias en los trozos\n",
    "    dif1 = [longitudes1[i+1]-longitudes1[i] for i in range(len(longitudes1)-1)]\n",
    "    dif3 = [longitudes2[i+1]-longitudes2[i] for i in range(len(longitudes2)-1)]\n",
    "    diferencias = set(dif1+dif3)\n",
    "    return diferencias"
   ]
  },
  {
   "cell_type": "code",
   "execution_count": null,
   "metadata": {},
   "outputs": [],
   "source": [
    "CalcularDeltaNu([3,4,5],30)"
   ]
  }
 ],
 "metadata": {
  "kernelspec": {
   "display_name": "Python 3",
   "language": "python",
   "name": "python3"
  },
  "language_info": {
   "codemirror_mode": {
    "name": "ipython",
    "version": 3
   },
   "file_extension": ".py",
   "mimetype": "text/x-python",
   "name": "python",
   "nbconvert_exporter": "python",
   "pygments_lexer": "ipython3",
   "version": "3.6.7"
  }
 },
 "nbformat": 4,
 "nbformat_minor": 2
}

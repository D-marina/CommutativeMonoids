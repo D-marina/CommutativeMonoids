{
 "cells": [
  {
   "cell_type": "code",
   "execution_count": 1,
   "id": "d5836cee",
   "metadata": {},
   "outputs": [],
   "source": [
    "import sys\n",
    "sys.path.insert(0, '../CClassCSemigroups/')"
   ]
  },
  {
   "cell_type": "code",
   "execution_count": 2,
   "id": "4363768b",
   "metadata": {},
   "outputs": [],
   "source": [
    "import CsemigroupsCPP as CPP"
   ]
  },
  {
   "cell_type": "code",
   "execution_count": 3,
   "id": "2c0b358d",
   "metadata": {},
   "outputs": [],
   "source": [
    "import numpy as np"
   ]
  },
  {
   "cell_type": "code",
   "execution_count": 4,
   "id": "0b11e2f4",
   "metadata": {},
   "outputs": [],
   "source": [
    "import itertools"
   ]
  },
  {
   "cell_type": "code",
   "execution_count": 5,
   "id": "2c2ccec6",
   "metadata": {},
   "outputs": [
    {
     "name": "stdout",
     "output_type": "stream",
     "text": [
      "Los huecos son: [[1, 0], [1, 1], [2, 0], [2, 1], [4, 2]]\n",
      "[[0, 1], [1, -1]]\n"
     ]
    },
    {
     "data": {
      "text/plain": [
       "[[3, 0],\n",
       " [4, 0],\n",
       " [5, 0],\n",
       " [3, 1],\n",
       " [4, 1],\n",
       " [5, 1],\n",
       " [2, 2],\n",
       " [3, 2],\n",
       " [3, 3],\n",
       " [4, 3]]"
      ]
     },
     "execution_count": 5,
     "metadata": {},
     "output_type": "execute_result"
    }
   ],
   "source": [
    "generators=[[3,0],[4,0],[5,0],[3,1],[4,1],[5,1],[2,2],[3,2],[3,3],[4,3]]\n",
    "cs = CPP.Csemigroup(generators)\n",
    "print(\"Los huecos son:\",cs.GetGaps())\n",
    "print(cs.GetHyperplanes())\n",
    "cs.GetGenerators()"
   ]
  },
  {
   "cell_type": "code",
   "execution_count": 6,
   "id": "4144730b",
   "metadata": {},
   "outputs": [],
   "source": [
    "def ComputeCone(bound,eq):\n",
    "    cone = []\n",
    "    it = itertools.product(*[range(i+1) for i in bound])\n",
    "    for x in it:\n",
    "        if CPP.belongCone(list(x),eq):\n",
    "            cone.append(list(x))\n",
    "    return cone\n",
    "cono = ComputeCone([8,4],[[0, 1], [1, -1]])"
   ]
  },
  {
   "cell_type": "code",
   "execution_count": 7,
   "id": "8045fcc7",
   "metadata": {},
   "outputs": [],
   "source": [
    "def PrecGradLex(a,b): # Check if A<B\n",
    "    sumA = np.array(a).sum()\n",
    "    sumB = np.array(b).sum()\n",
    "    if sumA < sumB:\n",
    "        return True\n",
    "    elif sumA > sumB:\n",
    "        return False\n",
    "    else:\n",
    "        c = np.array(b)-np.array(a)\n",
    "        for x in c:\n",
    "            if x > 0:\n",
    "                return True\n",
    "            if x < 0:\n",
    "            \n",
    "                return False\n",
    "# PrecGradLex([4,0],[4,2])"
   ]
  },
  {
   "cell_type": "code",
   "execution_count": 8,
   "id": "ecf873be",
   "metadata": {},
   "outputs": [],
   "source": [
    "def PrecGradRevLex(a,b): # Check if A<B\n",
    "    sumA = np.array(a).sum()\n",
    "    sumB = np.array(b).sum()\n",
    "    if sumA < sumB:\n",
    "        return True\n",
    "    elif sumA > sumB:\n",
    "        return False\n",
    "    else:\n",
    "        c = np.array(b)-np.array(a)\n",
    "        for x in c:\n",
    "            if x < 0:\n",
    "                return True\n",
    "            if x > 0:\n",
    "                return False"
   ]
  },
  {
   "cell_type": "code",
   "execution_count": 9,
   "id": "59559a3c",
   "metadata": {},
   "outputs": [
    {
     "data": {
      "text/plain": [
       "[4, 2]"
      ]
     },
     "execution_count": 9,
     "metadata": {},
     "output_type": "execute_result"
    }
   ],
   "source": [
    "def MaximumOrder(v,order):\n",
    "    maximum = v[0]\n",
    "    for x in v:\n",
    "        if order(maximum,x):\n",
    "            maximum = x\n",
    "    return maximum\n",
    "MaximumOrder([[1, 0], [2, 1], [2, 2], [4, 2], [3, 1]],PrecGradRevLex)"
   ]
  },
  {
   "cell_type": "code",
   "execution_count": 10,
   "id": "3821ad69",
   "metadata": {},
   "outputs": [],
   "source": [
    "def GetSemigroupFromGaps(gaps,eq,order): # Note: Last gap is the frobenius element.\n",
    "    frob = MaximumOrder(gaps,order)\n",
    "    bound =  [3*frob[i] for i in range(len(frob))]### <--- COMPROBAR SI ESTA COTA SE PUEDE MEJORAR!!!\n",
    "    cone = []\n",
    "    it = itertools.product(*[range(i+1) for i in bound])\n",
    "    for x in it:\n",
    "        if CPP.belongCone(list(x),eq) and not CPP.allZero(list(x)):\n",
    "            cone.append(list(x))\n",
    "    for x in gaps:\n",
    "        cone.remove(x)\n",
    "    cs = CPP.Csemigroup(cone)\n",
    "    return cs\n",
    "# GetSemigroupFromGaps([[1, 0], [2, 0], [1, 1], [2, 1],[4,2]],[[0, 1], [1, -1]])"
   ]
  },
  {
   "cell_type": "code",
   "execution_count": 11,
   "id": "d96b7444",
   "metadata": {},
   "outputs": [
    {
     "name": "stdout",
     "output_type": "stream",
     "text": [
      "[[1, 0], [2, 1]]\n",
      "[[2, 0], [3, 0], [1, 1], [3, 2]]\n"
     ]
    }
   ],
   "source": [
    "sg_aux = GetSemigroupFromGaps([[1, 0], [2, 1], [2, 2], [4, 2], [3, 1]],[[0, 1], [1, -1]],PrecGradLex)\n",
    "print(sg_aux.GetGaps())\n",
    "print(sg_aux.GetGenerators())"
   ]
  },
  {
   "cell_type": "code",
   "execution_count": 12,
   "id": "a2f9df44",
   "metadata": {},
   "outputs": [],
   "source": [
    "def ComputeIC(cone,frob,eq):\n",
    "    aux = []\n",
    "    for x in cone:\n",
    "        if CPP.belongCone([frob[i]-x[i] for i in range(len(x))],eq):\n",
    "            aux.append(x)\n",
    "    return aux\n",
    "IC = ComputeIC(cono,[4,2],[[0, 1], [1, -1]])"
   ]
  },
  {
   "cell_type": "code",
   "execution_count": 13,
   "id": "e98fe16a",
   "metadata": {},
   "outputs": [
    {
     "data": {
      "text/plain": [
       "[[3, 0],\n",
       " [4, 0],\n",
       " [5, 0],\n",
       " [3, 1],\n",
       " [4, 1],\n",
       " [5, 1],\n",
       " [2, 2],\n",
       " [3, 2],\n",
       " [3, 3],\n",
       " [4, 3]]"
      ]
     },
     "execution_count": 13,
     "metadata": {},
     "output_type": "execute_result"
    }
   ],
   "source": [
    "def ComputeRootTreeIrreductible(IC, frob, order,eq):\n",
    "    hFrob = [x/2 for x in frob]\n",
    "    i1 = []\n",
    "    for x in IC:\n",
    "        if not CPP.allZero(list(x)) and not order(hFrob,x):\n",
    "            i1.append(x)\n",
    "    i1.append(frob)\n",
    "    return GetSemigroupFromGaps(i1,eq,order)\n",
    "ComputeRootTreeIrreductible(IC, [4,2],PrecGradLex,[[0, 1], [1, -1]]).GetGenerators()"
   ]
  },
  {
   "cell_type": "code",
   "execution_count": 14,
   "id": "ce9a271a",
   "metadata": {},
   "outputs": [
    {
     "data": {
      "text/plain": [
       "[[3, 0], [4, 0], [3, 1], [4, 1], [2, 2], [3, 2]]"
      ]
     },
     "execution_count": 14,
     "metadata": {},
     "output_type": "execute_result"
    }
   ],
   "source": [
    "def GetGeneratorsBetweenHalfFrobAndFrob(gen, frob,order):\n",
    "    hFrob = [x/2 for x in frob]\n",
    "    i2 = []\n",
    "    for x in gen:\n",
    "        aux = list(np.array(frob)-np.array(x))\n",
    "        if order(hFrob,x) and CPP.allPositive([frob[i]-x[i] for i in range(len(x))]):\n",
    "            i2.append(x)\n",
    "    return i2\n",
    "GetGeneratorsBetweenHalfFrobAndFrob(generators,[4,2],PrecGradLex)"
   ]
  },
  {
   "cell_type": "code",
   "execution_count": 15,
   "id": "4a6081d4",
   "metadata": {},
   "outputs": [
    {
     "data": {
      "text/plain": [
       "[]"
      ]
     },
     "execution_count": 15,
     "metadata": {},
     "output_type": "execute_result"
    }
   ],
   "source": [
    "def CheckPropertiesGeneratorsTree(gen, frob,IC,order):\n",
    "    aux = []\n",
    "    candidates = GetGeneratorsBetweenHalfFrobAndFrob(gen, frob,order)\n",
    "    #sprint(candidates)\n",
    "    for x in candidates:\n",
    "        #print(\"x =\",x)\n",
    "        #print(\"x in IC\",x in IC)\n",
    "        #print(\"2x-f not in S\",not CPP.belongByGens([2*x[i]-frob[i] for i in range(len(x))],gen))\n",
    "        if x in IC and not CPP.belongByGens([2*x[i]-frob[i] for i in range(len(x))],gen) and [3*x[i] for i in range(len(x))] != [2*frob[i] for i in range(len(x))] and [4*x[i] for i in range(len(x))] != [3*frob[i] for i in range(len(x))]:\n",
    "            aux.append(x)\n",
    "    return aux\n",
    "CheckPropertiesGeneratorsTree([[3, 0], [4, 0], [5, 0], [1, 1], [3, 2], [5, 3]],[4,2],IC,PrecGradLex)"
   ]
  },
  {
   "cell_type": "code",
   "execution_count": 16,
   "id": "160fced0",
   "metadata": {},
   "outputs": [
    {
     "name": "stdout",
     "output_type": "stream",
     "text": [
      "[[1, 0], [2, 0], [2, 1], [3, 1], [4, 2]]\n",
      "A = []\n"
     ]
    }
   ],
   "source": [
    "def ComputeIrreducibleChildren(sg,frob,order, ic,eq):\n",
    "    children = []\n",
    "    A = CheckPropertiesGeneratorsTree(sg.GetGenerators(),frob,ic,order)\n",
    "    print(\"A =\",A)\n",
    "    #print(sg.GetGenerators())\n",
    "    for x in A:\n",
    "        gaps = list(sg.GetGaps())\n",
    "        gaps.append(x)\n",
    "        gaps.remove([frob[i]-x[i] for i in range(len(x))])\n",
    "        children.append(GetSemigroupFromGaps(gaps,eq,order))\n",
    "    return children\n",
    "\n",
    "sg_aux = CPP.Csemigroup([[3, 0], [4, 0], [5, 0], [1, 1], [3, 2], [5, 3]])\n",
    "print(sg_aux.GetGaps())\n",
    "kk = ComputeIrreducibleChildren(sg_aux,[4,2],PrecGradLex,IC,[[0, 1], [1, -1]])\n",
    "for x in kk:\n",
    "    print(x.GetGaps())"
   ]
  },
  {
   "cell_type": "code",
   "execution_count": 17,
   "id": "2a48ad48",
   "metadata": {},
   "outputs": [],
   "source": [
    "IC = [[0, 0], [1, 0], [1, 1], [2, 0], [2, 1], [2, 2], [3, 1], [3, 2], [4, 2]]"
   ]
  },
  {
   "cell_type": "code",
   "execution_count": 18,
   "id": "881cefb4",
   "metadata": {},
   "outputs": [
    {
     "data": {
      "text/plain": [
       "[[2, 2], [3, 1], [3, 2], [4, 2]]"
      ]
     },
     "execution_count": 18,
     "metadata": {},
     "output_type": "execute_result"
    }
   ],
   "source": [
    "GetGeneratorsBetweenHalfFrobAndFrob(IC, [4,2],PrecGradLex)"
   ]
  },
  {
   "cell_type": "code",
   "execution_count": 19,
   "id": "9741f5fd",
   "metadata": {
    "scrolled": false
   },
   "outputs": [
    {
     "name": "stdout",
     "output_type": "stream",
     "text": [
      "[[3, 0], [4, 0], [5, 0], [3, 1], [4, 1], [5, 1], [2, 2], [3, 2], [3, 3], [4, 3]]\n",
      "1\n",
      "Huecos padre: [[1, 0], [1, 1], [2, 0], [2, 1], [4, 2]]\n",
      "Huecos hijos:\n",
      "A = [[3, 1], [2, 2]]\n",
      "[[1, 0], [2, 0], [2, 1], [3, 1], [4, 2]]\n",
      "[[1, 0], [1, 1], [2, 1], [2, 2], [4, 2]]\n",
      "En X hay:\n",
      "[[3, 0], [4, 0], [5, 0], [1, 1], [3, 2], [5, 3]]\n",
      "[[2, 0], [3, 0], [3, 1], [4, 1], [3, 2], [3, 3], [4, 3], [4, 4], [5, 4], [5, 5]]\n",
      "\n",
      "\n",
      "2\n",
      "Huecos padre: [[1, 0], [2, 0], [2, 1], [3, 1], [4, 2]]\n",
      "Huecos hijos:\n",
      "A = []\n",
      "Huecos padre: [[1, 0], [1, 1], [2, 1], [2, 2], [4, 2]]\n",
      "Huecos hijos:\n",
      "A = [[3, 2]]\n",
      "[[1, 1], [2, 1], [2, 2], [3, 2], [4, 2]]\n",
      "En X hay:\n",
      "[[1, 0], [3, 1], [5, 2], [3, 3], [4, 4], [5, 5]]\n",
      "\n",
      "\n",
      "1\n",
      "Huecos padre: [[1, 1], [2, 1], [2, 2], [3, 2], [4, 2]]\n",
      "Huecos hijos:\n",
      "A = []\n",
      "En X hay:\n",
      "\n",
      "\n"
     ]
    }
   ],
   "source": [
    "def ComputeTreeIrreducible(frob, eq, order):\n",
    "    bound =  [3*frob[i] for i in range(len(frob))]### <--- COMPROBAR SI ESTA COTA SE PUEDE MEJORAR!!!\n",
    "    cone = ComputeCone(bound,eq)\n",
    "    sf = ComputeRootTreeIrreductible(cone, frob, order,eq)\n",
    "    ic = ComputeIC(cone,frob,eq)\n",
    "    print(sf.GetGenerators())\n",
    "    X = [sf]\n",
    "    Y = []\n",
    "    while X != []:\n",
    "        print(len(X))\n",
    "        for sg in X:\n",
    "            print(\"Huecos padre:\",sg.GetGaps())\n",
    "            print(\"Huecos hijos:\")\n",
    "            children = ComputeIrreducibleChildren(sg,frob,order, ic,eq)\n",
    "            for kk in children:\n",
    "                print(kk.GetGaps())\n",
    "            Y.append([sg,children])\n",
    "        X = children\n",
    "        \n",
    "        print(\"En X hay:\")\n",
    "        for kk in X:\n",
    "            print(kk.GetGenerators())\n",
    "        print(\"\\n\")\n",
    "    return(Y)\n",
    "\n",
    "arbol  = ComputeTreeIrreducible([4,2], [[0, 1], [1, -1]], PrecGradLex)"
   ]
  },
  {
   "cell_type": "code",
   "execution_count": 20,
   "id": "af719855",
   "metadata": {},
   "outputs": [
    {
     "name": "stdout",
     "output_type": "stream",
     "text": [
      "Padre [[3, 0], [4, 0], [5, 0], [3, 1], [4, 1], [5, 1], [2, 2], [3, 2], [3, 3], [4, 3]]\n",
      "Hijos:\n",
      "   -> [[3, 0], [4, 0], [5, 0], [1, 1], [3, 2], [5, 3]] 5\n",
      "   -> [[2, 0], [3, 0], [3, 1], [4, 1], [3, 2], [3, 3], [4, 3], [4, 4], [5, 4], [5, 5]] 5\n",
      "Padre [[3, 0], [4, 0], [5, 0], [1, 1], [3, 2], [5, 3]]\n",
      "Hijos:\n",
      "Padre [[2, 0], [3, 0], [3, 1], [4, 1], [3, 2], [3, 3], [4, 3], [4, 4], [5, 4], [5, 5]]\n",
      "Hijos:\n",
      "   -> [[1, 0], [3, 1], [5, 2], [3, 3], [4, 4], [5, 5]] 5\n",
      "Padre [[1, 0], [3, 1], [5, 2], [3, 3], [4, 4], [5, 5]]\n",
      "Hijos:\n"
     ]
    }
   ],
   "source": [
    "for x in arbol:\n",
    "    print(\"Padre\",x[0].GetGenerators())\n",
    "    print(\"Hijos:\")\n",
    "    for y in x[1]:\n",
    "        print(\"   ->\",y.GetGenerators(),len(y.GetGaps()))"
   ]
  },
  {
   "cell_type": "code",
   "execution_count": 21,
   "id": "d4476e99",
   "metadata": {},
   "outputs": [
    {
     "name": "stdout",
     "output_type": "stream",
     "text": [
      "[[4, 0], [5, 0], [6, 0], [7, 0], [3, 1], [4, 1], [5, 1], [6, 1], [2, 2], [3, 2], [5, 2], [3, 3], [4, 3]]\n",
      "1\n",
      "Huecos padre: [[1, 0], [1, 1], [2, 0], [2, 1], [3, 0], [4, 2]]\n",
      "Huecos hijos:\n",
      "A = [[3, 1], [2, 2]]\n",
      "[[1, 0], [2, 0], [2, 1], [3, 0], [3, 1], [4, 2]]\n",
      "[[1, 0], [1, 1], [2, 1], [2, 2], [3, 0], [4, 2]]\n",
      "En X hay:\n",
      "[[4, 0], [5, 0], [6, 0], [7, 0], [1, 1], [4, 1], [3, 2], [5, 3]]\n",
      "[[2, 0], [5, 0], [3, 1], [4, 1], [3, 2], [3, 3], [4, 3], [4, 4], [5, 4], [5, 5]]\n",
      "\n",
      "\n",
      "2\n",
      "Huecos padre: [[1, 0], [2, 0], [2, 1], [3, 0], [3, 1], [4, 2]]\n",
      "Huecos hijos:\n",
      "A = []\n",
      "Huecos padre: [[1, 0], [1, 1], [2, 1], [2, 2], [3, 0], [4, 2]]\n",
      "Huecos hijos:\n",
      "A = [[3, 2]]\n",
      "[[1, 1], [2, 1], [2, 2], [3, 2], [4, 2]]\n",
      "En X hay:\n",
      "[[1, 0], [3, 1], [5, 2], [3, 3], [4, 4], [5, 5]]\n",
      "\n",
      "\n",
      "1\n",
      "Huecos padre: [[1, 1], [2, 1], [2, 2], [3, 2], [4, 2]]\n",
      "Huecos hijos:\n",
      "A = []\n",
      "En X hay:\n",
      "\n",
      "\n"
     ]
    }
   ],
   "source": [
    "arbol2  = ComputeTreeIrreducible([4,2], [[0, 1], [1, -1]], PrecGradRevLex)"
   ]
  }
 ],
 "metadata": {
  "kernelspec": {
   "display_name": "Python 3",
   "language": "python",
   "name": "python3"
  },
  "language_info": {
   "codemirror_mode": {
    "name": "ipython",
    "version": 3
   },
   "file_extension": ".py",
   "mimetype": "text/x-python",
   "name": "python",
   "nbconvert_exporter": "python",
   "pygments_lexer": "ipython3",
   "version": "3.8.5"
  }
 },
 "nbformat": 4,
 "nbformat_minor": 5
}

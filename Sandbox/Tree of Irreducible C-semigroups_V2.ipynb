{
 "cells": [
  {
   "cell_type": "code",
   "execution_count": 1,
   "id": "0f3f1549",
   "metadata": {},
   "outputs": [],
   "source": [
    "import numpy as np\n",
    "import itertools\n",
    "import sys\n",
    "sys.path.insert(0, '../CClassCSemigroups/')"
   ]
  },
  {
   "cell_type": "code",
   "execution_count": 2,
   "id": "9a6ef4b0",
   "metadata": {},
   "outputs": [],
   "source": [
    "import CsemigroupsCPP as CPP"
   ]
  },
  {
   "cell_type": "code",
   "execution_count": 3,
   "id": "b7c6d60b",
   "metadata": {},
   "outputs": [],
   "source": [
    "def ComputeCone(bound,eq):\n",
    "    cone = []\n",
    "    it = itertools.product(*[range(i+1) for i in bound])\n",
    "    for x in it:\n",
    "        if CPP.belongCone(list(x),eq):\n",
    "            cone.append(list(x))\n",
    "    return cone"
   ]
  },
  {
   "cell_type": "code",
   "execution_count": 4,
   "id": "e4dcbb19",
   "metadata": {},
   "outputs": [],
   "source": [
    "def PrecGradLex(a,b): # Check if A<B\\n\",\n",
    "    sumA = np.array(a).sum()\n",
    "    sumB = np.array(b).sum()\n",
    "    if sumA < sumB:\n",
    "        return True\n",
    "    elif sumA > sumB:\n",
    "        return False\n",
    "    else:\n",
    "        c = np.array(b)-np.array(a)\n",
    "        for x in c:\n",
    "            if x > 0:\n",
    "                return True\n",
    "            if x < 0:\n",
    "             return False"
   ]
  },
  {
   "cell_type": "code",
   "execution_count": 5,
   "id": "556427bd",
   "metadata": {},
   "outputs": [],
   "source": [
    "def PrecGradRevLex(a,b): # Check if A<B\\n\",\n",
    "    sumA = np.array(a).sum()\n",
    "    sumB = np.array(b).sum()\n",
    "    if sumA < sumB:\n",
    "        return True\n",
    "    elif sumA > sumB:\n",
    "        return False\n",
    "    else:\n",
    "        c = np.array(b)-np.array(a)\n",
    "        c = list(c)\n",
    "        c.reverse()\n",
    "        for x in c:\n",
    "            if x < 0:\n",
    "                return True\n",
    "            if x > 0:\n",
    "             return False"
   ]
  },
  {
   "cell_type": "code",
   "execution_count": 6,
   "id": "408fa50b",
   "metadata": {},
   "outputs": [],
   "source": [
    "def MaximumOrder(v,order):\n",
    "    maximum = v[0]\n",
    "    for x in v:\n",
    "        if order(maximum,x):\n",
    "            maximum = x\n",
    "    return maximum"
   ]
  },
  {
   "cell_type": "code",
   "execution_count": 7,
   "id": "5132a246",
   "metadata": {},
   "outputs": [],
   "source": [
    "def GetSemigroupFromGaps(gaps,eq,order): # Note: Last gap is the frobenius element.\n",
    "    frob = MaximumOrder(gaps,order)\n",
    "    bound =  [3*frob[i] for i in range(len(frob))]### <--- COMPROBAR SI ESTA COTA SE PUEDE MEJORAR!!!\n",
    "    cone = []\n",
    "    it = itertools.product(*[range(i+1) for i in bound])\n",
    "    for x in it:\n",
    "        if CPP.belongCone(list(x),eq) and not CPP.allZero(list(x)):\n",
    "            cone.append(list(x))\n",
    "    for x in gaps:\n",
    "        cone.remove(x)\n",
    "    cs = CPP.Csemigroup(cone)\n",
    "    return cs"
   ]
  },
  {
   "cell_type": "code",
   "execution_count": 8,
   "id": "167f1cbe",
   "metadata": {},
   "outputs": [],
   "source": [
    "def ComputeIC(cone,frob,eq):\n",
    "    aux = []\n",
    "    for x in cone:\n",
    "        if CPP.belongCone([frob[i]-x[i] for i in range(len(x))],eq):\n",
    "            aux.append(x)\n",
    "    return aux"
   ]
  },
  {
   "cell_type": "code",
   "execution_count": 9,
   "id": "cd323428",
   "metadata": {},
   "outputs": [],
   "source": [
    "def ComputeRootTreeIrreductible(IC, frob, order,eq):\n",
    "    hFrob = [x/2 for x in frob]\n",
    "    i1 = []\n",
    "    for x in IC:\n",
    "        if not CPP.allZero(list(x)) and not order(hFrob,x):\n",
    "            i1.append(x)\n",
    "    i1.append(frob)\n",
    "    return GetSemigroupFromGaps(i1,eq,order)"
   ]
  },
  {
   "cell_type": "code",
   "execution_count": 10,
   "id": "01e20105",
   "metadata": {},
   "outputs": [],
   "source": [
    "def GetGeneratorsBetweenHalfFrobAndFrob(gen, frob,order):\n",
    "    hFrob = [x/2 for x in frob]\n",
    "    i2 = []\n",
    "    for x in gen:\n",
    "        aux = list(np.array(frob)-np.array(x))\n",
    "        if order(hFrob,x) and CPP.allPositive([frob[i]-x[i] for i in range(len(x))]):\n",
    "            i2.append(x)\n",
    "    return i2"
   ]
  },
  {
   "cell_type": "code",
   "execution_count": 11,
   "id": "f3e9ca3a",
   "metadata": {},
   "outputs": [],
   "source": [
    "def CheckPropertiesGeneratorsTree(gen, frob,IC,order):\n",
    "    aux = []\n",
    "    candidates = GetGeneratorsBetweenHalfFrobAndFrob(gen, frob,order)\n",
    "    for x in candidates:\n",
    "        if x in IC and not CPP.belongByGens([2*x[i]-frob[i] for i in range(len(x))],gen) and [3*x[i] for i in range(len(x))] != [2*frob[i] for i in range(len(x))] and [4*x[i] for i in range(len(x))] != [3*frob[i] for i in range(len(x))]:\n",
    "            aux.append(x)\n",
    "    return aux"
   ]
  },
  {
   "cell_type": "code",
   "execution_count": 12,
   "id": "3808d550",
   "metadata": {},
   "outputs": [],
   "source": [
    "def ComputeIrreducibleChildren(sg,frob,order, ic,eq):\n",
    "    children = []\n",
    "    A = CheckPropertiesGeneratorsTree(sg.GetGenerators(),frob,ic,order)\n",
    "    print(\"A =\",A)\n",
    "    for x in A:\n",
    "        gaps = list(sg.GetGaps())\n",
    "        gaps.append(x)\n",
    "        gaps.remove([frob[i]-x[i] for i in range(len(x))])\n",
    "        children.append(GetSemigroupFromGaps(gaps,eq,order))\n",
    "    return children"
   ]
  },
  {
   "cell_type": "code",
   "execution_count": 13,
   "id": "c3b5d655",
   "metadata": {},
   "outputs": [],
   "source": [
    "def ComputeTreeIrreducible(frob, eq, order):\n",
    "    bound =  [3*frob[i] for i in range(len(frob))]### <--- COMPROBAR SI ESTA COTA SE PUEDE MEJORAR!!!\n",
    "    cone = ComputeCone(bound,eq)\n",
    "    ic = ComputeIC(cone,frob,eq)\n",
    "    sf = ComputeRootTreeIrreductible(ic, frob, order,eq)\n",
    "    X = [sf]\n",
    "    Y = []\n",
    "    while X != []:\n",
    "        print(len(X))\n",
    "        for sg in X:\n",
    "            print(\"Huecos padre:\",sg.GetGaps())\n",
    "            print(\"Huecos hijos:\")\n",
    "            children = ComputeIrreducibleChildren(sg,frob,order, ic,eq)\n",
    "            for kk in children:\n",
    "                print(kk.GetGaps())\n",
    "            Y.append([sg,children])\n",
    "        X = children\n",
    "        \n",
    "        print(\"En X hay:\")\n",
    "        for kk in X:\n",
    "            print(kk.GetGenerators())\n",
    "        print(\"\\n\")\n",
    "    return(Y)"
   ]
  },
  {
   "cell_type": "code",
   "execution_count": 14,
   "id": "9db37a21",
   "metadata": {},
   "outputs": [
    {
     "data": {
      "text/plain": [
       "[[0, 1], [1, -1]]"
      ]
     },
     "execution_count": 14,
     "metadata": {},
     "output_type": "execute_result"
    }
   ],
   "source": [
    "cone = CPP.Csemigroup([[1,0],[1,1]])\n",
    "cone.GetHyperplanes()"
   ]
  },
  {
   "cell_type": "code",
   "execution_count": 15,
   "id": "9b4b8eb1",
   "metadata": {},
   "outputs": [
    {
     "data": {
      "text/plain": [
       "[[0, -1, 1], [0, 1, 0], [2, -1, 0]]"
      ]
     },
     "execution_count": 15,
     "metadata": {},
     "output_type": "execute_result"
    }
   ],
   "source": [
    "cone = CPP.Csemigroup([[1,0,0],[0,0,1],[1,1,1],[1,2,2]])\n",
    "cone.GetHyperplanes()\n",
    "#cone.GetGenerators()"
   ]
  },
  {
   "cell_type": "markdown",
   "id": "68a952dd",
   "metadata": {},
   "source": [
    "### Ejemplo 3D"
   ]
  },
  {
   "cell_type": "code",
   "execution_count": 29,
   "id": "ec4cf298",
   "metadata": {},
   "outputs": [],
   "source": [
    "eq = [[0, -1, 1], [0, 1, 0], [1, -1, 0]]\n",
    "frob = [4,2,3]\n",
    "cone = ComputeCone([3*x for x in frob],eq)\n",
    "ic = ComputeIC(cone,frob,eq)\n",
    "sf1 = ComputeRootTreeIrreductible(ic, frob, PrecGradLex,eq)\n",
    "aa = sf1.GetGenerators()"
   ]
  },
  {
   "cell_type": "code",
   "execution_count": 30,
   "id": "2856de64",
   "metadata": {},
   "outputs": [],
   "source": [
    "eq = [[0, -1, 1], [0, 1, 0], [1, -1, 0]]\n",
    "frob = [4,2,3]\n",
    "cone = ComputeCone([3*x for x in frob],eq)\n",
    "ic = ComputeIC(cone,frob,eq)\n",
    "sf1 = ComputeRootTreeIrreductible(ic, frob, PrecGradRevLex,eq)\n",
    "bb = sf1.GetGenerators()"
   ]
  },
  {
   "cell_type": "code",
   "execution_count": 31,
   "id": "e3858f99",
   "metadata": {},
   "outputs": [
    {
     "data": {
      "text/plain": [
       "True"
      ]
     },
     "execution_count": 31,
     "metadata": {},
     "output_type": "execute_result"
    }
   ],
   "source": [
    "aa == bb"
   ]
  },
  {
   "cell_type": "code",
   "execution_count": null,
   "id": "55eb9542",
   "metadata": {},
   "outputs": [],
   "source": []
  },
  {
   "cell_type": "code",
   "execution_count": null,
   "id": "be43cd85",
   "metadata": {},
   "outputs": [],
   "source": []
  },
  {
   "cell_type": "code",
   "execution_count": null,
   "id": "62aac697",
   "metadata": {},
   "outputs": [],
   "source": []
  },
  {
   "cell_type": "code",
   "execution_count": null,
   "id": "95c0f0c5",
   "metadata": {},
   "outputs": [],
   "source": [
    "eq = [[0, -1, 1], [0, 1, 0], [1, -1, 0]]\n",
    "frob = [12,6,12]\n",
    "cone = ComputeCone([3*x for x in frob],eq)\n",
    "ic = ComputeIC(cone,frob,eq)\n",
    "sf1 = ComputeRootTreeIrreductible(ic, frob, PrecGradLex,eq)\n",
    "aa = sf1.GetGenerators()\n",
    "# sf1.GetGaps()"
   ]
  },
  {
   "cell_type": "code",
   "execution_count": null,
   "id": "1cf1b899",
   "metadata": {
    "scrolled": true
   },
   "outputs": [],
   "source": [
    "eq = [[0, -1, 1], [0, 1, 0], [1, -1, 0]]\n",
    "frob = [12,6,12]\n",
    "cone = ComputeCone([3*x for x in frob],eq)\n",
    "ic = ComputeIC(cone,frob,eq)\n",
    "sf2 = ComputeRootTreeIrreductible(ic, frob, PrecGradRevLex,eq)\n",
    "bb = sf2.GetGenerators()\n",
    "# sf2.GetGaps()"
   ]
  },
  {
   "cell_type": "code",
   "execution_count": null,
   "id": "3d174bcc",
   "metadata": {},
   "outputs": [],
   "source": [
    "aa==bb"
   ]
  },
  {
   "cell_type": "code",
   "execution_count": null,
   "id": "1b94d7b7",
   "metadata": {},
   "outputs": [],
   "source": [
    "aa"
   ]
  },
  {
   "cell_type": "code",
   "execution_count": null,
   "id": "a641a458",
   "metadata": {},
   "outputs": [],
   "source": [
    "ic"
   ]
  },
  {
   "cell_type": "code",
   "execution_count": null,
   "id": "f3869206",
   "metadata": {},
   "outputs": [],
   "source": [
    "PrecGradLex([2,1,1],[1,1,2])"
   ]
  },
  {
   "cell_type": "code",
   "execution_count": null,
   "id": "6fa2d4a1",
   "metadata": {},
   "outputs": [],
   "source": [
    "PrecGradLex([2,2,4],[1,4,3])"
   ]
  },
  {
   "cell_type": "code",
   "execution_count": null,
   "id": "a169e9ff",
   "metadata": {},
   "outputs": [],
   "source": [
    "PrecGradRevLex([2,2,4],[1,4,3])"
   ]
  },
  {
   "cell_type": "code",
   "execution_count": null,
   "id": "825be01c",
   "metadata": {},
   "outputs": [],
   "source": [
    "arbol3d1 = ComputeTreeIrreducible([3,2,3], [[0, -1, 1], [0, 1, 0], [1, -1, 0]], PrecGradLex)"
   ]
  },
  {
   "cell_type": "code",
   "execution_count": null,
   "id": "25bad8e4",
   "metadata": {},
   "outputs": [],
   "source": [
    "arbol3d2 = ComputeTreeIrreducible([3,2,3], [[0, -1, 1], [0, 1, 0], [1, -1, 0]], PrecGradRevLex)"
   ]
  },
  {
   "cell_type": "code",
   "execution_count": null,
   "id": "3b366e87",
   "metadata": {},
   "outputs": [],
   "source": [
    "for x in arbol3d1:\n",
    "    print(\"Padre\",x[0].GetGenerators())\n",
    "    print(\"Hijos:\")\n",
    "    for y in x[1]:\n",
    "        print(\"   ->\",y.GetGenerators(),len(y.GetGaps()))\n",
    "    print(\"\\n\")"
   ]
  },
  {
   "cell_type": "markdown",
   "id": "a6bbb198",
   "metadata": {},
   "source": [
    "### Ejemplos 2D "
   ]
  },
  {
   "cell_type": "code",
   "execution_count": 41,
   "id": "c16bd221",
   "metadata": {},
   "outputs": [],
   "source": [
    "eq = [[0, 1], [1, -1]]\n",
    "frob = [4,2]\n",
    "cone = ComputeCone([24,18],eq)\n",
    "ic = ComputeIC(cone,frob,eq)\n",
    "sf = ComputeRootTreeIrreductible(cone, frob, PrecGradRevLex,eq)\n",
    "ic = ComputeIC(cone,frob,eq)\n",
    "aa = sf.GetGenerators()"
   ]
  },
  {
   "cell_type": "code",
   "execution_count": 42,
   "id": "6a3ce88c",
   "metadata": {},
   "outputs": [
    {
     "data": {
      "text/plain": [
       "[[0, 0], [1, 0], [1, 1], [2, 0], [2, 1], [2, 2], [3, 1], [3, 2], [4, 2]]"
      ]
     },
     "execution_count": 42,
     "metadata": {},
     "output_type": "execute_result"
    }
   ],
   "source": [
    "ic"
   ]
  },
  {
   "cell_type": "code",
   "execution_count": 43,
   "id": "d1fc5f77",
   "metadata": {},
   "outputs": [],
   "source": [
    "eq = [[0, 1], [1, -1]]\n",
    "frob = [4,2]\n",
    "cone = ComputeCone([24,18],eq)\n",
    "sf = ComputeRootTreeIrreductible(cone, frob, PrecGradLex,eq)\n",
    "ic = ComputeIC(cone,frob,eq)\n",
    "bb = sf.GetGenerators()"
   ]
  },
  {
   "cell_type": "code",
   "execution_count": 44,
   "id": "6e586861",
   "metadata": {},
   "outputs": [
    {
     "data": {
      "text/plain": [
       "[[3, 0],\n",
       " [4, 0],\n",
       " [5, 0],\n",
       " [3, 1],\n",
       " [4, 1],\n",
       " [5, 1],\n",
       " [2, 2],\n",
       " [3, 2],\n",
       " [3, 3],\n",
       " [4, 3]]"
      ]
     },
     "execution_count": 44,
     "metadata": {},
     "output_type": "execute_result"
    }
   ],
   "source": [
    "aa"
   ]
  },
  {
   "cell_type": "code",
   "execution_count": null,
   "id": "755bf516",
   "metadata": {},
   "outputs": [],
   "source": [
    "sf.GetHyperplanes()"
   ]
  },
  {
   "cell_type": "code",
   "execution_count": 34,
   "id": "0b1cdfbe",
   "metadata": {},
   "outputs": [
    {
     "data": {
      "text/plain": [
       "True"
      ]
     },
     "execution_count": 34,
     "metadata": {},
     "output_type": "execute_result"
    }
   ],
   "source": [
    "aa == bb"
   ]
  },
  {
   "cell_type": "code",
   "execution_count": null,
   "id": "79390d85",
   "metadata": {},
   "outputs": [],
   "source": [
    "sf.GetGaps()"
   ]
  },
  {
   "cell_type": "code",
   "execution_count": null,
   "id": "4a7925ed",
   "metadata": {},
   "outputs": [],
   "source": [
    "sf.GetPseudoFrobenius()"
   ]
  },
  {
   "cell_type": "code",
   "execution_count": null,
   "id": "15e3927b",
   "metadata": {},
   "outputs": [],
   "source": [
    "children = ComputeIrreducibleChildren(sf,frob,PrecGradRevLex, ic,eq)"
   ]
  },
  {
   "cell_type": "code",
   "execution_count": null,
   "id": "b06be816",
   "metadata": {},
   "outputs": [],
   "source": [
    "children[0].GetPseudoFrobenius()"
   ]
  },
  {
   "cell_type": "code",
   "execution_count": 45,
   "id": "31e40848",
   "metadata": {},
   "outputs": [
    {
     "name": "stdout",
     "output_type": "stream",
     "text": [
      "1\n",
      "Huecos padre: [[1, 0], [1, 1], [2, 0], [2, 1], [4, 2]]\n",
      "Huecos hijos:\n",
      "A = [[3, 1], [2, 2]]\n",
      "[[1, 0], [2, 0], [2, 1], [3, 1], [4, 2]]\n",
      "[[1, 0], [1, 1], [2, 1], [2, 2], [4, 2]]\n",
      "En X hay:\n",
      "[[3, 0], [4, 0], [5, 0], [1, 1], [3, 2], [5, 3]]\n",
      "[[2, 0], [3, 0], [3, 1], [4, 1], [3, 2], [3, 3], [4, 3], [4, 4], [5, 4], [5, 5]]\n",
      "\n",
      "\n",
      "2\n",
      "Huecos padre: [[1, 0], [2, 0], [2, 1], [3, 1], [4, 2]]\n",
      "Huecos hijos:\n",
      "A = []\n",
      "Huecos padre: [[1, 0], [1, 1], [2, 1], [2, 2], [4, 2]]\n",
      "Huecos hijos:\n",
      "A = [[3, 2]]\n",
      "[[1, 1], [2, 1], [2, 2], [3, 2], [4, 2]]\n",
      "En X hay:\n",
      "[[1, 0], [3, 1], [5, 2], [3, 3], [4, 4], [5, 5]]\n",
      "\n",
      "\n",
      "1\n",
      "Huecos padre: [[1, 1], [2, 1], [2, 2], [3, 2], [4, 2]]\n",
      "Huecos hijos:\n",
      "A = []\n",
      "En X hay:\n",
      "\n",
      "\n"
     ]
    }
   ],
   "source": [
    "arbol  = ComputeTreeIrreducible([4,2], [[0, 1], [1, -1]], PrecGradLex)"
   ]
  },
  {
   "cell_type": "code",
   "execution_count": 46,
   "id": "197ea10c",
   "metadata": {},
   "outputs": [
    {
     "name": "stdout",
     "output_type": "stream",
     "text": [
      "Padre [[3, 0], [4, 0], [5, 0], [3, 1], [4, 1], [5, 1], [2, 2], [3, 2], [3, 3], [4, 3]]\n",
      "Hijos:\n",
      "   -> [[3, 0], [4, 0], [5, 0], [1, 1], [3, 2], [5, 3]] 5\n",
      "   -> [[2, 0], [3, 0], [3, 1], [4, 1], [3, 2], [3, 3], [4, 3], [4, 4], [5, 4], [5, 5]] 5\n",
      "Padre [[3, 0], [4, 0], [5, 0], [1, 1], [3, 2], [5, 3]]\n",
      "Hijos:\n",
      "Padre [[2, 0], [3, 0], [3, 1], [4, 1], [3, 2], [3, 3], [4, 3], [4, 4], [5, 4], [5, 5]]\n",
      "Hijos:\n",
      "   -> [[1, 0], [3, 1], [5, 2], [3, 3], [4, 4], [5, 5]] 5\n",
      "Padre [[1, 0], [3, 1], [5, 2], [3, 3], [4, 4], [5, 5]]\n",
      "Hijos:\n"
     ]
    }
   ],
   "source": [
    "for x in arbol:\n",
    "    print(\"Padre\",x[0].GetGenerators())\n",
    "    print(\"Hijos:\")\n",
    "    for y in x[1]:\n",
    "        print(\"   ->\",y.GetGenerators(),len(y.GetGaps()))"
   ]
  },
  {
   "cell_type": "code",
   "execution_count": null,
   "id": "4249eb61",
   "metadata": {},
   "outputs": [],
   "source": [
    "arbol2  = ComputeTreeIrreducible([4,2], [[0, 1], [1, -1]], PrecGradRevLex)"
   ]
  },
  {
   "cell_type": "code",
   "execution_count": null,
   "id": "c8a71e1e",
   "metadata": {},
   "outputs": [],
   "source": [
    "for x in arbol2:\n",
    "    print(\"Padre\",x[0].GetGenerators())\n",
    "    print(\"Hijos:\")\n",
    "    for y in x[1]:\n",
    "        print(\"   ->\",y.GetGenerators(),len(y.GetGaps()))"
   ]
  },
  {
   "cell_type": "code",
   "execution_count": null,
   "id": "96f0e168",
   "metadata": {},
   "outputs": [],
   "source": []
  }
 ],
 "metadata": {
  "kernelspec": {
   "display_name": "Python 3",
   "language": "python",
   "name": "python3"
  },
  "language_info": {
   "codemirror_mode": {
    "name": "ipython",
    "version": 3
   },
   "file_extension": ".py",
   "mimetype": "text/x-python",
   "name": "python",
   "nbconvert_exporter": "python",
   "pygments_lexer": "ipython3",
   "version": "3.8.5"
  }
 },
 "nbformat": 4,
 "nbformat_minor": 5
}

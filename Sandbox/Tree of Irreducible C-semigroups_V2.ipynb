{
 "cells": [
  {
   "cell_type": "code",
   "execution_count": 1,
   "id": "7196dc65",
   "metadata": {},
   "outputs": [],
   "source": [
    "import numpy as np\n",
    "import itertools\n",
    "import sys\n",
    "sys.path.insert(0, '../CClassCSemigroups/')"
   ]
  },
  {
   "cell_type": "code",
   "execution_count": 2,
   "id": "ede34fc6",
   "metadata": {},
   "outputs": [],
   "source": [
    "import CsemigroupsCPP as CPP"
   ]
  },
  {
   "cell_type": "code",
   "execution_count": 5,
   "id": "08d01722",
   "metadata": {},
   "outputs": [],
   "source": [
    "def ComputeCone(bound,eq):\n",
    "    cone = []\n",
    "    it = itertools.product(*[range(i+1) for i in bound])\n",
    "    for x in it:\n",
    "        if CPP.belongCone(list(x),eq):\n",
    "            cone.append(list(x))\n",
    "    return cone"
   ]
  },
  {
   "cell_type": "code",
   "execution_count": 8,
   "id": "50208a57",
   "metadata": {},
   "outputs": [],
   "source": [
    "def PrecGradLex(a,b): # Check if A<B\\n\",\n",
    "    sumA = np.array(a).sum()\n",
    "    sumB = np.array(b).sum()\n",
    "    if sumA < sumB:\n",
    "        return True\n",
    "    elif sumA > sumB:\n",
    "        return False\n",
    "    else:\n",
    "        c = np.array(b)-np.array(a)\n",
    "        for x in c:\n",
    "            if x > 0:\n",
    "                return True\n",
    "            if x < 0:\n",
    "             return False"
   ]
  },
  {
   "cell_type": "code",
   "execution_count": 9,
   "id": "5be96046",
   "metadata": {},
   "outputs": [],
   "source": [
    "def PrecGradRevLex(a,b): # Check if A<B\\n\",\n",
    "    sumA = np.array(a).sum()\n",
    "    sumB = np.array(b).sum()\n",
    "    if sumA < sumB:\n",
    "        return True\n",
    "    elif sumA > sumB:\n",
    "        return False\n",
    "    else:\n",
    "        c = np.array(b)-np.array(a)\n",
    "        for x in c:\n",
    "            if x < 0:\n",
    "                return True\n",
    "            if x > 0:\n",
    "             return False"
   ]
  },
  {
   "cell_type": "code",
   "execution_count": 11,
   "id": "a7c2db94",
   "metadata": {},
   "outputs": [],
   "source": [
    "def MaximumOrder(v,order):\n",
    "    maximum = v[0]\n",
    "    for x in v:\n",
    "        if order(maximum,x):\n",
    "            maximum = x\n",
    "    return maximum"
   ]
  },
  {
   "cell_type": "code",
   "execution_count": 12,
   "id": "081e8f6c",
   "metadata": {},
   "outputs": [],
   "source": [
    "def GetSemigroupFromGaps(gaps,eq,order): # Note: Last gap is the frobenius element.\n",
    "    frob = MaximumOrder(gaps,order)\n",
    "    bound =  [3*frob[i] for i in range(len(frob))]### <--- COMPROBAR SI ESTA COTA SE PUEDE MEJORAR!!!\n",
    "    cone = []\n",
    "    it = itertools.product(*[range(i+1) for i in bound])\n",
    "    for x in it:\n",
    "        if CPP.belongCone(list(x),eq) and not CPP.allZero(list(x)):\n",
    "            cone.append(list(x))\n",
    "    for x in gaps:\n",
    "        cone.remove(x)\n",
    "    cs = CPP.Csemigroup(cone)\n",
    "    return cs"
   ]
  },
  {
   "cell_type": "code",
   "execution_count": 13,
   "id": "3ca238dd",
   "metadata": {},
   "outputs": [],
   "source": [
    "def ComputeIC(cone,frob,eq):\n",
    "    aux = []\n",
    "    for x in cone:\n",
    "        if CPP.belongCone([frob[i]-x[i] for i in range(len(x))],eq):\n",
    "            aux.append(x)\n",
    "    return aux"
   ]
  },
  {
   "cell_type": "code",
   "execution_count": 14,
   "id": "fd727121",
   "metadata": {},
   "outputs": [],
   "source": [
    "def ComputeRootTreeIrreductible(IC, frob, order,eq):\n",
    "    hFrob = [x/2 for x in frob]\n",
    "    i1 = []\n",
    "    for x in IC:\n",
    "        if not CPP.allZero(list(x)) and not order(hFrob,x):\n",
    "            i1.append(x)\n",
    "    i1.append(frob)\n",
    "    return GetSemigroupFromGaps(i1,eq,order)"
   ]
  },
  {
   "cell_type": "code",
   "execution_count": 15,
   "id": "3bb3f9cc",
   "metadata": {},
   "outputs": [],
   "source": [
    "def GetGeneratorsBetweenHalfFrobAndFrob(gen, frob,order):\n",
    "    hFrob = [x/2 for x in frob]\n",
    "    i2 = []\n",
    "    for x in gen:\n",
    "        aux = list(np.array(frob)-np.array(x))\n",
    "        if order(hFrob,x) and CPP.allPositive([frob[i]-x[i] for i in range(len(x))]):\n",
    "            i2.append(x)\n",
    "    return i2"
   ]
  },
  {
   "cell_type": "code",
   "execution_count": 17,
   "id": "72fda348",
   "metadata": {},
   "outputs": [],
   "source": [
    "def CheckPropertiesGeneratorsTree(gen, frob,IC,order):\n",
    "    aux = []\n",
    "    candidates = GetGeneratorsBetweenHalfFrobAndFrob(gen, frob,order)\n",
    "    print(candidates)\n",
    "    for x in candidates:\n",
    "        if x in IC and not CPP.belongByGens([2*x[i]-frob[i] for i in range(len(x))],gen) and [3*x[i] for i in range(len(x))] != [2*frob[i] for i in range(len(x))] and [4*x[i] for i in range(len(x))] != [3*frob[i] for i in range(len(x))]:\n",
    "            aux.append(x)\n",
    "    return aux"
   ]
  },
  {
   "cell_type": "code",
   "execution_count": 18,
   "id": "7564681e",
   "metadata": {},
   "outputs": [],
   "source": [
    "def ComputeIrreducibleChildren(sg,frob,order, ic,eq):\n",
    "    children = []\n",
    "    A = CheckPropertiesGeneratorsTree(sg.GetGenerators(),frob,ic,order)\n",
    "    for x in A:\n",
    "        gaps = list(sg.GetGaps())\n",
    "        gaps.append(x)\n",
    "        gaps.remove([frob[i]-x[i] for i in range(len(x))])\n",
    "        children.append(GetSemigroupFromGaps(gaps,eq,order))\n",
    "    return children"
   ]
  },
  {
   "cell_type": "code",
   "execution_count": 19,
   "id": "fa87194d",
   "metadata": {},
   "outputs": [],
   "source": [
    "def ComputeTreeIrreducible(frob, eq, order):\n",
    "    bound =  [3*frob[i] for i in range(len(frob))]### <--- COMPROBAR SI ESTA COTA SE PUEDE MEJORAR!!!\n",
    "    cone = ComputeCone(bound,eq)\n",
    "    sf = ComputeRootTreeIrreductible(cone, frob, order,eq)\n",
    "    ic = ComputeIC(cone,frob,eq)\n",
    "    X = [sf]\n",
    "    Y = []\n",
    "    while X != []:\n",
    "        print(len(X))\n",
    "        for sg in X:\n",
    "            print(\"Huecos padre:\",sg.GetGaps())\n",
    "            print(\"Huecos hijos:\")\n",
    "            children = ComputeIrreducibleChildren(sg,frob,order, ic,eq)\n",
    "            for kk in children:\n",
    "                print(kk.GetGaps())\n",
    "            Y.append([sg,children])\n",
    "        X = children\n",
    "        \n",
    "        print(\"En X hay:\")\n",
    "        for kk in X:\n",
    "            print(kk.GetGenerators())\n",
    "        print(\"\\n\")\n",
    "    return(Y)"
   ]
  },
  {
   "cell_type": "code",
   "execution_count": 20,
   "id": "551c6f7b",
   "metadata": {},
   "outputs": [
    {
     "name": "stdout",
     "output_type": "stream",
     "text": [
      "1\n",
      "Huecos padre: [[1, 0], [1, 1], [2, 0], [2, 1], [4, 2]]\n",
      "Huecos hijos:\n",
      "[[3, 0], [4, 0], [3, 1], [4, 1], [2, 2], [3, 2]]\n",
      "[[1, 0], [2, 0], [2, 1], [3, 1], [4, 2]]\n",
      "[[1, 0], [1, 1], [2, 1], [2, 2], [4, 2]]\n",
      "En X hay:\n",
      "[[3, 0], [4, 0], [5, 0], [1, 1], [3, 2], [5, 3]]\n",
      "[[2, 0], [3, 0], [3, 1], [4, 1], [3, 2], [3, 3], [4, 3], [4, 4], [5, 4], [5, 5]]\n",
      "\n",
      "\n",
      "2\n",
      "Huecos padre: [[1, 0], [2, 0], [2, 1], [3, 1], [4, 2]]\n",
      "Huecos hijos:\n",
      "[[3, 0], [4, 0], [3, 2]]\n",
      "Huecos padre: [[1, 0], [1, 1], [2, 1], [2, 2], [4, 2]]\n",
      "Huecos hijos:\n",
      "[[3, 0], [3, 1], [4, 1], [3, 2]]\n",
      "[[1, 1], [2, 1], [2, 2], [3, 2], [4, 2]]\n",
      "En X hay:\n",
      "[[1, 0], [3, 1], [5, 2], [3, 3], [4, 4], [5, 5]]\n",
      "\n",
      "\n",
      "1\n",
      "Huecos padre: [[1, 1], [2, 1], [2, 2], [3, 2], [4, 2]]\n",
      "Huecos hijos:\n",
      "[[3, 1]]\n",
      "En X hay:\n",
      "\n",
      "\n"
     ]
    }
   ],
   "source": [
    "arbol  = ComputeTreeIrreducible([4,2], [[0, 1], [1, -1]], PrecGradLex)"
   ]
  },
  {
   "cell_type": "code",
   "execution_count": 21,
   "id": "0160c55c",
   "metadata": {},
   "outputs": [
    {
     "name": "stdout",
     "output_type": "stream",
     "text": [
      "Padre [[3, 0], [4, 0], [5, 0], [3, 1], [4, 1], [5, 1], [2, 2], [3, 2], [3, 3], [4, 3]]\n",
      "Hijos:\n",
      "   -> [[3, 0], [4, 0], [5, 0], [1, 1], [3, 2], [5, 3]] 5\n",
      "   -> [[2, 0], [3, 0], [3, 1], [4, 1], [3, 2], [3, 3], [4, 3], [4, 4], [5, 4], [5, 5]] 5\n",
      "Padre [[3, 0], [4, 0], [5, 0], [1, 1], [3, 2], [5, 3]]\n",
      "Hijos:\n",
      "Padre [[2, 0], [3, 0], [3, 1], [4, 1], [3, 2], [3, 3], [4, 3], [4, 4], [5, 4], [5, 5]]\n",
      "Hijos:\n",
      "   -> [[1, 0], [3, 1], [5, 2], [3, 3], [4, 4], [5, 5]] 5\n",
      "Padre [[1, 0], [3, 1], [5, 2], [3, 3], [4, 4], [5, 5]]\n",
      "Hijos:\n"
     ]
    }
   ],
   "source": [
    "for x in arbol:\n",
    "    print(\"Padre\",x[0].GetGenerators())\n",
    "    print(\"Hijos:\")\n",
    "    for y in x[1]:\n",
    "        print(\"   ->\",y.GetGenerators(),len(y.GetGaps()))"
   ]
  },
  {
   "cell_type": "code",
   "execution_count": 22,
   "id": "ebcdd018",
   "metadata": {},
   "outputs": [
    {
     "name": "stdout",
     "output_type": "stream",
     "text": [
      "1\n",
      "Huecos padre: [[1, 0], [1, 1], [2, 0], [2, 1], [3, 0], [4, 2]]\n",
      "Huecos hijos:\n",
      "[[4, 0], [3, 1], [4, 1], [2, 2], [3, 2]]\n",
      "[[1, 0], [2, 0], [2, 1], [3, 0], [3, 1], [4, 2]]\n",
      "[[1, 0], [1, 1], [2, 1], [2, 2], [3, 0], [4, 2]]\n",
      "En X hay:\n",
      "[[4, 0], [5, 0], [6, 0], [7, 0], [1, 1], [4, 1], [3, 2], [5, 3]]\n",
      "[[2, 0], [5, 0], [3, 1], [4, 1], [3, 2], [3, 3], [4, 3], [4, 4], [5, 4], [5, 5]]\n",
      "\n",
      "\n",
      "2\n",
      "Huecos padre: [[1, 0], [2, 0], [2, 1], [3, 0], [3, 1], [4, 2]]\n",
      "Huecos hijos:\n",
      "[[4, 0], [4, 1], [3, 2]]\n",
      "Huecos padre: [[1, 0], [1, 1], [2, 1], [2, 2], [3, 0], [4, 2]]\n",
      "Huecos hijos:\n",
      "[[3, 1], [4, 1], [3, 2]]\n",
      "[[1, 1], [2, 1], [2, 2], [3, 2], [4, 2]]\n",
      "En X hay:\n",
      "[[1, 0], [3, 1], [5, 2], [3, 3], [4, 4], [5, 5]]\n",
      "\n",
      "\n",
      "1\n",
      "Huecos padre: [[1, 1], [2, 1], [2, 2], [3, 2], [4, 2]]\n",
      "Huecos hijos:\n",
      "[[3, 1]]\n",
      "En X hay:\n",
      "\n",
      "\n"
     ]
    }
   ],
   "source": [
    "arbol2  = ComputeTreeIrreducible([4,2], [[0, 1], [1, -1]], PrecGradRevLex)"
   ]
  },
  {
   "cell_type": "code",
   "execution_count": 23,
   "id": "de51b9bc",
   "metadata": {},
   "outputs": [
    {
     "name": "stdout",
     "output_type": "stream",
     "text": [
      "Padre [[4, 0], [5, 0], [6, 0], [7, 0], [3, 1], [4, 1], [5, 1], [6, 1], [2, 2], [3, 2], [5, 2], [3, 3], [4, 3]]\n",
      "Hijos:\n",
      "   -> [[4, 0], [5, 0], [6, 0], [7, 0], [1, 1], [4, 1], [3, 2], [5, 3]] 6\n",
      "   -> [[2, 0], [5, 0], [3, 1], [4, 1], [3, 2], [3, 3], [4, 3], [4, 4], [5, 4], [5, 5]] 6\n",
      "Padre [[4, 0], [5, 0], [6, 0], [7, 0], [1, 1], [4, 1], [3, 2], [5, 3]]\n",
      "Hijos:\n",
      "Padre [[2, 0], [5, 0], [3, 1], [4, 1], [3, 2], [3, 3], [4, 3], [4, 4], [5, 4], [5, 5]]\n",
      "Hijos:\n",
      "   -> [[1, 0], [3, 1], [5, 2], [3, 3], [4, 4], [5, 5]] 5\n",
      "Padre [[1, 0], [3, 1], [5, 2], [3, 3], [4, 4], [5, 5]]\n",
      "Hijos:\n"
     ]
    }
   ],
   "source": [
    "for x in arbol2:\n",
    "    print(\"Padre\",x[0].GetGenerators())\n",
    "    print(\"Hijos:\")\n",
    "    for y in x[1]:\n",
    "        print(\"   ->\",y.GetGenerators(),len(y.GetGaps()))"
   ]
  },
  {
   "cell_type": "code",
   "execution_count": null,
   "id": "04e02abc",
   "metadata": {},
   "outputs": [],
   "source": []
  }
 ],
 "metadata": {
  "kernelspec": {
   "display_name": "Python 3",
   "language": "python",
   "name": "python3"
  },
  "language_info": {
   "codemirror_mode": {
    "name": "ipython",
    "version": 3
   },
   "file_extension": ".py",
   "mimetype": "text/x-python",
   "name": "python",
   "nbconvert_exporter": "python",
   "pygments_lexer": "ipython3",
   "version": "3.8.5"
  }
 },
 "nbformat": 4,
 "nbformat_minor": 5
}

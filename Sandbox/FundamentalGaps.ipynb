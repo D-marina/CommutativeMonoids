{
 "cells": [
  {
   "cell_type": "code",
   "execution_count": 1,
   "id": "fa4e9fbf",
   "metadata": {},
   "outputs": [],
   "source": [
    "import numpy as np\n",
    "import itertools\n",
    "import sys\n",
    "sys.path.insert(0, '../CClassCSemigroups/')\n",
    "import CsemigroupsCPP as CPP"
   ]
  },
  {
   "cell_type": "code",
   "execution_count": 8,
   "id": "7b5022fd",
   "metadata": {},
   "outputs": [],
   "source": [
    "def PrecGradLex(a,b): # Check if A<B\\n\",\n",
    "    sumA = np.array(a).sum()\n",
    "    sumB = np.array(b).sum()\n",
    "    if sumA < sumB:\n",
    "        return True\n",
    "    elif sumA > sumB:\n",
    "        return False\n",
    "    else:\n",
    "        c = np.array(b)-np.array(a)\n",
    "        for x in c:\n",
    "            if x > 0:\n",
    "                return True\n",
    "            if x < 0:\n",
    "             return False"
   ]
  },
  {
   "cell_type": "code",
   "execution_count": 134,
   "id": "09a70467",
   "metadata": {},
   "outputs": [],
   "source": [
    "def GetSemigroupFromGaps(gaps,eq,order): # Note: Last gap is the frobenius element.\n",
    "    \n",
    "    frob = list(MaximumOrder(gaps,order)) # El list es porque si no, se contamina 'gaps' por algún motivo\n",
    "\n",
    "    mfrob = max(frob)\n",
    "    for i in range(len(frob)):\n",
    "        if frob[i] == 0:\n",
    "            frob[i] = mfrob # Arreglo temporal!!!\n",
    "    \n",
    "    bound =  [3*frob[i] for i in range(len(frob))]### <--- COMPROBAR SI ESTA COTA SE PUEDE MEJORAR!!!\n",
    "    cone = []\n",
    "    it = itertools.product(*[range(i+1) for i in bound])\n",
    "    for x in it:\n",
    "        if CPP.belongCone(list(x),eq) and not CPP.allZero(list(x)):\n",
    "            cone.append(list(x))\n",
    "    print(\"Cone = \",cone)\n",
    "    print(\"gaps =\",gaps)\n",
    "    for x in gaps:\n",
    "        cone.remove(x)\n",
    "    cs = CPP.Csemigroup(cone)\n",
    "    return cs"
   ]
  },
  {
   "cell_type": "code",
   "execution_count": 135,
   "id": "124b2c52",
   "metadata": {},
   "outputs": [
    {
     "name": "stdout",
     "output_type": "stream",
     "text": [
      "Cone =  [[1, 0], [1, 1], [1, 2], [2, 0], [2, 1], [2, 2], [2, 3], [3, 0], [3, 1], [3, 2], [3, 3]]\n",
      "gaps = [[1, 0]]\n"
     ]
    },
    {
     "data": {
      "text/plain": [
       "[[2, 0], [3, 0], [1, 1], [2, 1], [1, 2]]"
      ]
     },
     "execution_count": 135,
     "metadata": {},
     "output_type": "execute_result"
    }
   ],
   "source": [
    "GetSemigroupFromGaps([[1, 0]],[[0, 1], [2, -1]],PrecGradLex).GetGenerators()"
   ]
  },
  {
   "cell_type": "code",
   "execution_count": 20,
   "id": "4db9bf8b",
   "metadata": {},
   "outputs": [],
   "source": [
    "def MaximumOrder(v,order):\n",
    "    maximum = v[0]\n",
    "    for x in v:\n",
    "        if order(maximum,x):\n",
    "            maximum = x\n",
    "    return maximum"
   ]
  },
  {
   "cell_type": "code",
   "execution_count": 52,
   "id": "6ed272bc",
   "metadata": {},
   "outputs": [],
   "source": [
    "def MinimumOrder(v,order):\n",
    "    minimum = v[0]\n",
    "    for x in v:\n",
    "        if order(x,minimum):\n",
    "            minimum = x\n",
    "    return minimum"
   ]
  },
  {
   "cell_type": "code",
   "execution_count": 39,
   "id": "7cbbcb28",
   "metadata": {},
   "outputs": [],
   "source": [
    "def ComputeCone(bound,eq):\n",
    "    cone = []\n",
    "    it = itertools.product(*[range(i+1) for i in bound])\n",
    "    for x in it:\n",
    "        if CPP.belongCone(list(x),eq):\n",
    "            cone.append(list(x))\n",
    "    return cone"
   ]
  },
  {
   "cell_type": "code",
   "execution_count": 76,
   "id": "c99dde95",
   "metadata": {},
   "outputs": [],
   "source": [
    "def DeleteDuplicates(v):\n",
    "    w = []\n",
    "    for x in v:\n",
    "        if x not in w:\n",
    "            w.append(x)\n",
    "    return w\n",
    "\n",
    "#DeleteDuplicates([1, 3, 4, 2, 1, 6, 7, 3])"
   ]
  },
  {
   "cell_type": "code",
   "execution_count": 21,
   "id": "d72d2076",
   "metadata": {},
   "outputs": [],
   "source": [
    "def Subset(v,w):\n",
    "    for x in v:\n",
    "        if x not in w:\n",
    "            return False\n",
    "    return True"
   ]
  },
  {
   "cell_type": "code",
   "execution_count": 38,
   "id": "c51d4901",
   "metadata": {},
   "outputs": [],
   "source": [
    "def ComputeMaximimumPerCoordinate(v):\n",
    "    n = len(v[0])\n",
    "    maximum  = []\n",
    "    for i in range(n):\n",
    "        aux = 0\n",
    "        for x in v:\n",
    "            if x[i] > aux:\n",
    "                aux = x[i]\n",
    "        maximum.append(aux)\n",
    "    return maximum"
   ]
  },
  {
   "cell_type": "code",
   "execution_count": 59,
   "id": "136cca2f",
   "metadata": {},
   "outputs": [],
   "source": [
    "def ComputeD(eqCone, X):\n",
    "    bound = ComputeMaximimumPerCoordinate(X)\n",
    "    points = ComputeCone(bound, eqCone)\n",
    "    points = [x for x in points if not CPP.allZero(x)]\n",
    "    candidates = list(points)\n",
    "    D = []\n",
    "    maxN = max(bound)\n",
    "    for i in range(1,maxN+1):\n",
    "        candidates = [[i*x[j] for j in range(len(x))] for x in candidates]\n",
    "        #print(\"i = \",i,\"candidates = \",candidates)\n",
    "        for j in range(len(candidates)):\n",
    "            if candidates[j] in X:\n",
    "                D.append(points[j])\n",
    "    return D\n",
    "\n",
    "#ComputeD([[0, 1], [2, -1]], [[2,0],[2,1]])"
   ]
  },
  {
   "cell_type": "code",
   "execution_count": 145,
   "id": "565776f7",
   "metadata": {},
   "outputs": [],
   "source": [
    "def ConeMinusSet(cone, X, order):\n",
    "    genCone = cone.GetGenerators()\n",
    "    eqCone = cone.GetHyperplanes()\n",
    "    if Subset(X,genCone):\n",
    "        return GetSemigroupFromGaps(X,eqCone,order)\n",
    "    D = DeleteDuplicates(ComputeD(eqCone,X))\n",
    "    #print(\"D=\",D)\n",
    "    x1 = MinimumOrder(X,order)\n",
    "    if not Subset(X,D) or not Subset(D,X):\n",
    "        raise Exception(\"C\\X is not a C-semigroup\") \n",
    "    gen = list(genCone)\n",
    "    t = len(X)\n",
    "    gaps = []\n",
    "    print(\"t =\",t)\n",
    "    for i in range(t):\n",
    "        print(\"Estudiamos \",X[i])\n",
    "        if X[i] not in gen:\n",
    "            raise Exception(\"C\\X is not a C-semigroup\")\n",
    "        gaps.append(X[i])\n",
    "        print(\"gaps = \",gaps)\n",
    "        gen = GetSemigroupFromGaps(gaps,eqCone,order).GetGenerators()\n",
    "        print(\"Gen =\",gen)\n",
    "        aux = [x for x in aux if x != X[i]]\n",
    "        if Subset(aux,gen):\n",
    "            return GetSemigroupFromGaps(gaps,eqCone,order)"
   ]
  },
  {
   "cell_type": "code",
   "execution_count": 146,
   "id": "eb847059",
   "metadata": {},
   "outputs": [
    {
     "name": "stdout",
     "output_type": "stream",
     "text": [
      "t = 8\n",
      "Estudiamos  [1, 0]\n",
      "gaps =  [[1, 0]]\n",
      "Cone =  [[1, 0], [1, 1], [1, 2], [2, 0], [2, 1], [2, 2], [2, 3], [3, 0], [3, 1], [3, 2], [3, 3]]\n",
      "gaps = [[1, 0]]\n",
      "Gen = [[2, 0], [3, 0], [1, 1], [2, 1], [1, 2]]\n"
     ]
    },
    {
     "ename": "UnboundLocalError",
     "evalue": "local variable 'aux' referenced before assignment",
     "output_type": "error",
     "traceback": [
      "\u001b[0;31m---------------------------------------------------------------------------\u001b[0m",
      "\u001b[0;31mUnboundLocalError\u001b[0m                         Traceback (most recent call last)",
      "\u001b[0;32m<ipython-input-146-79a4e38958cd>\u001b[0m in \u001b[0;36m<module>\u001b[0;34m\u001b[0m\n\u001b[1;32m      5\u001b[0m \u001b[0mX3\u001b[0m \u001b[0;34m=\u001b[0m \u001b[0;34m[\u001b[0m\u001b[0;34m[\u001b[0m\u001b[0;36m1\u001b[0m\u001b[0;34m,\u001b[0m\u001b[0;36m0\u001b[0m\u001b[0;34m]\u001b[0m\u001b[0;34m,\u001b[0m\u001b[0;34m[\u001b[0m\u001b[0;36m1\u001b[0m\u001b[0;34m,\u001b[0m\u001b[0;36m1\u001b[0m\u001b[0;34m]\u001b[0m\u001b[0;34m,\u001b[0m\u001b[0;34m[\u001b[0m\u001b[0;36m1\u001b[0m\u001b[0;34m,\u001b[0m\u001b[0;36m2\u001b[0m\u001b[0;34m]\u001b[0m\u001b[0;34m,\u001b[0m\u001b[0;34m[\u001b[0m\u001b[0;36m2\u001b[0m\u001b[0;34m,\u001b[0m\u001b[0;36m0\u001b[0m\u001b[0;34m]\u001b[0m\u001b[0;34m,\u001b[0m\u001b[0;34m[\u001b[0m\u001b[0;36m2\u001b[0m\u001b[0;34m,\u001b[0m\u001b[0;36m1\u001b[0m\u001b[0;34m]\u001b[0m\u001b[0;34m,\u001b[0m\u001b[0;34m[\u001b[0m\u001b[0;36m2\u001b[0m\u001b[0;34m,\u001b[0m\u001b[0;36m2\u001b[0m\u001b[0;34m]\u001b[0m\u001b[0;34m,\u001b[0m\u001b[0;34m[\u001b[0m\u001b[0;36m2\u001b[0m\u001b[0;34m,\u001b[0m\u001b[0;36m3\u001b[0m\u001b[0;34m]\u001b[0m\u001b[0;34m,\u001b[0m\u001b[0;34m[\u001b[0m\u001b[0;36m2\u001b[0m\u001b[0;34m,\u001b[0m\u001b[0;36m4\u001b[0m\u001b[0;34m]\u001b[0m\u001b[0;34m]\u001b[0m\u001b[0;34m\u001b[0m\u001b[0;34m\u001b[0m\u001b[0m\n\u001b[1;32m      6\u001b[0m \u001b[0mcone\u001b[0m \u001b[0;34m=\u001b[0m \u001b[0mCPP\u001b[0m\u001b[0;34m.\u001b[0m\u001b[0mCsemigroup\u001b[0m\u001b[0;34m(\u001b[0m\u001b[0mgen\u001b[0m\u001b[0;34m)\u001b[0m\u001b[0;34m\u001b[0m\u001b[0;34m\u001b[0m\u001b[0m\n\u001b[0;32m----> 7\u001b[0;31m \u001b[0mConeMinusSet\u001b[0m\u001b[0;34m(\u001b[0m\u001b[0mcone\u001b[0m\u001b[0;34m,\u001b[0m \u001b[0mX3\u001b[0m\u001b[0;34m,\u001b[0m \u001b[0mPrecGradLex\u001b[0m\u001b[0;34m)\u001b[0m\u001b[0;34m.\u001b[0m\u001b[0mGetGenerators\u001b[0m\u001b[0;34m(\u001b[0m\u001b[0;34m)\u001b[0m\u001b[0;34m\u001b[0m\u001b[0;34m\u001b[0m\u001b[0m\n\u001b[0m",
      "\u001b[0;32m<ipython-input-145-3371ceb0e27a>\u001b[0m in \u001b[0;36mConeMinusSet\u001b[0;34m(cone, X, order)\u001b[0m\n\u001b[1;32m     21\u001b[0m         \u001b[0mgen\u001b[0m \u001b[0;34m=\u001b[0m \u001b[0mGetSemigroupFromGaps\u001b[0m\u001b[0;34m(\u001b[0m\u001b[0mgaps\u001b[0m\u001b[0;34m,\u001b[0m\u001b[0meqCone\u001b[0m\u001b[0;34m,\u001b[0m\u001b[0morder\u001b[0m\u001b[0;34m)\u001b[0m\u001b[0;34m.\u001b[0m\u001b[0mGetGenerators\u001b[0m\u001b[0;34m(\u001b[0m\u001b[0;34m)\u001b[0m\u001b[0;34m\u001b[0m\u001b[0;34m\u001b[0m\u001b[0m\n\u001b[1;32m     22\u001b[0m         \u001b[0mprint\u001b[0m\u001b[0;34m(\u001b[0m\u001b[0;34m\"Gen =\"\u001b[0m\u001b[0;34m,\u001b[0m\u001b[0mgen\u001b[0m\u001b[0;34m)\u001b[0m\u001b[0;34m\u001b[0m\u001b[0;34m\u001b[0m\u001b[0m\n\u001b[0;32m---> 23\u001b[0;31m         \u001b[0maux\u001b[0m \u001b[0;34m=\u001b[0m \u001b[0;34m[\u001b[0m\u001b[0mx\u001b[0m \u001b[0;32mfor\u001b[0m \u001b[0mx\u001b[0m \u001b[0;32min\u001b[0m \u001b[0maux\u001b[0m \u001b[0;32mif\u001b[0m \u001b[0mx\u001b[0m \u001b[0;34m!=\u001b[0m \u001b[0mX\u001b[0m\u001b[0;34m[\u001b[0m\u001b[0mi\u001b[0m\u001b[0;34m]\u001b[0m\u001b[0;34m]\u001b[0m\u001b[0;34m\u001b[0m\u001b[0;34m\u001b[0m\u001b[0m\n\u001b[0m\u001b[1;32m     24\u001b[0m         \u001b[0;32mif\u001b[0m \u001b[0mSubset\u001b[0m\u001b[0;34m(\u001b[0m\u001b[0maux\u001b[0m\u001b[0;34m,\u001b[0m\u001b[0mgen\u001b[0m\u001b[0;34m)\u001b[0m\u001b[0;34m:\u001b[0m\u001b[0;34m\u001b[0m\u001b[0;34m\u001b[0m\u001b[0m\n\u001b[1;32m     25\u001b[0m             \u001b[0;32mreturn\u001b[0m \u001b[0mGetSemigroupFromGaps\u001b[0m\u001b[0;34m(\u001b[0m\u001b[0mgaps\u001b[0m\u001b[0;34m,\u001b[0m\u001b[0meqCone\u001b[0m\u001b[0;34m,\u001b[0m\u001b[0morder\u001b[0m\u001b[0;34m)\u001b[0m\u001b[0;34m\u001b[0m\u001b[0;34m\u001b[0m\u001b[0m\n",
      "\u001b[0;31mUnboundLocalError\u001b[0m: local variable 'aux' referenced before assignment"
     ]
    }
   ],
   "source": [
    "#eq = [[0, 1], [2, -1]]\n",
    "gen = [[1,0],[1,1],[1,2]]\n",
    "X1 = [[1,0], [1,1]]\n",
    "X2 = [[2,0],[2,1]]\n",
    "X3 = [[1,0],[1,1],[1,2],[2,0],[2,1],[2,2],[2,3],[2,4]]\n",
    "cone = CPP.Csemigroup(gen)\n",
    "ConeMinusSet(cone, X3, PrecGradLex).GetGenerators()"
   ]
  },
  {
   "cell_type": "code",
   "execution_count": 32,
   "id": "46feafa6",
   "metadata": {},
   "outputs": [
    {
     "data": {
      "text/plain": [
       "[[1, 0], [1, 1]]"
      ]
     },
     "execution_count": 32,
     "metadata": {},
     "output_type": "execute_result"
    }
   ],
   "source": [
    "sol.GetGaps()"
   ]
  },
  {
   "cell_type": "code",
   "execution_count": 63,
   "id": "c04a92cc",
   "metadata": {},
   "outputs": [
    {
     "ename": "Exception",
     "evalue": "Sorry, no numbers below zero",
     "output_type": "error",
     "traceback": [
      "\u001b[0;31m---------------------------------------------------------------------------\u001b[0m",
      "\u001b[0;31mException\u001b[0m                                 Traceback (most recent call last)",
      "\u001b[0;32m<ipython-input-63-d4a9d1eb76d7>\u001b[0m in \u001b[0;36m<module>\u001b[0;34m\u001b[0m\n\u001b[0;32m----> 1\u001b[0;31m \u001b[0;32mraise\u001b[0m \u001b[0mException\u001b[0m\u001b[0;34m(\u001b[0m\u001b[0;34m\"Sorry, no numbers below zero\"\u001b[0m\u001b[0;34m)\u001b[0m\u001b[0;34m\u001b[0m\u001b[0;34m\u001b[0m\u001b[0m\n\u001b[0m",
      "\u001b[0;31mException\u001b[0m: Sorry, no numbers below zero"
     ]
    }
   ],
   "source": [
    "raise Exception(\"Sorry, no numbers below zero\") "
   ]
  },
  {
   "cell_type": "code",
   "execution_count": 77,
   "id": "cc6eefe9",
   "metadata": {},
   "outputs": [
    {
     "data": {
      "text/plain": [
       "False"
      ]
     },
     "execution_count": 77,
     "metadata": {},
     "output_type": "execute_result"
    }
   ],
   "source": [
    "[1,2,3]==[1,3,2]"
   ]
  },
  {
   "cell_type": "code",
   "execution_count": null,
   "id": "c98762e0",
   "metadata": {},
   "outputs": [],
   "source": []
  }
 ],
 "metadata": {
  "kernelspec": {
   "display_name": "Python 3",
   "language": "python",
   "name": "python3"
  },
  "language_info": {
   "codemirror_mode": {
    "name": "ipython",
    "version": 3
   },
   "file_extension": ".py",
   "mimetype": "text/x-python",
   "name": "python",
   "nbconvert_exporter": "python",
   "pygments_lexer": "ipython3",
   "version": "3.8.5"
  }
 },
 "nbformat": 4,
 "nbformat_minor": 5
}

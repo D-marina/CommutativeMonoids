{
 "cells": [
  {
   "cell_type": "code",
   "execution_count": 2,
   "id": "fa4e9fbf",
   "metadata": {},
   "outputs": [],
   "source": [
    "import numpy as np\n",
    "import itertools\n",
    "import sys\n",
    "sys.path.insert(0, '../CClassCSemigroups/')\n",
    "import CsemigroupsCPP as CPP"
   ]
  },
  {
   "cell_type": "code",
   "execution_count": 3,
   "id": "7b5022fd",
   "metadata": {},
   "outputs": [],
   "source": [
    "def PrecGradLex(a,b): # Check if A<B\\n\",\n",
    "    sumA = np.array(a).sum()\n",
    "    sumB = np.array(b).sum()\n",
    "    if sumA < sumB:\n",
    "        return True\n",
    "    elif sumA > sumB:\n",
    "        return False\n",
    "    else:\n",
    "        c = np.array(b)-np.array(a)\n",
    "        for x in c:\n",
    "            if x > 0:\n",
    "                return True\n",
    "            if x < 0:\n",
    "             return False"
   ]
  },
  {
   "cell_type": "code",
   "execution_count": 4,
   "id": "09a70467",
   "metadata": {},
   "outputs": [],
   "source": [
    "def GetSemigroupFromGaps(gaps,eq,order): # Note: Last gap is the frobenius element.\n",
    "    \n",
    "    frob = list(MaximumOrder(gaps,order)) # El list es porque si no, se contamina 'gaps' por algún motivo\n",
    "\n",
    "    mfrob = max(frob)\n",
    "    for i in range(len(frob)):\n",
    "        if frob[i] == 0:\n",
    "            frob[i] = mfrob # Arreglo temporal!!!\n",
    "    \n",
    "    bound =  [3*frob[i] for i in range(len(frob))]### <--- COMPROBAR SI ESTA COTA SE PUEDE MEJORAR!!!\n",
    "    cone = []\n",
    "    it = itertools.product(*[range(i+1) for i in bound])\n",
    "    for x in it:\n",
    "        if CPP.belongCone(list(x),eq) and not CPP.allZero(list(x)):\n",
    "            cone.append(list(x))\n",
    "    print(\"Cone = \",cone)\n",
    "    print(\"gaps =\",gaps)\n",
    "    for x in gaps:\n",
    "        cone.remove(x)\n",
    "    cs = CPP.Csemigroup(cone)\n",
    "    return cs"
   ]
  },
  {
   "cell_type": "code",
   "execution_count": 5,
   "id": "4db9bf8b",
   "metadata": {},
   "outputs": [],
   "source": [
    "def MaximumOrder(v,order):\n",
    "    maximum = v[0]\n",
    "    for x in v:\n",
    "        if order(maximum,x):\n",
    "            maximum = x\n",
    "    return maximum"
   ]
  },
  {
   "cell_type": "code",
   "execution_count": 6,
   "id": "6ed272bc",
   "metadata": {},
   "outputs": [],
   "source": [
    "def MinimumOrder(v,order):\n",
    "    minimum = v[0]\n",
    "    for x in v:\n",
    "        if order(x,minimum):\n",
    "            minimum = x\n",
    "    return minimum"
   ]
  },
  {
   "cell_type": "code",
   "execution_count": 7,
   "id": "7cbbcb28",
   "metadata": {},
   "outputs": [],
   "source": [
    "def ComputeCone(bound,eq):\n",
    "    cone = []\n",
    "    it = itertools.product(*[range(i+1) for i in bound])\n",
    "    for x in it:\n",
    "        if CPP.belongCone(list(x),eq):\n",
    "            cone.append(list(x))\n",
    "    return cone"
   ]
  },
  {
   "cell_type": "code",
   "execution_count": 8,
   "id": "c99dde95",
   "metadata": {},
   "outputs": [],
   "source": [
    "def DeleteDuplicates(v):\n",
    "    w = []\n",
    "    for x in v:\n",
    "        if x not in w:\n",
    "            w.append(x)\n",
    "    return w\n",
    "\n",
    "#DeleteDuplicates([1, 3, 4, 2, 1, 6, 7, 3])"
   ]
  },
  {
   "cell_type": "code",
   "execution_count": 9,
   "id": "d72d2076",
   "metadata": {},
   "outputs": [],
   "source": [
    "def Subset(v,w):\n",
    "    for x in v:\n",
    "        if x not in w:\n",
    "            return False\n",
    "    return True"
   ]
  },
  {
   "cell_type": "code",
   "execution_count": 10,
   "id": "c51d4901",
   "metadata": {},
   "outputs": [],
   "source": [
    "def ComputeMaximimumPerCoordinate(v):\n",
    "    n = len(v[0])\n",
    "    maximum  = []\n",
    "    for i in range(n):\n",
    "        aux = 0\n",
    "        for x in v:\n",
    "            if x[i] > aux:\n",
    "                aux = x[i]\n",
    "        maximum.append(aux)\n",
    "    return maximum"
   ]
  },
  {
   "cell_type": "code",
   "execution_count": 11,
   "id": "136cca2f",
   "metadata": {},
   "outputs": [],
   "source": [
    "def ComputeD(eqCone, X):\n",
    "    bound = ComputeMaximimumPerCoordinate(X)\n",
    "    points = ComputeCone(bound, eqCone)\n",
    "    points = [x for x in points if not CPP.allZero(x)]\n",
    "    candidates = list(points)\n",
    "    D = []\n",
    "    maxN = max(bound)\n",
    "    for i in range(1,maxN+1):\n",
    "        candidates = [[i*x[j] for j in range(len(x))] for x in points]\n",
    "        #print(\"i = \",i,\"candidates = \",candidates)\n",
    "        for j in range(len(candidates)):\n",
    "            if candidates[j] in X:\n",
    "                D.append(points[j])\n",
    "    #print(points)\n",
    "    #print(X)\n",
    "    return D\n",
    "\n",
    "#ComputeD([[0, 1], [2, -1]], [[2,0],[2,1]])"
   ]
  },
  {
   "cell_type": "code",
   "execution_count": 12,
   "id": "4ecb6309",
   "metadata": {},
   "outputs": [
    {
     "data": {
      "text/plain": [
       "[[1, 1], [3, 0], [3, 1], [3, 2], [5, 1], [5, 2], [1, 0]]"
      ]
     },
     "execution_count": 12,
     "metadata": {},
     "output_type": "execute_result"
    }
   ],
   "source": [
    "ComputeD([[0,1],[1,-1]],[[1, 1], [3, 0], [3, 1], [3, 2], [5, 1], [5, 2]])"
   ]
  },
  {
   "cell_type": "code",
   "execution_count": 13,
   "id": "565776f7",
   "metadata": {},
   "outputs": [],
   "source": [
    "def ConeMinusSet(cone, X, order):\n",
    "    genCone = cone.GetGenerators()\n",
    "    eqCone = cone.GetHyperplanes()\n",
    "    if Subset(X,genCone):\n",
    "        return GetSemigroupFromGaps(X,eqCone,order)\n",
    "    D = DeleteDuplicates(ComputeD(eqCone,X))\n",
    "    print(\"D=\",D)\n",
    "    x1 = MinimumOrder(X,order)\n",
    "    if not Subset(X,D) or not Subset(D,X):\n",
    "        raise Exception(\"C\\X is not a C-semigroup\") \n",
    "    gen = [x for x in genCone]\n",
    "    t = len(X)\n",
    "    gaps = []\n",
    "    aux = X\n",
    "    for i in range(t):\n",
    "        print(\"\\n t=\",i)\n",
    "        print(\"Estudiamos \",X[i])\n",
    "        if X[i] not in gen:\n",
    "            raise Exception(\"C\\X is not a C-semigroup\")\n",
    "        gaps.append(X[i])\n",
    "        print(\"gaps = \",gaps)\n",
    "        gen = GetSemigroupFromGaps(gaps,eqCone,order).GetGenerators()\n",
    "        print(\"Gen =\",gen)\n",
    "        aux = [x for x in aux if x != X[i]]\n",
    "        if Subset(aux,gen):\n",
    "            return GetSemigroupFromGaps(gaps+aux,eqCone,order)"
   ]
  },
  {
   "cell_type": "code",
   "execution_count": 14,
   "id": "eb847059",
   "metadata": {},
   "outputs": [
    {
     "name": "stdout",
     "output_type": "stream",
     "text": [
      "D= [[1, 0], [1, 1], [1, 2], [2, 0], [2, 1], [2, 2], [2, 3], [2, 4]]\n",
      "\n",
      " t= 0\n",
      "Estudiamos  [1, 0]\n",
      "gaps =  [[1, 0]]\n",
      "Cone =  [[1, 0], [1, 1], [1, 2], [2, 0], [2, 1], [2, 2], [2, 3], [3, 0], [3, 1], [3, 2], [3, 3]]\n",
      "gaps = [[1, 0]]\n",
      "Gen = [[2, 0], [3, 0], [1, 1], [2, 1], [1, 2]]\n",
      "\n",
      " t= 1\n",
      "Estudiamos  [1, 1]\n",
      "gaps =  [[1, 0], [1, 1]]\n",
      "Cone =  [[1, 0], [1, 1], [1, 2], [2, 0], [2, 1], [2, 2], [2, 3], [3, 0], [3, 1], [3, 2], [3, 3]]\n",
      "gaps = [[1, 0], [1, 1]]\n",
      "Gen = [[2, 0], [3, 0], [2, 1], [3, 1], [1, 2], [2, 2], [2, 3]]\n",
      "\n",
      " t= 2\n",
      "Estudiamos  [1, 2]\n",
      "gaps =  [[1, 0], [1, 1], [1, 2]]\n",
      "Cone =  [[1, 0], [1, 1], [1, 2], [2, 0], [2, 1], [2, 2], [2, 3], [2, 4], [3, 0], [3, 1], [3, 2], [3, 3], [3, 4], [3, 5], [3, 6]]\n",
      "gaps = [[1, 0], [1, 1], [1, 2]]\n",
      "Gen = [[2, 0], [3, 0], [2, 1], [3, 1], [2, 2], [3, 2], [2, 3], [3, 3], [2, 4], [3, 4], [3, 5], [3, 6]]\n",
      "Cone =  [[1, 0], [1, 1], [1, 2], [2, 0], [2, 1], [2, 2], [2, 3], [2, 4], [3, 0], [3, 1], [3, 2], [3, 3], [3, 4], [3, 5], [3, 6], [4, 0], [4, 1], [4, 2], [4, 3], [4, 4], [4, 5], [4, 6], [4, 7], [4, 8], [5, 0], [5, 1], [5, 2], [5, 3], [5, 4], [5, 5], [5, 6], [5, 7], [5, 8], [5, 9], [5, 10], [6, 0], [6, 1], [6, 2], [6, 3], [6, 4], [6, 5], [6, 6], [6, 7], [6, 8], [6, 9], [6, 10], [6, 11], [6, 12]]\n",
      "gaps = [[1, 0], [1, 1], [1, 2], [2, 0], [2, 1], [2, 2], [2, 3], [2, 4]]\n"
     ]
    },
    {
     "data": {
      "text/plain": [
       "[[3, 0],\n",
       " [4, 0],\n",
       " [5, 0],\n",
       " [3, 1],\n",
       " [4, 1],\n",
       " [5, 1],\n",
       " [3, 2],\n",
       " [4, 2],\n",
       " [5, 2],\n",
       " [3, 3],\n",
       " [4, 3],\n",
       " [5, 3],\n",
       " [3, 4],\n",
       " [4, 4],\n",
       " [5, 4],\n",
       " [3, 5],\n",
       " [4, 5],\n",
       " [5, 5],\n",
       " [3, 6],\n",
       " [4, 6],\n",
       " [5, 6],\n",
       " [4, 7],\n",
       " [5, 7],\n",
       " [4, 8],\n",
       " [5, 8],\n",
       " [5, 9],\n",
       " [5, 10]]"
      ]
     },
     "execution_count": 14,
     "metadata": {},
     "output_type": "execute_result"
    }
   ],
   "source": [
    "#eq = [[0, 1], [2, -1]]\n",
    "gen = [[1,0],[1,1],[1,2]]\n",
    "X1 = [[1,0], [1,1]]\n",
    "X2 = [[2,0],[2,1]]\n",
    "X3 = [[1,0],[1,1],[1,2],[2,0],[2,1],[2,2],[2,3],[2,4]]\n",
    "cone = CPP.Csemigroup(gen)\n",
    "ConeMinusSet(cone, X3, PrecGradLex).GetGenerators()"
   ]
  },
  {
   "cell_type": "code",
   "execution_count": null,
   "id": "f970bb45",
   "metadata": {},
   "outputs": [],
   "source": []
  }
 ],
 "metadata": {
  "kernelspec": {
   "display_name": "Python 3",
   "language": "python",
   "name": "python3"
  },
  "language_info": {
   "codemirror_mode": {
    "name": "ipython",
    "version": 3
   },
   "file_extension": ".py",
   "mimetype": "text/x-python",
   "name": "python",
   "nbconvert_exporter": "python",
   "pygments_lexer": "ipython3",
   "version": "3.8.5"
  }
 },
 "nbformat": 4,
 "nbformat_minor": 5
}

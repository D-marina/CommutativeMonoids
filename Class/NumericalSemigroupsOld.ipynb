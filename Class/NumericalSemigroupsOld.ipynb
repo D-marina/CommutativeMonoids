{
 "cells": [
  {
   "cell_type": "code",
   "execution_count": 23,
   "metadata": {
    "ExecuteTime": {
     "end_time": "2017-07-11T11:14:15.175893",
     "start_time": "2017-07-11T11:14:15.173620"
    },
    "collapsed": true
   },
   "outputs": [],
   "source": [
    "'''\n",
    "NumericalSemigroups is a module with functions and classes to work with numerical semigroups. \n",
    "It contains:\n",
    "* the class NumSemigroup, \n",
    "* the functions makeNSTree and showTree that show trees of numerical semigroups,\n",
    "* the function IterativeInorder,\n",
    "* the function showListOfSemigroups,\n",
    "* the function reproduceStrPos,\n",
    "* the function listStronglyPositive.\n",
    "To get examples just type:\n",
    "* help(NumSemigroup),\n",
    "* help(makeNSTree), help(showTree),\n",
    "* help(IterativeInorder),\n",
    "* help(showListOfSemigroups),\n",
    "* help(reproduceStrPos)\n",
    "* help(listStronglyPositive)\n",
    "and write the code after the symbols \\'>>>\\'\n",
    "'''\n",
    "pass"
   ]
  },
  {
   "cell_type": "markdown",
   "metadata": {
    "ExecuteTime": {
     "end_time": "2016-10-06T13:00:41.140551",
     "start_time": "2016-10-06T13:00:41.137542"
    }
   },
   "source": [
    "---\n",
    "\n",
    "<span style=\"color: #000000; font-family: Lucida Console; font-size: 2em;\">\n",
    "<b>Numerical semigroups</b>\n",
    "</span>\n",
    "\n",
    "---"
   ]
  },
  {
   "cell_type": "code",
   "execution_count": 14,
   "metadata": {
    "ExecuteTime": {
     "end_time": "2017-07-07T09:24:11.300797Z",
     "start_time": "2017-07-07T09:24:11.291548Z"
    }
   },
   "outputs": [
    {
     "name": "stdout",
     "output_type": "stream",
     "text": [
      "\n",
      "NumericalSemigroups is a module with functions and classes to work with numerical semigroups. \n",
      "It contains:\n",
      "* the class NumSemigroup, \n",
      "* the functions makeNSTree and showTree that show trees of numerical semigroups,\n",
      "* the function IterativeInorder,\n",
      "* the function showListOfSemigroups.\n",
      "To get examples just type:\n",
      "* help(NumSemigroup),\n",
      "* help(makeNSTree), help(showTree),\n",
      "* help(IterativeInorder),\n",
      "* help(showListOfSemigroups),\n",
      "and write the code after the symbols '>>>'\n",
      "\n"
     ]
    }
   ],
   "source": [
    "print(__doc__)"
   ]
  },
  {
   "cell_type": "markdown",
   "metadata": {},
   "source": [
    "# Imported libraries and `gcdL` function"
   ]
  },
  {
   "cell_type": "code",
   "execution_count": 1,
   "metadata": {
    "ExecuteTime": {
     "end_time": "2017-07-11T10:44:50.867714",
     "start_time": "2017-07-11T10:44:49.931861"
    },
    "init_cell": true
   },
   "outputs": [
    {
     "name": "stdout",
     "output_type": "stream",
     "text": [
      "IPython console for SymPy 0.7.6.1 (Python 3.5.2-64-bit) (ground types: python)\n"
     ]
    }
   ],
   "source": [
    "import sympy\n",
    "from sympy import symbols, Poly, poly, pprint, init_session\n",
    "init_session(quiet=True)\n",
    "\n",
    "import numpy as np, sys, time\n",
    "from numpy import array, dtype\n",
    "from matplotlib import pyplot as plt\n",
    "plt.style.use('ggplot')\n",
    "if sys.version_info[1]==5:\n",
    "    from math import gcd\n",
    "else:\n",
    "    from fractions import gcd\n",
    "\n",
    "def gcdL(l):\n",
    "    if len(l)==1:\n",
    "        return l[0]\n",
    "    if len(l)==2:\n",
    "        return gcd(l[0],l[1])\n",
    "    else:\n",
    "        aux=l[2:]+[gcd(l[0],l[1])]\n",
    "        return gcdL(aux)\n",
    "\n",
    "from ete3 import Tree, TreeStyle"
   ]
  },
  {
   "cell_type": "markdown",
   "metadata": {},
   "source": [
    "# Functions for the class NumSemigroup: `FrobeniusSolve`, `smgS`, `quitaElementoMinimal`, `Hijos`"
   ]
  },
  {
   "cell_type": "code",
   "execution_count": 2,
   "metadata": {
    "ExecuteTime": {
     "end_time": "2017-07-11T10:44:51.004506",
     "start_time": "2017-07-11T10:44:50.975895"
    },
    "collapsed": true,
    "init_cell": true
   },
   "outputs": [],
   "source": [
    "def FrobeniusSolve(lgen,x,onlyFirst=True):\n",
    "    '''\n",
    "    FrobeniusSolve([55,71,99],1000,onlyFirst=False)\n",
    "    '''\n",
    "    posAModificar=0\n",
    "    sumando=True\n",
    "    dim = len(lgen)\n",
    "    ceros=np.array([0 for i in range(dim)],dtype=np.int)\n",
    "    xaux=x\n",
    "    tuplaActual=array([0 for i in range(dim)],dtype=np.int)\n",
    "    #print(xaux,tuplaActual)    \n",
    "    if x==0:\n",
    "        return tuplaActual\n",
    "    soluciones=[]\n",
    "    while( not( np.all(tuplaActual==ceros) and not(sumando) ) ):\n",
    "        #print(tuplaActual)\n",
    "        if sumando:\n",
    "            if xaux>=lgen[0]:\n",
    "                tuplaActual[posAModificar]=tuplaActual[posAModificar]+1\n",
    "                xaux=xaux-lgen[posAModificar]\n",
    "                if xaux==0:\n",
    "                    if onlyFirst:\n",
    "                        return tuplaActual\n",
    "                    else:\n",
    "                        #print(tuplaActual)\n",
    "                        soluciones.append(array(tuplaActual))\n",
    "                        sumando=False\n",
    "                        continue\n",
    "            if xaux!=0 and xaux<lgen[0]:\n",
    "                sumando=False\n",
    "                continue\n",
    "        else:\n",
    "            if ( posAModificar == dim-1 ) and ( tuplaActual[posAModificar] > 0 ):\n",
    "                xaux=tuplaActual[posAModificar]*lgen[posAModificar]+xaux\n",
    "                tuplaActual[posAModificar]=0\n",
    "                posAModificar=posAModificar-1\n",
    "                continue\n",
    "            if ( posAModificar < dim-1 ) and ( tuplaActual[posAModificar] > 0 ):\n",
    "                xaux=xaux+lgen[posAModificar]\n",
    "                tuplaActual[posAModificar]=tuplaActual[posAModificar]-1\n",
    "                posAModificar=posAModificar+1\n",
    "                sumando=True\n",
    "                continue\n",
    "            if ( posAModificar < dim-1 ) and ( tuplaActual[posAModificar] == 0 ):\n",
    "                posAModificar=np.max( [i for i in range(dim) if tuplaActual[i]!=0] )\n",
    "                xaux=lgen[posAModificar]+xaux\n",
    "                tuplaActual[posAModificar]=tuplaActual[posAModificar]-1\n",
    "                sumando=True\n",
    "                posAModificar=posAModificar+1\n",
    "                continue\n",
    "    #return array([],dtype=np.int)\n",
    "    return soluciones"
   ]
  },
  {
   "cell_type": "code",
   "execution_count": 17,
   "metadata": {
    "ExecuteTime": {
     "end_time": "2017-07-07T09:24:12.279106Z",
     "start_time": "2017-07-07T09:24:12.273867Z"
    },
    "collapsed": true
   },
   "outputs": [],
   "source": [
    "# np.unique(array([np.sum(x) for x in FrobeniusSolve([55,71,99],2000,onlyFirst=False)]))"
   ]
  },
  {
   "cell_type": "code",
   "execution_count": 18,
   "metadata": {
    "ExecuteTime": {
     "end_time": "2017-07-07T09:24:12.486493Z",
     "start_time": "2017-07-07T09:24:12.478148Z"
    },
    "collapsed": true
   },
   "outputs": [],
   "source": [
    "# FrobeniusSolve([53,71,105],1357,onlyFirst=False)"
   ]
  },
  {
   "cell_type": "code",
   "execution_count": 3,
   "metadata": {
    "ExecuteTime": {
     "end_time": "2017-07-11T10:44:51.062708",
     "start_time": "2017-07-11T10:44:51.055954"
    },
    "collapsed": true,
    "init_cell": true
   },
   "outputs": [],
   "source": [
    "def smgS(sgS1):\n",
    "    '''\n",
    "    smgS(array([5,14,7,14],dtype=np.int))\n",
    "    '''\n",
    "    smgS=array([],dtype=np.int)\n",
    "    sgS1.sort()\n",
    "    #print(sgS1)\n",
    "    sgS=np.unique(sgS1)\n",
    "    #print(sgS)\n",
    "    if len(sgS)==1:\n",
    "        return sgS\n",
    "    smgS=np.append(smgS,sgS[0])\n",
    "    #print(sgS,smgS)\n",
    "    for i in range(1,len(sgS)):\n",
    "        if sgS[i] % smgS[0] != 0:\n",
    "            smgS=np.append(smgS,sgS[i])\n",
    "            break\n",
    "    #print(i,sgS,smgS)\n",
    "    for j in range(i+1,len(sgS)):\n",
    "        if len(FrobeniusSolve(smgS,sgS[j]))==0:\n",
    "            smgS=np.append(smgS,sgS[j])\n",
    "    return smgS"
   ]
  },
  {
   "cell_type": "code",
   "execution_count": 4,
   "metadata": {
    "ExecuteTime": {
     "end_time": "2017-07-11T10:44:51.120899",
     "start_time": "2017-07-11T10:44:51.114397"
    },
    "collapsed": true,
    "init_cell": true
   },
   "outputs": [],
   "source": [
    "def quitaElementoMinimal(smg,x):\n",
    "    '''\n",
    "    quitaElementoMinimal(array([7,11,13]),11)\n",
    "    '''\n",
    "    if np.all(smg==array([1],dtype=np.int)) and x==1:\n",
    "        return array([2,3],dtype=np.int)\n",
    "    saux=array(smg)\n",
    "    pos=np.where(saux==x)[0][0]\n",
    "    saux=np.delete(saux,pos)\n",
    "    #saux.sort()\n",
    "    m=saux[0]\n",
    "    laux=array( [ x+saux[i] for i in range(0,len(saux)) ] ,dtype=np.int)\n",
    "    saux=np.append(saux, np.append( array([2*x,3*x],dtype=np.int), laux ) )\n",
    "    #print(\"saux:\",saux)\n",
    "    return smgS(saux)"
   ]
  },
  {
   "cell_type": "code",
   "execution_count": 5,
   "metadata": {
    "ExecuteTime": {
     "end_time": "2017-07-11T10:44:51.176017",
     "start_time": "2017-07-11T10:44:51.172177"
    },
    "collapsed": true,
    "init_cell": true
   },
   "outputs": [],
   "source": [
    "def Hijos(padre): # calculo de los hijos\n",
    "    '''\n",
    "    Hijos( (array([1]),-1) )\n",
    "    Hijos( (array([2,5]),3) )\n",
    "    '''\n",
    "    sg,nf=padre\n",
    "    familia=[]\n",
    "    n=len(sg)\n",
    "    for i in range(n):\n",
    "        if nf < sg[i]:\n",
    "            sistGen=quitaElementoMinimal(sg,sg[i])\n",
    "            familia=familia+[(sistGen,sg[i])]\n",
    "    return familia"
   ]
  },
  {
   "cell_type": "markdown",
   "metadata": {},
   "source": [
    "# Functions for the class NumSemigroup: getPresentation"
   ]
  },
  {
   "cell_type": "code",
   "execution_count": 6,
   "metadata": {
    "ExecuteTime": {
     "end_time": "2017-07-11T10:44:51.236011",
     "start_time": "2017-07-11T10:44:51.227481"
    },
    "collapsed": true,
    "init_cell": true
   },
   "outputs": [],
   "source": [
    "def getPresentationOfNS(ns):\n",
    "    msg=ns.getMSG()\n",
    "    p=len(msg)\n",
    "    #print( ' '.join(['x'+str(i) for i in range(1,p+1)])+' x' )\n",
    "    lx=sympy.symbols('x ' +' '.join(['x'+str(i) for i in range(1,p+1)]))\n",
    "    lpols=[ lx[0]**int(msg[i])-lx[i+1] for i in range(p) ]\n",
    "    #print(lpols)\n",
    "    gb=sympy.groebner(  lpols, *lx , order='lex' )\n",
    "    gb=[poly(p) for p in gb]\n",
    "    gb1=[p for p in gb if not np.any( array([v==lx[0] for v in p.gens]) )]\n",
    "    #np.any( array([v==lx[0] for v in gb[0].gens]) ),gb[0].gens #.canonical_variables\n",
    "    #print(gb)\n",
    "    #for p in gb1:\n",
    "    #    print(p.as_expr())\n",
    "    return gb1"
   ]
  },
  {
   "cell_type": "markdown",
   "metadata": {
    "ExecuteTime": {
     "end_time": "2016-10-23T18:48:31.961686",
     "start_time": "2016-10-23T18:48:31.957584"
    }
   },
   "source": [
    "# Trees"
   ]
  },
  {
   "cell_type": "code",
   "execution_count": 23,
   "metadata": {
    "ExecuteTime": {
     "end_time": "2017-07-07T09:24:13.993580Z",
     "start_time": "2017-07-07T09:24:13.948050Z"
    },
    "collapsed": true
   },
   "outputs": [],
   "source": [
    "def makeNSTreeCad(ns, levels=0):\n",
    "    if levels==0:\n",
    "        cadNS=str(ns)\n",
    "        #tns=Tree(cadNS,format=1)\n",
    "    else:\n",
    "        hijos=ns.children()\n",
    "        if len(hijos)>0:\n",
    "            cadNS='('+','.join([makeNSTreeCad(s, levels=levels-1) for s in hijos])+')'+str(ns)\n",
    "        else:\n",
    "            cadNS=str(ns)\n",
    "        #print(cadNS)\n",
    "        #tns=Tree(cadNS, format=1)\n",
    "    return cadNS\n",
    "\n",
    "\n",
    "\n",
    "def makeNSTree(ns, levels=0):\n",
    "    '''\n",
    "    >>> ns=NumSemigroup([1])\n",
    "    >>> tns=makeNSTree(ns,5)\n",
    "    >>> print(tns.get_ascii())\n",
    "    '''\n",
    "    return Tree(makeNSTreeCad(ns,levels)+';', format=1)\n",
    "\n",
    "%matplotlib inline\n",
    "def showTree(tree, width=200, tree_style=TreeStyle()):\n",
    "    '''\n",
    "    >>> tns=makeNSTree(ns,5)\n",
    "    >>> showTree(tns,250) \n",
    "    >>> circular_style = TreeStyle()\n",
    "    >>> circular_style.mode = \"c\" # draw tree in circular mode\n",
    "    >>> circular_style.scale = 20\n",
    "    >>> circular_style.show_leaf_name = True\n",
    "    >>> circular_style.show_scale = False\n",
    "    >>> showTree(tns,  tree_style=circular_style)\n",
    "    ''' \n",
    "    tree.render(\"showTree___.png\", units='mm', tree_style=tree_style)  #, w=183, units=\"mm\")\n",
    "    img=plt.imread('./showTree___.png')\n",
    "    plt.axis('off')\n",
    "    plt.imshow(img )\n",
    "    plt.show()\n"
   ]
  },
  {
   "cell_type": "code",
   "execution_count": 10,
   "metadata": {
    "ExecuteTime": {
     "end_time": "2017-07-11T10:45:08.547664",
     "start_time": "2017-07-11T10:45:08.545732"
    },
    "scrolled": false
   },
   "outputs": [],
   "source": [
    "#ns=NumSemigroup([5,6,7,8,9])\n",
    "#tns=makeNSTree(ns,4)\n",
    "#print(tns.get_ascii())\n",
    "\n",
    "#showTree(tns,250)"
   ]
  },
  {
   "cell_type": "code",
   "execution_count": 11,
   "metadata": {
    "ExecuteTime": {
     "end_time": "2017-07-11T10:45:14.872424",
     "start_time": "2017-07-11T10:45:14.869959"
    }
   },
   "outputs": [],
   "source": [
    "#ns=NumSemigroup([3,5,7])\n",
    "#tns=makeNSTree(ns,5)\n",
    "#print(tns.get_ascii())"
   ]
  },
  {
   "cell_type": "code",
   "execution_count": 12,
   "metadata": {
    "ExecuteTime": {
     "end_time": "2017-07-11T10:45:19.640984",
     "start_time": "2017-07-11T10:45:19.638965"
    },
    "scrolled": false
   },
   "outputs": [],
   "source": [
    "#ns=NumSemigroup([4,5,6,7])\n",
    "#tns=makeNSTree(ns,4)\n",
    "#print(tns.get_ascii())"
   ]
  },
  {
   "cell_type": "code",
   "execution_count": 13,
   "metadata": {
    "ExecuteTime": {
     "end_time": "2017-07-11T10:45:23.005794",
     "start_time": "2017-07-11T10:45:23.003915"
    }
   },
   "outputs": [],
   "source": [
    "#ns1=NumSemigroup([6,8,9,19,13,11,10,7,5])\n",
    "#ns1.getFN(),ns1.getMSG()"
   ]
  },
  {
   "cell_type": "markdown",
   "metadata": {},
   "source": [
    "# Strongly Positive"
   ]
  },
  {
   "cell_type": "code",
   "execution_count": 16,
   "metadata": {
    "ExecuteTime": {
     "end_time": "2017-07-11T11:03:40.933020",
     "start_time": "2017-07-11T11:03:40.928545"
    },
    "collapsed": true
   },
   "outputs": [],
   "source": [
    "def StronglyPositive( ns ):\n",
    "        smg,nf=ns.getMSG(),ns.getFN()\n",
    "        dim=len(smg)\n",
    "        for i in range(1,dim-1):\n",
    "            l1=list( smg[:i] )\n",
    "            l2=list( smg[:i+1] )\n",
    "            #print(i,l1,l2)\n",
    "            v1=gcdL( l1 )\n",
    "            v2=gcdL( l2 )\n",
    "            if v1*smg[i] >= v2*smg[i+1]:\n",
    "                return False\n",
    "        return True"
   ]
  },
  {
   "cell_type": "code",
   "execution_count": 21,
   "metadata": {
    "ExecuteTime": {
     "end_time": "2017-07-11T11:10:22.036816",
     "start_time": "2017-07-11T11:10:22.014932"
    },
    "collapsed": true
   },
   "outputs": [],
   "source": [
    "def reproduceStrPos( ns , maxHuecos ):\n",
    "    '''\n",
    "    ns=NumSemigroup([1])\n",
    "    print(StronglyPositive(ns))\n",
    "    ls=reproduceStrPos( ns , 10 )\n",
    "    for x in ls:\n",
    "        if x:\n",
    "            for y in x:\n",
    "                print(y.getMSG(),\";\", y.getFN(),\";\",StronglyPositive(y),end=' - ')\n",
    "            print()\n",
    "    ls\n",
    "    '''\n",
    "    maxFN=2*maxHuecos-1\n",
    "    listaHijos = [ [] for x in range(maxHuecos+1) ]\n",
    "    baux = ns.getFN()\n",
    "    if ns.getFN() == -1:\n",
    "        baux = 1\n",
    "    topeN = maxFN // baux\n",
    "    msgNS = ns.getMSG()\n",
    "    if len(msgNS)==1:\n",
    "        nI = 1\n",
    "    elif len(msgNS)==2:\n",
    "        nI = msgNS[0]\n",
    "    else:\n",
    "        gcdI = gcdL(list(msgNS))\n",
    "        gcdImenos1 = gcdL(list(msgNS[:-1]))\n",
    "        #print(\"--\",msgNS, msgNS[:-1], gcdI, gcdImenos1)\n",
    "        nI = gcdImenos1 // gcdI\n",
    "    #print( nI , topeN )\n",
    "    for n in range( 2 , topeN+1 ):\n",
    "        ultG = msgNS[-1] * n\n",
    "        primerGamma = nI * ultG + 1\n",
    "        aux = n*ns.getFN() + (n-1)*primerGamma\n",
    "        while aux <= maxFN:\n",
    "            if gcd(n , primerGamma) == 1:\n",
    "                sistGen = np.append( n*msgNS , primerGamma )\n",
    "                aux = n*ns.getFN() + (n-1)*primerGamma                \n",
    "                nsAux = NumSemigroup( sistGen , aux )\n",
    "                #print(ultG , primerGamma , aux, nsAux.getMSG() , nsAux.getFN() )\n",
    "                if aux <= maxFN:\n",
    "                    #print(aux,nsAux.getMSG(),nsAux.getFN())\n",
    "                    listaHijos[(aux+1)//2].append( nsAux )\n",
    "                #print(listaHijos)\n",
    "            primerGamma+=1\n",
    "            \n",
    "    return listaHijos"
   ]
  },
  {
   "cell_type": "code",
   "execution_count": null,
   "metadata": {
    "collapsed": true
   },
   "outputs": [],
   "source": [
    "def listStronglyPositive(topFN):\n",
    "    '''\n",
    "    ls=listaStronglyPositive(100)\n",
    "    '''\n",
    "    maxHuecos=(topFN+1)//2\n",
    "    listaSemigrupos=[[] for x in range(maxHuecos+1)]\n",
    "    listaSemigrupos[0]=[NumSemigroup([1])]\n",
    "    for i in range(maxHuecos):\n",
    "        for sg in listaSemigrupos[i]:\n",
    "            laux=reproduceStrPos(sg , maxHuecos)\n",
    "            for i in range(len(laux)):\n",
    "                listaSemigrupos[i]=listaSemigrupos[i]+laux[i]\n",
    "    return listaSemigrupos"
   ]
  },
  {
   "cell_type": "markdown",
   "metadata": {},
   "source": [
    "# Class NumSemigroup"
   ]
  },
  {
   "cell_type": "code",
   "execution_count": 19,
   "metadata": {
    "ExecuteTime": {
     "end_time": "2017-07-11T11:05:23.895526",
     "start_time": "2017-07-11T11:05:23.596938"
    },
    "collapsed": true,
    "init_cell": true
   },
   "outputs": [],
   "source": [
    "class NumSemigroup:\n",
    "    '''\n",
    "    Class for representing a numerical semigroup:\n",
    "    ns=NumSemigroup([5,11,13,16])\n",
    "    '''\n",
    "    def __init__(self,lgen,fn=None):\n",
    "        self.lgen=array(lgen,dtype=np.int)\n",
    "        self.fn=fn\n",
    "        self.multiplicity=np.min([x for x in lgen if x!=0])\n",
    "        if fn==None:\n",
    "            self.FNdone=False\n",
    "        else:\n",
    "            self.FNdone=True\n",
    "        self.MSGdone=False\n",
    "        self.lAperydone=False\n",
    "        self.lApery=array([],dtype=np.int)\n",
    "    def __str__(self):\n",
    "        return('{ '+str(self.getMSG()).replace('[','<').replace(']','>')+' '+str(self.getFN())+' }')\n",
    "    def printAttrs(self):\n",
    "        print('lgen',self.lgen,'fn',self.fn,'mult',self.multiplicity,'FNdone',self.FNdone,'MSGdone',\n",
    "              self.MSGdone,'lAperydone',self.lAperydone,'Apery',self.lApery)\n",
    "    def belongs(self,x):\n",
    "        '''\n",
    "        Check if the element x belong to the numerical semigroup:\n",
    "        >>> ns.belongs(17)\n",
    "        '''\n",
    "        if x==0:\n",
    "            return True\n",
    "        if 0<x and x<self.multiplicity:\n",
    "            return False\n",
    "        if len(self.lgen[self.lgen==x])>0:\n",
    "            return True\n",
    "        if self.FNdone and x>self.fn:\n",
    "            return True\n",
    "        self.getMSG()\n",
    "        expression=FrobeniusSolve(self.msg,x)\n",
    "        if len(expression)>0:\n",
    "            return True\n",
    "        else:\n",
    "            return False\n",
    "    def getExpression(self,x):\n",
    "        '''\n",
    "        Computes an factorization of x. \n",
    "        >>> ns.getExpression(23)\n",
    "        '''\n",
    "        self.getMSG()\n",
    "        return FrobeniusSolve(self.msg,x)\n",
    "        \n",
    "    def getMSG(self):\n",
    "        '''\n",
    "        Computes a minimal system of generator of the numerical semigroup.\n",
    "        >>> ns.getMSG()\n",
    "        '''\n",
    "        if not self.MSGdone:\n",
    "            self.msg=smgS(self.lgen)\n",
    "            self.MSGdone=True\n",
    "        return self.msg\n",
    "    def getApery(self):\n",
    "        '''\n",
    "        Computes the Apéry set of the numerical semigroup.\n",
    "        >>> ns.getApery()\n",
    "        '''\n",
    "        if not self.lAperydone:\n",
    "            if self.multiplicity==1:\n",
    "                self.fn=-1\n",
    "                self.lApery=array([0],dtype=np.int)\n",
    "                #return self.lApery\n",
    "            else:\n",
    "                lApery=array([x for x in range(self.multiplicity)],dtype=np.int)\n",
    "                self.fn=self.getMultiplicity()-1\n",
    "                for i in range(1,self.multiplicity):\n",
    "                    x=i\n",
    "                    while not self.belongs(x):\n",
    "                        x=x+self.multiplicity\n",
    "                    lApery[i]=x\n",
    "                self.lApery=array(lApery,dtype=np.int)\n",
    "                self.lAperydone=True\n",
    "        return self.lApery\n",
    "    \n",
    "    def getFN(self):\n",
    "        '''\n",
    "        Computes the Frobenius number of the numerical semigroup.\n",
    "        >>> ns.getFN()\n",
    "        '''\n",
    "        if not self.FNdone:\n",
    "            self.getApery()\n",
    "            self.fn=np.max(self.lApery)-self.multiplicity\n",
    "        return self.fn\n",
    "    \n",
    "    def getMultiplicity(self):\n",
    "        '''\n",
    "        Returns the multiplicity of the numerical semigroup.\n",
    "        >>> ns.getMultiplicity()\n",
    "        '''\n",
    "        return self.multiplicity\n",
    "    \n",
    "    def removeMinimalElement(self,minimalToRemove,IsTheNewFN=False):\n",
    "        '''\n",
    "        Returns the numerical semigroup obtained when removing a minimal element of the numerical semigroup.\n",
    "        >>> ns1=ns.removeMinimalElement(11)\n",
    "        '''\n",
    "        smg=self.getMSG()\n",
    "        if len(smg[smg==minimalToRemove])>0:\n",
    "            sgAux=quitaElementoMinimal(smg,minimalToRemove)\n",
    "            #print('sgAux',sgAux)\n",
    "            if IsTheNewFN:\n",
    "                return NumSemigroup(sgAux,minimalToRemove)\n",
    "            else:\n",
    "                return NumSemigroup(sgAux)\n",
    "        else:\n",
    "            return None\n",
    "    \n",
    "    def children(self):\n",
    "        '''\n",
    "        Returns the list formed by the numerical semigroups obtained after removing the minimal generators greater than the Frobenius number.\n",
    "        >>> ns.children()\n",
    "        '''\n",
    "        self.getFN()\n",
    "        n=len(self.getMSG())\n",
    "        listOfChildren=[]\n",
    "        for i in range(n):\n",
    "            if self.fn < self.msg[i]:\n",
    "                listOfChildren.append(self.removeMinimalElement(self.msg[i],True))\n",
    "        return listOfChildren\n",
    "        \n",
    "    def __eq__(self,sn1):\n",
    "        '''\n",
    "        Checks if two numerical semigroups are equal.\n",
    "        >>> ns1=NumSemigroup([5,11,16])\n",
    "        >>> ns2=NumSemigroup([5,11])\n",
    "        >>> ns1==ns2\n",
    "        '''\n",
    "        return np.all(self.getMSG()==sn1.getMSG())\n",
    "    def lessThanSemigroupOrder(self,x,y):\n",
    "        '''\n",
    "        Checks if there exists z in the numerical semigroup such that x+z is equal to y.\n",
    "        >>> ns.lessThanSemigroupOrder(21,33)\n",
    "        '''\n",
    "        if self.belongs(y-x):\n",
    "            return True\n",
    "        return False\n",
    "    def getGaps(self):\n",
    "        '''\n",
    "        Returns the set of positive integer not belonging to the numerical semigroup.\n",
    "        >>> ns.getGaps()\n",
    "        '''\n",
    "        smg=self.getMSG()\n",
    "        laux=self.getApery()\n",
    "        m=smg[0]\n",
    "        lgaps=[]\n",
    "        for x in laux:\n",
    "            x=x-m\n",
    "            while x>0:\n",
    "                lgaps.append(x)\n",
    "                x=x-m\n",
    "        return np.sort(lgaps)\n",
    "    def isPFN(self,x):\n",
    "        '''\n",
    "        Checks if x is a pseudo-Frobenius number.\n",
    "        >>> ns.isPFN(11)\n",
    "        '''\n",
    "        if self.belongs(x):\n",
    "            return False\n",
    "        else:\n",
    "            smg=self.getMSG()\n",
    "            for y in smg:\n",
    "                if not self.belongs(x+y):\n",
    "                    return False\n",
    "            return True\n",
    "    def getPFN(self):\n",
    "        '''\n",
    "        Returns the list of pseudo-Frobenius numbers.\n",
    "        >>> ns.getPFN()\n",
    "        '''\n",
    "        lgaps=self.getGaps()\n",
    "        lPFN=[]\n",
    "        smg=self.getMSG()\n",
    "        for x in lgaps:\n",
    "            t=True\n",
    "            for y in smg:\n",
    "                if not self.belongs(x+y):\n",
    "                    t=False\n",
    "                    break\n",
    "            if t:\n",
    "                lPFN.append(x)\n",
    "        return lPFN\n",
    "    def isSymmetric(self):\n",
    "        '''\n",
    "        Checks if the numerical semigroup is symmetric.\n",
    "        >>> ns.isSymmetric()\n",
    "        '''\n",
    "        fn=self.getFN()\n",
    "        if fn % 2 == 0:\n",
    "            return False\n",
    "        lgaps=self.getGaps()\n",
    "        nGaps=len(lgaps)\n",
    "        if (fn+1)//2 == nGaps:\n",
    "            return True\n",
    "        return False\n",
    "    def isContainedIn(self,sn):\n",
    "        '''\n",
    "        Checks if the numrical semigroup is contained in another numerical semigroup.\n",
    "        >>> ns1=NumSemigroup([2,5])\n",
    "        >>> ns.isContainedIn(ns1)\n",
    "        '''\n",
    "        fn=self.getFN()\n",
    "        fnsn=sn.getFN()\n",
    "        if fnsn==-1:\n",
    "            return True\n",
    "        if fn==-1 and fnsn>-1:\n",
    "            return False\n",
    "        smg=self.getMSG()\n",
    "        for x in smg:\n",
    "            if not sn.belongs(x):\n",
    "                return False\n",
    "        return True\n",
    "    def intersection(self, sn1):\n",
    "        '''\n",
    "        Returns the numerical semigroup intersection of the numerical semigroup with another numerical semigroup.\n",
    "        >>> ns1=NumSemigroup([4,7,9])\n",
    "        >>> ns2=ns.intersection(ns1)\n",
    "        >>> print(ns2)\n",
    "        '''\n",
    "        fn1=self.getFN()\n",
    "        fn2=sn1.getFN()\n",
    "        if fn1==-1:\n",
    "            return sn1\n",
    "        if fn2==-1:\n",
    "            return self\n",
    "        fn=max([fn1,fn2])\n",
    "        laux=[]\n",
    "        for x in range(1,fn):\n",
    "            #print(laux)\n",
    "            if self.belongs(x) and sn1.belongs(x):\n",
    "                laux.append(x)\n",
    "        #print('laux:',laux)\n",
    "        m=laux[0]\n",
    "        #print(m)\n",
    "        laux=laux+[fn+i+1 for i in range(m)]\n",
    "        #print(laux)\n",
    "        sn=NumSemigroup(laux,fn)\n",
    "        return sn\n",
    "    def sum(self, sn1):\n",
    "        '''\n",
    "        Computes the sum of the numerical semigroup with another numerical semigroup.\n",
    "        >>> ns1=NumSemigroup([4,7,9])\n",
    "        >>> ns2=ns.sum(ns1)\n",
    "        >>> print(ns2)\n",
    "        '''\n",
    "        sgAux=np.concatenate((self.getMSG(),sn1.getMSG()))\n",
    "        sgAux=np.unique(sgAux)\n",
    "        return NumSemigroup(sgAux)\n",
    "    \n",
    "    def Z(self,x):\n",
    "        '''\n",
    "        Computes the set of factorization of x\n",
    "        >>> ns.Z(55)\n",
    "        '''\n",
    "        return array(FrobeniusSolve(self.getMSG(),x,onlyFirst=False), dtype=np.int)\n",
    "    def L(self,x):\n",
    "        '''\n",
    "        Computes the set of length of x\n",
    "        >>> ns.L(x)\n",
    "        '''\n",
    "        return np.unique(array([np.sum(x) for x in FrobeniusSolve(self.getMSG(),x,onlyFirst=False)]))\n",
    "    def getPresentation(self):\n",
    "        '''\n",
    "        Computes a presentation of the numerical semigroup.\n",
    "        >>> ns.getPresentation()\n",
    "        '''\n",
    "        return getPresentationOfNS(self)\n",
    "    def isStronglyPositive( self ):\n",
    "        '''\n",
    "        Checks if a numerical semigroup is Strongly Increasing\n",
    "        '''        \n",
    "        return StronglyPositive(self)\n"
   ]
  },
  {
   "cell_type": "markdown",
   "metadata": {},
   "source": [
    "# Examples"
   ]
  },
  {
   "cell_type": "code",
   "execution_count": 26,
   "metadata": {
    "ExecuteTime": {
     "end_time": "2017-07-07T09:24:15.836529Z",
     "start_time": "2017-07-07T09:24:15.806256Z"
    },
    "collapsed": true
   },
   "outputs": [],
   "source": [
    "#ns=NumSemigroup([3,5,7])\n",
    "#print( ns.getFN() )\n",
    "# l=ns.children()\n",
    "#print( ns.Z(17) )"
   ]
  },
  {
   "cell_type": "code",
   "execution_count": 27,
   "metadata": {
    "ExecuteTime": {
     "end_time": "2017-07-07T09:24:15.877150Z",
     "start_time": "2017-07-07T09:24:15.838532Z"
    },
    "collapsed": true
   },
   "outputs": [],
   "source": [
    "# len(l)"
   ]
  },
  {
   "cell_type": "code",
   "execution_count": 28,
   "metadata": {
    "ExecuteTime": {
     "end_time": "2017-07-07T09:24:15.912353Z",
     "start_time": "2017-07-07T09:24:15.881254Z"
    },
    "collapsed": true
   },
   "outputs": [],
   "source": [
    "# print( NumSemigroup([3,5]).sum(NumSemigroup([3,7])) )\n",
    "#NumSemigroup([15,19,27]).L(200)\n",
    "\n",
    "\n",
    "# s=NumSemigroup([121,165,205])\n",
    "# x=7500\n",
    "# l=s.Z(x)\n",
    "# print(l)\n",
    "# [np.sum(x) for x in l]"
   ]
  },
  {
   "cell_type": "code",
   "execution_count": 29,
   "metadata": {
    "ExecuteTime": {
     "end_time": "2017-07-07T09:24:15.949313Z",
     "start_time": "2017-07-07T09:24:15.916286Z"
    },
    "collapsed": true
   },
   "outputs": [],
   "source": [
    "# s=NumSemigroup([55,71,99])\n",
    "# x=2000\n",
    "# l=s.Z(x)\n",
    "# print(l)\n",
    "# [np.sum(x) for x in l]"
   ]
  },
  {
   "cell_type": "code",
   "execution_count": 30,
   "metadata": {
    "ExecuteTime": {
     "end_time": "2017-07-07T09:24:16.026748Z",
     "start_time": "2017-07-07T09:24:16.017237Z"
    },
    "collapsed": true
   },
   "outputs": [],
   "source": [
    "# s.getFN()"
   ]
  },
  {
   "cell_type": "code",
   "execution_count": 31,
   "metadata": {
    "ExecuteTime": {
     "end_time": "2017-07-07T09:24:16.266649Z",
     "start_time": "2017-07-07T09:24:16.257748Z"
    },
    "collapsed": true
   },
   "outputs": [],
   "source": [
    "#s1=NumSemigroup([2,5])\n",
    "#s2=NumSemigroup([2,3])\n",
    "#s2.intersection(s1)"
   ]
  },
  {
   "cell_type": "code",
   "execution_count": 32,
   "metadata": {
    "ExecuteTime": {
     "end_time": "2017-07-07T09:24:16.503812Z",
     "start_time": "2017-07-07T09:24:16.495858Z"
    },
    "collapsed": true
   },
   "outputs": [],
   "source": [
    "# ns=NumSemigroup([4,6,13])\n",
    "# print(ns.getGaps(), ns.isSymmetric())\n",
    "# ns.getPFN()"
   ]
  },
  {
   "cell_type": "code",
   "execution_count": 33,
   "metadata": {
    "ExecuteTime": {
     "end_time": "2017-07-07T09:24:16.685476Z",
     "start_time": "2017-07-07T09:24:16.681321Z"
    },
    "collapsed": true
   },
   "outputs": [],
   "source": [
    "# sn1=NumSemigroup([2,3])\n",
    "# sn2=NumSemigroup([1])\n",
    "# sn=sn2.intersection(sn1)\n",
    "# print(sn)"
   ]
  },
  {
   "cell_type": "code",
   "execution_count": 14,
   "metadata": {
    "ExecuteTime": {
     "end_time": "2017-07-11T10:45:40.183954",
     "start_time": "2017-07-11T10:45:40.180826"
    }
   },
   "outputs": [],
   "source": [
    "#s1=NumSemigroup([2,3,4])\n",
    "#s1.getPresentation()\n",
    "# s2=NumSemigroup([2,7])\n",
    "# s1!=s2"
   ]
  },
  {
   "cell_type": "markdown",
   "metadata": {},
   "source": [
    "# Functions: `IterativeInorder`, `showListOfSemigroups`"
   ]
  },
  {
   "cell_type": "code",
   "execution_count": 8,
   "metadata": {
    "ExecuteTime": {
     "end_time": "2017-07-11T10:44:51.678089",
     "start_time": "2017-07-11T10:44:51.632905"
    },
    "collapsed": true,
    "init_cell": true
   },
   "outputs": [],
   "source": [
    "def IterativeInorder(nivel,fProp,todos):\n",
    "    '''\n",
    "    This functions computes the numerical semigroups verifying the function fProp with least than or equal number of gaps to nivel.\n",
    "    >>> lls=IterativeInorder(10,lambda x: True,True)\n",
    "    >>> print([len(x) for x in lls])\n",
    "    >>> showListOfSemigroups(lls)\n",
    "    '''\n",
    "    sgActual=NumSemigroup([1],-1)\n",
    "    fase=0\n",
    "    listaEncima=[]\n",
    "    nfAnterior=-2\n",
    "    listaFProp=[]\n",
    "    contador=[0 for i in range(nivel+1)]\n",
    "    lfProp=[[] for i in range(nivel+1)]\n",
    "    #print(len(lfProp))\n",
    "    while( not(  sgActual.getFN()==-1 and ( nfAnterior==1 ) ) ):\n",
    "        #print(sgActual, fase, nivel, lfProp)\n",
    "        if nfAnterior < sgActual.getFN():\n",
    "            if fase == nivel:\n",
    "                if fProp(sgActual):\n",
    "                    contador[fase]=contador[fase]+1\n",
    "                    #if almacenar:\n",
    "                    #    listaFProp.append(sgActual)\n",
    "                    if todos:\n",
    "                        #print('fase-1=',fase-1)\n",
    "                        lfProp[fase].append(sgActual)\n",
    "                nfAnterior=sgActual.getFN()\n",
    "                sgActual=listaEncima[-1]\n",
    "                listaEncima=listaEncima[0:-1]\n",
    "                fase=fase-1\n",
    "                continue\n",
    "            if fase < nivel:\n",
    "                if fProp(sgActual):\n",
    "                    if todos:\n",
    "                        lfProp[fase].append(sgActual)\n",
    "                    contador[fase]=contador[fase]+1\n",
    "                generadoresBuenos=[x for x in sgActual.getMSG() if x > sgActual.getFN() ]\n",
    "                if len(generadoresBuenos)==0:\n",
    "                    nfAnterior=sgActual.getFN()\n",
    "                    sgActual=listaEncima[-1]\n",
    "                    listaEncima=listaEncima[0:-1]\n",
    "                    fase=fase-1\n",
    "                    continue\n",
    "                else:\n",
    "                    nfPrimerHijo=np.min(generadoresBuenos)\n",
    "                    sgPrimerHijo=sgActual.removeMinimalElement(nfPrimerHijo,True)\n",
    "                    nfAnterior=sgActual.getFN()\n",
    "                    listaEncima.append(sgActual)\n",
    "                    sgActual=sgPrimerHijo\n",
    "                    fase=fase+1\n",
    "                    continue\n",
    "        if sgActual.getFN() < nfAnterior:\n",
    "            generadoresBuenos = [ x for x in sgActual.getMSG() if x > nfAnterior ]\n",
    "            if len(generadoresBuenos) == 0:\n",
    "                nfAnterior=sgActual.getFN()\n",
    "                sgActual=listaEncima[-1]\n",
    "                listaEncima=listaEncima[0:-1]\n",
    "                fase=fase-1\n",
    "                continue\n",
    "            else:\n",
    "                nfHijo=np.min(generadoresBuenos)\n",
    "                sgHijo=sgActual.removeMinimalElement(nfHijo,True)\n",
    "                nfAnterior=sgActual.getFN()\n",
    "                listaEncima.append(sgActual)\n",
    "                sgActual=sgHijo\n",
    "                fase=fase+1\n",
    "                continue\n",
    "    if todos:\n",
    "        return lfProp\n",
    "    #if almacenar:\n",
    "    #    return (contador,listaFProp)\n",
    "    else:\n",
    "        return contador"
   ]
  },
  {
   "cell_type": "code",
   "execution_count": 36,
   "metadata": {
    "ExecuteTime": {
     "end_time": "2017-07-07T09:24:18.761329Z",
     "start_time": "2017-07-07T09:24:18.756994Z"
    },
    "collapsed": true
   },
   "outputs": [],
   "source": [
    "# lls=IterativeInOrden(10,lambda x: True,True)\n",
    "# print([len(x) for x in lls])"
   ]
  },
  {
   "cell_type": "code",
   "execution_count": 9,
   "metadata": {
    "ExecuteTime": {
     "end_time": "2017-07-11T10:44:51.733387",
     "start_time": "2017-07-11T10:44:51.729403"
    },
    "collapsed": true,
    "init_cell": true
   },
   "outputs": [],
   "source": [
    "def showListOfSemigroups(ls,new='* ',endline='\\n'):\n",
    "    '''\n",
    "    Function to print the numerical semigroups of a list of numerical semigroups.\n",
    "    >>> lls=IterativeInorder(10,lambda x: True,True)\n",
    "    >>> print([len(x) for x in lls])\n",
    "    >>> showListOfSemigroups(lls)\n",
    "    '''\n",
    "    for x in ls:\n",
    "        if x:\n",
    "            cad=''\n",
    "            for y in x:\n",
    "                cad=cad + str(y) + ', '\n",
    "            cad=cad[:-2]\n",
    "            print(new + cad, end=endline)"
   ]
  },
  {
   "cell_type": "code",
   "execution_count": 38,
   "metadata": {
    "ExecuteTime": {
     "end_time": "2017-07-07T09:24:19.867051Z",
     "start_time": "2017-07-07T09:24:19.862523Z"
    },
    "collapsed": true
   },
   "outputs": [],
   "source": [
    "# print( NumSemigroup([2,7]).sum(NumSemigroup([3,5,7])) )"
   ]
  },
  {
   "cell_type": "code",
   "execution_count": 39,
   "metadata": {
    "ExecuteTime": {
     "end_time": "2017-07-07T09:24:20.223337Z",
     "start_time": "2017-07-07T09:24:20.218388Z"
    },
    "collapsed": true,
    "scrolled": true
   },
   "outputs": [],
   "source": [
    "# showListOfSemigroups(lls)"
   ]
  },
  {
   "cell_type": "code",
   "execution_count": null,
   "metadata": {
    "collapsed": true
   },
   "outputs": [],
   "source": []
  }
 ],
 "metadata": {
  "celltoolbar": "Initialisation Cell",
  "kernelspec": {
   "display_name": "Python 3",
   "language": "python",
   "name": "python3"
  },
  "language_info": {
   "codemirror_mode": {
    "name": "ipython",
    "version": 3
   },
   "file_extension": ".py",
   "mimetype": "text/x-python",
   "name": "python",
   "nbconvert_exporter": "python",
   "pygments_lexer": "ipython3",
   "version": "3.5.4"
  },
  "latex_envs": {
   "bibliofile": "biblio.bib",
   "cite_by": "apalike",
   "current_citInitial": 1,
   "eqLabelWithNumbers": true,
   "eqNumInitial": 0
  },
  "nav_menu": {},
  "toc": {
   "nav_menu": {
    "height": "171px",
    "width": "252px"
   },
   "navigate_menu": true,
   "number_sections": true,
   "sideBar": true,
   "threshold": 6,
   "toc_cell": false,
   "toc_section_display": "block",
   "toc_window_display": false
  }
 },
 "nbformat": 4,
 "nbformat_minor": 1
}

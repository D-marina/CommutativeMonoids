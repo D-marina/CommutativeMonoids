{
 "cells": [
  {
   "cell_type": "code",
   "execution_count": 1,
   "metadata": {
    "ExecuteTime": {
     "end_time": "2019-03-25T11:42:57.279435Z",
     "start_time": "2019-03-25T11:42:56.762240Z"
    }
   },
   "outputs": [],
   "source": [
    "import numpy as np\n",
    "from numpy import *\n",
    "import sympy\n",
    "from sympy import *"
   ]
  },
  {
   "cell_type": "code",
   "execution_count": 2,
   "metadata": {
    "ExecuteTime": {
     "end_time": "2019-03-25T11:42:58.364077Z",
     "start_time": "2019-03-25T11:42:57.861617Z"
    }
   },
   "outputs": [],
   "source": [
    "import integerSmithNormalFormAndApplications\n",
    "from integerSmithNormalFormAndApplications import *"
   ]
  },
  {
   "cell_type": "code",
   "execution_count": 3,
   "metadata": {
    "ExecuteTime": {
     "end_time": "2019-03-25T11:42:58.836829Z",
     "start_time": "2019-03-25T11:42:58.826398Z"
    }
   },
   "outputs": [],
   "source": [
    "import auxiliars\n",
    "from auxiliars import *"
   ]
  },
  {
   "cell_type": "code",
   "execution_count": 4,
   "metadata": {
    "ExecuteTime": {
     "end_time": "2019-03-25T11:42:59.691186Z",
     "start_time": "2019-03-25T11:42:59.652025Z"
    }
   },
   "outputs": [],
   "source": [
    "class NumericalSemigroup:\n",
    "    '''\n",
    "    This class contains all methods and properties needs\n",
    "    for working with a Numerical Semigroup.\n",
    "    \n",
    "    In order to use it you have to introduce the generators. For example S = NumericalSemigroup([3,4,5]).\n",
    "    \n",
    "    Functions:\n",
    "        * FrobeniusNumber() returns the frobenius number of S.\n",
    "        * Factorizations(x) returns the factorizations of x in S.\n",
    "        * Belongs(x) returns True or False if x is or is not in S.\n",
    "        * ComputeNS() returns a bound for the periodicity of Delta(S)\n",
    "    '''\n",
    "    \n",
    "    def __init__(self,generators):\n",
    "        self.generators = smgS(generators)\n",
    "        self.multiplicity = self.generators[0]\n",
    "        self.eDimension = len(self.generators)\n",
    "        \n",
    "    # Frobenius Number\n",
    "    fNumber = 0\n",
    "    # Minimum value of Delta(S)\n",
    "    d = 0\n",
    "    # Bound for Delta(S) periodic\n",
    "    NS = 0\n",
    "    # Bound for Delta_nu periodic\n",
    "    N0 = 0\n",
    "    \n",
    "    # This function gives us the Frobenius Number of a semigroup\n",
    "    def FrobeniusNumber(self):\n",
    "        if self.fNumber != 0:\n",
    "            return self.fNumber\n",
    "        self.fNumber = FrobeniusNumber(self.generators,self.eDimension)\n",
    "        return self.fNumber\n",
    "    \n",
    "    # This function returns the factorizations of an element\n",
    "    def Factorizations(self,x):\n",
    "        return FSolve(self.generators,x,self.eDimension,False)\n",
    "    \n",
    "    # This function check if a number is in the semigroup\n",
    "    def Belongs(self,x):\n",
    "        if self.fNumber == 0:\n",
    "            FrobeniusNumber(self.generators,self.eDimension)\n",
    "        return Belong(self.generators,x,self.multiplicity,self.fNumber)\n",
    "    \n",
    "    # This function compute the minimum of Delta(S)\n",
    "    def ComputeMinimumDeltaS(self):\n",
    "        if self.d != 0:\n",
    "            return self.d\n",
    "        self.d = ComputeD(self.generators,self.eDimension)\n",
    "        return self.d\n",
    "        \n",
    "    def ComputeNS(self):\n",
    "        if self.NS != 0:\n",
    "            return self.NS\n",
    "        self.NS = ComputeNs(self.generators,self.eDimension)\n",
    "        return self.NS\n",
    "    \n",
    "    def ComputeN0(self):\n",
    "        if self.N0 != 0:\n",
    "            return self.N0\n",
    "        if self.NS == 0:\n",
    "            self.NS = ComputeNs(self.generators,self.eDimension)\n",
    "        self.N0 = ComputeN0(self.generators,self.eDimension,self.NS)\n",
    "        return self.N0\n",
    "    \n",
    "    def DeltaNu(self,n):\n",
    "        if self.NS == 0:\n",
    "            self.NS = ComputeNs(self.generators,self.eDimension)\n",
    "        if self.N0 == 0:\n",
    "            self.N0 = ComputeN0(self.generators,self.eDimension,self.NS)\n",
    "        return ComputeDeltaNu(self.generators,n,self.eDimension,self.NS,self.N0)\n",
    "        \n",
    "    def W(self,n):\n",
    "        smg=self.generators\n",
    "        dim=self.eDimension\n",
    "        laux=list(set( [ sum([x[i]*smg[i] for i in range(dim) ]) for x in f1(dim,n) ]))\n",
    "        laux.sort()\n",
    "        return laux\n",
    "    \n",
    "    def L(self,x):\n",
    "        l1=self.Factorizations(x)\n",
    "        l2=[sum(y) for y in l1]\n",
    "        l2.sort()\n",
    "        return l2\n",
    "    \n",
    "    def nu(self,n,debug=False):\n",
    "        waux=self.W(n)\n",
    "        if debug:\n",
    "            print(\"W of \",n,\":\",waux)\n",
    "        longAux=list(set.union( *[set(self.L(x)) for x in waux] ))\n",
    "        longAux.sort()\n",
    "        if debug:\n",
    "            print([self.L(x) for x in waux])\n",
    "        return (longAux)\n",
    "    def SminusIthMinimalGenerator(self,i):\n",
    "        '''\n",
    "        Return the numerical semigroup S minus its ith minimal generator.\n",
    "        '''\n",
    "        return None\n",
    "    def Children(self):\n",
    "        '''\n",
    "        This function returns the children of a numerial semigroup.\n",
    "        If S is a numerical semigroup, its children are the numerical semigroups S' verifying that S\\S' \n",
    "        has cardinality 1 and the element in this set is a minimal generator of S greater than the Frobenius \n",
    "        number of S.\n",
    "        '''\n",
    "        return []"
   ]
  },
  {
   "cell_type": "code",
   "execution_count": 5,
   "metadata": {
    "ExecuteTime": {
     "end_time": "2019-03-25T11:43:00.506350Z",
     "start_time": "2019-03-25T11:43:00.491328Z"
    }
   },
   "outputs": [],
   "source": [
    "ns = NumericalSemigroup([5,7])"
   ]
  },
  {
   "cell_type": "code",
   "execution_count": 6,
   "metadata": {
    "ExecuteTime": {
     "end_time": "2019-03-25T11:43:01.163273Z",
     "start_time": "2019-03-25T11:43:01.151079Z"
    }
   },
   "outputs": [
    {
     "data": {
      "text/latex": [
       "$$0$$"
      ],
      "text/plain": [
       "0"
      ]
     },
     "execution_count": 6,
     "metadata": {},
     "output_type": "execute_result"
    }
   ],
   "source": [
    "ns.NS"
   ]
  },
  {
   "cell_type": "code",
   "execution_count": 7,
   "metadata": {
    "ExecuteTime": {
     "end_time": "2019-03-25T11:43:05.094444Z",
     "start_time": "2019-03-25T11:43:05.087286Z"
    }
   },
   "outputs": [
    {
     "data": {
      "text/plain": [
       "70"
      ]
     },
     "execution_count": 7,
     "metadata": {},
     "output_type": "execute_result"
    }
   ],
   "source": [
    "ns.ComputeNS()"
   ]
  },
  {
   "cell_type": "code",
   "execution_count": 8,
   "metadata": {
    "ExecuteTime": {
     "end_time": "2019-03-25T11:45:12.823243Z",
     "start_time": "2019-03-25T11:45:12.814473Z"
    }
   },
   "outputs": [
    {
     "data": {
      "text/plain": [
       "2"
      ]
     },
     "execution_count": 8,
     "metadata": {},
     "output_type": "execute_result"
    }
   ],
   "source": [
    "ns.ComputeMinimumDeltaS()"
   ]
  },
  {
   "cell_type": "code",
   "execution_count": null,
   "metadata": {
    "ExecuteTime": {
     "end_time": "2019-03-20T00:00:34.514116Z",
     "start_time": "2019-03-20T00:00:34.510850Z"
    }
   },
   "outputs": [],
   "source": [
    "ns = NumericalSemigroup([6,12,15])"
   ]
  },
  {
   "cell_type": "code",
   "execution_count": null,
   "metadata": {
    "ExecuteTime": {
     "end_time": "2019-03-20T00:06:16.926096Z",
     "start_time": "2019-03-20T00:06:16.911284Z"
    }
   },
   "outputs": [],
   "source": [
    "#set.union(*[set(ns.L(x)) for x in ns.W(10)])"
   ]
  },
  {
   "cell_type": "code",
   "execution_count": null,
   "metadata": {
    "ExecuteTime": {
     "end_time": "2019-03-20T00:06:28.677292Z",
     "start_time": "2019-03-20T00:06:28.662057Z"
    }
   },
   "outputs": [],
   "source": [
    "#ns.nu(10)"
   ]
  },
  {
   "cell_type": "code",
   "execution_count": null,
   "metadata": {
    "ExecuteTime": {
     "end_time": "2019-03-19T11:33:30.836969Z",
     "start_time": "2019-03-19T11:33:30.831628Z"
    }
   },
   "outputs": [],
   "source": [
    "#ns.ComputeNS()"
   ]
  },
  {
   "cell_type": "code",
   "execution_count": null,
   "metadata": {
    "ExecuteTime": {
     "end_time": "2019-03-19T11:33:31.199345Z",
     "start_time": "2019-03-19T11:33:31.195637Z"
    }
   },
   "outputs": [],
   "source": [
    "#ns.ComputeN0()"
   ]
  },
  {
   "cell_type": "code",
   "execution_count": null,
   "metadata": {
    "ExecuteTime": {
     "end_time": "2019-03-19T11:33:50.822781Z",
     "start_time": "2019-03-19T11:33:50.810147Z"
    }
   },
   "outputs": [],
   "source": [
    "#ns.DeltaNu(70)"
   ]
  },
  {
   "cell_type": "code",
   "execution_count": null,
   "metadata": {
    "ExecuteTime": {
     "end_time": "2019-03-19T10:55:42.816214Z",
     "start_time": "2019-03-19T10:55:42.805473Z"
    }
   },
   "outputs": [],
   "source": [
    "#ns.FrobeniusNumber()"
   ]
  },
  {
   "cell_type": "code",
   "execution_count": null,
   "metadata": {
    "ExecuteTime": {
     "end_time": "2019-03-18T11:56:35.529991Z",
     "start_time": "2019-03-18T11:56:35.526025Z"
    }
   },
   "outputs": [],
   "source": [
    "#ns.ComputeN0()"
   ]
  },
  {
   "cell_type": "code",
   "execution_count": null,
   "metadata": {
    "ExecuteTime": {
     "end_time": "2019-03-19T11:03:34.957950Z",
     "start_time": "2019-03-19T11:03:34.943772Z"
    }
   },
   "outputs": [],
   "source": [
    "#ns.Factorizations(30)"
   ]
  },
  {
   "cell_type": "code",
   "execution_count": null,
   "metadata": {
    "ExecuteTime": {
     "end_time": "2019-03-18T11:28:36.366165Z",
     "start_time": "2019-03-18T11:28:36.360666Z"
    }
   },
   "outputs": [],
   "source": [
    "#ns.Belongs(4)"
   ]
  }
 ],
 "metadata": {
  "kernelspec": {
   "display_name": "Python 3",
   "language": "python",
   "name": "python3"
  },
  "language_info": {
   "codemirror_mode": {
    "name": "ipython",
    "version": 3
   },
   "file_extension": ".py",
   "mimetype": "text/x-python",
   "name": "python",
   "nbconvert_exporter": "python",
   "pygments_lexer": "ipython3",
   "version": "3.6.7"
  }
 },
 "nbformat": 4,
 "nbformat_minor": 2
}

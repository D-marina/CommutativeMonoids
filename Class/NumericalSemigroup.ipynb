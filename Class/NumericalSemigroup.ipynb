{
 "cells": [
  {
   "cell_type": "code",
   "execution_count": 1,
   "metadata": {},
   "outputs": [],
   "source": [
    "import numpy as np\n",
    "from numpy import *\n",
    "import sympy\n",
    "from sympy import *"
   ]
  },
  {
   "cell_type": "code",
   "execution_count": 2,
   "metadata": {},
   "outputs": [],
   "source": [
    "import auxiliars\n",
    "from auxiliars import *"
   ]
  },
  {
   "cell_type": "code",
   "execution_count": 3,
   "metadata": {},
   "outputs": [],
   "source": [
    "class NumericalSemigroup:\n",
    "    '''\n",
    "    This class contains all methods and properties needs\n",
    "    for working with a Numerical Semigroup.\n",
    "    \n",
    "    In order to use it you have to introduce the generators. For example S = NumericalSemigroup([3,4,5]).\n",
    "    \n",
    "    Functions:\n",
    "        * FrobeniusNumber() returns the frobenius number of S.\n",
    "        * Factorizations(x) returns the factorizations of x in S.\n",
    "        * Belongs(x) returns True or False if x is or is not in S.\n",
    "        * ComputeNS() returns a bound for the periodicity of Delta(S)\n",
    "    '''\n",
    "    \n",
    "    def __init__(self,generators):\n",
    "        self.generators = generators\n",
    "        self.smgS()\n",
    "        self.multiplicity = generators[0]\n",
    "        self.eDimension = len(generators)\n",
    "        \n",
    "    # Frobenius Number\n",
    "    fNumber = 0\n",
    "    # Bound for Delta(S) periodic\n",
    "    NS = 0\n",
    "    \n",
    "    # This function compute a minial system of generators.\n",
    "    def smgS(self):\n",
    "        smgS=array([],dtype=np.int)\n",
    "        self.generators.sort()\n",
    "        #print(sgS1)\n",
    "        sgS=np.unique(self.generators)\n",
    "        #print(sgS)\n",
    "        if len(sgS)==1:\n",
    "            return sgS\n",
    "        smgS=np.append(smgS,sgS[0])\n",
    "        #print(sgS,smgS)\n",
    "        for i in range(1,len(sgS)):\n",
    "            if sgS[i] % smgS[0] != 0:\n",
    "                smgS=np.append(smgS,sgS[i])\n",
    "                break\n",
    "        #print(i,sgS,smgS)\n",
    "        for j in range(i+1,len(sgS)):\n",
    "            if len(FSolve(smgS,sgS[j]))==0:\n",
    "                smgS=np.append(smgS,sgS[j])\n",
    "        self.generators = list(smgS)\n",
    "    \n",
    "    # This function gives us the Frobenius Number of a semigroup\n",
    "    def FrobeniusNumber(self):\n",
    "        if self.fNumber != 0:\n",
    "            return self.fNumber\n",
    "        else:\n",
    "            lGen =[self.generators[i] for i in range(self.eDimension)]\n",
    "            h=t=a=self.generators[0]\n",
    "            b=lGen\n",
    "            Q = [0 for i in range(a)]\n",
    "            S = [a*lGen[-1] for i in range(a*lGen[-1])]\n",
    "            S[a-1]=0\n",
    "            P = [i for i in range(a)]\n",
    "            P[a-1] = len(lGen)\n",
    "            while(h != 0):\n",
    "                QHaux = Q[h-1]\n",
    "                v = h\n",
    "                Q[h-1] = 0\n",
    "                if(h == t):\n",
    "                    h = 0\n",
    "                else:\n",
    "                    h = QHaux\n",
    "                for j in range(1,P[v-1]+1):\n",
    "                    e = (b[j-1]+v) % a\n",
    "                    w = b[j-1] + S[v-1]\n",
    "                    if(w < S[e-1] and e != 0 ):\n",
    "                        S[e-1] = w\n",
    "                        P[e-1] = j\n",
    "                        if(Q[e-1] == 0):\n",
    "                            if(h == 0 ):\n",
    "                                h = e\n",
    "                                Q[e-1] = e\n",
    "                                t = e\n",
    "                            else:\n",
    "                                Q[t-1] = e\n",
    "                                Q[e-1] = e\n",
    "                                t = e\n",
    "            Saux = [S[i] for i in range(0,a)]\n",
    "            self.fNumber = max(Saux)-a\n",
    "            return(self.fNumber)\n",
    "\n",
    "    # This function gives us all the factorizations of a number in the semigroup\n",
    "    def Factorizations(self,x):\n",
    "        posAModificar=0\n",
    "        sumando=True\n",
    "        dim = self.eDimension\n",
    "        ceros=np.array([0 for i in range(dim)],dtype=np.int)\n",
    "        xaux=x\n",
    "        tuplaActual=array([0 for i in range(dim)],dtype=np.int)   \n",
    "        if x==0:\n",
    "            return tuplaActual\n",
    "        soluciones=[]\n",
    "        while( not( np.all(tuplaActual==ceros) and not(sumando) ) ):\n",
    "            if sumando:\n",
    "                if xaux>=self.generators[0]:\n",
    "                    tuplaActual[posAModificar]=tuplaActual[posAModificar]+1\n",
    "                    xaux=xaux-self.generators[posAModificar]\n",
    "                    if xaux==0:\n",
    "                        soluciones.append(array(tuplaActual))\n",
    "                        sumando=False\n",
    "                        continue\n",
    "                if xaux!=0 and xaux<self.generators[0]:\n",
    "                    sumando=False\n",
    "                    continue\n",
    "            else:\n",
    "                if ( posAModificar == dim-1 ) and ( tuplaActual[posAModificar] > 0 ):\n",
    "                    xaux=tuplaActual[posAModificar]*self.generators[posAModificar]+xaux\n",
    "                    tuplaActual[posAModificar]=0\n",
    "                    posAModificar=posAModificar-1\n",
    "                    continue\n",
    "                if ( posAModificar < dim-1 ) and ( tuplaActual[posAModificar] > 0 ):\n",
    "                    xaux=xaux+self.generators[posAModificar]\n",
    "                    tuplaActual[posAModificar]=tuplaActual[posAModificar]-1\n",
    "                    posAModificar=posAModificar+1\n",
    "                    sumando=True\n",
    "                    continue\n",
    "                if ( posAModificar < dim-1 ) and ( tuplaActual[posAModificar] == 0 ):\n",
    "                    posAModificar=np.max( [i for i in range(dim) if tuplaActual[i]!=0] )\n",
    "                    xaux=self.generators[posAModificar]+xaux\n",
    "                    tuplaActual[posAModificar]=tuplaActual[posAModificar]-1\n",
    "                    sumando=True\n",
    "                    posAModificar=posAModificar+1\n",
    "                    continue\n",
    "        return [list(x) for x in soluciones]\n",
    "    \n",
    "    # This function check if a number is in the semigroup\n",
    "    def Belongs(self,x):\n",
    "        if x==0:\n",
    "            return True\n",
    "        if 0<x and x<self.multiplicity:\n",
    "            return False\n",
    "        if x in self.generators:\n",
    "            return True\n",
    "        if self.fNumber != 0 and x>self.fNumber:\n",
    "            return True\n",
    "        expression = self.Factorizations(x)\n",
    "        if len(expression)>0:\n",
    "            return True\n",
    "        else:\n",
    "            return False\n",
    "        \n",
    "    def ComputeNS(self):\n",
    "        if self.NS != 0:\n",
    "            return NS\n",
    "        # Calculamos la dimension\n",
    "        a = self.generators\n",
    "        dimension = self.eDimension\n",
    "        # Creamos los simbolos ei\n",
    "        e = symbols('e0:%d'%dimension)\n",
    "        # Creamos el simbolo s\n",
    "        s = symbols('s')\n",
    "        # Calculamos d\n",
    "        m = equationsToGeneratorsHomogeneusCase(Matrix([self.generators]))\n",
    "        m1 = sympyMatrix2numpyArray(m)\n",
    "        l = numpy.sum(m1,axis=1) # Esto es lo que fallaba porque l es de la forma [a b c] y deberia ser [a, b, c] con las comas, asi que lo transformo aqui.\n",
    "        lista = []\n",
    "        for i in range(len(l)):\n",
    "            lista.append(l[i])\n",
    "        d = gcdL(lista)\n",
    "        # Calculo un vector con los mcd\n",
    "        mcd = []\n",
    "        for i in range(dimension-2):\n",
    "            mcd.append(gcdL([a[i+1]-a[-1],-a[0]+a[-1],a[0]-a[i+1]]))\n",
    "        # Calculo h\n",
    "        h=d/(a[-1]-a[0])*(a[-1]*e[0]-a[0]*e[-1])\n",
    "        # Calculo P2\n",
    "        P2=s*(a[1]-a[-1])/(a[1]*(a[0]-a[-1]))*e[0]+s*(a[0]-a[1])/(a[1]*(a[0]-a[-1]))*e[-1]\n",
    "        # Calculo Pp-1\n",
    "        Ppm1=s*(a[-2]-a[-1])/(a[-2]*(a[0]-a[-1]))*e[0]+s*(a[0]-a[-2])/(a[-2]*(a[0]-a[-1]))*e[-1]\n",
    "        # Calculo un vector con los qi\n",
    "        Q = []\n",
    "        for i in range(dimension-2):\n",
    "            Q.append(1/mcd[i]*((a[i+1]-a[-1])*e[0]+(a[-1]-a[0])*e[i+1]+(a[0]-a[i+1])*e[-1]))\n",
    "        # Calculo la suma de los Qi\n",
    "        sumaQi = 0\n",
    "        for i in range(dimension-2):\n",
    "            sumaQi += Q[i]\n",
    "        # Calculamos la última coordenada P2+h+∑qi\n",
    "        primeraEcuacion = P2+h+sumaQi\n",
    "        for i in range(dimension-1):\n",
    "            primeraEcuacion = primeraEcuacion.subs(e[i],0)\n",
    "        primeraEcuacion = primeraEcuacion.subs(e[dimension-1],1)\n",
    "        sol1 = sympy.solve(primeraEcuacion,s)\n",
    "        # Calculamos la primera coordenada de P(p−1)−h+∑qi\n",
    "        ultimaEcuacion = Ppm1-h+sumaQi\n",
    "        for i in range(1,dimension):\n",
    "            ultimaEcuacion = ultimaEcuacion.subs(e[i],0)\n",
    "        ultimaEcuacion = ultimaEcuacion.subs(e[0],1)\n",
    "        sol2 = sympy.solve(ultimaEcuacion,s)\n",
    "        self.NS = int(ceil(int(max(sol1,sol2)[0])))\n",
    "        return self.NS"
   ]
  },
  {
   "cell_type": "code",
   "execution_count": 4,
   "metadata": {},
   "outputs": [],
   "source": [
    "ns = NumericalSemigroup([5,6,7,8])"
   ]
  },
  {
   "cell_type": "code",
   "execution_count": 6,
   "metadata": {},
   "outputs": [
    {
     "data": {
      "text/plain": [
       "9"
      ]
     },
     "execution_count": 6,
     "metadata": {},
     "output_type": "execute_result"
    }
   ],
   "source": [
    "ns.FrobeniusNumber()"
   ]
  },
  {
   "cell_type": "code",
   "execution_count": 7,
   "metadata": {},
   "outputs": [
    {
     "data": {
      "text/plain": [
       "[[6, 0, 0, 0],\n",
       " [3, 0, 1, 1],\n",
       " [2, 2, 0, 1],\n",
       " [2, 1, 2, 0],\n",
       " [1, 3, 1, 0],\n",
       " [0, 5, 0, 0],\n",
       " [0, 1, 0, 3],\n",
       " [0, 0, 2, 2]]"
      ]
     },
     "execution_count": 7,
     "metadata": {},
     "output_type": "execute_result"
    }
   ],
   "source": [
    "ns.Factorizations(30)"
   ]
  },
  {
   "cell_type": "code",
   "execution_count": 9,
   "metadata": {},
   "outputs": [
    {
     "data": {
      "text/plain": [
       "False"
      ]
     },
     "execution_count": 9,
     "metadata": {},
     "output_type": "execute_result"
    }
   ],
   "source": [
    "ns.Belongs(9)"
   ]
  },
  {
   "cell_type": "code",
   "execution_count": 5,
   "metadata": {},
   "outputs": [
    {
     "data": {
      "text/latex": [
       "$$119$$"
      ],
      "text/plain": [
       "119"
      ]
     },
     "execution_count": 5,
     "metadata": {},
     "output_type": "execute_result"
    }
   ],
   "source": [
    "ns.ComputeNS()"
   ]
  }
 ],
 "metadata": {
  "kernelspec": {
   "display_name": "Python 3",
   "language": "python",
   "name": "python3"
  },
  "language_info": {
   "codemirror_mode": {
    "name": "ipython",
    "version": 3
   },
   "file_extension": ".py",
   "mimetype": "text/x-python",
   "name": "python",
   "nbconvert_exporter": "python",
   "pygments_lexer": "ipython3",
   "version": "3.5.3"
  }
 },
 "nbformat": 4,
 "nbformat_minor": 2
}

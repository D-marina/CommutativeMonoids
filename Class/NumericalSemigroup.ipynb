{
 "cells": [
  {
   "cell_type": "code",
   "execution_count": 22,
   "metadata": {
    "ExecuteTime": {
     "end_time": "2019-03-11T12:35:06.485116Z",
     "start_time": "2019-03-11T12:35:05.964306Z"
    },
    "collapsed": true
   },
   "outputs": [],
   "source": [
    "import numpy as np\n",
    "from numpy import *\n",
    "import sympy\n",
    "from sympy import *"
   ]
  },
  {
   "cell_type": "code",
   "execution_count": 23,
   "metadata": {
    "ExecuteTime": {
     "end_time": "2019-03-11T12:35:07.301573Z",
     "start_time": "2019-03-11T12:35:06.758657Z"
    },
    "collapsed": true
   },
   "outputs": [],
   "source": [
    "import auxiliars\n",
    "from auxiliars import *"
   ]
  },
  {
   "cell_type": "code",
   "execution_count": 24,
   "metadata": {
    "ExecuteTime": {
     "end_time": "2019-03-11T12:35:07.529299Z",
     "start_time": "2019-03-11T12:35:07.522162Z"
    },
    "collapsed": true
   },
   "outputs": [],
   "source": [
    "import auxiliars2\n",
    "from auxiliars2 import *"
   ]
  },
  {
   "cell_type": "code",
   "execution_count": 55,
   "metadata": {
    "ExecuteTime": {
     "end_time": "2019-03-11T12:35:46.000017Z",
     "start_time": "2019-03-11T12:35:45.934724Z"
    },
    "collapsed": true
   },
   "outputs": [],
   "source": [
    "class NumericalSemigroup:\n",
    "    '''\n",
    "    This class contains all methods and properties needs\n",
    "    for working with a Numerical Semigroup.\n",
    "    \n",
    "    In order to use it you have to introduce the generators. For example S = NumericalSemigroup([3,4,5]).\n",
    "    \n",
    "    Functions:\n",
    "        * FrobeniusNumber() returns the frobenius number of S.\n",
    "        * Factorizations(x) returns the factorizations of x in S.\n",
    "        * Belongs(x) returns True or False if x is or is not in S.\n",
    "        * ComputeNS() returns a bound for the periodicity of Delta(S)\n",
    "    '''\n",
    "    \n",
    "    def __init__(self,generators):\n",
    "        self.generators = generators\n",
    "        self.smgS()\n",
    "        self.multiplicity = generators[0]\n",
    "        self.eDimension = len(generators)\n",
    "        \n",
    "    # Frobenius Number\n",
    "    fNumber = 0\n",
    "    # Bound for Delta(S) periodic\n",
    "    NS = 0\n",
    "    \n",
    "    # This function compute a minial system of generators.\n",
    "    def smgS(self):\n",
    "        smgS=array([],dtype=np.int)\n",
    "        self.generators.sort()\n",
    "        #print(sgS1)\n",
    "        sgS=np.unique(self.generators)\n",
    "        #print(sgS)\n",
    "        if len(sgS)==1:\n",
    "            return sgS\n",
    "        smgS=np.append(smgS,sgS[0])\n",
    "        #print(sgS,smgS)\n",
    "        for i in range(1,len(sgS)):\n",
    "            if sgS[i] % smgS[0] != 0:\n",
    "                smgS=np.append(smgS,sgS[i])\n",
    "                break\n",
    "        #print(i,sgS,smgS)\n",
    "        for j in range(i+1,len(sgS)):\n",
    "            if len(FSolve(smgS,sgS[j]))==0:\n",
    "                smgS=np.append(smgS,sgS[j])\n",
    "        self.generators = list(smgS)\n",
    "    \n",
    "    # This function gives us the Frobenius Number of a semigroup\n",
    "    def FrobeniusNumber(self):\n",
    "        if self.fNumber != 0:\n",
    "            return fNumber\n",
    "        else:\n",
    "            self.fNumber = FrobeniusNumber(self.generators,self.eDimension)\n",
    "        return self.fNumber\n",
    "    \n",
    "    def Factorizations(self,x):\n",
    "        posAModificar=0\n",
    "        sumando=True\n",
    "        dim = self.eDimension\n",
    "        ceros=np.array([0 for i in range(dim)],dtype=np.int)\n",
    "        xaux=x\n",
    "        tuplaActual=array([0 for i in range(dim)],dtype=np.int)   \n",
    "        if x==0:\n",
    "            return tuplaActual\n",
    "        soluciones=[]\n",
    "        while( not( np.all(tuplaActual==ceros) and not(sumando) ) ):\n",
    "            if sumando:\n",
    "                if xaux>=self.generators[0]:\n",
    "                    tuplaActual[posAModificar]=tuplaActual[posAModificar]+1\n",
    "                    xaux=xaux-self.generators[posAModificar]\n",
    "                    if xaux==0:\n",
    "                        soluciones.append(array(tuplaActual))\n",
    "                        sumando=False\n",
    "                        continue\n",
    "                if xaux!=0 and xaux<self.generators[0]:\n",
    "                    sumando=False\n",
    "                    continue\n",
    "            else:\n",
    "                if ( posAModificar == dim-1 ) and ( tuplaActual[posAModificar] > 0 ):\n",
    "                    xaux=tuplaActual[posAModificar]*self.generators[posAModificar]+xaux\n",
    "                    tuplaActual[posAModificar]=0\n",
    "                    posAModificar=posAModificar-1\n",
    "                    continue\n",
    "                if ( posAModificar < dim-1 ) and ( tuplaActual[posAModificar] > 0 ):\n",
    "                    xaux=xaux+self.generators[posAModificar]\n",
    "                    tuplaActual[posAModificar]=tuplaActual[posAModificar]-1\n",
    "                    posAModificar=posAModificar+1\n",
    "                    sumando=True\n",
    "                    continue\n",
    "                if ( posAModificar < dim-1 ) and ( tuplaActual[posAModificar] == 0 ):\n",
    "                    posAModificar=np.max( [i for i in range(dim) if tuplaActual[i]!=0] )\n",
    "                    xaux=self.generators[posAModificar]+xaux\n",
    "                    tuplaActual[posAModificar]=tuplaActual[posAModificar]-1\n",
    "                    sumando=True\n",
    "                    posAModificar=posAModificar+1\n",
    "                    continue\n",
    "        return [list(x) for x in soluciones]\n",
    "    \n",
    "    # This function check if a number is in the semigroup\n",
    "    def Belongs(self,x):\n",
    "        if x==0:\n",
    "            return True\n",
    "        if 0<x and x<self.multiplicity:\n",
    "            return False\n",
    "        if x in self.generators:\n",
    "            return True\n",
    "        if self.fNumber != 0 and x>self.fNumber:\n",
    "            return True\n",
    "        expression = self.Factorizations(x)\n",
    "        if len(expression)>0:\n",
    "            return True\n",
    "        else:\n",
    "            return False\n",
    "        \n",
    "    def ComputeNS(self):\n",
    "        if self.NS != 0:\n",
    "            return NS\n",
    "        # Calculamos la dimension\n",
    "        a = self.generators\n",
    "        dimension = self.eDimension\n",
    "        # Creamos los simbolos ei\n",
    "        e = symbols('e0:%d'%dimension)\n",
    "        # Creamos el simbolo s\n",
    "        s = symbols('s')\n",
    "        # Calculamos d\n",
    "        m = equationsToGeneratorsHomogeneusCase(Matrix([self.generators]))\n",
    "        m1 = sympyMatrix2numpyArray(m)\n",
    "        l = numpy.sum(m1,axis=1) # Esto es lo que fallaba porque l es de la forma [a b c] y deberia ser [a, b, c] con las comas, asi que lo transformo aqui.\n",
    "        lista = []\n",
    "        for i in range(len(l)):\n",
    "            lista.append(l[i])\n",
    "        d = gcdL(lista)\n",
    "        # Calculo un vector con los mcd\n",
    "        mcd = []\n",
    "        for i in range(dimension-2):\n",
    "            mcd.append(gcdL([a[i+1]-a[-1],-a[0]+a[-1],a[0]-a[i+1]]))\n",
    "        # Calculo h\n",
    "        h=d/(a[-1]-a[0])*(a[-1]*e[0]-a[0]*e[-1])\n",
    "        # Calculo P2\n",
    "        P2=s*(a[1]-a[-1])/(a[1]*(a[0]-a[-1]))*e[0]+s*(a[0]-a[1])/(a[1]*(a[0]-a[-1]))*e[-1]\n",
    "        # Calculo Pp-1\n",
    "        Ppm1=s*(a[-2]-a[-1])/(a[-2]*(a[0]-a[-1]))*e[0]+s*(a[0]-a[-2])/(a[-2]*(a[0]-a[-1]))*e[-1]\n",
    "        # Calculo un vector con los qi\n",
    "        Q = []\n",
    "        for i in range(dimension-2):\n",
    "            Q.append(1/mcd[i]*((a[i+1]-a[-1])*e[0]+(a[-1]-a[0])*e[i+1]+(a[0]-a[i+1])*e[-1]))\n",
    "        # Calculo la suma de los Qi\n",
    "        sumaQi = 0\n",
    "        for i in range(dimension-2):\n",
    "            sumaQi += Q[i]\n",
    "        # Calculamos la última coordenada P2+h+∑qi\n",
    "        primeraEcuacion = P2+h+sumaQi\n",
    "        for i in range(dimension-1):\n",
    "            primeraEcuacion = primeraEcuacion.subs(e[i],0)\n",
    "        primeraEcuacion = primeraEcuacion.subs(e[dimension-1],1)\n",
    "        sol1 = sympy.solve(primeraEcuacion,s)\n",
    "        # Calculamos la primera coordenada de P(p−1)−h+∑qi\n",
    "        ultimaEcuacion = Ppm1-h+sumaQi\n",
    "        for i in range(1,dimension):\n",
    "            ultimaEcuacion = ultimaEcuacion.subs(e[i],0)\n",
    "        ultimaEcuacion = ultimaEcuacion.subs(e[0],1)\n",
    "        sol2 = sympy.solve(ultimaEcuacion,s)\n",
    "        self.NS = int(ceil(int(max(sol1,sol2)[0])))\n",
    "        return self.NS\n",
    "    def ComputeN0(self):\n",
    "        try:\n",
    "            return self.N0\n",
    "        except (AttributeError, NameError):\n",
    "            Ns=self.ComputeNS()\n",
    "            a1=self.generators[0]\n",
    "            a2=self.generators[1]\n",
    "            apM1=self.generators[-2]\n",
    "            ap=self.generators[-1]\n",
    "            C1=(ap-apM1)*Ns/apM1\n",
    "            C2=(ap-a2)*Ns/a2\n",
    "            C3=(-ap/a1+ap/a2-ap/apM1+1)*Ns\n",
    "            C4=(a1/apM1-a1/ap-a1/a2+1)*Ns\n",
    "            self.lambda1=max(C1,C4)\n",
    "            self.lambda2=max(C2,C3)\n",
    "            self.N0=max([Ns/a1,(ap-a1+self.lambda1+self.lambda2)/(ap-a1)])\n",
    "            return self.N0"
   ]
  },
  {
   "cell_type": "code",
   "execution_count": 56,
   "metadata": {
    "ExecuteTime": {
     "end_time": "2019-03-11T12:35:47.759940Z",
     "start_time": "2019-03-11T12:35:47.750211Z"
    },
    "collapsed": true
   },
   "outputs": [],
   "source": [
    "ns = NumericalSemigroup([5,6,7,8])"
   ]
  },
  {
   "cell_type": "code",
   "execution_count": 57,
   "metadata": {
    "ExecuteTime": {
     "end_time": "2019-03-11T12:35:48.131703Z",
     "start_time": "2019-03-11T12:35:48.123667Z"
    }
   },
   "outputs": [
    {
     "data": {
      "text/plain": [
       "9"
      ]
     },
     "execution_count": 57,
     "metadata": {},
     "output_type": "execute_result"
    }
   ],
   "source": [
    "ns.FrobeniusNumber()"
   ]
  },
  {
   "cell_type": "code",
   "execution_count": 58,
   "metadata": {},
   "outputs": [
    {
     "data": {
      "text/latex": [
       "$$24.375$$"
      ],
      "text/plain": [
       "24.375"
      ]
     },
     "execution_count": 58,
     "metadata": {},
     "output_type": "execute_result"
    }
   ],
   "source": [
    "ns.ComputeN0()"
   ]
  },
  {
   "cell_type": "code",
   "execution_count": 62,
   "metadata": {},
   "outputs": [
    {
     "data": {
      "text/latex": [
       "$$119$$"
      ],
      "text/plain": [
       "119"
      ]
     },
     "execution_count": 62,
     "metadata": {},
     "output_type": "execute_result"
    }
   ],
   "source": [
    "ns.NS"
   ]
  },
  {
   "cell_type": "code",
   "execution_count": 7,
   "metadata": {
    "ExecuteTime": {
     "end_time": "2019-03-11T12:35:20.464769Z",
     "start_time": "2019-03-11T12:35:20.450896Z"
    }
   },
   "outputs": [
    {
     "data": {
      "text/plain": [
       "[[6, 0, 0, 0],\n",
       " [3, 0, 1, 1],\n",
       " [2, 2, 0, 1],\n",
       " [2, 1, 2, 0],\n",
       " [1, 3, 1, 0],\n",
       " [0, 5, 0, 0],\n",
       " [0, 1, 0, 3],\n",
       " [0, 0, 2, 2]]"
      ]
     },
     "execution_count": 7,
     "metadata": {},
     "output_type": "execute_result"
    }
   ],
   "source": [
    "ns.Factorizations(30)"
   ]
  },
  {
   "cell_type": "code",
   "execution_count": null,
   "metadata": {
    "collapsed": true
   },
   "outputs": [],
   "source": [
    "ns.Belongs(9)"
   ]
  },
  {
   "cell_type": "code",
   "execution_count": null,
   "metadata": {
    "collapsed": true
   },
   "outputs": [],
   "source": [
    "ns.ComputeNS()"
   ]
  }
 ],
 "metadata": {
  "kernelspec": {
   "display_name": "Python 3",
   "language": "python",
   "name": "python3"
  },
  "language_info": {
   "codemirror_mode": {
    "name": "ipython",
    "version": 3
   },
   "file_extension": ".py",
   "mimetype": "text/x-python",
   "name": "python",
   "nbconvert_exporter": "python",
   "pygments_lexer": "ipython3",
   "version": "3.5.3"
  }
 },
 "nbformat": 4,
 "nbformat_minor": 2
}

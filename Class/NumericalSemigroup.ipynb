{
 "cells": [
  {
   "cell_type": "code",
   "execution_count": 1,
   "metadata": {
    "ExecuteTime": {
     "end_time": "2019-03-18T10:47:32.461795Z",
     "start_time": "2019-03-18T10:47:31.935999Z"
    }
   },
   "outputs": [],
   "source": [
    "import numpy as np\n",
    "from numpy import *\n",
    "import sympy\n",
    "from sympy import *"
   ]
  },
  {
   "cell_type": "code",
   "execution_count": 2,
   "metadata": {
    "ExecuteTime": {
     "end_time": "2019-03-18T10:47:33.068624Z",
     "start_time": "2019-03-18T10:47:32.465695Z"
    }
   },
   "outputs": [],
   "source": [
    "import auxiliars\n",
    "from auxiliars import *"
   ]
  },
  {
   "cell_type": "code",
   "execution_count": 3,
   "metadata": {
    "ExecuteTime": {
     "end_time": "2019-03-18T10:47:33.083643Z",
     "start_time": "2019-03-18T10:47:33.072410Z"
    }
   },
   "outputs": [],
   "source": [
    "import auxiliars2\n",
    "from auxiliars2 import *"
   ]
  },
  {
   "cell_type": "code",
   "execution_count": 4,
   "metadata": {
    "ExecuteTime": {
     "end_time": "2019-03-18T10:47:33.215712Z",
     "start_time": "2019-03-18T10:47:33.135406Z"
    }
   },
   "outputs": [],
   "source": [
    "class NumericalSemigroup:\n",
    "    '''\n",
    "    This class contains all methods and properties needs\n",
    "    for working with a Numerical Semigroup.\n",
    "    \n",
    "    In order to use it you have to introduce the generators. For example S = NumericalSemigroup([3,4,5]).\n",
    "    \n",
    "    Functions:\n",
    "        * FrobeniusNumber() returns the frobenius number of S.\n",
    "        * Factorizations(x) returns the factorizations of x in S.\n",
    "        * Belongs(x) returns True or False if x is or is not in S.\n",
    "        * ComputeNS() returns a bound for the periodicity of Delta(S)\n",
    "    '''\n",
    "    \n",
    "    def __init__(self,generators):\n",
    "        self.generators = smgS(generators)\n",
    "        self.multiplicity = self.generators[0]\n",
    "        self.eDimension = len(self.generators)\n",
    "        \n",
    "    # Frobenius Number\n",
    "    fNumber = 0\n",
    "    # Bound for Delta(S) periodic\n",
    "    NS = 0\n",
    "    \n",
    "    # This function gives us the Frobenius Number of a semigroup\n",
    "    def FrobeniusNumber(self):\n",
    "        if self.fNumber != 0:\n",
    "            return self.fNumber\n",
    "        self.fNumber = FrobeniusNumber(self.generators,self.eDimension)\n",
    "        return self.fNumber\n",
    "    \n",
    "    # This function returns the factorizations of an element\n",
    "    def Factorizations(self,x):\n",
    "        return FSolve(self.generators,x,self.eDimension,False)\n",
    "    \n",
    "    # This function check if a number is in the semigroup\n",
    "    def Belongs(self,x):\n",
    "        if self.fNumber == 0:\n",
    "            FrobeniusNumber(self.generators,self.eDimension)\n",
    "        return Belong(self.generators,x,self.multiplicity,self.fNumber)\n",
    "        \n",
    "    def ComputeNS(self):\n",
    "        if self.NS != 0:\n",
    "            return self.NS\n",
    "        self.NS = ComputeNs(self.generators,self.eDimension)\n",
    "        return self.NS\n",
    "    \n",
    "    \n",
    "    def ComputeN0(self):\n",
    "        try:\n",
    "            return self.N0\n",
    "        except (AttributeError, NameError):\n",
    "            Ns=self.ComputeNS()\n",
    "            a1=self.generators[0]\n",
    "            a2=self.generators[1]\n",
    "            apM1=self.generators[-2]\n",
    "            ap=self.generators[-1]\n",
    "            C1=(ap-apM1)*Ns/apM1\n",
    "            C2=(ap-a2)*Ns/a2\n",
    "            C3=(-ap/a1+ap/a2-ap/apM1+1)*Ns\n",
    "            C4=(a1/apM1-a1/ap-a1/a2+1)*Ns\n",
    "            self.lambda1=max(C1,C4)\n",
    "            self.lambda2=max(C2,C3)\n",
    "            self.N0=max([Ns/a1,(ap-a1+self.lambda1+self.lambda2)/(ap-a1)])\n",
    "            return self.N0\n",
    "    def W(self,n):\n",
    "        smg=self.generators\n",
    "        dim=self.eDimension\n",
    "        return list(set( [ sum([x[i]*smg[i] for i in range(dim) ]) for x in f1(dim,n) ]))\n",
    "    def L(self,x):\n",
    "        l1=self.Factorizations(x)\n",
    "        l2=[sum(y) for y in l1]\n",
    "        l2.sort()\n",
    "        return l2\n",
    "    def nu(self,n,debug=False):\n",
    "        waux=self.W(n)\n",
    "        if debug:\n",
    "            print(\"W of \",n,\":\",waux)\n",
    "        longAux=list(set.union( *[set(self.L(x)) for x in waux] ))\n",
    "        longAux.sort()\n",
    "        if debug:\n",
    "            print([self.L(x) for x in waux])\n",
    "        return (longAux)\n",
    "    def DeltaNu(self,n,debug=False):\n",
    "        return Delta(self.nu(n,debug))"
   ]
  },
  {
   "cell_type": "code",
   "execution_count": 5,
   "metadata": {
    "ExecuteTime": {
     "end_time": "2019-03-18T10:47:34.171775Z",
     "start_time": "2019-03-18T10:47:34.160238Z"
    }
   },
   "outputs": [],
   "source": [
    "ns=NumericalSemigroup([3,7,9])"
   ]
  },
  {
   "cell_type": "code",
   "execution_count": 6,
   "metadata": {
    "ExecuteTime": {
     "end_time": "2019-03-18T10:47:51.814744Z",
     "start_time": "2019-03-18T10:47:51.809289Z"
    }
   },
   "outputs": [],
   "source": [
    "#ns.ComputeNS()"
   ]
  },
  {
   "cell_type": "code",
   "execution_count": 7,
   "metadata": {
    "ExecuteTime": {
     "end_time": "2019-03-18T10:47:56.770406Z",
     "start_time": "2019-03-18T10:47:56.765007Z"
    }
   },
   "outputs": [],
   "source": [
    "#ns.FrobeniusNumber()"
   ]
  },
  {
   "cell_type": "code",
   "execution_count": 8,
   "metadata": {
    "ExecuteTime": {
     "end_time": "2019-03-18T10:48:11.035891Z",
     "start_time": "2019-03-18T10:48:10.903798Z"
    }
   },
   "outputs": [
    {
     "ename": "NameError",
     "evalue": "name 'generators' is not defined",
     "output_type": "error",
     "traceback": [
      "\u001b[0;31m---------------------------------------------------------------------------\u001b[0m",
      "\u001b[0;31mNameError\u001b[0m                                 Traceback (most recent call last)",
      "\u001b[0;32m<ipython-input-8-684442500289>\u001b[0m in \u001b[0;36m<module>\u001b[0;34m\u001b[0m\n\u001b[0;32m----> 1\u001b[0;31m \u001b[0mCalcularLambda1\u001b[0m\u001b[0;34m(\u001b[0m\u001b[0;34m[\u001b[0m\u001b[0;36m3\u001b[0m\u001b[0;34m,\u001b[0m\u001b[0;36m7\u001b[0m\u001b[0;34m]\u001b[0m\u001b[0;34m)\u001b[0m\u001b[0;34m\u001b[0m\u001b[0;34m\u001b[0m\u001b[0m\n\u001b[0m",
      "\u001b[0;32m~/CommutativeMonoids/Class/auxiliars2.py\u001b[0m in \u001b[0;36mCalcularLambda1\u001b[0;34m(lgen, dimension, Ns)\u001b[0m\n\u001b[1;32m    192\u001b[0m \u001b[0;32mdef\u001b[0m \u001b[0mCalcularLambda1\u001b[0m\u001b[0;34m(\u001b[0m\u001b[0mlgen\u001b[0m\u001b[0;34m,\u001b[0m\u001b[0mdimension\u001b[0m \u001b[0;34m=\u001b[0m \u001b[0;36m0\u001b[0m\u001b[0;34m,\u001b[0m\u001b[0mNs\u001b[0m\u001b[0;34m=\u001b[0m\u001b[0;36m0\u001b[0m\u001b[0;34m)\u001b[0m\u001b[0;34m:\u001b[0m\u001b[0;34m\u001b[0m\u001b[0;34m\u001b[0m\u001b[0m\n\u001b[1;32m    193\u001b[0m     \u001b[0;32mif\u001b[0m \u001b[0mNs\u001b[0m \u001b[0;34m==\u001b[0m \u001b[0;36m0\u001b[0m\u001b[0;34m:\u001b[0m\u001b[0;34m\u001b[0m\u001b[0;34m\u001b[0m\u001b[0m\n\u001b[0;32m--> 194\u001b[0;31m         \u001b[0mComputeNs\u001b[0m\u001b[0;34m(\u001b[0m\u001b[0mgenerators\u001b[0m\u001b[0;34m,\u001b[0m\u001b[0mdimension\u001b[0m\u001b[0;34m)\u001b[0m\u001b[0;34m\u001b[0m\u001b[0;34m\u001b[0m\u001b[0m\n\u001b[0m\u001b[1;32m    195\u001b[0m     \u001b[0mc1\u001b[0m \u001b[0;34m=\u001b[0m \u001b[0;34m(\u001b[0m\u001b[0mlgen\u001b[0m\u001b[0;34m[\u001b[0m\u001b[0;34m-\u001b[0m\u001b[0;36m1\u001b[0m\u001b[0;34m]\u001b[0m\u001b[0;34m-\u001b[0m\u001b[0mlgen\u001b[0m\u001b[0;34m[\u001b[0m\u001b[0;34m-\u001b[0m\u001b[0;36m2\u001b[0m\u001b[0;34m]\u001b[0m\u001b[0;34m)\u001b[0m\u001b[0;34m/\u001b[0m\u001b[0mlgen\u001b[0m\u001b[0;34m[\u001b[0m\u001b[0;34m-\u001b[0m\u001b[0;36m2\u001b[0m\u001b[0;34m]\u001b[0m\u001b[0;34m*\u001b[0m\u001b[0mNs\u001b[0m\u001b[0;34m\u001b[0m\u001b[0;34m\u001b[0m\u001b[0m\n\u001b[1;32m    196\u001b[0m     \u001b[0mc4\u001b[0m \u001b[0;34m=\u001b[0m \u001b[0;34m(\u001b[0m\u001b[0mlgen\u001b[0m\u001b[0;34m[\u001b[0m\u001b[0;36m0\u001b[0m\u001b[0;34m]\u001b[0m\u001b[0;34m/\u001b[0m\u001b[0mlgen\u001b[0m\u001b[0;34m[\u001b[0m\u001b[0;34m-\u001b[0m\u001b[0;36m2\u001b[0m\u001b[0;34m]\u001b[0m\u001b[0;34m-\u001b[0m\u001b[0mlgen\u001b[0m\u001b[0;34m[\u001b[0m\u001b[0;36m0\u001b[0m\u001b[0;34m]\u001b[0m\u001b[0;34m/\u001b[0m\u001b[0mlgen\u001b[0m\u001b[0;34m[\u001b[0m\u001b[0;34m-\u001b[0m\u001b[0;36m1\u001b[0m\u001b[0;34m]\u001b[0m\u001b[0;34m-\u001b[0m\u001b[0mlgen\u001b[0m\u001b[0;34m[\u001b[0m\u001b[0;36m0\u001b[0m\u001b[0;34m]\u001b[0m\u001b[0;34m/\u001b[0m\u001b[0mlgen\u001b[0m\u001b[0;34m[\u001b[0m\u001b[0;36m1\u001b[0m\u001b[0;34m]\u001b[0m\u001b[0;34m+\u001b[0m\u001b[0;36m1\u001b[0m\u001b[0;34m)\u001b[0m\u001b[0;34m*\u001b[0m\u001b[0mNs\u001b[0m\u001b[0;34m\u001b[0m\u001b[0;34m\u001b[0m\u001b[0m\n",
      "\u001b[0;31mNameError\u001b[0m: name 'generators' is not defined"
     ]
    }
   ],
   "source": [
    "CalcularLambda1([3,7])"
   ]
  },
  {
   "cell_type": "code",
   "execution_count": null,
   "metadata": {
    "ExecuteTime": {
     "end_time": "2019-03-17T22:51:42.893104Z",
     "start_time": "2019-03-17T22:51:42.877706Z"
    }
   },
   "outputs": [],
   "source": [
    "ns.ComputeN0()"
   ]
  },
  {
   "cell_type": "code",
   "execution_count": null,
   "metadata": {
    "ExecuteTime": {
     "end_time": "2019-03-17T22:51:44.215791Z",
     "start_time": "2019-03-17T22:51:44.211580Z"
    }
   },
   "outputs": [],
   "source": [
    "ns.Factorizations(30)"
   ]
  },
  {
   "cell_type": "code",
   "execution_count": null,
   "metadata": {
    "ExecuteTime": {
     "end_time": "2019-03-17T22:51:44.425160Z",
     "start_time": "2019-03-17T22:51:44.421021Z"
    }
   },
   "outputs": [],
   "source": [
    "ns.Belongs(4)"
   ]
  },
  {
   "cell_type": "code",
   "execution_count": null,
   "metadata": {
    "ExecuteTime": {
     "end_time": "2019-03-17T22:51:44.882992Z",
     "start_time": "2019-03-17T22:51:44.877972Z"
    }
   },
   "outputs": [],
   "source": [
    "ns.ComputeNS()"
   ]
  }
 ],
 "metadata": {
  "kernelspec": {
   "display_name": "Python 3",
   "language": "python",
   "name": "python3"
  },
  "language_info": {
   "codemirror_mode": {
    "name": "ipython",
    "version": 3
   },
   "file_extension": ".py",
   "mimetype": "text/x-python",
   "name": "python",
   "nbconvert_exporter": "python",
   "pygments_lexer": "ipython3",
   "version": "3.6.7"
  }
 },
 "nbformat": 4,
 "nbformat_minor": 2
}

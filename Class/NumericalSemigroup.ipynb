{
 "cells": [
  {
   "cell_type": "code",
   "execution_count": 4,
   "metadata": {
    "ExecuteTime": {
     "end_time": "2019-03-19T11:33:28.517198Z",
     "start_time": "2019-03-19T11:33:28.507911Z"
    }
   },
   "outputs": [],
   "source": [
    "import numpy as np\n",
    "from numpy import *\n",
    "import sympy\n",
    "from sympy import *"
   ]
  },
  {
   "cell_type": "code",
   "execution_count": 5,
   "metadata": {
    "ExecuteTime": {
     "end_time": "2019-03-19T11:33:28.793777Z",
     "start_time": "2019-03-19T11:33:28.787897Z"
    }
   },
   "outputs": [],
   "source": [
    "import integerSmithNormalFormAndApplications\n",
    "from integerSmithNormalFormAndApplications import *"
   ]
  },
  {
   "cell_type": "code",
   "execution_count": 6,
   "metadata": {
    "ExecuteTime": {
     "end_time": "2019-03-19T11:33:29.198426Z",
     "start_time": "2019-03-19T11:33:29.184385Z"
    }
   },
   "outputs": [],
   "source": [
    "import auxiliars\n",
    "from auxiliars import *"
   ]
  },
  {
   "cell_type": "code",
   "execution_count": 7,
   "metadata": {
    "ExecuteTime": {
     "end_time": "2019-03-19T11:33:29.935540Z",
     "start_time": "2019-03-19T11:33:29.910129Z"
    }
   },
   "outputs": [],
   "source": [
    "class NumericalSemigroup:\n",
    "    '''\n",
    "    This class contains all methods and properties needs\n",
    "    for working with a Numerical Semigroup.\n",
    "    \n",
    "    In order to use it you have to introduce the generators. For example S = NumericalSemigroup([3,4,5]).\n",
    "    \n",
    "    Functions:\n",
    "        * FrobeniusNumber() returns the frobenius number of S.\n",
    "        * Factorizations(x) returns the factorizations of x in S.\n",
    "        * Belongs(x) returns True or False if x is or is not in S.\n",
    "        * ComputeNS() returns a bound for the periodicity of Delta(S)\n",
    "    '''\n",
    "    \n",
    "    def __init__(self,generators):\n",
    "        self.generators = smgS(generators)\n",
    "        self.multiplicity = self.generators[0]\n",
    "        self.eDimension = len(self.generators)\n",
    "        \n",
    "    # Frobenius Number\n",
    "    fNumber = 0\n",
    "    # Bound for Delta(S) periodic\n",
    "    NS = 0\n",
    "    # Bound for Delta_nu periodic\n",
    "    N0 = 0\n",
    "    \n",
    "    # This function gives us the Frobenius Number of a semigroup\n",
    "    def FrobeniusNumber(self):\n",
    "        if self.fNumber != 0:\n",
    "            return self.fNumber\n",
    "        self.fNumber = FrobeniusNumber(self.generators,self.eDimension)\n",
    "        return self.fNumber\n",
    "    \n",
    "    # This function returns the factorizations of an element\n",
    "    def Factorizations(self,x):\n",
    "        return FSolve(self.generators,x,self.eDimension,False)\n",
    "    \n",
    "    # This function check if a number is in the semigroup\n",
    "    def Belongs(self,x):\n",
    "        if self.fNumber == 0:\n",
    "            FrobeniusNumber(self.generators,self.eDimension)\n",
    "        return Belong(self.generators,x,self.multiplicity,self.fNumber)\n",
    "        \n",
    "    def ComputeNS(self):\n",
    "        if self.NS != 0:\n",
    "            return self.NS\n",
    "        self.NS = ComputeNs(self.generators,self.eDimension)\n",
    "        return self.NS\n",
    "    \n",
    "    def ComputeN0(self):\n",
    "        if self.N0 != 0:\n",
    "            return self.N0\n",
    "        if self.NS == 0:\n",
    "            self.NS = ComputeNs(self.generators,self.eDimension)\n",
    "        self.N0 = ComputeN0(self.generators,self.eDimension,self.NS)\n",
    "        return self.N0\n",
    "    \n",
    "    def DeltaNu(self,n):\n",
    "        if self.N0 != 0:\n",
    "            return self.N0\n",
    "        if self.NS == 0:\n",
    "            self.NS = ComputeNs(self.generators,self.eDimension)\n",
    "        return ComputeDeltaNu(self.generators,n,self.eDimension,self.NS,self.N0)\n",
    "        \n",
    "    def W(self,n):\n",
    "        smg=self.generators\n",
    "        dim=self.eDimension\n",
    "        return list(set( [ sum([x[i]*smg[i] for i in range(dim) ]) for x in f1(dim,n) ]))\n",
    "    \n",
    "    def L(self,x):\n",
    "        l1=self.Factorizations(x)\n",
    "        l2=[sum(y) for y in l1]\n",
    "        l2.sort()\n",
    "        return l2\n",
    "    \n",
    "    def nu(self,n,debug=False):\n",
    "        waux=self.W(n)\n",
    "        if debug:\n",
    "            print(\"W of \",n,\":\",waux)\n",
    "        longAux=list(set.union( *[set(self.L(x)) for x in waux] ))\n",
    "        longAux.sort()\n",
    "        if debug:\n",
    "            print([self.L(x) for x in waux])\n",
    "        return (longAux)"
   ]
  },
  {
   "cell_type": "code",
   "execution_count": 8,
   "metadata": {
    "ExecuteTime": {
     "end_time": "2019-03-19T11:33:30.389584Z",
     "start_time": "2019-03-19T11:33:30.380438Z"
    }
   },
   "outputs": [],
   "source": [
    "ns = NumericalSemigroup([3,7,9])"
   ]
  },
  {
   "cell_type": "code",
   "execution_count": 9,
   "metadata": {
    "ExecuteTime": {
     "end_time": "2019-03-19T11:33:30.836969Z",
     "start_time": "2019-03-19T11:33:30.831628Z"
    }
   },
   "outputs": [],
   "source": [
    "#ns.ComputeNS()"
   ]
  },
  {
   "cell_type": "code",
   "execution_count": 10,
   "metadata": {
    "ExecuteTime": {
     "end_time": "2019-03-19T11:33:31.199345Z",
     "start_time": "2019-03-19T11:33:31.195637Z"
    }
   },
   "outputs": [],
   "source": [
    "#ns.ComputeN0()"
   ]
  },
  {
   "cell_type": "code",
   "execution_count": 13,
   "metadata": {
    "ExecuteTime": {
     "end_time": "2019-03-19T11:33:50.822781Z",
     "start_time": "2019-03-19T11:33:50.810147Z"
    }
   },
   "outputs": [],
   "source": [
    "#ns.DeltaNu(70)"
   ]
  },
  {
   "cell_type": "code",
   "execution_count": null,
   "metadata": {
    "ExecuteTime": {
     "end_time": "2019-03-19T10:55:42.816214Z",
     "start_time": "2019-03-19T10:55:42.805473Z"
    }
   },
   "outputs": [],
   "source": [
    "#ns.FrobeniusNumber()"
   ]
  },
  {
   "cell_type": "code",
   "execution_count": null,
   "metadata": {
    "ExecuteTime": {
     "end_time": "2019-03-18T11:56:35.529991Z",
     "start_time": "2019-03-18T11:56:35.526025Z"
    }
   },
   "outputs": [],
   "source": [
    "#ns.ComputeN0()"
   ]
  },
  {
   "cell_type": "code",
   "execution_count": null,
   "metadata": {
    "ExecuteTime": {
     "end_time": "2019-03-19T11:03:34.957950Z",
     "start_time": "2019-03-19T11:03:34.943772Z"
    }
   },
   "outputs": [],
   "source": [
    "#ns.Factorizations(30)"
   ]
  },
  {
   "cell_type": "code",
   "execution_count": null,
   "metadata": {
    "ExecuteTime": {
     "end_time": "2019-03-18T11:28:36.366165Z",
     "start_time": "2019-03-18T11:28:36.360666Z"
    }
   },
   "outputs": [],
   "source": [
    "#ns.Belongs(4)"
   ]
  }
 ],
 "metadata": {
  "kernelspec": {
   "display_name": "Python 3",
   "language": "python",
   "name": "python3"
  },
  "language_info": {
   "codemirror_mode": {
    "name": "ipython",
    "version": 3
   },
   "file_extension": ".py",
   "mimetype": "text/x-python",
   "name": "python",
   "nbconvert_exporter": "python",
   "pygments_lexer": "ipython3",
   "version": "3.6.7"
  }
 },
 "nbformat": 4,
 "nbformat_minor": 2
}

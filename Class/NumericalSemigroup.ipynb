{
 "cells": [
  {
   "cell_type": "code",
   "execution_count": null,
   "metadata": {
    "ExecuteTime": {
     "end_time": "2019-05-16T09:02:38.610463Z",
     "start_time": "2019-05-16T09:02:35.656002Z"
    }
   },
   "outputs": [],
   "source": [
    "import numpy as np\n",
    "from numpy import *\n",
    "import sympy\n",
    "from sympy import *"
   ]
  },
  {
   "cell_type": "code",
   "execution_count": null,
   "metadata": {
    "ExecuteTime": {
     "end_time": "2019-05-16T09:02:39.311177Z",
     "start_time": "2019-05-16T09:02:38.614314Z"
    }
   },
   "outputs": [],
   "source": [
    "import integerSmithNormalFormAndApplications\n",
    "from integerSmithNormalFormAndApplications import *"
   ]
  },
  {
   "cell_type": "code",
   "execution_count": null,
   "metadata": {
    "ExecuteTime": {
     "end_time": "2019-05-16T09:02:39.339987Z",
     "start_time": "2019-05-16T09:02:39.314080Z"
    }
   },
   "outputs": [],
   "source": [
    "import auxiliars\n",
    "from auxiliars import *"
   ]
  },
  {
   "cell_type": "code",
   "execution_count": null,
   "metadata": {
    "ExecuteTime": {
     "end_time": "2019-05-16T09:02:39.459364Z",
     "start_time": "2019-05-16T09:02:39.344346Z"
    }
   },
   "outputs": [],
   "source": [
    "class NumericalSemigroup:\n",
    "    '''\n",
    "    This class contains all methods and properties needs\n",
    "    for working with a Numerical Semigroup.\n",
    "    \n",
    "    In order to use it you have to introduce the generators. For example S = NumericalSemigroup([3,4,5]).\n",
    "    \n",
    "    Functions:\n",
    "        * FrobeniusNumber() returns the frobenius number of S.\n",
    "        * Factorizations(x) returns the factorizations of x in S.\n",
    "        * Belongs(x) returns True or False if x is or is not in S.\n",
    "        * ComputeNS() returns a bound for the periodicity of Delta(S)\n",
    "    '''\n",
    "    \n",
    "    def __init__(self,generators):\n",
    "        self.generators = smgS(generators)\n",
    "        self.multiplicity = self.generators[0]\n",
    "        self.eDimension = len(self.generators)\n",
    "        \n",
    "    # Frobenius Number\n",
    "    fNumber = 0\n",
    "    # Minimum value of Delta(S)\n",
    "    d = 0\n",
    "    # Bound for Delta(S) periodic\n",
    "    NS = 0\n",
    "    # Bound for Delta_nu periodic\n",
    "    N0 = 0\n",
    "    \n",
    "    # This function gives us the Frobenius Number of a semigroup\n",
    "    def FrobeniusNumber(self):\n",
    "        if self.fNumber != 0:\n",
    "            return self.fNumber\n",
    "        self.fNumber = FrobeniusNumber(self.generators,self.eDimension)\n",
    "        return self.fNumber\n",
    "    \n",
    "    # This function returns the factorizations of an element\n",
    "    def Factorizations(self,x):\n",
    "        return FSolve(self.generators,x,self.eDimension,False)\n",
    "    \n",
    "    # This function check if a number is in the semigroup\n",
    "    def Belongs(self,x):\n",
    "        if self.fNumber == 0:\n",
    "            FrobeniusNumber(self.generators,self.eDimension)\n",
    "        return Belong(self.generators,x,self.multiplicity,self.fNumber)\n",
    "    \n",
    "    # This function compute the minimum of Delta(S)\n",
    "    def ComputeMinimumDeltaS(self):\n",
    "        if self.d != 0:\n",
    "            return self.d\n",
    "        self.d = ComputeD(self.generators,self.eDimension)\n",
    "        return self.d\n",
    "        \n",
    "    def ComputeNS(self):\n",
    "        if self.NS != 0:\n",
    "            return self.NS\n",
    "        if self.d == 0:\n",
    "            self.d = ComputeD(self.generators,self.eDimension)\n",
    "        self.NS = ComputeNs(self.generators,self.eDimension,self.d)\n",
    "        return self.NS\n",
    "    \n",
    "    def ComputeN0(self):\n",
    "        if self.N0 != 0:\n",
    "            return self.N0\n",
    "        if self.NS == 0:\n",
    "            self.NS = ComputeNs(self.generators,self.eDimension)\n",
    "        self.N0 = ComputeN0(self.generators,self.eDimension,self.NS)\n",
    "        return self.N0\n",
    "    \n",
    "    def DeltaNu(self,n):\n",
    "        if self.NS == 0:\n",
    "            self.NS = ComputeNs(self.generators,self.eDimension)\n",
    "        if self.N0 == 0:\n",
    "            self.N0 = ComputeN0(self.generators,self.eDimension,self.NS)\n",
    "        if self.N0 > n:\n",
    "            return Delta(Nu(self.generators,n,self.eDimension))\n",
    "        return ComputeDeltaNu(self.generators,n,self.eDimension,self.NS,self.N0)\n",
    "        \n",
    "    def W(self,n):\n",
    "        return W(self.generators,n,self.eDimension)\n",
    "    \n",
    "    def L(self,x):\n",
    "        return L(self.generators,x,self.eDimension)\n",
    "    \n",
    "    def Nu(self,n):\n",
    "        return Nu(self.generators,n,self.eDimension)\n",
    "    \n",
    "    ###################################################################################\n",
    "    \n",
    "    def SminusIthMinimalGenerator(self,i):\n",
    "        '''\n",
    "        Return the numerical semigroup S minus its ith minimal generator.\n",
    "        '''\n",
    "        saux=list(self.generators)\n",
    "        x=saux[i]\n",
    "        if saux==[1] and x==1:\n",
    "            return NumericalSemigroup([2,3])\n",
    "        saux.remove(x)\n",
    "        #print(saux)\n",
    "        saux= saux + [ x+y for y in saux ]\n",
    "        saux=saux + [2*x,3*x]\n",
    "        #print(saux)\n",
    "        return NumericalSemigroup(saux)\n",
    "    def Children(self):\n",
    "        '''\n",
    "        This function returns the children of a numerial semigroup.\n",
    "        If S is a numerical semigroup, its children are the numerical semigroups S' verifying that S\\S' \n",
    "        has cardinality 1 and the element in this set is a minimal generator of S greater than the Frobenius \n",
    "        number of S.\n",
    "        ns=NumericalSemigroup([2,3])\n",
    "        ns.Children()\n",
    "        ns.Children()\n",
    "        '''\n",
    "        sg,nf=self.generators,self.FrobeniusNumber()\n",
    "        familia=[]\n",
    "        n=len(sg)\n",
    "        for i in range(n):\n",
    "            if nf < sg[i]:\n",
    "                SNaux=self.SminusIthMinimalGenerator(i)\n",
    "                familia=familia+[SNaux]\n",
    "        return familia"
   ]
  }
 ],
 "metadata": {
  "kernelspec": {
   "display_name": "Python 3",
   "language": "python",
   "name": "python3"
  },
  "language_info": {
   "codemirror_mode": {
    "name": "ipython",
    "version": 3
   },
   "file_extension": ".py",
   "mimetype": "text/x-python",
   "name": "python",
   "nbconvert_exporter": "python",
   "pygments_lexer": "ipython3",
   "version": "3.6.7"
  }
 },
 "nbformat": 4,
 "nbformat_minor": 2
}

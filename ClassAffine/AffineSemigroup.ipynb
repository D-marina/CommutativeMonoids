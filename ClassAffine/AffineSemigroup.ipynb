{
 "cells": [
  {
   "cell_type": "code",
   "execution_count": 1,
   "metadata": {},
   "outputs": [],
   "source": [
    "import numpy as np\n",
    "from numpy import array\n",
    "from PyNormaliz import *"
   ]
  },
  {
   "cell_type": "code",
   "execution_count": 5,
   "metadata": {},
   "outputs": [
    {
     "data": {
      "text/plain": [
       "[[0, 1], [1, 0]]"
      ]
     },
     "execution_count": 5,
     "metadata": {},
     "output_type": "execute_result"
    }
   ],
   "source": [
    "C = Cone(cone = [[6,0],[2,3],[0,7]])\n",
    "C.HilbertBasis()"
   ]
  },
  {
   "cell_type": "code",
   "execution_count": 23,
   "metadata": {
    "collapsed": true
   },
   "outputs": [],
   "source": [
    "class AffineSemigroupError(Exception):\n",
    "    pass\n",
    "\n",
    "class AffineSemigroup:\n",
    "    '''\n",
    "    Class for representing a numerical semigroup:\n",
    "    as=AffineSemigroup(\"generators\", [[5,1,3,7], [....], ....])\n",
    "    as=AffineSemigroup(\"equations\", \\\n",
    "                        [[[....],[c0]], [[....],[c1]], ...) A X = 0 % C\n",
    "    as=AffineSemigroup(\"inequations\", [[....], [....], ...]) A X >= 0\n",
    "    '''\n",
    "    def __init__(self, input_data, input_type=\"equations\"):\n",
    "        if not(isinstance(input_data, list) \\\n",
    "               and all(isinstance(elem, list) for elem in input_data)):\n",
    "            raise AffineSemigroupError(\"input_data should be a list of lists\")\n",
    "        if input_type == \"equations\":\n",
    "            \"\"\"\n",
    "               [[[a11, a21, ..., an1], [i1]],\n",
    "                          ...               ,\n",
    "                [[a1m, a2m, ..., anm], [im]]]\n",
    "            \"\"\"\n",
    "            if len(input_data) >= 1 and len(input_data[0]) > 1:\n",
    "                self.__dim = len(input_data[0][0])\n",
    "            else:\n",
    "                raise AffineSemigroupError(\"incorrect list of equations\")\n",
    "            if any(len(eq[0])!=self.__dim \\\n",
    "                   or any(not(isinstance(coef, int)) for coef in eq[0]) \\\n",
    "                   or not(isinstance(eq[1], int)) for eq in input_data):\n",
    "                raise AffineSemigroupError(\"incorrect input equations\")               \n",
    "            self.equations = input_data\n",
    "            self.inequations = None\n",
    "            self.generators = None\n",
    "        else:\n",
    "            if len(input_data) >= 1:\n",
    "                self.__dim = len(input_data[0])\n",
    "            else:\n",
    "                raise AffineSemigroupError(\"a list of elements is expected\")\n",
    "            if input_type == \"inequations\":\n",
    "                if any(len(eq)!=self.__dim \\\n",
    "                      or any(not(isinstance(coef, int)) for coef in eq)\\\n",
    "                      for eq in input_data):\n",
    "                    raise AffineSemigroupError(\"incorrect input inequations\")               \n",
    "                self.equations = None\n",
    "                self.inequations = input_data\n",
    "                self.generators = None\n",
    "            elif input_type == \"generators\":\n",
    "                if any(len(eq)!=self.__dim \\\n",
    "                      or any(not(isinstance(coef, int)) for coef in eq)\\\n",
    "                      for eq in input_data):\n",
    "                    raise AffineSemigroupError(\"incorrect input generators\")               \n",
    "                self.equations = None\n",
    "                self.inequations = None\n",
    "                self.generators = input_data\n",
    "        self.has_min_generators = False\n",
    "\n",
    "    def __str__(self):\n",
    "        return('{ '+str(self.getMSG()).replace('[','<').\\\n",
    "               replace(']','>')+' }')\n",
    "               \n",
    "    def belongs(self, x):\n",
    "        '''\n",
    "        Check if the element x belong to the affine semigroup:\n",
    "        >>> whatever.belongs([2,111,17])\n",
    "        '''\n",
    "        if all(v==0 for v in x):\n",
    "            return True\n",
    "        if any(v<0 for v in x):\n",
    "            return False\n",
    "        if ((self.has_min_generators or self.generators!=None) \\\n",
    "               and any([e==x for e in self.generators])):\n",
    "            return True\n",
    "        npax = np.array(x)\n",
    "        if self.equations != None \\\n",
    "                and all(np.array(e[0])*npa % e[1] == 0 \\\n",
    "                        for e in self.equations):\n",
    "            return True\n",
    "        else:\n",
    "            return False\n",
    "        if self.inequations != None \\\n",
    "                and all(np.array(e[0])*npa >= 0 \\\n",
    "                        for e in self.inequations):\n",
    "            return True\n",
    "        else:\n",
    "            return False\n",
    "\n",
    "        if self.has_min_generators or self.generators != None:\n",
    "            return belongsByGens(np.array(x), self.generators)\n",
    "\n",
    "    def _computeMSG(self):\n",
    "        '''\n",
    "        Computes a minimal system of generator of the affine semigroup.\n",
    "        >>> whatever.getMSG()\n",
    "        '''\n",
    "        if self.has_min_generators:\n",
    "            return self.generators\n",
    "        if self.equations != None:\n",
    "            cngs = [eq[0]+[eq[1]] for eq in self.equations if eq[1]!=0]\n",
    "            if len(cngs)==0:\n",
    "                cono=Cone(equations=[eq[0] for eq in self.equations])\n",
    "            else:\n",
    "                eqns = [eq[0] for eq in self.equations if eq[1]==0]\n",
    "                cono=Cone(congruences=cngs, equations=eqns)\n",
    "                \n",
    "            self.generators=cono.HilbertBasis(DualMode=True)\n",
    "            if self.generators==[]:\n",
    "                raise AffineSemigroupError(\"unable to compute Hilbert basis\")\n",
    "        elif self.inequations != None:\n",
    "            cono=Cone(inequalities=self.inequations, \\\n",
    "                      signs=[1 for s in range(self.__dim)])\n",
    "            self.generators=cono.HilbertBasis(DualMode=True)\n",
    "            if self.generators==[]:\n",
    "                raise AffineSemigroupError(\"unable to compute Hilbert basis\")\n",
    "        else: # \"generators\" case\n",
    "            setgen=set([tuple(e) for e in self.generators])\n",
    "            self.generators=[list(e) for e in setgen \\\n",
    "                   if all([not belongsByGens(list(e), list(setgen - {e}))])]\n",
    "        self.has_min_generators=True\n",
    "    \n",
    "    def getMSG(self):\n",
    "        if not self.has_min_generators:\n",
    "            self._computeMSG()\n",
    "        return self.generators\n",
    "    \n",
    "    def getExpressions(self,x):\n",
    "        '''\n",
    "        Computes the factorization(s) of x. \n",
    "        >>> whatever.getExpressions([9,1,74,2])\n",
    "        '''\n",
    "        assert len(x)==self.__dim, \\\n",
    "                \"parameter length differs from affine semigroup's dimension\"\n",
    "        if not self.has_min_generators:\n",
    "            self._computeMSG()\n",
    "        iheq=[list(e) for e in zip(*self.generators)]\n",
    "        nterms=len(iheq[0])\n",
    "        for i in range(len(x)):\n",
    "            iheq[i].append(-x[i])\n",
    "        cono = Cone(inhom_equations=iheq)\n",
    "        facts = cono.ModuleGenerators(DualMode=True)\n",
    "        if facts == []:\n",
    "            return []\n",
    "        else:\n",
    "            return [e[0:nterms] for e in facts]\n",
    "    \n",
    "def belongsByGens(x, gens):\n",
    "    '''\n",
    "    x is a numpy.array\n",
    "    gens is a list of list whose size is equal to x length\n",
    "    Returns True in case x = a_1*gens[0]+...+a_·*gens[·]\n",
    "    '''\n",
    "    if gens==[]:\n",
    "        return False\n",
    "    if all(e==0 for e in x):\n",
    "        return True\n",
    "    if any(e<0 for e in x):\n",
    "        return False\n",
    "    if belongsByGens(x-np.array(gens[0]), gens):\n",
    "        return True\n",
    "    elif len(gens)==1: \n",
    "        return False\n",
    "    else: \n",
    "        return belongsByGens(x, gens[-(len(gens)-1):])"
   ]
  },
  {
   "cell_type": "code",
   "execution_count": null,
   "metadata": {},
   "outputs": [],
   "source": [
    "afs=AffineSemigroup([[[-2,1],3],[[9,1],8]], \"equations\")\n",
    "print(afs.getMSG())\n",
    "print(afs)\n",
    "afs.getExpressions([445, 11])"
   ]
  },
  {
   "cell_type": "code",
   "execution_count": null,
   "metadata": {
    "scrolled": false
   },
   "outputs": [],
   "source": [
    "afs=AffineSemigroup([[[4,-2,1],3],[[2,9,1],5]], \"equations\")\n",
    "print(afs.getMSG())\n",
    "afs.getExpressions([1, 26, 24])"
   ]
  },
  {
   "cell_type": "code",
   "execution_count": null,
   "metadata": {},
   "outputs": [],
   "source": [
    "afs=AffineSemigroup([[-2,1,1,0],[-10,21,3,9]], \"inequations\")\n",
    "print(afs.getMSG())\n",
    "afs.getExpressions([10, 1, 6, 4])\n",
    "#afs.getExpressions([8, 1, 16, 5]) # Puede tardar...\n",
    "#afs.getExpressions([38, 5, 41, 28])"
   ]
  },
  {
   "cell_type": "code",
   "execution_count": null,
   "metadata": {},
   "outputs": [],
   "source": [
    "afs=AffineSemigroup([[-23,11,9,1],[-10,21,13,9],[1,12,0,1]], \"inequations\")\n",
    "print(afs.getMSG())\n",
    "#afs.getExpressions([10, 21, 1, 0])\n",
    "afs.getExpressions([8, 1, 16, 5])"
   ]
  },
  {
   "cell_type": "code",
   "execution_count": null,
   "metadata": {},
   "outputs": [],
   "source": [
    "afs=AffineSemigroup([[13,190, 9,2],[15,18,14,3],[6,7,2,1],[5,11,1,4],[3,4,10,1]], \"generators\")\n",
    "print(afs.getMSG())\n",
    "afs.getExpressions([28, 208, 23, 5])"
   ]
  }
 ],
 "metadata": {
  "kernelspec": {
   "display_name": "Python 3",
   "language": "python",
   "name": "python3"
  },
  "language_info": {
   "codemirror_mode": {
    "name": "ipython",
    "version": 3
   },
   "file_extension": ".py",
   "mimetype": "text/x-python",
   "name": "python",
   "nbconvert_exporter": "python",
   "pygments_lexer": "ipython3",
   "version": "3.6.8"
  }
 },
 "nbformat": 4,
 "nbformat_minor": 2
}

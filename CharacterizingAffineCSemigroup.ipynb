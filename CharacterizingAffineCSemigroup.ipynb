{
 "cells": [
  {
   "cell_type": "code",
   "execution_count": 1,
   "metadata": {},
   "outputs": [],
   "source": [
    "import PyNormaliz\n",
    "from PyNormaliz import *\n",
    "import numpy\n",
    "from numpy import *\n",
    "import itertools\n",
    "from itertools import *\n",
    "from scipy.spatial import ConvexHull"
   ]
  },
  {
   "cell_type": "code",
   "execution_count": 2,
   "metadata": {},
   "outputs": [],
   "source": [
    "import sys\n",
    "sys.path.insert(0, './Class/')\n",
    "import integerSmithNormalFormAndApplications\n",
    "from integerSmithNormalFormAndApplications import *"
   ]
  },
  {
   "cell_type": "markdown",
   "metadata": {},
   "source": [
    "Veamos algunos ejemplos de semigrupos afines y veamos si son $\\mathcal{C}$-semigrupos."
   ]
  },
  {
   "cell_type": "code",
   "execution_count": 3,
   "metadata": {},
   "outputs": [],
   "source": [
    "gen0 = [[3,0],[4,0],[5,0],[2,2],[3,3],[4,3],[5,3],[5,1],[6,1],[7,1],[5,4],[5,5]]"
   ]
  },
  {
   "cell_type": "code",
   "execution_count": 4,
   "metadata": {},
   "outputs": [],
   "source": [
    "gen1 = [[3,3],[4,4],[5,5],[5,0],[5,1],[5,2],[5,3],[5,4],[6,0]]"
   ]
  },
  {
   "cell_type": "code",
   "execution_count": 5,
   "metadata": {},
   "outputs": [],
   "source": [
    "# En primer lugar calculamos el cono de los generadores."
   ]
  },
  {
   "cell_type": "code",
   "execution_count": 6,
   "metadata": {},
   "outputs": [],
   "source": [
    "C0 = Cone(cone=gen0)\n",
    "C1 = Cone(cone=gen1)"
   ]
  },
  {
   "cell_type": "code",
   "execution_count": 7,
   "metadata": {},
   "outputs": [
    {
     "data": {
      "text/latex": [
       "$$\\left ( \\left [ \\left [ 1, \\quad 0\\right ], \\quad \\left [ 1, \\quad 1\\right ]\\right ], \\quad \\left [ \\left [ 1, \\quad 0\\right ], \\quad \\left [ 1, \\quad 1\\right ]\\right ]\\right )$$"
      ],
      "text/plain": [
       "([[1, 0], [1, 1]], [[1, 0], [1, 1]])"
      ]
     },
     "execution_count": 7,
     "metadata": {},
     "output_type": "execute_result"
    }
   ],
   "source": [
    "rayos0 = C0.ExtremeRays()\n",
    "rayos1 = C1.ExtremeRays()\n",
    "rayos0,rayos1"
   ]
  },
  {
   "cell_type": "code",
   "execution_count": 8,
   "metadata": {},
   "outputs": [
    {
     "data": {
      "text/latex": [
       "$$\\left ( 2, \\quad 2\\right )$$"
      ],
      "text/plain": [
       "(2, 2)"
      ]
     },
     "execution_count": 8,
     "metadata": {},
     "output_type": "execute_result"
    }
   ],
   "source": [
    "q0 = len(rayos0)\n",
    "q1 = len(rayos1)\n",
    "q0,q1"
   ]
  },
  {
   "cell_type": "markdown",
   "metadata": {},
   "source": [
    "Vemos ahora si en los ejes se forma un semigrupo."
   ]
  },
  {
   "cell_type": "code",
   "execution_count": 9,
   "metadata": {},
   "outputs": [],
   "source": [
    "# Check if all the coordinates are positives.\n",
    "def BelongQPositive(v):\n",
    "    for i in range(len(v)):\n",
    "        if v[i] < 0:\n",
    "            return False\n",
    "    return True"
   ]
  },
  {
   "cell_type": "code",
   "execution_count": 10,
   "metadata": {},
   "outputs": [],
   "source": [
    "# Pertenece a un eje y si es así, devuelve el múltiplo.\n",
    "# INPUT:\n",
    "#   - x: Value for checking if it is in the ray.\n",
    "#   - r: Minimal value in the ray.\n",
    "# OUTPUT:\n",
    "#   - 0: If not belongs to the ray.\n",
    "#   - A value if belongs to the ray.\n",
    "def BelongAxis(x,r):\n",
    "    coef = x[0]/r[0]\n",
    "    aux2 = [j/coef for j in x]\n",
    "    if aux2 == r:\n",
    "        if(int(coef)==coef):\n",
    "            return int(coef)\n",
    "        return coef\n",
    "    else:\n",
    "        return 0"
   ]
  },
  {
   "cell_type": "code",
   "execution_count": 11,
   "metadata": {},
   "outputs": [
    {
     "data": {
      "text/latex": [
       "$$3$$"
      ],
      "text/plain": [
       "3"
      ]
     },
     "execution_count": 11,
     "metadata": {},
     "output_type": "execute_result"
    }
   ],
   "source": [
    "BelongAxis([3,0],[1,0])"
   ]
  },
  {
   "cell_type": "code",
   "execution_count": 12,
   "metadata": {},
   "outputs": [],
   "source": [
    "# Vemos para un eje si se forma un semigrupo.\n",
    "# INPUT:\n",
    "#   - gen: Set of generators.\n",
    "#   - r: Minimal value in the ray.\n",
    "# OUTPUT:\n",
    "#   - True/False.\n",
    "def AxisIsSemigroup(gen,r):\n",
    "    aux = []\n",
    "    for x in gen:\n",
    "        aux.append(BelongAxis(x,r))\n",
    "    aux2 = [x for x in aux if x != 0]\n",
    "    if(gcdL(aux2) == 1):\n",
    "        return True\n",
    "    else:\n",
    "        return False"
   ]
  },
  {
   "cell_type": "code",
   "execution_count": 13,
   "metadata": {},
   "outputs": [
    {
     "data": {
      "text/plain": [
       "True"
      ]
     },
     "execution_count": 13,
     "metadata": {},
     "output_type": "execute_result"
    }
   ],
   "source": [
    "AxisIsSemigroup(gen0,[1,1])"
   ]
  },
  {
   "cell_type": "code",
   "execution_count": 14,
   "metadata": {},
   "outputs": [],
   "source": [
    "# Vemos si los ejes forman un semigrupo.\n",
    "# INPUT:\n",
    "#   - gen: Set of generators.\n",
    "#   - setR: Set of rays.\n",
    "# OUTPUT:\n",
    "#   - True/False.\n",
    "def AxisAreSemigroup(gen,setR):\n",
    "    aux = []\n",
    "    for x in setR:\n",
    "        aux.append(AxisIsSemigroup(gen,x))\n",
    "    return all(aux)"
   ]
  },
  {
   "cell_type": "code",
   "execution_count": 15,
   "metadata": {},
   "outputs": [
    {
     "data": {
      "text/plain": [
       "True"
      ]
     },
     "execution_count": 15,
     "metadata": {},
     "output_type": "execute_result"
    }
   ],
   "source": [
    "AxisAreSemigroup(gen0,rayos0)"
   ]
  },
  {
   "cell_type": "code",
   "execution_count": 16,
   "metadata": {},
   "outputs": [
    {
     "data": {
      "text/plain": [
       "True"
      ]
     },
     "execution_count": 16,
     "metadata": {},
     "output_type": "execute_result"
    }
   ],
   "source": [
    "AxisAreSemigroup(gen1,rayos1)"
   ]
  },
  {
   "cell_type": "markdown",
   "metadata": {},
   "source": [
    "Veamos ahora los puntos que hay dentro del *\"diamantito\"*"
   ]
  },
  {
   "cell_type": "code",
   "execution_count": 17,
   "metadata": {},
   "outputs": [],
   "source": [
    "# En primer lugar tenemos que calcular el diamante.\n",
    "# INPUT:\n",
    "#   - a: Minimal elements of the ray.\n",
    "# OUTPUT:\n",
    "#   - Points of the diamond\n",
    "def Diamond(a):\n",
    "    aux = list(a)\n",
    "    aux.append([0 for x in range(len(a))])\n",
    "    for i in range(len(a)):\n",
    "        for j in range(i+1,len(a)):\n",
    "            aux.append(array(a[i])+array(a[j]))\n",
    "    return [list(x) for x in  aux]"
   ]
  },
  {
   "cell_type": "code",
   "execution_count": 18,
   "metadata": {},
   "outputs": [
    {
     "data": {
      "text/plain": [
       "([[1, 0], [1, 1], [0, 0], [2, 1]], [[1, 0], [1, 1], [0, 0], [2, 1]])"
      ]
     },
     "execution_count": 18,
     "metadata": {},
     "output_type": "execute_result"
    }
   ],
   "source": [
    "diamante0 = Diamond(rayos0)\n",
    "diamante1 = Diamond(rayos1)\n",
    "diamante0,diamante1"
   ]
  },
  {
   "cell_type": "code",
   "execution_count": 31,
   "metadata": {},
   "outputs": [
    {
     "data": {
      "text/plain": [
       "\"\\nfrom scipy.spatial import ConvexHull\\npoints = np.random.rand(30, 2)\\nhull = ConvexHull(points)\\nimport matplotlib.pyplot as plt\\nplt.plot(points[:,0], points[:,1], 'o')\\nfor simplex in hull.simplices:\\n     plt.plot(points[simplex, 0], points[simplex, 1], 'k-')\\nplt.plot(points[hull.vertices,0], points[hull.vertices,1], 'r--', lw=2)\\nplt.plot(points[hull.vertices[0],0], points[hull.vertices[0],1], 'ro')\\nplt.show()\\n\""
      ]
     },
     "execution_count": 31,
     "metadata": {},
     "output_type": "execute_result"
    }
   ],
   "source": [
    "'''\n",
    "from scipy.spatial import ConvexHull\n",
    "points = np.random.rand(30, 2)\n",
    "hull = ConvexHull(points)\n",
    "import matplotlib.pyplot as plt\n",
    "plt.plot(points[:,0], points[:,1], 'o')\n",
    "for simplex in hull.simplices:\n",
    "     plt.plot(points[simplex, 0], points[simplex, 1], 'k-')\n",
    "plt.plot(points[hull.vertices,0], points[hull.vertices,1], 'r--', lw=2)\n",
    "plt.plot(points[hull.vertices[0],0], points[hull.vertices[0],1], 'ro')\n",
    "plt.show()\n",
    "'''"
   ]
  },
  {
   "cell_type": "code",
   "execution_count": 20,
   "metadata": {},
   "outputs": [
    {
     "data": {
      "text/latex": [
       "$$\\left ( \\left [ \\left [ -0.7071067811865475, \\quad 0.7071067811865475, \\quad -0.0\\right ], \\quad \\left [ -0.0, \\quad 1.0, \\quad -1.0\\right ], \\quad \\left [ -0.0, \\quad -1.0, \\quad 0.0\\right ], \\quad \\left [ 0.7071067811865475, \\quad -0.7071067811865475, \\quad -0.7071067811865475\\right ]\\right ], \\quad \\left [ \\left [ -0.7071067811865475, \\quad 0.7071067811865475, \\quad -0.0\\right ], \\quad \\left [ -0.0, \\quad 1.0, \\quad -1.0\\right ], \\quad \\left [ -0.0, \\quad -1.0, \\quad 0.0\\right ], \\quad \\left [ 0.7071067811865475, \\quad -0.7071067811865475, \\quad -0.7071067811865475\\right ]\\right ]\\right )$$"
      ],
      "text/plain": [
       "([[-0.7071067811865475, 0.7071067811865475, -0.0], [-0.0, 1.0, -1.0], [-0.0, -\n",
       "1.0, 0.0], [0.7071067811865475, -0.7071067811865475, -0.7071067811865475]], [[\n",
       "-0.7071067811865475, 0.7071067811865475, -0.0], [-0.0, 1.0, -1.0], [-0.0, -1.0\n",
       ", 0.0], [0.7071067811865475, -0.7071067811865475, -0.7071067811865475]])"
      ]
     },
     "execution_count": 20,
     "metadata": {},
     "output_type": "execute_result"
    }
   ],
   "source": [
    "hull0 = ConvexHull(diamante0)\n",
    "eq0 = [list(x) for x in hull0.equations]\n",
    "hull1 = ConvexHull(diamante1)\n",
    "eq1 = [list(x) for x in hull1.equations]\n",
    "eq0,eq1"
   ]
  },
  {
   "cell_type": "code",
   "execution_count": 21,
   "metadata": {},
   "outputs": [],
   "source": [
    "# Ahora veremos si un punto pertenece al diamante o no.\n",
    "# INPUT:\n",
    "#   - pt: Punto para comprobar la pertenencia.\n",
    "#   - eq: Ecuaciones del diamante.\n",
    "# OUTPUT:\n",
    "#   - True/False.\n",
    "def PointBelongsDiamond(pt,eq):\n",
    "    dim = len(pt)\n",
    "    for x in eq:\n",
    "        sum = 0\n",
    "        for i in range(dim):\n",
    "            sum = sum + pt[i]*x[i]\n",
    "        sum = round(sum+x[-1],10)\n",
    "        if sum > 0:\n",
    "            return False\n",
    "    return True"
   ]
  },
  {
   "cell_type": "code",
   "execution_count": 22,
   "metadata": {},
   "outputs": [
    {
     "data": {
      "text/plain": [
       "True"
      ]
     },
     "execution_count": 22,
     "metadata": {},
     "output_type": "execute_result"
    }
   ],
   "source": [
    "PointBelongsDiamond([1,1],eq0)"
   ]
  },
  {
   "cell_type": "code",
   "execution_count": 23,
   "metadata": {},
   "outputs": [],
   "source": [
    "# Calculo el menor cuboide que contenga al diamante.\n",
    "# INPUT:\n",
    "#   - d: Vértices del diamante.\n",
    "# OUTPUT:\n",
    "#   - Máximos en cada coordenada del cubo.\n",
    "def Cube(d):\n",
    "    dim = len(d[0])\n",
    "    aux = []\n",
    "    for i in range(dim):\n",
    "        aux.append(sorted(d, key = lambda x: x[i])[-1][i])\n",
    "    return(aux)"
   ]
  },
  {
   "cell_type": "code",
   "execution_count": 24,
   "metadata": {},
   "outputs": [
    {
     "data": {
      "text/plain": [
       "([2, 1], [2, 1])"
      ]
     },
     "execution_count": 24,
     "metadata": {},
     "output_type": "execute_result"
    }
   ],
   "source": [
    "cube0 = Cube(diamante0)\n",
    "cube1 = Cube(diamante1)\n",
    "cube0,cube1"
   ]
  },
  {
   "cell_type": "code",
   "execution_count": 25,
   "metadata": {},
   "outputs": [],
   "source": [
    "# Calculamos todos los puntos del diamante.\n",
    "# INPUT:\n",
    "#   - eq: Ecuaciones que definen el diamante.\n",
    "# OUTPUT:\n",
    "#   - Puntos enteros del diamante.\n",
    "def IntegerDiamond(eq,cube):\n",
    "    d = []\n",
    "    it = product(*[range(i+1) for i in cube])\n",
    "    for x in it:\n",
    "        if PointBelongsDiamond(list(x),eq):\n",
    "            d.append(list(x))\n",
    "    return d"
   ]
  },
  {
   "cell_type": "code",
   "execution_count": 30,
   "metadata": {},
   "outputs": [
    {
     "data": {
      "text/latex": [
       "$$\\left ( \\left [ \\left [ 0, \\quad 0\\right ], \\quad \\left [ 1, \\quad 0\\right ], \\quad \\left [ 1, \\quad 1\\right ], \\quad \\left [ 2, \\quad 1\\right ]\\right ], \\quad \\left [ \\left [ 0, \\quad 0\\right ], \\quad \\left [ 1, \\quad 0\\right ], \\quad \\left [ 1, \\quad 1\\right ], \\quad \\left [ 2, \\quad 1\\right ]\\right ]\\right )$$"
      ],
      "text/plain": [
       "([[0, 0], [1, 0], [1, 1], [2, 1]], [[0, 0], [1, 0], [1, 1], [2, 1]])"
      ]
     },
     "execution_count": 30,
     "metadata": {},
     "output_type": "execute_result"
    }
   ],
   "source": [
    "diamanteEntero0 = IntegerDiamond(eq0,cube0)\n",
    "diamanteEntero1 = IntegerDiamond(eq1,cube1)\n",
    "diamanteEntero0,diamanteEntero1"
   ]
  },
  {
   "cell_type": "code",
   "execution_count": 28,
   "metadata": {},
   "outputs": [
    {
     "data": {
      "text/latex": [
       "$$\\left [ \\left [ 0, \\quad 0\\right ], \\quad \\left [ 1, \\quad 1\\right ], \\quad \\left [ 1, \\quad 2\\right ], \\quad \\left [ 1, \\quad 3\\right ], \\quad \\left [ 2, \\quad 1\\right ], \\quad \\left [ 2, \\quad 2\\right ], \\quad \\left [ 2, \\quad 3\\right ], \\quad \\left [ 3, \\quad 2\\right ], \\quad \\left [ 3, \\quad 3\\right ], \\quad \\left [ 4, \\quad 2\\right ], \\quad \\left [ 4, \\quad 3\\right ], \\quad \\left [ 4, \\quad 4\\right ], \\quad \\left [ 5, \\quad 2\\right ], \\quad \\left [ 5, \\quad 3\\right ], \\quad \\left [ 5, \\quad 4\\right ], \\quad \\left [ 6, \\quad 5\\right ]\\right ]$$"
      ],
      "text/plain": [
       "[[0, 0], [1, 1], [1, 2], [1, 3], [2, 1], [2, 2], [2, 3], [3, 2], [3, 3], [4, 2\n",
       "], [4, 3], [4, 4], [5, 2], [5, 3], [5, 4], [6, 5]]"
      ]
     },
     "execution_count": 28,
     "metadata": {},
     "output_type": "execute_result"
    }
   ],
   "source": [
    "eq=ConvexHull(Diamond([[1,3],[5,2]])).equations\n",
    "IntegerDiamond(eq,[6,5])"
   ]
  },
  {
   "cell_type": "markdown",
   "metadata": {},
   "source": [
    "A continuación, veremos para cada rayo el semigrupo afín generado por los términos independientes de las ecuaciones en los puntos enteros del diamante."
   ]
  },
  {
   "cell_type": "code",
   "execution_count": 35,
   "metadata": {},
   "outputs": [
    {
     "data": {
      "text/latex": [
       "$$\\left [ \\left [ 0, \\quad 1\\right ], \\quad \\left [ 1, \\quad -1\\right ]\\right ]$$"
      ],
      "text/plain": [
       "[[0, 1], [1, -1]]"
      ]
     },
     "execution_count": 35,
     "metadata": {},
     "output_type": "execute_result"
    }
   ],
   "source": [
    "C0.SupportHyperplanes()"
   ]
  },
  {
   "cell_type": "code",
   "execution_count": 37,
   "metadata": {},
   "outputs": [
    {
     "data": {
      "text/latex": [
       "$$\\left [ \\left [ 0, \\quad -1, \\quad 1\\right ], \\quad \\left [ 0, \\quad 5, \\quad -4\\right ], \\quad \\left [ 5, \\quad -5, \\quad 1\\right ]\\right ]$$"
      ],
      "text/plain": [
       "[[0, -1, 1], [0, 5, -4], [5, -5, 1]]"
      ]
     },
     "execution_count": 37,
     "metadata": {},
     "output_type": "execute_result"
    }
   ],
   "source": [
    "Cone(cone=[[1,0,0],[3,4,5],[4,5,5]]).SupportHyperplanes()"
   ]
  },
  {
   "cell_type": "code",
   "execution_count": null,
   "metadata": {},
   "outputs": [],
   "source": [
    "def AffineTerm(pt,ray):\n",
    "    "
   ]
  }
 ],
 "metadata": {
  "kernelspec": {
   "display_name": "Python 3",
   "language": "python",
   "name": "python3"
  },
  "language_info": {
   "codemirror_mode": {
    "name": "ipython",
    "version": 3
   },
   "file_extension": ".py",
   "mimetype": "text/x-python",
   "name": "python",
   "nbconvert_exporter": "python",
   "pygments_lexer": "ipython3",
   "version": "3.6.3"
  }
 },
 "nbformat": 4,
 "nbformat_minor": 2
}
